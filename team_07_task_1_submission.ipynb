{
 "cells": [
  {
   "cell_type": "markdown",
   "source": [
    "# Data Science Project SoSe 2024\n",
    "## Team 07\n",
    "- Kilian Kempf\n",
    "- Tom Schuck\n",
    "- Daniel Schneider\n",
    "- Max Hoffman\n",
    "\n",
    "## Submission of Task 1"
   ],
   "metadata": {
    "collapsed": false
   },
   "id": "b6a82dcd4af78517"
  },
  {
   "cell_type": "markdown",
   "source": [
    "### Data Preparation"
   ],
   "metadata": {
    "collapsed": false
   },
   "id": "e7c0440c8f245023"
  },
  {
   "cell_type": "code",
   "outputs": [],
   "source": [
    "import os\n",
    "\n",
    "import pandas as pd\n",
    "\n",
    "DATA_DIR = os.path.join(os.getcwd(), 'data/Instacart')\n",
    "\n",
    "orders = pd.read_csv(os.path.join(DATA_DIR, 'orders.csv.zip'))\n",
    "order = orders[orders['eval_set'].isin(['prior', 'train'])]"
   ],
   "metadata": {
    "collapsed": false,
    "ExecuteTime": {
     "end_time": "2024-04-21T14:12:34.815171900Z",
     "start_time": "2024-04-21T14:12:33.330623900Z"
    }
   },
   "id": "6946553fccec9448",
   "execution_count": 7
  },
  {
   "cell_type": "markdown",
   "source": [
    "### Task 1.1"
   ],
   "metadata": {
    "collapsed": false
   },
   "id": "7eb8f6567e46524d"
  },
  {
   "cell_type": "code",
   "outputs": [],
   "source": [
    "orders['rel_order_number'] = orders['order_number'] / orders.groupby('user_id')['order_number'].transform('max')"
   ],
   "metadata": {
    "collapsed": false,
    "ExecuteTime": {
     "end_time": "2024-04-21T14:12:34.912799300Z",
     "start_time": "2024-04-21T14:12:34.814169200Z"
    }
   },
   "id": "bf86b953ccd7e7c5",
   "execution_count": 8
  },
  {
   "cell_type": "markdown",
   "source": [
    "### Task 1.2"
   ],
   "metadata": {
    "collapsed": false
   },
   "id": "b736ac61f62430be"
  },
  {
   "cell_type": "code",
   "outputs": [
    {
     "name": "stdout",
     "output_type": "stream",
     "text": [
      "User 1:\n",
      "    order_id  user_id eval_set  order_number  order_dow  order_hour_of_day  \\\n",
      "0    2539329        1    prior             1          2                  8   \n",
      "1    2398795        1    prior             2          3                  7   \n",
      "2     473747        1    prior             3          3                 12   \n",
      "3    2254736        1    prior             4          4                  7   \n",
      "4     431534        1    prior             5          4                 15   \n",
      "5    3367565        1    prior             6          2                  7   \n",
      "6     550135        1    prior             7          1                  9   \n",
      "7    3108588        1    prior             8          1                 14   \n",
      "8    2295261        1    prior             9          1                 16   \n",
      "9    2550362        1    prior            10          4                  8   \n",
      "10   1187899        1    train            11          4                  8   \n",
      "\n",
      "    days_since_prior_order  rel_order_number  \n",
      "0                      NaN          0.090909  \n",
      "1                     15.0          0.181818  \n",
      "2                     21.0          0.272727  \n",
      "3                     29.0          0.363636  \n",
      "4                     28.0          0.454545  \n",
      "5                     19.0          0.545455  \n",
      "6                     20.0          0.636364  \n",
      "7                     14.0          0.727273  \n",
      "8                      0.0          0.818182  \n",
      "9                     30.0          0.909091  \n",
      "10                    14.0          1.000000  \n"
     ]
    }
   ],
   "source": [
    "print(f\"User 1:\\n{orders[orders['user_id'] == 1]}\")"
   ],
   "metadata": {
    "collapsed": false,
    "ExecuteTime": {
     "end_time": "2024-04-21T14:12:34.919529500Z",
     "start_time": "2024-04-21T14:12:34.908874900Z"
    }
   },
   "id": "84388205ee2138ed",
   "execution_count": 9
  }
 ],
 "metadata": {
  "kernelspec": {
   "display_name": "Python 3",
   "language": "python",
   "name": "python3"
  },
  "language_info": {
   "codemirror_mode": {
    "name": "ipython",
    "version": 2
   },
   "file_extension": ".py",
   "mimetype": "text/x-python",
   "name": "python",
   "nbconvert_exporter": "python",
   "pygments_lexer": "ipython2",
   "version": "2.7.6"
  }
 },
 "nbformat": 4,
 "nbformat_minor": 5
}
