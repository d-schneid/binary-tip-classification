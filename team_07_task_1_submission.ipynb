{
 "cells": [
  {
   "cell_type": "markdown",
   "source": [
    "# Data Science Project SoSe 2024\n",
    "## Team 07\n",
    "- Maximilian Hoffmann\n",
    "- Kilian Kempf\n",
    "- Daniel Schneider\n",
    "- Tom Schuck\n",
    "\n",
    "## Submission of Task 1"
   ],
   "metadata": {
    "collapsed": false
   },
   "id": "b6a82dcd4af78517"
  },
  {
   "cell_type": "markdown",
   "source": [
    "### Data Preparation"
   ],
   "metadata": {
    "collapsed": false
   },
   "id": "e7c0440c8f245023"
  },
  {
   "cell_type": "code",
   "outputs": [],
   "source": [
    "import os\n",
    "\n",
    "import pandas as pd\n",
    "\n",
    "DATA_DIR = os.path.join(os.getcwd(), 'data/Instacart')\n",
    "\n",
    "orders = pd.read_csv(os.path.join(DATA_DIR, 'orders.csv.zip'))\n",
    "orders = orders[orders['eval_set'].isin(['prior', 'train'])]"
   ],
   "metadata": {
    "collapsed": false,
    "ExecuteTime": {
     "end_time": "2024-04-23T14:32:57.024838100Z",
     "start_time": "2024-04-23T14:32:55.235319400Z"
    }
   },
   "id": "6946553fccec9448",
   "execution_count": 1
  },
  {
   "cell_type": "markdown",
   "source": [
    "### Task 1.1"
   ],
   "metadata": {
    "collapsed": false
   },
   "id": "7eb8f6567e46524d"
  },
  {
   "cell_type": "code",
   "outputs": [
    {
     "data": {
      "text/plain": "   user_id  num_orders\n0        1          11\n1        2          15\n2        3          12\n3        4           5\n4        5           5",
      "text/html": "<div>\n<style scoped>\n    .dataframe tbody tr th:only-of-type {\n        vertical-align: middle;\n    }\n\n    .dataframe tbody tr th {\n        vertical-align: top;\n    }\n\n    .dataframe thead th {\n        text-align: right;\n    }\n</style>\n<table border=\"1\" class=\"dataframe\">\n  <thead>\n    <tr style=\"text-align: right;\">\n      <th></th>\n      <th>user_id</th>\n      <th>num_orders</th>\n    </tr>\n  </thead>\n  <tbody>\n    <tr>\n      <th>0</th>\n      <td>1</td>\n      <td>11</td>\n    </tr>\n    <tr>\n      <th>1</th>\n      <td>2</td>\n      <td>15</td>\n    </tr>\n    <tr>\n      <th>2</th>\n      <td>3</td>\n      <td>12</td>\n    </tr>\n    <tr>\n      <th>3</th>\n      <td>4</td>\n      <td>5</td>\n    </tr>\n    <tr>\n      <th>4</th>\n      <td>5</td>\n      <td>5</td>\n    </tr>\n  </tbody>\n</table>\n</div>"
     },
     "execution_count": 2,
     "metadata": {},
     "output_type": "execute_result"
    }
   ],
   "source": [
    "num_orders = orders[['user_id', 'order_number']].groupby('user_id').count().reset_index()\n",
    "num_orders.rename(columns={'order_number': 'num_orders'}, inplace=True)\n",
    "num_orders.head()"
   ],
   "metadata": {
    "collapsed": false,
    "ExecuteTime": {
     "end_time": "2024-04-23T14:32:57.119593800Z",
     "start_time": "2024-04-23T14:32:57.016944400Z"
    }
   },
   "id": "10503b3bdb5fcea9",
   "execution_count": 2
  },
  {
   "cell_type": "code",
   "outputs": [
    {
     "data": {
      "text/plain": "   order_id  user_id eval_set  order_number  order_dow  order_hour_of_day  \\\n0   2539329        1    prior             1          2                  8   \n1   2398795        1    prior             2          3                  7   \n2    473747        1    prior             3          3                 12   \n3   2254736        1    prior             4          4                  7   \n4    431534        1    prior             5          4                 15   \n\n   days_since_prior_order  rel_order_number  \n0                     NaN          0.090909  \n1                    15.0          0.181818  \n2                    21.0          0.272727  \n3                    29.0          0.363636  \n4                    28.0          0.454545  ",
      "text/html": "<div>\n<style scoped>\n    .dataframe tbody tr th:only-of-type {\n        vertical-align: middle;\n    }\n\n    .dataframe tbody tr th {\n        vertical-align: top;\n    }\n\n    .dataframe thead th {\n        text-align: right;\n    }\n</style>\n<table border=\"1\" class=\"dataframe\">\n  <thead>\n    <tr style=\"text-align: right;\">\n      <th></th>\n      <th>order_id</th>\n      <th>user_id</th>\n      <th>eval_set</th>\n      <th>order_number</th>\n      <th>order_dow</th>\n      <th>order_hour_of_day</th>\n      <th>days_since_prior_order</th>\n      <th>rel_order_number</th>\n    </tr>\n  </thead>\n  <tbody>\n    <tr>\n      <th>0</th>\n      <td>2539329</td>\n      <td>1</td>\n      <td>prior</td>\n      <td>1</td>\n      <td>2</td>\n      <td>8</td>\n      <td>NaN</td>\n      <td>0.090909</td>\n    </tr>\n    <tr>\n      <th>1</th>\n      <td>2398795</td>\n      <td>1</td>\n      <td>prior</td>\n      <td>2</td>\n      <td>3</td>\n      <td>7</td>\n      <td>15.0</td>\n      <td>0.181818</td>\n    </tr>\n    <tr>\n      <th>2</th>\n      <td>473747</td>\n      <td>1</td>\n      <td>prior</td>\n      <td>3</td>\n      <td>3</td>\n      <td>12</td>\n      <td>21.0</td>\n      <td>0.272727</td>\n    </tr>\n    <tr>\n      <th>3</th>\n      <td>2254736</td>\n      <td>1</td>\n      <td>prior</td>\n      <td>4</td>\n      <td>4</td>\n      <td>7</td>\n      <td>29.0</td>\n      <td>0.363636</td>\n    </tr>\n    <tr>\n      <th>4</th>\n      <td>431534</td>\n      <td>1</td>\n      <td>prior</td>\n      <td>5</td>\n      <td>4</td>\n      <td>15</td>\n      <td>28.0</td>\n      <td>0.454545</td>\n    </tr>\n  </tbody>\n</table>\n</div>"
     },
     "execution_count": 3,
     "metadata": {},
     "output_type": "execute_result"
    }
   ],
   "source": [
    "orders = pd.merge(orders, num_orders).rename(columns={'num_orders': 'rel_order_number'})\n",
    "orders['rel_order_number'] = orders['order_number'] / orders['rel_order_number']\n",
    "orders.head()"
   ],
   "metadata": {
    "collapsed": false,
    "ExecuteTime": {
     "end_time": "2024-04-23T14:32:57.402667500Z",
     "start_time": "2024-04-23T14:32:57.104721200Z"
    }
   },
   "id": "dc2fb8ab2e9fc948",
   "execution_count": 3
  },
  {
   "cell_type": "markdown",
   "source": [
    "### Task 1.2"
   ],
   "metadata": {
    "collapsed": false
   },
   "id": "b736ac61f62430be"
  },
  {
   "cell_type": "code",
   "outputs": [
    {
     "name": "stdout",
     "output_type": "stream",
     "text": [
      "User 1:\n"
     ]
    },
    {
     "data": {
      "text/plain": "    order_id  user_id eval_set  order_number  order_dow  order_hour_of_day  \\\n0    2539329        1    prior             1          2                  8   \n1    2398795        1    prior             2          3                  7   \n2     473747        1    prior             3          3                 12   \n3    2254736        1    prior             4          4                  7   \n4     431534        1    prior             5          4                 15   \n5    3367565        1    prior             6          2                  7   \n6     550135        1    prior             7          1                  9   \n7    3108588        1    prior             8          1                 14   \n8    2295261        1    prior             9          1                 16   \n9    2550362        1    prior            10          4                  8   \n10   1187899        1    train            11          4                  8   \n\n    days_since_prior_order  rel_order_number  \n0                      NaN          0.090909  \n1                     15.0          0.181818  \n2                     21.0          0.272727  \n3                     29.0          0.363636  \n4                     28.0          0.454545  \n5                     19.0          0.545455  \n6                     20.0          0.636364  \n7                     14.0          0.727273  \n8                      0.0          0.818182  \n9                     30.0          0.909091  \n10                    14.0          1.000000  ",
      "text/html": "<div>\n<style scoped>\n    .dataframe tbody tr th:only-of-type {\n        vertical-align: middle;\n    }\n\n    .dataframe tbody tr th {\n        vertical-align: top;\n    }\n\n    .dataframe thead th {\n        text-align: right;\n    }\n</style>\n<table border=\"1\" class=\"dataframe\">\n  <thead>\n    <tr style=\"text-align: right;\">\n      <th></th>\n      <th>order_id</th>\n      <th>user_id</th>\n      <th>eval_set</th>\n      <th>order_number</th>\n      <th>order_dow</th>\n      <th>order_hour_of_day</th>\n      <th>days_since_prior_order</th>\n      <th>rel_order_number</th>\n    </tr>\n  </thead>\n  <tbody>\n    <tr>\n      <th>0</th>\n      <td>2539329</td>\n      <td>1</td>\n      <td>prior</td>\n      <td>1</td>\n      <td>2</td>\n      <td>8</td>\n      <td>NaN</td>\n      <td>0.090909</td>\n    </tr>\n    <tr>\n      <th>1</th>\n      <td>2398795</td>\n      <td>1</td>\n      <td>prior</td>\n      <td>2</td>\n      <td>3</td>\n      <td>7</td>\n      <td>15.0</td>\n      <td>0.181818</td>\n    </tr>\n    <tr>\n      <th>2</th>\n      <td>473747</td>\n      <td>1</td>\n      <td>prior</td>\n      <td>3</td>\n      <td>3</td>\n      <td>12</td>\n      <td>21.0</td>\n      <td>0.272727</td>\n    </tr>\n    <tr>\n      <th>3</th>\n      <td>2254736</td>\n      <td>1</td>\n      <td>prior</td>\n      <td>4</td>\n      <td>4</td>\n      <td>7</td>\n      <td>29.0</td>\n      <td>0.363636</td>\n    </tr>\n    <tr>\n      <th>4</th>\n      <td>431534</td>\n      <td>1</td>\n      <td>prior</td>\n      <td>5</td>\n      <td>4</td>\n      <td>15</td>\n      <td>28.0</td>\n      <td>0.454545</td>\n    </tr>\n    <tr>\n      <th>5</th>\n      <td>3367565</td>\n      <td>1</td>\n      <td>prior</td>\n      <td>6</td>\n      <td>2</td>\n      <td>7</td>\n      <td>19.0</td>\n      <td>0.545455</td>\n    </tr>\n    <tr>\n      <th>6</th>\n      <td>550135</td>\n      <td>1</td>\n      <td>prior</td>\n      <td>7</td>\n      <td>1</td>\n      <td>9</td>\n      <td>20.0</td>\n      <td>0.636364</td>\n    </tr>\n    <tr>\n      <th>7</th>\n      <td>3108588</td>\n      <td>1</td>\n      <td>prior</td>\n      <td>8</td>\n      <td>1</td>\n      <td>14</td>\n      <td>14.0</td>\n      <td>0.727273</td>\n    </tr>\n    <tr>\n      <th>8</th>\n      <td>2295261</td>\n      <td>1</td>\n      <td>prior</td>\n      <td>9</td>\n      <td>1</td>\n      <td>16</td>\n      <td>0.0</td>\n      <td>0.818182</td>\n    </tr>\n    <tr>\n      <th>9</th>\n      <td>2550362</td>\n      <td>1</td>\n      <td>prior</td>\n      <td>10</td>\n      <td>4</td>\n      <td>8</td>\n      <td>30.0</td>\n      <td>0.909091</td>\n    </tr>\n    <tr>\n      <th>10</th>\n      <td>1187899</td>\n      <td>1</td>\n      <td>train</td>\n      <td>11</td>\n      <td>4</td>\n      <td>8</td>\n      <td>14.0</td>\n      <td>1.000000</td>\n    </tr>\n  </tbody>\n</table>\n</div>"
     },
     "execution_count": 4,
     "metadata": {},
     "output_type": "execute_result"
    }
   ],
   "source": [
    "print(\"User 1:\\n\")\n",
    "orders[orders['user_id'] == 1]"
   ],
   "metadata": {
    "collapsed": false,
    "ExecuteTime": {
     "end_time": "2024-04-23T14:32:57.403703100Z",
     "start_time": "2024-04-23T14:32:57.384410100Z"
    }
   },
   "id": "84388205ee2138ed",
   "execution_count": 4
  }
 ],
 "metadata": {
  "kernelspec": {
   "display_name": "Python 3",
   "language": "python",
   "name": "python3"
  },
  "language_info": {
   "codemirror_mode": {
    "name": "ipython",
    "version": 2
   },
   "file_extension": ".py",
   "mimetype": "text/x-python",
   "name": "python",
   "nbconvert_exporter": "python",
   "pygments_lexer": "ipython2",
   "version": "2.7.6"
  }
 },
 "nbformat": 4,
 "nbformat_minor": 5
}
