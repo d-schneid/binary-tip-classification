{
 "cells": [
  {
   "cell_type": "markdown",
   "id": "b6a82dcd4af78517",
   "metadata": {
    "collapsed": false
   },
   "source": [
    "# Data Science Project SoSe 2024\n",
    "## Team 07\n",
    "- Maximilian Hoffmann\n",
    "- Kilian Kempf\n",
    "- Daniel Schneider\n",
    "- Tom Schuck\n",
    "\n",
    "## Submission of Task 2"
   ]
  },
  {
   "cell_type": "markdown",
   "id": "ed28b1f5-6008-4cea-a2b8-dd90ee976f31",
   "metadata": {},
   "source": [
    "### Libraries "
   ]
  },
  {
   "cell_type": "code",
   "execution_count": 300,
   "id": "9308ad6b-c0a7-4bc9-86af-48c6f1152275",
   "metadata": {
    "ExecuteTime": {
     "end_time": "2024-05-10T16:38:09.090240800Z",
     "start_time": "2024-05-10T16:38:08.995874700Z"
    }
   },
   "outputs": [],
   "source": [
    "import os\n",
    "\n",
    "import numpy as np\n",
    "import pandas as pd\n",
    "from sklearn.dummy import DummyClassifier\n",
    "from sklearn.metrics import accuracy_score\n",
    "from sklearn.model_selection import GridSearchCV, KFold, cross_val_score\n",
    "from sklearn.tree import DecisionTreeClassifier"
   ]
  },
  {
   "cell_type": "markdown",
   "id": "e7c0440c8f245023",
   "metadata": {
    "collapsed": false
   },
   "source": [
    "### Data Preparation"
   ]
  },
  {
   "cell_type": "code",
   "execution_count": 301,
   "id": "dd72ede771cc5730",
   "metadata": {
    "collapsed": false,
    "ExecuteTime": {
     "end_time": "2024-05-10T16:38:19.233977900Z",
     "start_time": "2024-05-10T16:38:09.094749500Z"
    }
   },
   "outputs": [
    {
     "data": {
      "text/plain": "         order_id  user_id eval_set  order_number  order_dow  \\\n0         2539329        1    prior             1          2   \n1         2398795        1    prior             2          3   \n2          473747        1    prior             3          3   \n3         2254736        1    prior             4          4   \n4          431534        1    prior             5          4   \n...           ...      ...      ...           ...        ...   \n3346078   2266710   206209    prior            10          5   \n3346079   1854736   206209    prior            11          4   \n3346080    626363   206209    prior            12          1   \n3346081   2977660   206209    prior            13          1   \n3346082    272231   206209    train            14          6   \n\n         order_hour_of_day  days_since_prior_order  tip  \n0                        8                     NaN  0.0  \n1                        7                    15.0  0.0  \n2                       12                    21.0  0.0  \n3                        7                    29.0  0.0  \n4                       15                    28.0  0.0  \n...                    ...                     ...  ...  \n3346078                 18                    29.0  0.0  \n3346079                 10                    30.0  0.0  \n3346080                 12                    18.0  0.0  \n3346081                 12                     7.0  0.0  \n3346082                 14                    30.0  NaN  \n\n[3346083 rows x 8 columns]",
      "text/html": "<div>\n<style scoped>\n    .dataframe tbody tr th:only-of-type {\n        vertical-align: middle;\n    }\n\n    .dataframe tbody tr th {\n        vertical-align: top;\n    }\n\n    .dataframe thead th {\n        text-align: right;\n    }\n</style>\n<table border=\"1\" class=\"dataframe\">\n  <thead>\n    <tr style=\"text-align: right;\">\n      <th></th>\n      <th>order_id</th>\n      <th>user_id</th>\n      <th>eval_set</th>\n      <th>order_number</th>\n      <th>order_dow</th>\n      <th>order_hour_of_day</th>\n      <th>days_since_prior_order</th>\n      <th>tip</th>\n    </tr>\n  </thead>\n  <tbody>\n    <tr>\n      <th>0</th>\n      <td>2539329</td>\n      <td>1</td>\n      <td>prior</td>\n      <td>1</td>\n      <td>2</td>\n      <td>8</td>\n      <td>NaN</td>\n      <td>0.0</td>\n    </tr>\n    <tr>\n      <th>1</th>\n      <td>2398795</td>\n      <td>1</td>\n      <td>prior</td>\n      <td>2</td>\n      <td>3</td>\n      <td>7</td>\n      <td>15.0</td>\n      <td>0.0</td>\n    </tr>\n    <tr>\n      <th>2</th>\n      <td>473747</td>\n      <td>1</td>\n      <td>prior</td>\n      <td>3</td>\n      <td>3</td>\n      <td>12</td>\n      <td>21.0</td>\n      <td>0.0</td>\n    </tr>\n    <tr>\n      <th>3</th>\n      <td>2254736</td>\n      <td>1</td>\n      <td>prior</td>\n      <td>4</td>\n      <td>4</td>\n      <td>7</td>\n      <td>29.0</td>\n      <td>0.0</td>\n    </tr>\n    <tr>\n      <th>4</th>\n      <td>431534</td>\n      <td>1</td>\n      <td>prior</td>\n      <td>5</td>\n      <td>4</td>\n      <td>15</td>\n      <td>28.0</td>\n      <td>0.0</td>\n    </tr>\n    <tr>\n      <th>...</th>\n      <td>...</td>\n      <td>...</td>\n      <td>...</td>\n      <td>...</td>\n      <td>...</td>\n      <td>...</td>\n      <td>...</td>\n      <td>...</td>\n    </tr>\n    <tr>\n      <th>3346078</th>\n      <td>2266710</td>\n      <td>206209</td>\n      <td>prior</td>\n      <td>10</td>\n      <td>5</td>\n      <td>18</td>\n      <td>29.0</td>\n      <td>0.0</td>\n    </tr>\n    <tr>\n      <th>3346079</th>\n      <td>1854736</td>\n      <td>206209</td>\n      <td>prior</td>\n      <td>11</td>\n      <td>4</td>\n      <td>10</td>\n      <td>30.0</td>\n      <td>0.0</td>\n    </tr>\n    <tr>\n      <th>3346080</th>\n      <td>626363</td>\n      <td>206209</td>\n      <td>prior</td>\n      <td>12</td>\n      <td>1</td>\n      <td>12</td>\n      <td>18.0</td>\n      <td>0.0</td>\n    </tr>\n    <tr>\n      <th>3346081</th>\n      <td>2977660</td>\n      <td>206209</td>\n      <td>prior</td>\n      <td>13</td>\n      <td>1</td>\n      <td>12</td>\n      <td>7.0</td>\n      <td>0.0</td>\n    </tr>\n    <tr>\n      <th>3346082</th>\n      <td>272231</td>\n      <td>206209</td>\n      <td>train</td>\n      <td>14</td>\n      <td>6</td>\n      <td>14</td>\n      <td>30.0</td>\n      <td>NaN</td>\n    </tr>\n  </tbody>\n</table>\n<p>3346083 rows × 8 columns</p>\n</div>"
     },
     "execution_count": 301,
     "metadata": {},
     "output_type": "execute_result"
    }
   ],
   "source": [
    "DATA_DIR = os.path.join(os.getcwd(), 'data/Instacart')\n",
    "\n",
    "op_prior = pd.read_csv(os.path.join(DATA_DIR, 'order_products__prior.csv.zip'))\n",
    "op_train = pd.read_csv(os.path.join(DATA_DIR, 'order_products__train.csv.zip'))\n",
    "op = pd.concat([op_prior, op_train])\n",
    "\n",
    "tip_train = pd.read_csv(os.path.join(DATA_DIR, 'tip_trainingsdaten1_.csv'))[['order_id', 'tip']]\n",
    "tip_test = pd.read_csv(os.path.join(DATA_DIR, 'tip_testdaten1_template.csv'))\n",
    "tip = pd.concat(\n",
    "    [tip_train, tip_test[['order_id', 'tip']]])\n",
    "\n",
    "orders = pd.read_csv(os.path.join(DATA_DIR, 'orders.csv.zip'))\n",
    "orders_tip = pd.merge(orders, tip)\n",
    "orders_tip"
   ]
  },
  {
   "cell_type": "markdown",
   "source": [
    "### Feature Engineering"
   ],
   "metadata": {
    "collapsed": false
   },
   "id": "3c58063cb77847fe"
  },
  {
   "cell_type": "code",
   "outputs": [
    {
     "data": {
      "text/plain": "         order_id  user_id eval_set  order_number  order_dow  \\\n0         2539329        1    prior             1          2   \n1         2398795        1    prior             2          3   \n2          473747        1    prior             3          3   \n3         2254736        1    prior             4          4   \n4          431534        1    prior             5          4   \n...           ...      ...      ...           ...        ...   \n3346078   2266710   206209    prior            10          5   \n3346079   1854736   206209    prior            11          4   \n3346080    626363   206209    prior            12          1   \n3346081   2977660   206209    prior            13          1   \n3346082    272231   206209    train            14          6   \n\n         order_hour_of_day  days_since_prior_order    tip  tip_history  \\\n0                        8                      -1  False    -1.000000   \n1                        7                      15  False     0.000000   \n2                       12                      21  False     0.000000   \n3                        7                      29  False     0.000000   \n4                       15                      28  False     0.000000   \n...                    ...                     ...    ...          ...   \n3346078                 18                      29  False     0.222222   \n3346079                 10                      30  False     0.200000   \n3346080                 12                      18  False     0.181818   \n3346081                 12                       7  False     0.166667   \n3346082                 14                      30    NaN     0.153846   \n\n         relative_order_number  \n0                     0.090909  \n1                     0.181818  \n2                     0.272727  \n3                     0.363636  \n4                     0.454545  \n...                        ...  \n3346078               0.714286  \n3346079               0.785714  \n3346080               0.857143  \n3346081               0.928571  \n3346082               1.000000  \n\n[3346083 rows x 10 columns]",
      "text/html": "<div>\n<style scoped>\n    .dataframe tbody tr th:only-of-type {\n        vertical-align: middle;\n    }\n\n    .dataframe tbody tr th {\n        vertical-align: top;\n    }\n\n    .dataframe thead th {\n        text-align: right;\n    }\n</style>\n<table border=\"1\" class=\"dataframe\">\n  <thead>\n    <tr style=\"text-align: right;\">\n      <th></th>\n      <th>order_id</th>\n      <th>user_id</th>\n      <th>eval_set</th>\n      <th>order_number</th>\n      <th>order_dow</th>\n      <th>order_hour_of_day</th>\n      <th>days_since_prior_order</th>\n      <th>tip</th>\n      <th>tip_history</th>\n      <th>relative_order_number</th>\n    </tr>\n  </thead>\n  <tbody>\n    <tr>\n      <th>0</th>\n      <td>2539329</td>\n      <td>1</td>\n      <td>prior</td>\n      <td>1</td>\n      <td>2</td>\n      <td>8</td>\n      <td>-1</td>\n      <td>False</td>\n      <td>-1.000000</td>\n      <td>0.090909</td>\n    </tr>\n    <tr>\n      <th>1</th>\n      <td>2398795</td>\n      <td>1</td>\n      <td>prior</td>\n      <td>2</td>\n      <td>3</td>\n      <td>7</td>\n      <td>15</td>\n      <td>False</td>\n      <td>0.000000</td>\n      <td>0.181818</td>\n    </tr>\n    <tr>\n      <th>2</th>\n      <td>473747</td>\n      <td>1</td>\n      <td>prior</td>\n      <td>3</td>\n      <td>3</td>\n      <td>12</td>\n      <td>21</td>\n      <td>False</td>\n      <td>0.000000</td>\n      <td>0.272727</td>\n    </tr>\n    <tr>\n      <th>3</th>\n      <td>2254736</td>\n      <td>1</td>\n      <td>prior</td>\n      <td>4</td>\n      <td>4</td>\n      <td>7</td>\n      <td>29</td>\n      <td>False</td>\n      <td>0.000000</td>\n      <td>0.363636</td>\n    </tr>\n    <tr>\n      <th>4</th>\n      <td>431534</td>\n      <td>1</td>\n      <td>prior</td>\n      <td>5</td>\n      <td>4</td>\n      <td>15</td>\n      <td>28</td>\n      <td>False</td>\n      <td>0.000000</td>\n      <td>0.454545</td>\n    </tr>\n    <tr>\n      <th>...</th>\n      <td>...</td>\n      <td>...</td>\n      <td>...</td>\n      <td>...</td>\n      <td>...</td>\n      <td>...</td>\n      <td>...</td>\n      <td>...</td>\n      <td>...</td>\n      <td>...</td>\n    </tr>\n    <tr>\n      <th>3346078</th>\n      <td>2266710</td>\n      <td>206209</td>\n      <td>prior</td>\n      <td>10</td>\n      <td>5</td>\n      <td>18</td>\n      <td>29</td>\n      <td>False</td>\n      <td>0.222222</td>\n      <td>0.714286</td>\n    </tr>\n    <tr>\n      <th>3346079</th>\n      <td>1854736</td>\n      <td>206209</td>\n      <td>prior</td>\n      <td>11</td>\n      <td>4</td>\n      <td>10</td>\n      <td>30</td>\n      <td>False</td>\n      <td>0.200000</td>\n      <td>0.785714</td>\n    </tr>\n    <tr>\n      <th>3346080</th>\n      <td>626363</td>\n      <td>206209</td>\n      <td>prior</td>\n      <td>12</td>\n      <td>1</td>\n      <td>12</td>\n      <td>18</td>\n      <td>False</td>\n      <td>0.181818</td>\n      <td>0.857143</td>\n    </tr>\n    <tr>\n      <th>3346081</th>\n      <td>2977660</td>\n      <td>206209</td>\n      <td>prior</td>\n      <td>13</td>\n      <td>1</td>\n      <td>12</td>\n      <td>7</td>\n      <td>False</td>\n      <td>0.166667</td>\n      <td>0.928571</td>\n    </tr>\n    <tr>\n      <th>3346082</th>\n      <td>272231</td>\n      <td>206209</td>\n      <td>train</td>\n      <td>14</td>\n      <td>6</td>\n      <td>14</td>\n      <td>30</td>\n      <td>NaN</td>\n      <td>0.153846</td>\n      <td>1.000000</td>\n    </tr>\n  </tbody>\n</table>\n<p>3346083 rows × 10 columns</p>\n</div>"
     },
     "execution_count": 302,
     "metadata": {},
     "output_type": "execute_result"
    }
   ],
   "source": [
    "orders_tip['days_since_prior_order'] = orders_tip['days_since_prior_order'].fillna(-1).astype(int)\n",
    "\n",
    "orders_tip['tip'] = orders_tip['tip'].astype(bool)\n",
    "orders_tip['tip_history'] = orders_tip.groupby('user_id')['tip'].transform('cumsum').shift(1) / orders_tip[\n",
    "    'order_number'].shift(1)\n",
    "orders_tip.loc[orders_tip['order_number'] == 1, 'tip_history'] = -1\n",
    "\n",
    "orders_tip['relative_order_number'] = orders_tip.groupby('user_id')['order_number'].rank(pct=True)\n",
    "orders_tip['tip'] = orders_tip['tip'].astype(object)\n",
    "orders_tip.loc[orders_tip['order_id'].isin(tip_test['order_id']), 'tip'] = np.nan\n",
    "orders_tip"
   ],
   "metadata": {
    "ExecuteTime": {
     "end_time": "2024-05-10T16:38:20.618171200Z",
     "start_time": "2024-05-10T16:38:19.236979200Z"
    }
   },
   "id": "1179fcd7-d858-4fa2-b6b0-818fe93c6d67",
   "execution_count": 302
  },
  {
   "cell_type": "markdown",
   "id": "7eb8f6567e46524d",
   "metadata": {
    "collapsed": false
   },
   "source": [
    "### Task 2.1"
   ]
  },
  {
   "cell_type": "code",
   "execution_count": 303,
   "id": "afb96635-ed06-40ea-9050-fc8b40750610",
   "metadata": {
    "ExecuteTime": {
     "end_time": "2024-05-10T16:38:21.922970100Z",
     "start_time": "2024-05-10T16:38:20.610650500Z"
    }
   },
   "outputs": [
    {
     "data": {
      "text/plain": "         order_id  user_id eval_set  order_number  order_dow  \\\n0         2539329        1    prior             1          2   \n1         2398795        1    prior             2          3   \n2          473747        1    prior             3          3   \n3         2254736        1    prior             4          4   \n4          431534        1    prior             5          4   \n...           ...      ...      ...           ...        ...   \n3214869   2558525   206209    prior             9          4   \n3214870   2266710   206209    prior            10          5   \n3214871   1854736   206209    prior            11          4   \n3214872    626363   206209    prior            12          1   \n3214873   2977660   206209    prior            13          1   \n\n         order_hour_of_day  days_since_prior_order    tip  tip_history  \\\n0                        8                      -1  False    -1.000000   \n1                        7                      15  False     0.000000   \n2                       12                      21  False     0.000000   \n3                        7                      29  False     0.000000   \n4                       15                      28  False     0.000000   \n...                    ...                     ...    ...          ...   \n3214869                 15                      22  False     0.250000   \n3214870                 18                      29  False     0.222222   \n3214871                 10                      30  False     0.200000   \n3214872                 12                      18  False     0.181818   \n3214873                 12                       7  False     0.166667   \n\n         relative_order_number  \n0                     0.090909  \n1                     0.181818  \n2                     0.272727  \n3                     0.363636  \n4                     0.454545  \n...                        ...  \n3214869               0.642857  \n3214870               0.714286  \n3214871               0.785714  \n3214872               0.857143  \n3214873               0.928571  \n\n[3214874 rows x 10 columns]",
      "text/html": "<div>\n<style scoped>\n    .dataframe tbody tr th:only-of-type {\n        vertical-align: middle;\n    }\n\n    .dataframe tbody tr th {\n        vertical-align: top;\n    }\n\n    .dataframe thead th {\n        text-align: right;\n    }\n</style>\n<table border=\"1\" class=\"dataframe\">\n  <thead>\n    <tr style=\"text-align: right;\">\n      <th></th>\n      <th>order_id</th>\n      <th>user_id</th>\n      <th>eval_set</th>\n      <th>order_number</th>\n      <th>order_dow</th>\n      <th>order_hour_of_day</th>\n      <th>days_since_prior_order</th>\n      <th>tip</th>\n      <th>tip_history</th>\n      <th>relative_order_number</th>\n    </tr>\n  </thead>\n  <tbody>\n    <tr>\n      <th>0</th>\n      <td>2539329</td>\n      <td>1</td>\n      <td>prior</td>\n      <td>1</td>\n      <td>2</td>\n      <td>8</td>\n      <td>-1</td>\n      <td>False</td>\n      <td>-1.000000</td>\n      <td>0.090909</td>\n    </tr>\n    <tr>\n      <th>1</th>\n      <td>2398795</td>\n      <td>1</td>\n      <td>prior</td>\n      <td>2</td>\n      <td>3</td>\n      <td>7</td>\n      <td>15</td>\n      <td>False</td>\n      <td>0.000000</td>\n      <td>0.181818</td>\n    </tr>\n    <tr>\n      <th>2</th>\n      <td>473747</td>\n      <td>1</td>\n      <td>prior</td>\n      <td>3</td>\n      <td>3</td>\n      <td>12</td>\n      <td>21</td>\n      <td>False</td>\n      <td>0.000000</td>\n      <td>0.272727</td>\n    </tr>\n    <tr>\n      <th>3</th>\n      <td>2254736</td>\n      <td>1</td>\n      <td>prior</td>\n      <td>4</td>\n      <td>4</td>\n      <td>7</td>\n      <td>29</td>\n      <td>False</td>\n      <td>0.000000</td>\n      <td>0.363636</td>\n    </tr>\n    <tr>\n      <th>4</th>\n      <td>431534</td>\n      <td>1</td>\n      <td>prior</td>\n      <td>5</td>\n      <td>4</td>\n      <td>15</td>\n      <td>28</td>\n      <td>False</td>\n      <td>0.000000</td>\n      <td>0.454545</td>\n    </tr>\n    <tr>\n      <th>...</th>\n      <td>...</td>\n      <td>...</td>\n      <td>...</td>\n      <td>...</td>\n      <td>...</td>\n      <td>...</td>\n      <td>...</td>\n      <td>...</td>\n      <td>...</td>\n      <td>...</td>\n    </tr>\n    <tr>\n      <th>3214869</th>\n      <td>2558525</td>\n      <td>206209</td>\n      <td>prior</td>\n      <td>9</td>\n      <td>4</td>\n      <td>15</td>\n      <td>22</td>\n      <td>False</td>\n      <td>0.250000</td>\n      <td>0.642857</td>\n    </tr>\n    <tr>\n      <th>3214870</th>\n      <td>2266710</td>\n      <td>206209</td>\n      <td>prior</td>\n      <td>10</td>\n      <td>5</td>\n      <td>18</td>\n      <td>29</td>\n      <td>False</td>\n      <td>0.222222</td>\n      <td>0.714286</td>\n    </tr>\n    <tr>\n      <th>3214871</th>\n      <td>1854736</td>\n      <td>206209</td>\n      <td>prior</td>\n      <td>11</td>\n      <td>4</td>\n      <td>10</td>\n      <td>30</td>\n      <td>False</td>\n      <td>0.200000</td>\n      <td>0.785714</td>\n    </tr>\n    <tr>\n      <th>3214872</th>\n      <td>626363</td>\n      <td>206209</td>\n      <td>prior</td>\n      <td>12</td>\n      <td>1</td>\n      <td>12</td>\n      <td>18</td>\n      <td>False</td>\n      <td>0.181818</td>\n      <td>0.857143</td>\n    </tr>\n    <tr>\n      <th>3214873</th>\n      <td>2977660</td>\n      <td>206209</td>\n      <td>prior</td>\n      <td>13</td>\n      <td>1</td>\n      <td>12</td>\n      <td>7</td>\n      <td>False</td>\n      <td>0.166667</td>\n      <td>0.928571</td>\n    </tr>\n  </tbody>\n</table>\n<p>3214874 rows × 10 columns</p>\n</div>"
     },
     "execution_count": 303,
     "metadata": {},
     "output_type": "execute_result"
    }
   ],
   "source": [
    "orders_tip_train = pd.merge(orders_tip, tip_train)\n",
    "orders_tip_train['tip'] = orders_tip_train['tip'].astype(bool)\n",
    "orders_tip_train"
   ]
  },
  {
   "cell_type": "code",
   "execution_count": 304,
   "id": "650ebf53-f229-429b-a0de-13a25971c70f",
   "metadata": {
    "ExecuteTime": {
     "end_time": "2024-05-10T16:38:21.937944100Z",
     "start_time": "2024-05-10T16:38:21.925973500Z"
    }
   },
   "outputs": [],
   "source": [
    "features = ['order_number', 'order_dow', 'order_hour_of_day', 'days_since_prior_order', 'tip_history',\n",
    "            'relative_order_number']\n",
    "# param_grid = {'criterion': ['entropy'],\n",
    "# 'max_depth': [depth for depth in range(1, 21)],\n",
    "# 'min_samples_leaf': [2 ** i for i in range(0, 15)]}\n",
    "param_grid = {'criterion': ['entropy'],\n",
    "              'max_depth': [11],\n",
    "              'min_samples_leaf': [512]}\n",
    "cv = KFold(n_splits=5, shuffle=True, random_state=42)\n",
    "grid_search_clf = GridSearchCV(DecisionTreeClassifier(), param_grid, cv=cv, n_jobs=-1, scoring='accuracy')"
   ]
  },
  {
   "cell_type": "code",
   "execution_count": 305,
   "id": "1766451b-34de-4b38-89ea-ca90b81a1ddc",
   "metadata": {
    "ExecuteTime": {
     "end_time": "2024-05-10T16:38:41.094095900Z",
     "start_time": "2024-05-10T16:38:21.928878200Z"
    }
   },
   "outputs": [
    {
     "data": {
      "text/plain": "GridSearchCV(cv=KFold(n_splits=5, random_state=42, shuffle=True),\n             estimator=DecisionTreeClassifier(), n_jobs=-1,\n             param_grid={'criterion': ['entropy'], 'max_depth': [11],\n                         'min_samples_leaf': [512]},\n             scoring='accuracy')",
      "text/html": "<style>#sk-container-id-19 {\n  /* Definition of color scheme common for light and dark mode */\n  --sklearn-color-text: black;\n  --sklearn-color-line: gray;\n  /* Definition of color scheme for unfitted estimators */\n  --sklearn-color-unfitted-level-0: #fff5e6;\n  --sklearn-color-unfitted-level-1: #f6e4d2;\n  --sklearn-color-unfitted-level-2: #ffe0b3;\n  --sklearn-color-unfitted-level-3: chocolate;\n  /* Definition of color scheme for fitted estimators */\n  --sklearn-color-fitted-level-0: #f0f8ff;\n  --sklearn-color-fitted-level-1: #d4ebff;\n  --sklearn-color-fitted-level-2: #b3dbfd;\n  --sklearn-color-fitted-level-3: cornflowerblue;\n\n  /* Specific color for light theme */\n  --sklearn-color-text-on-default-background: var(--sg-text-color, var(--theme-code-foreground, var(--jp-content-font-color1, black)));\n  --sklearn-color-background: var(--sg-background-color, var(--theme-background, var(--jp-layout-color0, white)));\n  --sklearn-color-border-box: var(--sg-text-color, var(--theme-code-foreground, var(--jp-content-font-color1, black)));\n  --sklearn-color-icon: #696969;\n\n  @media (prefers-color-scheme: dark) {\n    /* Redefinition of color scheme for dark theme */\n    --sklearn-color-text-on-default-background: var(--sg-text-color, var(--theme-code-foreground, var(--jp-content-font-color1, white)));\n    --sklearn-color-background: var(--sg-background-color, var(--theme-background, var(--jp-layout-color0, #111)));\n    --sklearn-color-border-box: var(--sg-text-color, var(--theme-code-foreground, var(--jp-content-font-color1, white)));\n    --sklearn-color-icon: #878787;\n  }\n}\n\n#sk-container-id-19 {\n  color: var(--sklearn-color-text);\n}\n\n#sk-container-id-19 pre {\n  padding: 0;\n}\n\n#sk-container-id-19 input.sk-hidden--visually {\n  border: 0;\n  clip: rect(1px 1px 1px 1px);\n  clip: rect(1px, 1px, 1px, 1px);\n  height: 1px;\n  margin: -1px;\n  overflow: hidden;\n  padding: 0;\n  position: absolute;\n  width: 1px;\n}\n\n#sk-container-id-19 div.sk-dashed-wrapped {\n  border: 1px dashed var(--sklearn-color-line);\n  margin: 0 0.4em 0.5em 0.4em;\n  box-sizing: border-box;\n  padding-bottom: 0.4em;\n  background-color: var(--sklearn-color-background);\n}\n\n#sk-container-id-19 div.sk-container {\n  /* jupyter's `normalize.less` sets `[hidden] { display: none; }`\n     but bootstrap.min.css set `[hidden] { display: none !important; }`\n     so we also need the `!important` here to be able to override the\n     default hidden behavior on the sphinx rendered scikit-learn.org.\n     See: https://github.com/scikit-learn/scikit-learn/issues/21755 */\n  display: inline-block !important;\n  position: relative;\n}\n\n#sk-container-id-19 div.sk-text-repr-fallback {\n  display: none;\n}\n\ndiv.sk-parallel-item,\ndiv.sk-serial,\ndiv.sk-item {\n  /* draw centered vertical line to link estimators */\n  background-image: linear-gradient(var(--sklearn-color-text-on-default-background), var(--sklearn-color-text-on-default-background));\n  background-size: 2px 100%;\n  background-repeat: no-repeat;\n  background-position: center center;\n}\n\n/* Parallel-specific style estimator block */\n\n#sk-container-id-19 div.sk-parallel-item::after {\n  content: \"\";\n  width: 100%;\n  border-bottom: 2px solid var(--sklearn-color-text-on-default-background);\n  flex-grow: 1;\n}\n\n#sk-container-id-19 div.sk-parallel {\n  display: flex;\n  align-items: stretch;\n  justify-content: center;\n  background-color: var(--sklearn-color-background);\n  position: relative;\n}\n\n#sk-container-id-19 div.sk-parallel-item {\n  display: flex;\n  flex-direction: column;\n}\n\n#sk-container-id-19 div.sk-parallel-item:first-child::after {\n  align-self: flex-end;\n  width: 50%;\n}\n\n#sk-container-id-19 div.sk-parallel-item:last-child::after {\n  align-self: flex-start;\n  width: 50%;\n}\n\n#sk-container-id-19 div.sk-parallel-item:only-child::after {\n  width: 0;\n}\n\n/* Serial-specific style estimator block */\n\n#sk-container-id-19 div.sk-serial {\n  display: flex;\n  flex-direction: column;\n  align-items: center;\n  background-color: var(--sklearn-color-background);\n  padding-right: 1em;\n  padding-left: 1em;\n}\n\n\n/* Toggleable style: style used for estimator/Pipeline/ColumnTransformer box that is\nclickable and can be expanded/collapsed.\n- Pipeline and ColumnTransformer use this feature and define the default style\n- Estimators will overwrite some part of the style using the `sk-estimator` class\n*/\n\n/* Pipeline and ColumnTransformer style (default) */\n\n#sk-container-id-19 div.sk-toggleable {\n  /* Default theme specific background. It is overwritten whether we have a\n  specific estimator or a Pipeline/ColumnTransformer */\n  background-color: var(--sklearn-color-background);\n}\n\n/* Toggleable label */\n#sk-container-id-19 label.sk-toggleable__label {\n  cursor: pointer;\n  display: block;\n  width: 100%;\n  margin-bottom: 0;\n  padding: 0.5em;\n  box-sizing: border-box;\n  text-align: center;\n}\n\n#sk-container-id-19 label.sk-toggleable__label-arrow:before {\n  /* Arrow on the left of the label */\n  content: \"▸\";\n  float: left;\n  margin-right: 0.25em;\n  color: var(--sklearn-color-icon);\n}\n\n#sk-container-id-19 label.sk-toggleable__label-arrow:hover:before {\n  color: var(--sklearn-color-text);\n}\n\n/* Toggleable content - dropdown */\n\n#sk-container-id-19 div.sk-toggleable__content {\n  max-height: 0;\n  max-width: 0;\n  overflow: hidden;\n  text-align: left;\n  /* unfitted */\n  background-color: var(--sklearn-color-unfitted-level-0);\n}\n\n#sk-container-id-19 div.sk-toggleable__content.fitted {\n  /* fitted */\n  background-color: var(--sklearn-color-fitted-level-0);\n}\n\n#sk-container-id-19 div.sk-toggleable__content pre {\n  margin: 0.2em;\n  border-radius: 0.25em;\n  color: var(--sklearn-color-text);\n  /* unfitted */\n  background-color: var(--sklearn-color-unfitted-level-0);\n}\n\n#sk-container-id-19 div.sk-toggleable__content.fitted pre {\n  /* unfitted */\n  background-color: var(--sklearn-color-fitted-level-0);\n}\n\n#sk-container-id-19 input.sk-toggleable__control:checked~div.sk-toggleable__content {\n  /* Expand drop-down */\n  max-height: 200px;\n  max-width: 100%;\n  overflow: auto;\n}\n\n#sk-container-id-19 input.sk-toggleable__control:checked~label.sk-toggleable__label-arrow:before {\n  content: \"▾\";\n}\n\n/* Pipeline/ColumnTransformer-specific style */\n\n#sk-container-id-19 div.sk-label input.sk-toggleable__control:checked~label.sk-toggleable__label {\n  color: var(--sklearn-color-text);\n  background-color: var(--sklearn-color-unfitted-level-2);\n}\n\n#sk-container-id-19 div.sk-label.fitted input.sk-toggleable__control:checked~label.sk-toggleable__label {\n  background-color: var(--sklearn-color-fitted-level-2);\n}\n\n/* Estimator-specific style */\n\n/* Colorize estimator box */\n#sk-container-id-19 div.sk-estimator input.sk-toggleable__control:checked~label.sk-toggleable__label {\n  /* unfitted */\n  background-color: var(--sklearn-color-unfitted-level-2);\n}\n\n#sk-container-id-19 div.sk-estimator.fitted input.sk-toggleable__control:checked~label.sk-toggleable__label {\n  /* fitted */\n  background-color: var(--sklearn-color-fitted-level-2);\n}\n\n#sk-container-id-19 div.sk-label label.sk-toggleable__label,\n#sk-container-id-19 div.sk-label label {\n  /* The background is the default theme color */\n  color: var(--sklearn-color-text-on-default-background);\n}\n\n/* On hover, darken the color of the background */\n#sk-container-id-19 div.sk-label:hover label.sk-toggleable__label {\n  color: var(--sklearn-color-text);\n  background-color: var(--sklearn-color-unfitted-level-2);\n}\n\n/* Label box, darken color on hover, fitted */\n#sk-container-id-19 div.sk-label.fitted:hover label.sk-toggleable__label.fitted {\n  color: var(--sklearn-color-text);\n  background-color: var(--sklearn-color-fitted-level-2);\n}\n\n/* Estimator label */\n\n#sk-container-id-19 div.sk-label label {\n  font-family: monospace;\n  font-weight: bold;\n  display: inline-block;\n  line-height: 1.2em;\n}\n\n#sk-container-id-19 div.sk-label-container {\n  text-align: center;\n}\n\n/* Estimator-specific */\n#sk-container-id-19 div.sk-estimator {\n  font-family: monospace;\n  border: 1px dotted var(--sklearn-color-border-box);\n  border-radius: 0.25em;\n  box-sizing: border-box;\n  margin-bottom: 0.5em;\n  /* unfitted */\n  background-color: var(--sklearn-color-unfitted-level-0);\n}\n\n#sk-container-id-19 div.sk-estimator.fitted {\n  /* fitted */\n  background-color: var(--sklearn-color-fitted-level-0);\n}\n\n/* on hover */\n#sk-container-id-19 div.sk-estimator:hover {\n  /* unfitted */\n  background-color: var(--sklearn-color-unfitted-level-2);\n}\n\n#sk-container-id-19 div.sk-estimator.fitted:hover {\n  /* fitted */\n  background-color: var(--sklearn-color-fitted-level-2);\n}\n\n/* Specification for estimator info (e.g. \"i\" and \"?\") */\n\n/* Common style for \"i\" and \"?\" */\n\n.sk-estimator-doc-link,\na:link.sk-estimator-doc-link,\na:visited.sk-estimator-doc-link {\n  float: right;\n  font-size: smaller;\n  line-height: 1em;\n  font-family: monospace;\n  background-color: var(--sklearn-color-background);\n  border-radius: 1em;\n  height: 1em;\n  width: 1em;\n  text-decoration: none !important;\n  margin-left: 1ex;\n  /* unfitted */\n  border: var(--sklearn-color-unfitted-level-1) 1pt solid;\n  color: var(--sklearn-color-unfitted-level-1);\n}\n\n.sk-estimator-doc-link.fitted,\na:link.sk-estimator-doc-link.fitted,\na:visited.sk-estimator-doc-link.fitted {\n  /* fitted */\n  border: var(--sklearn-color-fitted-level-1) 1pt solid;\n  color: var(--sklearn-color-fitted-level-1);\n}\n\n/* On hover */\ndiv.sk-estimator:hover .sk-estimator-doc-link:hover,\n.sk-estimator-doc-link:hover,\ndiv.sk-label-container:hover .sk-estimator-doc-link:hover,\n.sk-estimator-doc-link:hover {\n  /* unfitted */\n  background-color: var(--sklearn-color-unfitted-level-3);\n  color: var(--sklearn-color-background);\n  text-decoration: none;\n}\n\ndiv.sk-estimator.fitted:hover .sk-estimator-doc-link.fitted:hover,\n.sk-estimator-doc-link.fitted:hover,\ndiv.sk-label-container:hover .sk-estimator-doc-link.fitted:hover,\n.sk-estimator-doc-link.fitted:hover {\n  /* fitted */\n  background-color: var(--sklearn-color-fitted-level-3);\n  color: var(--sklearn-color-background);\n  text-decoration: none;\n}\n\n/* Span, style for the box shown on hovering the info icon */\n.sk-estimator-doc-link span {\n  display: none;\n  z-index: 9999;\n  position: relative;\n  font-weight: normal;\n  right: .2ex;\n  padding: .5ex;\n  margin: .5ex;\n  width: min-content;\n  min-width: 20ex;\n  max-width: 50ex;\n  color: var(--sklearn-color-text);\n  box-shadow: 2pt 2pt 4pt #999;\n  /* unfitted */\n  background: var(--sklearn-color-unfitted-level-0);\n  border: .5pt solid var(--sklearn-color-unfitted-level-3);\n}\n\n.sk-estimator-doc-link.fitted span {\n  /* fitted */\n  background: var(--sklearn-color-fitted-level-0);\n  border: var(--sklearn-color-fitted-level-3);\n}\n\n.sk-estimator-doc-link:hover span {\n  display: block;\n}\n\n/* \"?\"-specific style due to the `<a>` HTML tag */\n\n#sk-container-id-19 a.estimator_doc_link {\n  float: right;\n  font-size: 1rem;\n  line-height: 1em;\n  font-family: monospace;\n  background-color: var(--sklearn-color-background);\n  border-radius: 1rem;\n  height: 1rem;\n  width: 1rem;\n  text-decoration: none;\n  /* unfitted */\n  color: var(--sklearn-color-unfitted-level-1);\n  border: var(--sklearn-color-unfitted-level-1) 1pt solid;\n}\n\n#sk-container-id-19 a.estimator_doc_link.fitted {\n  /* fitted */\n  border: var(--sklearn-color-fitted-level-1) 1pt solid;\n  color: var(--sklearn-color-fitted-level-1);\n}\n\n/* On hover */\n#sk-container-id-19 a.estimator_doc_link:hover {\n  /* unfitted */\n  background-color: var(--sklearn-color-unfitted-level-3);\n  color: var(--sklearn-color-background);\n  text-decoration: none;\n}\n\n#sk-container-id-19 a.estimator_doc_link.fitted:hover {\n  /* fitted */\n  background-color: var(--sklearn-color-fitted-level-3);\n}\n</style><div id=\"sk-container-id-19\" class=\"sk-top-container\"><div class=\"sk-text-repr-fallback\"><pre>GridSearchCV(cv=KFold(n_splits=5, random_state=42, shuffle=True),\n             estimator=DecisionTreeClassifier(), n_jobs=-1,\n             param_grid={&#x27;criterion&#x27;: [&#x27;entropy&#x27;], &#x27;max_depth&#x27;: [11],\n                         &#x27;min_samples_leaf&#x27;: [512]},\n             scoring=&#x27;accuracy&#x27;)</pre><b>In a Jupyter environment, please rerun this cell to show the HTML representation or trust the notebook. <br />On GitHub, the HTML representation is unable to render, please try loading this page with nbviewer.org.</b></div><div class=\"sk-container\" hidden><div class=\"sk-item sk-dashed-wrapped\"><div class=\"sk-label-container\"><div class=\"sk-label fitted sk-toggleable\"><input class=\"sk-toggleable__control sk-hidden--visually\" id=\"sk-estimator-id-55\" type=\"checkbox\" ><label for=\"sk-estimator-id-55\" class=\"sk-toggleable__label fitted sk-toggleable__label-arrow fitted\">&nbsp;&nbsp;GridSearchCV<a class=\"sk-estimator-doc-link fitted\" rel=\"noreferrer\" target=\"_blank\" href=\"https://scikit-learn.org/1.4/modules/generated/sklearn.model_selection.GridSearchCV.html\">?<span>Documentation for GridSearchCV</span></a><span class=\"sk-estimator-doc-link fitted\">i<span>Fitted</span></span></label><div class=\"sk-toggleable__content fitted\"><pre>GridSearchCV(cv=KFold(n_splits=5, random_state=42, shuffle=True),\n             estimator=DecisionTreeClassifier(), n_jobs=-1,\n             param_grid={&#x27;criterion&#x27;: [&#x27;entropy&#x27;], &#x27;max_depth&#x27;: [11],\n                         &#x27;min_samples_leaf&#x27;: [512]},\n             scoring=&#x27;accuracy&#x27;)</pre></div> </div></div><div class=\"sk-parallel\"><div class=\"sk-parallel-item\"><div class=\"sk-item\"><div class=\"sk-label-container\"><div class=\"sk-label fitted sk-toggleable\"><input class=\"sk-toggleable__control sk-hidden--visually\" id=\"sk-estimator-id-56\" type=\"checkbox\" ><label for=\"sk-estimator-id-56\" class=\"sk-toggleable__label fitted sk-toggleable__label-arrow fitted\">estimator: DecisionTreeClassifier</label><div class=\"sk-toggleable__content fitted\"><pre>DecisionTreeClassifier()</pre></div> </div></div><div class=\"sk-serial\"><div class=\"sk-item\"><div class=\"sk-estimator fitted sk-toggleable\"><input class=\"sk-toggleable__control sk-hidden--visually\" id=\"sk-estimator-id-57\" type=\"checkbox\" ><label for=\"sk-estimator-id-57\" class=\"sk-toggleable__label fitted sk-toggleable__label-arrow fitted\">&nbsp;DecisionTreeClassifier<a class=\"sk-estimator-doc-link fitted\" rel=\"noreferrer\" target=\"_blank\" href=\"https://scikit-learn.org/1.4/modules/generated/sklearn.tree.DecisionTreeClassifier.html\">?<span>Documentation for DecisionTreeClassifier</span></a></label><div class=\"sk-toggleable__content fitted\"><pre>DecisionTreeClassifier()</pre></div> </div></div></div></div></div></div></div></div></div>"
     },
     "execution_count": 305,
     "metadata": {},
     "output_type": "execute_result"
    }
   ],
   "source": [
    "X = orders_tip_train[features]\n",
    "y = orders_tip_train[['tip']]\n",
    "grid_search_clf.fit(X, y)"
   ]
  },
  {
   "cell_type": "code",
   "execution_count": 306,
   "id": "62f61159-90ae-417c-9443-457ba8dfa8b9",
   "metadata": {
    "ExecuteTime": {
     "end_time": "2024-05-10T16:38:41.104555200Z",
     "start_time": "2024-05-10T16:38:41.094095900Z"
    }
   },
   "outputs": [
    {
     "data": {
      "text/plain": "{'criterion': 'entropy', 'max_depth': 11, 'min_samples_leaf': 512}"
     },
     "execution_count": 306,
     "metadata": {},
     "output_type": "execute_result"
    }
   ],
   "source": [
    "decision_tree_clf = grid_search_clf.best_estimator_\n",
    "grid_search_clf.best_params_"
   ]
  },
  {
   "cell_type": "markdown",
   "id": "b736ac61f62430be",
   "metadata": {
    "collapsed": false
   },
   "source": [
    "### Task 2.2"
   ]
  },
  {
   "cell_type": "markdown",
   "id": "462bd5cb-1222-4a68-9aae-4ccab474367a",
   "metadata": {},
   "source": [
    "##### Estimated accuracy of the decision tree classifier on the test set:"
   ]
  },
  {
   "cell_type": "code",
   "execution_count": 307,
   "id": "3dc9a3b9-d0a1-4481-812a-f753079fcdd3",
   "metadata": {
    "ExecuteTime": {
     "end_time": "2024-05-10T16:38:41.130233200Z",
     "start_time": "2024-05-10T16:38:41.098398Z"
    }
   },
   "outputs": [
    {
     "data": {
      "text/plain": "0.756124501055468"
     },
     "execution_count": 307,
     "metadata": {},
     "output_type": "execute_result"
    }
   ],
   "source": [
    "grid_search_clf.best_score_"
   ]
  },
  {
   "cell_type": "markdown",
   "id": "c80ed52e64e2cf75",
   "metadata": {
    "collapsed": false
   },
   "source": [
    "### Task 2.3"
   ]
  },
  {
   "cell_type": "code",
   "execution_count": 308,
   "id": "033f8312-39bb-4f56-8fa1-8bd38717cfcb",
   "metadata": {
    "ExecuteTime": {
     "end_time": "2024-05-10T16:38:42.416112200Z",
     "start_time": "2024-05-10T16:38:41.116215100Z"
    }
   },
   "outputs": [
    {
     "data": {
      "text/plain": "0.5591559729508828"
     },
     "execution_count": 308,
     "metadata": {},
     "output_type": "execute_result"
    }
   ],
   "source": [
    "most_freq_clf = DummyClassifier(strategy='most_frequent')\n",
    "most_freq_score = cross_val_score(most_freq_clf, X, y, cv=cv, scoring='accuracy').mean()\n",
    "most_freq_score"
   ]
  },
  {
   "cell_type": "markdown",
   "id": "13de859e-2eca-448e-beff-a00a99489c03",
   "metadata": {},
   "source": [
    "##### Benefit of decision tree classifier over classifier that predicts most frequent class:"
   ]
  },
  {
   "cell_type": "code",
   "execution_count": 309,
   "id": "a8fbea00-7c62-4c54-b473-a7a8170ff425",
   "metadata": {
    "ExecuteTime": {
     "end_time": "2024-05-10T16:38:42.426743700Z",
     "start_time": "2024-05-10T16:38:42.417104600Z"
    }
   },
   "outputs": [
    {
     "data": {
      "text/plain": "0.1969685281045852"
     },
     "execution_count": 309,
     "metadata": {},
     "output_type": "execute_result"
    }
   ],
   "source": [
    "grid_search_clf.best_score_ - most_freq_score"
   ]
  },
  {
   "cell_type": "markdown",
   "id": "24baec00629a63ec",
   "metadata": {
    "collapsed": false
   },
   "source": [
    "### Task 2.4"
   ]
  },
  {
   "cell_type": "code",
   "execution_count": 310,
   "id": "a7cd9a24-d4a8-477e-8489-53920068c24d",
   "metadata": {
    "ExecuteTime": {
     "end_time": "2024-05-10T16:38:42.866713100Z",
     "start_time": "2024-05-10T16:38:42.422745300Z"
    }
   },
   "outputs": [
    {
     "data": {
      "text/plain": "        order_id  user_id eval_set  order_number  order_dow  \\\n0        1187899        1    train            11          4   \n1        1492625        2    train            15          1   \n2        2196797        5    train             5          0   \n3         525192        7    train            21          2   \n4         880375        8    train             4          1   \n...          ...      ...      ...           ...        ...   \n131204   2585586   206199    train            20          2   \n131205    943915   206200    train            24          6   \n131206   2371631   206203    train             6          4   \n131207   1716008   206205    train             4          1   \n131208    272231   206209    train            14          6   \n\n        order_hour_of_day  days_since_prior_order  tip_history  \\\n0                       8                      14     0.000000   \n1                      11                      30     0.571429   \n2                      11                       6     0.500000   \n3                      11                       6     0.650000   \n4                      14                      10     0.666667   \n...                   ...                     ...          ...   \n131204                 16                      30     1.000000   \n131205                 19                       6     0.652174   \n131206                 19                      30     0.000000   \n131207                 16                      10     0.000000   \n131208                 14                      30     0.153846   \n\n        relative_order_number  Unnamed: 0    tip  \n0                         1.0          10  False  \n1                         1.0          25   True  \n2                         1.0          49   True  \n3                         1.0          74   True  \n4                         1.0          78   True  \n...                       ...         ...    ...  \n131204                    1.0     3420838   True  \n131205                    1.0     3420862   True  \n131206                    1.0     3420924  False  \n131207                    1.0     3420933  False  \n131208                    1.0     3421082  False  \n\n[131209 rows x 11 columns]",
      "text/html": "<div>\n<style scoped>\n    .dataframe tbody tr th:only-of-type {\n        vertical-align: middle;\n    }\n\n    .dataframe tbody tr th {\n        vertical-align: top;\n    }\n\n    .dataframe thead th {\n        text-align: right;\n    }\n</style>\n<table border=\"1\" class=\"dataframe\">\n  <thead>\n    <tr style=\"text-align: right;\">\n      <th></th>\n      <th>order_id</th>\n      <th>user_id</th>\n      <th>eval_set</th>\n      <th>order_number</th>\n      <th>order_dow</th>\n      <th>order_hour_of_day</th>\n      <th>days_since_prior_order</th>\n      <th>tip_history</th>\n      <th>relative_order_number</th>\n      <th>Unnamed: 0</th>\n      <th>tip</th>\n    </tr>\n  </thead>\n  <tbody>\n    <tr>\n      <th>0</th>\n      <td>1187899</td>\n      <td>1</td>\n      <td>train</td>\n      <td>11</td>\n      <td>4</td>\n      <td>8</td>\n      <td>14</td>\n      <td>0.000000</td>\n      <td>1.0</td>\n      <td>10</td>\n      <td>False</td>\n    </tr>\n    <tr>\n      <th>1</th>\n      <td>1492625</td>\n      <td>2</td>\n      <td>train</td>\n      <td>15</td>\n      <td>1</td>\n      <td>11</td>\n      <td>30</td>\n      <td>0.571429</td>\n      <td>1.0</td>\n      <td>25</td>\n      <td>True</td>\n    </tr>\n    <tr>\n      <th>2</th>\n      <td>2196797</td>\n      <td>5</td>\n      <td>train</td>\n      <td>5</td>\n      <td>0</td>\n      <td>11</td>\n      <td>6</td>\n      <td>0.500000</td>\n      <td>1.0</td>\n      <td>49</td>\n      <td>True</td>\n    </tr>\n    <tr>\n      <th>3</th>\n      <td>525192</td>\n      <td>7</td>\n      <td>train</td>\n      <td>21</td>\n      <td>2</td>\n      <td>11</td>\n      <td>6</td>\n      <td>0.650000</td>\n      <td>1.0</td>\n      <td>74</td>\n      <td>True</td>\n    </tr>\n    <tr>\n      <th>4</th>\n      <td>880375</td>\n      <td>8</td>\n      <td>train</td>\n      <td>4</td>\n      <td>1</td>\n      <td>14</td>\n      <td>10</td>\n      <td>0.666667</td>\n      <td>1.0</td>\n      <td>78</td>\n      <td>True</td>\n    </tr>\n    <tr>\n      <th>...</th>\n      <td>...</td>\n      <td>...</td>\n      <td>...</td>\n      <td>...</td>\n      <td>...</td>\n      <td>...</td>\n      <td>...</td>\n      <td>...</td>\n      <td>...</td>\n      <td>...</td>\n      <td>...</td>\n    </tr>\n    <tr>\n      <th>131204</th>\n      <td>2585586</td>\n      <td>206199</td>\n      <td>train</td>\n      <td>20</td>\n      <td>2</td>\n      <td>16</td>\n      <td>30</td>\n      <td>1.000000</td>\n      <td>1.0</td>\n      <td>3420838</td>\n      <td>True</td>\n    </tr>\n    <tr>\n      <th>131205</th>\n      <td>943915</td>\n      <td>206200</td>\n      <td>train</td>\n      <td>24</td>\n      <td>6</td>\n      <td>19</td>\n      <td>6</td>\n      <td>0.652174</td>\n      <td>1.0</td>\n      <td>3420862</td>\n      <td>True</td>\n    </tr>\n    <tr>\n      <th>131206</th>\n      <td>2371631</td>\n      <td>206203</td>\n      <td>train</td>\n      <td>6</td>\n      <td>4</td>\n      <td>19</td>\n      <td>30</td>\n      <td>0.000000</td>\n      <td>1.0</td>\n      <td>3420924</td>\n      <td>False</td>\n    </tr>\n    <tr>\n      <th>131207</th>\n      <td>1716008</td>\n      <td>206205</td>\n      <td>train</td>\n      <td>4</td>\n      <td>1</td>\n      <td>16</td>\n      <td>10</td>\n      <td>0.000000</td>\n      <td>1.0</td>\n      <td>3420933</td>\n      <td>False</td>\n    </tr>\n    <tr>\n      <th>131208</th>\n      <td>272231</td>\n      <td>206209</td>\n      <td>train</td>\n      <td>14</td>\n      <td>6</td>\n      <td>14</td>\n      <td>30</td>\n      <td>0.153846</td>\n      <td>1.0</td>\n      <td>3421082</td>\n      <td>False</td>\n    </tr>\n  </tbody>\n</table>\n<p>131209 rows × 11 columns</p>\n</div>"
     },
     "execution_count": 310,
     "metadata": {},
     "output_type": "execute_result"
    }
   ],
   "source": [
    "orders_tip_test = pd.merge(orders_tip.drop('tip', axis=1), tip_test)\n",
    "orders_tip_test['tip'] = decision_tree_clf.predict(orders_tip_test[features])\n",
    "orders_tip_test"
   ]
  },
  {
   "cell_type": "code",
   "execution_count": 311,
   "id": "192f5f80-1fb3-4a96-9909-6ec9ac22bc49",
   "metadata": {
    "ExecuteTime": {
     "end_time": "2024-05-10T16:38:42.878566300Z",
     "start_time": "2024-05-10T16:38:42.867722100Z"
    }
   },
   "outputs": [
    {
     "data": {
      "text/plain": "                 order_id    tip\n0            10   1187899  False\n1            25   1492625   True\n2            49   2196797   True\n3            74    525192   True\n4            78    880375   True\n...         ...       ...    ...\n131204  3420838   2585586   True\n131205  3420862    943915   True\n131206  3420924   2371631  False\n131207  3420933   1716008  False\n131208  3421082    272231  False\n\n[131209 rows x 3 columns]",
      "text/html": "<div>\n<style scoped>\n    .dataframe tbody tr th:only-of-type {\n        vertical-align: middle;\n    }\n\n    .dataframe tbody tr th {\n        vertical-align: top;\n    }\n\n    .dataframe thead th {\n        text-align: right;\n    }\n</style>\n<table border=\"1\" class=\"dataframe\">\n  <thead>\n    <tr style=\"text-align: right;\">\n      <th></th>\n      <th></th>\n      <th>order_id</th>\n      <th>tip</th>\n    </tr>\n  </thead>\n  <tbody>\n    <tr>\n      <th>0</th>\n      <td>10</td>\n      <td>1187899</td>\n      <td>False</td>\n    </tr>\n    <tr>\n      <th>1</th>\n      <td>25</td>\n      <td>1492625</td>\n      <td>True</td>\n    </tr>\n    <tr>\n      <th>2</th>\n      <td>49</td>\n      <td>2196797</td>\n      <td>True</td>\n    </tr>\n    <tr>\n      <th>3</th>\n      <td>74</td>\n      <td>525192</td>\n      <td>True</td>\n    </tr>\n    <tr>\n      <th>4</th>\n      <td>78</td>\n      <td>880375</td>\n      <td>True</td>\n    </tr>\n    <tr>\n      <th>...</th>\n      <td>...</td>\n      <td>...</td>\n      <td>...</td>\n    </tr>\n    <tr>\n      <th>131204</th>\n      <td>3420838</td>\n      <td>2585586</td>\n      <td>True</td>\n    </tr>\n    <tr>\n      <th>131205</th>\n      <td>3420862</td>\n      <td>943915</td>\n      <td>True</td>\n    </tr>\n    <tr>\n      <th>131206</th>\n      <td>3420924</td>\n      <td>2371631</td>\n      <td>False</td>\n    </tr>\n    <tr>\n      <th>131207</th>\n      <td>3420933</td>\n      <td>1716008</td>\n      <td>False</td>\n    </tr>\n    <tr>\n      <th>131208</th>\n      <td>3421082</td>\n      <td>272231</td>\n      <td>False</td>\n    </tr>\n  </tbody>\n</table>\n<p>131209 rows × 3 columns</p>\n</div>"
     },
     "execution_count": 311,
     "metadata": {},
     "output_type": "execute_result"
    }
   ],
   "source": [
    "orders_tip_test_csv = orders_tip_test[tip_test.columns].copy()\n",
    "orders_tip_test_csv.rename(columns={tip_test.columns[0]: ''}, inplace=True)\n",
    "orders_tip_test_csv"
   ]
  },
  {
   "cell_type": "code",
   "execution_count": 312,
   "id": "445031ef-7b8c-46cd-a7c4-4a1913bb7241",
   "metadata": {
    "ExecuteTime": {
     "end_time": "2024-05-10T16:38:43.048717800Z",
     "start_time": "2024-05-10T16:38:42.878566300Z"
    }
   },
   "outputs": [],
   "source": [
    "orders_tip_test_csv.to_csv(os.path.join(DATA_DIR, 'tip_testdaten1.csv'), index=False)"
   ]
  },
  {
   "cell_type": "markdown",
   "id": "c5253ccdfb5e94bf",
   "metadata": {
    "collapsed": false
   },
   "source": [
    "### Task 2.5 a)"
   ]
  },
  {
   "cell_type": "code",
   "execution_count": 313,
   "id": "c403205a-b213-442f-b8b5-3143e6a06562",
   "metadata": {
    "ExecuteTime": {
     "end_time": "2024-05-10T16:38:43.110646500Z",
     "start_time": "2024-05-10T16:38:42.978432900Z"
    }
   },
   "outputs": [
    {
     "data": {
      "text/plain": "         order_id  user_id eval_set  order_number  order_dow  \\\n1159      2669994       77    prior             1          2   \n1518       185725      101    prior             1          2   \n1598      2313085      108    prior             1          0   \n1823      1747819      126    prior             1          6   \n1943      3204695      135    prior             1          3   \n...           ...      ...      ...           ...        ...   \n3420524   2962368   206178    prior             1          3   \n3420593     31169   206183    prior             1          0   \n3420750   3395125   206194    prior             1          1   \n3420925   1438269   206204    prior             1          1   \n3420930    969311   206205    prior             1          4   \n\n         order_hour_of_day  days_since_prior_order  \n1159                    11                     NaN  \n1518                    11                     NaN  \n1598                    13                     NaN  \n1823                    11                     NaN  \n1943                    19                     NaN  \n...                    ...                     ...  \n3420524                 10                     NaN  \n3420593                 13                     NaN  \n3420750                  9                     NaN  \n3420925                 11                     NaN  \n3420930                 12                     NaN  \n\n[16464 rows x 7 columns]",
      "text/html": "<div>\n<style scoped>\n    .dataframe tbody tr th:only-of-type {\n        vertical-align: middle;\n    }\n\n    .dataframe tbody tr th {\n        vertical-align: top;\n    }\n\n    .dataframe thead th {\n        text-align: right;\n    }\n</style>\n<table border=\"1\" class=\"dataframe\">\n  <thead>\n    <tr style=\"text-align: right;\">\n      <th></th>\n      <th>order_id</th>\n      <th>user_id</th>\n      <th>eval_set</th>\n      <th>order_number</th>\n      <th>order_dow</th>\n      <th>order_hour_of_day</th>\n      <th>days_since_prior_order</th>\n    </tr>\n  </thead>\n  <tbody>\n    <tr>\n      <th>1159</th>\n      <td>2669994</td>\n      <td>77</td>\n      <td>prior</td>\n      <td>1</td>\n      <td>2</td>\n      <td>11</td>\n      <td>NaN</td>\n    </tr>\n    <tr>\n      <th>1518</th>\n      <td>185725</td>\n      <td>101</td>\n      <td>prior</td>\n      <td>1</td>\n      <td>2</td>\n      <td>11</td>\n      <td>NaN</td>\n    </tr>\n    <tr>\n      <th>1598</th>\n      <td>2313085</td>\n      <td>108</td>\n      <td>prior</td>\n      <td>1</td>\n      <td>0</td>\n      <td>13</td>\n      <td>NaN</td>\n    </tr>\n    <tr>\n      <th>1823</th>\n      <td>1747819</td>\n      <td>126</td>\n      <td>prior</td>\n      <td>1</td>\n      <td>6</td>\n      <td>11</td>\n      <td>NaN</td>\n    </tr>\n    <tr>\n      <th>1943</th>\n      <td>3204695</td>\n      <td>135</td>\n      <td>prior</td>\n      <td>1</td>\n      <td>3</td>\n      <td>19</td>\n      <td>NaN</td>\n    </tr>\n    <tr>\n      <th>...</th>\n      <td>...</td>\n      <td>...</td>\n      <td>...</td>\n      <td>...</td>\n      <td>...</td>\n      <td>...</td>\n      <td>...</td>\n    </tr>\n    <tr>\n      <th>3420524</th>\n      <td>2962368</td>\n      <td>206178</td>\n      <td>prior</td>\n      <td>1</td>\n      <td>3</td>\n      <td>10</td>\n      <td>NaN</td>\n    </tr>\n    <tr>\n      <th>3420593</th>\n      <td>31169</td>\n      <td>206183</td>\n      <td>prior</td>\n      <td>1</td>\n      <td>0</td>\n      <td>13</td>\n      <td>NaN</td>\n    </tr>\n    <tr>\n      <th>3420750</th>\n      <td>3395125</td>\n      <td>206194</td>\n      <td>prior</td>\n      <td>1</td>\n      <td>1</td>\n      <td>9</td>\n      <td>NaN</td>\n    </tr>\n    <tr>\n      <th>3420925</th>\n      <td>1438269</td>\n      <td>206204</td>\n      <td>prior</td>\n      <td>1</td>\n      <td>1</td>\n      <td>11</td>\n      <td>NaN</td>\n    </tr>\n    <tr>\n      <th>3420930</th>\n      <td>969311</td>\n      <td>206205</td>\n      <td>prior</td>\n      <td>1</td>\n      <td>4</td>\n      <td>12</td>\n      <td>NaN</td>\n    </tr>\n  </tbody>\n</table>\n<p>16464 rows × 7 columns</p>\n</div>"
     },
     "execution_count": 313,
     "metadata": {},
     "output_type": "execute_result"
    }
   ],
   "source": [
    "first_orders = orders[orders['order_number'] == 1]\n",
    "orders_21137 = op[op['product_id'] == 21137]\n",
    "first_orders_21137 = first_orders[first_orders['order_id'].isin(orders_21137['order_id'])]\n",
    "first_orders_21137"
   ]
  },
  {
   "cell_type": "markdown",
   "id": "58217301-258e-40d7-9553-31a0ee58d20b",
   "metadata": {},
   "source": [
    "##### Percentage of orders containing product 21137 (organic strawberries) first orders of the respective user:"
   ]
  },
  {
   "cell_type": "code",
   "execution_count": 314,
   "id": "70501323-1411-495b-9b76-b8784d5efb59",
   "metadata": {
    "ExecuteTime": {
     "end_time": "2024-05-10T16:38:43.111194500Z",
     "start_time": "2024-05-10T16:38:43.074166400Z"
    }
   },
   "outputs": [
    {
     "data": {
      "text/plain": "7.984132603329631"
     },
     "execution_count": 314,
     "metadata": {},
     "output_type": "execute_result"
    }
   ],
   "source": [
    "(first_orders_21137.shape[0] / first_orders.shape[0]) * 100"
   ]
  },
  {
   "cell_type": "markdown",
   "id": "9d580707-824e-42cd-ad0c-1876d9c58158",
   "metadata": {},
   "source": [
    "### Task 2.5 b)"
   ]
  },
  {
   "cell_type": "code",
   "execution_count": 315,
   "id": "a7f817a4-9008-486f-ad27-e1b014575910",
   "metadata": {
    "ExecuteTime": {
     "end_time": "2024-05-10T16:38:43.314757700Z",
     "start_time": "2024-05-10T16:38:43.081548Z"
    }
   },
   "outputs": [
    {
     "data": {
      "text/plain": "        order_id  user_id eval_set  order_number  order_dow  \\\n17       2461523       18    train             7          6   \n26       2614670       27    train            82          5   \n58       1651215       59    train            11          0   \n62       2989905       63    train            40          6   \n78         21708       79    train             8          0   \n...          ...      ...      ...           ...        ...   \n206152    642502   206153    train            14          0   \n206173   1620607   206174    train            53          4   \n206187   3367945   206188    train             8          1   \n206199    943915   206200    train            24          6   \n206204   1716008   206205    train             4          1   \n\n        order_hour_of_day  days_since_prior_order  \n17                      9                     7.0  \n26                     14                     4.0  \n58                     12                    10.0  \n62                      8                    13.0  \n78                      6                    30.0  \n...                   ...                     ...  \n206152                  8                    21.0  \n206173                 22                    10.0  \n206187                 21                    30.0  \n206199                 19                     6.0  \n206204                 16                    10.0  \n\n[10894 rows x 7 columns]",
      "text/html": "<div>\n<style scoped>\n    .dataframe tbody tr th:only-of-type {\n        vertical-align: middle;\n    }\n\n    .dataframe tbody tr th {\n        vertical-align: top;\n    }\n\n    .dataframe thead th {\n        text-align: right;\n    }\n</style>\n<table border=\"1\" class=\"dataframe\">\n  <thead>\n    <tr style=\"text-align: right;\">\n      <th></th>\n      <th>order_id</th>\n      <th>user_id</th>\n      <th>eval_set</th>\n      <th>order_number</th>\n      <th>order_dow</th>\n      <th>order_hour_of_day</th>\n      <th>days_since_prior_order</th>\n    </tr>\n  </thead>\n  <tbody>\n    <tr>\n      <th>17</th>\n      <td>2461523</td>\n      <td>18</td>\n      <td>train</td>\n      <td>7</td>\n      <td>6</td>\n      <td>9</td>\n      <td>7.0</td>\n    </tr>\n    <tr>\n      <th>26</th>\n      <td>2614670</td>\n      <td>27</td>\n      <td>train</td>\n      <td>82</td>\n      <td>5</td>\n      <td>14</td>\n      <td>4.0</td>\n    </tr>\n    <tr>\n      <th>58</th>\n      <td>1651215</td>\n      <td>59</td>\n      <td>train</td>\n      <td>11</td>\n      <td>0</td>\n      <td>12</td>\n      <td>10.0</td>\n    </tr>\n    <tr>\n      <th>62</th>\n      <td>2989905</td>\n      <td>63</td>\n      <td>train</td>\n      <td>40</td>\n      <td>6</td>\n      <td>8</td>\n      <td>13.0</td>\n    </tr>\n    <tr>\n      <th>78</th>\n      <td>21708</td>\n      <td>79</td>\n      <td>train</td>\n      <td>8</td>\n      <td>0</td>\n      <td>6</td>\n      <td>30.0</td>\n    </tr>\n    <tr>\n      <th>...</th>\n      <td>...</td>\n      <td>...</td>\n      <td>...</td>\n      <td>...</td>\n      <td>...</td>\n      <td>...</td>\n      <td>...</td>\n    </tr>\n    <tr>\n      <th>206152</th>\n      <td>642502</td>\n      <td>206153</td>\n      <td>train</td>\n      <td>14</td>\n      <td>0</td>\n      <td>8</td>\n      <td>21.0</td>\n    </tr>\n    <tr>\n      <th>206173</th>\n      <td>1620607</td>\n      <td>206174</td>\n      <td>train</td>\n      <td>53</td>\n      <td>4</td>\n      <td>22</td>\n      <td>10.0</td>\n    </tr>\n    <tr>\n      <th>206187</th>\n      <td>3367945</td>\n      <td>206188</td>\n      <td>train</td>\n      <td>8</td>\n      <td>1</td>\n      <td>21</td>\n      <td>30.0</td>\n    </tr>\n    <tr>\n      <th>206199</th>\n      <td>943915</td>\n      <td>206200</td>\n      <td>train</td>\n      <td>24</td>\n      <td>6</td>\n      <td>19</td>\n      <td>6.0</td>\n    </tr>\n    <tr>\n      <th>206204</th>\n      <td>1716008</td>\n      <td>206205</td>\n      <td>train</td>\n      <td>4</td>\n      <td>1</td>\n      <td>16</td>\n      <td>10.0</td>\n    </tr>\n  </tbody>\n</table>\n<p>10894 rows × 7 columns</p>\n</div>"
     },
     "execution_count": 315,
     "metadata": {},
     "output_type": "execute_result"
    }
   ],
   "source": [
    "last_orders = orders[['user_id', 'order_number']].groupby('user_id').max().reset_index()\n",
    "last_orders = pd.merge(orders, last_orders, on=['user_id', 'order_number'])\n",
    "last_orders_21137 = last_orders[last_orders['order_id'].isin(orders_21137['order_id'])]\n",
    "last_orders_21137"
   ]
  },
  {
   "cell_type": "markdown",
   "id": "3fed0ad9-1d57-49bf-9cfe-2ccc4733a9ea",
   "metadata": {},
   "source": [
    "##### Percentage of orders containing product 21137 (organic strawberries) last orders of the respective user:"
   ]
  },
  {
   "cell_type": "code",
   "execution_count": 316,
   "id": "123f713e-c492-46dc-9ae7-79ec7e7792ff",
   "metadata": {
    "ExecuteTime": {
     "end_time": "2024-05-10T16:38:43.344349400Z",
     "start_time": "2024-05-10T16:38:43.314757700Z"
    }
   },
   "outputs": [
    {
     "data": {
      "text/plain": "5.282989588233297"
     },
     "execution_count": 316,
     "metadata": {},
     "output_type": "execute_result"
    }
   ],
   "source": [
    "(last_orders_21137.shape[0] / last_orders.shape[0]) * 100"
   ]
  },
  {
   "cell_type": "markdown",
   "id": "50916ce3-5fda-4446-a818-4757f141bf71",
   "metadata": {},
   "source": [
    "##### Comparison:\n",
    "Percentage of first orders containing product 21137 (organic strawberries) of the respective user: $\\approx 7.984\\%$\\\n",
    "Percentage of last orders containing product 21137 (organic strawberries) of the respective user: $\\approx 5.283\\%$\n",
    "\n",
    "Therefore, the ratio of first orders containing product 21137 (organic strawberries) is $\\approx 51.126\\%$ larger than the ratio of last orders containing this product. This seems to be rather a systematic reason than being random due to the relatively large difference. It seems that users buy the product 21137 (organic strawberries) less often in their last order compared to their first order."
   ]
  },
  {
   "cell_type": "markdown",
   "source": [
    "### Sanity Check"
   ],
   "metadata": {
    "collapsed": false
   },
   "id": "ef97f134b5e85949"
  },
  {
   "cell_type": "code",
   "outputs": [],
   "source": [
    "orders_tip_test_alt = orders_tip_train[['user_id', 'order_number']].groupby('user_id').max().reset_index()\n",
    "orders_tip_test_alt = pd.merge(orders_tip_train, orders_tip_test_alt)\n",
    "\n",
    "orders_tip_train_alt = orders_tip_train[~orders_tip_train['order_id'].isin(orders_tip_test_alt['order_id'])]"
   ],
   "metadata": {
    "collapsed": false,
    "ExecuteTime": {
     "end_time": "2024-05-10T16:38:43.728347700Z",
     "start_time": "2024-05-10T16:38:43.319933400Z"
    }
   },
   "id": "9ee176a29d8e8382",
   "execution_count": 317
  },
  {
   "cell_type": "code",
   "outputs": [
    {
     "data": {
      "text/plain": "True"
     },
     "execution_count": 318,
     "metadata": {},
     "output_type": "execute_result"
    }
   ],
   "source": [
    "(len(orders_tip_train_alt) + len(orders_tip_test_alt)) == len(orders_tip_train)"
   ],
   "metadata": {
    "collapsed": false,
    "ExecuteTime": {
     "end_time": "2024-05-10T16:38:43.743762500Z",
     "start_time": "2024-05-10T16:38:43.729852700Z"
    }
   },
   "id": "d786480d940f97e3",
   "execution_count": 318
  },
  {
   "cell_type": "code",
   "outputs": [],
   "source": [
    "features = ['order_number', 'order_dow', 'order_hour_of_day', 'days_since_prior_order', 'tip_history',\n",
    "            'relative_order_number']\n",
    "# param_grid = {'criterion': ['entropy'],\n",
    "# 'max_depth': [depth for depth in range(1, 21)],\n",
    "# 'min_samples_leaf': [2 ** i for i in range(0, 15)]}\n",
    "param_grid = {'criterion': ['entropy'],\n",
    "              'max_depth': [11],\n",
    "              'min_samples_leaf': [512]}\n",
    "cv = KFold(n_splits=5, shuffle=True, random_state=42)\n",
    "grid_search_clf = GridSearchCV(DecisionTreeClassifier(), param_grid, cv=cv, n_jobs=-1, scoring='accuracy')"
   ],
   "metadata": {
    "collapsed": false,
    "ExecuteTime": {
     "end_time": "2024-05-10T16:41:44.542451900Z",
     "start_time": "2024-05-10T16:41:43.926205800Z"
    }
   },
   "id": "68e972fe92878a8d",
   "execution_count": 323
  },
  {
   "cell_type": "code",
   "outputs": [
    {
     "data": {
      "text/plain": "GridSearchCV(cv=KFold(n_splits=5, random_state=42, shuffle=True),\n             estimator=DecisionTreeClassifier(), n_jobs=-1,\n             param_grid={'criterion': ['entropy'], 'max_depth': [11],\n                         'min_samples_leaf': [512]},\n             scoring='accuracy')",
      "text/html": "<style>#sk-container-id-21 {\n  /* Definition of color scheme common for light and dark mode */\n  --sklearn-color-text: black;\n  --sklearn-color-line: gray;\n  /* Definition of color scheme for unfitted estimators */\n  --sklearn-color-unfitted-level-0: #fff5e6;\n  --sklearn-color-unfitted-level-1: #f6e4d2;\n  --sklearn-color-unfitted-level-2: #ffe0b3;\n  --sklearn-color-unfitted-level-3: chocolate;\n  /* Definition of color scheme for fitted estimators */\n  --sklearn-color-fitted-level-0: #f0f8ff;\n  --sklearn-color-fitted-level-1: #d4ebff;\n  --sklearn-color-fitted-level-2: #b3dbfd;\n  --sklearn-color-fitted-level-3: cornflowerblue;\n\n  /* Specific color for light theme */\n  --sklearn-color-text-on-default-background: var(--sg-text-color, var(--theme-code-foreground, var(--jp-content-font-color1, black)));\n  --sklearn-color-background: var(--sg-background-color, var(--theme-background, var(--jp-layout-color0, white)));\n  --sklearn-color-border-box: var(--sg-text-color, var(--theme-code-foreground, var(--jp-content-font-color1, black)));\n  --sklearn-color-icon: #696969;\n\n  @media (prefers-color-scheme: dark) {\n    /* Redefinition of color scheme for dark theme */\n    --sklearn-color-text-on-default-background: var(--sg-text-color, var(--theme-code-foreground, var(--jp-content-font-color1, white)));\n    --sklearn-color-background: var(--sg-background-color, var(--theme-background, var(--jp-layout-color0, #111)));\n    --sklearn-color-border-box: var(--sg-text-color, var(--theme-code-foreground, var(--jp-content-font-color1, white)));\n    --sklearn-color-icon: #878787;\n  }\n}\n\n#sk-container-id-21 {\n  color: var(--sklearn-color-text);\n}\n\n#sk-container-id-21 pre {\n  padding: 0;\n}\n\n#sk-container-id-21 input.sk-hidden--visually {\n  border: 0;\n  clip: rect(1px 1px 1px 1px);\n  clip: rect(1px, 1px, 1px, 1px);\n  height: 1px;\n  margin: -1px;\n  overflow: hidden;\n  padding: 0;\n  position: absolute;\n  width: 1px;\n}\n\n#sk-container-id-21 div.sk-dashed-wrapped {\n  border: 1px dashed var(--sklearn-color-line);\n  margin: 0 0.4em 0.5em 0.4em;\n  box-sizing: border-box;\n  padding-bottom: 0.4em;\n  background-color: var(--sklearn-color-background);\n}\n\n#sk-container-id-21 div.sk-container {\n  /* jupyter's `normalize.less` sets `[hidden] { display: none; }`\n     but bootstrap.min.css set `[hidden] { display: none !important; }`\n     so we also need the `!important` here to be able to override the\n     default hidden behavior on the sphinx rendered scikit-learn.org.\n     See: https://github.com/scikit-learn/scikit-learn/issues/21755 */\n  display: inline-block !important;\n  position: relative;\n}\n\n#sk-container-id-21 div.sk-text-repr-fallback {\n  display: none;\n}\n\ndiv.sk-parallel-item,\ndiv.sk-serial,\ndiv.sk-item {\n  /* draw centered vertical line to link estimators */\n  background-image: linear-gradient(var(--sklearn-color-text-on-default-background), var(--sklearn-color-text-on-default-background));\n  background-size: 2px 100%;\n  background-repeat: no-repeat;\n  background-position: center center;\n}\n\n/* Parallel-specific style estimator block */\n\n#sk-container-id-21 div.sk-parallel-item::after {\n  content: \"\";\n  width: 100%;\n  border-bottom: 2px solid var(--sklearn-color-text-on-default-background);\n  flex-grow: 1;\n}\n\n#sk-container-id-21 div.sk-parallel {\n  display: flex;\n  align-items: stretch;\n  justify-content: center;\n  background-color: var(--sklearn-color-background);\n  position: relative;\n}\n\n#sk-container-id-21 div.sk-parallel-item {\n  display: flex;\n  flex-direction: column;\n}\n\n#sk-container-id-21 div.sk-parallel-item:first-child::after {\n  align-self: flex-end;\n  width: 50%;\n}\n\n#sk-container-id-21 div.sk-parallel-item:last-child::after {\n  align-self: flex-start;\n  width: 50%;\n}\n\n#sk-container-id-21 div.sk-parallel-item:only-child::after {\n  width: 0;\n}\n\n/* Serial-specific style estimator block */\n\n#sk-container-id-21 div.sk-serial {\n  display: flex;\n  flex-direction: column;\n  align-items: center;\n  background-color: var(--sklearn-color-background);\n  padding-right: 1em;\n  padding-left: 1em;\n}\n\n\n/* Toggleable style: style used for estimator/Pipeline/ColumnTransformer box that is\nclickable and can be expanded/collapsed.\n- Pipeline and ColumnTransformer use this feature and define the default style\n- Estimators will overwrite some part of the style using the `sk-estimator` class\n*/\n\n/* Pipeline and ColumnTransformer style (default) */\n\n#sk-container-id-21 div.sk-toggleable {\n  /* Default theme specific background. It is overwritten whether we have a\n  specific estimator or a Pipeline/ColumnTransformer */\n  background-color: var(--sklearn-color-background);\n}\n\n/* Toggleable label */\n#sk-container-id-21 label.sk-toggleable__label {\n  cursor: pointer;\n  display: block;\n  width: 100%;\n  margin-bottom: 0;\n  padding: 0.5em;\n  box-sizing: border-box;\n  text-align: center;\n}\n\n#sk-container-id-21 label.sk-toggleable__label-arrow:before {\n  /* Arrow on the left of the label */\n  content: \"▸\";\n  float: left;\n  margin-right: 0.25em;\n  color: var(--sklearn-color-icon);\n}\n\n#sk-container-id-21 label.sk-toggleable__label-arrow:hover:before {\n  color: var(--sklearn-color-text);\n}\n\n/* Toggleable content - dropdown */\n\n#sk-container-id-21 div.sk-toggleable__content {\n  max-height: 0;\n  max-width: 0;\n  overflow: hidden;\n  text-align: left;\n  /* unfitted */\n  background-color: var(--sklearn-color-unfitted-level-0);\n}\n\n#sk-container-id-21 div.sk-toggleable__content.fitted {\n  /* fitted */\n  background-color: var(--sklearn-color-fitted-level-0);\n}\n\n#sk-container-id-21 div.sk-toggleable__content pre {\n  margin: 0.2em;\n  border-radius: 0.25em;\n  color: var(--sklearn-color-text);\n  /* unfitted */\n  background-color: var(--sklearn-color-unfitted-level-0);\n}\n\n#sk-container-id-21 div.sk-toggleable__content.fitted pre {\n  /* unfitted */\n  background-color: var(--sklearn-color-fitted-level-0);\n}\n\n#sk-container-id-21 input.sk-toggleable__control:checked~div.sk-toggleable__content {\n  /* Expand drop-down */\n  max-height: 200px;\n  max-width: 100%;\n  overflow: auto;\n}\n\n#sk-container-id-21 input.sk-toggleable__control:checked~label.sk-toggleable__label-arrow:before {\n  content: \"▾\";\n}\n\n/* Pipeline/ColumnTransformer-specific style */\n\n#sk-container-id-21 div.sk-label input.sk-toggleable__control:checked~label.sk-toggleable__label {\n  color: var(--sklearn-color-text);\n  background-color: var(--sklearn-color-unfitted-level-2);\n}\n\n#sk-container-id-21 div.sk-label.fitted input.sk-toggleable__control:checked~label.sk-toggleable__label {\n  background-color: var(--sklearn-color-fitted-level-2);\n}\n\n/* Estimator-specific style */\n\n/* Colorize estimator box */\n#sk-container-id-21 div.sk-estimator input.sk-toggleable__control:checked~label.sk-toggleable__label {\n  /* unfitted */\n  background-color: var(--sklearn-color-unfitted-level-2);\n}\n\n#sk-container-id-21 div.sk-estimator.fitted input.sk-toggleable__control:checked~label.sk-toggleable__label {\n  /* fitted */\n  background-color: var(--sklearn-color-fitted-level-2);\n}\n\n#sk-container-id-21 div.sk-label label.sk-toggleable__label,\n#sk-container-id-21 div.sk-label label {\n  /* The background is the default theme color */\n  color: var(--sklearn-color-text-on-default-background);\n}\n\n/* On hover, darken the color of the background */\n#sk-container-id-21 div.sk-label:hover label.sk-toggleable__label {\n  color: var(--sklearn-color-text);\n  background-color: var(--sklearn-color-unfitted-level-2);\n}\n\n/* Label box, darken color on hover, fitted */\n#sk-container-id-21 div.sk-label.fitted:hover label.sk-toggleable__label.fitted {\n  color: var(--sklearn-color-text);\n  background-color: var(--sklearn-color-fitted-level-2);\n}\n\n/* Estimator label */\n\n#sk-container-id-21 div.sk-label label {\n  font-family: monospace;\n  font-weight: bold;\n  display: inline-block;\n  line-height: 1.2em;\n}\n\n#sk-container-id-21 div.sk-label-container {\n  text-align: center;\n}\n\n/* Estimator-specific */\n#sk-container-id-21 div.sk-estimator {\n  font-family: monospace;\n  border: 1px dotted var(--sklearn-color-border-box);\n  border-radius: 0.25em;\n  box-sizing: border-box;\n  margin-bottom: 0.5em;\n  /* unfitted */\n  background-color: var(--sklearn-color-unfitted-level-0);\n}\n\n#sk-container-id-21 div.sk-estimator.fitted {\n  /* fitted */\n  background-color: var(--sklearn-color-fitted-level-0);\n}\n\n/* on hover */\n#sk-container-id-21 div.sk-estimator:hover {\n  /* unfitted */\n  background-color: var(--sklearn-color-unfitted-level-2);\n}\n\n#sk-container-id-21 div.sk-estimator.fitted:hover {\n  /* fitted */\n  background-color: var(--sklearn-color-fitted-level-2);\n}\n\n/* Specification for estimator info (e.g. \"i\" and \"?\") */\n\n/* Common style for \"i\" and \"?\" */\n\n.sk-estimator-doc-link,\na:link.sk-estimator-doc-link,\na:visited.sk-estimator-doc-link {\n  float: right;\n  font-size: smaller;\n  line-height: 1em;\n  font-family: monospace;\n  background-color: var(--sklearn-color-background);\n  border-radius: 1em;\n  height: 1em;\n  width: 1em;\n  text-decoration: none !important;\n  margin-left: 1ex;\n  /* unfitted */\n  border: var(--sklearn-color-unfitted-level-1) 1pt solid;\n  color: var(--sklearn-color-unfitted-level-1);\n}\n\n.sk-estimator-doc-link.fitted,\na:link.sk-estimator-doc-link.fitted,\na:visited.sk-estimator-doc-link.fitted {\n  /* fitted */\n  border: var(--sklearn-color-fitted-level-1) 1pt solid;\n  color: var(--sklearn-color-fitted-level-1);\n}\n\n/* On hover */\ndiv.sk-estimator:hover .sk-estimator-doc-link:hover,\n.sk-estimator-doc-link:hover,\ndiv.sk-label-container:hover .sk-estimator-doc-link:hover,\n.sk-estimator-doc-link:hover {\n  /* unfitted */\n  background-color: var(--sklearn-color-unfitted-level-3);\n  color: var(--sklearn-color-background);\n  text-decoration: none;\n}\n\ndiv.sk-estimator.fitted:hover .sk-estimator-doc-link.fitted:hover,\n.sk-estimator-doc-link.fitted:hover,\ndiv.sk-label-container:hover .sk-estimator-doc-link.fitted:hover,\n.sk-estimator-doc-link.fitted:hover {\n  /* fitted */\n  background-color: var(--sklearn-color-fitted-level-3);\n  color: var(--sklearn-color-background);\n  text-decoration: none;\n}\n\n/* Span, style for the box shown on hovering the info icon */\n.sk-estimator-doc-link span {\n  display: none;\n  z-index: 9999;\n  position: relative;\n  font-weight: normal;\n  right: .2ex;\n  padding: .5ex;\n  margin: .5ex;\n  width: min-content;\n  min-width: 20ex;\n  max-width: 50ex;\n  color: var(--sklearn-color-text);\n  box-shadow: 2pt 2pt 4pt #999;\n  /* unfitted */\n  background: var(--sklearn-color-unfitted-level-0);\n  border: .5pt solid var(--sklearn-color-unfitted-level-3);\n}\n\n.sk-estimator-doc-link.fitted span {\n  /* fitted */\n  background: var(--sklearn-color-fitted-level-0);\n  border: var(--sklearn-color-fitted-level-3);\n}\n\n.sk-estimator-doc-link:hover span {\n  display: block;\n}\n\n/* \"?\"-specific style due to the `<a>` HTML tag */\n\n#sk-container-id-21 a.estimator_doc_link {\n  float: right;\n  font-size: 1rem;\n  line-height: 1em;\n  font-family: monospace;\n  background-color: var(--sklearn-color-background);\n  border-radius: 1rem;\n  height: 1rem;\n  width: 1rem;\n  text-decoration: none;\n  /* unfitted */\n  color: var(--sklearn-color-unfitted-level-1);\n  border: var(--sklearn-color-unfitted-level-1) 1pt solid;\n}\n\n#sk-container-id-21 a.estimator_doc_link.fitted {\n  /* fitted */\n  border: var(--sklearn-color-fitted-level-1) 1pt solid;\n  color: var(--sklearn-color-fitted-level-1);\n}\n\n/* On hover */\n#sk-container-id-21 a.estimator_doc_link:hover {\n  /* unfitted */\n  background-color: var(--sklearn-color-unfitted-level-3);\n  color: var(--sklearn-color-background);\n  text-decoration: none;\n}\n\n#sk-container-id-21 a.estimator_doc_link.fitted:hover {\n  /* fitted */\n  background-color: var(--sklearn-color-fitted-level-3);\n}\n</style><div id=\"sk-container-id-21\" class=\"sk-top-container\"><div class=\"sk-text-repr-fallback\"><pre>GridSearchCV(cv=KFold(n_splits=5, random_state=42, shuffle=True),\n             estimator=DecisionTreeClassifier(), n_jobs=-1,\n             param_grid={&#x27;criterion&#x27;: [&#x27;entropy&#x27;], &#x27;max_depth&#x27;: [11],\n                         &#x27;min_samples_leaf&#x27;: [512]},\n             scoring=&#x27;accuracy&#x27;)</pre><b>In a Jupyter environment, please rerun this cell to show the HTML representation or trust the notebook. <br />On GitHub, the HTML representation is unable to render, please try loading this page with nbviewer.org.</b></div><div class=\"sk-container\" hidden><div class=\"sk-item sk-dashed-wrapped\"><div class=\"sk-label-container\"><div class=\"sk-label fitted sk-toggleable\"><input class=\"sk-toggleable__control sk-hidden--visually\" id=\"sk-estimator-id-61\" type=\"checkbox\" ><label for=\"sk-estimator-id-61\" class=\"sk-toggleable__label fitted sk-toggleable__label-arrow fitted\">&nbsp;&nbsp;GridSearchCV<a class=\"sk-estimator-doc-link fitted\" rel=\"noreferrer\" target=\"_blank\" href=\"https://scikit-learn.org/1.4/modules/generated/sklearn.model_selection.GridSearchCV.html\">?<span>Documentation for GridSearchCV</span></a><span class=\"sk-estimator-doc-link fitted\">i<span>Fitted</span></span></label><div class=\"sk-toggleable__content fitted\"><pre>GridSearchCV(cv=KFold(n_splits=5, random_state=42, shuffle=True),\n             estimator=DecisionTreeClassifier(), n_jobs=-1,\n             param_grid={&#x27;criterion&#x27;: [&#x27;entropy&#x27;], &#x27;max_depth&#x27;: [11],\n                         &#x27;min_samples_leaf&#x27;: [512]},\n             scoring=&#x27;accuracy&#x27;)</pre></div> </div></div><div class=\"sk-parallel\"><div class=\"sk-parallel-item\"><div class=\"sk-item\"><div class=\"sk-label-container\"><div class=\"sk-label fitted sk-toggleable\"><input class=\"sk-toggleable__control sk-hidden--visually\" id=\"sk-estimator-id-62\" type=\"checkbox\" ><label for=\"sk-estimator-id-62\" class=\"sk-toggleable__label fitted sk-toggleable__label-arrow fitted\">estimator: DecisionTreeClassifier</label><div class=\"sk-toggleable__content fitted\"><pre>DecisionTreeClassifier()</pre></div> </div></div><div class=\"sk-serial\"><div class=\"sk-item\"><div class=\"sk-estimator fitted sk-toggleable\"><input class=\"sk-toggleable__control sk-hidden--visually\" id=\"sk-estimator-id-63\" type=\"checkbox\" ><label for=\"sk-estimator-id-63\" class=\"sk-toggleable__label fitted sk-toggleable__label-arrow fitted\">&nbsp;DecisionTreeClassifier<a class=\"sk-estimator-doc-link fitted\" rel=\"noreferrer\" target=\"_blank\" href=\"https://scikit-learn.org/1.4/modules/generated/sklearn.tree.DecisionTreeClassifier.html\">?<span>Documentation for DecisionTreeClassifier</span></a></label><div class=\"sk-toggleable__content fitted\"><pre>DecisionTreeClassifier()</pre></div> </div></div></div></div></div></div></div></div></div>"
     },
     "execution_count": 324,
     "metadata": {},
     "output_type": "execute_result"
    }
   ],
   "source": [
    "X = orders_tip_train_alt[features]\n",
    "y = orders_tip_train_alt[['tip']]\n",
    "grid_search_clf.fit(X, y)"
   ],
   "metadata": {
    "collapsed": false,
    "ExecuteTime": {
     "end_time": "2024-05-10T16:42:00.981727300Z",
     "start_time": "2024-05-10T16:41:44.583798300Z"
    }
   },
   "id": "256d0e790de30e3b",
   "execution_count": 324
  },
  {
   "cell_type": "code",
   "outputs": [
    {
     "data": {
      "text/plain": "0.7530861694472465"
     },
     "execution_count": 325,
     "metadata": {},
     "output_type": "execute_result"
    }
   ],
   "source": [
    "grid_search_clf.best_score_"
   ],
   "metadata": {
    "collapsed": false,
    "ExecuteTime": {
     "end_time": "2024-05-10T16:42:01.024426800Z",
     "start_time": "2024-05-10T16:42:01.014806400Z"
    }
   },
   "id": "3a3607a7c68b1c9d",
   "execution_count": 325
  },
  {
   "cell_type": "code",
   "outputs": [
    {
     "data": {
      "text/plain": "        order_id  user_id eval_set  order_number  order_dow  \\\n0        2550362        1    prior            10          4   \n1         839880        2    prior            14          3   \n2        1402502        3    prior            12          1   \n3        2557754        4    prior             5          5   \n4         157374        5    prior             4          1   \n...          ...      ...      ...           ...        ...   \n206204    414137   206205    prior             3          5   \n206205   1904200   206206    prior            67          0   \n206206   1005822   206207    prior            16          2   \n206207   1882108   206208    prior            49          1   \n206208   2977660   206209    prior            13          1   \n\n        order_hour_of_day  days_since_prior_order    tip  tip_history  \\\n0                       8                      30  False     0.000000   \n1                      10                      13  False     0.615385   \n2                      15                      15   True     0.818182   \n3                      13                       0  False     0.000000   \n4                      18                      19   True     0.333333   \n...                   ...                     ...    ...          ...   \n206204                 16                      10  False     0.000000   \n206205                 13                      11  False     0.227273   \n206206                  7                      18  False     0.200000   \n206207                 22                       7   True     0.395833   \n206208                 12                       7  False     0.166667   \n\n        relative_order_number  tip_pred  \n0                    0.909091     False  \n1                    0.933333     False  \n2                    1.000000      True  \n3                    1.000000     False  \n4                    0.800000     False  \n...                       ...       ...  \n206204               0.750000     False  \n206205               1.000000     False  \n206206               1.000000     False  \n206207               1.000000      True  \n206208               0.928571     False  \n\n[206209 rows x 11 columns]",
      "text/html": "<div>\n<style scoped>\n    .dataframe tbody tr th:only-of-type {\n        vertical-align: middle;\n    }\n\n    .dataframe tbody tr th {\n        vertical-align: top;\n    }\n\n    .dataframe thead th {\n        text-align: right;\n    }\n</style>\n<table border=\"1\" class=\"dataframe\">\n  <thead>\n    <tr style=\"text-align: right;\">\n      <th></th>\n      <th>order_id</th>\n      <th>user_id</th>\n      <th>eval_set</th>\n      <th>order_number</th>\n      <th>order_dow</th>\n      <th>order_hour_of_day</th>\n      <th>days_since_prior_order</th>\n      <th>tip</th>\n      <th>tip_history</th>\n      <th>relative_order_number</th>\n      <th>tip_pred</th>\n    </tr>\n  </thead>\n  <tbody>\n    <tr>\n      <th>0</th>\n      <td>2550362</td>\n      <td>1</td>\n      <td>prior</td>\n      <td>10</td>\n      <td>4</td>\n      <td>8</td>\n      <td>30</td>\n      <td>False</td>\n      <td>0.000000</td>\n      <td>0.909091</td>\n      <td>False</td>\n    </tr>\n    <tr>\n      <th>1</th>\n      <td>839880</td>\n      <td>2</td>\n      <td>prior</td>\n      <td>14</td>\n      <td>3</td>\n      <td>10</td>\n      <td>13</td>\n      <td>False</td>\n      <td>0.615385</td>\n      <td>0.933333</td>\n      <td>False</td>\n    </tr>\n    <tr>\n      <th>2</th>\n      <td>1402502</td>\n      <td>3</td>\n      <td>prior</td>\n      <td>12</td>\n      <td>1</td>\n      <td>15</td>\n      <td>15</td>\n      <td>True</td>\n      <td>0.818182</td>\n      <td>1.000000</td>\n      <td>True</td>\n    </tr>\n    <tr>\n      <th>3</th>\n      <td>2557754</td>\n      <td>4</td>\n      <td>prior</td>\n      <td>5</td>\n      <td>5</td>\n      <td>13</td>\n      <td>0</td>\n      <td>False</td>\n      <td>0.000000</td>\n      <td>1.000000</td>\n      <td>False</td>\n    </tr>\n    <tr>\n      <th>4</th>\n      <td>157374</td>\n      <td>5</td>\n      <td>prior</td>\n      <td>4</td>\n      <td>1</td>\n      <td>18</td>\n      <td>19</td>\n      <td>True</td>\n      <td>0.333333</td>\n      <td>0.800000</td>\n      <td>False</td>\n    </tr>\n    <tr>\n      <th>...</th>\n      <td>...</td>\n      <td>...</td>\n      <td>...</td>\n      <td>...</td>\n      <td>...</td>\n      <td>...</td>\n      <td>...</td>\n      <td>...</td>\n      <td>...</td>\n      <td>...</td>\n      <td>...</td>\n    </tr>\n    <tr>\n      <th>206204</th>\n      <td>414137</td>\n      <td>206205</td>\n      <td>prior</td>\n      <td>3</td>\n      <td>5</td>\n      <td>16</td>\n      <td>10</td>\n      <td>False</td>\n      <td>0.000000</td>\n      <td>0.750000</td>\n      <td>False</td>\n    </tr>\n    <tr>\n      <th>206205</th>\n      <td>1904200</td>\n      <td>206206</td>\n      <td>prior</td>\n      <td>67</td>\n      <td>0</td>\n      <td>13</td>\n      <td>11</td>\n      <td>False</td>\n      <td>0.227273</td>\n      <td>1.000000</td>\n      <td>False</td>\n    </tr>\n    <tr>\n      <th>206206</th>\n      <td>1005822</td>\n      <td>206207</td>\n      <td>prior</td>\n      <td>16</td>\n      <td>2</td>\n      <td>7</td>\n      <td>18</td>\n      <td>False</td>\n      <td>0.200000</td>\n      <td>1.000000</td>\n      <td>False</td>\n    </tr>\n    <tr>\n      <th>206207</th>\n      <td>1882108</td>\n      <td>206208</td>\n      <td>prior</td>\n      <td>49</td>\n      <td>1</td>\n      <td>22</td>\n      <td>7</td>\n      <td>True</td>\n      <td>0.395833</td>\n      <td>1.000000</td>\n      <td>True</td>\n    </tr>\n    <tr>\n      <th>206208</th>\n      <td>2977660</td>\n      <td>206209</td>\n      <td>prior</td>\n      <td>13</td>\n      <td>1</td>\n      <td>12</td>\n      <td>7</td>\n      <td>False</td>\n      <td>0.166667</td>\n      <td>0.928571</td>\n      <td>False</td>\n    </tr>\n  </tbody>\n</table>\n<p>206209 rows × 11 columns</p>\n</div>"
     },
     "execution_count": 326,
     "metadata": {},
     "output_type": "execute_result"
    }
   ],
   "source": [
    "orders_tip_test_alt['tip_pred'] = decision_tree_clf.predict(orders_tip_test_alt[features])\n",
    "orders_tip_test_alt"
   ],
   "metadata": {
    "collapsed": false,
    "ExecuteTime": {
     "end_time": "2024-05-10T16:42:01.071202800Z",
     "start_time": "2024-05-10T16:42:01.019956800Z"
    }
   },
   "id": "32708dd0cdd1eeef",
   "execution_count": 326
  },
  {
   "cell_type": "code",
   "outputs": [
    {
     "data": {
      "text/plain": "0.801061059410598"
     },
     "execution_count": 327,
     "metadata": {},
     "output_type": "execute_result"
    }
   ],
   "source": [
    "score = accuracy_score(orders_tip_test_alt['tip'], orders_tip_test_alt['tip_pred'])\n",
    "score"
   ],
   "metadata": {
    "collapsed": false,
    "ExecuteTime": {
     "end_time": "2024-05-10T16:42:01.073873300Z",
     "start_time": "2024-05-10T16:42:01.061374200Z"
    }
   },
   "id": "1f182e82ba507b34",
   "execution_count": 327
  }
 ],
 "metadata": {
  "kernelspec": {
   "name": "python3",
   "language": "python",
   "display_name": "Python 3 (ipykernel)"
  },
  "language_info": {
   "codemirror_mode": {
    "name": "ipython",
    "version": 3
   },
   "file_extension": ".py",
   "mimetype": "text/x-python",
   "name": "python",
   "nbconvert_exporter": "python",
   "pygments_lexer": "ipython3",
   "version": "3.11.8"
  }
 },
 "nbformat": 4,
 "nbformat_minor": 5
}
