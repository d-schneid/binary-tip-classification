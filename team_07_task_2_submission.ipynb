{
 "cells": [
  {
   "cell_type": "markdown",
   "source": [
    "# Data Science Project SoSe 2024\n",
    "## Team 07\n",
    "- Maximilian Hoffmann\n",
    "- Kilian Kempf\n",
    "- Daniel Schneider\n",
    "- Tom Schuck\n",
    "\n",
    "## Submission of Task 2"
   ],
   "metadata": {
    "collapsed": false
   },
   "id": "b6a82dcd4af78517"
  },
  {
   "cell_type": "markdown",
   "source": [
    "### Data Preparation"
   ],
   "metadata": {
    "collapsed": false
   },
   "id": "e7c0440c8f245023"
  },
  {
   "cell_type": "markdown",
   "source": [
    "### Task 2.1"
   ],
   "metadata": {
    "collapsed": false
   },
   "id": "7eb8f6567e46524d"
  },
  {
   "cell_type": "markdown",
   "source": [
    "### Task 2.2"
   ],
   "metadata": {
    "collapsed": false
   },
   "id": "b736ac61f62430be"
  },
  {
   "cell_type": "markdown",
   "source": [
    "### Task 2.3"
   ],
   "metadata": {
    "collapsed": false
   },
   "id": "c80ed52e64e2cf75"
  },
  {
   "cell_type": "markdown",
   "source": [
    "### Task 2.4"
   ],
   "metadata": {
    "collapsed": false
   },
   "id": "24baec00629a63ec"
  },
  {
   "cell_type": "markdown",
   "source": [
    "### Task 2.5"
   ],
   "metadata": {
    "collapsed": false
   },
   "id": "c5253ccdfb5e94bf"
  },
  {
   "cell_type": "markdown",
   "source": [],
   "metadata": {
    "collapsed": false
   },
   "id": "de0b0a0f36a94583"
  }
 ],
 "metadata": {
  "kernelspec": {
   "display_name": "Python 3",
   "language": "python",
   "name": "python3"
  },
  "language_info": {
   "codemirror_mode": {
    "name": "ipython",
    "version": 2
   },
   "file_extension": ".py",
   "mimetype": "text/x-python",
   "name": "python",
   "nbconvert_exporter": "python",
   "pygments_lexer": "ipython2",
   "version": "2.7.6"
  }
 },
 "nbformat": 4,
 "nbformat_minor": 5
}
