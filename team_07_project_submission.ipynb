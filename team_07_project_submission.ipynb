{
 "cells": [
  {
   "cell_type": "markdown",
   "id": "7aea19f30bc2952",
   "metadata": {
    "collapsed": false
   },
   "source": [
    "# Data Science Project SoSe 2024\n",
    "## Team 07\n",
    "- Maximilian Hoffmann\n",
    "- Kilian Kempf\n",
    "- Daniel Schneider\n",
    "- Tom Schuck\n",
    "\n",
    "## Project Submission"
   ]
  },
  {
   "cell_type": "markdown",
   "id": "ca8cc580026f3fef",
   "metadata": {
    "collapsed": false
   },
   "source": [
    "### Libraries"
   ]
  },
  {
   "cell_type": "code",
   "source": [
    "import os\n",
    "\n",
    "import pandas as pd\n",
    "\n",
    "from feature_engineering import DataManager\n",
    "from feature_engineering.features import TipHistory, ReorderedRatio, DynamicFeatureTest1, DynamicFeatureTest2, \\\n",
    "    OrderSize, ModeDepartment, PrevTippedProductsRatio, CustomerLifetime, PrevOrderTipped, OrderFrequency, \\\n",
    "    SimOrdersTipRatio, ProductTipRate, DepartmentTipRate, AisleTipRate, OrderExcessLikability, AvgSizePrevOrders, \\\n",
    "    MeanOrderedRate, LastTipSequence, RelDaysSinceTip, DaysSinceTip"
   ],
   "metadata": {
    "collapsed": false,
    "ExecuteTime": {
     "end_time": "2024-06-05T19:33:42.445047Z",
     "start_time": "2024-06-05T19:33:40.784441Z"
    }
   },
   "id": "c51b42d19954d682",
   "outputs": [],
   "execution_count": 1
  },
  {
   "cell_type": "markdown",
   "source": [
    "### Data Initialization"
   ],
   "metadata": {
    "collapsed": false
   },
   "id": "b1817857eb895437"
  },
  {
   "cell_type": "code",
   "source": [
    "DATA_DIR = os.path.join(os.getcwd(), 'data/Instacart')\n",
    "\n",
    "op_prior = pd.read_csv(os.path.join(DATA_DIR, 'order_products__prior.csv.zip'))\n",
    "op_train = pd.read_csv(os.path.join(DATA_DIR, 'order_products__train.csv.zip'))\n",
    "\n",
    "tip_train = pd.read_csv(os.path.join(DATA_DIR, 'tip_trainingsdaten1_.csv'))[['order_id', 'tip']]\n",
    "tip_test = pd.read_csv(os.path.join(DATA_DIR, 'tip_testdaten1_template.csv'))\n",
    "\n",
    "orders = pd.read_csv(os.path.join(DATA_DIR, 'orders.csv.zip'))\n",
    "aisles = pd.read_csv(os.path.join(DATA_DIR, 'aisles.csv.zip'))\n",
    "departments = pd.read_csv(os.path.join(DATA_DIR, 'departments.csv.zip'))\n",
    "products = pd.read_csv(os.path.join(DATA_DIR, 'products.csv.zip'))\n",
    "\n",
    "data_manager = DataManager(op_prior, op_train, tip_train, tip_test, orders, products, aisles, departments)\n",
    "order_amount = len(data_manager.get_orders_tip())"
   ],
   "metadata": {
    "collapsed": false,
    "ExecuteTime": {
     "end_time": "2024-06-05T19:34:05.456412Z",
     "start_time": "2024-06-05T19:33:42.446177Z"
    }
   },
   "id": "2ac69658072618d1",
   "outputs": [],
   "execution_count": 2
  },
  {
   "cell_type": "markdown",
   "source": [
    "### Feature Engineering"
   ],
   "metadata": {
    "collapsed": false
   },
   "id": "d11d62b342b9ebc8"
  },
  {
   "cell_type": "code",
   "source": [
    "#features = ['order_number', 'order_dow', 'order_hour_of_day', 'days_since_prior_order', 'tip_history',\n",
    "#          'reordered_ratio', 'order_size', 'mode_dept', 'prev_tipped_products_ratio', 'avg_size_prev_orders']\n",
    "\n",
    "# Kilian\n",
    "tip_history = TipHistory()\n",
    "reordered_rate = ReorderedRatio()\n",
    "order_size = OrderSize()\n",
    "prev_tipped_products_ratio = PrevTippedProductsRatio()\n",
    "customer_lifetime = CustomerLifetime()\n",
    "prev_order_tipped = PrevOrderTipped()\n",
    "\n",
    "# Daniel\n",
    "mode_dept = ModeDepartment()  # TODO: Probably remove (maybe exchange with other order content related feature)\n",
    "order_frequency = OrderFrequency()\n",
    "mean_ordered_rate = MeanOrderedRate()  # TODO: First order NaN\n",
    "rel_days_since_tip = RelDaysSinceTip()  # TODO: NaN handling\n",
    "days_since_tip = DaysSinceTip()  # TODO: NaN handling\n",
    "\n",
    "# Max\n",
    "sim_orders_tip_ratio = SimOrdersTipRatio()\n",
    "product_tip_rate = ProductTipRate()\n",
    "department_tip_rate = DepartmentTipRate()\n",
    "aisle_tip_rate = AisleTipRate()\n",
    "last_tip_sequence = LastTipSequence()  # TODO: Maybe remove weighting or add additional feature without weoghting\n",
    "\n",
    "# Tom\n",
    "order_excess_likability = OrderExcessLikability()  # TODO\n",
    "avg_size_prev_orders = AvgSizePrevOrders()\n",
    "\n",
    "# Test\n",
    "dynamic_feature_test_1 = DynamicFeatureTest1()\n",
    "dynamic_feature_test_2 = DynamicFeatureTest2()"
   ],
   "metadata": {
    "collapsed": false,
    "ExecuteTime": {
     "end_time": "2024-06-05T19:34:05.460028Z",
     "start_time": "2024-06-05T19:34:05.457223Z"
    }
   },
   "id": "6a897e084cc934ce",
   "outputs": [],
   "execution_count": 3
  },
  {
   "cell_type": "code",
   "source": [
    "# Static Features\n",
    "# data_manager.register_feature(tip_history)\n",
    "# data_manager.register_feature(reordered_rate)\n",
    "# data_manager.register_feature(order_size)\n",
    "# data_manager.register_feature(customer_lifetime)\n",
    "# data_manager.register_feature(prev_order_tipped)\n",
    "# data_manager.register_feature(prev_tipped_products_ratio)\n",
    "\n",
    "# data_manager.register_feature(mode_dept)\n",
    "# data_manager.register_feature(order_frequency)\n",
    "# data_manager.register_feature(sim_orders_tip_ratio)\n",
    "# data_manager.register_feature(order_excess_likability)\n",
    "data_manager.register_feature(avg_size_prev_orders)\n",
    "# data_manager.register_feature(mean_ordered_rate)\n",
    "# data_manager.register_feature(last_tip_sequence)\n",
    "# data_manager.register_feature(rel_days_since_tip)\n",
    "# data_manager.register_feature(days_since_tip)\n",
    "\n",
    "# # Dynamic Features\n",
    "# data_manager.register_feature(dynamic_feature_test_1)\n",
    "# data_manager.register_feature(dynamic_feature_test_2)\n",
    "# data_manager.register_feature(product_tip_rate)\n",
    "# data_manager.register_feature(department_tip_rate)\n",
    "# data_manager.register_feature(aisle_tip_rate)"
   ],
   "metadata": {
    "collapsed": false,
    "ExecuteTime": {
     "end_time": "2024-06-05T19:34:05.463004Z",
     "start_time": "2024-06-05T19:34:05.460593Z"
    }
   },
   "id": "7bdee9f31e0bac1b",
   "outputs": [],
   "execution_count": 4
  },
  {
   "cell_type": "code",
   "source": "data_manager.compute_features()",
   "metadata": {
    "collapsed": false,
    "ExecuteTime": {
     "end_time": "2024-06-05T19:34:12.435732Z",
     "start_time": "2024-06-05T19:34:05.464186Z"
    }
   },
   "id": "6b815abe51807fce",
   "outputs": [],
   "execution_count": 5
  },
  {
   "metadata": {
    "ExecuteTime": {
     "end_time": "2024-06-05T19:34:12.459259Z",
     "start_time": "2024-06-05T19:34:12.436385Z"
    }
   },
   "cell_type": "code",
   "source": "data_manager.get_orders_tip().head(100)",
   "id": "3657b7049bf9e8c2",
   "outputs": [
    {
     "data": {
      "text/plain": [
       "    order_id  user_id eval_set  order_number  order_dow  order_hour_of_day  \\\n",
       "0    2539329        1    prior             1          2                  8   \n",
       "1    2398795        1    prior             2          3                  7   \n",
       "2     473747        1    prior             3          3                 12   \n",
       "3    2254736        1    prior             4          4                  7   \n",
       "4     431534        1    prior             5          4                 15   \n",
       "..       ...      ...      ...           ...        ...                ...   \n",
       "95   1916106       12    prior             3          5                  8   \n",
       "96   1057378       12    prior             4          3                  9   \n",
       "97    221248       12    prior             5          1                  9   \n",
       "98   2618231       13    prior             1          6                 12   \n",
       "99   2560699       13    prior             2          0                 11   \n",
       "\n",
       "    days_since_prior_order  tip  avg_size_prev_orders  \n",
       "0                      NaN  0.0                   NaN  \n",
       "1                     15.0  0.0              0.200000  \n",
       "2                     21.0  0.0             -0.090909  \n",
       "3                     29.0  0.0             -0.062500  \n",
       "4                     28.0  0.0              0.523810  \n",
       "..                     ...  ...                   ...  \n",
       "95                    14.0  0.0              0.200000  \n",
       "96                    26.0  0.0              0.875000  \n",
       "97                    30.0  0.0              0.692308  \n",
       "98                     NaN  0.0                   NaN  \n",
       "99                     8.0  1.0             -0.200000  \n",
       "\n",
       "[100 rows x 9 columns]"
      ],
      "text/html": [
       "<div>\n",
       "<style scoped>\n",
       "    .dataframe tbody tr th:only-of-type {\n",
       "        vertical-align: middle;\n",
       "    }\n",
       "\n",
       "    .dataframe tbody tr th {\n",
       "        vertical-align: top;\n",
       "    }\n",
       "\n",
       "    .dataframe thead th {\n",
       "        text-align: right;\n",
       "    }\n",
       "</style>\n",
       "<table border=\"1\" class=\"dataframe\">\n",
       "  <thead>\n",
       "    <tr style=\"text-align: right;\">\n",
       "      <th></th>\n",
       "      <th>order_id</th>\n",
       "      <th>user_id</th>\n",
       "      <th>eval_set</th>\n",
       "      <th>order_number</th>\n",
       "      <th>order_dow</th>\n",
       "      <th>order_hour_of_day</th>\n",
       "      <th>days_since_prior_order</th>\n",
       "      <th>tip</th>\n",
       "      <th>avg_size_prev_orders</th>\n",
       "    </tr>\n",
       "  </thead>\n",
       "  <tbody>\n",
       "    <tr>\n",
       "      <th>0</th>\n",
       "      <td>2539329</td>\n",
       "      <td>1</td>\n",
       "      <td>prior</td>\n",
       "      <td>1</td>\n",
       "      <td>2</td>\n",
       "      <td>8</td>\n",
       "      <td>NaN</td>\n",
       "      <td>0.0</td>\n",
       "      <td>NaN</td>\n",
       "    </tr>\n",
       "    <tr>\n",
       "      <th>1</th>\n",
       "      <td>2398795</td>\n",
       "      <td>1</td>\n",
       "      <td>prior</td>\n",
       "      <td>2</td>\n",
       "      <td>3</td>\n",
       "      <td>7</td>\n",
       "      <td>15.0</td>\n",
       "      <td>0.0</td>\n",
       "      <td>0.200000</td>\n",
       "    </tr>\n",
       "    <tr>\n",
       "      <th>2</th>\n",
       "      <td>473747</td>\n",
       "      <td>1</td>\n",
       "      <td>prior</td>\n",
       "      <td>3</td>\n",
       "      <td>3</td>\n",
       "      <td>12</td>\n",
       "      <td>21.0</td>\n",
       "      <td>0.0</td>\n",
       "      <td>-0.090909</td>\n",
       "    </tr>\n",
       "    <tr>\n",
       "      <th>3</th>\n",
       "      <td>2254736</td>\n",
       "      <td>1</td>\n",
       "      <td>prior</td>\n",
       "      <td>4</td>\n",
       "      <td>4</td>\n",
       "      <td>7</td>\n",
       "      <td>29.0</td>\n",
       "      <td>0.0</td>\n",
       "      <td>-0.062500</td>\n",
       "    </tr>\n",
       "    <tr>\n",
       "      <th>4</th>\n",
       "      <td>431534</td>\n",
       "      <td>1</td>\n",
       "      <td>prior</td>\n",
       "      <td>5</td>\n",
       "      <td>4</td>\n",
       "      <td>15</td>\n",
       "      <td>28.0</td>\n",
       "      <td>0.0</td>\n",
       "      <td>0.523810</td>\n",
       "    </tr>\n",
       "    <tr>\n",
       "      <th>...</th>\n",
       "      <td>...</td>\n",
       "      <td>...</td>\n",
       "      <td>...</td>\n",
       "      <td>...</td>\n",
       "      <td>...</td>\n",
       "      <td>...</td>\n",
       "      <td>...</td>\n",
       "      <td>...</td>\n",
       "      <td>...</td>\n",
       "    </tr>\n",
       "    <tr>\n",
       "      <th>95</th>\n",
       "      <td>1916106</td>\n",
       "      <td>12</td>\n",
       "      <td>prior</td>\n",
       "      <td>3</td>\n",
       "      <td>5</td>\n",
       "      <td>8</td>\n",
       "      <td>14.0</td>\n",
       "      <td>0.0</td>\n",
       "      <td>0.200000</td>\n",
       "    </tr>\n",
       "    <tr>\n",
       "      <th>96</th>\n",
       "      <td>1057378</td>\n",
       "      <td>12</td>\n",
       "      <td>prior</td>\n",
       "      <td>4</td>\n",
       "      <td>3</td>\n",
       "      <td>9</td>\n",
       "      <td>26.0</td>\n",
       "      <td>0.0</td>\n",
       "      <td>0.875000</td>\n",
       "    </tr>\n",
       "    <tr>\n",
       "      <th>97</th>\n",
       "      <td>221248</td>\n",
       "      <td>12</td>\n",
       "      <td>prior</td>\n",
       "      <td>5</td>\n",
       "      <td>1</td>\n",
       "      <td>9</td>\n",
       "      <td>30.0</td>\n",
       "      <td>0.0</td>\n",
       "      <td>0.692308</td>\n",
       "    </tr>\n",
       "    <tr>\n",
       "      <th>98</th>\n",
       "      <td>2618231</td>\n",
       "      <td>13</td>\n",
       "      <td>prior</td>\n",
       "      <td>1</td>\n",
       "      <td>6</td>\n",
       "      <td>12</td>\n",
       "      <td>NaN</td>\n",
       "      <td>0.0</td>\n",
       "      <td>NaN</td>\n",
       "    </tr>\n",
       "    <tr>\n",
       "      <th>99</th>\n",
       "      <td>2560699</td>\n",
       "      <td>13</td>\n",
       "      <td>prior</td>\n",
       "      <td>2</td>\n",
       "      <td>0</td>\n",
       "      <td>11</td>\n",
       "      <td>8.0</td>\n",
       "      <td>1.0</td>\n",
       "      <td>-0.200000</td>\n",
       "    </tr>\n",
       "  </tbody>\n",
       "</table>\n",
       "<p>100 rows × 9 columns</p>\n",
       "</div>"
      ]
     },
     "execution_count": 6,
     "metadata": {},
     "output_type": "execute_result"
    }
   ],
   "execution_count": 6
  },
  {
   "cell_type": "code",
   "source": [
    "# data_manager.export_features('data/prepared_data/computed_features.csv.zip', only_static=False)"
   ],
   "metadata": {
    "collapsed": false,
    "ExecuteTime": {
     "end_time": "2024-06-05T19:34:12.461545Z",
     "start_time": "2024-06-05T19:34:12.459962Z"
    }
   },
   "id": "d879a6a14f49589a",
   "outputs": [],
   "execution_count": 7
  },
  {
   "cell_type": "code",
   "source": [
    "# data_manager.import_features('data/prepared_data/computed_features.csv.zip', only_static=False)"
   ],
   "metadata": {
    "collapsed": false,
    "ExecuteTime": {
     "end_time": "2024-06-05T19:34:12.464204Z",
     "start_time": "2024-06-05T19:34:12.462039Z"
    }
   },
   "id": "5e56cee1c81131b2",
   "outputs": [],
   "execution_count": 8
  },
  {
   "cell_type": "code",
   "source": [
    "# data_manager.get_orders_tip().head(100)"
   ],
   "metadata": {
    "collapsed": false,
    "ExecuteTime": {
     "end_time": "2024-06-05T19:34:12.466178Z",
     "start_time": "2024-06-05T19:34:12.464891Z"
    }
   },
   "id": "8f2a4c2575deb79a",
   "outputs": [],
   "execution_count": 9
  },
  {
   "cell_type": "code",
   "source": [
    "# test = data_manager.get_orders_tip()"
   ],
   "metadata": {
    "collapsed": false,
    "ExecuteTime": {
     "end_time": "2024-06-05T19:34:12.467982Z",
     "start_time": "2024-06-05T19:34:12.466780Z"
    }
   },
   "id": "c8f20e5050aee4ab",
   "outputs": [],
   "execution_count": 10
  },
  {
   "cell_type": "code",
   "source": [
    "# print(f\"Number of orders: {len(data_manager.get_orders_tip())}\")\n",
    "# print(f\"Number of orders did not change: {order_amount == len(data_manager.get_orders_tip())}\\n\")\n",
    "# print(f\"Number of NaN or null values in each column:\\n{data_manager.get_orders_tip().isnull().sum()}\")"
   ],
   "metadata": {
    "collapsed": false,
    "ExecuteTime": {
     "end_time": "2024-06-05T19:34:12.469782Z",
     "start_time": "2024-06-05T19:34:12.468538Z"
    }
   },
   "id": "70be2ca230e12d01",
   "outputs": [],
   "execution_count": 11
  },
  {
   "cell_type": "code",
   "source": [
    "# order_ids = data_manager.get_orders_tip(complete=True).groupby('user_id')['order_id'].head(5)\n",
    "# order_amount = len(order_ids)"
   ],
   "metadata": {
    "collapsed": false,
    "ExecuteTime": {
     "end_time": "2024-06-05T19:34:12.471655Z",
     "start_time": "2024-06-05T19:34:12.470353Z"
    }
   },
   "id": "ed21e9e41111b301",
   "outputs": [],
   "execution_count": 12
  },
  {
   "cell_type": "code",
   "source": [
    "# data_manager.set_subset(order_ids)"
   ],
   "metadata": {
    "collapsed": false,
    "ExecuteTime": {
     "end_time": "2024-06-05T19:34:12.473504Z",
     "start_time": "2024-06-05T19:34:12.472327Z"
    }
   },
   "id": "a9c4a8244b861028",
   "outputs": [],
   "execution_count": 13
  },
  {
   "cell_type": "code",
   "id": "82124a97baebc52",
   "metadata": {
    "collapsed": false,
    "ExecuteTime": {
     "end_time": "2024-06-05T19:34:12.476518Z",
     "start_time": "2024-06-05T19:34:12.475345Z"
    }
   },
   "source": [
    "# data_manager.get_orders_tip().head(25)"
   ],
   "outputs": [],
   "execution_count": 14
  },
  {
   "cell_type": "code",
   "id": "e35d205a2cb3a9a7",
   "metadata": {
    "collapsed": false,
    "ExecuteTime": {
     "end_time": "2024-06-05T19:34:12.478072Z",
     "start_time": "2024-06-05T19:34:12.476934Z"
    }
   },
   "source": [
    "# print(f\"Number of orders: {len(data_manager.get_orders_tip())}\")\n",
    "# print(f\"Number of orders did not change: {order_amount == len(data_manager.get_orders_tip())}\\n\")\n",
    "# print(f\"Number of NaN or null values in each column:\\n{data_manager.get_orders_tip().isnull().sum()}\")"
   ],
   "outputs": [],
   "execution_count": 15
  },
  {
   "cell_type": "code",
   "source": [
    "# order_ids = data_manager.get_orders_tip(complete=True).groupby('user_id')['order_id'].head(4)\n",
    "# order_amount = len(order_ids)\n",
    "# \n",
    "# data_manager.set_subset(order_ids)\n",
    "# data_manager.get_orders_tip().head(25)"
   ],
   "metadata": {
    "collapsed": false,
    "ExecuteTime": {
     "end_time": "2024-06-05T19:34:12.479676Z",
     "start_time": "2024-06-05T19:34:12.478426Z"
    }
   },
   "id": "f74c035a9f150c03",
   "outputs": [],
   "execution_count": 16
  },
  {
   "cell_type": "code",
   "source": [
    "# print(f\"Number of orders: {len(data_manager.get_orders_tip())}\")\n",
    "# print(f\"Number of orders did not change: {order_amount == len(data_manager.get_orders_tip())}\\n\")\n",
    "# print(f\"Number of NaN or null values in each column:\\n{data_manager.get_orders_tip().isnull().sum()}\")"
   ],
   "metadata": {
    "collapsed": false,
    "ExecuteTime": {
     "end_time": "2024-06-05T19:34:12.481266Z",
     "start_time": "2024-06-05T19:34:12.480062Z"
    }
   },
   "id": "9ec949cdfc48d38e",
   "outputs": [],
   "execution_count": 17
  },
  {
   "cell_type": "markdown",
   "id": "d571331aa19136d5",
   "metadata": {
    "collapsed": false
   },
   "source": [
    "### Analysis\n",
    "- Only orders from the training set (orders with tip information) are considered"
   ]
  },
  {
   "cell_type": "code",
   "source": "from analysis import DaysSincePriorOrder, DayOfWeek, HourOfDay, Department, OrderNumber, Aisle, Product, NumberOrderUser",
   "metadata": {
    "collapsed": false,
    "ExecuteTime": {
     "end_time": "2024-06-05T19:34:16.063547Z",
     "start_time": "2024-06-05T19:34:12.481814Z"
    }
   },
   "id": "a09a31448a99e7e0",
   "outputs": [],
   "execution_count": 18
  },
  {
   "cell_type": "code",
   "source": [
    "day_of_week = DayOfWeek(data_manager)\n",
    "hour_of_day = HourOfDay(data_manager)\n",
    "days_since_prior_order = DaysSincePriorOrder(data_manager)\n",
    "order_number = OrderNumber(data_manager)\n",
    "department = Department(data_manager)\n",
    "aisle = Aisle(data_manager)\n",
    "product = Product(data_manager)\n",
    "number_order_user = NumberOrderUser(data_manager)\n",
    "\n",
    "# Frequency of items with tip probability > 0.9, 0.8, 0.7, 0.6, 0.5 ... 0.1 \n",
    "# Group into percentiles and average tip probability\n",
    "# Plot bar chart with tip probability and mean tip probability (limit to top 10?)\n",
    "\n",
    "# TODO:\n",
    "# - Decide on departments grouping\n",
    "# - Product/Department/Aisle Tip Rate"
   ],
   "metadata": {
    "collapsed": false,
    "ExecuteTime": {
     "end_time": "2024-06-05T19:34:37.577831Z",
     "start_time": "2024-06-05T19:34:16.064262Z"
    }
   },
   "id": "4be267945f618a88",
   "outputs": [],
   "execution_count": 19
  },
  {
   "cell_type": "code",
   "source": [
    "# day_of_week.execute_analysis()"
   ],
   "metadata": {
    "collapsed": false,
    "ExecuteTime": {
     "end_time": "2024-06-05T19:34:37.582735Z",
     "start_time": "2024-06-05T19:34:37.579439Z"
    }
   },
   "id": "de5ab313cde80cab",
   "outputs": [],
   "execution_count": 20
  },
  {
   "cell_type": "code",
   "source": [
    "# hour_of_day.execute_analysis()"
   ],
   "metadata": {
    "collapsed": false,
    "ExecuteTime": {
     "end_time": "2024-06-05T19:34:37.584917Z",
     "start_time": "2024-06-05T19:34:37.583443Z"
    }
   },
   "id": "fc25465ac99bd8a",
   "outputs": [],
   "execution_count": 21
  },
  {
   "cell_type": "code",
   "source": [
    "# days_since_prior_order.execute_analysis()"
   ],
   "metadata": {
    "collapsed": false,
    "ExecuteTime": {
     "end_time": "2024-06-05T19:34:37.586939Z",
     "start_time": "2024-06-05T19:34:37.585526Z"
    }
   },
   "id": "1935f461e5cadb36",
   "outputs": [],
   "execution_count": 22
  },
  {
   "cell_type": "code",
   "source": [
    "# order_number.execute_analysis()"
   ],
   "metadata": {
    "collapsed": false,
    "ExecuteTime": {
     "end_time": "2024-06-05T19:34:37.589397Z",
     "start_time": "2024-06-05T19:34:37.587845Z"
    }
   },
   "id": "61ab78ca758fe69b",
   "outputs": [],
   "execution_count": 23
  },
  {
   "cell_type": "code",
   "source": [
    "# department.execute_analysis()"
   ],
   "metadata": {
    "collapsed": false,
    "ExecuteTime": {
     "end_time": "2024-06-05T19:34:37.592086Z",
     "start_time": "2024-06-05T19:34:37.590348Z"
    }
   },
   "id": "ef07aadff9a64100",
   "outputs": [],
   "execution_count": 24
  },
  {
   "cell_type": "code",
   "source": [
    "# aisle.execute_analysis()"
   ],
   "metadata": {
    "collapsed": false,
    "ExecuteTime": {
     "end_time": "2024-06-05T19:34:37.594894Z",
     "start_time": "2024-06-05T19:34:37.593353Z"
    }
   },
   "id": "3f084df0e69a8f47",
   "outputs": [],
   "execution_count": 25
  },
  {
   "cell_type": "code",
   "source": "# product.execute_analysis()",
   "metadata": {
    "collapsed": false,
    "ExecuteTime": {
     "end_time": "2024-06-05T19:34:37.597126Z",
     "start_time": "2024-06-05T19:34:37.595562Z"
    }
   },
   "id": "9eb958b973ace283",
   "outputs": [],
   "execution_count": 26
  },
  {
   "metadata": {
    "ExecuteTime": {
     "end_time": "2024-06-05T19:34:52.887111Z",
     "start_time": "2024-06-05T19:34:37.597853Z"
    }
   },
   "cell_type": "code",
   "source": "# number_order_user.execute_analysis()",
   "id": "20d37cf36392362c",
   "outputs": [
    {
     "data": {
      "text/plain": [
       "<Figure size 2000x1200 with 2 Axes>"
      ],
      "image/png": "[encoded data removed]"
     },
     "metadata": {},
     "output_type": "display_data"
    }
   ],
   "execution_count": 27
  },
  {
   "cell_type": "code",
   "outputs": [],
   "source": [
    "# a = days_since_prior_order\n",
    "# product_department_tip = a.orders_joined[['product_id', 'department_id', 'tip']]\n",
    "# product_department_tip"
   ],
   "metadata": {
    "collapsed": false,
    "ExecuteTime": {
     "end_time": "2024-06-04T22:31:16.963007300Z",
     "start_time": "2024-06-04T22:31:16.864346800Z"
    }
   },
   "id": "b4446f4749fddac",
   "execution_count": 80
  },
  {
   "cell_type": "code",
   "outputs": [],
   "source": [
    "# product_mapping = a.products.set_index('product_id')['product_name']\n",
    "# \n",
    "# # alcohol_department_id = a.departments[a.departments['department'] == 'alcohol']['department_id'].values[0]\n",
    "# # alcohol_product_ids = product_department_tip[product_department_tip['department_id'] == alcohol_department_id][\n",
    "# #     'product_id'].unique()\n",
    "# # a.alcohol_products = product_mapping.loc[alcohol_product_ids].values\n",
    "# \n",
    "# cross_tab_product_normalized = (pd.crosstab(index=product_department_tip['product_id'],\n",
    "#                                             columns=product_department_tip['tip'],\n",
    "#                                             margins=True,\n",
    "#                                             normalize='index')\n",
    "#                                 # .rename(index=product_mapping)\n",
    "#                                 .sort_values(by=1, ascending=False))\n",
    "# cross_tab_product_normalized"
   ],
   "metadata": {
    "collapsed": false,
    "ExecuteTime": {
     "end_time": "2024-06-04T22:31:16.964989Z",
     "start_time": "2024-06-04T22:31:16.869471100Z"
    }
   },
   "id": "372c56b0be913ac2",
   "execution_count": 81
  },
  {
   "cell_type": "code",
   "outputs": [],
   "source": [
    "# cross_tab_product = (pd.crosstab(index=product_department_tip['product_id'],\n",
    "#                                  columns=product_department_tip['tip'],\n",
    "#                                  margins=True)\n",
    "#                      .sort_values(by=1, ascending=False))\n",
    "# cross_tab_product"
   ],
   "metadata": {
    "collapsed": false,
    "ExecuteTime": {
     "end_time": "2024-06-04T22:31:17.009192500Z",
     "start_time": "2024-06-04T22:31:16.880792800Z"
    }
   },
   "id": "d3af379e9f5425e5",
   "execution_count": 82
  },
  {
   "cell_type": "code",
   "outputs": [],
   "source": [
    "# mean_product_frequency = cross_tab_product['All'].mean()\n",
    "# mean_product_frequency"
   ],
   "metadata": {
    "collapsed": false,
    "ExecuteTime": {
     "end_time": "2024-06-04T22:31:17.206450300Z",
     "start_time": "2024-06-04T22:31:16.883797100Z"
    }
   },
   "id": "9e078b916dd05066",
   "execution_count": 83
  },
  {
   "cell_type": "code",
   "outputs": [],
   "source": [
    "# median_product_frequency = cross_tab_product['All'].median()\n",
    "# median_product_frequency"
   ],
   "metadata": {
    "collapsed": false,
    "ExecuteTime": {
     "end_time": "2024-06-04T22:31:17.207451900Z",
     "start_time": "2024-06-04T22:31:16.890154600Z"
    }
   },
   "id": "4fe27a272f9fe93e",
   "execution_count": 84
  },
  {
   "cell_type": "code",
   "outputs": [],
   "source": [
    "# mean_tip_probability = cross_tab_product_normalized[1]['All']"
   ],
   "metadata": {
    "collapsed": false,
    "ExecuteTime": {
     "end_time": "2024-06-04T22:31:17.209452200Z",
     "start_time": "2024-06-04T22:31:16.895466100Z"
    }
   },
   "id": "45b58f1190558ff5",
   "execution_count": 85
  },
  {
   "cell_type": "code",
   "outputs": [],
   "source": [
    "# cross_tab_product_normalized = cross_tab_product_normalized.drop('All', axis=0)\n",
    "# cross_tab_product = cross_tab_product.drop('All', axis=0)"
   ],
   "metadata": {
    "collapsed": false,
    "ExecuteTime": {
     "end_time": "2024-06-04T22:31:17.210452500Z",
     "start_time": "2024-06-04T22:31:16.899569500Z"
    }
   },
   "id": "d5d5447214cb96aa",
   "execution_count": 86
  },
  {
   "cell_type": "code",
   "outputs": [],
   "source": [
    "# product_probability_freq = pd.merge(cross_tab_product_normalized, cross_tab_product['All'], left_index=True,\n",
    "#                                     right_index=True)\n",
    "# product_probability_freq = pd.merge(product_probability_freq, products, left_index=True, right_on='product_id')\n",
    "# product_probability_freq.sort_values(by=[1, 'All'], ascending=False)"
   ],
   "metadata": {
    "collapsed": false,
    "ExecuteTime": {
     "end_time": "2024-06-04T22:31:17.250582800Z",
     "start_time": "2024-06-04T22:31:16.903257Z"
    }
   },
   "id": "f1e993b15637537e",
   "execution_count": 87
  },
  {
   "cell_type": "code",
   "outputs": [],
   "source": [
    "# orders_tip_probability_1 = cross_tab_product_normalized[cross_tab_product_normalized[1] == 1].index\n",
    "# len(orders_tip_probability_1)"
   ],
   "metadata": {
    "collapsed": false,
    "ExecuteTime": {
     "end_time": "2024-06-04T22:31:17.251651200Z",
     "start_time": "2024-06-04T22:31:16.909722700Z"
    }
   },
   "id": "7c885ab4e41155a4",
   "execution_count": 88
  },
  {
   "cell_type": "code",
   "outputs": [],
   "source": [
    "# orders_tip_probability_1_freq = cross_tab_product[cross_tab_product.index.isin(orders_tip_probability_1)]['All']\n",
    "# orders_tip_probability_1_freq = pd.merge(orders_tip_probability_1_freq, products, left_index=True,\n",
    "#                                          right_on='product_id')\n",
    "# orders_tip_probability_1_freq"
   ],
   "metadata": {
    "collapsed": false,
    "ExecuteTime": {
     "end_time": "2024-06-04T22:31:17.252584500Z",
     "start_time": "2024-06-04T22:31:16.914468100Z"
    }
   },
   "id": "b57c70c60cbea6e4",
   "execution_count": 89
  },
  {
   "cell_type": "code",
   "outputs": [],
   "source": [
    "# orders_tip_probability_0 = cross_tab_product_normalized[cross_tab_product_normalized[1] == 0].index\n",
    "# len(orders_tip_probability_0)"
   ],
   "metadata": {
    "collapsed": false,
    "ExecuteTime": {
     "end_time": "2024-06-04T22:31:17.254583Z",
     "start_time": "2024-06-04T22:31:16.917752400Z"
    }
   },
   "id": "5bdde13239156990",
   "execution_count": 90
  },
  {
   "cell_type": "code",
   "outputs": [],
   "source": [
    "# orders_tip_probability_0_freq = cross_tab_product[cross_tab_product.index.isin(orders_tip_probability_0)]['All']\n",
    "# orders_tip_probability_0_freq = pd.merge(orders_tip_probability_0_freq, products, left_index=True,\n",
    "#                                          right_on='product_id')\n",
    "# orders_tip_probability_0_freq"
   ],
   "metadata": {
    "collapsed": false,
    "ExecuteTime": {
     "end_time": "2024-06-04T22:31:17.255584100Z",
     "start_time": "2024-06-04T22:31:16.922051300Z"
    }
   },
   "id": "94b44814d1a5bb43",
   "execution_count": 91
  },
  {
   "cell_type": "code",
   "outputs": [],
   "source": [
    "# import matplotlib.pyplot as plt\n",
    "# \n",
    "# # Plot line graph of cross tab normalized of product tip probabilities\n",
    "# fig, ax = plt.subplots(1, 1, figsize=(20, 12))\n",
    "# \n",
    "# # Plot the line graph of the tip probabilities\n",
    "# cross_tab_product_normalized[1].plot(ax=ax, kind='line', legend=False)\n",
    "# \n",
    "# # Display the plots\n",
    "# plt.tight_layout()  # Adjusts subplot params so that subplots are nicely fit in the figure\n",
    "# plt.show()"
   ],
   "metadata": {
    "collapsed": false,
    "ExecuteTime": {
     "end_time": "2024-06-04T22:31:17.386811800Z",
     "start_time": "2024-06-04T22:31:16.928290400Z"
    }
   },
   "id": "3106661246745c8e",
   "execution_count": 92
  },
  {
   "cell_type": "code",
   "outputs": [],
   "source": [
    "# import matplotlib.pyplot as plt\n",
    "# \n",
    "# fig, ax = plt.subplots(1, 1, figsize=(20, 6))\n",
    "# \n",
    "# # Plot the density of tip probabilities for all products\n",
    "# ax.hist(product_probability_freq[1], bins=100, edgecolor='white')\n",
    "# ax.axvline(mean_tip_probability, color='red', linestyle='dotted')\n",
    "# \n",
    "# # Display the plot\n",
    "# plt.tight_layout()\n",
    "# plt.show()"
   ],
   "metadata": {
    "collapsed": false,
    "ExecuteTime": {
     "end_time": "2024-06-04T22:31:17.388799700Z",
     "start_time": "2024-06-04T22:31:16.932925Z"
    }
   },
   "id": "44afc9d00b39eb29",
   "execution_count": 93
  },
  {
   "cell_type": "code",
   "outputs": [],
   "source": [
    "# # Plot the histogram of tip probabilities for all products, but this time multiplied by the frequency of each product\n",
    "# fig, ax = plt.subplots(1, 1, figsize=(20, 6))\n",
    "# \n",
    "# # Plot the density of tip probabilities for all products\n",
    "# ax.hist(product_probability_freq[1], bins=100,\n",
    "#         weights=product_probability_freq['All'], edgecolor='white')\n",
    "# ax.axvline(mean_tip_probability, color='red', linestyle='dotted', label='Mean tip probability')\n",
    "# \n",
    "# # Show legend\n",
    "# ax.legend()\n",
    "# \n",
    "# # Display the plot\n",
    "# plt.tight_layout()\n",
    "# plt.show()"
   ],
   "metadata": {
    "collapsed": false,
    "ExecuteTime": {
     "end_time": "2024-06-04T22:31:17.389794Z",
     "start_time": "2024-06-04T22:31:16.938025900Z"
    }
   },
   "id": "a8b854245836ef5e",
   "execution_count": 94
  },
  {
   "cell_type": "code",
   "outputs": [],
   "source": [
    "# # Plot 2 histograms, one for products with tip probability >= 0.75 and one for products with tip probability <= 0.25\n",
    "# fig, (ax1, ax2) = plt.subplots(1, 2, figsize=(20, 6))\n",
    "# \n",
    "# # Plot the histogram of tip probabilities for products with tip probability <= 0.25\n",
    "# ax1.hist(product_probability_freq[product_probability_freq[1] <= 0.20][1], bins=20, edgecolor='white')\n",
    "# \n",
    "# # Plot the histogram of tip probabilities for products with tip probability >= 0.75\n",
    "# ax2.hist(product_probability_freq[product_probability_freq[1] >= 0.80][1], bins=20, edgecolor='white')\n",
    "# \n",
    "# plt.tight_layout()\n",
    "# plt.show()"
   ],
   "metadata": {
    "collapsed": false,
    "ExecuteTime": {
     "end_time": "2024-06-04T22:31:17.391893300Z",
     "start_time": "2024-06-04T22:31:16.942939700Z"
    }
   },
   "id": "83cb8e52a90c2421",
   "execution_count": 95
  },
  {
   "cell_type": "code",
   "outputs": [],
   "source": [
    "# fig, (ax1, ax2) = plt.subplots(1, 2, figsize=(20, 6))\n",
    "# \n",
    "# # Filter the data\n",
    "# data1_dept5 = \\\n",
    "#     product_probability_freq[(product_probability_freq[1] <= 0.20) & (product_probability_freq['department_id'] == 5)][\n",
    "#         1]\n",
    "# data1_other = \\\n",
    "#     product_probability_freq[(product_probability_freq[1] <= 0.20) & (product_probability_freq['department_id'] != 5)][\n",
    "#         1]\n",
    "# \n",
    "# data2_dept5 = \\\n",
    "#     product_probability_freq[(product_probability_freq[1] >= 0.80) & (product_probability_freq['department_id'] == 5)][\n",
    "#         1]\n",
    "# data2_other = \\\n",
    "#     product_probability_freq[(product_probability_freq[1] >= 0.80) & (product_probability_freq['department_id'] != 5)][\n",
    "#         1]\n",
    "# \n",
    "# # Plot the histograms\n",
    "# ax1.hist([data1_other, data1_dept5], bins=20, stacked=True, edgecolor='white', color=['C0', 'C1'])\n",
    "# ax2.hist([data2_other, data2_dept5], bins=20, stacked=True, edgecolor='white', color=['C0', 'C1'])\n",
    "# \n",
    "# plt.tight_layout()\n",
    "# plt.show()"
   ],
   "metadata": {
    "collapsed": false,
    "ExecuteTime": {
     "end_time": "2024-06-04T22:31:17.433397200Z",
     "start_time": "2024-06-04T22:31:16.948958700Z"
    }
   },
   "id": "a462253b874af72f",
   "execution_count": 96
  },
  {
   "cell_type": "code",
   "outputs": [],
   "source": [
    "# fig, (ax1, ax2) = plt.subplots(1, 2, figsize=(20, 6))\n",
    "# \n",
    "# # Get unique department_ids\n",
    "# department_ids = product_probability_freq['department_id'].unique()\n",
    "# \n",
    "# # Define a color map (you can adjust this to your liking)\n",
    "# color_map = plt.get_cmap('hsv', len(department_ids))\n",
    "# \n",
    "# for i, department_id in enumerate(department_ids):\n",
    "#     # Filter the data for each department_id\n",
    "#     data1 = product_probability_freq[\n",
    "#         (product_probability_freq[1] <= 0.20) & (product_probability_freq['department_id'] == department_id)][1]\n",
    "#     data2 = product_probability_freq[\n",
    "#         (product_probability_freq[1] >= 0.80) & (product_probability_freq['department_id'] == department_id)][1]\n",
    "# \n",
    "#     # Plot the histograms\n",
    "#     ax1.hist(data1, bins=20, stacked=True, edgecolor='white', color=color_map(i), label=f'Department {department_id}')\n",
    "#     ax2.hist(data2, bins=20, stacked=True, edgecolor='white', color=color_map(i), label=f'Department {department_id}')\n",
    "# \n",
    "# # Add legends\n",
    "# ax1.legend()\n",
    "# ax2.legend()\n",
    "# \n",
    "# plt.tight_layout()\n",
    "# plt.show()"
   ],
   "metadata": {
    "collapsed": false,
    "ExecuteTime": {
     "end_time": "2024-06-04T22:31:17.435398800Z",
     "start_time": "2024-06-04T22:31:16.951987300Z"
    }
   },
   "id": "24fa681ec9dd67f7",
   "execution_count": 97
  },
  {
   "cell_type": "code",
   "outputs": [],
   "source": [
    "# # Plot the histogram of tip probabilities for products with tip probability >= 0.75 and <= 0.25, but this time multiplied by the frequency of each product\n",
    "# fig, (ax1, ax2) = plt.subplots(1, 2, figsize=(20, 6))\n",
    "# \n",
    "# # Plot the histogram of tip probabilities for products with tip probability <= 0.25\n",
    "# ax1.hist(product_probability_freq[product_probability_freq[1] <= 0.20][1], bins=20,\n",
    "#          weights=product_probability_freq[product_probability_freq[1] <= 0.20]['All'], edgecolor='white')\n",
    "# \n",
    "# # Plot the histogram of tip probabilities for products with tip probability >= 0.75\n",
    "# ax2.hist(product_probability_freq[product_probability_freq[1] >= 0.80][1], bins=20,\n",
    "#          weights=product_probability_freq[product_probability_freq[1] >= 0.80]['All'], edgecolor='white')\n",
    "# \n",
    "# plt.tight_layout()\n",
    "# plt.show()"
   ],
   "metadata": {
    "collapsed": false,
    "ExecuteTime": {
     "end_time": "2024-06-04T22:31:17.488407900Z",
     "start_time": "2024-06-04T22:31:16.960479400Z"
    }
   },
   "id": "389015f986d99488",
   "execution_count": 98
  },
  {
   "cell_type": "code",
   "outputs": [],
   "source": [
    "# fig, (ax1, ax2) = plt.subplots(1, 2, figsize=(20, 6))\n",
    "# \n",
    "# # Filter the data\n",
    "# data1_dept5 = \\\n",
    "#     product_probability_freq[(product_probability_freq[1] <= 0.20) & (product_probability_freq['department_id'] == 5)]\n",
    "# data1_other = \\\n",
    "#     product_probability_freq[(product_probability_freq[1] <= 0.20) & (product_probability_freq['department_id'] != 5)]\n",
    "# \n",
    "# data2_dept5 = \\\n",
    "#     product_probability_freq[(product_probability_freq[1] >= 0.80) & (product_probability_freq['department_id'] == 5)]\n",
    "# data2_other = \\\n",
    "#     product_probability_freq[(product_probability_freq[1] >= 0.80) & (product_probability_freq['department_id'] != 5)]\n",
    "# \n",
    "# # Plot the histograms\n",
    "# ax1.hist([data1_other[1], data1_dept5[1]], bins=20, stacked=True, edgecolor='white', color=['C0', 'C1'],\n",
    "#          weights=[data1_other['All'], data1_dept5['All']])\n",
    "# ax2.hist([data2_other[1], data2_dept5[1]], bins=20, stacked=True, edgecolor='white', color=['C0', 'C1'],\n",
    "#          weights=[data2_other['All'], data2_dept5['All']])\n",
    "# \n",
    "# plt.tight_layout()\n",
    "# plt.show()"
   ],
   "metadata": {
    "collapsed": false,
    "ExecuteTime": {
     "end_time": "2024-06-04T22:31:17.494993400Z",
     "start_time": "2024-06-04T22:31:16.964007500Z"
    }
   },
   "id": "d2771a85579442ac",
   "execution_count": 99
  },
  {
   "cell_type": "code",
   "outputs": [],
   "source": [
    "# fig, ax = plt.subplots(1, 1, figsize=(20, 6))\n",
    "# no_tip_products = product_probability_freq[product_probability_freq[1] == 0.0][['All', 'product_id']].groupby(\n",
    "#     'All').count()\n",
    "# \n",
    "# ax.bar(no_tip_products.index, no_tip_products['product_id'], edgecolor='white')\n",
    "# ax.set_xticks(no_tip_products.index)\n",
    "# \n",
    "# plt.tight_layout()\n",
    "# plt.show()"
   ],
   "metadata": {
    "collapsed": false,
    "ExecuteTime": {
     "end_time": "2024-06-04T22:31:17.496993400Z",
     "start_time": "2024-06-04T22:31:16.969471500Z"
    }
   },
   "id": "1a3800a8245d42e0",
   "execution_count": 100
  },
  {
   "cell_type": "code",
   "outputs": [],
   "source": [
    "# product_probability_freq"
   ],
   "metadata": {
    "collapsed": false,
    "ExecuteTime": {
     "end_time": "2024-06-04T22:31:17.499058400Z",
     "start_time": "2024-06-04T22:31:16.974631Z"
    }
   },
   "id": "58a9bcc0610995c6",
   "execution_count": 101
  },
  {
   "cell_type": "markdown",
   "source": [
    "### Data Preparation"
   ],
   "metadata": {
    "collapsed": false
   },
   "id": "63ca3a2c4358810d"
  },
  {
   "cell_type": "code",
   "outputs": [],
   "source": [
    "from feature_engineering.features import DowHighTipProbability, HodHighTipProbability, OrderNumberSquared, \\\n",
    "    ContainsAlcohol\n",
    "\n",
    "data_manager.register_feature(DowHighTipProbability())\n",
    "data_manager.register_feature(HodHighTipProbability())\n",
    "data_manager.register_feature(OrderNumberSquared())\n",
    "data_manager.register_feature(ContainsAlcohol())"
   ],
   "metadata": {
    "collapsed": false,
    "ExecuteTime": {
     "end_time": "2024-06-04T22:31:17.540964600Z",
     "start_time": "2024-06-04T22:31:16.981832200Z"
    }
   },
   "id": "b9e09d0cfa2575f4",
   "execution_count": 102
  },
  {
   "cell_type": "code",
   "outputs": [],
   "source": [
    "data_manager.compute_features()"
   ],
   "metadata": {
    "collapsed": false,
    "ExecuteTime": {
     "end_time": "2024-06-04T22:31:19.805648200Z",
     "start_time": "2024-06-04T22:31:16.986446800Z"
    }
   },
   "id": "7abbbc99cec0f748",
   "execution_count": 103
  },
  {
   "cell_type": "code",
   "outputs": [],
   "source": [
    "# orders_with_alcohol = data_manager.get_orders_tip()[data_manager.get_orders_tip()['contains_alcohol'] == 1][\n",
    "#     ['order_id', 'contains_alcohol']]\n",
    "# test = pd.merge(orders_with_alcohol, data_manager.get_orders_joined(),\n",
    "#                 on='order_id')[['order_id', 'contains_alcohol', 'department_id', 'product_id']]"
   ],
   "metadata": {
    "collapsed": false,
    "ExecuteTime": {
     "end_time": "2024-06-04T22:31:19.811160800Z",
     "start_time": "2024-06-04T22:31:19.805535500Z"
    }
   },
   "id": "d91324ee07a27b82",
   "execution_count": 104
  },
  {
   "cell_type": "code",
   "outputs": [],
   "source": [
    "# len(orders_with_alcohol)"
   ],
   "metadata": {
    "collapsed": false,
    "ExecuteTime": {
     "end_time": "2024-06-04T22:31:19.817883500Z",
     "start_time": "2024-06-04T22:31:19.810159300Z"
    }
   },
   "id": "cfbbf458b3a3b688",
   "execution_count": 105
  },
  {
   "cell_type": "code",
   "outputs": [],
   "source": [
    "# len(data_manager.get_orders_joined()[data_manager.get_orders_joined()['department_id'] == 5]['order_id'].unique())"
   ],
   "metadata": {
    "collapsed": false,
    "ExecuteTime": {
     "end_time": "2024-06-04T22:31:19.873464500Z",
     "start_time": "2024-06-04T22:31:19.817883500Z"
    }
   },
   "id": "c229199099e4bd0b",
   "execution_count": 106
  },
  {
   "cell_type": "markdown",
   "id": "9038d3d52fbf8ad1",
   "metadata": {
    "collapsed": false
   },
   "source": [
    "### Model Training & Evaluation"
   ]
  },
  {
   "cell_type": "code",
   "outputs": [],
   "source": [],
   "metadata": {
    "collapsed": false,
    "ExecuteTime": {
     "end_time": "2024-06-04T22:31:19.874685Z",
     "start_time": "2024-06-04T22:31:19.825130900Z"
    }
   },
   "id": "ad73673f8150801a",
   "execution_count": 106
  },
  {
   "cell_type": "code",
   "outputs": [],
   "source": [],
   "metadata": {
    "collapsed": false,
    "ExecuteTime": {
     "end_time": "2024-06-04T22:31:19.943597600Z",
     "start_time": "2024-06-04T22:31:19.829757200Z"
    }
   },
   "id": "558ca0ba3d24e77c",
   "execution_count": 106
  }
 ],
 "metadata": {
  "kernelspec": {
   "name": "python3",
   "language": "python",
   "display_name": "Python 3 (ipykernel)"
  },
  "language_info": {
   "codemirror_mode": {
    "name": "ipython",
    "version": 3
   },
   "file_extension": ".py",
   "mimetype": "text/x-python",
   "name": "python",
   "nbconvert_exporter": "python",
   "pygments_lexer": "ipython3",
   "version": "3.11.8"
  }
 },
 "nbformat": 4,
 "nbformat_minor": 5
}
