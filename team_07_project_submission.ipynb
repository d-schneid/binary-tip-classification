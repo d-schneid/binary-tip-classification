{
 "cells": [
  {
   "cell_type": "markdown",
   "id": "7aea19f30bc2952",
   "metadata": {
    "collapsed": false
   },
   "source": [
    "# Data Science Project SoSe 2024\n",
    "## Team 07\n",
    "- Maximilian Hoffmann\n",
    "- Kilian Kempf\n",
    "- Daniel Schneider\n",
    "- Tom Schuck\n",
    "\n",
    "## Project Submission"
   ]
  },
  {
   "cell_type": "markdown",
   "id": "b1817857eb895437",
   "metadata": {
    "collapsed": false
   },
   "source": [
    "### Data Initialization"
   ]
  },
  {
   "cell_type": "code",
   "id": "2ac69658072618d1",
   "metadata": {
    "collapsed": false,
    "ExecuteTime": {
     "end_time": "2024-06-13T06:51:41.525659Z",
     "start_time": "2024-06-13T06:50:46.046170Z"
    }
   },
   "source": [
    "import os\n",
    "\n",
    "import pandas as pd\n",
    "\n",
    "from data_management import DataManager\n",
    "\n",
    "DATA_DIR = os.path.join(os.getcwd(), 'data/Instacart')\n",
    "\n",
    "op_prior = pd.read_csv(os.path.join(DATA_DIR, 'order_products__prior.csv.zip'))\n",
    "op_train = pd.read_csv(os.path.join(DATA_DIR, 'order_products__train.csv.zip'))\n",
    "\n",
    "tip_train = pd.read_csv(os.path.join(DATA_DIR, 'tip_trainingsdaten1_.csv'))[['order_id', 'tip']]\n",
    "tip_test = pd.read_csv(os.path.join(DATA_DIR, 'tip_testdaten1_template.csv'))\n",
    "\n",
    "orders = pd.read_csv(os.path.join(DATA_DIR, 'orders.csv.zip'))\n",
    "aisles = pd.read_csv(os.path.join(DATA_DIR, 'aisles.csv.zip'))\n",
    "departments = pd.read_csv(os.path.join(DATA_DIR, 'departments.csv.zip'))\n",
    "products = pd.read_csv(os.path.join(DATA_DIR, 'products.csv.zip'))\n",
    "\n",
    "data_manager = DataManager(op_prior, op_train, tip_train, tip_test, orders, products, aisles, departments)\n",
    "order_amount = len(data_manager.get_orders_tip())"
   ],
   "outputs": [],
   "execution_count": 1
  },
  {
   "cell_type": "markdown",
   "id": "d11d62b342b9ebc8",
   "metadata": {
    "collapsed": false
   },
   "source": [
    "### Feature Engineering"
   ]
  },
  {
   "cell_type": "code",
   "outputs": [],
   "source": [
    "from feature_engineering.static_features import TipHistory, ReorderedRatio, OrderSize, PrevTippedProductsRatio, \\\n",
    "    CustomerLifetime, PrevOrderTipped, OrderFrequency, SimOrdersTipRatio, AvgSizePrevOrders, MeanOrderedRate, \\\n",
    "    LastTipSequence, RelDaysSinceTip, DaysSinceTip, OrderNumberSquared, HodHighTipProbability, DowHighTipProbability, \\\n",
    "    ContainsAlcohol\n",
    "\n",
    "from feature_engineering.dynamic_features import ProductTipRate, DepartmentTipRate, AisleTipRate, DynamicFeatureTest1, \\\n",
    "    DynamicFeatureTest2, AssocRulesAisles, AssocRulesDepartments\n",
    "\n",
    "# Kilian\n",
    "tip_history = TipHistory()\n",
    "reordered_rate = ReorderedRatio()\n",
    "order_size = OrderSize()\n",
    "prev_tipped_products_ratio = PrevTippedProductsRatio()\n",
    "customer_lifetime = CustomerLifetime()\n",
    "prev_order_tipped = PrevOrderTipped()\n",
    "\n",
    "# Daniel\n",
    "order_frequency = OrderFrequency()\n",
    "mean_ordered_rate = MeanOrderedRate()\n",
    "rel_days_since_tip = RelDaysSinceTip()\n",
    "days_since_tip = DaysSinceTip()\n",
    "\n",
    "# Max\n",
    "sim_orders_tip_ratio = SimOrdersTipRatio()\n",
    "product_tip_rate = ProductTipRate()\n",
    "department_tip_rate = DepartmentTipRate()\n",
    "aisle_tip_rate = AisleTipRate()\n",
    "last_tip_sequence = LastTipSequence()\n",
    "\n",
    "# Tom\n",
    "avg_size_prev_orders = AvgSizePrevOrders()\n",
    "\n",
    "# Features analysis\n",
    "order_number_squared = OrderNumberSquared()\n",
    "hod_high_tip_probability = HodHighTipProbability()\n",
    "dow_high_tip_probability = DowHighTipProbability()\n",
    "contains_alcohol = ContainsAlcohol()\n",
    "\n",
    "assoc_rules_departments = AssocRulesDepartments()\n",
    "assoc_rules_aisles = AssocRulesAisles()\n",
    "\n",
    "# Test\n",
    "dynamic_feature_test_1 = DynamicFeatureTest1()\n",
    "dynamic_feature_test_2 = DynamicFeatureTest2()"
   ],
   "metadata": {
    "collapsed": false,
    "ExecuteTime": {
     "end_time": "2024-06-13T06:51:41.905219Z",
     "start_time": "2024-06-13T06:51:41.528563Z"
    }
   },
   "id": "17146b7392a9f170",
   "execution_count": 2
  },
  {
   "cell_type": "code",
   "outputs": [],
   "source": [
    "# Static Features\n",
    "data_manager.register_feature(tip_history)\n",
    "data_manager.register_feature(reordered_rate)\n",
    "data_manager.register_feature(order_size)\n",
    "data_manager.register_feature(customer_lifetime)\n",
    "data_manager.register_feature(prev_order_tipped)\n",
    "data_manager.register_feature(prev_tipped_products_ratio)\n",
    " \n",
    "data_manager.register_feature(order_frequency)\n",
    "data_manager.register_feature(sim_orders_tip_ratio)\n",
    "data_manager.register_feature(avg_size_prev_orders)\n",
    "data_manager.register_feature(mean_ordered_rate)\n",
    "data_manager.register_feature(last_tip_sequence)\n",
    "data_manager.register_feature(rel_days_since_tip)\n",
    "data_manager.register_feature(days_since_tip)\n",
    " \n",
    "data_manager.register_feature(order_number_squared)\n",
    "data_manager.register_feature(hod_high_tip_probability)\n",
    "data_manager.register_feature(dow_high_tip_probability)\n",
    "data_manager.register_feature(contains_alcohol)\n",
    "\n",
    "# Dynamic Features\n",
    "data_manager.register_feature(dynamic_feature_test_1)\n",
    "data_manager.register_feature(dynamic_feature_test_2)\n",
    "data_manager.register_feature(product_tip_rate)\n",
    "data_manager.register_feature(department_tip_rate)\n",
    "data_manager.register_feature(aisle_tip_rate)\n",
    "\n",
    "# data_manager.register_feature(assoc_rules_departments)\n",
    "# data_manager.register_feature(assoc_rules_aisles)"
   ],
   "metadata": {
    "collapsed": false,
    "ExecuteTime": {
     "end_time": "2024-06-13T06:51:41.914446Z",
     "start_time": "2024-06-13T06:51:41.906549Z"
    }
   },
   "id": "b081568c70f50d37",
   "execution_count": 3
  },
  {
   "cell_type": "code",
   "outputs": [],
   "source": [
    "# data_manager.compute_features()"
   ],
   "metadata": {
    "collapsed": false,
    "ExecuteTime": {
     "end_time": "2024-06-13T06:51:41.919098Z",
     "start_time": "2024-06-13T06:51:41.916399Z"
    }
   },
   "id": "edd5fa56155665d8",
   "execution_count": 4
  },
  {
   "cell_type": "code",
   "outputs": [
    {
     "data": {
      "text/plain": "    order_id  user_id eval_set  order_number  order_dow  order_hour_of_day  \\\n0    2539329        1    prior             1          2                  8   \n1    2398795        1    prior             2          3                  7   \n2     473747        1    prior             3          3                 12   \n3    2254736        1    prior             4          4                  7   \n4     431534        1    prior             5          4                 15   \n..       ...      ...      ...           ...        ...                ...   \n95   1916106       12    prior             3          5                  8   \n96   1057378       12    prior             4          3                  9   \n97    221248       12    prior             5          1                  9   \n98   2618231       13    prior             1          6                 12   \n99   2560699       13    prior             2          0                 11   \n\n    days_since_prior_order  tip  \n0                      NaN  0.0  \n1                     15.0  0.0  \n2                     21.0  0.0  \n3                     29.0  0.0  \n4                     28.0  0.0  \n..                     ...  ...  \n95                    14.0  0.0  \n96                    26.0  0.0  \n97                    30.0  0.0  \n98                     NaN  0.0  \n99                     8.0  1.0  \n\n[100 rows x 8 columns]",
      "text/html": "<div>\n<style scoped>\n    .dataframe tbody tr th:only-of-type {\n        vertical-align: middle;\n    }\n\n    .dataframe tbody tr th {\n        vertical-align: top;\n    }\n\n    .dataframe thead th {\n        text-align: right;\n    }\n</style>\n<table border=\"1\" class=\"dataframe\">\n  <thead>\n    <tr style=\"text-align: right;\">\n      <th></th>\n      <th>order_id</th>\n      <th>user_id</th>\n      <th>eval_set</th>\n      <th>order_number</th>\n      <th>order_dow</th>\n      <th>order_hour_of_day</th>\n      <th>days_since_prior_order</th>\n      <th>tip</th>\n    </tr>\n  </thead>\n  <tbody>\n    <tr>\n      <th>0</th>\n      <td>2539329</td>\n      <td>1</td>\n      <td>prior</td>\n      <td>1</td>\n      <td>2</td>\n      <td>8</td>\n      <td>NaN</td>\n      <td>0.0</td>\n    </tr>\n    <tr>\n      <th>1</th>\n      <td>2398795</td>\n      <td>1</td>\n      <td>prior</td>\n      <td>2</td>\n      <td>3</td>\n      <td>7</td>\n      <td>15.0</td>\n      <td>0.0</td>\n    </tr>\n    <tr>\n      <th>2</th>\n      <td>473747</td>\n      <td>1</td>\n      <td>prior</td>\n      <td>3</td>\n      <td>3</td>\n      <td>12</td>\n      <td>21.0</td>\n      <td>0.0</td>\n    </tr>\n    <tr>\n      <th>3</th>\n      <td>2254736</td>\n      <td>1</td>\n      <td>prior</td>\n      <td>4</td>\n      <td>4</td>\n      <td>7</td>\n      <td>29.0</td>\n      <td>0.0</td>\n    </tr>\n    <tr>\n      <th>4</th>\n      <td>431534</td>\n      <td>1</td>\n      <td>prior</td>\n      <td>5</td>\n      <td>4</td>\n      <td>15</td>\n      <td>28.0</td>\n      <td>0.0</td>\n    </tr>\n    <tr>\n      <th>...</th>\n      <td>...</td>\n      <td>...</td>\n      <td>...</td>\n      <td>...</td>\n      <td>...</td>\n      <td>...</td>\n      <td>...</td>\n      <td>...</td>\n    </tr>\n    <tr>\n      <th>95</th>\n      <td>1916106</td>\n      <td>12</td>\n      <td>prior</td>\n      <td>3</td>\n      <td>5</td>\n      <td>8</td>\n      <td>14.0</td>\n      <td>0.0</td>\n    </tr>\n    <tr>\n      <th>96</th>\n      <td>1057378</td>\n      <td>12</td>\n      <td>prior</td>\n      <td>4</td>\n      <td>3</td>\n      <td>9</td>\n      <td>26.0</td>\n      <td>0.0</td>\n    </tr>\n    <tr>\n      <th>97</th>\n      <td>221248</td>\n      <td>12</td>\n      <td>prior</td>\n      <td>5</td>\n      <td>1</td>\n      <td>9</td>\n      <td>30.0</td>\n      <td>0.0</td>\n    </tr>\n    <tr>\n      <th>98</th>\n      <td>2618231</td>\n      <td>13</td>\n      <td>prior</td>\n      <td>1</td>\n      <td>6</td>\n      <td>12</td>\n      <td>NaN</td>\n      <td>0.0</td>\n    </tr>\n    <tr>\n      <th>99</th>\n      <td>2560699</td>\n      <td>13</td>\n      <td>prior</td>\n      <td>2</td>\n      <td>0</td>\n      <td>11</td>\n      <td>8.0</td>\n      <td>1.0</td>\n    </tr>\n  </tbody>\n</table>\n<p>100 rows × 8 columns</p>\n</div>"
     },
     "execution_count": 5,
     "metadata": {},
     "output_type": "execute_result"
    }
   ],
   "source": [
    "data_manager.get_orders_tip().head(100)"
   ],
   "metadata": {
    "collapsed": false,
    "ExecuteTime": {
     "end_time": "2024-06-13T06:51:41.979880Z",
     "start_time": "2024-06-13T06:51:41.921671Z"
    }
   },
   "id": "713f52be4f46812b",
   "execution_count": 5
  },
  {
   "cell_type": "code",
   "outputs": [],
   "source": [
    "# data_manager.export_features('data/prepared_data/computed_features.csv.zip', only_static=False)"
   ],
   "metadata": {
    "collapsed": false,
    "ExecuteTime": {
     "end_time": "2024-06-13T06:51:41.982549Z",
     "start_time": "2024-06-13T06:51:41.980694Z"
    }
   },
   "id": "4cb24eaddbbf3e23",
   "execution_count": 6
  },
  {
   "cell_type": "code",
   "outputs": [],
   "source": [
    "data_manager.import_features('data/prepared_data/computed_features.csv.zip', only_static=False)"
   ],
   "metadata": {
    "collapsed": false,
    "ExecuteTime": {
     "end_time": "2024-06-13T06:51:53.882530Z",
     "start_time": "2024-06-13T06:51:41.983402Z"
    }
   },
   "id": "f801c18938a6483d",
   "execution_count": 7
  },
  {
   "cell_type": "code",
   "outputs": [
    {
     "name": "stdout",
     "output_type": "stream",
     "text": [
      "                       Feature  Correlation\n",
      "0                  tip_history     0.559060\n",
      "1            prev_order_tipped     0.490379\n",
      "2         sim_orders_tip_ratio     0.411784\n",
      "3   prev_tipped_products_ratio     0.396700\n",
      "4            last_tip_sequence     0.339536\n",
      "5             product_tip_rate     0.276978\n",
      "6               aisle_tip_rate     0.241822\n",
      "7                dept_tip_rate     0.226838\n",
      "8     dow_high_tip_probability     0.142086\n",
      "9             contains_alcohol     0.117845\n",
      "10             reordered_ratio     0.116099\n",
      "11                order_number     0.094750\n",
      "12    hod_high_tip_probability     0.089347\n",
      "13           customer_lifetime     0.070360\n",
      "14           mean_ordered_rate     0.058233\n",
      "15        order_number_squared     0.053961\n",
      "16                  order_size     0.006547\n",
      "17        avg_size_prev_orders    -0.013932\n",
      "18      dynamic_feature_test_2    -0.023511\n",
      "19      dynamic_feature_test_1    -0.023511\n",
      "20          rel_days_since_tip    -0.120450\n",
      "21      days_since_prior_order    -0.146384\n",
      "22             order_frequency    -0.192789\n",
      "23              days_since_tip    -0.297107\n"
     ]
    }
   ],
   "source": [
    "data_manager.calculate_feature_correlations(only_static=False)"
   ],
   "metadata": {
    "collapsed": false,
    "ExecuteTime": {
     "end_time": "2024-06-13T06:51:57.757869Z",
     "start_time": "2024-06-13T06:51:53.884369Z"
    }
   },
   "id": "90dbbca8f33581a9",
   "execution_count": 8
  },
  {
   "cell_type": "code",
   "outputs": [
    {
     "name": "stdout",
     "output_type": "stream",
     "text": [
      "Analyze of static features:\n"
     ]
    }
   ],
   "source": [
    "data_manager.visualize_feature_analysis(only_static=False)"
   ],
   "metadata": {
    "collapsed": false,
    "is_executing": true,
    "ExecuteTime": {
     "start_time": "2024-06-13T06:51:57.758694Z"
    }
   },
   "id": "9af74addae656cd5",
   "execution_count": null
  },
  {
   "cell_type": "code",
   "outputs": [],
   "source": [
    "# data_manager.get_orders_tip().head(100)"
   ],
   "metadata": {
    "collapsed": false,
    "ExecuteTime": {
     "end_time": "2024-06-12T12:06:44.787535800Z",
     "start_time": "2024-06-12T12:06:44.780804400Z"
    }
   },
   "id": "abf9dbc1e8a9df3e",
   "execution_count": 8
  },
  {
   "cell_type": "code",
   "outputs": [],
   "source": [
    "# test = data_manager.get_orders_tip()"
   ],
   "metadata": {
    "collapsed": false,
    "ExecuteTime": {
     "end_time": "2024-06-12T12:06:44.789328500Z",
     "start_time": "2024-06-12T12:06:44.783207500Z"
    }
   },
   "id": "4755549fddba80dd",
   "execution_count": 9
  },
  {
   "cell_type": "code",
   "outputs": [],
   "source": [
    "# print(f\"Number of orders: {len(data_manager.get_orders_tip())}\")\n",
    "# print(f\"Number of orders did not change: {order_amount == len(data_manager.get_orders_tip())}\\n\")\n",
    "# print(f\"Number of NaN or null values in each column:\\n{data_manager.get_orders_tip().isnull().sum()}\")"
   ],
   "metadata": {
    "collapsed": false,
    "ExecuteTime": {
     "end_time": "2024-06-12T12:06:44.794516Z",
     "start_time": "2024-06-12T12:06:44.788822800Z"
    }
   },
   "id": "2cbc3e033b6867f9",
   "execution_count": 10
  },
  {
   "cell_type": "code",
   "outputs": [],
   "source": [
    "# order_ids = data_manager.get_orders_tip(complete=True).groupby('user_id')['order_id'].head(5)\n",
    "# order_amount = len(order_ids)"
   ],
   "metadata": {
    "collapsed": false,
    "ExecuteTime": {
     "end_time": "2024-06-12T12:06:44.823580700Z",
     "start_time": "2024-06-12T12:06:44.792333700Z"
    }
   },
   "id": "60d0c1c2504cca88",
   "execution_count": 11
  },
  {
   "cell_type": "code",
   "outputs": [],
   "source": [
    "# data_manager.set_subset(order_ids)"
   ],
   "metadata": {
    "collapsed": false,
    "ExecuteTime": {
     "end_time": "2024-06-12T12:06:44.836041100Z",
     "start_time": "2024-06-12T12:06:44.794516Z"
    }
   },
   "id": "ea75a49725dbfdef",
   "execution_count": 12
  },
  {
   "cell_type": "code",
   "outputs": [],
   "source": [
    "# data_manager.get_orders_tip().head(25)"
   ],
   "metadata": {
    "collapsed": false,
    "ExecuteTime": {
     "end_time": "2024-06-12T12:06:44.838820600Z",
     "start_time": "2024-06-12T12:06:44.797945500Z"
    }
   },
   "id": "ae96799844c48c55",
   "execution_count": 13
  },
  {
   "cell_type": "code",
   "outputs": [],
   "source": [
    "# print(f\"Number of orders: {len(data_manager.get_orders_tip())}\")\n",
    "# print(f\"Number of orders did not change: {order_amount == len(data_manager.get_orders_tip())}\\n\")\n",
    "# print(f\"Number of NaN or null values in each column:\\n{data_manager.get_orders_tip().isnull().sum()}\")"
   ],
   "metadata": {
    "collapsed": false,
    "ExecuteTime": {
     "end_time": "2024-06-12T12:06:44.860909700Z",
     "start_time": "2024-06-12T12:06:44.802335300Z"
    }
   },
   "id": "b169956333c51c66",
   "execution_count": 14
  },
  {
   "cell_type": "code",
   "outputs": [],
   "source": [
    "# order_ids = data_manager.get_orders_tip(complete=True).groupby('user_id')['order_id'].head(4)\n",
    "# order_amount = len(order_ids)\n",
    "# \n",
    "# data_manager.set_subset(order_ids)\n",
    "# data_manager.get_orders_tip().head(25)"
   ],
   "metadata": {
    "collapsed": false,
    "ExecuteTime": {
     "end_time": "2024-06-12T12:06:44.862915300Z",
     "start_time": "2024-06-12T12:06:44.806443600Z"
    }
   },
   "id": "6913eb1c1ef566e5",
   "execution_count": 15
  },
  {
   "cell_type": "code",
   "outputs": [],
   "source": [
    "# print(f\"Number of orders: {len(data_manager.get_orders_tip())}\")\n",
    "# print(f\"Number of orders did not change: {order_amount == len(data_manager.get_orders_tip())}\\n\")\n",
    "# print(f\"Number of NaN or null values in each column:\\n{data_manager.get_orders_tip().isnull().sum()}\")"
   ],
   "metadata": {
    "collapsed": false,
    "ExecuteTime": {
     "end_time": "2024-06-12T12:06:44.863921600Z",
     "start_time": "2024-06-12T12:06:44.811114400Z"
    }
   },
   "id": "d0e728bc955477d5",
   "execution_count": 16
  },
  {
   "cell_type": "markdown",
   "source": [
    "### Analysis\n",
    "- Only orders from the training set (orders with tip information) are considered"
   ],
   "metadata": {
    "collapsed": false
   },
   "id": "890a24fdac60f10f"
  },
  {
   "cell_type": "code",
   "outputs": [],
   "source": [
    "# from analysis import DayOfWeek, HourOfDay, DaysSincePriorOrder, OrderNumber, Department, Aisle, Product, GeneralAnalysis"
   ],
   "metadata": {
    "collapsed": false,
    "ExecuteTime": {
     "end_time": "2024-06-12T12:06:44.871201800Z",
     "start_time": "2024-06-12T12:06:44.815542Z"
    }
   },
   "id": "b3473e1eda499005",
   "execution_count": 17
  },
  {
   "cell_type": "code",
   "outputs": [],
   "source": [
    "# day_of_week = DayOfWeek(data_manager)\n",
    "# hour_of_day = HourOfDay(data_manager)\n",
    "# days_since_prior_order = DaysSincePriorOrder(data_manager)\n",
    "# order_number = OrderNumber(data_manager)\n",
    "# department = Department(data_manager)\n",
    "# aisle = Aisle(data_manager)\n",
    "# product = Product(data_manager)\n",
    "# number_order_user = NumberOrderUser(data_manager)\n",
    "# general_analysis = GeneralAnalysis(data_manager)"
   ],
   "metadata": {
    "collapsed": false,
    "ExecuteTime": {
     "end_time": "2024-06-12T12:06:44.915379200Z",
     "start_time": "2024-06-12T12:06:44.820139800Z"
    }
   },
   "id": "7daaf39fa303d999",
   "execution_count": 18
  },
  {
   "cell_type": "code",
   "outputs": [],
   "source": [
    "# day_of_week.execute_analysis()"
   ],
   "metadata": {
    "collapsed": false,
    "ExecuteTime": {
     "end_time": "2024-06-12T12:06:44.926379800Z",
     "start_time": "2024-06-12T12:06:44.824581900Z"
    }
   },
   "id": "8d6acfe9affa74ac",
   "execution_count": 19
  },
  {
   "cell_type": "code",
   "outputs": [],
   "source": [
    "# hour_of_day.execute_analysis()"
   ],
   "metadata": {
    "collapsed": false,
    "ExecuteTime": {
     "end_time": "2024-06-12T12:06:44.928378500Z",
     "start_time": "2024-06-12T12:06:44.828614700Z"
    }
   },
   "id": "e67096e50e036f03",
   "execution_count": 20
  },
  {
   "cell_type": "code",
   "outputs": [],
   "source": [
    "# days_since_prior_order.execute_analysis()"
   ],
   "metadata": {
    "collapsed": false,
    "ExecuteTime": {
     "end_time": "2024-06-12T12:06:44.932393800Z",
     "start_time": "2024-06-12T12:06:44.832606600Z"
    }
   },
   "id": "6b45182a7355d13a",
   "execution_count": 21
  },
  {
   "cell_type": "code",
   "outputs": [],
   "source": [
    "# order_number.execute_analysis()"
   ],
   "metadata": {
    "collapsed": false,
    "ExecuteTime": {
     "end_time": "2024-06-12T12:06:44.936393600Z",
     "start_time": "2024-06-12T12:06:44.837039Z"
    }
   },
   "id": "77b59d5cd0325271",
   "execution_count": 22
  },
  {
   "cell_type": "code",
   "outputs": [],
   "source": [
    "# department.execute_analysis()"
   ],
   "metadata": {
    "collapsed": false,
    "ExecuteTime": {
     "end_time": "2024-06-12T12:06:44.938394100Z",
     "start_time": "2024-06-12T12:06:44.840835900Z"
    }
   },
   "id": "12f092487e57cd43",
   "execution_count": 23
  },
  {
   "cell_type": "code",
   "outputs": [],
   "source": [
    "# aisle.execute_analysis()"
   ],
   "metadata": {
    "collapsed": false,
    "ExecuteTime": {
     "end_time": "2024-06-12T12:06:44.950602100Z",
     "start_time": "2024-06-12T12:06:44.844131600Z"
    }
   },
   "id": "f4ab7f536a6dff50",
   "execution_count": 24
  },
  {
   "cell_type": "code",
   "outputs": [],
   "source": [
    "# product.execute_analysis()"
   ],
   "metadata": {
    "collapsed": false,
    "ExecuteTime": {
     "end_time": "2024-06-12T12:06:44.953602400Z",
     "start_time": "2024-06-12T12:06:44.849182400Z"
    }
   },
   "id": "a7c3a3c4de6b4947",
   "execution_count": 25
  },
  {
   "cell_type": "code",
   "outputs": [],
   "source": [
    "# number_order_user.execute_analysis()"
   ],
   "metadata": {
    "collapsed": false,
    "ExecuteTime": {
     "end_time": "2024-06-12T12:06:44.975601900Z",
     "start_time": "2024-06-12T12:06:44.853868500Z"
    }
   },
   "id": "7a6e209c6252f53c",
   "execution_count": 26
  },
  {
   "cell_type": "markdown",
   "source": [
    "### Data Preparation"
   ],
   "metadata": {
    "collapsed": false
   },
   "id": "bc83375ff21286d6"
  },
  {
   "cell_type": "code",
   "outputs": [],
   "source": [
    "# from feature_engineering.static_features import DowHighTipProbability, HodHighTipProbability, OrderNumberSquared, \\\n",
    "#     ContainsAlcohol\n",
    "#\n",
    "# data_manager.register_feature(DowHighTipProbability())\n",
    "# data_manager.register_feature(HodHighTipProbability())\n",
    "# data_manager.register_feature(OrderNumberSquared())\n",
    "# data_manager.register_feature(ContainsAlcohol())"
   ],
   "metadata": {
    "collapsed": false,
    "ExecuteTime": {
     "end_time": "2024-06-12T12:06:44.982602700Z",
     "start_time": "2024-06-12T12:06:44.858286Z"
    }
   },
   "id": "11e6bf0945ffd97c",
   "execution_count": 27
  },
  {
   "cell_type": "code",
   "outputs": [],
   "source": [
    "# data_manager.compute_features()"
   ],
   "metadata": {
    "collapsed": false,
    "ExecuteTime": {
     "end_time": "2024-06-12T12:06:44.990602Z",
     "start_time": "2024-06-12T12:06:44.864914200Z"
    }
   },
   "id": "e10cbb0dea2b4bd2",
   "execution_count": 28
  },
  {
   "cell_type": "markdown",
   "source": [
    "### Model Training & Evaluation\n",
    "\n",
    "Order is important:\n",
    "- Remove first order of each user and assign the dataset for parameter tuning\n",
    "- Initialize cross-validation splitter\n",
    "- Export splits\n",
    "- Tune the parameters of the model with the dataset from 1."
   ],
   "metadata": {
    "collapsed": false
   },
   "id": "5ff7316768777ae9"
  },
  {
   "cell_type": "code",
   "outputs": [],
   "source": [
    "from data_management.cross_validation import LastOrderUserTSCVSplitter"
   ],
   "metadata": {
    "collapsed": false,
    "ExecuteTime": {
     "end_time": "2024-06-12T12:06:44.993596100Z",
     "start_time": "2024-06-12T12:06:44.868202100Z"
    }
   },
   "id": "1b07129f5f10075b",
   "execution_count": 29
  },
  {
   "cell_type": "code",
   "outputs": [
    {
     "data": {
      "text/plain": "(3346083, 14)"
     },
     "execution_count": 30,
     "metadata": {},
     "output_type": "execute_result"
    }
   ],
   "source": [
    "orders_tip = data_manager.get_orders_tip()\n",
    "orders_tip.shape"
   ],
   "metadata": {
    "collapsed": false,
    "ExecuteTime": {
     "end_time": "2024-06-12T12:06:44.997595900Z",
     "start_time": "2024-06-12T12:06:44.879055300Z"
    }
   },
   "id": "76a31c7a45354367",
   "execution_count": 30
  },
  {
   "cell_type": "code",
   "outputs": [],
   "source": [
    "data_manager.remove_first_orders()"
   ],
   "metadata": {
    "collapsed": false,
    "ExecuteTime": {
     "end_time": "2024-06-12T12:06:48.585205900Z",
     "start_time": "2024-06-12T12:06:44.883379600Z"
    }
   },
   "id": "3abe772f19ff578e",
   "execution_count": 31
  },
  {
   "cell_type": "code",
   "outputs": [
    {
     "data": {
      "text/plain": "(3008665, 14)"
     },
     "execution_count": 32,
     "metadata": {},
     "output_type": "execute_result"
    }
   ],
   "source": [
    "orders_tip_train = data_manager.get_orders_tip_train().copy()\n",
    "orders_tip_train.shape"
   ],
   "metadata": {
    "collapsed": false,
    "ExecuteTime": {
     "end_time": "2024-06-12T12:06:48.895220900Z",
     "start_time": "2024-06-12T12:06:48.586226900Z"
    }
   },
   "id": "6e64a3e055952da4",
   "execution_count": 32
  },
  {
   "cell_type": "code",
   "outputs": [],
   "source": [
    "# cv = KFold(n_splits=5, shuffle=True, random_state=42)"
   ],
   "metadata": {
    "collapsed": false,
    "ExecuteTime": {
     "end_time": "2024-06-12T12:06:48.899973700Z",
     "start_time": "2024-06-12T12:06:48.894717700Z"
    }
   },
   "id": "f9ee9c473fa4ae22",
   "execution_count": 33
  },
  {
   "cell_type": "code",
   "outputs": [],
   "source": [
    "last_order_user_tscv_splitter = LastOrderUserTSCVSplitter(data_manager, n_splits=5)"
   ],
   "metadata": {
    "collapsed": false,
    "ExecuteTime": {
     "end_time": "2024-06-12T12:06:49.899613600Z",
     "start_time": "2024-06-12T12:06:48.897226400Z"
    }
   },
   "id": "62c2c8a95be01e0a",
   "execution_count": 34
  },
  {
   "cell_type": "code",
   "outputs": [],
   "source": [
    "# splits = last_order_user_tscv_splitter.split(orders_tip_train)"
   ],
   "metadata": {
    "collapsed": false,
    "ExecuteTime": {
     "end_time": "2024-06-12T12:06:49.904912800Z",
     "start_time": "2024-06-12T12:06:49.900602400Z"
    }
   },
   "id": "198912d5a1185bdd",
   "execution_count": 35
  },
  {
   "cell_type": "code",
   "outputs": [
    {
     "name": "stdout",
     "output_type": "stream",
     "text": [
      "Fold 1\n",
      "Train: 2802456\n",
      "Test: 206209\n",
      "Orders: 3008665\n",
      "Sum equal: True\n",
      "Ratio: 0.06853837166982699\n",
      "Fold 2\n",
      "Train: 2596247\n",
      "Test: 206209\n",
      "Orders: 3008665\n",
      "Sum equal: True\n",
      "Ratio: 0.07358152991518868\n",
      "Fold 3\n",
      "Train: 2414024\n",
      "Test: 182223\n",
      "Orders: 3008665\n",
      "Sum equal: True\n",
      "Ratio: 0.07018708158353192\n",
      "Fold 4\n",
      "Train: 2251391\n",
      "Test: 162633\n",
      "Orders: 3008665\n",
      "Sum equal: True\n",
      "Ratio: 0.06737008414166554\n",
      "Fold 5\n",
      "Train: 2104923\n",
      "Test: 146468\n",
      "Orders: 3008665\n",
      "Sum equal: True\n",
      "Ratio: 0.06505666941015577\n"
     ]
    }
   ],
   "source": [
    "# folds = {}\n",
    "# prev_test = 0\n",
    "# for i, (train_index, test_index) in enumerate(splits):\n",
    "#     print(f'Fold {i + 1}')\n",
    "#     print(f'Train: {len(train_index)}')\n",
    "#     print(f'Test: {len(test_index)}')\n",
    "#     print(f'Orders: {len(orders_tip_train)}')\n",
    "#     print(f'Sum equal: {(len(train_index) + len(test_index) + prev_test) == len(orders_tip_train)}')\n",
    "#     print(f'Ratio: {len(test_index) / (len(train_index) + len(test_index))}')\n",
    "# \n",
    "#     train_orders = orders_tip_train.loc[train_index]\n",
    "#     test_orders = orders_tip_train.loc[test_index]\n",
    "#     current_fold = {\n",
    "#         'train': train_orders,\n",
    "#         'test': test_orders\n",
    "#     }\n",
    "#     folds[f'fold_{i}'] = current_fold\n",
    "#     prev_test += len(test_index)"
   ],
   "metadata": {
    "collapsed": false,
    "ExecuteTime": {
     "end_time": "2024-06-12T12:06:51.904944600Z",
     "start_time": "2024-06-12T12:06:49.904912800Z"
    }
   },
   "id": "52a702707377b018",
   "execution_count": 36
  },
  {
   "cell_type": "code",
   "outputs": [
    {
     "name": "stdout",
     "output_type": "stream",
     "text": [
      "Export 1: Train size: 2802456, Test size: 206209\n",
      "Export 2: Train size: 2596247, Test size: 206209\n",
      "Export 3: Train size: 2414024, Test size: 182223\n",
      "Export 4: Train size: 2251391, Test size: 162633\n",
      "Export 5: Train size: 2104923, Test size: 146468\n"
     ]
    }
   ],
   "source": [
    "last_order_user_tscv_splitter.export_splits('data/prepared_data/')"
   ],
   "metadata": {
    "collapsed": false,
    "ExecuteTime": {
     "end_time": "2024-06-12T12:10:55.876517300Z",
     "start_time": "2024-06-12T12:06:51.904944600Z"
    }
   },
   "id": "4c6db90c4c28b854",
   "execution_count": 37
  },
  {
   "cell_type": "code",
   "outputs": [],
   "source": [
    "# user_tscv_splitter = UserTSCVSplitter(data_manager, n_splits=5, validation_set_ratio=0.2, seed=42)"
   ],
   "metadata": {
    "collapsed": false,
    "ExecuteTime": {
     "end_time": "2024-06-12T12:10:55.890853900Z",
     "start_time": "2024-06-12T12:10:55.883129200Z"
    }
   },
   "id": "2fe2d3fba743b7ed",
   "execution_count": 38
  },
  {
   "cell_type": "code",
   "outputs": [],
   "source": [
    "# splits = user_tscv_splitter.split(orders_tip_train)"
   ],
   "metadata": {
    "collapsed": false,
    "ExecuteTime": {
     "end_time": "2024-06-12T12:10:55.893778500Z",
     "start_time": "2024-06-12T12:10:55.883765300Z"
    }
   },
   "id": "cc9fb6503d82ee7d",
   "execution_count": 39
  },
  {
   "cell_type": "code",
   "outputs": [],
   "source": [
    "# folds = {}\n",
    "# prev_test = 0\n",
    "# for i, (train_index, test_index) in enumerate(splits):\n",
    "#     print(f'Fold {i + 1}')\n",
    "#     print(f'Train: {len(train_index)}')\n",
    "#     print(f'Test: {len(test_index)}')\n",
    "#     print(f'Orders: {len(orders_tip_train)}')\n",
    "#     print(f'Sum equal: {(len(train_index) + len(test_index) + prev_test) == len(orders_tip_train)}')\n",
    "#     print(f'Ratio: {len(test_index) / (len(train_index) + len(test_index))}')\n",
    "# \n",
    "#     train_orders = orders_tip_train.loc[train_index]\n",
    "#     test_orders = orders_tip_train.loc[test_index]\n",
    "#     current_fold = {\n",
    "#         'train': train_orders,\n",
    "#         'test': test_orders\n",
    "#     }\n",
    "#     folds[f'fold_{i}'] = current_fold\n",
    "#     prev_test += len(test_index)"
   ],
   "metadata": {
    "collapsed": false,
    "ExecuteTime": {
     "end_time": "2024-06-12T12:10:55.897903100Z",
     "start_time": "2024-06-12T12:10:55.890853900Z"
    }
   },
   "id": "245bc99427923b66",
   "execution_count": 40
  },
  {
   "cell_type": "code",
   "outputs": [],
   "source": [
    "# user_tscv_splitter.export_splits('data/prepared_data/')"
   ],
   "metadata": {
    "collapsed": false,
    "ExecuteTime": {
     "end_time": "2024-06-12T12:10:55.901401900Z",
     "start_time": "2024-06-12T12:10:55.893778500Z"
    }
   },
   "id": "8347f842806ffa12",
   "execution_count": 41
  },
  {
   "cell_type": "code",
   "outputs": [],
   "source": [
    "# features = ['order_number', 'order_dow', 'order_hour_of_day', 'days_since_prior_order', 'order_size', 'tip_history',\n",
    "#             'dynamic_feature_test_1', 'dynamic_feature_test_2']\n",
    "#\n",
    "# prepared_splits_dict = user_tscv_splitter.import_splits('data/prepared_data/', features)"
   ],
   "metadata": {
    "collapsed": false,
    "ExecuteTime": {
     "end_time": "2024-06-12T12:10:55.901401900Z",
     "start_time": "2024-06-12T12:10:55.897903100Z"
    }
   },
   "id": "b2d8489062a2b76f",
   "execution_count": 42
  },
  {
   "cell_type": "code",
   "outputs": [],
   "source": [
    "features = ['order_number', 'order_dow', 'order_hour_of_day', 'days_since_prior_order', 'order_size', 'tip_history',\n",
    "            'dynamic_feature_test_1', 'dynamic_feature_test_2']\n",
    "\n",
    "prepared_splits_dict = last_order_user_tscv_splitter.import_splits('data/prepared_data/', features)"
   ],
   "metadata": {
    "collapsed": false,
    "ExecuteTime": {
     "end_time": "2024-06-12T12:11:15.750864700Z",
     "start_time": "2024-06-12T12:10:55.901401900Z"
    }
   },
   "id": "57a5af1f4e9f4195",
   "execution_count": 43
  },
  {
   "cell_type": "code",
   "outputs": [],
   "source": [
    "from data_management import DatasetSelector\n",
    "from sklearn.pipeline import Pipeline\n",
    "from sklearn.tree import DecisionTreeClassifier\n",
    "from tempfile import mkdtemp\n",
    "from joblib import Memory\n",
    "\n",
    "# TODO: Add scaling & feature selection\n",
    "pipeline_steps = [('selector', DatasetSelector(prepared_splits_dict)),\n",
    "                  ('estimator', DecisionTreeClassifier())]\n",
    "\n",
    "cachedir = mkdtemp()\n",
    "memory = Memory(location=cachedir, verbose=0)\n",
    "\n",
    "pipeline = Pipeline(pipeline_steps, verbose=False, memory=memory)"
   ],
   "metadata": {
    "collapsed": false,
    "ExecuteTime": {
     "end_time": "2024-06-12T12:11:16.030288100Z",
     "start_time": "2024-06-12T12:11:15.750864700Z"
    }
   },
   "id": "7e018af4cbe01681",
   "execution_count": 44
  },
  {
   "cell_type": "code",
   "outputs": [],
   "source": [
    "from sklearn.model_selection import GridSearchCV\n",
    "\n",
    "param_grid = {\n",
    "    'estimator__criterion': ['entropy'],\n",
    "    'estimator__max_depth': [9, 10],\n",
    "    'estimator__min_samples_leaf': [256]\n",
    "}\n",
    "\n",
    "grid_search_clf = GridSearchCV(pipeline, param_grid, cv=last_order_user_tscv_splitter, scoring='accuracy', verbose=1,\n",
    "                               n_jobs=-1)"
   ],
   "metadata": {
    "collapsed": false,
    "ExecuteTime": {
     "end_time": "2024-06-12T12:11:16.033554Z",
     "start_time": "2024-06-12T12:11:16.032033100Z"
    }
   },
   "id": "e14920bc06f85dfe",
   "execution_count": 45
  },
  {
   "cell_type": "code",
   "outputs": [],
   "source": [
    "X = orders_tip_train[features]\n",
    "y = orders_tip_train['tip'].astype(bool)"
   ],
   "metadata": {
    "collapsed": false,
    "ExecuteTime": {
     "end_time": "2024-06-12T12:11:16.123423700Z",
     "start_time": "2024-06-12T12:11:16.033554Z"
    }
   },
   "id": "58958635b45d6924",
   "execution_count": 46
  },
  {
   "cell_type": "code",
   "outputs": [
    {
     "data": {
      "text/plain": "    order_number  order_dow  order_hour_of_day  days_since_prior_order  \\\n0              2          3                  7                    15.0   \n1              3          3                 12                    21.0   \n2              4          4                  7                    29.0   \n3              5          4                 15                    28.0   \n4              6          2                  7                    19.0   \n5              7          1                  9                    20.0   \n6              8          1                 14                    14.0   \n7              9          1                 16                     0.0   \n8             10          4                  8                    30.0   \n9              2          5                 10                    10.0   \n10             3          1                 10                     3.0   \n11             4          2                 10                     8.0   \n12             5          3                 11                     8.0   \n13             6          2                  9                    13.0   \n14             7          2                 12                    14.0   \n15             8          1                 15                    27.0   \n16             9          2                  9                     8.0   \n17            10          1                 11                     6.0   \n18            11          1                 10                    30.0   \n19            12          1                  9                    28.0   \n20            13          4                 11                    30.0   \n21            14          3                 10                    13.0   \n22             2          3                 19                     9.0   \n23             3          3                 16                    21.0   \n24             4          2                 18                    20.0   \n\n    order_size  tip_history  dynamic_feature_test_1  dynamic_feature_test_2  \n0            6     0.000000                0.181818                0.181818  \n1            5     0.000000                0.272727                0.272727  \n2            5     0.000000                0.363636                0.363636  \n3            8     0.000000                0.454545                0.454545  \n4            4     0.000000                0.545455                0.545455  \n5            5     0.000000                0.636364                0.636364  \n6            6     0.000000                0.727273                0.727273  \n7            6     0.000000                0.818182                0.818182  \n8            9     0.000000                0.909091                0.909091  \n9            6     0.000000                0.133333                0.133333  \n10           5     0.000000                0.200000                0.200000  \n11          13     0.333333                0.266667                0.266667  \n12          13     0.250000                0.333333                0.333333  \n13          21     0.400000                0.400000                0.400000  \n14          14     0.333333                0.466667                0.466667  \n15          16     0.428571                0.533333                0.533333  \n16          26     0.500000                0.600000                0.600000  \n17           9     0.555556                0.666667                0.666667  \n18          15     0.600000                0.733333                0.733333  \n19          19     0.636364                0.800000                0.800000  \n20           9     0.666667                0.866667                0.866667  \n21          16     0.615385                0.933333                0.933333  \n22           9     1.000000                0.166667                0.166667  \n23           6     1.000000                0.250000                0.250000  \n24           5     1.000000                0.333333                0.333333  ",
      "text/html": "<div>\n<style scoped>\n    .dataframe tbody tr th:only-of-type {\n        vertical-align: middle;\n    }\n\n    .dataframe tbody tr th {\n        vertical-align: top;\n    }\n\n    .dataframe thead th {\n        text-align: right;\n    }\n</style>\n<table border=\"1\" class=\"dataframe\">\n  <thead>\n    <tr style=\"text-align: right;\">\n      <th></th>\n      <th>order_number</th>\n      <th>order_dow</th>\n      <th>order_hour_of_day</th>\n      <th>days_since_prior_order</th>\n      <th>order_size</th>\n      <th>tip_history</th>\n      <th>dynamic_feature_test_1</th>\n      <th>dynamic_feature_test_2</th>\n    </tr>\n  </thead>\n  <tbody>\n    <tr>\n      <th>0</th>\n      <td>2</td>\n      <td>3</td>\n      <td>7</td>\n      <td>15.0</td>\n      <td>6</td>\n      <td>0.000000</td>\n      <td>0.181818</td>\n      <td>0.181818</td>\n    </tr>\n    <tr>\n      <th>1</th>\n      <td>3</td>\n      <td>3</td>\n      <td>12</td>\n      <td>21.0</td>\n      <td>5</td>\n      <td>0.000000</td>\n      <td>0.272727</td>\n      <td>0.272727</td>\n    </tr>\n    <tr>\n      <th>2</th>\n      <td>4</td>\n      <td>4</td>\n      <td>7</td>\n      <td>29.0</td>\n      <td>5</td>\n      <td>0.000000</td>\n      <td>0.363636</td>\n      <td>0.363636</td>\n    </tr>\n    <tr>\n      <th>3</th>\n      <td>5</td>\n      <td>4</td>\n      <td>15</td>\n      <td>28.0</td>\n      <td>8</td>\n      <td>0.000000</td>\n      <td>0.454545</td>\n      <td>0.454545</td>\n    </tr>\n    <tr>\n      <th>4</th>\n      <td>6</td>\n      <td>2</td>\n      <td>7</td>\n      <td>19.0</td>\n      <td>4</td>\n      <td>0.000000</td>\n      <td>0.545455</td>\n      <td>0.545455</td>\n    </tr>\n    <tr>\n      <th>5</th>\n      <td>7</td>\n      <td>1</td>\n      <td>9</td>\n      <td>20.0</td>\n      <td>5</td>\n      <td>0.000000</td>\n      <td>0.636364</td>\n      <td>0.636364</td>\n    </tr>\n    <tr>\n      <th>6</th>\n      <td>8</td>\n      <td>1</td>\n      <td>14</td>\n      <td>14.0</td>\n      <td>6</td>\n      <td>0.000000</td>\n      <td>0.727273</td>\n      <td>0.727273</td>\n    </tr>\n    <tr>\n      <th>7</th>\n      <td>9</td>\n      <td>1</td>\n      <td>16</td>\n      <td>0.0</td>\n      <td>6</td>\n      <td>0.000000</td>\n      <td>0.818182</td>\n      <td>0.818182</td>\n    </tr>\n    <tr>\n      <th>8</th>\n      <td>10</td>\n      <td>4</td>\n      <td>8</td>\n      <td>30.0</td>\n      <td>9</td>\n      <td>0.000000</td>\n      <td>0.909091</td>\n      <td>0.909091</td>\n    </tr>\n    <tr>\n      <th>9</th>\n      <td>2</td>\n      <td>5</td>\n      <td>10</td>\n      <td>10.0</td>\n      <td>6</td>\n      <td>0.000000</td>\n      <td>0.133333</td>\n      <td>0.133333</td>\n    </tr>\n    <tr>\n      <th>10</th>\n      <td>3</td>\n      <td>1</td>\n      <td>10</td>\n      <td>3.0</td>\n      <td>5</td>\n      <td>0.000000</td>\n      <td>0.200000</td>\n      <td>0.200000</td>\n    </tr>\n    <tr>\n      <th>11</th>\n      <td>4</td>\n      <td>2</td>\n      <td>10</td>\n      <td>8.0</td>\n      <td>13</td>\n      <td>0.333333</td>\n      <td>0.266667</td>\n      <td>0.266667</td>\n    </tr>\n    <tr>\n      <th>12</th>\n      <td>5</td>\n      <td>3</td>\n      <td>11</td>\n      <td>8.0</td>\n      <td>13</td>\n      <td>0.250000</td>\n      <td>0.333333</td>\n      <td>0.333333</td>\n    </tr>\n    <tr>\n      <th>13</th>\n      <td>6</td>\n      <td>2</td>\n      <td>9</td>\n      <td>13.0</td>\n      <td>21</td>\n      <td>0.400000</td>\n      <td>0.400000</td>\n      <td>0.400000</td>\n    </tr>\n    <tr>\n      <th>14</th>\n      <td>7</td>\n      <td>2</td>\n      <td>12</td>\n      <td>14.0</td>\n      <td>14</td>\n      <td>0.333333</td>\n      <td>0.466667</td>\n      <td>0.466667</td>\n    </tr>\n    <tr>\n      <th>15</th>\n      <td>8</td>\n      <td>1</td>\n      <td>15</td>\n      <td>27.0</td>\n      <td>16</td>\n      <td>0.428571</td>\n      <td>0.533333</td>\n      <td>0.533333</td>\n    </tr>\n    <tr>\n      <th>16</th>\n      <td>9</td>\n      <td>2</td>\n      <td>9</td>\n      <td>8.0</td>\n      <td>26</td>\n      <td>0.500000</td>\n      <td>0.600000</td>\n      <td>0.600000</td>\n    </tr>\n    <tr>\n      <th>17</th>\n      <td>10</td>\n      <td>1</td>\n      <td>11</td>\n      <td>6.0</td>\n      <td>9</td>\n      <td>0.555556</td>\n      <td>0.666667</td>\n      <td>0.666667</td>\n    </tr>\n    <tr>\n      <th>18</th>\n      <td>11</td>\n      <td>1</td>\n      <td>10</td>\n      <td>30.0</td>\n      <td>15</td>\n      <td>0.600000</td>\n      <td>0.733333</td>\n      <td>0.733333</td>\n    </tr>\n    <tr>\n      <th>19</th>\n      <td>12</td>\n      <td>1</td>\n      <td>9</td>\n      <td>28.0</td>\n      <td>19</td>\n      <td>0.636364</td>\n      <td>0.800000</td>\n      <td>0.800000</td>\n    </tr>\n    <tr>\n      <th>20</th>\n      <td>13</td>\n      <td>4</td>\n      <td>11</td>\n      <td>30.0</td>\n      <td>9</td>\n      <td>0.666667</td>\n      <td>0.866667</td>\n      <td>0.866667</td>\n    </tr>\n    <tr>\n      <th>21</th>\n      <td>14</td>\n      <td>3</td>\n      <td>10</td>\n      <td>13.0</td>\n      <td>16</td>\n      <td>0.615385</td>\n      <td>0.933333</td>\n      <td>0.933333</td>\n    </tr>\n    <tr>\n      <th>22</th>\n      <td>2</td>\n      <td>3</td>\n      <td>19</td>\n      <td>9.0</td>\n      <td>9</td>\n      <td>1.000000</td>\n      <td>0.166667</td>\n      <td>0.166667</td>\n    </tr>\n    <tr>\n      <th>23</th>\n      <td>3</td>\n      <td>3</td>\n      <td>16</td>\n      <td>21.0</td>\n      <td>6</td>\n      <td>1.000000</td>\n      <td>0.250000</td>\n      <td>0.250000</td>\n    </tr>\n    <tr>\n      <th>24</th>\n      <td>4</td>\n      <td>2</td>\n      <td>18</td>\n      <td>20.0</td>\n      <td>5</td>\n      <td>1.000000</td>\n      <td>0.333333</td>\n      <td>0.333333</td>\n    </tr>\n  </tbody>\n</table>\n</div>"
     },
     "execution_count": 47,
     "metadata": {},
     "output_type": "execute_result"
    }
   ],
   "source": [
    "X.head(25)"
   ],
   "metadata": {
    "collapsed": false,
    "ExecuteTime": {
     "end_time": "2024-06-12T12:11:16.134895400Z",
     "start_time": "2024-06-12T12:11:16.123423700Z"
    }
   },
   "id": "ac0903be63b47fb6",
   "execution_count": 47
  },
  {
   "cell_type": "code",
   "outputs": [
    {
     "name": "stdout",
     "output_type": "stream",
     "text": [
      "X shape: (3008665, 8)\n",
      "y shape: (3008665,)\n"
     ]
    }
   ],
   "source": [
    "print(f'X shape: {X.shape}')\n",
    "print(f'y shape: {y.shape}')"
   ],
   "metadata": {
    "collapsed": false,
    "ExecuteTime": {
     "end_time": "2024-06-12T12:11:16.144354200Z",
     "start_time": "2024-06-12T12:11:16.138907500Z"
    }
   },
   "id": "41585ee3f811c68f",
   "execution_count": 48
  },
  {
   "cell_type": "code",
   "outputs": [
    {
     "name": "stdout",
     "output_type": "stream",
     "text": [
      "Fitting 5 folds for each of 2 candidates, totalling 10 fits\n",
      "Transformation: (3008665, 8) -> (3008665, 8)\n"
     ]
    },
    {
     "data": {
      "text/plain": "GridSearchCV(cv=LastOrderUserTSCVSplitter(data_manager=<data_management.data_manager.DataManager object at 0x000001CD467E2E50>,\n                                          n_splits=5),\n             estimator=Pipeline(memory=Memory(location=C:\\Users\\I538883\\AppData\\Local\\Temp\\tmpdcbapkah\\joblib),\n                                steps=[('selector',\n                                        DatasetSelector(prepared_splits_dict={-8070716829487604255:          order_number  order_dow  order_hour_of_day...\n         dynamic_feature_test_2  \n0                      0.333333  \n1                      0.500000  \n2                      0.666667  \n3                      0.833333  \n9                      0.200000  \n...                         ...  \n3008655                0.444444  \n3008656                0.555556  \n3008657                0.666667  \n3008658                0.777778  \n3008659                0.888889  \n\n[2104923 rows x 8 columns]})),\n                                       ('estimator',\n                                        DecisionTreeClassifier())]),\n             n_jobs=-1,\n             param_grid={'estimator__criterion': ['entropy'],\n                         'estimator__max_depth': [9, 10],\n                         'estimator__min_samples_leaf': [256]},\n             scoring='accuracy', verbose=1)",
      "text/html": "<style>#sk-container-id-1 {\n  /* Definition of color scheme common for light and dark mode */\n  --sklearn-color-text: black;\n  --sklearn-color-line: gray;\n  /* Definition of color scheme for unfitted estimators */\n  --sklearn-color-unfitted-level-0: #fff5e6;\n  --sklearn-color-unfitted-level-1: #f6e4d2;\n  --sklearn-color-unfitted-level-2: #ffe0b3;\n  --sklearn-color-unfitted-level-3: chocolate;\n  /* Definition of color scheme for fitted estimators */\n  --sklearn-color-fitted-level-0: #f0f8ff;\n  --sklearn-color-fitted-level-1: #d4ebff;\n  --sklearn-color-fitted-level-2: #b3dbfd;\n  --sklearn-color-fitted-level-3: cornflowerblue;\n\n  /* Specific color for light theme */\n  --sklearn-color-text-on-default-background: var(--sg-text-color, var(--theme-code-foreground, var(--jp-content-font-color1, black)));\n  --sklearn-color-background: var(--sg-background-color, var(--theme-background, var(--jp-layout-color0, white)));\n  --sklearn-color-border-box: var(--sg-text-color, var(--theme-code-foreground, var(--jp-content-font-color1, black)));\n  --sklearn-color-icon: #696969;\n\n  @media (prefers-color-scheme: dark) {\n    /* Redefinition of color scheme for dark theme */\n    --sklearn-color-text-on-default-background: var(--sg-text-color, var(--theme-code-foreground, var(--jp-content-font-color1, white)));\n    --sklearn-color-background: var(--sg-background-color, var(--theme-background, var(--jp-layout-color0, #111)));\n    --sklearn-color-border-box: var(--sg-text-color, var(--theme-code-foreground, var(--jp-content-font-color1, white)));\n    --sklearn-color-icon: #878787;\n  }\n}\n\n#sk-container-id-1 {\n  color: var(--sklearn-color-text);\n}\n\n#sk-container-id-1 pre {\n  padding: 0;\n}\n\n#sk-container-id-1 input.sk-hidden--visually {\n  border: 0;\n  clip: rect(1px 1px 1px 1px);\n  clip: rect(1px, 1px, 1px, 1px);\n  height: 1px;\n  margin: -1px;\n  overflow: hidden;\n  padding: 0;\n  position: absolute;\n  width: 1px;\n}\n\n#sk-container-id-1 div.sk-dashed-wrapped {\n  border: 1px dashed var(--sklearn-color-line);\n  margin: 0 0.4em 0.5em 0.4em;\n  box-sizing: border-box;\n  padding-bottom: 0.4em;\n  background-color: var(--sklearn-color-background);\n}\n\n#sk-container-id-1 div.sk-container {\n  /* jupyter's `normalize.less` sets `[hidden] { display: none; }`\n     but bootstrap.min.css set `[hidden] { display: none !important; }`\n     so we also need the `!important` here to be able to override the\n     default hidden behavior on the sphinx rendered scikit-learn.org.\n     See: https://github.com/scikit-learn/scikit-learn/issues/21755 */\n  display: inline-block !important;\n  position: relative;\n}\n\n#sk-container-id-1 div.sk-text-repr-fallback {\n  display: none;\n}\n\ndiv.sk-parallel-item,\ndiv.sk-serial,\ndiv.sk-item {\n  /* draw centered vertical line to link estimators */\n  background-image: linear-gradient(var(--sklearn-color-text-on-default-background), var(--sklearn-color-text-on-default-background));\n  background-size: 2px 100%;\n  background-repeat: no-repeat;\n  background-position: center center;\n}\n\n/* Parallel-specific style estimator block */\n\n#sk-container-id-1 div.sk-parallel-item::after {\n  content: \"\";\n  width: 100%;\n  border-bottom: 2px solid var(--sklearn-color-text-on-default-background);\n  flex-grow: 1;\n}\n\n#sk-container-id-1 div.sk-parallel {\n  display: flex;\n  align-items: stretch;\n  justify-content: center;\n  background-color: var(--sklearn-color-background);\n  position: relative;\n}\n\n#sk-container-id-1 div.sk-parallel-item {\n  display: flex;\n  flex-direction: column;\n}\n\n#sk-container-id-1 div.sk-parallel-item:first-child::after {\n  align-self: flex-end;\n  width: 50%;\n}\n\n#sk-container-id-1 div.sk-parallel-item:last-child::after {\n  align-self: flex-start;\n  width: 50%;\n}\n\n#sk-container-id-1 div.sk-parallel-item:only-child::after {\n  width: 0;\n}\n\n/* Serial-specific style estimator block */\n\n#sk-container-id-1 div.sk-serial {\n  display: flex;\n  flex-direction: column;\n  align-items: center;\n  background-color: var(--sklearn-color-background);\n  padding-right: 1em;\n  padding-left: 1em;\n}\n\n\n/* Toggleable style: style used for estimator/Pipeline/ColumnTransformer box that is\nclickable and can be expanded/collapsed.\n- Pipeline and ColumnTransformer use this feature and define the default style\n- Estimators will overwrite some part of the style using the `sk-estimator` class\n*/\n\n/* Pipeline and ColumnTransformer style (default) */\n\n#sk-container-id-1 div.sk-toggleable {\n  /* Default theme specific background. It is overwritten whether we have a\n  specific estimator or a Pipeline/ColumnTransformer */\n  background-color: var(--sklearn-color-background);\n}\n\n/* Toggleable label */\n#sk-container-id-1 label.sk-toggleable__label {\n  cursor: pointer;\n  display: block;\n  width: 100%;\n  margin-bottom: 0;\n  padding: 0.5em;\n  box-sizing: border-box;\n  text-align: center;\n}\n\n#sk-container-id-1 label.sk-toggleable__label-arrow:before {\n  /* Arrow on the left of the label */\n  content: \"▸\";\n  float: left;\n  margin-right: 0.25em;\n  color: var(--sklearn-color-icon);\n}\n\n#sk-container-id-1 label.sk-toggleable__label-arrow:hover:before {\n  color: var(--sklearn-color-text);\n}\n\n/* Toggleable content - dropdown */\n\n#sk-container-id-1 div.sk-toggleable__content {\n  max-height: 0;\n  max-width: 0;\n  overflow: hidden;\n  text-align: left;\n  /* unfitted */\n  background-color: var(--sklearn-color-unfitted-level-0);\n}\n\n#sk-container-id-1 div.sk-toggleable__content.fitted {\n  /* fitted */\n  background-color: var(--sklearn-color-fitted-level-0);\n}\n\n#sk-container-id-1 div.sk-toggleable__content pre {\n  margin: 0.2em;\n  border-radius: 0.25em;\n  color: var(--sklearn-color-text);\n  /* unfitted */\n  background-color: var(--sklearn-color-unfitted-level-0);\n}\n\n#sk-container-id-1 div.sk-toggleable__content.fitted pre {\n  /* unfitted */\n  background-color: var(--sklearn-color-fitted-level-0);\n}\n\n#sk-container-id-1 input.sk-toggleable__control:checked~div.sk-toggleable__content {\n  /* Expand drop-down */\n  max-height: 200px;\n  max-width: 100%;\n  overflow: auto;\n}\n\n#sk-container-id-1 input.sk-toggleable__control:checked~label.sk-toggleable__label-arrow:before {\n  content: \"▾\";\n}\n\n/* Pipeline/ColumnTransformer-specific style */\n\n#sk-container-id-1 div.sk-label input.sk-toggleable__control:checked~label.sk-toggleable__label {\n  color: var(--sklearn-color-text);\n  background-color: var(--sklearn-color-unfitted-level-2);\n}\n\n#sk-container-id-1 div.sk-label.fitted input.sk-toggleable__control:checked~label.sk-toggleable__label {\n  background-color: var(--sklearn-color-fitted-level-2);\n}\n\n/* Estimator-specific style */\n\n/* Colorize estimator box */\n#sk-container-id-1 div.sk-estimator input.sk-toggleable__control:checked~label.sk-toggleable__label {\n  /* unfitted */\n  background-color: var(--sklearn-color-unfitted-level-2);\n}\n\n#sk-container-id-1 div.sk-estimator.fitted input.sk-toggleable__control:checked~label.sk-toggleable__label {\n  /* fitted */\n  background-color: var(--sklearn-color-fitted-level-2);\n}\n\n#sk-container-id-1 div.sk-label label.sk-toggleable__label,\n#sk-container-id-1 div.sk-label label {\n  /* The background is the default theme color */\n  color: var(--sklearn-color-text-on-default-background);\n}\n\n/* On hover, darken the color of the background */\n#sk-container-id-1 div.sk-label:hover label.sk-toggleable__label {\n  color: var(--sklearn-color-text);\n  background-color: var(--sklearn-color-unfitted-level-2);\n}\n\n/* Label box, darken color on hover, fitted */\n#sk-container-id-1 div.sk-label.fitted:hover label.sk-toggleable__label.fitted {\n  color: var(--sklearn-color-text);\n  background-color: var(--sklearn-color-fitted-level-2);\n}\n\n/* Estimator label */\n\n#sk-container-id-1 div.sk-label label {\n  font-family: monospace;\n  font-weight: bold;\n  display: inline-block;\n  line-height: 1.2em;\n}\n\n#sk-container-id-1 div.sk-label-container {\n  text-align: center;\n}\n\n/* Estimator-specific */\n#sk-container-id-1 div.sk-estimator {\n  font-family: monospace;\n  border: 1px dotted var(--sklearn-color-border-box);\n  border-radius: 0.25em;\n  box-sizing: border-box;\n  margin-bottom: 0.5em;\n  /* unfitted */\n  background-color: var(--sklearn-color-unfitted-level-0);\n}\n\n#sk-container-id-1 div.sk-estimator.fitted {\n  /* fitted */\n  background-color: var(--sklearn-color-fitted-level-0);\n}\n\n/* on hover */\n#sk-container-id-1 div.sk-estimator:hover {\n  /* unfitted */\n  background-color: var(--sklearn-color-unfitted-level-2);\n}\n\n#sk-container-id-1 div.sk-estimator.fitted:hover {\n  /* fitted */\n  background-color: var(--sklearn-color-fitted-level-2);\n}\n\n/* Specification for estimator info (e.g. \"i\" and \"?\") */\n\n/* Common style for \"i\" and \"?\" */\n\n.sk-estimator-doc-link,\na:link.sk-estimator-doc-link,\na:visited.sk-estimator-doc-link {\n  float: right;\n  font-size: smaller;\n  line-height: 1em;\n  font-family: monospace;\n  background-color: var(--sklearn-color-background);\n  border-radius: 1em;\n  height: 1em;\n  width: 1em;\n  text-decoration: none !important;\n  margin-left: 1ex;\n  /* unfitted */\n  border: var(--sklearn-color-unfitted-level-1) 1pt solid;\n  color: var(--sklearn-color-unfitted-level-1);\n}\n\n.sk-estimator-doc-link.fitted,\na:link.sk-estimator-doc-link.fitted,\na:visited.sk-estimator-doc-link.fitted {\n  /* fitted */\n  border: var(--sklearn-color-fitted-level-1) 1pt solid;\n  color: var(--sklearn-color-fitted-level-1);\n}\n\n/* On hover */\ndiv.sk-estimator:hover .sk-estimator-doc-link:hover,\n.sk-estimator-doc-link:hover,\ndiv.sk-label-container:hover .sk-estimator-doc-link:hover,\n.sk-estimator-doc-link:hover {\n  /* unfitted */\n  background-color: var(--sklearn-color-unfitted-level-3);\n  color: var(--sklearn-color-background);\n  text-decoration: none;\n}\n\ndiv.sk-estimator.fitted:hover .sk-estimator-doc-link.fitted:hover,\n.sk-estimator-doc-link.fitted:hover,\ndiv.sk-label-container:hover .sk-estimator-doc-link.fitted:hover,\n.sk-estimator-doc-link.fitted:hover {\n  /* fitted */\n  background-color: var(--sklearn-color-fitted-level-3);\n  color: var(--sklearn-color-background);\n  text-decoration: none;\n}\n\n/* Span, style for the box shown on hovering the info icon */\n.sk-estimator-doc-link span {\n  display: none;\n  z-index: 9999;\n  position: relative;\n  font-weight: normal;\n  right: .2ex;\n  padding: .5ex;\n  margin: .5ex;\n  width: min-content;\n  min-width: 20ex;\n  max-width: 50ex;\n  color: var(--sklearn-color-text);\n  box-shadow: 2pt 2pt 4pt #999;\n  /* unfitted */\n  background: var(--sklearn-color-unfitted-level-0);\n  border: .5pt solid var(--sklearn-color-unfitted-level-3);\n}\n\n.sk-estimator-doc-link.fitted span {\n  /* fitted */\n  background: var(--sklearn-color-fitted-level-0);\n  border: var(--sklearn-color-fitted-level-3);\n}\n\n.sk-estimator-doc-link:hover span {\n  display: block;\n}\n\n/* \"?\"-specific style due to the `<a>` HTML tag */\n\n#sk-container-id-1 a.estimator_doc_link {\n  float: right;\n  font-size: 1rem;\n  line-height: 1em;\n  font-family: monospace;\n  background-color: var(--sklearn-color-background);\n  border-radius: 1rem;\n  height: 1rem;\n  width: 1rem;\n  text-decoration: none;\n  /* unfitted */\n  color: var(--sklearn-color-unfitted-level-1);\n  border: var(--sklearn-color-unfitted-level-1) 1pt solid;\n}\n\n#sk-container-id-1 a.estimator_doc_link.fitted {\n  /* fitted */\n  border: var(--sklearn-color-fitted-level-1) 1pt solid;\n  color: var(--sklearn-color-fitted-level-1);\n}\n\n/* On hover */\n#sk-container-id-1 a.estimator_doc_link:hover {\n  /* unfitted */\n  background-color: var(--sklearn-color-unfitted-level-3);\n  color: var(--sklearn-color-background);\n  text-decoration: none;\n}\n\n#sk-container-id-1 a.estimator_doc_link.fitted:hover {\n  /* fitted */\n  background-color: var(--sklearn-color-fitted-level-3);\n}\n</style><div id=\"sk-container-id-1\" class=\"sk-top-container\"><div class=\"sk-text-repr-fallback\"><pre>GridSearchCV(cv=LastOrderUserTSCVSplitter(data_manager=&lt;data_management.data_manager.DataManager object at 0x000001CD467E2E50&gt;,\n                                          n_splits=5),\n             estimator=Pipeline(memory=Memory(location=C:\\Users\\I538883\\AppData\\Local\\Temp\\tmpdcbapkah\\joblib),\n                                steps=[(&#x27;selector&#x27;,\n                                        DatasetSelector(prepared_splits_dict={-8070716829487604255:          order_number  order_dow  order_hour_of_day...\n         dynamic_feature_test_2  \n0                      0.333333  \n1                      0.500000  \n2                      0.666667  \n3                      0.833333  \n9                      0.200000  \n...                         ...  \n3008655                0.444444  \n3008656                0.555556  \n3008657                0.666667  \n3008658                0.777778  \n3008659                0.888889  \n\n[2104923 rows x 8 columns]})),\n                                       (&#x27;estimator&#x27;,\n                                        DecisionTreeClassifier())]),\n             n_jobs=-1,\n             param_grid={&#x27;estimator__criterion&#x27;: [&#x27;entropy&#x27;],\n                         &#x27;estimator__max_depth&#x27;: [9, 10],\n                         &#x27;estimator__min_samples_leaf&#x27;: [256]},\n             scoring=&#x27;accuracy&#x27;, verbose=1)</pre><b>In a Jupyter environment, please rerun this cell to show the HTML representation or trust the notebook. <br />On GitHub, the HTML representation is unable to render, please try loading this page with nbviewer.org.</b></div><div class=\"sk-container\" hidden><div class=\"sk-item sk-dashed-wrapped\"><div class=\"sk-label-container\"><div class=\"sk-label fitted sk-toggleable\"><input class=\"sk-toggleable__control sk-hidden--visually\" id=\"sk-estimator-id-1\" type=\"checkbox\" ><label for=\"sk-estimator-id-1\" class=\"sk-toggleable__label fitted sk-toggleable__label-arrow fitted\">&nbsp;&nbsp;GridSearchCV<a class=\"sk-estimator-doc-link fitted\" rel=\"noreferrer\" target=\"_blank\" href=\"https://scikit-learn.org/1.4/modules/generated/sklearn.model_selection.GridSearchCV.html\">?<span>Documentation for GridSearchCV</span></a><span class=\"sk-estimator-doc-link fitted\">i<span>Fitted</span></span></label><div class=\"sk-toggleable__content fitted\"><pre>GridSearchCV(cv=LastOrderUserTSCVSplitter(data_manager=&lt;data_management.data_manager.DataManager object at 0x000001CD467E2E50&gt;,\n                                          n_splits=5),\n             estimator=Pipeline(memory=Memory(location=C:\\Users\\I538883\\AppData\\Local\\Temp\\tmpdcbapkah\\joblib),\n                                steps=[(&#x27;selector&#x27;,\n                                        DatasetSelector(prepared_splits_dict={-8070716829487604255:          order_number  order_dow  order_hour_of_day...\n         dynamic_feature_test_2  \n0                      0.333333  \n1                      0.500000  \n2                      0.666667  \n3                      0.833333  \n9                      0.200000  \n...                         ...  \n3008655                0.444444  \n3008656                0.555556  \n3008657                0.666667  \n3008658                0.777778  \n3008659                0.888889  \n\n[2104923 rows x 8 columns]})),\n                                       (&#x27;estimator&#x27;,\n                                        DecisionTreeClassifier())]),\n             n_jobs=-1,\n             param_grid={&#x27;estimator__criterion&#x27;: [&#x27;entropy&#x27;],\n                         &#x27;estimator__max_depth&#x27;: [9, 10],\n                         &#x27;estimator__min_samples_leaf&#x27;: [256]},\n             scoring=&#x27;accuracy&#x27;, verbose=1)</pre></div> </div></div><div class=\"sk-parallel\"><div class=\"sk-parallel-item\"><div class=\"sk-item\"><div class=\"sk-label-container\"><div class=\"sk-label fitted sk-toggleable\"><input class=\"sk-toggleable__control sk-hidden--visually\" id=\"sk-estimator-id-2\" type=\"checkbox\" ><label for=\"sk-estimator-id-2\" class=\"sk-toggleable__label fitted sk-toggleable__label-arrow fitted\">estimator: Pipeline</label><div class=\"sk-toggleable__content fitted\"><pre>Pipeline(memory=Memory(location=C:\\Users\\I538883\\AppData\\Local\\Temp\\tmpdcbapkah\\joblib),\n         steps=[(&#x27;selector&#x27;,\n                 DatasetSelector(prepared_splits_dict={-8070716829487604255:          order_number  order_dow  order_hour_of_day  days_since_prior_order  \\\n0                   2          3                  7                    15.0   \n1                   3          3                 12                    21.0   \n2                   4          4                  7                    29.0   \n3                   5          4                 15                    28.0   \n4                   6          2                  7                    19.0   \n...               ...        ...                ...                     ...   \n3008656             5          4                 15                     3.0   \n3008657             6          0                 16                     3.0   \n3008658             7          2                 13                     9.0   \n3008659             8          3                 17                    22.0   \n3008660             9          4...\n9                 6     0.000000                0.200000   \n...             ...          ...                     ...   \n3008655          16     0.333333                0.444444   \n3008656           3     0.250000                0.555556   \n3008657           2     0.200000                0.666667   \n3008658          10     0.333333                0.777778   \n3008659          12     0.285714                0.888889   \n\n         dynamic_feature_test_2  \n0                      0.333333  \n1                      0.500000  \n2                      0.666667  \n3                      0.833333  \n9                      0.200000  \n...                         ...  \n3008655                0.444444  \n3008656                0.555556  \n3008657                0.666667  \n3008658                0.777778  \n3008659                0.888889  \n\n[2104923 rows x 8 columns]})),\n                (&#x27;estimator&#x27;, DecisionTreeClassifier())])</pre></div> </div></div><div class=\"sk-serial\"><div class=\"sk-item\"><div class=\"sk-serial\"><div class=\"sk-item\"><div class=\"sk-estimator fitted sk-toggleable\"><input class=\"sk-toggleable__control sk-hidden--visually\" id=\"sk-estimator-id-3\" type=\"checkbox\" ><label for=\"sk-estimator-id-3\" class=\"sk-toggleable__label fitted sk-toggleable__label-arrow fitted\">DatasetSelector</label><div class=\"sk-toggleable__content fitted\"><pre>DatasetSelector(prepared_splits_dict={-8070716829487604255:          order_number  order_dow  order_hour_of_day  days_since_prior_order  \\\n0                   2          3                  7                    15.0   \n1                   3          3                 12                    21.0   \n2                   4          4                  7                    29.0   \n3                   5          4                 15                    28.0   \n4                   6          2                  7                    19.0   \n...               ...        ...                ...                     ...   \n3008656             5          4                 15                     3.0   \n3008657             6          0                 16                     3.0   \n3008658             7          2                 13                     9.0   \n3008659             8          3                 17                    22.0   \n3008660             9          4                 15                    22.0   \n\n         order_size  tip_history  dynamic_feature_test_1  \\\n0                 6     0.000000                0.285714   \n1                 5     0.000000                0.428571   \n2                 5     0.000000                0.571429   \n3                 8     0...\n2                 5     0.000000                0.666667   \n3                 8     0.000000                0.833333   \n9                 6     0.000000                0.200000   \n...             ...          ...                     ...   \n3008655          16     0.333333                0.444444   \n3008656           3     0.250000                0.555556   \n3008657           2     0.200000                0.666667   \n3008658          10     0.333333                0.777778   \n3008659          12     0.285714                0.888889   \n\n         dynamic_feature_test_2  \n0                      0.333333  \n1                      0.500000  \n2                      0.666667  \n3                      0.833333  \n9                      0.200000  \n...                         ...  \n3008655                0.444444  \n3008656                0.555556  \n3008657                0.666667  \n3008658                0.777778  \n3008659                0.888889  \n\n[2104923 rows x 8 columns]})</pre></div> </div></div><div class=\"sk-item\"><div class=\"sk-estimator fitted sk-toggleable\"><input class=\"sk-toggleable__control sk-hidden--visually\" id=\"sk-estimator-id-4\" type=\"checkbox\" ><label for=\"sk-estimator-id-4\" class=\"sk-toggleable__label fitted sk-toggleable__label-arrow fitted\">&nbsp;DecisionTreeClassifier<a class=\"sk-estimator-doc-link fitted\" rel=\"noreferrer\" target=\"_blank\" href=\"https://scikit-learn.org/1.4/modules/generated/sklearn.tree.DecisionTreeClassifier.html\">?<span>Documentation for DecisionTreeClassifier</span></a></label><div class=\"sk-toggleable__content fitted\"><pre>DecisionTreeClassifier()</pre></div> </div></div></div></div></div></div></div></div></div></div></div>"
     },
     "execution_count": 49,
     "metadata": {},
     "output_type": "execute_result"
    }
   ],
   "source": [
    "grid_search_clf.fit(X, y)"
   ],
   "metadata": {
    "collapsed": false,
    "ExecuteTime": {
     "end_time": "2024-06-12T12:12:21.201947600Z",
     "start_time": "2024-06-12T12:11:16.139430700Z"
    }
   },
   "id": "5c01e546b9703668",
   "execution_count": 49
  },
  {
   "cell_type": "code",
   "outputs": [
    {
     "name": "stdout",
     "output_type": "stream",
     "text": [
      "Accuracy (Fold 1): 0.8006876518483674\n",
      "Accuracy (Fold 2): 0.7954841932214404\n",
      "Accuracy (Fold 3): 0.7883527326407753\n",
      "Accuracy (Fold 4): 0.7813235936126125\n",
      "Accuracy (Fold 5): 0.7771936532211814\n",
      "\n",
      "Mean Accuracy: 0.7886083649088753\n"
     ]
    }
   ],
   "source": [
    "cv_results = grid_search_clf.cv_results_\n",
    "result_list = [grid_search_clf.cv_results_[f'split{i}_test_score'][grid_search_clf.best_index_] for i in range(5)]\n",
    "\n",
    "for i, result in enumerate(result_list):\n",
    "    print(f'Accuracy (Fold {i + 1}): {result}')\n",
    "\n",
    "print(f'\\nMean Accuracy: {cv_results[\"mean_test_score\"][grid_search_clf.best_index_]}')"
   ],
   "metadata": {
    "collapsed": false,
    "ExecuteTime": {
     "end_time": "2024-06-12T12:12:21.209034200Z",
     "start_time": "2024-06-12T12:12:21.201442800Z"
    }
   },
   "id": "9c6c998cccfeb82b",
   "execution_count": 50
  },
  {
   "cell_type": "code",
   "outputs": [
    {
     "data": {
      "text/plain": "0.7886083649088753"
     },
     "execution_count": 51,
     "metadata": {},
     "output_type": "execute_result"
    }
   ],
   "source": [
    "grid_search_clf.best_score_"
   ],
   "metadata": {
    "collapsed": false,
    "ExecuteTime": {
     "end_time": "2024-06-12T12:12:21.213542400Z",
     "start_time": "2024-06-12T12:12:21.201947600Z"
    }
   },
   "id": "6e4dc773d726d820",
   "execution_count": 51
  },
  {
   "cell_type": "code",
   "outputs": [
    {
     "data": {
      "text/plain": "{'estimator__criterion': 'entropy',\n 'estimator__max_depth': 9,\n 'estimator__min_samples_leaf': 256}"
     },
     "execution_count": 52,
     "metadata": {},
     "output_type": "execute_result"
    }
   ],
   "source": [
    "grid_search_clf.best_params_"
   ],
   "metadata": {
    "collapsed": false,
    "ExecuteTime": {
     "end_time": "2024-06-12T12:12:21.224948900Z",
     "start_time": "2024-06-12T12:12:21.209034200Z"
    }
   },
   "id": "966cc4c04cdc677e",
   "execution_count": 52
  },
  {
   "cell_type": "code",
   "outputs": [],
   "source": [
    "best_estimator = grid_search_clf.best_estimator_"
   ],
   "metadata": {
    "collapsed": false,
    "ExecuteTime": {
     "end_time": "2024-06-12T12:12:21.236721400Z",
     "start_time": "2024-06-12T12:12:21.216275Z"
    }
   },
   "id": "864195b52e89024",
   "execution_count": 53
  },
  {
   "cell_type": "markdown",
   "source": [
    "### Validation"
   ],
   "metadata": {
    "collapsed": false
   },
   "id": "870ae9bef1efb198"
  },
  {
   "cell_type": "code",
   "outputs": [],
   "source": [
    "# features = ['order_number', 'order_dow', 'order_hour_of_day', 'days_since_prior_order', 'order_size', 'tip_history',\n",
    "#             'dynamic_feature_test_1', 'dynamic_feature_test_2']\n",
    "#\n",
    "# prepared_splits_dict = last_order_user_tscv_splitter.import_splits('data/prepared_data/', features)"
   ],
   "metadata": {
    "collapsed": false,
    "ExecuteTime": {
     "end_time": "2024-06-12T12:12:21.241740400Z",
     "start_time": "2024-06-12T12:12:21.216780400Z"
    }
   },
   "id": "ffbb8b8e189eee90",
   "execution_count": 54
  },
  {
   "cell_type": "code",
   "outputs": [],
   "source": [
    "# all_orders = data_manager.get_orders_tip(complete=True)\n",
    "# all_orders.shape"
   ],
   "metadata": {
    "collapsed": false,
    "ExecuteTime": {
     "end_time": "2024-06-12T12:12:21.319267500Z",
     "start_time": "2024-06-12T12:12:21.220569600Z"
    }
   },
   "id": "7fb459d1efacc251",
   "execution_count": 55
  },
  {
   "cell_type": "code",
   "outputs": [],
   "source": [
    "# data_manager.set_subset(all_orders['order_id'])"
   ],
   "metadata": {
    "collapsed": false,
    "ExecuteTime": {
     "end_time": "2024-06-12T12:12:21.319267500Z",
     "start_time": "2024-06-12T12:12:21.224948900Z"
    }
   },
   "id": "130761ebc5042704",
   "execution_count": 56
  },
  {
   "cell_type": "code",
   "outputs": [],
   "source": [
    "# validation_test = data_manager.get_orders_tip_test()\n",
    "# validation_test.shape"
   ],
   "metadata": {
    "collapsed": false,
    "ExecuteTime": {
     "end_time": "2024-06-12T12:12:21.319267500Z",
     "start_time": "2024-06-12T12:12:21.228213300Z"
    }
   },
   "id": "3d561493b5779a41",
   "execution_count": 57
  },
  {
   "cell_type": "code",
   "outputs": [],
   "source": [
    "# validation_train = data_manager.get_orders_tip_train()\n",
    "# validation_train.shape"
   ],
   "metadata": {
    "collapsed": false,
    "ExecuteTime": {
     "end_time": "2024-06-12T12:12:21.334898600Z",
     "start_time": "2024-06-12T12:12:21.232714800Z"
    }
   },
   "id": "252a1df042e43c48",
   "execution_count": 58
  },
  {
   "cell_type": "code",
   "outputs": [],
   "source": [
    "# validation_train_without_first = validation_train[validation_train['order_number'] > 1]\n",
    "# validation_train_without_first.shape"
   ],
   "metadata": {
    "collapsed": false,
    "ExecuteTime": {
     "end_time": "2024-06-12T12:12:21.334898600Z",
     "start_time": "2024-06-12T12:12:21.236721400Z"
    }
   },
   "id": "e4d8351c5e87e370",
   "execution_count": 59
  },
  {
   "cell_type": "code",
   "outputs": [],
   "source": [
    "# prepared_splits_dict[-1147446606210854265].shape[0]"
   ],
   "metadata": {
    "collapsed": false,
    "ExecuteTime": {
     "end_time": "2024-06-12T12:12:21.350524300Z",
     "start_time": "2024-06-12T12:12:21.241740400Z"
    }
   },
   "id": "117e17f2afc048a8",
   "execution_count": 60
  },
  {
   "cell_type": "code",
   "outputs": [],
   "source": [
    "# all_orders_without_first = all_orders[all_orders['order_number'] > 1].reset_index(drop=True)\n",
    "# all_orders_without_first.shape"
   ],
   "metadata": {
    "collapsed": false,
    "ExecuteTime": {
     "end_time": "2024-06-12T12:12:21.350524300Z",
     "start_time": "2024-06-12T12:12:21.245041100Z"
    }
   },
   "id": "9c60aad6c08f1f53",
   "execution_count": 61
  },
  {
   "cell_type": "code",
   "outputs": [],
   "source": [
    "# validation_train_without_first[features].reset_index(drop=True)"
   ],
   "metadata": {
    "collapsed": false,
    "ExecuteTime": {
     "end_time": "2024-06-12T12:12:21.366149800Z",
     "start_time": "2024-06-12T12:12:21.251046800Z"
    }
   },
   "id": "c94116b013109d31",
   "execution_count": 62
  },
  {
   "cell_type": "code",
   "outputs": [],
   "source": [
    "# prepared_splits_dict[-1147446606210854265]"
   ],
   "metadata": {
    "collapsed": false,
    "ExecuteTime": {
     "end_time": "2024-06-12T12:12:21.366149800Z",
     "start_time": "2024-06-12T12:12:21.252995100Z"
    }
   },
   "id": "3ec81df56dbba40c",
   "execution_count": 63
  },
  {
   "cell_type": "code",
   "outputs": [],
   "source": [
    "# round(prepared_splits_dict[-1147446606210854265], 6).equals(round(validation_train_without_first[\n",
    "#                                                                       features].reset_index(drop=True), 6))"
   ],
   "metadata": {
    "collapsed": false,
    "ExecuteTime": {
     "end_time": "2024-06-12T12:12:21.366149800Z",
     "start_time": "2024-06-12T12:12:21.257528300Z"
    }
   },
   "id": "df36142b84d1c78f",
   "execution_count": 64
  },
  {
   "cell_type": "code",
   "outputs": [],
   "source": [
    "# validation_test[features]"
   ],
   "metadata": {
    "collapsed": false,
    "ExecuteTime": {
     "end_time": "2024-06-12T12:12:21.366149800Z",
     "start_time": "2024-06-12T12:12:21.261785Z"
    }
   },
   "id": "4a1a17ef95d391b5",
   "execution_count": 65
  },
  {
   "cell_type": "code",
   "outputs": [],
   "source": [
    "# prepared_splits_dict[4027820417624348460]"
   ],
   "metadata": {
    "collapsed": false,
    "ExecuteTime": {
     "end_time": "2024-06-12T12:12:21.366149800Z",
     "start_time": "2024-06-12T12:12:21.265969500Z"
    }
   },
   "id": "8a558900588b3a25",
   "execution_count": 66
  },
  {
   "cell_type": "code",
   "outputs": [],
   "source": [
    "# round(prepared_splits_dict[4027820417624348460].reset_index(drop=True), 6).equals(round(\n",
    "#     validation_test[features].reset_index(drop=True), 6))"
   ],
   "metadata": {
    "collapsed": false,
    "ExecuteTime": {
     "end_time": "2024-06-12T12:12:21.429059800Z",
     "start_time": "2024-06-12T12:12:21.272017200Z"
    }
   },
   "id": "3d0b42618d4c720d",
   "execution_count": 67
  },
  {
   "cell_type": "markdown",
   "source": [
    "### Prediction\n",
    "\n",
    "IMPORTANT:\n",
    "- Before predicting, the indices must probably be reseted, for X and y\n",
    "- To save the results, we must join the predictions with the template based on the ORDER_ID, beause the indices don't align\n"
   ],
   "metadata": {
    "collapsed": false
   },
   "id": "53d2fcdbca15153"
  },
  {
   "cell_type": "code",
   "outputs": [],
   "source": [
    "# orders_tip_test = data_manager.get_orders_tip_test()\n",
    "# orders_tip_test['tip'] = best_estimator.predict(orders_tip_test[features])"
   ],
   "metadata": {
    "collapsed": false,
    "ExecuteTime": {
     "end_time": "2024-06-12T12:12:21.429059800Z",
     "start_time": "2024-06-12T12:12:21.274382200Z"
    }
   },
   "id": "7b82eab73b08cd2f",
   "execution_count": 68
  },
  {
   "cell_type": "code",
   "outputs": [],
   "source": [
    "# orders_tip_test_csv = orders_tip_test[tip_test.columns].copy()\n",
    "# orders_tip_test_csv.rename(columns={tip_test.columns[0]: ''}, inplace=True)\n",
    "# orders_tip_test_csv"
   ],
   "metadata": {
    "collapsed": false,
    "ExecuteTime": {
     "end_time": "2024-06-12T12:12:21.429059800Z",
     "start_time": "2024-06-12T12:12:21.278476500Z"
    }
   },
   "id": "45c41fb0baa49b56",
   "execution_count": 69
  },
  {
   "cell_type": "code",
   "outputs": [],
   "source": [
    "# orders_tip_test_csv.to_csv(os.path.join(DATA_DIR, 'tip_testdaten1.csv'), index=False)"
   ],
   "metadata": {
    "collapsed": false,
    "ExecuteTime": {
     "end_time": "2024-06-12T12:12:21.444677100Z",
     "start_time": "2024-06-12T12:12:21.282764500Z"
    }
   },
   "id": "db65af74bde4df1d",
   "execution_count": 70
  }
 ],
 "metadata": {
  "kernelspec": {
   "display_name": "Python 3 (ipykernel)",
   "language": "python",
   "name": "python3"
  },
  "language_info": {
   "codemirror_mode": {
    "name": "ipython",
    "version": 3
   },
   "file_extension": ".py",
   "mimetype": "text/x-python",
   "name": "python",
   "nbconvert_exporter": "python",
   "pygments_lexer": "ipython3",
   "version": "3.11.8"
  }
 },
 "nbformat": 4,
 "nbformat_minor": 5
}
