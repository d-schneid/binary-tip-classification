{
 "cells": [
  {
   "cell_type": "markdown",
   "id": "7aea19f30bc2952",
   "metadata": {
    "collapsed": false
   },
   "source": [
    "# Data Science Project SoSe 2024\n",
    "## Team 07\n",
    "- Maximilian Hoffmann\n",
    "- Kilian Kempf\n",
    "- Daniel Schneider\n",
    "- Tom Schuck\n",
    "\n",
    "## Project Submission"
   ]
  },
  {
   "cell_type": "markdown",
   "id": "ca8cc580026f3fef",
   "metadata": {
    "collapsed": false
   },
   "source": [
    "### Libraries"
   ]
  },
  {
   "cell_type": "code",
   "outputs": [],
   "source": [
    "import os\n",
    "\n",
    "import pandas as pd\n",
    "\n",
    "from feature_engineering import DataManager\n",
    "from feature_engineering.features import TipHistory, ReorderedRatio, DynamicFeatureTest1, DynamicFeatureTest2, \\\n",
    "    OrderSize, ModeDepartment, PrevTippedProductsRatio, CustomerLifetime, PrevOrderTipped"
   ],
   "metadata": {
    "collapsed": false,
    "ExecuteTime": {
     "end_time": "2024-05-27T16:00:16.623788200Z",
     "start_time": "2024-05-27T16:00:16.173809400Z"
    }
   },
   "id": "c51b42d19954d682",
   "execution_count": 1
  },
  {
   "cell_type": "markdown",
   "source": [
    "### Data Preparation"
   ],
   "metadata": {
    "collapsed": false
   },
   "id": "b1817857eb895437"
  },
  {
   "cell_type": "code",
   "outputs": [],
   "source": [
    "DATA_DIR = os.path.join(os.getcwd(), 'data/Instacart')\n",
    "\n",
    "op_prior = pd.read_csv(os.path.join(DATA_DIR, 'order_products__prior.csv.zip'))\n",
    "op_train = pd.read_csv(os.path.join(DATA_DIR, 'order_products__train.csv.zip'))\n",
    "\n",
    "tip_train = pd.read_csv(os.path.join(DATA_DIR, 'tip_trainingsdaten1_.csv'))[['order_id', 'tip']]\n",
    "tip_test = pd.read_csv(os.path.join(DATA_DIR, 'tip_testdaten1_template.csv'))\n",
    "\n",
    "orders = pd.read_csv(os.path.join(DATA_DIR, 'orders.csv.zip'))\n",
    "aisles = pd.read_csv(os.path.join(DATA_DIR, 'aisles.csv.zip'))\n",
    "departments = pd.read_csv(os.path.join(DATA_DIR, 'departments.csv.zip'))\n",
    "products = pd.read_csv(os.path.join(DATA_DIR, 'products.csv.zip'))\n",
    "\n",
    "data_manager = DataManager(op_prior, op_train, tip_train, tip_test, orders, products, aisles, departments)\n",
    "order_amount = len(data_manager.get_orders_tip())"
   ],
   "metadata": {
    "collapsed": false,
    "ExecuteTime": {
     "end_time": "2024-05-27T16:00:46.679620Z",
     "start_time": "2024-05-27T16:00:16.627121900Z"
    }
   },
   "id": "2ac69658072618d1",
   "execution_count": 2
  },
  {
   "cell_type": "markdown",
   "source": [
    "### Feature Engineering"
   ],
   "metadata": {
    "collapsed": false
   },
   "id": "1f339505e9c6cd1b"
  },
  {
   "cell_type": "code",
   "outputs": [],
   "source": [
    "features = ['order_number', 'order_dow', 'order_hour_of_day', 'days_since_prior_order', 'tip_history',\n",
    "            'reordered_ratio', 'order_size', 'mode_dept', 'prev_tipped_products_ratio']\n",
    "\n",
    "tip_history = TipHistory()\n",
    "reordered_rate = ReorderedRatio()\n",
    "order_size = OrderSize()\n",
    "mode_dept = ModeDepartment()\n",
    "prev_tipped_products_ratio = PrevTippedProductsRatio()\n",
    "customer_lifetime = CustomerLifetime()\n",
    "prev_order_tipped = PrevOrderTipped()\n",
    "\n",
    "# Static Features\n",
    "data_manager.register_feature(tip_history)\n",
    "data_manager.register_feature(reordered_rate)\n",
    "data_manager.register_feature(order_size)\n",
    "data_manager.register_feature(customer_lifetime)\n",
    "data_manager.register_feature(prev_order_tipped)"
   ],
   "metadata": {
    "collapsed": false,
    "ExecuteTime": {
     "end_time": "2024-05-27T16:00:46.692111100Z",
     "start_time": "2024-05-27T16:00:46.681808400Z"
    }
   },
   "id": "23f9411324d0c1a",
   "execution_count": 3
  },
  {
   "cell_type": "code",
   "outputs": [],
   "source": [
    "data_manager.compute_features()"
   ],
   "metadata": {
    "collapsed": false,
    "ExecuteTime": {
     "end_time": "2024-05-27T16:00:54.095430800Z",
     "start_time": "2024-05-27T16:00:46.688497500Z"
    }
   },
   "id": "6b815abe51807fce",
   "execution_count": 4
  },
  {
   "cell_type": "code",
   "outputs": [
    {
     "data": {
      "text/plain": "    order_id  user_id eval_set  order_number  order_dow  order_hour_of_day  \\\n0    2539329        1    prior             1          2                  8   \n1    2398795        1    prior             2          3                  7   \n2     473747        1    prior             3          3                 12   \n3    2254736        1    prior             4          4                  7   \n4     431534        1    prior             5          4                 15   \n..       ...      ...      ...           ...        ...                ...   \n95   1916106       12    prior             3          5                  8   \n96   1057378       12    prior             4          3                  9   \n97    221248       12    prior             5          1                  9   \n98   2618231       13    prior             1          6                 12   \n99   2560699       13    prior             2          0                 11   \n\n    days_since_prior_order  tip  reordered_ratio prev_order_tipped  \\\n0                      NaN  0.0         0.000000                -1   \n1                     15.0  0.0         0.500000               0.0   \n2                     21.0  0.0         0.600000               0.0   \n3                     29.0  0.0         1.000000               0.0   \n4                     28.0  0.0         0.625000               0.0   \n..                     ...  ...              ...               ...   \n95                    14.0  0.0         0.250000               0.0   \n96                    26.0  0.0         0.250000               0.0   \n97                    30.0  0.0         0.227273               0.0   \n98                     NaN  0.0         0.000000                -1   \n99                     8.0  1.0         0.500000               0.0   \n\n    order_size  customer_lifetime  tip_history  \n0            5                  0         -1.0  \n1            6                 15          0.0  \n2            5                 36          0.0  \n3            5                 65          0.0  \n4            8                 93          0.0  \n..         ...                ...          ...  \n95          12                 44          0.0  \n96          20                 70          0.0  \n97          22                100          0.0  \n98           5                  0         -1.0  \n99           4                  8          0.0  \n\n[100 rows x 13 columns]",
      "text/html": "<div>\n<style scoped>\n    .dataframe tbody tr th:only-of-type {\n        vertical-align: middle;\n    }\n\n    .dataframe tbody tr th {\n        vertical-align: top;\n    }\n\n    .dataframe thead th {\n        text-align: right;\n    }\n</style>\n<table border=\"1\" class=\"dataframe\">\n  <thead>\n    <tr style=\"text-align: right;\">\n      <th></th>\n      <th>order_id</th>\n      <th>user_id</th>\n      <th>eval_set</th>\n      <th>order_number</th>\n      <th>order_dow</th>\n      <th>order_hour_of_day</th>\n      <th>days_since_prior_order</th>\n      <th>tip</th>\n      <th>reordered_ratio</th>\n      <th>prev_order_tipped</th>\n      <th>order_size</th>\n      <th>customer_lifetime</th>\n      <th>tip_history</th>\n    </tr>\n  </thead>\n  <tbody>\n    <tr>\n      <th>0</th>\n      <td>2539329</td>\n      <td>1</td>\n      <td>prior</td>\n      <td>1</td>\n      <td>2</td>\n      <td>8</td>\n      <td>NaN</td>\n      <td>0.0</td>\n      <td>0.000000</td>\n      <td>-1</td>\n      <td>5</td>\n      <td>0</td>\n      <td>-1.0</td>\n    </tr>\n    <tr>\n      <th>1</th>\n      <td>2398795</td>\n      <td>1</td>\n      <td>prior</td>\n      <td>2</td>\n      <td>3</td>\n      <td>7</td>\n      <td>15.0</td>\n      <td>0.0</td>\n      <td>0.500000</td>\n      <td>0.0</td>\n      <td>6</td>\n      <td>15</td>\n      <td>0.0</td>\n    </tr>\n    <tr>\n      <th>2</th>\n      <td>473747</td>\n      <td>1</td>\n      <td>prior</td>\n      <td>3</td>\n      <td>3</td>\n      <td>12</td>\n      <td>21.0</td>\n      <td>0.0</td>\n      <td>0.600000</td>\n      <td>0.0</td>\n      <td>5</td>\n      <td>36</td>\n      <td>0.0</td>\n    </tr>\n    <tr>\n      <th>3</th>\n      <td>2254736</td>\n      <td>1</td>\n      <td>prior</td>\n      <td>4</td>\n      <td>4</td>\n      <td>7</td>\n      <td>29.0</td>\n      <td>0.0</td>\n      <td>1.000000</td>\n      <td>0.0</td>\n      <td>5</td>\n      <td>65</td>\n      <td>0.0</td>\n    </tr>\n    <tr>\n      <th>4</th>\n      <td>431534</td>\n      <td>1</td>\n      <td>prior</td>\n      <td>5</td>\n      <td>4</td>\n      <td>15</td>\n      <td>28.0</td>\n      <td>0.0</td>\n      <td>0.625000</td>\n      <td>0.0</td>\n      <td>8</td>\n      <td>93</td>\n      <td>0.0</td>\n    </tr>\n    <tr>\n      <th>...</th>\n      <td>...</td>\n      <td>...</td>\n      <td>...</td>\n      <td>...</td>\n      <td>...</td>\n      <td>...</td>\n      <td>...</td>\n      <td>...</td>\n      <td>...</td>\n      <td>...</td>\n      <td>...</td>\n      <td>...</td>\n      <td>...</td>\n    </tr>\n    <tr>\n      <th>95</th>\n      <td>1916106</td>\n      <td>12</td>\n      <td>prior</td>\n      <td>3</td>\n      <td>5</td>\n      <td>8</td>\n      <td>14.0</td>\n      <td>0.0</td>\n      <td>0.250000</td>\n      <td>0.0</td>\n      <td>12</td>\n      <td>44</td>\n      <td>0.0</td>\n    </tr>\n    <tr>\n      <th>96</th>\n      <td>1057378</td>\n      <td>12</td>\n      <td>prior</td>\n      <td>4</td>\n      <td>3</td>\n      <td>9</td>\n      <td>26.0</td>\n      <td>0.0</td>\n      <td>0.250000</td>\n      <td>0.0</td>\n      <td>20</td>\n      <td>70</td>\n      <td>0.0</td>\n    </tr>\n    <tr>\n      <th>97</th>\n      <td>221248</td>\n      <td>12</td>\n      <td>prior</td>\n      <td>5</td>\n      <td>1</td>\n      <td>9</td>\n      <td>30.0</td>\n      <td>0.0</td>\n      <td>0.227273</td>\n      <td>0.0</td>\n      <td>22</td>\n      <td>100</td>\n      <td>0.0</td>\n    </tr>\n    <tr>\n      <th>98</th>\n      <td>2618231</td>\n      <td>13</td>\n      <td>prior</td>\n      <td>1</td>\n      <td>6</td>\n      <td>12</td>\n      <td>NaN</td>\n      <td>0.0</td>\n      <td>0.000000</td>\n      <td>-1</td>\n      <td>5</td>\n      <td>0</td>\n      <td>-1.0</td>\n    </tr>\n    <tr>\n      <th>99</th>\n      <td>2560699</td>\n      <td>13</td>\n      <td>prior</td>\n      <td>2</td>\n      <td>0</td>\n      <td>11</td>\n      <td>8.0</td>\n      <td>1.0</td>\n      <td>0.500000</td>\n      <td>0.0</td>\n      <td>4</td>\n      <td>8</td>\n      <td>0.0</td>\n    </tr>\n  </tbody>\n</table>\n<p>100 rows × 13 columns</p>\n</div>"
     },
     "execution_count": 5,
     "metadata": {},
     "output_type": "execute_result"
    }
   ],
   "source": [
    "data_manager.get_orders_tip().head(100)"
   ],
   "metadata": {
    "collapsed": false,
    "ExecuteTime": {
     "end_time": "2024-05-27T16:00:54.119932900Z",
     "start_time": "2024-05-27T16:00:54.097519300Z"
    }
   },
   "id": "d3ea4e9eac0b043c",
   "execution_count": 5
  },
  {
   "cell_type": "code",
   "outputs": [
    {
     "name": "stdout",
     "output_type": "stream",
     "text": [
      "Number of orders: 3346083\n",
      "Number of orders did not change: True\n",
      "Number of NaN or null values in each column:\n",
      "order_id                       0\n",
      "user_id                        0\n",
      "eval_set                       0\n",
      "order_number                   0\n",
      "order_dow                      0\n",
      "order_hour_of_day              0\n",
      "days_since_prior_order    206209\n",
      "tip                       131209\n",
      "reordered_ratio                0\n",
      "prev_order_tipped              0\n",
      "order_size                     0\n",
      "customer_lifetime              0\n",
      "tip_history                    0\n",
      "dtype: int64\n"
     ]
    }
   ],
   "source": [
    "print(f\"Number of orders: {len(data_manager.get_orders_tip())}\")\n",
    "print(f\"Number of orders did not change: {order_amount == len(data_manager.get_orders_tip())}\\n\")\n",
    "print(f\"Number of NaN or null values in each column:\\n{data_manager.get_orders_tip().isnull().sum()}\")"
   ],
   "metadata": {
    "collapsed": false,
    "ExecuteTime": {
     "end_time": "2024-05-27T16:00:54.377611300Z",
     "start_time": "2024-05-27T16:00:54.116641800Z"
    }
   },
   "id": "70be2ca230e12d01",
   "execution_count": 6
  },
  {
   "cell_type": "code",
   "outputs": [],
   "source": [
    "order_ids = data_manager.get_orders_tip(full=True).groupby('user_id')['order_id'].head(5)\n",
    "order_amount = len(order_ids)\n",
    "\n",
    "# Dynamic Features\n",
    "dynamic_feature_test_1 = DynamicFeatureTest1()\n",
    "dynamic_feature_test_2 = DynamicFeatureTest2()\n",
    "\n",
    "data_manager.register_feature(dynamic_feature_test_1)\n",
    "data_manager.register_feature(dynamic_feature_test_2)"
   ],
   "metadata": {
    "collapsed": false,
    "ExecuteTime": {
     "end_time": "2024-05-27T16:00:54.531261100Z",
     "start_time": "2024-05-27T16:00:54.356028700Z"
    }
   },
   "id": "ed21e9e41111b301",
   "execution_count": 7
  },
  {
   "cell_type": "code",
   "outputs": [],
   "source": [
    "data_manager.set_subset(order_ids)"
   ],
   "metadata": {
    "collapsed": false,
    "ExecuteTime": {
     "end_time": "2024-05-27T16:00:57.475590100Z",
     "start_time": "2024-05-27T16:00:54.533514700Z"
    }
   },
   "id": "a9c4a8244b861028",
   "execution_count": 8
  },
  {
   "cell_type": "code",
   "execution_count": 9,
   "id": "82124a97baebc52",
   "metadata": {
    "collapsed": false,
    "ExecuteTime": {
     "end_time": "2024-05-27T16:00:57.490403700Z",
     "start_time": "2024-05-27T16:00:57.477656400Z"
    }
   },
   "outputs": [
    {
     "data": {
      "text/plain": "    order_id  user_id eval_set  order_number  order_dow  order_hour_of_day  \\\n0    2539329        1    prior             1          2                  8   \n1    2398795        1    prior             2          3                  7   \n2     473747        1    prior             3          3                 12   \n3    2254736        1    prior             4          4                  7   \n4     431534        1    prior             5          4                 15   \n5    2168274        2    prior             1          2                 11   \n6    1501582        2    prior             2          5                 10   \n7    1901567        2    prior             3          1                 10   \n8     738281        2    prior             4          2                 10   \n9    1673511        2    prior             5          3                 11   \n10   1374495        3    prior             1          1                 14   \n11    444309        3    prior             2          3                 19   \n12   3002854        3    prior             3          3                 16   \n13   2037211        3    prior             4          2                 18   \n14   2710558        3    prior             5          0                 17   \n15   3343014        4    prior             1          6                 11   \n16   2030307        4    prior             2          4                 11   \n17    691089        4    prior             3          4                 15   \n18     94891        4    prior             4          5                 13   \n19   2557754        4    prior             5          5                 13   \n20   2717275        5    prior             1          3                 12   \n21   1909121        5    prior             2          0                 16   \n22   2267326        5    prior             3          3                 18   \n23    157374        5    prior             4          1                 18   \n24   2196797        5    train             5          0                 11   \n\n    days_since_prior_order  tip  reordered_ratio prev_order_tipped  \\\n0                      NaN  0.0         0.000000                -1   \n1                     15.0  0.0         0.500000               0.0   \n2                     21.0  0.0         0.600000               0.0   \n3                     29.0  0.0         1.000000               0.0   \n4                     28.0  0.0         0.625000               0.0   \n5                      NaN  0.0         0.000000                -1   \n6                     10.0  0.0         0.166667               0.0   \n7                      3.0  1.0         0.600000               0.0   \n8                      8.0  0.0         0.076923               1.0   \n9                      8.0  1.0         0.076923               0.0   \n10                     NaN  1.0         0.000000                -1   \n11                     9.0  1.0         0.333333               1.0   \n12                    21.0  1.0         0.500000               1.0   \n13                    20.0  1.0         0.200000               1.0   \n14                    12.0  1.0         0.636364               1.0   \n15                     NaN  0.0         0.000000                -1   \n16                    19.0  0.0         0.000000               0.0   \n17                    21.0  0.0         0.142857               0.0   \n18                    15.0  0.0         0.000000               0.0   \n19                     0.0  0.0         0.000000               0.0   \n20                     NaN  0.0         0.000000                -1   \n21                    11.0  1.0         0.444444               0.0   \n22                    10.0  0.0         0.400000               1.0   \n23                    19.0  1.0         0.666667               0.0   \n24                     6.0  NaN         0.444444               1.0   \n\n    order_size  customer_lifetime  tip_history  dynamic_feature_test_1  \\\n0            5                  0    -1.000000                     0.2   \n1            6                 15     0.000000                     0.4   \n2            5                 36     0.000000                     0.6   \n3            5                 65     0.000000                     0.8   \n4            8                 93     0.000000                     1.0   \n5           13                  0    -1.000000                     0.2   \n6            6                 10     0.000000                     0.4   \n7            5                 13     0.000000                     0.6   \n8           13                 21     0.333333                     0.8   \n9           13                 29     0.250000                     1.0   \n10          10                  0    -1.000000                     0.2   \n11           9                  9     1.000000                     0.4   \n12           6                 30     1.000000                     0.6   \n13           5                 50     1.000000                     0.8   \n14          11                 62     1.000000                     1.0   \n15           4                  0    -1.000000                     0.2   \n16           2                 19     0.000000                     0.4   \n17           7                 40     0.000000                     0.6   \n18           2                 55     0.000000                     0.8   \n19           3                 55     0.000000                     1.0   \n20          11                  0    -1.000000                     0.2   \n21           9                 11     0.000000                     0.4   \n22           5                 21     0.500000                     0.6   \n23          12                 40     0.333333                     0.8   \n24           9                 46     0.500000                     1.0   \n\n    dynamic_feature_test_2  \n0                      0.2  \n1                      0.4  \n2                      0.6  \n3                      0.8  \n4                      1.0  \n5                      0.2  \n6                      0.4  \n7                      0.6  \n8                      0.8  \n9                      1.0  \n10                     0.2  \n11                     0.4  \n12                     0.6  \n13                     0.8  \n14                     1.0  \n15                     0.2  \n16                     0.4  \n17                     0.6  \n18                     0.8  \n19                     1.0  \n20                     0.2  \n21                     0.4  \n22                     0.6  \n23                     0.8  \n24                     1.0  ",
      "text/html": "<div>\n<style scoped>\n    .dataframe tbody tr th:only-of-type {\n        vertical-align: middle;\n    }\n\n    .dataframe tbody tr th {\n        vertical-align: top;\n    }\n\n    .dataframe thead th {\n        text-align: right;\n    }\n</style>\n<table border=\"1\" class=\"dataframe\">\n  <thead>\n    <tr style=\"text-align: right;\">\n      <th></th>\n      <th>order_id</th>\n      <th>user_id</th>\n      <th>eval_set</th>\n      <th>order_number</th>\n      <th>order_dow</th>\n      <th>order_hour_of_day</th>\n      <th>days_since_prior_order</th>\n      <th>tip</th>\n      <th>reordered_ratio</th>\n      <th>prev_order_tipped</th>\n      <th>order_size</th>\n      <th>customer_lifetime</th>\n      <th>tip_history</th>\n      <th>dynamic_feature_test_1</th>\n      <th>dynamic_feature_test_2</th>\n    </tr>\n  </thead>\n  <tbody>\n    <tr>\n      <th>0</th>\n      <td>2539329</td>\n      <td>1</td>\n      <td>prior</td>\n      <td>1</td>\n      <td>2</td>\n      <td>8</td>\n      <td>NaN</td>\n      <td>0.0</td>\n      <td>0.000000</td>\n      <td>-1</td>\n      <td>5</td>\n      <td>0</td>\n      <td>-1.000000</td>\n      <td>0.2</td>\n      <td>0.2</td>\n    </tr>\n    <tr>\n      <th>1</th>\n      <td>2398795</td>\n      <td>1</td>\n      <td>prior</td>\n      <td>2</td>\n      <td>3</td>\n      <td>7</td>\n      <td>15.0</td>\n      <td>0.0</td>\n      <td>0.500000</td>\n      <td>0.0</td>\n      <td>6</td>\n      <td>15</td>\n      <td>0.000000</td>\n      <td>0.4</td>\n      <td>0.4</td>\n    </tr>\n    <tr>\n      <th>2</th>\n      <td>473747</td>\n      <td>1</td>\n      <td>prior</td>\n      <td>3</td>\n      <td>3</td>\n      <td>12</td>\n      <td>21.0</td>\n      <td>0.0</td>\n      <td>0.600000</td>\n      <td>0.0</td>\n      <td>5</td>\n      <td>36</td>\n      <td>0.000000</td>\n      <td>0.6</td>\n      <td>0.6</td>\n    </tr>\n    <tr>\n      <th>3</th>\n      <td>2254736</td>\n      <td>1</td>\n      <td>prior</td>\n      <td>4</td>\n      <td>4</td>\n      <td>7</td>\n      <td>29.0</td>\n      <td>0.0</td>\n      <td>1.000000</td>\n      <td>0.0</td>\n      <td>5</td>\n      <td>65</td>\n      <td>0.000000</td>\n      <td>0.8</td>\n      <td>0.8</td>\n    </tr>\n    <tr>\n      <th>4</th>\n      <td>431534</td>\n      <td>1</td>\n      <td>prior</td>\n      <td>5</td>\n      <td>4</td>\n      <td>15</td>\n      <td>28.0</td>\n      <td>0.0</td>\n      <td>0.625000</td>\n      <td>0.0</td>\n      <td>8</td>\n      <td>93</td>\n      <td>0.000000</td>\n      <td>1.0</td>\n      <td>1.0</td>\n    </tr>\n    <tr>\n      <th>5</th>\n      <td>2168274</td>\n      <td>2</td>\n      <td>prior</td>\n      <td>1</td>\n      <td>2</td>\n      <td>11</td>\n      <td>NaN</td>\n      <td>0.0</td>\n      <td>0.000000</td>\n      <td>-1</td>\n      <td>13</td>\n      <td>0</td>\n      <td>-1.000000</td>\n      <td>0.2</td>\n      <td>0.2</td>\n    </tr>\n    <tr>\n      <th>6</th>\n      <td>1501582</td>\n      <td>2</td>\n      <td>prior</td>\n      <td>2</td>\n      <td>5</td>\n      <td>10</td>\n      <td>10.0</td>\n      <td>0.0</td>\n      <td>0.166667</td>\n      <td>0.0</td>\n      <td>6</td>\n      <td>10</td>\n      <td>0.000000</td>\n      <td>0.4</td>\n      <td>0.4</td>\n    </tr>\n    <tr>\n      <th>7</th>\n      <td>1901567</td>\n      <td>2</td>\n      <td>prior</td>\n      <td>3</td>\n      <td>1</td>\n      <td>10</td>\n      <td>3.0</td>\n      <td>1.0</td>\n      <td>0.600000</td>\n      <td>0.0</td>\n      <td>5</td>\n      <td>13</td>\n      <td>0.000000</td>\n      <td>0.6</td>\n      <td>0.6</td>\n    </tr>\n    <tr>\n      <th>8</th>\n      <td>738281</td>\n      <td>2</td>\n      <td>prior</td>\n      <td>4</td>\n      <td>2</td>\n      <td>10</td>\n      <td>8.0</td>\n      <td>0.0</td>\n      <td>0.076923</td>\n      <td>1.0</td>\n      <td>13</td>\n      <td>21</td>\n      <td>0.333333</td>\n      <td>0.8</td>\n      <td>0.8</td>\n    </tr>\n    <tr>\n      <th>9</th>\n      <td>1673511</td>\n      <td>2</td>\n      <td>prior</td>\n      <td>5</td>\n      <td>3</td>\n      <td>11</td>\n      <td>8.0</td>\n      <td>1.0</td>\n      <td>0.076923</td>\n      <td>0.0</td>\n      <td>13</td>\n      <td>29</td>\n      <td>0.250000</td>\n      <td>1.0</td>\n      <td>1.0</td>\n    </tr>\n    <tr>\n      <th>10</th>\n      <td>1374495</td>\n      <td>3</td>\n      <td>prior</td>\n      <td>1</td>\n      <td>1</td>\n      <td>14</td>\n      <td>NaN</td>\n      <td>1.0</td>\n      <td>0.000000</td>\n      <td>-1</td>\n      <td>10</td>\n      <td>0</td>\n      <td>-1.000000</td>\n      <td>0.2</td>\n      <td>0.2</td>\n    </tr>\n    <tr>\n      <th>11</th>\n      <td>444309</td>\n      <td>3</td>\n      <td>prior</td>\n      <td>2</td>\n      <td>3</td>\n      <td>19</td>\n      <td>9.0</td>\n      <td>1.0</td>\n      <td>0.333333</td>\n      <td>1.0</td>\n      <td>9</td>\n      <td>9</td>\n      <td>1.000000</td>\n      <td>0.4</td>\n      <td>0.4</td>\n    </tr>\n    <tr>\n      <th>12</th>\n      <td>3002854</td>\n      <td>3</td>\n      <td>prior</td>\n      <td>3</td>\n      <td>3</td>\n      <td>16</td>\n      <td>21.0</td>\n      <td>1.0</td>\n      <td>0.500000</td>\n      <td>1.0</td>\n      <td>6</td>\n      <td>30</td>\n      <td>1.000000</td>\n      <td>0.6</td>\n      <td>0.6</td>\n    </tr>\n    <tr>\n      <th>13</th>\n      <td>2037211</td>\n      <td>3</td>\n      <td>prior</td>\n      <td>4</td>\n      <td>2</td>\n      <td>18</td>\n      <td>20.0</td>\n      <td>1.0</td>\n      <td>0.200000</td>\n      <td>1.0</td>\n      <td>5</td>\n      <td>50</td>\n      <td>1.000000</td>\n      <td>0.8</td>\n      <td>0.8</td>\n    </tr>\n    <tr>\n      <th>14</th>\n      <td>2710558</td>\n      <td>3</td>\n      <td>prior</td>\n      <td>5</td>\n      <td>0</td>\n      <td>17</td>\n      <td>12.0</td>\n      <td>1.0</td>\n      <td>0.636364</td>\n      <td>1.0</td>\n      <td>11</td>\n      <td>62</td>\n      <td>1.000000</td>\n      <td>1.0</td>\n      <td>1.0</td>\n    </tr>\n    <tr>\n      <th>15</th>\n      <td>3343014</td>\n      <td>4</td>\n      <td>prior</td>\n      <td>1</td>\n      <td>6</td>\n      <td>11</td>\n      <td>NaN</td>\n      <td>0.0</td>\n      <td>0.000000</td>\n      <td>-1</td>\n      <td>4</td>\n      <td>0</td>\n      <td>-1.000000</td>\n      <td>0.2</td>\n      <td>0.2</td>\n    </tr>\n    <tr>\n      <th>16</th>\n      <td>2030307</td>\n      <td>4</td>\n      <td>prior</td>\n      <td>2</td>\n      <td>4</td>\n      <td>11</td>\n      <td>19.0</td>\n      <td>0.0</td>\n      <td>0.000000</td>\n      <td>0.0</td>\n      <td>2</td>\n      <td>19</td>\n      <td>0.000000</td>\n      <td>0.4</td>\n      <td>0.4</td>\n    </tr>\n    <tr>\n      <th>17</th>\n      <td>691089</td>\n      <td>4</td>\n      <td>prior</td>\n      <td>3</td>\n      <td>4</td>\n      <td>15</td>\n      <td>21.0</td>\n      <td>0.0</td>\n      <td>0.142857</td>\n      <td>0.0</td>\n      <td>7</td>\n      <td>40</td>\n      <td>0.000000</td>\n      <td>0.6</td>\n      <td>0.6</td>\n    </tr>\n    <tr>\n      <th>18</th>\n      <td>94891</td>\n      <td>4</td>\n      <td>prior</td>\n      <td>4</td>\n      <td>5</td>\n      <td>13</td>\n      <td>15.0</td>\n      <td>0.0</td>\n      <td>0.000000</td>\n      <td>0.0</td>\n      <td>2</td>\n      <td>55</td>\n      <td>0.000000</td>\n      <td>0.8</td>\n      <td>0.8</td>\n    </tr>\n    <tr>\n      <th>19</th>\n      <td>2557754</td>\n      <td>4</td>\n      <td>prior</td>\n      <td>5</td>\n      <td>5</td>\n      <td>13</td>\n      <td>0.0</td>\n      <td>0.0</td>\n      <td>0.000000</td>\n      <td>0.0</td>\n      <td>3</td>\n      <td>55</td>\n      <td>0.000000</td>\n      <td>1.0</td>\n      <td>1.0</td>\n    </tr>\n    <tr>\n      <th>20</th>\n      <td>2717275</td>\n      <td>5</td>\n      <td>prior</td>\n      <td>1</td>\n      <td>3</td>\n      <td>12</td>\n      <td>NaN</td>\n      <td>0.0</td>\n      <td>0.000000</td>\n      <td>-1</td>\n      <td>11</td>\n      <td>0</td>\n      <td>-1.000000</td>\n      <td>0.2</td>\n      <td>0.2</td>\n    </tr>\n    <tr>\n      <th>21</th>\n      <td>1909121</td>\n      <td>5</td>\n      <td>prior</td>\n      <td>2</td>\n      <td>0</td>\n      <td>16</td>\n      <td>11.0</td>\n      <td>1.0</td>\n      <td>0.444444</td>\n      <td>0.0</td>\n      <td>9</td>\n      <td>11</td>\n      <td>0.000000</td>\n      <td>0.4</td>\n      <td>0.4</td>\n    </tr>\n    <tr>\n      <th>22</th>\n      <td>2267326</td>\n      <td>5</td>\n      <td>prior</td>\n      <td>3</td>\n      <td>3</td>\n      <td>18</td>\n      <td>10.0</td>\n      <td>0.0</td>\n      <td>0.400000</td>\n      <td>1.0</td>\n      <td>5</td>\n      <td>21</td>\n      <td>0.500000</td>\n      <td>0.6</td>\n      <td>0.6</td>\n    </tr>\n    <tr>\n      <th>23</th>\n      <td>157374</td>\n      <td>5</td>\n      <td>prior</td>\n      <td>4</td>\n      <td>1</td>\n      <td>18</td>\n      <td>19.0</td>\n      <td>1.0</td>\n      <td>0.666667</td>\n      <td>0.0</td>\n      <td>12</td>\n      <td>40</td>\n      <td>0.333333</td>\n      <td>0.8</td>\n      <td>0.8</td>\n    </tr>\n    <tr>\n      <th>24</th>\n      <td>2196797</td>\n      <td>5</td>\n      <td>train</td>\n      <td>5</td>\n      <td>0</td>\n      <td>11</td>\n      <td>6.0</td>\n      <td>NaN</td>\n      <td>0.444444</td>\n      <td>1.0</td>\n      <td>9</td>\n      <td>46</td>\n      <td>0.500000</td>\n      <td>1.0</td>\n      <td>1.0</td>\n    </tr>\n  </tbody>\n</table>\n</div>"
     },
     "execution_count": 9,
     "metadata": {},
     "output_type": "execute_result"
    }
   ],
   "source": [
    "data_manager.get_orders_tip().head(25)"
   ]
  },
  {
   "cell_type": "code",
   "execution_count": 10,
   "id": "e35d205a2cb3a9a7",
   "metadata": {
    "collapsed": false,
    "ExecuteTime": {
     "end_time": "2024-05-27T16:00:57.611747Z",
     "start_time": "2024-05-27T16:00:57.491424300Z"
    }
   },
   "outputs": [
    {
     "name": "stdout",
     "output_type": "stream",
     "text": [
      "Number of orders: 991222\n",
      "Number of orders did not change: True\n",
      "\n",
      "Number of NaN or null values in each column:\n",
      "order_id                       0\n",
      "user_id                        0\n",
      "eval_set                       0\n",
      "order_number                   0\n",
      "order_dow                      0\n",
      "order_hour_of_day              0\n",
      "days_since_prior_order    206209\n",
      "tip                        27739\n",
      "reordered_ratio                0\n",
      "prev_order_tipped              0\n",
      "order_size                     0\n",
      "customer_lifetime              0\n",
      "tip_history                    0\n",
      "dynamic_feature_test_1         0\n",
      "dynamic_feature_test_2         0\n",
      "dtype: int64\n"
     ]
    }
   ],
   "source": [
    "print(f\"Number of orders: {len(data_manager.get_orders_tip())}\")\n",
    "print(f\"Number of orders did not change: {order_amount == len(data_manager.get_orders_tip())}\\n\")\n",
    "print(f\"Number of NaN or null values in each column:\\n{data_manager.get_orders_tip().isnull().sum()}\")"
   ]
  },
  {
   "cell_type": "code",
   "outputs": [
    {
     "data": {
      "text/plain": "    order_id  user_id eval_set  order_number  order_dow  order_hour_of_day  \\\n0    2539329        1    prior             1          2                  8   \n1    2398795        1    prior             2          3                  7   \n2     473747        1    prior             3          3                 12   \n3    2254736        1    prior             4          4                  7   \n4    2168274        2    prior             1          2                 11   \n5    1501582        2    prior             2          5                 10   \n6    1901567        2    prior             3          1                 10   \n7     738281        2    prior             4          2                 10   \n8    1374495        3    prior             1          1                 14   \n9     444309        3    prior             2          3                 19   \n10   3002854        3    prior             3          3                 16   \n11   2037211        3    prior             4          2                 18   \n12   3343014        4    prior             1          6                 11   \n13   2030307        4    prior             2          4                 11   \n14    691089        4    prior             3          4                 15   \n15     94891        4    prior             4          5                 13   \n16   2717275        5    prior             1          3                 12   \n17   1909121        5    prior             2          0                 16   \n18   2267326        5    prior             3          3                 18   \n19    157374        5    prior             4          1                 18   \n20   2086598        6    prior             1          5                 18   \n21    298250        6    prior             2          4                 16   \n22    998866        6    prior             3          2                 18   \n23   2565571        7    prior             1          3                  9   \n24   2402008        7    prior             2          1                 19   \n\n    days_since_prior_order  tip  reordered_ratio prev_order_tipped  \\\n0                      NaN  0.0         0.000000                -1   \n1                     15.0  0.0         0.500000               0.0   \n2                     21.0  0.0         0.600000               0.0   \n3                     29.0  0.0         1.000000               0.0   \n4                      NaN  0.0         0.000000                -1   \n5                     10.0  0.0         0.166667               0.0   \n6                      3.0  1.0         0.600000               0.0   \n7                      8.0  0.0         0.076923               1.0   \n8                      NaN  1.0         0.000000                -1   \n9                      9.0  1.0         0.333333               1.0   \n10                    21.0  1.0         0.500000               1.0   \n11                    20.0  1.0         0.200000               1.0   \n12                     NaN  0.0         0.000000                -1   \n13                    19.0  0.0         0.000000               0.0   \n14                    21.0  0.0         0.142857               0.0   \n15                    15.0  0.0         0.000000               0.0   \n16                     NaN  0.0         0.000000                -1   \n17                    11.0  1.0         0.444444               0.0   \n18                    10.0  0.0         0.400000               1.0   \n19                    19.0  1.0         0.666667               0.0   \n20                     NaN  0.0         0.000000                -1   \n21                     6.0  0.0         0.285714               0.0   \n22                    12.0  0.0         0.000000               0.0   \n23                     NaN  0.0         0.000000                -1   \n24                    30.0  0.0         0.190476               0.0   \n\n    order_size  customer_lifetime  tip_history  dynamic_feature_test_1  \\\n0            5                  0    -1.000000                0.250000   \n1            6                 15     0.000000                0.500000   \n2            5                 36     0.000000                0.750000   \n3            5                 65     0.000000                1.000000   \n4           13                  0    -1.000000                0.250000   \n5            6                 10     0.000000                0.500000   \n6            5                 13     0.000000                0.750000   \n7           13                 21     0.333333                1.000000   \n8           10                  0    -1.000000                0.250000   \n9            9                  9     1.000000                0.500000   \n10           6                 30     1.000000                0.750000   \n11           5                 50     1.000000                1.000000   \n12           4                  0    -1.000000                0.250000   \n13           2                 19     0.000000                0.500000   \n14           7                 40     0.000000                0.750000   \n15           2                 55     0.000000                1.000000   \n16          11                  0    -1.000000                0.250000   \n17           9                 11     0.000000                0.500000   \n18           5                 21     0.500000                0.750000   \n19          12                 40     0.333333                1.000000   \n20           4                  0    -1.000000                0.333333   \n21           7                  6     0.000000                0.666667   \n22           3                 18     0.000000                1.000000   \n23          12                  0    -1.000000                0.250000   \n24          21                 30     0.000000                0.500000   \n\n    dynamic_feature_test_2  \n0                 0.250000  \n1                 0.500000  \n2                 0.750000  \n3                 1.000000  \n4                 0.250000  \n5                 0.500000  \n6                 0.750000  \n7                 1.000000  \n8                 0.250000  \n9                 0.500000  \n10                0.750000  \n11                1.000000  \n12                0.250000  \n13                0.500000  \n14                0.750000  \n15                1.000000  \n16                0.250000  \n17                0.500000  \n18                0.750000  \n19                1.000000  \n20                0.333333  \n21                0.666667  \n22                1.000000  \n23                0.250000  \n24                0.500000  ",
      "text/html": "<div>\n<style scoped>\n    .dataframe tbody tr th:only-of-type {\n        vertical-align: middle;\n    }\n\n    .dataframe tbody tr th {\n        vertical-align: top;\n    }\n\n    .dataframe thead th {\n        text-align: right;\n    }\n</style>\n<table border=\"1\" class=\"dataframe\">\n  <thead>\n    <tr style=\"text-align: right;\">\n      <th></th>\n      <th>order_id</th>\n      <th>user_id</th>\n      <th>eval_set</th>\n      <th>order_number</th>\n      <th>order_dow</th>\n      <th>order_hour_of_day</th>\n      <th>days_since_prior_order</th>\n      <th>tip</th>\n      <th>reordered_ratio</th>\n      <th>prev_order_tipped</th>\n      <th>order_size</th>\n      <th>customer_lifetime</th>\n      <th>tip_history</th>\n      <th>dynamic_feature_test_1</th>\n      <th>dynamic_feature_test_2</th>\n    </tr>\n  </thead>\n  <tbody>\n    <tr>\n      <th>0</th>\n      <td>2539329</td>\n      <td>1</td>\n      <td>prior</td>\n      <td>1</td>\n      <td>2</td>\n      <td>8</td>\n      <td>NaN</td>\n      <td>0.0</td>\n      <td>0.000000</td>\n      <td>-1</td>\n      <td>5</td>\n      <td>0</td>\n      <td>-1.000000</td>\n      <td>0.250000</td>\n      <td>0.250000</td>\n    </tr>\n    <tr>\n      <th>1</th>\n      <td>2398795</td>\n      <td>1</td>\n      <td>prior</td>\n      <td>2</td>\n      <td>3</td>\n      <td>7</td>\n      <td>15.0</td>\n      <td>0.0</td>\n      <td>0.500000</td>\n      <td>0.0</td>\n      <td>6</td>\n      <td>15</td>\n      <td>0.000000</td>\n      <td>0.500000</td>\n      <td>0.500000</td>\n    </tr>\n    <tr>\n      <th>2</th>\n      <td>473747</td>\n      <td>1</td>\n      <td>prior</td>\n      <td>3</td>\n      <td>3</td>\n      <td>12</td>\n      <td>21.0</td>\n      <td>0.0</td>\n      <td>0.600000</td>\n      <td>0.0</td>\n      <td>5</td>\n      <td>36</td>\n      <td>0.000000</td>\n      <td>0.750000</td>\n      <td>0.750000</td>\n    </tr>\n    <tr>\n      <th>3</th>\n      <td>2254736</td>\n      <td>1</td>\n      <td>prior</td>\n      <td>4</td>\n      <td>4</td>\n      <td>7</td>\n      <td>29.0</td>\n      <td>0.0</td>\n      <td>1.000000</td>\n      <td>0.0</td>\n      <td>5</td>\n      <td>65</td>\n      <td>0.000000</td>\n      <td>1.000000</td>\n      <td>1.000000</td>\n    </tr>\n    <tr>\n      <th>4</th>\n      <td>2168274</td>\n      <td>2</td>\n      <td>prior</td>\n      <td>1</td>\n      <td>2</td>\n      <td>11</td>\n      <td>NaN</td>\n      <td>0.0</td>\n      <td>0.000000</td>\n      <td>-1</td>\n      <td>13</td>\n      <td>0</td>\n      <td>-1.000000</td>\n      <td>0.250000</td>\n      <td>0.250000</td>\n    </tr>\n    <tr>\n      <th>5</th>\n      <td>1501582</td>\n      <td>2</td>\n      <td>prior</td>\n      <td>2</td>\n      <td>5</td>\n      <td>10</td>\n      <td>10.0</td>\n      <td>0.0</td>\n      <td>0.166667</td>\n      <td>0.0</td>\n      <td>6</td>\n      <td>10</td>\n      <td>0.000000</td>\n      <td>0.500000</td>\n      <td>0.500000</td>\n    </tr>\n    <tr>\n      <th>6</th>\n      <td>1901567</td>\n      <td>2</td>\n      <td>prior</td>\n      <td>3</td>\n      <td>1</td>\n      <td>10</td>\n      <td>3.0</td>\n      <td>1.0</td>\n      <td>0.600000</td>\n      <td>0.0</td>\n      <td>5</td>\n      <td>13</td>\n      <td>0.000000</td>\n      <td>0.750000</td>\n      <td>0.750000</td>\n    </tr>\n    <tr>\n      <th>7</th>\n      <td>738281</td>\n      <td>2</td>\n      <td>prior</td>\n      <td>4</td>\n      <td>2</td>\n      <td>10</td>\n      <td>8.0</td>\n      <td>0.0</td>\n      <td>0.076923</td>\n      <td>1.0</td>\n      <td>13</td>\n      <td>21</td>\n      <td>0.333333</td>\n      <td>1.000000</td>\n      <td>1.000000</td>\n    </tr>\n    <tr>\n      <th>8</th>\n      <td>1374495</td>\n      <td>3</td>\n      <td>prior</td>\n      <td>1</td>\n      <td>1</td>\n      <td>14</td>\n      <td>NaN</td>\n      <td>1.0</td>\n      <td>0.000000</td>\n      <td>-1</td>\n      <td>10</td>\n      <td>0</td>\n      <td>-1.000000</td>\n      <td>0.250000</td>\n      <td>0.250000</td>\n    </tr>\n    <tr>\n      <th>9</th>\n      <td>444309</td>\n      <td>3</td>\n      <td>prior</td>\n      <td>2</td>\n      <td>3</td>\n      <td>19</td>\n      <td>9.0</td>\n      <td>1.0</td>\n      <td>0.333333</td>\n      <td>1.0</td>\n      <td>9</td>\n      <td>9</td>\n      <td>1.000000</td>\n      <td>0.500000</td>\n      <td>0.500000</td>\n    </tr>\n    <tr>\n      <th>10</th>\n      <td>3002854</td>\n      <td>3</td>\n      <td>prior</td>\n      <td>3</td>\n      <td>3</td>\n      <td>16</td>\n      <td>21.0</td>\n      <td>1.0</td>\n      <td>0.500000</td>\n      <td>1.0</td>\n      <td>6</td>\n      <td>30</td>\n      <td>1.000000</td>\n      <td>0.750000</td>\n      <td>0.750000</td>\n    </tr>\n    <tr>\n      <th>11</th>\n      <td>2037211</td>\n      <td>3</td>\n      <td>prior</td>\n      <td>4</td>\n      <td>2</td>\n      <td>18</td>\n      <td>20.0</td>\n      <td>1.0</td>\n      <td>0.200000</td>\n      <td>1.0</td>\n      <td>5</td>\n      <td>50</td>\n      <td>1.000000</td>\n      <td>1.000000</td>\n      <td>1.000000</td>\n    </tr>\n    <tr>\n      <th>12</th>\n      <td>3343014</td>\n      <td>4</td>\n      <td>prior</td>\n      <td>1</td>\n      <td>6</td>\n      <td>11</td>\n      <td>NaN</td>\n      <td>0.0</td>\n      <td>0.000000</td>\n      <td>-1</td>\n      <td>4</td>\n      <td>0</td>\n      <td>-1.000000</td>\n      <td>0.250000</td>\n      <td>0.250000</td>\n    </tr>\n    <tr>\n      <th>13</th>\n      <td>2030307</td>\n      <td>4</td>\n      <td>prior</td>\n      <td>2</td>\n      <td>4</td>\n      <td>11</td>\n      <td>19.0</td>\n      <td>0.0</td>\n      <td>0.000000</td>\n      <td>0.0</td>\n      <td>2</td>\n      <td>19</td>\n      <td>0.000000</td>\n      <td>0.500000</td>\n      <td>0.500000</td>\n    </tr>\n    <tr>\n      <th>14</th>\n      <td>691089</td>\n      <td>4</td>\n      <td>prior</td>\n      <td>3</td>\n      <td>4</td>\n      <td>15</td>\n      <td>21.0</td>\n      <td>0.0</td>\n      <td>0.142857</td>\n      <td>0.0</td>\n      <td>7</td>\n      <td>40</td>\n      <td>0.000000</td>\n      <td>0.750000</td>\n      <td>0.750000</td>\n    </tr>\n    <tr>\n      <th>15</th>\n      <td>94891</td>\n      <td>4</td>\n      <td>prior</td>\n      <td>4</td>\n      <td>5</td>\n      <td>13</td>\n      <td>15.0</td>\n      <td>0.0</td>\n      <td>0.000000</td>\n      <td>0.0</td>\n      <td>2</td>\n      <td>55</td>\n      <td>0.000000</td>\n      <td>1.000000</td>\n      <td>1.000000</td>\n    </tr>\n    <tr>\n      <th>16</th>\n      <td>2717275</td>\n      <td>5</td>\n      <td>prior</td>\n      <td>1</td>\n      <td>3</td>\n      <td>12</td>\n      <td>NaN</td>\n      <td>0.0</td>\n      <td>0.000000</td>\n      <td>-1</td>\n      <td>11</td>\n      <td>0</td>\n      <td>-1.000000</td>\n      <td>0.250000</td>\n      <td>0.250000</td>\n    </tr>\n    <tr>\n      <th>17</th>\n      <td>1909121</td>\n      <td>5</td>\n      <td>prior</td>\n      <td>2</td>\n      <td>0</td>\n      <td>16</td>\n      <td>11.0</td>\n      <td>1.0</td>\n      <td>0.444444</td>\n      <td>0.0</td>\n      <td>9</td>\n      <td>11</td>\n      <td>0.000000</td>\n      <td>0.500000</td>\n      <td>0.500000</td>\n    </tr>\n    <tr>\n      <th>18</th>\n      <td>2267326</td>\n      <td>5</td>\n      <td>prior</td>\n      <td>3</td>\n      <td>3</td>\n      <td>18</td>\n      <td>10.0</td>\n      <td>0.0</td>\n      <td>0.400000</td>\n      <td>1.0</td>\n      <td>5</td>\n      <td>21</td>\n      <td>0.500000</td>\n      <td>0.750000</td>\n      <td>0.750000</td>\n    </tr>\n    <tr>\n      <th>19</th>\n      <td>157374</td>\n      <td>5</td>\n      <td>prior</td>\n      <td>4</td>\n      <td>1</td>\n      <td>18</td>\n      <td>19.0</td>\n      <td>1.0</td>\n      <td>0.666667</td>\n      <td>0.0</td>\n      <td>12</td>\n      <td>40</td>\n      <td>0.333333</td>\n      <td>1.000000</td>\n      <td>1.000000</td>\n    </tr>\n    <tr>\n      <th>20</th>\n      <td>2086598</td>\n      <td>6</td>\n      <td>prior</td>\n      <td>1</td>\n      <td>5</td>\n      <td>18</td>\n      <td>NaN</td>\n      <td>0.0</td>\n      <td>0.000000</td>\n      <td>-1</td>\n      <td>4</td>\n      <td>0</td>\n      <td>-1.000000</td>\n      <td>0.333333</td>\n      <td>0.333333</td>\n    </tr>\n    <tr>\n      <th>21</th>\n      <td>298250</td>\n      <td>6</td>\n      <td>prior</td>\n      <td>2</td>\n      <td>4</td>\n      <td>16</td>\n      <td>6.0</td>\n      <td>0.0</td>\n      <td>0.285714</td>\n      <td>0.0</td>\n      <td>7</td>\n      <td>6</td>\n      <td>0.000000</td>\n      <td>0.666667</td>\n      <td>0.666667</td>\n    </tr>\n    <tr>\n      <th>22</th>\n      <td>998866</td>\n      <td>6</td>\n      <td>prior</td>\n      <td>3</td>\n      <td>2</td>\n      <td>18</td>\n      <td>12.0</td>\n      <td>0.0</td>\n      <td>0.000000</td>\n      <td>0.0</td>\n      <td>3</td>\n      <td>18</td>\n      <td>0.000000</td>\n      <td>1.000000</td>\n      <td>1.000000</td>\n    </tr>\n    <tr>\n      <th>23</th>\n      <td>2565571</td>\n      <td>7</td>\n      <td>prior</td>\n      <td>1</td>\n      <td>3</td>\n      <td>9</td>\n      <td>NaN</td>\n      <td>0.0</td>\n      <td>0.000000</td>\n      <td>-1</td>\n      <td>12</td>\n      <td>0</td>\n      <td>-1.000000</td>\n      <td>0.250000</td>\n      <td>0.250000</td>\n    </tr>\n    <tr>\n      <th>24</th>\n      <td>2402008</td>\n      <td>7</td>\n      <td>prior</td>\n      <td>2</td>\n      <td>1</td>\n      <td>19</td>\n      <td>30.0</td>\n      <td>0.0</td>\n      <td>0.190476</td>\n      <td>0.0</td>\n      <td>21</td>\n      <td>30</td>\n      <td>0.000000</td>\n      <td>0.500000</td>\n      <td>0.500000</td>\n    </tr>\n  </tbody>\n</table>\n</div>"
     },
     "execution_count": 11,
     "metadata": {},
     "output_type": "execute_result"
    }
   ],
   "source": [
    "order_ids = data_manager.get_orders_tip(full=True).groupby('user_id')['order_id'].head(4)\n",
    "order_amount = len(order_ids)\n",
    "\n",
    "data_manager.set_subset(order_ids)\n",
    "data_manager.get_orders_tip().head(25)"
   ],
   "metadata": {
    "collapsed": false,
    "ExecuteTime": {
     "end_time": "2024-05-27T16:01:00.012106900Z",
     "start_time": "2024-05-27T16:00:57.571149800Z"
    }
   },
   "id": "f74c035a9f150c03",
   "execution_count": 11
  },
  {
   "cell_type": "code",
   "outputs": [
    {
     "name": "stdout",
     "output_type": "stream",
     "text": [
      "Number of orders: 816150\n",
      "Number of orders did not change: True\n",
      "\n",
      "Number of NaN or null values in each column:\n",
      "order_id                       0\n",
      "user_id                        0\n",
      "eval_set                       0\n",
      "order_number                   0\n",
      "order_dow                      0\n",
      "order_hour_of_day              0\n",
      "days_since_prior_order    206209\n",
      "tip                        15300\n",
      "reordered_ratio                0\n",
      "prev_order_tipped              0\n",
      "order_size                     0\n",
      "customer_lifetime              0\n",
      "tip_history                    0\n",
      "dynamic_feature_test_1         0\n",
      "dynamic_feature_test_2         0\n",
      "dtype: int64\n"
     ]
    }
   ],
   "source": [
    "print(f\"Number of orders: {len(data_manager.get_orders_tip())}\")\n",
    "print(f\"Number of orders did not change: {order_amount == len(data_manager.get_orders_tip())}\\n\")\n",
    "print(f\"Number of NaN or null values in each column:\\n{data_manager.get_orders_tip().isnull().sum()}\")"
   ],
   "metadata": {
    "collapsed": false,
    "ExecuteTime": {
     "end_time": "2024-05-27T16:01:00.111044700Z",
     "start_time": "2024-05-27T16:00:59.993883400Z"
    }
   },
   "id": "9ec949cdfc48d38e",
   "execution_count": 12
  },
  {
   "cell_type": "markdown",
   "id": "a4253331b4719e93",
   "metadata": {
    "collapsed": false
   },
   "source": [
    "### Temporary Manual Validation"
   ]
  },
  {
   "cell_type": "code",
   "execution_count": 13,
   "id": "f9d8254f35290d3e",
   "metadata": {
    "collapsed": false,
    "ExecuteTime": {
     "end_time": "2024-05-27T16:01:00.536848200Z",
     "start_time": "2024-05-27T16:01:00.068162500Z"
    }
   },
   "outputs": [
    {
     "data": {
      "text/plain": "    order_id  order_size\n0          1           8\n1          2           9\n2          6           3\n3         10          15\n4         11           5\n5         13          13\n6         18          28\n7         20           8\n8         26           8\n9         30           3\n10        32           9\n11        35           5\n12        37           3\n13        44          10\n14        46          20\n15        54           7\n16        57           7\n17        61          12\n18        62           7\n19        67           8\n20        68           9\n21        70           4\n22        75          16\n23        78           5\n24        88          23",
      "text/html": "<div>\n<style scoped>\n    .dataframe tbody tr th:only-of-type {\n        vertical-align: middle;\n    }\n\n    .dataframe tbody tr th {\n        vertical-align: top;\n    }\n\n    .dataframe thead th {\n        text-align: right;\n    }\n</style>\n<table border=\"1\" class=\"dataframe\">\n  <thead>\n    <tr style=\"text-align: right;\">\n      <th></th>\n      <th>order_id</th>\n      <th>order_size</th>\n    </tr>\n  </thead>\n  <tbody>\n    <tr>\n      <th>0</th>\n      <td>1</td>\n      <td>8</td>\n    </tr>\n    <tr>\n      <th>1</th>\n      <td>2</td>\n      <td>9</td>\n    </tr>\n    <tr>\n      <th>2</th>\n      <td>6</td>\n      <td>3</td>\n    </tr>\n    <tr>\n      <th>3</th>\n      <td>10</td>\n      <td>15</td>\n    </tr>\n    <tr>\n      <th>4</th>\n      <td>11</td>\n      <td>5</td>\n    </tr>\n    <tr>\n      <th>5</th>\n      <td>13</td>\n      <td>13</td>\n    </tr>\n    <tr>\n      <th>6</th>\n      <td>18</td>\n      <td>28</td>\n    </tr>\n    <tr>\n      <th>7</th>\n      <td>20</td>\n      <td>8</td>\n    </tr>\n    <tr>\n      <th>8</th>\n      <td>26</td>\n      <td>8</td>\n    </tr>\n    <tr>\n      <th>9</th>\n      <td>30</td>\n      <td>3</td>\n    </tr>\n    <tr>\n      <th>10</th>\n      <td>32</td>\n      <td>9</td>\n    </tr>\n    <tr>\n      <th>11</th>\n      <td>35</td>\n      <td>5</td>\n    </tr>\n    <tr>\n      <th>12</th>\n      <td>37</td>\n      <td>3</td>\n    </tr>\n    <tr>\n      <th>13</th>\n      <td>44</td>\n      <td>10</td>\n    </tr>\n    <tr>\n      <th>14</th>\n      <td>46</td>\n      <td>20</td>\n    </tr>\n    <tr>\n      <th>15</th>\n      <td>54</td>\n      <td>7</td>\n    </tr>\n    <tr>\n      <th>16</th>\n      <td>57</td>\n      <td>7</td>\n    </tr>\n    <tr>\n      <th>17</th>\n      <td>61</td>\n      <td>12</td>\n    </tr>\n    <tr>\n      <th>18</th>\n      <td>62</td>\n      <td>7</td>\n    </tr>\n    <tr>\n      <th>19</th>\n      <td>67</td>\n      <td>8</td>\n    </tr>\n    <tr>\n      <th>20</th>\n      <td>68</td>\n      <td>9</td>\n    </tr>\n    <tr>\n      <th>21</th>\n      <td>70</td>\n      <td>4</td>\n    </tr>\n    <tr>\n      <th>22</th>\n      <td>75</td>\n      <td>16</td>\n    </tr>\n    <tr>\n      <th>23</th>\n      <td>78</td>\n      <td>5</td>\n    </tr>\n    <tr>\n      <th>24</th>\n      <td>88</td>\n      <td>23</td>\n    </tr>\n  </tbody>\n</table>\n</div>"
     },
     "execution_count": 13,
     "metadata": {},
     "output_type": "execute_result"
    }
   ],
   "source": [
    "orders_joined = data_manager.get_orders_joined()\n",
    "order_size = orders_joined.groupby('order_id')['order_number'].size().reset_index().rename(\n",
    "    columns={'order_number': 'order_size'})\n",
    "order_size.head(25)"
   ]
  },
  {
   "cell_type": "code",
   "execution_count": 14,
   "id": "93e174706599d44d",
   "metadata": {
    "collapsed": false,
    "ExecuteTime": {
     "end_time": "2024-05-27T16:01:00.549484500Z",
     "start_time": "2024-05-27T16:01:00.513897900Z"
    }
   },
   "outputs": [
    {
     "name": "stdout",
     "output_type": "stream",
     "text": [
      "Order size example: 13\n"
     ]
    },
    {
     "data": {
      "text/plain": "    order_id  user_id eval_set  order_number  order_dow  order_hour_of_day  \\\n70   2168274        2    prior             1          2                 11   \n71   2168274        2    prior             1          2                 11   \n72   2168274        2    prior             1          2                 11   \n73   2168274        2    prior             1          2                 11   \n74   2168274        2    prior             1          2                 11   \n75   2168274        2    prior             1          2                 11   \n76   2168274        2    prior             1          2                 11   \n77   2168274        2    prior             1          2                 11   \n78   2168274        2    prior             1          2                 11   \n79   2168274        2    prior             1          2                 11   \n80   2168274        2    prior             1          2                 11   \n81   2168274        2    prior             1          2                 11   \n82   2168274        2    prior             1          2                 11   \n\n    days_since_prior_order  tip  product_id  add_to_cart_order  reordered  \\\n70                     NaN  0.0       32792                  1          0   \n71                     NaN  0.0       47766                  2          0   \n72                     NaN  0.0       20574                  3          0   \n73                     NaN  0.0       12000                  4          0   \n74                     NaN  0.0       48110                  5          0   \n75                     NaN  0.0       22474                  6          0   \n76                     NaN  0.0       16589                  7          0   \n77                     NaN  0.0       35917                  8          0   \n78                     NaN  0.0       27344                  9          0   \n79                     NaN  0.0       30489                 10          0   \n80                     NaN  0.0       27966                 11          0   \n81                     NaN  0.0       13176                 12          0   \n82                     NaN  0.0       45066                 13          0   \n\n                                product_name  aisle_id  department_id  \\\n70            Chipotle Beef & Pork Realstick        23             19   \n71                           Organic Avocado        24              4   \n72                            Roasted Turkey        96             20   \n73  Baked Organic Sea Salt Crunchy Pea Snack        72             13   \n74   Thin Stackers Brown Rice Lightly Salted        78             19   \n75            Cheddar Bunnies Snack Crackers        78             19   \n76                            Plantain Chips       107             19   \n77          Organic Just Concord Grape Juice        98              7   \n78                      Uncured Genoa Salami        96             20   \n79                           Original Hummus        67             20   \n80                       Organic Raspberries       123              4   \n81                    Bag of Organic Bananas        24              4   \n82                          Honeycrisp Apple        24              4   \n\n                         aisle department  \n70               popcorn jerky     snacks  \n71                fresh fruits    produce  \n72                  lunch meat       deli  \n73                  condiments     pantry  \n74                    crackers     snacks  \n75                    crackers     snacks  \n76              chips pretzels     snacks  \n77               juice nectars  beverages  \n78                  lunch meat       deli  \n79        fresh dips tapenades       deli  \n80  packaged vegetables fruits    produce  \n81                fresh fruits    produce  \n82                fresh fruits    produce  ",
      "text/html": "<div>\n<style scoped>\n    .dataframe tbody tr th:only-of-type {\n        vertical-align: middle;\n    }\n\n    .dataframe tbody tr th {\n        vertical-align: top;\n    }\n\n    .dataframe thead th {\n        text-align: right;\n    }\n</style>\n<table border=\"1\" class=\"dataframe\">\n  <thead>\n    <tr style=\"text-align: right;\">\n      <th></th>\n      <th>order_id</th>\n      <th>user_id</th>\n      <th>eval_set</th>\n      <th>order_number</th>\n      <th>order_dow</th>\n      <th>order_hour_of_day</th>\n      <th>days_since_prior_order</th>\n      <th>tip</th>\n      <th>product_id</th>\n      <th>add_to_cart_order</th>\n      <th>reordered</th>\n      <th>product_name</th>\n      <th>aisle_id</th>\n      <th>department_id</th>\n      <th>aisle</th>\n      <th>department</th>\n    </tr>\n  </thead>\n  <tbody>\n    <tr>\n      <th>70</th>\n      <td>2168274</td>\n      <td>2</td>\n      <td>prior</td>\n      <td>1</td>\n      <td>2</td>\n      <td>11</td>\n      <td>NaN</td>\n      <td>0.0</td>\n      <td>32792</td>\n      <td>1</td>\n      <td>0</td>\n      <td>Chipotle Beef &amp; Pork Realstick</td>\n      <td>23</td>\n      <td>19</td>\n      <td>popcorn jerky</td>\n      <td>snacks</td>\n    </tr>\n    <tr>\n      <th>71</th>\n      <td>2168274</td>\n      <td>2</td>\n      <td>prior</td>\n      <td>1</td>\n      <td>2</td>\n      <td>11</td>\n      <td>NaN</td>\n      <td>0.0</td>\n      <td>47766</td>\n      <td>2</td>\n      <td>0</td>\n      <td>Organic Avocado</td>\n      <td>24</td>\n      <td>4</td>\n      <td>fresh fruits</td>\n      <td>produce</td>\n    </tr>\n    <tr>\n      <th>72</th>\n      <td>2168274</td>\n      <td>2</td>\n      <td>prior</td>\n      <td>1</td>\n      <td>2</td>\n      <td>11</td>\n      <td>NaN</td>\n      <td>0.0</td>\n      <td>20574</td>\n      <td>3</td>\n      <td>0</td>\n      <td>Roasted Turkey</td>\n      <td>96</td>\n      <td>20</td>\n      <td>lunch meat</td>\n      <td>deli</td>\n    </tr>\n    <tr>\n      <th>73</th>\n      <td>2168274</td>\n      <td>2</td>\n      <td>prior</td>\n      <td>1</td>\n      <td>2</td>\n      <td>11</td>\n      <td>NaN</td>\n      <td>0.0</td>\n      <td>12000</td>\n      <td>4</td>\n      <td>0</td>\n      <td>Baked Organic Sea Salt Crunchy Pea Snack</td>\n      <td>72</td>\n      <td>13</td>\n      <td>condiments</td>\n      <td>pantry</td>\n    </tr>\n    <tr>\n      <th>74</th>\n      <td>2168274</td>\n      <td>2</td>\n      <td>prior</td>\n      <td>1</td>\n      <td>2</td>\n      <td>11</td>\n      <td>NaN</td>\n      <td>0.0</td>\n      <td>48110</td>\n      <td>5</td>\n      <td>0</td>\n      <td>Thin Stackers Brown Rice Lightly Salted</td>\n      <td>78</td>\n      <td>19</td>\n      <td>crackers</td>\n      <td>snacks</td>\n    </tr>\n    <tr>\n      <th>75</th>\n      <td>2168274</td>\n      <td>2</td>\n      <td>prior</td>\n      <td>1</td>\n      <td>2</td>\n      <td>11</td>\n      <td>NaN</td>\n      <td>0.0</td>\n      <td>22474</td>\n      <td>6</td>\n      <td>0</td>\n      <td>Cheddar Bunnies Snack Crackers</td>\n      <td>78</td>\n      <td>19</td>\n      <td>crackers</td>\n      <td>snacks</td>\n    </tr>\n    <tr>\n      <th>76</th>\n      <td>2168274</td>\n      <td>2</td>\n      <td>prior</td>\n      <td>1</td>\n      <td>2</td>\n      <td>11</td>\n      <td>NaN</td>\n      <td>0.0</td>\n      <td>16589</td>\n      <td>7</td>\n      <td>0</td>\n      <td>Plantain Chips</td>\n      <td>107</td>\n      <td>19</td>\n      <td>chips pretzels</td>\n      <td>snacks</td>\n    </tr>\n    <tr>\n      <th>77</th>\n      <td>2168274</td>\n      <td>2</td>\n      <td>prior</td>\n      <td>1</td>\n      <td>2</td>\n      <td>11</td>\n      <td>NaN</td>\n      <td>0.0</td>\n      <td>35917</td>\n      <td>8</td>\n      <td>0</td>\n      <td>Organic Just Concord Grape Juice</td>\n      <td>98</td>\n      <td>7</td>\n      <td>juice nectars</td>\n      <td>beverages</td>\n    </tr>\n    <tr>\n      <th>78</th>\n      <td>2168274</td>\n      <td>2</td>\n      <td>prior</td>\n      <td>1</td>\n      <td>2</td>\n      <td>11</td>\n      <td>NaN</td>\n      <td>0.0</td>\n      <td>27344</td>\n      <td>9</td>\n      <td>0</td>\n      <td>Uncured Genoa Salami</td>\n      <td>96</td>\n      <td>20</td>\n      <td>lunch meat</td>\n      <td>deli</td>\n    </tr>\n    <tr>\n      <th>79</th>\n      <td>2168274</td>\n      <td>2</td>\n      <td>prior</td>\n      <td>1</td>\n      <td>2</td>\n      <td>11</td>\n      <td>NaN</td>\n      <td>0.0</td>\n      <td>30489</td>\n      <td>10</td>\n      <td>0</td>\n      <td>Original Hummus</td>\n      <td>67</td>\n      <td>20</td>\n      <td>fresh dips tapenades</td>\n      <td>deli</td>\n    </tr>\n    <tr>\n      <th>80</th>\n      <td>2168274</td>\n      <td>2</td>\n      <td>prior</td>\n      <td>1</td>\n      <td>2</td>\n      <td>11</td>\n      <td>NaN</td>\n      <td>0.0</td>\n      <td>27966</td>\n      <td>11</td>\n      <td>0</td>\n      <td>Organic Raspberries</td>\n      <td>123</td>\n      <td>4</td>\n      <td>packaged vegetables fruits</td>\n      <td>produce</td>\n    </tr>\n    <tr>\n      <th>81</th>\n      <td>2168274</td>\n      <td>2</td>\n      <td>prior</td>\n      <td>1</td>\n      <td>2</td>\n      <td>11</td>\n      <td>NaN</td>\n      <td>0.0</td>\n      <td>13176</td>\n      <td>12</td>\n      <td>0</td>\n      <td>Bag of Organic Bananas</td>\n      <td>24</td>\n      <td>4</td>\n      <td>fresh fruits</td>\n      <td>produce</td>\n    </tr>\n    <tr>\n      <th>82</th>\n      <td>2168274</td>\n      <td>2</td>\n      <td>prior</td>\n      <td>1</td>\n      <td>2</td>\n      <td>11</td>\n      <td>NaN</td>\n      <td>0.0</td>\n      <td>45066</td>\n      <td>13</td>\n      <td>0</td>\n      <td>Honeycrisp Apple</td>\n      <td>24</td>\n      <td>4</td>\n      <td>fresh fruits</td>\n      <td>produce</td>\n    </tr>\n  </tbody>\n</table>\n</div>"
     },
     "execution_count": 14,
     "metadata": {},
     "output_type": "execute_result"
    }
   ],
   "source": [
    "print(f\"Order size example: {order_size[order_size['order_id'] == 2168274]['order_size'].values[0]}\")\n",
    "orders_joined[orders_joined['order_id'] == 2168274]"
   ]
  },
  {
   "cell_type": "code",
   "outputs": [],
   "source": [
    "orders_joined = data_manager.get_orders_joined()\n",
    "test = orders_joined.iloc[:1000]\n",
    "orders_tip = data_manager.get_orders_tip().copy()\n",
    "\n",
    "\n",
    "# def cumulative_union_1(user_orders):\n",
    "#     cumulative_products = set()\n",
    "#     for idx, order in user_orders.iterrows():\n",
    "#         prev_tipped_products = cumulative_products.intersection(order['products'])\n",
    "#         user_orders.at[idx, 'prev_tipped_products_ratio'] = len(prev_tipped_products) / len(order['products'])\n",
    "#         if order['tip'] == 1.0:\n",
    "#             cumulative_products.update(order['products'])\n",
    "#     return user_orders\n",
    "# \n",
    "# \n",
    "# grouped = (test.groupby(['user_id', 'order_number', 'order_id']).agg(\n",
    "#     products=('product_id', lambda x: set(x)), tip=('tip', 'first'))).reset_index()\n",
    "# \n",
    "# grouped = grouped.groupby('user_id').apply(cumulative_union_1, include_groups=False).reset_index(\n",
    "#     drop=False).drop(columns='level_1')\n",
    "# \n",
    "# final = pd.merge(orders_tip.drop('prev_tipped_products_ratio', axis=1),\n",
    "#                  grouped[['user_id', 'order_number', 'prev_tipped_products_ratio']],\n",
    "#                  on=['user_id', 'order_number'],\n",
    "#                  how='left')\n",
    "# # grouped_1.head(25)\n",
    "# final.head(25)"
   ],
   "metadata": {
    "collapsed": false,
    "ExecuteTime": {
     "end_time": "2024-05-27T16:01:00.666343700Z",
     "start_time": "2024-05-27T16:01:00.536848200Z"
    }
   },
   "id": "bb72304692feec72",
   "execution_count": 15
  },
  {
   "cell_type": "code",
   "outputs": [],
   "source": [
    "# final.head(87).equals(orders_tip.head(87))"
   ],
   "metadata": {
    "collapsed": false,
    "ExecuteTime": {
     "end_time": "2024-05-27T16:01:00.667545100Z",
     "start_time": "2024-05-27T16:01:00.592834400Z"
    }
   },
   "id": "e67739bcd5a83912",
   "execution_count": 16
  },
  {
   "cell_type": "markdown",
   "id": "d571331aa19136d5",
   "metadata": {
    "collapsed": false
   },
   "source": [
    "### Analysis"
   ]
  },
  {
   "cell_type": "markdown",
   "id": "9038d3d52fbf8ad1",
   "metadata": {
    "collapsed": false
   },
   "source": [
    "### Model Training & Evaluation"
   ]
  },
  {
   "cell_type": "code",
   "execution_count": 16,
   "id": "a9f00ea58f4da04e",
   "metadata": {
    "collapsed": false,
    "ExecuteTime": {
     "end_time": "2024-05-27T16:01:00.667545100Z",
     "start_time": "2024-05-27T16:01:00.596031200Z"
    }
   },
   "outputs": [],
   "source": []
  }
 ],
 "metadata": {
  "kernelspec": {
   "name": "python3",
   "language": "python",
   "display_name": "Python 3 (ipykernel)"
  },
  "language_info": {
   "codemirror_mode": {
    "name": "ipython",
    "version": 3
   },
   "file_extension": ".py",
   "mimetype": "text/x-python",
   "name": "python",
   "nbconvert_exporter": "python",
   "pygments_lexer": "ipython3",
   "version": "3.11.8"
  }
 },
 "nbformat": 4,
 "nbformat_minor": 5
}
