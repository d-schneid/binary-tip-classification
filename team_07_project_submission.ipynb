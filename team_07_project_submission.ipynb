{
 "cells": [
  {
   "cell_type": "markdown",
   "id": "7aea19f30bc2952",
   "metadata": {
    "collapsed": false,
    "jupyter": {
     "outputs_hidden": false
    }
   },
   "source": [
    "# Data Science Project SoSe 2024\n",
    "## Team 07\n",
    "- Maximilian Hoffmann\n",
    "- Kilian Kempf\n",
    "- Daniel Schneider\n",
    "- Tom Schuck\n",
    "\n",
    "## Project Submission"
   ]
  },
  {
   "cell_type": "markdown",
   "id": "ca8cc580026f3fef",
   "metadata": {
    "collapsed": false,
    "editable": true,
    "jupyter": {
     "outputs_hidden": false
    },
    "slideshow": {
     "slide_type": ""
    },
    "tags": []
   },
   "source": [
    "### Libraries"
   ]
  },
  {
   "cell_type": "code",
   "id": "5399994cdb897a19",
   "metadata": {
    "collapsed": false,
    "jupyter": {
     "outputs_hidden": false
    },
    "ExecuteTime": {
     "end_time": "2024-05-27T07:25:52.115306Z",
     "start_time": "2024-05-27T07:25:50.232994Z"
    }
   },
   "source": [
    "import os\n",
    "\n",
    "import pandas as pd\n",
    "\n",
    "from feature_engineering import DataStore\n",
    "from feature_engineering.features import TipHistory, ReorderedRatio, DynamicFeatureTest1, DynamicFeatureTest2, \\\n",
    "    OrderSize, ModeDepartment, PrevTippedProductsRatio, SumDaysSincePriorOrder, AvgSizePrevOrders, CustomerLifetime, PrevOrderTipped"
   ],
   "outputs": [],
   "execution_count": 1
  },
  {
   "cell_type": "markdown",
   "id": "e005baf037784d82",
   "metadata": {
    "collapsed": false,
    "ExecuteTime": {
     "end_time": "2024-05-26T08:59:54.949917200Z",
     "start_time": "2024-05-26T08:59:54.360291200Z"
    }
   },
   "id": "5399994cdb897a19",
   "execution_count": 1
  },
  {
   "cell_type": "markdown",
   "source": [
    "### Data Preparation"
   ]
  },
  {
   "cell_type": "code",
   "id": "798fe3fb4dfde84f",
   "metadata": {
    "collapsed": false,
    "jupyter": {
     "outputs_hidden": false
    },
    "ExecuteTime": {
     "end_time": "2024-05-27T07:26:14.949905Z",
     "start_time": "2024-05-27T07:25:52.116290Z"
    }
   },
   "source": [
    "DATA_DIR = os.path.join(os.getcwd(), 'data/Instacart')\n",
    "\n",
    "op_prior = pd.read_csv(os.path.join(DATA_DIR, 'order_products__prior.csv.zip'))\n",
    "op_train = pd.read_csv(os.path.join(DATA_DIR, 'order_products__train.csv.zip'))\n",
    "\n",
    "tip_train = pd.read_csv(os.path.join(DATA_DIR, 'tip_trainingsdaten1_.csv'))[['order_id', 'tip']]\n",
    "tip_test = pd.read_csv(os.path.join(DATA_DIR, 'tip_testdaten1_template.csv'))\n",
    "\n",
    "orders = pd.read_csv(os.path.join(DATA_DIR, 'orders.csv.zip'))\n",
    "aisles = pd.read_csv(os.path.join(DATA_DIR, 'aisles.csv.zip'))\n",
    "departments = pd.read_csv(os.path.join(DATA_DIR, 'departments.csv.zip'))\n",
    "products = pd.read_csv(os.path.join(DATA_DIR, 'products.csv.zip'))\n",
    "\n",
    "data_store = DataStore(op_prior, op_train, tip_train, tip_test, orders, products, aisles, departments)\n",
    "order_amount = len(data_store.get_orders_tip())"
   ],
   "outputs": [],
   "execution_count": 2
  },
  {
   "cell_type": "markdown",
   "id": "22f7b3b298dcb099",
   "metadata": {
    "collapsed": false,
    "ExecuteTime": {
     "end_time": "2024-05-26T09:00:20.533386100Z",
     "start_time": "2024-05-26T08:59:54.954251600Z"
    }
   },
   "id": "798fe3fb4dfde84f",
   "execution_count": 2
  },
  {
   "cell_type": "markdown",
   "source": [
    "### Feature Engineering"
   ]
  },
  {
   "cell_type": "code",
   "id": "473bbf1a8175da60",
   "metadata": {
    "collapsed": false,
    "jupyter": {
     "outputs_hidden": false
    },
    "ExecuteTime": {
     "end_time": "2024-05-27T07:28:47.314810Z",
     "start_time": "2024-05-27T07:27:27.604990Z"
    }
   },
   "source": [
    "features = ['order_number', 'order_dow', 'order_hour_of_day', 'days_since_prior_order', 'tip_history',\n",
    "            'reordered_ratio', 'order_size', 'mode_dept', 'prev_tipped_products_ratio', 'sum_days_since_prior_order', 'avg_size_prev_orders']\n",
    "\n",
    "tip_history = TipHistory(data_store)\n",
    "reordered_rate = ReorderedRatio(data_store)\n",
    "order_size = OrderSize(data_store)\n",
    "mode_dept = ModeDepartment(data_store)\n",
    "prev_tipped_products_ratio = PrevTippedProductsRatio(data_store)\n",
    "customer_lifetime = CustomerLifetime(data_store)\n",
    "prev_order_tipped = PrevOrderTipped(data_store)\n",
    "sum_days_since_prior_order = SumDaysSincePriorOrder(data_store)\n",
    "avg_size_prev_orders = AvgSizePrevOrders(data_store)\n",
    "\n",
    "# Static Features\n",
    "tip_history.compute_feature()\n",
    "reordered_rate.compute_feature()\n",
    "order_size.compute_feature()\n",
    "customer_lifetime.compute_feature()\n",
    "prev_order_tipped.compute_feature()\n",
    "# mode_dept.compute_feature()\n",
    "# prev_tipped_products_ratio.compute_feature()"
   ],
   "outputs": [],
   "execution_count": 3
  },
  {
   "cell_type": "code",
   "id": "907f017c5bcc3ff5",
   "metadata": {
    "collapsed": false,
    "jupyter": {
     "outputs_hidden": false
    },
    "ExecuteTime": {
     "end_time": "2024-05-26T09:00:28.484058Z",
     "start_time": "2024-05-26T09:00:20.534483Z"
    }
   },
   "id": "473bbf1a8175da60",
   "execution_count": 3
  },
  {
   "cell_type": "code",
   "outputs": [
    {
     "data": {
      "text/plain": "    order_id  user_id eval_set  order_number  order_dow  order_hour_of_day  \\\n0    2539329        1    prior             1          2                  8   \n1    2398795        1    prior             2          3                  7   \n2     473747        1    prior             3          3                 12   \n3    2254736        1    prior             4          4                  7   \n4     431534        1    prior             5          4                 15   \n5    3367565        1    prior             6          2                  7   \n6     550135        1    prior             7          1                  9   \n7    3108588        1    prior             8          1                 14   \n8    2295261        1    prior             9          1                 16   \n9    2550362        1    prior            10          4                  8   \n10   1187899        1    train            11          4                  8   \n11   2168274        2    prior             1          2                 11   \n12   1501582        2    prior             2          5                 10   \n13   1901567        2    prior             3          1                 10   \n14    738281        2    prior             4          2                 10   \n15   1673511        2    prior             5          3                 11   \n16   1199898        2    prior             6          2                  9   \n17   3194192        2    prior             7          2                 12   \n18    788338        2    prior             8          1                 15   \n19   1718559        2    prior             9          2                  9   \n20   1447487        2    prior            10          1                 11   \n21   1402090        2    prior            11          1                 10   \n22   3186735        2    prior            12          1                  9   \n23   3268552        2    prior            13          4                 11   \n24    839880        2    prior            14          3                 10   \n\n    days_since_prior_order  tip  tip_history  reordered_ratio  order_size  \\\n0                       -1  0.0    -1.000000         0.000000           5   \n1                       15  0.0     0.000000         0.500000           6   \n2                       21  0.0     0.000000         0.600000           5   \n3                       29  0.0     0.000000         1.000000           5   \n4                       28  0.0     0.000000         0.625000           8   \n5                       19  0.0     0.000000         1.000000           4   \n6                       20  0.0     0.000000         1.000000           5   \n7                       14  0.0     0.000000         0.666667           6   \n8                        0  0.0     0.000000         1.000000           6   \n9                       30  0.0     0.000000         0.666667           9   \n10                      14  NaN     0.000000         0.909091          11   \n11                      -1  0.0    -1.000000         0.000000          13   \n12                      10  0.0     0.000000         0.166667           6   \n13                       3  1.0     0.000000         0.600000           5   \n14                       8  0.0     0.333333         0.076923          13   \n15                       8  1.0     0.250000         0.076923          13   \n16                      13  0.0     0.400000         0.571429          21   \n17                      14  1.0     0.333333         0.785714          14   \n18                      27  1.0     0.428571         0.562500          16   \n19                       8  1.0     0.500000         0.538462          26   \n20                       6  1.0     0.555556         0.888889           9   \n21                      30  1.0     0.600000         0.800000          15   \n22                      28  1.0     0.636364         0.578947          19   \n23                      30  0.0     0.666667         0.000000           9   \n24                      13  0.0     0.615385         0.625000          16   \n\n    customer_lifetime prev_order_tipped  \n0                   0                -1  \n1                  15               0.0  \n2                  36               0.0  \n3                  65               0.0  \n4                  93               0.0  \n5                 112               0.0  \n6                 132               0.0  \n7                 146               0.0  \n8                 146               0.0  \n9                 176               0.0  \n10                190               0.0  \n11                  0                -1  \n12                 10               0.0  \n13                 13               0.0  \n14                 21               1.0  \n15                 29               0.0  \n16                 42               1.0  \n17                 56               0.0  \n18                 83               1.0  \n19                 91               1.0  \n20                 97               1.0  \n21                127               1.0  \n22                155               1.0  \n23                185               1.0  \n24                198               0.0  ",
      "text/html": "<div>\n<style scoped>\n    .dataframe tbody tr th:only-of-type {\n        vertical-align: middle;\n    }\n\n    .dataframe tbody tr th {\n        vertical-align: top;\n    }\n\n    .dataframe thead th {\n        text-align: right;\n    }\n</style>\n<table border=\"1\" class=\"dataframe\">\n  <thead>\n    <tr style=\"text-align: right;\">\n      <th></th>\n      <th>order_id</th>\n      <th>user_id</th>\n      <th>eval_set</th>\n      <th>order_number</th>\n      <th>order_dow</th>\n      <th>order_hour_of_day</th>\n      <th>days_since_prior_order</th>\n      <th>tip</th>\n      <th>tip_history</th>\n      <th>reordered_ratio</th>\n      <th>order_size</th>\n      <th>customer_lifetime</th>\n      <th>prev_order_tipped</th>\n    </tr>\n  </thead>\n  <tbody>\n    <tr>\n      <th>0</th>\n      <td>2539329</td>\n      <td>1</td>\n      <td>prior</td>\n      <td>1</td>\n      <td>2</td>\n      <td>8</td>\n      <td>-1</td>\n      <td>0.0</td>\n      <td>-1.000000</td>\n      <td>0.000000</td>\n      <td>5</td>\n      <td>0</td>\n      <td>-1</td>\n    </tr>\n    <tr>\n      <th>1</th>\n      <td>2398795</td>\n      <td>1</td>\n      <td>prior</td>\n      <td>2</td>\n      <td>3</td>\n      <td>7</td>\n      <td>15</td>\n      <td>0.0</td>\n      <td>0.000000</td>\n      <td>0.500000</td>\n      <td>6</td>\n      <td>15</td>\n      <td>0.0</td>\n    </tr>\n    <tr>\n      <th>2</th>\n      <td>473747</td>\n      <td>1</td>\n      <td>prior</td>\n      <td>3</td>\n      <td>3</td>\n      <td>12</td>\n      <td>21</td>\n      <td>0.0</td>\n      <td>0.000000</td>\n      <td>0.600000</td>\n      <td>5</td>\n      <td>36</td>\n      <td>0.0</td>\n    </tr>\n    <tr>\n      <th>3</th>\n      <td>2254736</td>\n      <td>1</td>\n      <td>prior</td>\n      <td>4</td>\n      <td>4</td>\n      <td>7</td>\n      <td>29</td>\n      <td>0.0</td>\n      <td>0.000000</td>\n      <td>1.000000</td>\n      <td>5</td>\n      <td>65</td>\n      <td>0.0</td>\n    </tr>\n    <tr>\n      <th>4</th>\n      <td>431534</td>\n      <td>1</td>\n      <td>prior</td>\n      <td>5</td>\n      <td>4</td>\n      <td>15</td>\n      <td>28</td>\n      <td>0.0</td>\n      <td>0.000000</td>\n      <td>0.625000</td>\n      <td>8</td>\n      <td>93</td>\n      <td>0.0</td>\n    </tr>\n    <tr>\n      <th>5</th>\n      <td>3367565</td>\n      <td>1</td>\n      <td>prior</td>\n      <td>6</td>\n      <td>2</td>\n      <td>7</td>\n      <td>19</td>\n      <td>0.0</td>\n      <td>0.000000</td>\n      <td>1.000000</td>\n      <td>4</td>\n      <td>112</td>\n      <td>0.0</td>\n    </tr>\n    <tr>\n      <th>6</th>\n      <td>550135</td>\n      <td>1</td>\n      <td>prior</td>\n      <td>7</td>\n      <td>1</td>\n      <td>9</td>\n      <td>20</td>\n      <td>0.0</td>\n      <td>0.000000</td>\n      <td>1.000000</td>\n      <td>5</td>\n      <td>132</td>\n      <td>0.0</td>\n    </tr>\n    <tr>\n      <th>7</th>\n      <td>3108588</td>\n      <td>1</td>\n      <td>prior</td>\n      <td>8</td>\n      <td>1</td>\n      <td>14</td>\n      <td>14</td>\n      <td>0.0</td>\n      <td>0.000000</td>\n      <td>0.666667</td>\n      <td>6</td>\n      <td>146</td>\n      <td>0.0</td>\n    </tr>\n    <tr>\n      <th>8</th>\n      <td>2295261</td>\n      <td>1</td>\n      <td>prior</td>\n      <td>9</td>\n      <td>1</td>\n      <td>16</td>\n      <td>0</td>\n      <td>0.0</td>\n      <td>0.000000</td>\n      <td>1.000000</td>\n      <td>6</td>\n      <td>146</td>\n      <td>0.0</td>\n    </tr>\n    <tr>\n      <th>9</th>\n      <td>2550362</td>\n      <td>1</td>\n      <td>prior</td>\n      <td>10</td>\n      <td>4</td>\n      <td>8</td>\n      <td>30</td>\n      <td>0.0</td>\n      <td>0.000000</td>\n      <td>0.666667</td>\n      <td>9</td>\n      <td>176</td>\n      <td>0.0</td>\n    </tr>\n    <tr>\n      <th>10</th>\n      <td>1187899</td>\n      <td>1</td>\n      <td>train</td>\n      <td>11</td>\n      <td>4</td>\n      <td>8</td>\n      <td>14</td>\n      <td>NaN</td>\n      <td>0.000000</td>\n      <td>0.909091</td>\n      <td>11</td>\n      <td>190</td>\n      <td>0.0</td>\n    </tr>\n    <tr>\n      <th>11</th>\n      <td>2168274</td>\n      <td>2</td>\n      <td>prior</td>\n      <td>1</td>\n      <td>2</td>\n      <td>11</td>\n      <td>-1</td>\n      <td>0.0</td>\n      <td>-1.000000</td>\n      <td>0.000000</td>\n      <td>13</td>\n      <td>0</td>\n      <td>-1</td>\n    </tr>\n    <tr>\n      <th>12</th>\n      <td>1501582</td>\n      <td>2</td>\n      <td>prior</td>\n      <td>2</td>\n      <td>5</td>\n      <td>10</td>\n      <td>10</td>\n      <td>0.0</td>\n      <td>0.000000</td>\n      <td>0.166667</td>\n      <td>6</td>\n      <td>10</td>\n      <td>0.0</td>\n    </tr>\n    <tr>\n      <th>13</th>\n      <td>1901567</td>\n      <td>2</td>\n      <td>prior</td>\n      <td>3</td>\n      <td>1</td>\n      <td>10</td>\n      <td>3</td>\n      <td>1.0</td>\n      <td>0.000000</td>\n      <td>0.600000</td>\n      <td>5</td>\n      <td>13</td>\n      <td>0.0</td>\n    </tr>\n    <tr>\n      <th>14</th>\n      <td>738281</td>\n      <td>2</td>\n      <td>prior</td>\n      <td>4</td>\n      <td>2</td>\n      <td>10</td>\n      <td>8</td>\n      <td>0.0</td>\n      <td>0.333333</td>\n      <td>0.076923</td>\n      <td>13</td>\n      <td>21</td>\n      <td>1.0</td>\n    </tr>\n    <tr>\n      <th>15</th>\n      <td>1673511</td>\n      <td>2</td>\n      <td>prior</td>\n      <td>5</td>\n      <td>3</td>\n      <td>11</td>\n      <td>8</td>\n      <td>1.0</td>\n      <td>0.250000</td>\n      <td>0.076923</td>\n      <td>13</td>\n      <td>29</td>\n      <td>0.0</td>\n    </tr>\n    <tr>\n      <th>16</th>\n      <td>1199898</td>\n      <td>2</td>\n      <td>prior</td>\n      <td>6</td>\n      <td>2</td>\n      <td>9</td>\n      <td>13</td>\n      <td>0.0</td>\n      <td>0.400000</td>\n      <td>0.571429</td>\n      <td>21</td>\n      <td>42</td>\n      <td>1.0</td>\n    </tr>\n    <tr>\n      <th>17</th>\n      <td>3194192</td>\n      <td>2</td>\n      <td>prior</td>\n      <td>7</td>\n      <td>2</td>\n      <td>12</td>\n      <td>14</td>\n      <td>1.0</td>\n      <td>0.333333</td>\n      <td>0.785714</td>\n      <td>14</td>\n      <td>56</td>\n      <td>0.0</td>\n    </tr>\n    <tr>\n      <th>18</th>\n      <td>788338</td>\n      <td>2</td>\n      <td>prior</td>\n      <td>8</td>\n      <td>1</td>\n      <td>15</td>\n      <td>27</td>\n      <td>1.0</td>\n      <td>0.428571</td>\n      <td>0.562500</td>\n      <td>16</td>\n      <td>83</td>\n      <td>1.0</td>\n    </tr>\n    <tr>\n      <th>19</th>\n      <td>1718559</td>\n      <td>2</td>\n      <td>prior</td>\n      <td>9</td>\n      <td>2</td>\n      <td>9</td>\n      <td>8</td>\n      <td>1.0</td>\n      <td>0.500000</td>\n      <td>0.538462</td>\n      <td>26</td>\n      <td>91</td>\n      <td>1.0</td>\n    </tr>\n    <tr>\n      <th>20</th>\n      <td>1447487</td>\n      <td>2</td>\n      <td>prior</td>\n      <td>10</td>\n      <td>1</td>\n      <td>11</td>\n      <td>6</td>\n      <td>1.0</td>\n      <td>0.555556</td>\n      <td>0.888889</td>\n      <td>9</td>\n      <td>97</td>\n      <td>1.0</td>\n    </tr>\n    <tr>\n      <th>21</th>\n      <td>1402090</td>\n      <td>2</td>\n      <td>prior</td>\n      <td>11</td>\n      <td>1</td>\n      <td>10</td>\n      <td>30</td>\n      <td>1.0</td>\n      <td>0.600000</td>\n      <td>0.800000</td>\n      <td>15</td>\n      <td>127</td>\n      <td>1.0</td>\n    </tr>\n    <tr>\n      <th>22</th>\n      <td>3186735</td>\n      <td>2</td>\n      <td>prior</td>\n      <td>12</td>\n      <td>1</td>\n      <td>9</td>\n      <td>28</td>\n      <td>1.0</td>\n      <td>0.636364</td>\n      <td>0.578947</td>\n      <td>19</td>\n      <td>155</td>\n      <td>1.0</td>\n    </tr>\n    <tr>\n      <th>23</th>\n      <td>3268552</td>\n      <td>2</td>\n      <td>prior</td>\n      <td>13</td>\n      <td>4</td>\n      <td>11</td>\n      <td>30</td>\n      <td>0.0</td>\n      <td>0.666667</td>\n      <td>0.000000</td>\n      <td>9</td>\n      <td>185</td>\n      <td>1.0</td>\n    </tr>\n    <tr>\n      <th>24</th>\n      <td>839880</td>\n      <td>2</td>\n      <td>prior</td>\n      <td>14</td>\n      <td>3</td>\n      <td>10</td>\n      <td>13</td>\n      <td>0.0</td>\n      <td>0.615385</td>\n      <td>0.625000</td>\n      <td>16</td>\n      <td>198</td>\n      <td>0.0</td>\n    </tr>\n  </tbody>\n</table>\n</div>"
     },
     "execution_count": 4,
     "metadata": {},
     "output_type": "execute_result"
    }
   ],
   "execution_count": 4
  },
  {
   "cell_type": "code",
   "execution_count": 6,
   "id": "366fe5b46fbad39e",
   "metadata": {
    "ExecuteTime": {
     "end_time": "2024-05-26T09:00:28.499959800Z",
     "start_time": "2024-05-26T09:00:28.486256700Z"
    }
   },
   "id": "907f017c5bcc3ff5",
   "execution_count": 4
  },
  {
   "cell_type": "code",
   "outputs": [
    {
     "data": {
      "text/plain": "    order_id  user_id eval_set  order_number  order_dow  order_hour_of_day  \\\n0    2539329        1    prior             1          2                  8   \n1    2398795        1    prior             2          3                  7   \n2     473747        1    prior             3          3                 12   \n3    2254736        1    prior             4          4                  7   \n4     431534        1    prior             5          4                 15   \n5    3367565        1    prior             6          2                  7   \n6     550135        1    prior             7          1                  9   \n7    3108588        1    prior             8          1                 14   \n8    2295261        1    prior             9          1                 16   \n9    2550362        1    prior            10          4                  8   \n10   1187899        1    train            11          4                  8   \n11   2168274        2    prior             1          2                 11   \n12   1501582        2    prior             2          5                 10   \n13   1901567        2    prior             3          1                 10   \n14    738281        2    prior             4          2                 10   \n15   1673511        2    prior             5          3                 11   \n16   1199898        2    prior             6          2                  9   \n17   3194192        2    prior             7          2                 12   \n18    788338        2    prior             8          1                 15   \n19   1718559        2    prior             9          2                  9   \n20   1447487        2    prior            10          1                 11   \n21   1402090        2    prior            11          1                 10   \n22   3186735        2    prior            12          1                  9   \n23   3268552        2    prior            13          4                 11   \n24    839880        2    prior            14          3                 10   \n\n    days_since_prior_order  tip  tip_history  reordered_ratio  order_size  \n0                       -1  0.0    -1.000000         0.000000           5  \n1                       15  0.0     0.000000         0.500000           6  \n2                       21  0.0     0.000000         0.600000           5  \n3                       29  0.0     0.000000         1.000000           5  \n4                       28  0.0     0.000000         0.625000           8  \n5                       19  0.0     0.000000         1.000000           4  \n6                       20  0.0     0.000000         1.000000           5  \n7                       14  0.0     0.000000         0.666667           6  \n8                        0  0.0     0.000000         1.000000           6  \n9                       30  0.0     0.000000         0.666667           9  \n10                      14  NaN     0.000000         0.909091          11  \n11                      -1  0.0    -1.000000         0.000000          13  \n12                      10  0.0     0.000000         0.166667           6  \n13                       3  1.0     0.000000         0.600000           5  \n14                       8  0.0     0.333333         0.076923          13  \n15                       8  1.0     0.250000         0.076923          13  \n16                      13  0.0     0.400000         0.571429          21  \n17                      14  1.0     0.333333         0.785714          14  \n18                      27  1.0     0.428571         0.562500          16  \n19                       8  1.0     0.500000         0.538462          26  \n20                       6  1.0     0.555556         0.888889           9  \n21                      30  1.0     0.600000         0.800000          15  \n22                      28  1.0     0.636364         0.578947          19  \n23                      30  0.0     0.666667         0.000000           9  \n24                      13  0.0     0.615385         0.625000          16  ",
      "text/html": "<div>\n<style scoped>\n    .dataframe tbody tr th:only-of-type {\n        vertical-align: middle;\n    }\n\n    .dataframe tbody tr th {\n        vertical-align: top;\n    }\n\n    .dataframe thead th {\n        text-align: right;\n    }\n</style>\n<table border=\"1\" class=\"dataframe\">\n  <thead>\n    <tr style=\"text-align: right;\">\n      <th></th>\n      <th>order_id</th>\n      <th>user_id</th>\n      <th>eval_set</th>\n      <th>order_number</th>\n      <th>order_dow</th>\n      <th>order_hour_of_day</th>\n      <th>days_since_prior_order</th>\n      <th>tip</th>\n      <th>tip_history</th>\n      <th>reordered_ratio</th>\n      <th>order_size</th>\n    </tr>\n  </thead>\n  <tbody>\n    <tr>\n      <th>0</th>\n      <td>2539329</td>\n      <td>1</td>\n      <td>prior</td>\n      <td>1</td>\n      <td>2</td>\n      <td>8</td>\n      <td>-1</td>\n      <td>0.0</td>\n      <td>-1.000000</td>\n      <td>0.000000</td>\n      <td>5</td>\n    </tr>\n    <tr>\n      <th>1</th>\n      <td>2398795</td>\n      <td>1</td>\n      <td>prior</td>\n      <td>2</td>\n      <td>3</td>\n      <td>7</td>\n      <td>15</td>\n      <td>0.0</td>\n      <td>0.000000</td>\n      <td>0.500000</td>\n      <td>6</td>\n    </tr>\n    <tr>\n      <th>2</th>\n      <td>473747</td>\n      <td>1</td>\n      <td>prior</td>\n      <td>3</td>\n      <td>3</td>\n      <td>12</td>\n      <td>21</td>\n      <td>0.0</td>\n      <td>0.000000</td>\n      <td>0.600000</td>\n      <td>5</td>\n    </tr>\n    <tr>\n      <th>3</th>\n      <td>2254736</td>\n      <td>1</td>\n      <td>prior</td>\n      <td>4</td>\n      <td>4</td>\n      <td>7</td>\n      <td>29</td>\n      <td>0.0</td>\n      <td>0.000000</td>\n      <td>1.000000</td>\n      <td>5</td>\n    </tr>\n    <tr>\n      <th>4</th>\n      <td>431534</td>\n      <td>1</td>\n      <td>prior</td>\n      <td>5</td>\n      <td>4</td>\n      <td>15</td>\n      <td>28</td>\n      <td>0.0</td>\n      <td>0.000000</td>\n      <td>0.625000</td>\n      <td>8</td>\n    </tr>\n    <tr>\n      <th>5</th>\n      <td>3367565</td>\n      <td>1</td>\n      <td>prior</td>\n      <td>6</td>\n      <td>2</td>\n      <td>7</td>\n      <td>19</td>\n      <td>0.0</td>\n      <td>0.000000</td>\n      <td>1.000000</td>\n      <td>4</td>\n    </tr>\n    <tr>\n      <th>6</th>\n      <td>550135</td>\n      <td>1</td>\n      <td>prior</td>\n      <td>7</td>\n      <td>1</td>\n      <td>9</td>\n      <td>20</td>\n      <td>0.0</td>\n      <td>0.000000</td>\n      <td>1.000000</td>\n      <td>5</td>\n    </tr>\n    <tr>\n      <th>7</th>\n      <td>3108588</td>\n      <td>1</td>\n      <td>prior</td>\n      <td>8</td>\n      <td>1</td>\n      <td>14</td>\n      <td>14</td>\n      <td>0.0</td>\n      <td>0.000000</td>\n      <td>0.666667</td>\n      <td>6</td>\n    </tr>\n    <tr>\n      <th>8</th>\n      <td>2295261</td>\n      <td>1</td>\n      <td>prior</td>\n      <td>9</td>\n      <td>1</td>\n      <td>16</td>\n      <td>0</td>\n      <td>0.0</td>\n      <td>0.000000</td>\n      <td>1.000000</td>\n      <td>6</td>\n    </tr>\n    <tr>\n      <th>9</th>\n      <td>2550362</td>\n      <td>1</td>\n      <td>prior</td>\n      <td>10</td>\n      <td>4</td>\n      <td>8</td>\n      <td>30</td>\n      <td>0.0</td>\n      <td>0.000000</td>\n      <td>0.666667</td>\n      <td>9</td>\n    </tr>\n    <tr>\n      <th>10</th>\n      <td>1187899</td>\n      <td>1</td>\n      <td>train</td>\n      <td>11</td>\n      <td>4</td>\n      <td>8</td>\n      <td>14</td>\n      <td>NaN</td>\n      <td>0.000000</td>\n      <td>0.909091</td>\n      <td>11</td>\n    </tr>\n    <tr>\n      <th>11</th>\n      <td>2168274</td>\n      <td>2</td>\n      <td>prior</td>\n      <td>1</td>\n      <td>2</td>\n      <td>11</td>\n      <td>-1</td>\n      <td>0.0</td>\n      <td>-1.000000</td>\n      <td>0.000000</td>\n      <td>13</td>\n    </tr>\n    <tr>\n      <th>12</th>\n      <td>1501582</td>\n      <td>2</td>\n      <td>prior</td>\n      <td>2</td>\n      <td>5</td>\n      <td>10</td>\n      <td>10</td>\n      <td>0.0</td>\n      <td>0.000000</td>\n      <td>0.166667</td>\n      <td>6</td>\n    </tr>\n    <tr>\n      <th>13</th>\n      <td>1901567</td>\n      <td>2</td>\n      <td>prior</td>\n      <td>3</td>\n      <td>1</td>\n      <td>10</td>\n      <td>3</td>\n      <td>1.0</td>\n      <td>0.000000</td>\n      <td>0.600000</td>\n      <td>5</td>\n    </tr>\n    <tr>\n      <th>14</th>\n      <td>738281</td>\n      <td>2</td>\n      <td>prior</td>\n      <td>4</td>\n      <td>2</td>\n      <td>10</td>\n      <td>8</td>\n      <td>0.0</td>\n      <td>0.333333</td>\n      <td>0.076923</td>\n      <td>13</td>\n    </tr>\n    <tr>\n      <th>15</th>\n      <td>1673511</td>\n      <td>2</td>\n      <td>prior</td>\n      <td>5</td>\n      <td>3</td>\n      <td>11</td>\n      <td>8</td>\n      <td>1.0</td>\n      <td>0.250000</td>\n      <td>0.076923</td>\n      <td>13</td>\n    </tr>\n    <tr>\n      <th>16</th>\n      <td>1199898</td>\n      <td>2</td>\n      <td>prior</td>\n      <td>6</td>\n      <td>2</td>\n      <td>9</td>\n      <td>13</td>\n      <td>0.0</td>\n      <td>0.400000</td>\n      <td>0.571429</td>\n      <td>21</td>\n    </tr>\n    <tr>\n      <th>17</th>\n      <td>3194192</td>\n      <td>2</td>\n      <td>prior</td>\n      <td>7</td>\n      <td>2</td>\n      <td>12</td>\n      <td>14</td>\n      <td>1.0</td>\n      <td>0.333333</td>\n      <td>0.785714</td>\n      <td>14</td>\n    </tr>\n    <tr>\n      <th>18</th>\n      <td>788338</td>\n      <td>2</td>\n      <td>prior</td>\n      <td>8</td>\n      <td>1</td>\n      <td>15</td>\n      <td>27</td>\n      <td>1.0</td>\n      <td>0.428571</td>\n      <td>0.562500</td>\n      <td>16</td>\n    </tr>\n    <tr>\n      <th>19</th>\n      <td>1718559</td>\n      <td>2</td>\n      <td>prior</td>\n      <td>9</td>\n      <td>2</td>\n      <td>9</td>\n      <td>8</td>\n      <td>1.0</td>\n      <td>0.500000</td>\n      <td>0.538462</td>\n      <td>26</td>\n    </tr>\n    <tr>\n      <th>20</th>\n      <td>1447487</td>\n      <td>2</td>\n      <td>prior</td>\n      <td>10</td>\n      <td>1</td>\n      <td>11</td>\n      <td>6</td>\n      <td>1.0</td>\n      <td>0.555556</td>\n      <td>0.888889</td>\n      <td>9</td>\n    </tr>\n    <tr>\n      <th>21</th>\n      <td>1402090</td>\n      <td>2</td>\n      <td>prior</td>\n      <td>11</td>\n      <td>1</td>\n      <td>10</td>\n      <td>30</td>\n      <td>1.0</td>\n      <td>0.600000</td>\n      <td>0.800000</td>\n      <td>15</td>\n    </tr>\n    <tr>\n      <th>22</th>\n      <td>3186735</td>\n      <td>2</td>\n      <td>prior</td>\n      <td>12</td>\n      <td>1</td>\n      <td>9</td>\n      <td>28</td>\n      <td>1.0</td>\n      <td>0.636364</td>\n      <td>0.578947</td>\n      <td>19</td>\n    </tr>\n    <tr>\n      <th>23</th>\n      <td>3268552</td>\n      <td>2</td>\n      <td>prior</td>\n      <td>13</td>\n      <td>4</td>\n      <td>11</td>\n      <td>30</td>\n      <td>0.0</td>\n      <td>0.666667</td>\n      <td>0.000000</td>\n      <td>9</td>\n    </tr>\n    <tr>\n      <th>24</th>\n      <td>839880</td>\n      <td>2</td>\n      <td>prior</td>\n      <td>14</td>\n      <td>3</td>\n      <td>10</td>\n      <td>13</td>\n      <td>0.0</td>\n      <td>0.615385</td>\n      <td>0.625000</td>\n      <td>16</td>\n    </tr>\n  </tbody>\n</table>\n</div>"
     },
     "execution_count": 5,
     "metadata": {},
     "output_type": "execute_result"
    }
   ],
   "source": [
    "data_store.get_orders_tip_subset().head(25)"
   ]
  },
  {
   "cell_type": "code",
   "execution_count": 21,
   "id": "ed21e9e41111b301",
   "metadata": {
    "ExecuteTime": {
     "end_time": "2024-05-26T09:00:28.522034100Z",
     "start_time": "2024-05-26T09:00:28.499959800Z"
    }
   },
   "id": "366fe5b46fbad39e",
   "execution_count": 5
  },
  {
   "cell_type": "code",
   "outputs": [],
   "source": [
    "order_ids = data_store.get_orders_tip().groupby('user_id')['order_id'].head(5)\n",
    "data_store.set_data_subset(order_ids)\n",
    "\n",
    "# Dynamic Features\n",
    "\n",
    "\n"
   ],
   "metadata": {
    "collapsed": false,
    "ExecuteTime": {
     "end_time": "2024-05-26T09:00:30.656653800Z",
     "start_time": "2024-05-26T09:00:28.513633200Z"
    }
   },
   "id": "ed21e9e41111b301",
   "execution_count": 6
  },
  {
   "cell_type": "code",
   "execution_count": 7,
   "id": "82124a97baebc52",
   "metadata": {
    "ExecuteTime": {
     "end_time": "2024-05-26T09:00:30.668685400Z",
     "start_time": "2024-05-26T09:00:30.658914900Z"
    }
   },
   "outputs": [
    {
     "data": {
      "text/plain": "    order_id  user_id eval_set  order_number  order_dow  order_hour_of_day  \\\n0    2539329        1    prior             1          2                  8   \n1    2398795        1    prior             2          3                  7   \n2     473747        1    prior             3          3                 12   \n3    2254736        1    prior             4          4                  7   \n4     431534        1    prior             5          4                 15   \n11   2168274        2    prior             1          2                 11   \n12   1501582        2    prior             2          5                 10   \n13   1901567        2    prior             3          1                 10   \n14    738281        2    prior             4          2                 10   \n15   1673511        2    prior             5          3                 11   \n26   1374495        3    prior             1          1                 14   \n27    444309        3    prior             2          3                 19   \n28   3002854        3    prior             3          3                 16   \n29   2037211        3    prior             4          2                 18   \n30   2710558        3    prior             5          0                 17   \n38   3343014        4    prior             1          6                 11   \n39   2030307        4    prior             2          4                 11   \n40    691089        4    prior             3          4                 15   \n41     94891        4    prior             4          5                 13   \n42   2557754        4    prior             5          5                 13   \n43   2717275        5    prior             1          3                 12   \n44   1909121        5    prior             2          0                 16   \n45   2267326        5    prior             3          3                 18   \n46    157374        5    prior             4          1                 18   \n47   2196797        5    train             5          0                 11   \n\n    days_since_prior_order  tip  tip_history  reordered_ratio  order_size  \\\n0                       -1  0.0    -1.000000         0.000000           5   \n1                       15  0.0     0.000000         0.500000           6   \n2                       21  0.0     0.000000         0.600000           5   \n3                       29  0.0     0.000000         1.000000           5   \n4                       28  0.0     0.000000         0.625000           8   \n11                      -1  0.0    -1.000000         0.000000          13   \n12                      10  0.0     0.000000         0.166667           6   \n13                       3  1.0     0.000000         0.600000           5   \n14                       8  0.0     0.333333         0.076923          13   \n15                       8  1.0     0.250000         0.076923          13   \n26                      -1  1.0    -1.000000         0.000000          10   \n27                       9  1.0     1.000000         0.333333           9   \n28                      21  1.0     1.000000         0.500000           6   \n29                      20  1.0     1.000000         0.200000           5   \n30                      12  1.0     1.000000         0.636364          11   \n38                      -1  0.0    -1.000000         0.000000           4   \n39                      19  0.0     0.000000         0.000000           2   \n40                      21  0.0     0.000000         0.142857           7   \n41                      15  0.0     0.000000         0.000000           2   \n42                       0  0.0     0.000000         0.000000           3   \n43                      -1  0.0    -1.000000         0.000000          11   \n44                      11  1.0     0.000000         0.444444           9   \n45                      10  0.0     0.500000         0.400000           5   \n46                      19  1.0     0.333333         0.666667          12   \n47                       6  NaN     0.500000         0.444444           9   \n\n    customer_lifetime prev_order_tipped  \n0                   0                -1  \n1                  15               0.0  \n2                  36               0.0  \n3                  65               0.0  \n4                  93               0.0  \n11                  0                -1  \n12                 10               0.0  \n13                 13               0.0  \n14                 21               1.0  \n15                 29               0.0  \n26                  0                -1  \n27                  9               1.0  \n28                 30               1.0  \n29                 50               1.0  \n30                 62               1.0  \n38                  0                -1  \n39                 19               0.0  \n40                 40               0.0  \n41                 55               0.0  \n42                 55               0.0  \n43                  0                -1  \n44                 11               0.0  \n45                 21               1.0  \n46                 40               0.0  \n47                 46               1.0  ",
      "text/html": "<div>\n<style scoped>\n    .dataframe tbody tr th:only-of-type {\n        vertical-align: middle;\n    }\n\n    .dataframe tbody tr th {\n        vertical-align: top;\n    }\n\n    .dataframe thead th {\n        text-align: right;\n    }\n</style>\n<table border=\"1\" class=\"dataframe\">\n  <thead>\n    <tr style=\"text-align: right;\">\n      <th></th>\n      <th>order_id</th>\n      <th>user_id</th>\n      <th>eval_set</th>\n      <th>order_number</th>\n      <th>order_dow</th>\n      <th>order_hour_of_day</th>\n      <th>days_since_prior_order</th>\n      <th>tip</th>\n      <th>tip_history</th>\n      <th>reordered_ratio</th>\n      <th>order_size</th>\n      <th>customer_lifetime</th>\n      <th>prev_order_tipped</th>\n    </tr>\n  </thead>\n  <tbody>\n    <tr>\n      <th>0</th>\n      <td>2539329</td>\n      <td>1</td>\n      <td>prior</td>\n      <td>1</td>\n      <td>2</td>\n      <td>8</td>\n      <td>-1</td>\n      <td>0.0</td>\n      <td>-1.000000</td>\n      <td>0.000000</td>\n      <td>5</td>\n      <td>0</td>\n      <td>-1</td>\n    </tr>\n    <tr>\n      <th>1</th>\n      <td>2398795</td>\n      <td>1</td>\n      <td>prior</td>\n      <td>2</td>\n      <td>3</td>\n      <td>7</td>\n      <td>15</td>\n      <td>0.0</td>\n      <td>0.000000</td>\n      <td>0.500000</td>\n      <td>6</td>\n      <td>15</td>\n      <td>0.0</td>\n    </tr>\n    <tr>\n      <th>2</th>\n      <td>473747</td>\n      <td>1</td>\n      <td>prior</td>\n      <td>3</td>\n      <td>3</td>\n      <td>12</td>\n      <td>21</td>\n      <td>0.0</td>\n      <td>0.000000</td>\n      <td>0.600000</td>\n      <td>5</td>\n      <td>36</td>\n      <td>0.0</td>\n    </tr>\n    <tr>\n      <th>3</th>\n      <td>2254736</td>\n      <td>1</td>\n      <td>prior</td>\n      <td>4</td>\n      <td>4</td>\n      <td>7</td>\n      <td>29</td>\n      <td>0.0</td>\n      <td>0.000000</td>\n      <td>1.000000</td>\n      <td>5</td>\n      <td>65</td>\n      <td>0.0</td>\n    </tr>\n    <tr>\n      <th>4</th>\n      <td>431534</td>\n      <td>1</td>\n      <td>prior</td>\n      <td>5</td>\n      <td>4</td>\n      <td>15</td>\n      <td>28</td>\n      <td>0.0</td>\n      <td>0.000000</td>\n      <td>0.625000</td>\n      <td>8</td>\n      <td>93</td>\n      <td>0.0</td>\n    </tr>\n    <tr>\n      <th>11</th>\n      <td>2168274</td>\n      <td>2</td>\n      <td>prior</td>\n      <td>1</td>\n      <td>2</td>\n      <td>11</td>\n      <td>-1</td>\n      <td>0.0</td>\n      <td>-1.000000</td>\n      <td>0.000000</td>\n      <td>13</td>\n      <td>0</td>\n      <td>-1</td>\n    </tr>\n    <tr>\n      <th>12</th>\n      <td>1501582</td>\n      <td>2</td>\n      <td>prior</td>\n      <td>2</td>\n      <td>5</td>\n      <td>10</td>\n      <td>10</td>\n      <td>0.0</td>\n      <td>0.000000</td>\n      <td>0.166667</td>\n      <td>6</td>\n      <td>10</td>\n      <td>0.0</td>\n    </tr>\n    <tr>\n      <th>13</th>\n      <td>1901567</td>\n      <td>2</td>\n      <td>prior</td>\n      <td>3</td>\n      <td>1</td>\n      <td>10</td>\n      <td>3</td>\n      <td>1.0</td>\n      <td>0.000000</td>\n      <td>0.600000</td>\n      <td>5</td>\n      <td>13</td>\n      <td>0.0</td>\n    </tr>\n    <tr>\n      <th>14</th>\n      <td>738281</td>\n      <td>2</td>\n      <td>prior</td>\n      <td>4</td>\n      <td>2</td>\n      <td>10</td>\n      <td>8</td>\n      <td>0.0</td>\n      <td>0.333333</td>\n      <td>0.076923</td>\n      <td>13</td>\n      <td>21</td>\n      <td>1.0</td>\n    </tr>\n    <tr>\n      <th>15</th>\n      <td>1673511</td>\n      <td>2</td>\n      <td>prior</td>\n      <td>5</td>\n      <td>3</td>\n      <td>11</td>\n      <td>8</td>\n      <td>1.0</td>\n      <td>0.250000</td>\n      <td>0.076923</td>\n      <td>13</td>\n      <td>29</td>\n      <td>0.0</td>\n    </tr>\n    <tr>\n      <th>26</th>\n      <td>1374495</td>\n      <td>3</td>\n      <td>prior</td>\n      <td>1</td>\n      <td>1</td>\n      <td>14</td>\n      <td>-1</td>\n      <td>1.0</td>\n      <td>-1.000000</td>\n      <td>0.000000</td>\n      <td>10</td>\n      <td>0</td>\n      <td>-1</td>\n    </tr>\n    <tr>\n      <th>27</th>\n      <td>444309</td>\n      <td>3</td>\n      <td>prior</td>\n      <td>2</td>\n      <td>3</td>\n      <td>19</td>\n      <td>9</td>\n      <td>1.0</td>\n      <td>1.000000</td>\n      <td>0.333333</td>\n      <td>9</td>\n      <td>9</td>\n      <td>1.0</td>\n    </tr>\n    <tr>\n      <th>28</th>\n      <td>3002854</td>\n      <td>3</td>\n      <td>prior</td>\n      <td>3</td>\n      <td>3</td>\n      <td>16</td>\n      <td>21</td>\n      <td>1.0</td>\n      <td>1.000000</td>\n      <td>0.500000</td>\n      <td>6</td>\n      <td>30</td>\n      <td>1.0</td>\n    </tr>\n    <tr>\n      <th>29</th>\n      <td>2037211</td>\n      <td>3</td>\n      <td>prior</td>\n      <td>4</td>\n      <td>2</td>\n      <td>18</td>\n      <td>20</td>\n      <td>1.0</td>\n      <td>1.000000</td>\n      <td>0.200000</td>\n      <td>5</td>\n      <td>50</td>\n      <td>1.0</td>\n    </tr>\n    <tr>\n      <th>30</th>\n      <td>2710558</td>\n      <td>3</td>\n      <td>prior</td>\n      <td>5</td>\n      <td>0</td>\n      <td>17</td>\n      <td>12</td>\n      <td>1.0</td>\n      <td>1.000000</td>\n      <td>0.636364</td>\n      <td>11</td>\n      <td>62</td>\n      <td>1.0</td>\n    </tr>\n    <tr>\n      <th>38</th>\n      <td>3343014</td>\n      <td>4</td>\n      <td>prior</td>\n      <td>1</td>\n      <td>6</td>\n      <td>11</td>\n      <td>-1</td>\n      <td>0.0</td>\n      <td>-1.000000</td>\n      <td>0.000000</td>\n      <td>4</td>\n      <td>0</td>\n      <td>-1</td>\n    </tr>\n    <tr>\n      <th>39</th>\n      <td>2030307</td>\n      <td>4</td>\n      <td>prior</td>\n      <td>2</td>\n      <td>4</td>\n      <td>11</td>\n      <td>19</td>\n      <td>0.0</td>\n      <td>0.000000</td>\n      <td>0.000000</td>\n      <td>2</td>\n      <td>19</td>\n      <td>0.0</td>\n    </tr>\n    <tr>\n      <th>40</th>\n      <td>691089</td>\n      <td>4</td>\n      <td>prior</td>\n      <td>3</td>\n      <td>4</td>\n      <td>15</td>\n      <td>21</td>\n      <td>0.0</td>\n      <td>0.000000</td>\n      <td>0.142857</td>\n      <td>7</td>\n      <td>40</td>\n      <td>0.0</td>\n    </tr>\n    <tr>\n      <th>41</th>\n      <td>94891</td>\n      <td>4</td>\n      <td>prior</td>\n      <td>4</td>\n      <td>5</td>\n      <td>13</td>\n      <td>15</td>\n      <td>0.0</td>\n      <td>0.000000</td>\n      <td>0.000000</td>\n      <td>2</td>\n      <td>55</td>\n      <td>0.0</td>\n    </tr>\n    <tr>\n      <th>42</th>\n      <td>2557754</td>\n      <td>4</td>\n      <td>prior</td>\n      <td>5</td>\n      <td>5</td>\n      <td>13</td>\n      <td>0</td>\n      <td>0.0</td>\n      <td>0.000000</td>\n      <td>0.000000</td>\n      <td>3</td>\n      <td>55</td>\n      <td>0.0</td>\n    </tr>\n    <tr>\n      <th>43</th>\n      <td>2717275</td>\n      <td>5</td>\n      <td>prior</td>\n      <td>1</td>\n      <td>3</td>\n      <td>12</td>\n      <td>-1</td>\n      <td>0.0</td>\n      <td>-1.000000</td>\n      <td>0.000000</td>\n      <td>11</td>\n      <td>0</td>\n      <td>-1</td>\n    </tr>\n    <tr>\n      <th>44</th>\n      <td>1909121</td>\n      <td>5</td>\n      <td>prior</td>\n      <td>2</td>\n      <td>0</td>\n      <td>16</td>\n      <td>11</td>\n      <td>1.0</td>\n      <td>0.000000</td>\n      <td>0.444444</td>\n      <td>9</td>\n      <td>11</td>\n      <td>0.0</td>\n    </tr>\n    <tr>\n      <th>45</th>\n      <td>2267326</td>\n      <td>5</td>\n      <td>prior</td>\n      <td>3</td>\n      <td>3</td>\n      <td>18</td>\n      <td>10</td>\n      <td>0.0</td>\n      <td>0.500000</td>\n      <td>0.400000</td>\n      <td>5</td>\n      <td>21</td>\n      <td>1.0</td>\n    </tr>\n    <tr>\n      <th>46</th>\n      <td>157374</td>\n      <td>5</td>\n      <td>prior</td>\n      <td>4</td>\n      <td>1</td>\n      <td>18</td>\n      <td>19</td>\n      <td>1.0</td>\n      <td>0.333333</td>\n      <td>0.666667</td>\n      <td>12</td>\n      <td>40</td>\n      <td>0.0</td>\n    </tr>\n    <tr>\n      <th>47</th>\n      <td>2196797</td>\n      <td>5</td>\n      <td>train</td>\n      <td>5</td>\n      <td>0</td>\n      <td>11</td>\n      <td>6</td>\n      <td>NaN</td>\n      <td>0.500000</td>\n      <td>0.444444</td>\n      <td>9</td>\n      <td>46</td>\n      <td>1.0</td>\n    </tr>\n  </tbody>\n</table>\n</div>"
     },
     "execution_count": 7,
     "metadata": {},
     "output_type": "execute_result"
    }
   ],
   "source": [
    "data_store.get_orders_tip_subset().head(25)"
   ]
  },
  {
   "cell_type": "markdown",
   "id": "e1c3b09b0f49eba0",
   "metadata": {
    "collapsed": false,
    "jupyter": {
     "outputs_hidden": false
    }
   },
   "source": [
    "### Temporary Validation"
   ]
  },
  {
   "cell_type": "code",
   "execution_count": 8,
   "id": "e35d205a2cb3a9a7",
   "metadata": {
    "ExecuteTime": {
     "end_time": "2024-05-26T09:00:30.883623200Z",
     "start_time": "2024-05-26T09:00:30.668685400Z"
    }
   },
   "outputs": [
    {
     "name": "stdout",
     "output_type": "stream",
     "text": [
      "Number of orders: 3346083\n",
      "Number of subset orders: 991222\n",
      "\n",
      "Number of orders did not change: True\n",
      "Number of subset orders did not change: True\n",
      "\n",
      "Number of NaN or null values in each column:\n",
      "order_id                       0\n",
      "user_id                        0\n",
      "eval_set                       0\n",
      "order_number                   0\n",
      "order_dow                      0\n",
      "order_hour_of_day              0\n",
      "days_since_prior_order         0\n",
      "tip                       131209\n",
      "tip_history                    0\n",
      "reordered_ratio                0\n",
      "order_size                     0\n",
      "customer_lifetime              0\n",
      "prev_order_tipped              0\n",
      "dtype: int64\n"
     ]
    }
   ],
   "source": [
    "print(f\"Number of orders: {len(data_store.get_orders_tip())}\")\n",
    "print(f\"Number of subset orders: {len(data_store.get_orders_tip_subset())}\\n\")\n",
    "print(f\"Number of orders did not change: {order_amount == len(data_store.get_orders_tip())}\")\n",
    "print(f\"Number of subset orders did not change: {len(order_ids) == len(data_store.get_orders_tip_subset())}\\n\")\n",
    "print(f\"Number of NaN or null values in each column:\\n{data_store.get_orders_tip().isnull().sum()}\")"
   ]
  },
  {
   "cell_type": "markdown",
   "id": "a4253331b4719e93",
   "metadata": {
    "collapsed": false,
    "jupyter": {
     "outputs_hidden": false
    }
   },
   "source": [
    "### Temporary Manual Validation"
   ]
  },
  {
   "cell_type": "code",
   "execution_count": 9,
   "id": "f9d8254f35290d3e",
   "metadata": {
    "ExecuteTime": {
     "end_time": "2024-05-26T09:00:32.656081300Z",
     "start_time": "2024-05-26T09:00:30.877393800Z"
    }
   },
   "outputs": [
    {
     "data": {
      "text/html": [
       "<div>\n",
       "<style scoped>\n",
       "    .dataframe tbody tr th:only-of-type {\n",
       "        vertical-align: middle;\n",
       "    }\n",
       "\n",
       "    .dataframe tbody tr th {\n",
       "        vertical-align: top;\n",
       "    }\n",
       "\n",
       "    .dataframe thead th {\n",
       "        text-align: right;\n",
       "    }\n",
       "</style>\n",
       "<table border=\"1\" class=\"dataframe\">\n",
       "  <thead>\n",
       "    <tr style=\"text-align: right;\">\n",
       "      <th></th>\n",
       "      <th>order_id</th>\n",
       "      <th>order_size</th>\n",
       "    </tr>\n",
       "  </thead>\n",
       "  <tbody>\n",
       "    <tr>\n",
       "      <th>0</th>\n",
       "      <td>1</td>\n",
       "      <td>8</td>\n",
       "    </tr>\n",
       "    <tr>\n",
       "      <th>1</th>\n",
       "      <td>2</td>\n",
       "      <td>9</td>\n",
       "    </tr>\n",
       "    <tr>\n",
       "      <th>2</th>\n",
       "      <td>3</td>\n",
       "      <td>8</td>\n",
       "    </tr>\n",
       "    <tr>\n",
       "      <th>3</th>\n",
       "      <td>4</td>\n",
       "      <td>13</td>\n",
       "    </tr>\n",
       "    <tr>\n",
       "      <th>4</th>\n",
       "      <td>5</td>\n",
       "      <td>26</td>\n",
       "    </tr>\n",
       "    <tr>\n",
       "      <th>5</th>\n",
       "      <td>6</td>\n",
       "      <td>3</td>\n",
       "    </tr>\n",
       "    <tr>\n",
       "      <th>6</th>\n",
       "      <td>7</td>\n",
       "      <td>2</td>\n",
       "    </tr>\n",
       "    <tr>\n",
       "      <th>7</th>\n",
       "      <td>8</td>\n",
       "      <td>1</td>\n",
       "    </tr>\n",
       "    <tr>\n",
       "      <th>8</th>\n",
       "      <td>9</td>\n",
       "      <td>15</td>\n",
       "    </tr>\n",
       "    <tr>\n",
       "      <th>9</th>\n",
       "      <td>10</td>\n",
       "      <td>15</td>\n",
       "    </tr>\n",
       "    <tr>\n",
       "      <th>10</th>\n",
       "      <td>11</td>\n",
       "      <td>5</td>\n",
       "    </tr>\n",
       "    <tr>\n",
       "      <th>11</th>\n",
       "      <td>12</td>\n",
       "      <td>15</td>\n",
       "    </tr>\n",
       "    <tr>\n",
       "      <th>12</th>\n",
       "      <td>13</td>\n",
       "      <td>13</td>\n",
       "    </tr>\n",
       "    <tr>\n",
       "      <th>13</th>\n",
       "      <td>14</td>\n",
       "      <td>11</td>\n",
       "    </tr>\n",
       "    <tr>\n",
       "      <th>14</th>\n",
       "      <td>15</td>\n",
       "      <td>5</td>\n",
       "    </tr>\n",
       "    <tr>\n",
       "      <th>15</th>\n",
       "      <td>16</td>\n",
       "      <td>3</td>\n",
       "    </tr>\n",
       "    <tr>\n",
       "      <th>16</th>\n",
       "      <td>18</td>\n",
       "      <td>28</td>\n",
       "    </tr>\n",
       "    <tr>\n",
       "      <th>17</th>\n",
       "      <td>19</td>\n",
       "      <td>3</td>\n",
       "    </tr>\n",
       "    <tr>\n",
       "      <th>18</th>\n",
       "      <td>20</td>\n",
       "      <td>8</td>\n",
       "    </tr>\n",
       "    <tr>\n",
       "      <th>19</th>\n",
       "      <td>21</td>\n",
       "      <td>5</td>\n",
       "    </tr>\n",
       "    <tr>\n",
       "      <th>20</th>\n",
       "      <td>22</td>\n",
       "      <td>14</td>\n",
       "    </tr>\n",
       "    <tr>\n",
       "      <th>21</th>\n",
       "      <td>23</td>\n",
       "      <td>14</td>\n",
       "    </tr>\n",
       "    <tr>\n",
       "      <th>22</th>\n",
       "      <td>24</td>\n",
       "      <td>3</td>\n",
       "    </tr>\n",
       "    <tr>\n",
       "      <th>23</th>\n",
       "      <td>25</td>\n",
       "      <td>14</td>\n",
       "    </tr>\n",
       "    <tr>\n",
       "      <th>24</th>\n",
       "      <td>26</td>\n",
       "      <td>8</td>\n",
       "    </tr>\n",
       "  </tbody>\n",
       "</table>\n",
       "</div>"
      ],
      "text/plain": [
       "    order_id  order_size\n",
       "0          1           8\n",
       "1          2           9\n",
       "2          3           8\n",
       "3          4          13\n",
       "4          5          26\n",
       "5          6           3\n",
       "6          7           2\n",
       "7          8           1\n",
       "8          9          15\n",
       "9         10          15\n",
       "10        11           5\n",
       "11        12          15\n",
       "12        13          13\n",
       "13        14          11\n",
       "14        15           5\n",
       "15        16           3\n",
       "16        18          28\n",
       "17        19           3\n",
       "18        20           8\n",
       "19        21           5\n",
       "20        22          14\n",
       "21        23          14\n",
       "22        24           3\n",
       "23        25          14\n",
       "24        26           8"
      ]
     },
     "execution_count": 9,
     "metadata": {},
     "output_type": "execute_result"
    }
   ],
   "source": [
    "orders_joined = data_store.get_orders_joined()\n",
    "order_size = orders_joined.groupby('order_id')['order_number'].size().reset_index().rename(\n",
    "    columns={'order_number': 'order_size'})\n",
    "order_size.head(25)"
   ]
  },
  {
   "cell_type": "code",
   "execution_count": 10,
   "id": "93e174706599d44d",
   "metadata": {
    "ExecuteTime": {
     "end_time": "2024-05-26T09:00:32.742197400Z",
     "start_time": "2024-05-26T09:00:32.648861700Z"
    }
   },
   "outputs": [
    {
     "name": "stdout",
     "output_type": "stream",
     "text": [
      "Order size example: 13\n"
     ]
    },
    {
     "data": {
      "text/html": [
       "<div>\n",
       "<style scoped>\n",
       "    .dataframe tbody tr th:only-of-type {\n",
       "        vertical-align: middle;\n",
       "    }\n",
       "\n",
       "    .dataframe tbody tr th {\n",
       "        vertical-align: top;\n",
       "    }\n",
       "\n",
       "    .dataframe thead th {\n",
       "        text-align: right;\n",
       "    }\n",
       "</style>\n",
       "<table border=\"1\" class=\"dataframe\">\n",
       "  <thead>\n",
       "    <tr style=\"text-align: right;\">\n",
       "      <th></th>\n",
       "      <th>order_id</th>\n",
       "      <th>user_id</th>\n",
       "      <th>eval_set</th>\n",
       "      <th>order_number</th>\n",
       "      <th>order_dow</th>\n",
       "      <th>order_hour_of_day</th>\n",
       "      <th>days_since_prior_order</th>\n",
       "      <th>tip</th>\n",
       "      <th>product_id</th>\n",
       "      <th>add_to_cart_order</th>\n",
       "      <th>reordered</th>\n",
       "      <th>product_name</th>\n",
       "      <th>aisle_id</th>\n",
       "      <th>department_id</th>\n",
       "      <th>aisle</th>\n",
       "      <th>department</th>\n",
       "    </tr>\n",
       "  </thead>\n",
       "  <tbody>\n",
       "    <tr>\n",
       "      <th>70</th>\n",
       "      <td>2168274</td>\n",
       "      <td>2</td>\n",
       "      <td>prior</td>\n",
       "      <td>1</td>\n",
       "      <td>2</td>\n",
       "      <td>11</td>\n",
       "      <td>NaN</td>\n",
       "      <td>0.0</td>\n",
       "      <td>32792</td>\n",
       "      <td>1</td>\n",
       "      <td>0</td>\n",
       "      <td>Chipotle Beef &amp; Pork Realstick</td>\n",
       "      <td>23</td>\n",
       "      <td>19</td>\n",
       "      <td>popcorn jerky</td>\n",
       "      <td>snacks</td>\n",
       "    </tr>\n",
       "    <tr>\n",
       "      <th>71</th>\n",
       "      <td>2168274</td>\n",
       "      <td>2</td>\n",
       "      <td>prior</td>\n",
       "      <td>1</td>\n",
       "      <td>2</td>\n",
       "      <td>11</td>\n",
       "      <td>NaN</td>\n",
       "      <td>0.0</td>\n",
       "      <td>47766</td>\n",
       "      <td>2</td>\n",
       "      <td>0</td>\n",
       "      <td>Organic Avocado</td>\n",
       "      <td>24</td>\n",
       "      <td>4</td>\n",
       "      <td>fresh fruits</td>\n",
       "      <td>produce</td>\n",
       "    </tr>\n",
       "    <tr>\n",
       "      <th>72</th>\n",
       "      <td>2168274</td>\n",
       "      <td>2</td>\n",
       "      <td>prior</td>\n",
       "      <td>1</td>\n",
       "      <td>2</td>\n",
       "      <td>11</td>\n",
       "      <td>NaN</td>\n",
       "      <td>0.0</td>\n",
       "      <td>20574</td>\n",
       "      <td>3</td>\n",
       "      <td>0</td>\n",
       "      <td>Roasted Turkey</td>\n",
       "      <td>96</td>\n",
       "      <td>20</td>\n",
       "      <td>lunch meat</td>\n",
       "      <td>deli</td>\n",
       "    </tr>\n",
       "    <tr>\n",
       "      <th>73</th>\n",
       "      <td>2168274</td>\n",
       "      <td>2</td>\n",
       "      <td>prior</td>\n",
       "      <td>1</td>\n",
       "      <td>2</td>\n",
       "      <td>11</td>\n",
       "      <td>NaN</td>\n",
       "      <td>0.0</td>\n",
       "      <td>12000</td>\n",
       "      <td>4</td>\n",
       "      <td>0</td>\n",
       "      <td>Baked Organic Sea Salt Crunchy Pea Snack</td>\n",
       "      <td>72</td>\n",
       "      <td>13</td>\n",
       "      <td>condiments</td>\n",
       "      <td>pantry</td>\n",
       "    </tr>\n",
       "    <tr>\n",
       "      <th>74</th>\n",
       "      <td>2168274</td>\n",
       "      <td>2</td>\n",
       "      <td>prior</td>\n",
       "      <td>1</td>\n",
       "      <td>2</td>\n",
       "      <td>11</td>\n",
       "      <td>NaN</td>\n",
       "      <td>0.0</td>\n",
       "      <td>48110</td>\n",
       "      <td>5</td>\n",
       "      <td>0</td>\n",
       "      <td>Thin Stackers Brown Rice Lightly Salted</td>\n",
       "      <td>78</td>\n",
       "      <td>19</td>\n",
       "      <td>crackers</td>\n",
       "      <td>snacks</td>\n",
       "    </tr>\n",
       "    <tr>\n",
       "      <th>75</th>\n",
       "      <td>2168274</td>\n",
       "      <td>2</td>\n",
       "      <td>prior</td>\n",
       "      <td>1</td>\n",
       "      <td>2</td>\n",
       "      <td>11</td>\n",
       "      <td>NaN</td>\n",
       "      <td>0.0</td>\n",
       "      <td>22474</td>\n",
       "      <td>6</td>\n",
       "      <td>0</td>\n",
       "      <td>Cheddar Bunnies Snack Crackers</td>\n",
       "      <td>78</td>\n",
       "      <td>19</td>\n",
       "      <td>crackers</td>\n",
       "      <td>snacks</td>\n",
       "    </tr>\n",
       "    <tr>\n",
       "      <th>76</th>\n",
       "      <td>2168274</td>\n",
       "      <td>2</td>\n",
       "      <td>prior</td>\n",
       "      <td>1</td>\n",
       "      <td>2</td>\n",
       "      <td>11</td>\n",
       "      <td>NaN</td>\n",
       "      <td>0.0</td>\n",
       "      <td>16589</td>\n",
       "      <td>7</td>\n",
       "      <td>0</td>\n",
       "      <td>Plantain Chips</td>\n",
       "      <td>107</td>\n",
       "      <td>19</td>\n",
       "      <td>chips pretzels</td>\n",
       "      <td>snacks</td>\n",
       "    </tr>\n",
       "    <tr>\n",
       "      <th>77</th>\n",
       "      <td>2168274</td>\n",
       "      <td>2</td>\n",
       "      <td>prior</td>\n",
       "      <td>1</td>\n",
       "      <td>2</td>\n",
       "      <td>11</td>\n",
       "      <td>NaN</td>\n",
       "      <td>0.0</td>\n",
       "      <td>35917</td>\n",
       "      <td>8</td>\n",
       "      <td>0</td>\n",
       "      <td>Organic Just Concord Grape Juice</td>\n",
       "      <td>98</td>\n",
       "      <td>7</td>\n",
       "      <td>juice nectars</td>\n",
       "      <td>beverages</td>\n",
       "    </tr>\n",
       "    <tr>\n",
       "      <th>78</th>\n",
       "      <td>2168274</td>\n",
       "      <td>2</td>\n",
       "      <td>prior</td>\n",
       "      <td>1</td>\n",
       "      <td>2</td>\n",
       "      <td>11</td>\n",
       "      <td>NaN</td>\n",
       "      <td>0.0</td>\n",
       "      <td>27344</td>\n",
       "      <td>9</td>\n",
       "      <td>0</td>\n",
       "      <td>Uncured Genoa Salami</td>\n",
       "      <td>96</td>\n",
       "      <td>20</td>\n",
       "      <td>lunch meat</td>\n",
       "      <td>deli</td>\n",
       "    </tr>\n",
       "    <tr>\n",
       "      <th>79</th>\n",
       "      <td>2168274</td>\n",
       "      <td>2</td>\n",
       "      <td>prior</td>\n",
       "      <td>1</td>\n",
       "      <td>2</td>\n",
       "      <td>11</td>\n",
       "      <td>NaN</td>\n",
       "      <td>0.0</td>\n",
       "      <td>30489</td>\n",
       "      <td>10</td>\n",
       "      <td>0</td>\n",
       "      <td>Original Hummus</td>\n",
       "      <td>67</td>\n",
       "      <td>20</td>\n",
       "      <td>fresh dips tapenades</td>\n",
       "      <td>deli</td>\n",
       "    </tr>\n",
       "    <tr>\n",
       "      <th>80</th>\n",
       "      <td>2168274</td>\n",
       "      <td>2</td>\n",
       "      <td>prior</td>\n",
       "      <td>1</td>\n",
       "      <td>2</td>\n",
       "      <td>11</td>\n",
       "      <td>NaN</td>\n",
       "      <td>0.0</td>\n",
       "      <td>27966</td>\n",
       "      <td>11</td>\n",
       "      <td>0</td>\n",
       "      <td>Organic Raspberries</td>\n",
       "      <td>123</td>\n",
       "      <td>4</td>\n",
       "      <td>packaged vegetables fruits</td>\n",
       "      <td>produce</td>\n",
       "    </tr>\n",
       "    <tr>\n",
       "      <th>81</th>\n",
       "      <td>2168274</td>\n",
       "      <td>2</td>\n",
       "      <td>prior</td>\n",
       "      <td>1</td>\n",
       "      <td>2</td>\n",
       "      <td>11</td>\n",
       "      <td>NaN</td>\n",
       "      <td>0.0</td>\n",
       "      <td>13176</td>\n",
       "      <td>12</td>\n",
       "      <td>0</td>\n",
       "      <td>Bag of Organic Bananas</td>\n",
       "      <td>24</td>\n",
       "      <td>4</td>\n",
       "      <td>fresh fruits</td>\n",
       "      <td>produce</td>\n",
       "    </tr>\n",
       "    <tr>\n",
       "      <th>82</th>\n",
       "      <td>2168274</td>\n",
       "      <td>2</td>\n",
       "      <td>prior</td>\n",
       "      <td>1</td>\n",
       "      <td>2</td>\n",
       "      <td>11</td>\n",
       "      <td>NaN</td>\n",
       "      <td>0.0</td>\n",
       "      <td>45066</td>\n",
       "      <td>13</td>\n",
       "      <td>0</td>\n",
       "      <td>Honeycrisp Apple</td>\n",
       "      <td>24</td>\n",
       "      <td>4</td>\n",
       "      <td>fresh fruits</td>\n",
       "      <td>produce</td>\n",
       "    </tr>\n",
       "  </tbody>\n",
       "</table>\n",
       "</div>"
      ],
      "text/plain": [
       "    order_id  user_id eval_set  order_number  order_dow  order_hour_of_day  \\\n",
       "70   2168274        2    prior             1          2                 11   \n",
       "71   2168274        2    prior             1          2                 11   \n",
       "72   2168274        2    prior             1          2                 11   \n",
       "73   2168274        2    prior             1          2                 11   \n",
       "74   2168274        2    prior             1          2                 11   \n",
       "75   2168274        2    prior             1          2                 11   \n",
       "76   2168274        2    prior             1          2                 11   \n",
       "77   2168274        2    prior             1          2                 11   \n",
       "78   2168274        2    prior             1          2                 11   \n",
       "79   2168274        2    prior             1          2                 11   \n",
       "80   2168274        2    prior             1          2                 11   \n",
       "81   2168274        2    prior             1          2                 11   \n",
       "82   2168274        2    prior             1          2                 11   \n",
       "\n",
       "    days_since_prior_order  tip  product_id  add_to_cart_order  reordered  \\\n",
       "70                     NaN  0.0       32792                  1          0   \n",
       "71                     NaN  0.0       47766                  2          0   \n",
       "72                     NaN  0.0       20574                  3          0   \n",
       "73                     NaN  0.0       12000                  4          0   \n",
       "74                     NaN  0.0       48110                  5          0   \n",
       "75                     NaN  0.0       22474                  6          0   \n",
       "76                     NaN  0.0       16589                  7          0   \n",
       "77                     NaN  0.0       35917                  8          0   \n",
       "78                     NaN  0.0       27344                  9          0   \n",
       "79                     NaN  0.0       30489                 10          0   \n",
       "80                     NaN  0.0       27966                 11          0   \n",
       "81                     NaN  0.0       13176                 12          0   \n",
       "82                     NaN  0.0       45066                 13          0   \n",
       "\n",
       "                                product_name  aisle_id  department_id  \\\n",
       "70            Chipotle Beef & Pork Realstick        23             19   \n",
       "71                           Organic Avocado        24              4   \n",
       "72                            Roasted Turkey        96             20   \n",
       "73  Baked Organic Sea Salt Crunchy Pea Snack        72             13   \n",
       "74   Thin Stackers Brown Rice Lightly Salted        78             19   \n",
       "75            Cheddar Bunnies Snack Crackers        78             19   \n",
       "76                            Plantain Chips       107             19   \n",
       "77          Organic Just Concord Grape Juice        98              7   \n",
       "78                      Uncured Genoa Salami        96             20   \n",
       "79                           Original Hummus        67             20   \n",
       "80                       Organic Raspberries       123              4   \n",
       "81                    Bag of Organic Bananas        24              4   \n",
       "82                          Honeycrisp Apple        24              4   \n",
       "\n",
       "                         aisle department  \n",
       "70               popcorn jerky     snacks  \n",
       "71                fresh fruits    produce  \n",
       "72                  lunch meat       deli  \n",
       "73                  condiments     pantry  \n",
       "74                    crackers     snacks  \n",
       "75                    crackers     snacks  \n",
       "76              chips pretzels     snacks  \n",
       "77               juice nectars  beverages  \n",
       "78                  lunch meat       deli  \n",
       "79        fresh dips tapenades       deli  \n",
       "80  packaged vegetables fruits    produce  \n",
       "81                fresh fruits    produce  \n",
       "82                fresh fruits    produce  "
      ]
     },
     "execution_count": 10,
     "metadata": {},
     "output_type": "execute_result"
    }
   ],
   "source": [
    "print(f\"Order size example: {order_size[order_size['order_id'] == 2168274]['order_size'].values[0]}\")\n",
    "orders_joined[orders_joined['order_id'] == 2168274]"
   ]
  },
  {
   "cell_type": "code",
   "outputs": [],
   "source": [
    "orders_joined = data_store.get_orders_joined()\n",
    "test = orders_joined.iloc[:1000]\n",
    "orders_tip = data_store.get_orders_tip().copy()\n",
    "\n",
    "\n",
    "def cumulative_union_1(user_orders):\n",
    "    cumulative_products = set()\n",
    "    for idx, order in user_orders.iterrows():\n",
    "        prev_tipped_products = cumulative_products.intersection(order['products'])\n",
    "        user_orders.at[idx, 'prev_tipped_products_ratio'] = len(prev_tipped_products) / len(order['products'])\n",
    "        if order['tip'] == 1.0:\n",
    "            cumulative_products.update(order['products'])\n",
    "    return user_orders\n",
    "\n",
    "\n",
    "grouped = (test.groupby(['user_id', 'order_number', 'order_id']).agg(\n",
    "    products=('product_id', lambda x: set(x)), tip=('tip', 'first'))).reset_index()\n",
    "\n",
    "grouped = grouped.groupby('user_id').apply(cumulative_union_1, include_groups=False).reset_index(\n",
    "    drop=False).drop(columns='level_1')\n",
    "\n",
    "final = pd.merge(orders_tip.drop('prev_tipped_products_ratio', axis=1),\n",
    "                 grouped[['user_id', 'order_number', 'prev_tipped_products_ratio']],\n",
    "                 on=['user_id', 'order_number'],\n",
    "                 how='left')\n",
    "# grouped_1.head(25)\n",
    "final.head(25)"
   ]
  },
  {
   "cell_type": "code",
   "execution_count": 31,
   "id": "e67739bcd5a83912",
   "metadata": {
    "ExecuteTime": {
     "end_time": "2024-05-26T09:00:32.970324800Z",
     "start_time": "2024-05-26T09:00:32.694018700Z"
    }
   },
   "id": "bb72304692feec72",
   "execution_count": 11
  },
  {
   "cell_type": "code",
   "outputs": [],
   "source": [
    "# final.head(87).equals(orders_tip.head(87))"
   ],
   "metadata": {
    "collapsed": false,
    "ExecuteTime": {
     "end_time": "2024-05-26T09:00:32.981455Z",
     "start_time": "2024-05-26T09:00:32.971035400Z"
    }
   },
   "id": "e67739bcd5a83912",
   "execution_count": 12
  },
  {
   "cell_type": "markdown",
   "id": "3c58f94a8edcfe8b",
   "metadata": {
    "collapsed": false,
    "jupyter": {
     "outputs_hidden": false
    }
   },
   "source": [
    "### Temporary Tests"
   ]
  },
  {
   "cell_type": "code",
   "execution_count": 13,
   "id": "d56fa75dbbd29991",
   "metadata": {
    "ExecuteTime": {
     "end_time": "2024-05-26T09:00:33.540835900Z",
     "start_time": "2024-05-26T09:00:32.972804900Z"
    }
   },
   "outputs": [
    {
     "data": {
      "text/plain": "    order_id  user_id eval_set  order_number  order_dow  order_hour_of_day  \\\n0    2539329        1    prior             1          2                  8   \n1    2398795        1    prior             2          3                  7   \n2     473747        1    prior             3          3                 12   \n3    2254736        1    prior             4          4                  7   \n4     431534        1    prior             5          4                 15   \n5    2168274        2    prior             1          2                 11   \n6    1501582        2    prior             2          5                 10   \n7    1901567        2    prior             3          1                 10   \n8     738281        2    prior             4          2                 10   \n9    1673511        2    prior             5          3                 11   \n10   1374495        3    prior             1          1                 14   \n11    444309        3    prior             2          3                 19   \n12   3002854        3    prior             3          3                 16   \n13   2037211        3    prior             4          2                 18   \n14   2710558        3    prior             5          0                 17   \n15   3343014        4    prior             1          6                 11   \n16   2030307        4    prior             2          4                 11   \n17    691089        4    prior             3          4                 15   \n18     94891        4    prior             4          5                 13   \n19   2557754        4    prior             5          5                 13   \n20   2717275        5    prior             1          3                 12   \n21   1909121        5    prior             2          0                 16   \n22   2267326        5    prior             3          3                 18   \n23    157374        5    prior             4          1                 18   \n24   2196797        5    train             5          0                 11   \n\n    days_since_prior_order  tip  tip_history  reordered_ratio  order_size  \\\n0                       -1  0.0    -1.000000         0.000000           5   \n1                       15  0.0     0.000000         0.500000           6   \n2                       21  0.0     0.000000         0.600000           5   \n3                       29  0.0     0.000000         1.000000           5   \n4                       28  0.0     0.000000         0.625000           8   \n5                       -1  0.0    -1.000000         0.000000          13   \n6                       10  0.0     0.000000         0.166667           6   \n7                        3  1.0     0.000000         0.600000           5   \n8                        8  0.0     0.333333         0.076923          13   \n9                        8  1.0     0.250000         0.076923          13   \n10                      -1  1.0    -1.000000         0.000000          10   \n11                       9  1.0     1.000000         0.333333           9   \n12                      21  1.0     1.000000         0.500000           6   \n13                      20  1.0     1.000000         0.200000           5   \n14                      12  1.0     1.000000         0.636364          11   \n15                      -1  0.0    -1.000000         0.000000           4   \n16                      19  0.0     0.000000         0.000000           2   \n17                      21  0.0     0.000000         0.142857           7   \n18                      15  0.0     0.000000         0.000000           2   \n19                       0  0.0     0.000000         0.000000           3   \n20                      -1  0.0    -1.000000         0.000000          11   \n21                      11  1.0     0.000000         0.444444           9   \n22                      10  0.0     0.500000         0.400000           5   \n23                      19  1.0     0.333333         0.666667          12   \n24                       6  NaN     0.500000         0.444444           9   \n\n    customer_lifetime prev_order_tipped  dynamic_feature_test_1  \\\n0                   0                -1                       1   \n1                  15               0.0                       0   \n2                  36               0.0                       1   \n3                  65               0.0                       0   \n4                  93               0.0                       1   \n5                   0                -1                       1   \n6                  10               0.0                       0   \n7                  13               0.0                       1   \n8                  21               1.0                       0   \n9                  29               0.0                       1   \n10                  0                -1                       1   \n11                  9               1.0                       0   \n12                 30               1.0                       1   \n13                 50               1.0                       0   \n14                 62               1.0                       1   \n15                  0                -1                       1   \n16                 19               0.0                       0   \n17                 40               0.0                       1   \n18                 55               0.0                       0   \n19                 55               0.0                       1   \n20                  0                -1                       1   \n21                 11               0.0                       0   \n22                 21               1.0                       1   \n23                 40               0.0                       0   \n24                 46               1.0                       1   \n\n    dynamic_feature_test_2  \n0                        1  \n1                        2  \n2                        0  \n3                        1  \n4                        2  \n5                        1  \n6                        2  \n7                        0  \n8                        1  \n9                        2  \n10                       1  \n11                       2  \n12                       0  \n13                       1  \n14                       2  \n15                       1  \n16                       2  \n17                       0  \n18                       1  \n19                       2  \n20                       1  \n21                       2  \n22                       0  \n23                       1  \n24                       2  ",
      "text/html": "<div>\n<style scoped>\n    .dataframe tbody tr th:only-of-type {\n        vertical-align: middle;\n    }\n\n    .dataframe tbody tr th {\n        vertical-align: top;\n    }\n\n    .dataframe thead th {\n        text-align: right;\n    }\n</style>\n<table border=\"1\" class=\"dataframe\">\n  <thead>\n    <tr style=\"text-align: right;\">\n      <th></th>\n      <th>order_id</th>\n      <th>user_id</th>\n      <th>eval_set</th>\n      <th>order_number</th>\n      <th>order_dow</th>\n      <th>order_hour_of_day</th>\n      <th>days_since_prior_order</th>\n      <th>tip</th>\n      <th>tip_history</th>\n      <th>reordered_ratio</th>\n      <th>order_size</th>\n      <th>customer_lifetime</th>\n      <th>prev_order_tipped</th>\n      <th>dynamic_feature_test_1</th>\n      <th>dynamic_feature_test_2</th>\n    </tr>\n  </thead>\n  <tbody>\n    <tr>\n      <th>0</th>\n      <td>2539329</td>\n      <td>1</td>\n      <td>prior</td>\n      <td>1</td>\n      <td>2</td>\n      <td>8</td>\n      <td>-1</td>\n      <td>0.0</td>\n      <td>-1.000000</td>\n      <td>0.000000</td>\n      <td>5</td>\n      <td>0</td>\n      <td>-1</td>\n      <td>1</td>\n      <td>1</td>\n    </tr>\n    <tr>\n      <th>1</th>\n      <td>2398795</td>\n      <td>1</td>\n      <td>prior</td>\n      <td>2</td>\n      <td>3</td>\n      <td>7</td>\n      <td>15</td>\n      <td>0.0</td>\n      <td>0.000000</td>\n      <td>0.500000</td>\n      <td>6</td>\n      <td>15</td>\n      <td>0.0</td>\n      <td>0</td>\n      <td>2</td>\n    </tr>\n    <tr>\n      <th>2</th>\n      <td>473747</td>\n      <td>1</td>\n      <td>prior</td>\n      <td>3</td>\n      <td>3</td>\n      <td>12</td>\n      <td>21</td>\n      <td>0.0</td>\n      <td>0.000000</td>\n      <td>0.600000</td>\n      <td>5</td>\n      <td>36</td>\n      <td>0.0</td>\n      <td>1</td>\n      <td>0</td>\n    </tr>\n    <tr>\n      <th>3</th>\n      <td>2254736</td>\n      <td>1</td>\n      <td>prior</td>\n      <td>4</td>\n      <td>4</td>\n      <td>7</td>\n      <td>29</td>\n      <td>0.0</td>\n      <td>0.000000</td>\n      <td>1.000000</td>\n      <td>5</td>\n      <td>65</td>\n      <td>0.0</td>\n      <td>0</td>\n      <td>1</td>\n    </tr>\n    <tr>\n      <th>4</th>\n      <td>431534</td>\n      <td>1</td>\n      <td>prior</td>\n      <td>5</td>\n      <td>4</td>\n      <td>15</td>\n      <td>28</td>\n      <td>0.0</td>\n      <td>0.000000</td>\n      <td>0.625000</td>\n      <td>8</td>\n      <td>93</td>\n      <td>0.0</td>\n      <td>1</td>\n      <td>2</td>\n    </tr>\n    <tr>\n      <th>5</th>\n      <td>2168274</td>\n      <td>2</td>\n      <td>prior</td>\n      <td>1</td>\n      <td>2</td>\n      <td>11</td>\n      <td>-1</td>\n      <td>0.0</td>\n      <td>-1.000000</td>\n      <td>0.000000</td>\n      <td>13</td>\n      <td>0</td>\n      <td>-1</td>\n      <td>1</td>\n      <td>1</td>\n    </tr>\n    <tr>\n      <th>6</th>\n      <td>1501582</td>\n      <td>2</td>\n      <td>prior</td>\n      <td>2</td>\n      <td>5</td>\n      <td>10</td>\n      <td>10</td>\n      <td>0.0</td>\n      <td>0.000000</td>\n      <td>0.166667</td>\n      <td>6</td>\n      <td>10</td>\n      <td>0.0</td>\n      <td>0</td>\n      <td>2</td>\n    </tr>\n    <tr>\n      <th>7</th>\n      <td>1901567</td>\n      <td>2</td>\n      <td>prior</td>\n      <td>3</td>\n      <td>1</td>\n      <td>10</td>\n      <td>3</td>\n      <td>1.0</td>\n      <td>0.000000</td>\n      <td>0.600000</td>\n      <td>5</td>\n      <td>13</td>\n      <td>0.0</td>\n      <td>1</td>\n      <td>0</td>\n    </tr>\n    <tr>\n      <th>8</th>\n      <td>738281</td>\n      <td>2</td>\n      <td>prior</td>\n      <td>4</td>\n      <td>2</td>\n      <td>10</td>\n      <td>8</td>\n      <td>0.0</td>\n      <td>0.333333</td>\n      <td>0.076923</td>\n      <td>13</td>\n      <td>21</td>\n      <td>1.0</td>\n      <td>0</td>\n      <td>1</td>\n    </tr>\n    <tr>\n      <th>9</th>\n      <td>1673511</td>\n      <td>2</td>\n      <td>prior</td>\n      <td>5</td>\n      <td>3</td>\n      <td>11</td>\n      <td>8</td>\n      <td>1.0</td>\n      <td>0.250000</td>\n      <td>0.076923</td>\n      <td>13</td>\n      <td>29</td>\n      <td>0.0</td>\n      <td>1</td>\n      <td>2</td>\n    </tr>\n    <tr>\n      <th>10</th>\n      <td>1374495</td>\n      <td>3</td>\n      <td>prior</td>\n      <td>1</td>\n      <td>1</td>\n      <td>14</td>\n      <td>-1</td>\n      <td>1.0</td>\n      <td>-1.000000</td>\n      <td>0.000000</td>\n      <td>10</td>\n      <td>0</td>\n      <td>-1</td>\n      <td>1</td>\n      <td>1</td>\n    </tr>\n    <tr>\n      <th>11</th>\n      <td>444309</td>\n      <td>3</td>\n      <td>prior</td>\n      <td>2</td>\n      <td>3</td>\n      <td>19</td>\n      <td>9</td>\n      <td>1.0</td>\n      <td>1.000000</td>\n      <td>0.333333</td>\n      <td>9</td>\n      <td>9</td>\n      <td>1.0</td>\n      <td>0</td>\n      <td>2</td>\n    </tr>\n    <tr>\n      <th>12</th>\n      <td>3002854</td>\n      <td>3</td>\n      <td>prior</td>\n      <td>3</td>\n      <td>3</td>\n      <td>16</td>\n      <td>21</td>\n      <td>1.0</td>\n      <td>1.000000</td>\n      <td>0.500000</td>\n      <td>6</td>\n      <td>30</td>\n      <td>1.0</td>\n      <td>1</td>\n      <td>0</td>\n    </tr>\n    <tr>\n      <th>13</th>\n      <td>2037211</td>\n      <td>3</td>\n      <td>prior</td>\n      <td>4</td>\n      <td>2</td>\n      <td>18</td>\n      <td>20</td>\n      <td>1.0</td>\n      <td>1.000000</td>\n      <td>0.200000</td>\n      <td>5</td>\n      <td>50</td>\n      <td>1.0</td>\n      <td>0</td>\n      <td>1</td>\n    </tr>\n    <tr>\n      <th>14</th>\n      <td>2710558</td>\n      <td>3</td>\n      <td>prior</td>\n      <td>5</td>\n      <td>0</td>\n      <td>17</td>\n      <td>12</td>\n      <td>1.0</td>\n      <td>1.000000</td>\n      <td>0.636364</td>\n      <td>11</td>\n      <td>62</td>\n      <td>1.0</td>\n      <td>1</td>\n      <td>2</td>\n    </tr>\n    <tr>\n      <th>15</th>\n      <td>3343014</td>\n      <td>4</td>\n      <td>prior</td>\n      <td>1</td>\n      <td>6</td>\n      <td>11</td>\n      <td>-1</td>\n      <td>0.0</td>\n      <td>-1.000000</td>\n      <td>0.000000</td>\n      <td>4</td>\n      <td>0</td>\n      <td>-1</td>\n      <td>1</td>\n      <td>1</td>\n    </tr>\n    <tr>\n      <th>16</th>\n      <td>2030307</td>\n      <td>4</td>\n      <td>prior</td>\n      <td>2</td>\n      <td>4</td>\n      <td>11</td>\n      <td>19</td>\n      <td>0.0</td>\n      <td>0.000000</td>\n      <td>0.000000</td>\n      <td>2</td>\n      <td>19</td>\n      <td>0.0</td>\n      <td>0</td>\n      <td>2</td>\n    </tr>\n    <tr>\n      <th>17</th>\n      <td>691089</td>\n      <td>4</td>\n      <td>prior</td>\n      <td>3</td>\n      <td>4</td>\n      <td>15</td>\n      <td>21</td>\n      <td>0.0</td>\n      <td>0.000000</td>\n      <td>0.142857</td>\n      <td>7</td>\n      <td>40</td>\n      <td>0.0</td>\n      <td>1</td>\n      <td>0</td>\n    </tr>\n    <tr>\n      <th>18</th>\n      <td>94891</td>\n      <td>4</td>\n      <td>prior</td>\n      <td>4</td>\n      <td>5</td>\n      <td>13</td>\n      <td>15</td>\n      <td>0.0</td>\n      <td>0.000000</td>\n      <td>0.000000</td>\n      <td>2</td>\n      <td>55</td>\n      <td>0.0</td>\n      <td>0</td>\n      <td>1</td>\n    </tr>\n    <tr>\n      <th>19</th>\n      <td>2557754</td>\n      <td>4</td>\n      <td>prior</td>\n      <td>5</td>\n      <td>5</td>\n      <td>13</td>\n      <td>0</td>\n      <td>0.0</td>\n      <td>0.000000</td>\n      <td>0.000000</td>\n      <td>3</td>\n      <td>55</td>\n      <td>0.0</td>\n      <td>1</td>\n      <td>2</td>\n    </tr>\n    <tr>\n      <th>20</th>\n      <td>2717275</td>\n      <td>5</td>\n      <td>prior</td>\n      <td>1</td>\n      <td>3</td>\n      <td>12</td>\n      <td>-1</td>\n      <td>0.0</td>\n      <td>-1.000000</td>\n      <td>0.000000</td>\n      <td>11</td>\n      <td>0</td>\n      <td>-1</td>\n      <td>1</td>\n      <td>1</td>\n    </tr>\n    <tr>\n      <th>21</th>\n      <td>1909121</td>\n      <td>5</td>\n      <td>prior</td>\n      <td>2</td>\n      <td>0</td>\n      <td>16</td>\n      <td>11</td>\n      <td>1.0</td>\n      <td>0.000000</td>\n      <td>0.444444</td>\n      <td>9</td>\n      <td>11</td>\n      <td>0.0</td>\n      <td>0</td>\n      <td>2</td>\n    </tr>\n    <tr>\n      <th>22</th>\n      <td>2267326</td>\n      <td>5</td>\n      <td>prior</td>\n      <td>3</td>\n      <td>3</td>\n      <td>18</td>\n      <td>10</td>\n      <td>0.0</td>\n      <td>0.500000</td>\n      <td>0.400000</td>\n      <td>5</td>\n      <td>21</td>\n      <td>1.0</td>\n      <td>1</td>\n      <td>0</td>\n    </tr>\n    <tr>\n      <th>23</th>\n      <td>157374</td>\n      <td>5</td>\n      <td>prior</td>\n      <td>4</td>\n      <td>1</td>\n      <td>18</td>\n      <td>19</td>\n      <td>1.0</td>\n      <td>0.333333</td>\n      <td>0.666667</td>\n      <td>12</td>\n      <td>40</td>\n      <td>0.0</td>\n      <td>0</td>\n      <td>1</td>\n    </tr>\n    <tr>\n      <th>24</th>\n      <td>2196797</td>\n      <td>5</td>\n      <td>train</td>\n      <td>5</td>\n      <td>0</td>\n      <td>11</td>\n      <td>6</td>\n      <td>NaN</td>\n      <td>0.500000</td>\n      <td>0.444444</td>\n      <td>9</td>\n      <td>46</td>\n      <td>1.0</td>\n      <td>1</td>\n      <td>2</td>\n    </tr>\n  </tbody>\n</table>\n</div>"
     },
     "execution_count": 13,
     "metadata": {},
     "output_type": "execute_result"
    }
   ],
   "source": [
    "dynamic_feature_test_1 = DynamicFeatureTest1(data_store)\n",
    "dynamic_feature_test_2 = DynamicFeatureTest2(data_store)\n",
    "dynamic_feature_test_1.compute_feature()\n",
    "dynamic_feature_test_2.compute_feature()\n",
    "\n",
    "data_store.get_orders_tip_subset().head(25)"
   ]
  },
  {
   "cell_type": "code",
   "execution_count": 14,
   "id": "3014c3197aa708f0",
   "metadata": {
    "ExecuteTime": {
     "end_time": "2024-05-26T09:00:34.888227800Z",
     "start_time": "2024-05-26T09:00:33.542907800Z"
    }
   },
   "outputs": [
    {
     "data": {
      "text/plain": "    order_id  user_id eval_set  order_number  order_dow  order_hour_of_day  \\\n0    2539329        1    prior             1          2                  8   \n1    2398795        1    prior             2          3                  7   \n11   2168274        2    prior             1          2                 11   \n12   1501582        2    prior             2          5                 10   \n26   1374495        3    prior             1          1                 14   \n27    444309        3    prior             2          3                 19   \n38   3343014        4    prior             1          6                 11   \n39   2030307        4    prior             2          4                 11   \n43   2717275        5    prior             1          3                 12   \n44   1909121        5    prior             2          0                 16   \n48   2086598        6    prior             1          5                 18   \n49    298250        6    prior             2          4                 16   \n51   2565571        7    prior             1          3                  9   \n52   2402008        7    prior             2          1                 19   \n72    600894        8    prior             1          6                  0   \n73   2979257        8    prior             2          1                  8   \n76    280530        9    prior             1          1                 17   \n77   2762092        9    prior             2          0                 14   \n80   1224907       10    prior             1          2                 14   \n81     68288       10    prior             2          5                 15   \n86   2411567       11    prior             1          0                 11   \n87   1170872       11    prior             2          5                 11   \n93   1483446       12    prior             1          1                 12   \n94   1247527       12    prior             2          5                  9   \n98   2618231       13    prior             1          6                 12   \n\n    days_since_prior_order  tip  tip_history  reordered_ratio  order_size  \\\n0                       -1  0.0         -1.0         0.000000           5   \n1                       15  0.0          0.0         0.500000           6   \n11                      -1  0.0         -1.0         0.000000          13   \n12                      10  0.0          0.0         0.166667           6   \n26                      -1  1.0         -1.0         0.000000          10   \n27                       9  1.0          1.0         0.333333           9   \n38                      -1  0.0         -1.0         0.000000           4   \n39                      19  0.0          0.0         0.000000           2   \n43                      -1  0.0         -1.0         0.000000          11   \n44                      11  1.0          0.0         0.444444           9   \n48                      -1  0.0         -1.0         0.000000           4   \n49                       6  0.0          0.0         0.285714           7   \n51                      -1  0.0         -1.0         0.000000          12   \n52                      30  0.0          0.0         0.190476          21   \n72                      -1  1.0         -1.0         0.000000          21   \n73                      30  1.0          1.0         0.533333          15   \n76                      -1  0.0         -1.0         0.000000          30   \n77                       6  0.0          0.0         0.363636          11   \n80                      -1  1.0         -1.0         0.000000           5   \n81                      30  1.0          1.0         0.043478          46   \n86                      -1  0.0         -1.0         0.000000          13   \n87                      12  0.0          0.0         0.230769          13   \n93                      -1  0.0         -1.0         0.000000           3   \n94                      30  0.0          0.0         0.000000          17   \n98                      -1  0.0         -1.0         0.000000           5   \n\n    customer_lifetime prev_order_tipped  dynamic_feature_test_1  \n0                   0                -1                       1  \n1                  15               0.0                       0  \n11                  0                -1                       1  \n12                 10               0.0                       0  \n26                  0                -1                       1  \n27                  9               1.0                       0  \n38                  0                -1                       1  \n39                 19               0.0                       0  \n43                  0                -1                       1  \n44                 11               0.0                       0  \n48                  0                -1                       1  \n49                  6               0.0                       0  \n51                  0                -1                       1  \n52                 30               0.0                       0  \n72                  0                -1                       1  \n73                 30               1.0                       0  \n76                  0                -1                       1  \n77                  6               0.0                       0  \n80                  0                -1                       1  \n81                 30               1.0                       0  \n86                  0                -1                       1  \n87                 12               0.0                       0  \n93                  0                -1                       1  \n94                 30               0.0                       0  \n98                  0                -1                       1  ",
      "text/html": "<div>\n<style scoped>\n    .dataframe tbody tr th:only-of-type {\n        vertical-align: middle;\n    }\n\n    .dataframe tbody tr th {\n        vertical-align: top;\n    }\n\n    .dataframe thead th {\n        text-align: right;\n    }\n</style>\n<table border=\"1\" class=\"dataframe\">\n  <thead>\n    <tr style=\"text-align: right;\">\n      <th></th>\n      <th>order_id</th>\n      <th>user_id</th>\n      <th>eval_set</th>\n      <th>order_number</th>\n      <th>order_dow</th>\n      <th>order_hour_of_day</th>\n      <th>days_since_prior_order</th>\n      <th>tip</th>\n      <th>tip_history</th>\n      <th>reordered_ratio</th>\n      <th>order_size</th>\n      <th>customer_lifetime</th>\n      <th>prev_order_tipped</th>\n      <th>dynamic_feature_test_1</th>\n    </tr>\n  </thead>\n  <tbody>\n    <tr>\n      <th>0</th>\n      <td>2539329</td>\n      <td>1</td>\n      <td>prior</td>\n      <td>1</td>\n      <td>2</td>\n      <td>8</td>\n      <td>-1</td>\n      <td>0.0</td>\n      <td>-1.0</td>\n      <td>0.000000</td>\n      <td>5</td>\n      <td>0</td>\n      <td>-1</td>\n      <td>1</td>\n    </tr>\n    <tr>\n      <th>1</th>\n      <td>2398795</td>\n      <td>1</td>\n      <td>prior</td>\n      <td>2</td>\n      <td>3</td>\n      <td>7</td>\n      <td>15</td>\n      <td>0.0</td>\n      <td>0.0</td>\n      <td>0.500000</td>\n      <td>6</td>\n      <td>15</td>\n      <td>0.0</td>\n      <td>0</td>\n    </tr>\n    <tr>\n      <th>11</th>\n      <td>2168274</td>\n      <td>2</td>\n      <td>prior</td>\n      <td>1</td>\n      <td>2</td>\n      <td>11</td>\n      <td>-1</td>\n      <td>0.0</td>\n      <td>-1.0</td>\n      <td>0.000000</td>\n      <td>13</td>\n      <td>0</td>\n      <td>-1</td>\n      <td>1</td>\n    </tr>\n    <tr>\n      <th>12</th>\n      <td>1501582</td>\n      <td>2</td>\n      <td>prior</td>\n      <td>2</td>\n      <td>5</td>\n      <td>10</td>\n      <td>10</td>\n      <td>0.0</td>\n      <td>0.0</td>\n      <td>0.166667</td>\n      <td>6</td>\n      <td>10</td>\n      <td>0.0</td>\n      <td>0</td>\n    </tr>\n    <tr>\n      <th>26</th>\n      <td>1374495</td>\n      <td>3</td>\n      <td>prior</td>\n      <td>1</td>\n      <td>1</td>\n      <td>14</td>\n      <td>-1</td>\n      <td>1.0</td>\n      <td>-1.0</td>\n      <td>0.000000</td>\n      <td>10</td>\n      <td>0</td>\n      <td>-1</td>\n      <td>1</td>\n    </tr>\n    <tr>\n      <th>27</th>\n      <td>444309</td>\n      <td>3</td>\n      <td>prior</td>\n      <td>2</td>\n      <td>3</td>\n      <td>19</td>\n      <td>9</td>\n      <td>1.0</td>\n      <td>1.0</td>\n      <td>0.333333</td>\n      <td>9</td>\n      <td>9</td>\n      <td>1.0</td>\n      <td>0</td>\n    </tr>\n    <tr>\n      <th>38</th>\n      <td>3343014</td>\n      <td>4</td>\n      <td>prior</td>\n      <td>1</td>\n      <td>6</td>\n      <td>11</td>\n      <td>-1</td>\n      <td>0.0</td>\n      <td>-1.0</td>\n      <td>0.000000</td>\n      <td>4</td>\n      <td>0</td>\n      <td>-1</td>\n      <td>1</td>\n    </tr>\n    <tr>\n      <th>39</th>\n      <td>2030307</td>\n      <td>4</td>\n      <td>prior</td>\n      <td>2</td>\n      <td>4</td>\n      <td>11</td>\n      <td>19</td>\n      <td>0.0</td>\n      <td>0.0</td>\n      <td>0.000000</td>\n      <td>2</td>\n      <td>19</td>\n      <td>0.0</td>\n      <td>0</td>\n    </tr>\n    <tr>\n      <th>43</th>\n      <td>2717275</td>\n      <td>5</td>\n      <td>prior</td>\n      <td>1</td>\n      <td>3</td>\n      <td>12</td>\n      <td>-1</td>\n      <td>0.0</td>\n      <td>-1.0</td>\n      <td>0.000000</td>\n      <td>11</td>\n      <td>0</td>\n      <td>-1</td>\n      <td>1</td>\n    </tr>\n    <tr>\n      <th>44</th>\n      <td>1909121</td>\n      <td>5</td>\n      <td>prior</td>\n      <td>2</td>\n      <td>0</td>\n      <td>16</td>\n      <td>11</td>\n      <td>1.0</td>\n      <td>0.0</td>\n      <td>0.444444</td>\n      <td>9</td>\n      <td>11</td>\n      <td>0.0</td>\n      <td>0</td>\n    </tr>\n    <tr>\n      <th>48</th>\n      <td>2086598</td>\n      <td>6</td>\n      <td>prior</td>\n      <td>1</td>\n      <td>5</td>\n      <td>18</td>\n      <td>-1</td>\n      <td>0.0</td>\n      <td>-1.0</td>\n      <td>0.000000</td>\n      <td>4</td>\n      <td>0</td>\n      <td>-1</td>\n      <td>1</td>\n    </tr>\n    <tr>\n      <th>49</th>\n      <td>298250</td>\n      <td>6</td>\n      <td>prior</td>\n      <td>2</td>\n      <td>4</td>\n      <td>16</td>\n      <td>6</td>\n      <td>0.0</td>\n      <td>0.0</td>\n      <td>0.285714</td>\n      <td>7</td>\n      <td>6</td>\n      <td>0.0</td>\n      <td>0</td>\n    </tr>\n    <tr>\n      <th>51</th>\n      <td>2565571</td>\n      <td>7</td>\n      <td>prior</td>\n      <td>1</td>\n      <td>3</td>\n      <td>9</td>\n      <td>-1</td>\n      <td>0.0</td>\n      <td>-1.0</td>\n      <td>0.000000</td>\n      <td>12</td>\n      <td>0</td>\n      <td>-1</td>\n      <td>1</td>\n    </tr>\n    <tr>\n      <th>52</th>\n      <td>2402008</td>\n      <td>7</td>\n      <td>prior</td>\n      <td>2</td>\n      <td>1</td>\n      <td>19</td>\n      <td>30</td>\n      <td>0.0</td>\n      <td>0.0</td>\n      <td>0.190476</td>\n      <td>21</td>\n      <td>30</td>\n      <td>0.0</td>\n      <td>0</td>\n    </tr>\n    <tr>\n      <th>72</th>\n      <td>600894</td>\n      <td>8</td>\n      <td>prior</td>\n      <td>1</td>\n      <td>6</td>\n      <td>0</td>\n      <td>-1</td>\n      <td>1.0</td>\n      <td>-1.0</td>\n      <td>0.000000</td>\n      <td>21</td>\n      <td>0</td>\n      <td>-1</td>\n      <td>1</td>\n    </tr>\n    <tr>\n      <th>73</th>\n      <td>2979257</td>\n      <td>8</td>\n      <td>prior</td>\n      <td>2</td>\n      <td>1</td>\n      <td>8</td>\n      <td>30</td>\n      <td>1.0</td>\n      <td>1.0</td>\n      <td>0.533333</td>\n      <td>15</td>\n      <td>30</td>\n      <td>1.0</td>\n      <td>0</td>\n    </tr>\n    <tr>\n      <th>76</th>\n      <td>280530</td>\n      <td>9</td>\n      <td>prior</td>\n      <td>1</td>\n      <td>1</td>\n      <td>17</td>\n      <td>-1</td>\n      <td>0.0</td>\n      <td>-1.0</td>\n      <td>0.000000</td>\n      <td>30</td>\n      <td>0</td>\n      <td>-1</td>\n      <td>1</td>\n    </tr>\n    <tr>\n      <th>77</th>\n      <td>2762092</td>\n      <td>9</td>\n      <td>prior</td>\n      <td>2</td>\n      <td>0</td>\n      <td>14</td>\n      <td>6</td>\n      <td>0.0</td>\n      <td>0.0</td>\n      <td>0.363636</td>\n      <td>11</td>\n      <td>6</td>\n      <td>0.0</td>\n      <td>0</td>\n    </tr>\n    <tr>\n      <th>80</th>\n      <td>1224907</td>\n      <td>10</td>\n      <td>prior</td>\n      <td>1</td>\n      <td>2</td>\n      <td>14</td>\n      <td>-1</td>\n      <td>1.0</td>\n      <td>-1.0</td>\n      <td>0.000000</td>\n      <td>5</td>\n      <td>0</td>\n      <td>-1</td>\n      <td>1</td>\n    </tr>\n    <tr>\n      <th>81</th>\n      <td>68288</td>\n      <td>10</td>\n      <td>prior</td>\n      <td>2</td>\n      <td>5</td>\n      <td>15</td>\n      <td>30</td>\n      <td>1.0</td>\n      <td>1.0</td>\n      <td>0.043478</td>\n      <td>46</td>\n      <td>30</td>\n      <td>1.0</td>\n      <td>0</td>\n    </tr>\n    <tr>\n      <th>86</th>\n      <td>2411567</td>\n      <td>11</td>\n      <td>prior</td>\n      <td>1</td>\n      <td>0</td>\n      <td>11</td>\n      <td>-1</td>\n      <td>0.0</td>\n      <td>-1.0</td>\n      <td>0.000000</td>\n      <td>13</td>\n      <td>0</td>\n      <td>-1</td>\n      <td>1</td>\n    </tr>\n    <tr>\n      <th>87</th>\n      <td>1170872</td>\n      <td>11</td>\n      <td>prior</td>\n      <td>2</td>\n      <td>5</td>\n      <td>11</td>\n      <td>12</td>\n      <td>0.0</td>\n      <td>0.0</td>\n      <td>0.230769</td>\n      <td>13</td>\n      <td>12</td>\n      <td>0.0</td>\n      <td>0</td>\n    </tr>\n    <tr>\n      <th>93</th>\n      <td>1483446</td>\n      <td>12</td>\n      <td>prior</td>\n      <td>1</td>\n      <td>1</td>\n      <td>12</td>\n      <td>-1</td>\n      <td>0.0</td>\n      <td>-1.0</td>\n      <td>0.000000</td>\n      <td>3</td>\n      <td>0</td>\n      <td>-1</td>\n      <td>1</td>\n    </tr>\n    <tr>\n      <th>94</th>\n      <td>1247527</td>\n      <td>12</td>\n      <td>prior</td>\n      <td>2</td>\n      <td>5</td>\n      <td>9</td>\n      <td>30</td>\n      <td>0.0</td>\n      <td>0.0</td>\n      <td>0.000000</td>\n      <td>17</td>\n      <td>30</td>\n      <td>0.0</td>\n      <td>0</td>\n    </tr>\n    <tr>\n      <th>98</th>\n      <td>2618231</td>\n      <td>13</td>\n      <td>prior</td>\n      <td>1</td>\n      <td>6</td>\n      <td>12</td>\n      <td>-1</td>\n      <td>0.0</td>\n      <td>-1.0</td>\n      <td>0.000000</td>\n      <td>5</td>\n      <td>0</td>\n      <td>-1</td>\n      <td>1</td>\n    </tr>\n  </tbody>\n</table>\n</div>"
     },
     "execution_count": 14,
     "metadata": {},
     "output_type": "execute_result"
    }
   ],
   "source": [
    "order_ids = data_store.get_orders_tip().groupby('user_id')['order_id'].head(2)\n",
    "data_store.set_data_subset(order_ids)\n",
    "\n",
    "dynamic_feature_test_1.compute_feature()\n",
    "data_store.get_orders_tip_subset().head(25)"
   ]
  },
  {
   "cell_type": "code",
   "execution_count": 33,
   "id": "61e2da66bca115f1",
   "metadata": {
    "ExecuteTime": {
     "end_time": "2024-05-26T09:00:34.896648100Z",
     "start_time": "2024-05-26T09:00:34.888729900Z"
    }
   },
   "id": "61e2da66bca115f1",
   "execution_count": 14
  },
  {
   "cell_type": "markdown",
   "id": "d571331aa19136d5",
   "metadata": {
    "collapsed": false,
    "jupyter": {
     "outputs_hidden": false
    }
   },
   "source": [
    "### Analysis"
   ]
  },
  {
   "cell_type": "markdown",
   "id": "9038d3d52fbf8ad1",
   "metadata": {
    "collapsed": false,
    "jupyter": {
     "outputs_hidden": false
    }
   },
   "source": [
    "### Model Training & Evaluation"
   ]
  },
  {
   "cell_type": "code",
   "execution_count": 14,
   "id": "a9f00ea58f4da04e",
   "metadata": {
    "ExecuteTime": {
     "end_time": "2024-05-26T09:00:34.897678Z",
     "start_time": "2024-05-26T09:00:34.890725800Z"
    }
   },
   "outputs": [],
   "source": []
  }
 ],
 "metadata": {
  "kernelspec": {
   "display_name": "Python 3 (ipykernel)",
   "language": "python",
   "name": "python3"
  },
  "language_info": {
   "codemirror_mode": {
    "name": "ipython",
    "version": 3
   },
   "file_extension": ".py",
   "mimetype": "text/x-python",
   "name": "python",
   "nbconvert_exporter": "python",
   "pygments_lexer": "ipython3",
   "version": "3.11.7"
  }
 },
 "nbformat": 4,
 "nbformat_minor": 5
}
