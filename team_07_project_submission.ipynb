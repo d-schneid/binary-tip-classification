{
 "cells": [
  {
   "cell_type": "markdown",
   "id": "7aea19f30bc2952",
   "metadata": {
    "collapsed": false
   },
   "source": [
    "# Data Science Project SoSe 2024\n",
    "## Team 07\n",
    "- Maximilian Hoffmann\n",
    "- Kilian Kempf\n",
    "- Daniel Schneider\n",
    "- Tom Schuck\n",
    "\n",
    "## Project Submission"
   ]
  },
  {
   "cell_type": "markdown",
   "id": "ca8cc580026f3fef",
   "metadata": {
    "collapsed": false
   },
   "source": [
    "### Libraries"
   ]
  },
  {
   "cell_type": "code",
   "execution_count": 1,
   "id": "cf05501ea27cad56",
   "metadata": {
    "collapsed": false,
    "ExecuteTime": {
     "end_time": "2024-05-23T12:42:28.850897200Z",
     "start_time": "2024-05-23T12:42:28.201978300Z"
    }
   },
   "outputs": [],
   "source": [
    "import os\n",
    "\n",
    "import pandas as pd\n",
    "\n",
    "from feature_engineering.data_store import DataStore\n",
    "from feature_engineering.feature import TipHistory, ReorderedRatio"
   ]
  },
  {
   "cell_type": "markdown",
   "id": "6537369153176304",
   "metadata": {
    "collapsed": false
   },
   "source": [
    "### Data Preparation"
   ]
  },
  {
   "cell_type": "code",
   "execution_count": 2,
   "id": "c0a89599473d54b2",
   "metadata": {
    "collapsed": false,
    "ExecuteTime": {
     "end_time": "2024-05-23T12:42:56.232579800Z",
     "start_time": "2024-05-23T12:42:28.854082500Z"
    }
   },
   "outputs": [],
   "source": [
    "DATA_DIR = os.path.join(os.getcwd(), 'data/Instacart')\n",
    "\n",
    "op_prior = pd.read_csv(os.path.join(DATA_DIR, 'order_products__prior.csv.zip'))\n",
    "op_train = pd.read_csv(os.path.join(DATA_DIR, 'order_products__train.csv.zip'))\n",
    "\n",
    "tip_train = pd.read_csv(os.path.join(DATA_DIR, 'tip_trainingsdaten1_.csv'))[['order_id', 'tip']]\n",
    "tip_test = pd.read_csv(os.path.join(DATA_DIR, 'tip_testdaten1_template.csv'))\n",
    "\n",
    "orders = pd.read_csv(os.path.join(DATA_DIR, 'orders.csv.zip'))\n",
    "aisles = pd.read_csv(os.path.join(DATA_DIR, 'aisles.csv.zip'))\n",
    "departments = pd.read_csv(os.path.join(DATA_DIR, 'departments.csv.zip'))\n",
    "products = pd.read_csv(os.path.join(DATA_DIR, 'products.csv.zip'))\n",
    "\n",
    "data_store = DataStore(op_prior, op_train, tip_train, tip_test, orders, products, aisles, departments)"
   ]
  },
  {
   "cell_type": "markdown",
   "id": "a161bdb63ede46ec",
   "metadata": {
    "collapsed": false
   },
   "source": [
    "### Feature Engineering"
   ]
  },
  {
   "cell_type": "code",
   "execution_count": 3,
   "id": "10cd4a1be04a57f8",
   "metadata": {
    "collapsed": false,
    "ExecuteTime": {
     "end_time": "2024-05-23T12:43:00.336666200Z",
     "start_time": "2024-05-23T12:42:56.233520300Z"
    }
   },
   "outputs": [],
   "source": [
    "features = ['order_number', 'order_dow', 'order_hour_of_day', 'days_since_prior_order', 'tip_history',\n",
    "            'reordered_ratio']\n",
    "tip_history = TipHistory(data_store)\n",
    "reordered_rate = ReorderedRatio(data_store)\n",
    "\n",
    "tip_history.compute_feature()\n",
    "reordered_rate.compute_feature()"
   ]
  },
  {
   "cell_type": "code",
   "execution_count": 4,
   "id": "4531787ff76ccda3",
   "metadata": {
    "collapsed": false,
    "ExecuteTime": {
     "end_time": "2024-05-23T12:43:00.362206200Z",
     "start_time": "2024-05-23T12:43:00.339655800Z"
    }
   },
   "outputs": [
    {
     "data": {
      "text/plain": "    order_id  user_id eval_set  order_number  order_dow  order_hour_of_day  \\\n0    2539329        1    prior             1          2                  8   \n1    2398795        1    prior             2          3                  7   \n2     473747        1    prior             3          3                 12   \n3    2254736        1    prior             4          4                  7   \n4     431534        1    prior             5          4                 15   \n5    3367565        1    prior             6          2                  7   \n6     550135        1    prior             7          1                  9   \n7    3108588        1    prior             8          1                 14   \n8    2295261        1    prior             9          1                 16   \n9    2550362        1    prior            10          4                  8   \n10   1187899        1    train            11          4                  8   \n11   2168274        2    prior             1          2                 11   \n12   1501582        2    prior             2          5                 10   \n13   1901567        2    prior             3          1                 10   \n14    738281        2    prior             4          2                 10   \n15   1673511        2    prior             5          3                 11   \n16   1199898        2    prior             6          2                  9   \n17   3194192        2    prior             7          2                 12   \n18    788338        2    prior             8          1                 15   \n19   1718559        2    prior             9          2                  9   \n20   1447487        2    prior            10          1                 11   \n21   1402090        2    prior            11          1                 10   \n22   3186735        2    prior            12          1                  9   \n23   3268552        2    prior            13          4                 11   \n24    839880        2    prior            14          3                 10   \n\n    days_since_prior_order  tip  tip_history  reordered_ratio  \n0                       -1  0.0    -1.000000         0.000000  \n1                       15  0.0     0.000000         0.500000  \n2                       21  0.0     0.000000         0.600000  \n3                       29  0.0     0.000000         1.000000  \n4                       28  0.0     0.000000         0.625000  \n5                       19  0.0     0.000000         1.000000  \n6                       20  0.0     0.000000         1.000000  \n7                       14  0.0     0.000000         0.666667  \n8                        0  0.0     0.000000         1.000000  \n9                       30  0.0     0.000000         0.666667  \n10                      14  NaN     0.000000         0.909091  \n11                      -1  0.0    -1.000000         0.000000  \n12                      10  0.0     0.000000         0.166667  \n13                       3  1.0     0.000000         0.600000  \n14                       8  0.0     0.333333         0.076923  \n15                       8  1.0     0.250000         0.076923  \n16                      13  0.0     0.400000         0.571429  \n17                      14  1.0     0.333333         0.785714  \n18                      27  1.0     0.428571         0.562500  \n19                       8  1.0     0.500000         0.538462  \n20                       6  1.0     0.555556         0.888889  \n21                      30  1.0     0.600000         0.800000  \n22                      28  1.0     0.636364         0.578947  \n23                      30  0.0     0.666667         0.000000  \n24                      13  0.0     0.615385         0.625000  ",
      "text/html": "<div>\n<style scoped>\n    .dataframe tbody tr th:only-of-type {\n        vertical-align: middle;\n    }\n\n    .dataframe tbody tr th {\n        vertical-align: top;\n    }\n\n    .dataframe thead th {\n        text-align: right;\n    }\n</style>\n<table border=\"1\" class=\"dataframe\">\n  <thead>\n    <tr style=\"text-align: right;\">\n      <th></th>\n      <th>order_id</th>\n      <th>user_id</th>\n      <th>eval_set</th>\n      <th>order_number</th>\n      <th>order_dow</th>\n      <th>order_hour_of_day</th>\n      <th>days_since_prior_order</th>\n      <th>tip</th>\n      <th>tip_history</th>\n      <th>reordered_ratio</th>\n    </tr>\n  </thead>\n  <tbody>\n    <tr>\n      <th>0</th>\n      <td>2539329</td>\n      <td>1</td>\n      <td>prior</td>\n      <td>1</td>\n      <td>2</td>\n      <td>8</td>\n      <td>-1</td>\n      <td>0.0</td>\n      <td>-1.000000</td>\n      <td>0.000000</td>\n    </tr>\n    <tr>\n      <th>1</th>\n      <td>2398795</td>\n      <td>1</td>\n      <td>prior</td>\n      <td>2</td>\n      <td>3</td>\n      <td>7</td>\n      <td>15</td>\n      <td>0.0</td>\n      <td>0.000000</td>\n      <td>0.500000</td>\n    </tr>\n    <tr>\n      <th>2</th>\n      <td>473747</td>\n      <td>1</td>\n      <td>prior</td>\n      <td>3</td>\n      <td>3</td>\n      <td>12</td>\n      <td>21</td>\n      <td>0.0</td>\n      <td>0.000000</td>\n      <td>0.600000</td>\n    </tr>\n    <tr>\n      <th>3</th>\n      <td>2254736</td>\n      <td>1</td>\n      <td>prior</td>\n      <td>4</td>\n      <td>4</td>\n      <td>7</td>\n      <td>29</td>\n      <td>0.0</td>\n      <td>0.000000</td>\n      <td>1.000000</td>\n    </tr>\n    <tr>\n      <th>4</th>\n      <td>431534</td>\n      <td>1</td>\n      <td>prior</td>\n      <td>5</td>\n      <td>4</td>\n      <td>15</td>\n      <td>28</td>\n      <td>0.0</td>\n      <td>0.000000</td>\n      <td>0.625000</td>\n    </tr>\n    <tr>\n      <th>5</th>\n      <td>3367565</td>\n      <td>1</td>\n      <td>prior</td>\n      <td>6</td>\n      <td>2</td>\n      <td>7</td>\n      <td>19</td>\n      <td>0.0</td>\n      <td>0.000000</td>\n      <td>1.000000</td>\n    </tr>\n    <tr>\n      <th>6</th>\n      <td>550135</td>\n      <td>1</td>\n      <td>prior</td>\n      <td>7</td>\n      <td>1</td>\n      <td>9</td>\n      <td>20</td>\n      <td>0.0</td>\n      <td>0.000000</td>\n      <td>1.000000</td>\n    </tr>\n    <tr>\n      <th>7</th>\n      <td>3108588</td>\n      <td>1</td>\n      <td>prior</td>\n      <td>8</td>\n      <td>1</td>\n      <td>14</td>\n      <td>14</td>\n      <td>0.0</td>\n      <td>0.000000</td>\n      <td>0.666667</td>\n    </tr>\n    <tr>\n      <th>8</th>\n      <td>2295261</td>\n      <td>1</td>\n      <td>prior</td>\n      <td>9</td>\n      <td>1</td>\n      <td>16</td>\n      <td>0</td>\n      <td>0.0</td>\n      <td>0.000000</td>\n      <td>1.000000</td>\n    </tr>\n    <tr>\n      <th>9</th>\n      <td>2550362</td>\n      <td>1</td>\n      <td>prior</td>\n      <td>10</td>\n      <td>4</td>\n      <td>8</td>\n      <td>30</td>\n      <td>0.0</td>\n      <td>0.000000</td>\n      <td>0.666667</td>\n    </tr>\n    <tr>\n      <th>10</th>\n      <td>1187899</td>\n      <td>1</td>\n      <td>train</td>\n      <td>11</td>\n      <td>4</td>\n      <td>8</td>\n      <td>14</td>\n      <td>NaN</td>\n      <td>0.000000</td>\n      <td>0.909091</td>\n    </tr>\n    <tr>\n      <th>11</th>\n      <td>2168274</td>\n      <td>2</td>\n      <td>prior</td>\n      <td>1</td>\n      <td>2</td>\n      <td>11</td>\n      <td>-1</td>\n      <td>0.0</td>\n      <td>-1.000000</td>\n      <td>0.000000</td>\n    </tr>\n    <tr>\n      <th>12</th>\n      <td>1501582</td>\n      <td>2</td>\n      <td>prior</td>\n      <td>2</td>\n      <td>5</td>\n      <td>10</td>\n      <td>10</td>\n      <td>0.0</td>\n      <td>0.000000</td>\n      <td>0.166667</td>\n    </tr>\n    <tr>\n      <th>13</th>\n      <td>1901567</td>\n      <td>2</td>\n      <td>prior</td>\n      <td>3</td>\n      <td>1</td>\n      <td>10</td>\n      <td>3</td>\n      <td>1.0</td>\n      <td>0.000000</td>\n      <td>0.600000</td>\n    </tr>\n    <tr>\n      <th>14</th>\n      <td>738281</td>\n      <td>2</td>\n      <td>prior</td>\n      <td>4</td>\n      <td>2</td>\n      <td>10</td>\n      <td>8</td>\n      <td>0.0</td>\n      <td>0.333333</td>\n      <td>0.076923</td>\n    </tr>\n    <tr>\n      <th>15</th>\n      <td>1673511</td>\n      <td>2</td>\n      <td>prior</td>\n      <td>5</td>\n      <td>3</td>\n      <td>11</td>\n      <td>8</td>\n      <td>1.0</td>\n      <td>0.250000</td>\n      <td>0.076923</td>\n    </tr>\n    <tr>\n      <th>16</th>\n      <td>1199898</td>\n      <td>2</td>\n      <td>prior</td>\n      <td>6</td>\n      <td>2</td>\n      <td>9</td>\n      <td>13</td>\n      <td>0.0</td>\n      <td>0.400000</td>\n      <td>0.571429</td>\n    </tr>\n    <tr>\n      <th>17</th>\n      <td>3194192</td>\n      <td>2</td>\n      <td>prior</td>\n      <td>7</td>\n      <td>2</td>\n      <td>12</td>\n      <td>14</td>\n      <td>1.0</td>\n      <td>0.333333</td>\n      <td>0.785714</td>\n    </tr>\n    <tr>\n      <th>18</th>\n      <td>788338</td>\n      <td>2</td>\n      <td>prior</td>\n      <td>8</td>\n      <td>1</td>\n      <td>15</td>\n      <td>27</td>\n      <td>1.0</td>\n      <td>0.428571</td>\n      <td>0.562500</td>\n    </tr>\n    <tr>\n      <th>19</th>\n      <td>1718559</td>\n      <td>2</td>\n      <td>prior</td>\n      <td>9</td>\n      <td>2</td>\n      <td>9</td>\n      <td>8</td>\n      <td>1.0</td>\n      <td>0.500000</td>\n      <td>0.538462</td>\n    </tr>\n    <tr>\n      <th>20</th>\n      <td>1447487</td>\n      <td>2</td>\n      <td>prior</td>\n      <td>10</td>\n      <td>1</td>\n      <td>11</td>\n      <td>6</td>\n      <td>1.0</td>\n      <td>0.555556</td>\n      <td>0.888889</td>\n    </tr>\n    <tr>\n      <th>21</th>\n      <td>1402090</td>\n      <td>2</td>\n      <td>prior</td>\n      <td>11</td>\n      <td>1</td>\n      <td>10</td>\n      <td>30</td>\n      <td>1.0</td>\n      <td>0.600000</td>\n      <td>0.800000</td>\n    </tr>\n    <tr>\n      <th>22</th>\n      <td>3186735</td>\n      <td>2</td>\n      <td>prior</td>\n      <td>12</td>\n      <td>1</td>\n      <td>9</td>\n      <td>28</td>\n      <td>1.0</td>\n      <td>0.636364</td>\n      <td>0.578947</td>\n    </tr>\n    <tr>\n      <th>23</th>\n      <td>3268552</td>\n      <td>2</td>\n      <td>prior</td>\n      <td>13</td>\n      <td>4</td>\n      <td>11</td>\n      <td>30</td>\n      <td>0.0</td>\n      <td>0.666667</td>\n      <td>0.000000</td>\n    </tr>\n    <tr>\n      <th>24</th>\n      <td>839880</td>\n      <td>2</td>\n      <td>prior</td>\n      <td>14</td>\n      <td>3</td>\n      <td>10</td>\n      <td>13</td>\n      <td>0.0</td>\n      <td>0.615385</td>\n      <td>0.625000</td>\n    </tr>\n  </tbody>\n</table>\n</div>"
     },
     "execution_count": 4,
     "metadata": {},
     "output_type": "execute_result"
    }
   ],
   "source": [
    "data_store.get_orders_tip().head(25)"
   ]
  },
  {
   "cell_type": "markdown",
   "source": [
    "### Temporary Tests"
   ],
   "metadata": {
    "collapsed": false
   },
   "id": "3c58f94a8edcfe8b"
  },
  {
   "cell_type": "code",
   "outputs": [
    {
     "data": {
      "text/plain": "True"
     },
     "execution_count": 5,
     "metadata": {},
     "output_type": "execute_result"
    }
   ],
   "source": [
    "tip_history.compute_feature()\n",
    "id(data_store.get_orders_tip()) == id(tip_history.orders_tip)"
   ],
   "metadata": {
    "collapsed": false,
    "ExecuteTime": {
     "end_time": "2024-05-23T12:43:00.391636Z",
     "start_time": "2024-05-23T12:43:00.362206200Z"
    }
   },
   "id": "c90cccd6cf59e1d1",
   "execution_count": 5
  },
  {
   "cell_type": "code",
   "outputs": [
    {
     "data": {
      "text/plain": "    order_number  order_dow  order_hour_of_day  days_since_prior_order  \\\n0              1          2                  8                      -1   \n1              2          3                  7                      15   \n2              3          3                 12                      21   \n3              4          4                  7                      29   \n4              5          4                 15                      28   \n5              6          2                  7                      19   \n6              7          1                  9                      20   \n7              8          1                 14                      14   \n8              9          1                 16                       0   \n9             10          4                  8                      30   \n10            11          4                  8                      14   \n11             1          2                 11                      -1   \n12             2          5                 10                      10   \n13             3          1                 10                       3   \n14             4          2                 10                       8   \n15             5          3                 11                       8   \n16             6          2                  9                      13   \n17             7          2                 12                      14   \n18             8          1                 15                      27   \n19             9          2                  9                       8   \n20            10          1                 11                       6   \n21            11          1                 10                      30   \n22            12          1                  9                      28   \n23            13          4                 11                      30   \n24            14          3                 10                      13   \n\n    tip_history  reordered_ratio  \n0     -1.000000         0.000000  \n1      0.000000         0.500000  \n2      0.000000         0.600000  \n3      0.000000         1.000000  \n4      0.000000         0.625000  \n5      0.000000         1.000000  \n6      0.000000         1.000000  \n7      0.000000         0.666667  \n8      0.000000         1.000000  \n9      0.000000         0.666667  \n10     0.000000         0.909091  \n11    -1.000000         0.000000  \n12     0.000000         0.166667  \n13     0.000000         0.600000  \n14     0.333333         0.076923  \n15     0.250000         0.076923  \n16     0.400000         0.571429  \n17     0.333333         0.785714  \n18     0.428571         0.562500  \n19     0.500000         0.538462  \n20     0.555556         0.888889  \n21     0.600000         0.800000  \n22     0.636364         0.578947  \n23     0.666667         0.000000  \n24     0.615385         0.625000  ",
      "text/html": "<div>\n<style scoped>\n    .dataframe tbody tr th:only-of-type {\n        vertical-align: middle;\n    }\n\n    .dataframe tbody tr th {\n        vertical-align: top;\n    }\n\n    .dataframe thead th {\n        text-align: right;\n    }\n</style>\n<table border=\"1\" class=\"dataframe\">\n  <thead>\n    <tr style=\"text-align: right;\">\n      <th></th>\n      <th>order_number</th>\n      <th>order_dow</th>\n      <th>order_hour_of_day</th>\n      <th>days_since_prior_order</th>\n      <th>tip_history</th>\n      <th>reordered_ratio</th>\n    </tr>\n  </thead>\n  <tbody>\n    <tr>\n      <th>0</th>\n      <td>1</td>\n      <td>2</td>\n      <td>8</td>\n      <td>-1</td>\n      <td>-1.000000</td>\n      <td>0.000000</td>\n    </tr>\n    <tr>\n      <th>1</th>\n      <td>2</td>\n      <td>3</td>\n      <td>7</td>\n      <td>15</td>\n      <td>0.000000</td>\n      <td>0.500000</td>\n    </tr>\n    <tr>\n      <th>2</th>\n      <td>3</td>\n      <td>3</td>\n      <td>12</td>\n      <td>21</td>\n      <td>0.000000</td>\n      <td>0.600000</td>\n    </tr>\n    <tr>\n      <th>3</th>\n      <td>4</td>\n      <td>4</td>\n      <td>7</td>\n      <td>29</td>\n      <td>0.000000</td>\n      <td>1.000000</td>\n    </tr>\n    <tr>\n      <th>4</th>\n      <td>5</td>\n      <td>4</td>\n      <td>15</td>\n      <td>28</td>\n      <td>0.000000</td>\n      <td>0.625000</td>\n    </tr>\n    <tr>\n      <th>5</th>\n      <td>6</td>\n      <td>2</td>\n      <td>7</td>\n      <td>19</td>\n      <td>0.000000</td>\n      <td>1.000000</td>\n    </tr>\n    <tr>\n      <th>6</th>\n      <td>7</td>\n      <td>1</td>\n      <td>9</td>\n      <td>20</td>\n      <td>0.000000</td>\n      <td>1.000000</td>\n    </tr>\n    <tr>\n      <th>7</th>\n      <td>8</td>\n      <td>1</td>\n      <td>14</td>\n      <td>14</td>\n      <td>0.000000</td>\n      <td>0.666667</td>\n    </tr>\n    <tr>\n      <th>8</th>\n      <td>9</td>\n      <td>1</td>\n      <td>16</td>\n      <td>0</td>\n      <td>0.000000</td>\n      <td>1.000000</td>\n    </tr>\n    <tr>\n      <th>9</th>\n      <td>10</td>\n      <td>4</td>\n      <td>8</td>\n      <td>30</td>\n      <td>0.000000</td>\n      <td>0.666667</td>\n    </tr>\n    <tr>\n      <th>10</th>\n      <td>11</td>\n      <td>4</td>\n      <td>8</td>\n      <td>14</td>\n      <td>0.000000</td>\n      <td>0.909091</td>\n    </tr>\n    <tr>\n      <th>11</th>\n      <td>1</td>\n      <td>2</td>\n      <td>11</td>\n      <td>-1</td>\n      <td>-1.000000</td>\n      <td>0.000000</td>\n    </tr>\n    <tr>\n      <th>12</th>\n      <td>2</td>\n      <td>5</td>\n      <td>10</td>\n      <td>10</td>\n      <td>0.000000</td>\n      <td>0.166667</td>\n    </tr>\n    <tr>\n      <th>13</th>\n      <td>3</td>\n      <td>1</td>\n      <td>10</td>\n      <td>3</td>\n      <td>0.000000</td>\n      <td>0.600000</td>\n    </tr>\n    <tr>\n      <th>14</th>\n      <td>4</td>\n      <td>2</td>\n      <td>10</td>\n      <td>8</td>\n      <td>0.333333</td>\n      <td>0.076923</td>\n    </tr>\n    <tr>\n      <th>15</th>\n      <td>5</td>\n      <td>3</td>\n      <td>11</td>\n      <td>8</td>\n      <td>0.250000</td>\n      <td>0.076923</td>\n    </tr>\n    <tr>\n      <th>16</th>\n      <td>6</td>\n      <td>2</td>\n      <td>9</td>\n      <td>13</td>\n      <td>0.400000</td>\n      <td>0.571429</td>\n    </tr>\n    <tr>\n      <th>17</th>\n      <td>7</td>\n      <td>2</td>\n      <td>12</td>\n      <td>14</td>\n      <td>0.333333</td>\n      <td>0.785714</td>\n    </tr>\n    <tr>\n      <th>18</th>\n      <td>8</td>\n      <td>1</td>\n      <td>15</td>\n      <td>27</td>\n      <td>0.428571</td>\n      <td>0.562500</td>\n    </tr>\n    <tr>\n      <th>19</th>\n      <td>9</td>\n      <td>2</td>\n      <td>9</td>\n      <td>8</td>\n      <td>0.500000</td>\n      <td>0.538462</td>\n    </tr>\n    <tr>\n      <th>20</th>\n      <td>10</td>\n      <td>1</td>\n      <td>11</td>\n      <td>6</td>\n      <td>0.555556</td>\n      <td>0.888889</td>\n    </tr>\n    <tr>\n      <th>21</th>\n      <td>11</td>\n      <td>1</td>\n      <td>10</td>\n      <td>30</td>\n      <td>0.600000</td>\n      <td>0.800000</td>\n    </tr>\n    <tr>\n      <th>22</th>\n      <td>12</td>\n      <td>1</td>\n      <td>9</td>\n      <td>28</td>\n      <td>0.636364</td>\n      <td>0.578947</td>\n    </tr>\n    <tr>\n      <th>23</th>\n      <td>13</td>\n      <td>4</td>\n      <td>11</td>\n      <td>30</td>\n      <td>0.666667</td>\n      <td>0.000000</td>\n    </tr>\n    <tr>\n      <th>24</th>\n      <td>14</td>\n      <td>3</td>\n      <td>10</td>\n      <td>13</td>\n      <td>0.615385</td>\n      <td>0.625000</td>\n    </tr>\n  </tbody>\n</table>\n</div>"
     },
     "execution_count": 6,
     "metadata": {},
     "output_type": "execute_result"
    }
   ],
   "source": [
    "data_store.get_orders_tip(features).head(25)"
   ],
   "metadata": {
    "collapsed": false,
    "ExecuteTime": {
     "end_time": "2024-05-23T12:43:00.483673Z",
     "start_time": "2024-05-23T12:43:00.392639900Z"
    }
   },
   "id": "5eb11f95f98baddd",
   "execution_count": 6
  },
  {
   "cell_type": "markdown",
   "id": "d571331aa19136d5",
   "metadata": {
    "collapsed": false
   },
   "source": [
    "### Analysis"
   ]
  },
  {
   "cell_type": "markdown",
   "id": "9038d3d52fbf8ad1",
   "metadata": {
    "collapsed": false
   },
   "source": [
    "### Model Training & Evaluation"
   ]
  },
  {
   "cell_type": "code",
   "execution_count": 6,
   "id": "a9f00ea58f4da04e",
   "metadata": {
    "collapsed": false,
    "ExecuteTime": {
     "end_time": "2024-05-23T12:43:00.484765100Z",
     "start_time": "2024-05-23T12:43:00.442524100Z"
    }
   },
   "outputs": [],
   "source": []
  }
 ],
 "metadata": {
  "kernelspec": {
   "name": "python3",
   "language": "python",
   "display_name": "Python 3 (ipykernel)"
  },
  "language_info": {
   "codemirror_mode": {
    "name": "ipython",
    "version": 3
   },
   "file_extension": ".py",
   "mimetype": "text/x-python",
   "name": "python",
   "nbconvert_exporter": "python",
   "pygments_lexer": "ipython3",
   "version": "3.11.8"
  }
 },
 "nbformat": 4,
 "nbformat_minor": 5
}
