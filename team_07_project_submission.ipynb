{
 "cells": [
  {
   "cell_type": "markdown",
   "id": "7aea19f30bc2952",
   "metadata": {
    "collapsed": false
   },
   "source": [
    "# Data Science Project SoSe 2024\n",
    "## Team 07\n",
    "- Maximilian Hoffmann\n",
    "- Kilian Kempf\n",
    "- Daniel Schneider\n",
    "- Tom Schuck\n",
    "\n",
    "## Project Submission"
   ]
  },
  {
   "cell_type": "markdown",
   "id": "ca8cc580026f3fef",
   "metadata": {
    "collapsed": false
   },
   "source": [
    "### Libraries"
   ]
  },
  {
   "cell_type": "code",
   "outputs": [],
   "source": [
    "import os\n",
    "\n",
    "import pandas as pd\n",
    "\n",
    "from feature_engineering import DataManager\n",
    "from feature_engineering.features import TipHistory, ReorderedRatio, DynamicFeatureTest1, DynamicFeatureTest2, \\\n",
    "    OrderSize, ModeDepartment, PrevTippedProductsRatio, CustomerLifetime, PrevOrderTipped, OrderFrequency, \\\n",
    "    SimOrdersTipRatio, ProductTipRate, DepartmentTipRate, AisleTipRate, OrderExcessLikability, AvgSizePrevOrders, \\\n",
    "    MeanOrderedRate, LastTipSequence, RelDaysSinceTip, DaysSinceTip"
   ],
   "metadata": {
    "collapsed": false,
    "ExecuteTime": {
     "end_time": "2024-05-27T17:35:30.850731800Z",
     "start_time": "2024-05-27T17:35:30.357633300Z"
    }
   },
   "id": "c51b42d19954d682",
   "execution_count": 1
  },
  {
   "cell_type": "markdown",
   "source": [
    "### Data Preparation"
   ],
   "metadata": {
    "collapsed": false
   },
   "id": "b1817857eb895437"
  },
  {
   "cell_type": "code",
   "outputs": [],
   "source": [
    "DATA_DIR = os.path.join(os.getcwd(), 'data/Instacart')\n",
    "\n",
    "op_prior = pd.read_csv(os.path.join(DATA_DIR, 'order_products__prior.csv.zip'))\n",
    "op_train = pd.read_csv(os.path.join(DATA_DIR, 'order_products__train.csv.zip'))\n",
    "\n",
    "tip_train = pd.read_csv(os.path.join(DATA_DIR, 'tip_trainingsdaten1_.csv'))[['order_id', 'tip']]\n",
    "tip_test = pd.read_csv(os.path.join(DATA_DIR, 'tip_testdaten1_template.csv'))\n",
    "\n",
    "orders = pd.read_csv(os.path.join(DATA_DIR, 'orders.csv.zip'))\n",
    "aisles = pd.read_csv(os.path.join(DATA_DIR, 'aisles.csv.zip'))\n",
    "departments = pd.read_csv(os.path.join(DATA_DIR, 'departments.csv.zip'))\n",
    "products = pd.read_csv(os.path.join(DATA_DIR, 'products.csv.zip'))\n",
    "\n",
    "data_manager = DataManager(op_prior, op_train, tip_train, tip_test, orders, products, aisles, departments)\n",
    "order_amount = len(data_manager.get_orders_tip())"
   ],
   "metadata": {
    "collapsed": false,
    "ExecuteTime": {
     "end_time": "2024-05-27T17:36:04.866109500Z",
     "start_time": "2024-05-27T17:35:30.853336Z"
    }
   },
   "id": "2ac69658072618d1",
   "execution_count": 2
  },
  {
   "cell_type": "markdown",
   "source": [
    "### Feature Engineering"
   ],
   "metadata": {
    "collapsed": false
   },
   "id": "1f339505e9c6cd1b"
  },
  {
   "cell_type": "code",
   "outputs": [],
   "source": [
    "# features = ['order_number', 'order_dow', 'order_hour_of_day', 'days_since_prior_order', 'tip_history',\n",
    "#             'reordered_ratio', 'order_size', 'mode_dept', 'prev_tipped_products_ratio']\n",
    "\n",
    "# Kilian\n",
    "tip_history = TipHistory()\n",
    "reordered_rate = ReorderedRatio()\n",
    "order_size = OrderSize()\n",
    "prev_tipped_products_ratio = PrevTippedProductsRatio()\n",
    "customer_lifetime = CustomerLifetime()\n",
    "prev_order_tipped = PrevOrderTipped()\n",
    "\n",
    "# Daniel\n",
    "mode_dept = ModeDepartment()\n",
    "order_frequency = OrderFrequency()\n",
    "mean_ordered_rate = MeanOrderedRate()\n",
    "rel_days_since_tip = RelDaysSinceTip()\n",
    "days_since_tip = DaysSinceTip()\n",
    "\n",
    "# Max\n",
    "sim_orders_tip_ratio = SimOrdersTipRatio()\n",
    "product_tip_rate = ProductTipRate()\n",
    "department_tip_rate = DepartmentTipRate()\n",
    "aisle_tip_rate = AisleTipRate()\n",
    "last_tip_sequence = LastTipSequence()\n",
    "\n",
    "# Tom\n",
    "order_excess_likability = OrderExcessLikability()  # TODO\n",
    "avg_size_prev_orders = AvgSizePrevOrders()  # TODO\n",
    "\n",
    "# Test\n",
    "dynamic_feature_test_1 = DynamicFeatureTest1()\n",
    "dynamic_feature_test_2 = DynamicFeatureTest2()"
   ],
   "metadata": {
    "collapsed": false,
    "ExecuteTime": {
     "end_time": "2024-05-27T17:36:04.878293Z",
     "start_time": "2024-05-27T17:36:04.868109300Z"
    }
   },
   "id": "6a897e084cc934ce",
   "execution_count": 3
  },
  {
   "cell_type": "code",
   "outputs": [],
   "source": [
    "# Static Features\n",
    "data_manager.register_feature(tip_history)\n",
    "data_manager.register_feature(reordered_rate)\n",
    "data_manager.register_feature(order_size)\n",
    "data_manager.register_feature(customer_lifetime)\n",
    "data_manager.register_feature(prev_order_tipped)\n",
    "data_manager.register_feature(prev_tipped_products_ratio)\n",
    "\n",
    "data_manager.register_feature(mode_dept)\n",
    "data_manager.register_feature(order_frequency)\n",
    "data_manager.register_feature(sim_orders_tip_ratio)\n",
    "data_manager.register_feature(order_excess_likability)\n",
    "data_manager.register_feature(avg_size_prev_orders)\n",
    "data_manager.register_feature(mean_ordered_rate)\n",
    "# data_manager.register_feature(last_tip_sequence)\n",
    "data_manager.register_feature(rel_days_since_tip)\n",
    "data_manager.register_feature(days_since_tip)\n",
    "\n",
    "# Dynamic Features\n",
    "data_manager.register_feature(dynamic_feature_test_1)\n",
    "data_manager.register_feature(dynamic_feature_test_2)\n",
    "data_manager.register_feature(product_tip_rate)\n",
    "data_manager.register_feature(department_tip_rate)\n",
    "data_manager.register_feature(aisle_tip_rate)"
   ],
   "metadata": {
    "collapsed": false,
    "ExecuteTime": {
     "end_time": "2024-05-27T17:36:04.891462100Z",
     "start_time": "2024-05-27T17:36:04.873464600Z"
    }
   },
   "id": "7bdee9f31e0bac1b",
   "execution_count": 4
  },
  {
   "cell_type": "code",
   "outputs": [
    {
     "name": "stderr",
     "output_type": "stream",
     "text": [
      "C:\\dev\\uni\\data-science-assignment\\feature_engineering\\features\\days_since_tip.py:55: FutureWarning: Downcasting object dtype arrays on .fillna, .ffill, .bfill is deprecated and will change in a future version. Call result.infer_objects(copy=False) instead. To opt-in to the future behavior, set `pd.set_option('future.no_silent_downcasting', True)`\n",
      "  orders_tip_copy['tip_temp'] = orders_tip_copy['tip'].fillna(0).astype(int)\n"
     ]
    }
   ],
   "source": [
    "data_manager.compute_features()"
   ],
   "metadata": {
    "collapsed": false,
    "ExecuteTime": {
     "end_time": "2024-05-27T18:01:34.027370700Z",
     "start_time": "2024-05-27T17:36:04.891462100Z"
    }
   },
   "id": "6b815abe51807fce",
   "execution_count": 5
  },
  {
   "cell_type": "code",
   "outputs": [
    {
     "data": {
      "text/plain": "    order_id  user_id eval_set  order_number  order_dow  order_hour_of_day  \\\n0    2539329        1    prior             1          2                  8   \n1    2398795        1    prior             2          3                  7   \n2     473747        1    prior             3          3                 12   \n3    2254736        1    prior             4          4                  7   \n4     431534        1    prior             5          4                 15   \n..       ...      ...      ...           ...        ...                ...   \n95   1916106       12    prior             3          5                  8   \n96   1057378       12    prior             4          3                  9   \n97    221248       12    prior             5          1                  9   \n98   2618231       13    prior             1          6                 12   \n99   2560699       13    prior             2          0                 11   \n\n    days_since_prior_order  tip  prev_tipped_products_ratio  \\\n0                      NaN  0.0                         0.0   \n1                     15.0  0.0                         0.0   \n2                     21.0  0.0                         0.0   \n3                     29.0  0.0                         0.0   \n4                     28.0  0.0                         0.0   \n..                     ...  ...                         ...   \n95                    14.0  0.0                         0.0   \n96                    26.0  0.0                         0.0   \n97                    30.0  0.0                         0.0   \n98                     NaN  0.0                         0.0   \n99                     8.0  1.0                         0.0   \n\n    customer_lifetime  ...  prev_order_tipped  reordered_ratio  \\\n0                   0  ...                 -1         0.000000   \n1                  15  ...                0.0         0.500000   \n2                  36  ...                0.0         0.600000   \n3                  65  ...                0.0         1.000000   \n4                  93  ...                0.0         0.625000   \n..                ...  ...                ...              ...   \n95                 44  ...                0.0         0.250000   \n96                 70  ...                0.0         0.250000   \n97                100  ...                0.0         0.227273   \n98                  0  ...                 -1         0.000000   \n99                  8  ...                0.0         0.500000   \n\n    sim_orders_tip_ratio  mode_dept  order_excess_likability  aisle_tip_rate  \\\n0               0.000000         19                 0.000000        0.422794   \n1              -0.187500         19                 0.500000        0.435643   \n2              -0.208333         19                 0.600000        0.418555   \n3              -0.367560         19                 1.000000        0.423573   \n4              -0.294141          4                 0.625000        0.463958   \n..                   ...        ...                      ...             ...   \n95             -0.038462         19                 0.250000        0.406478   \n96             -0.042316          4                 0.250000        0.448863   \n97             -0.051912          4                 0.227273        0.437352   \n98              0.000000         16                 0.000000        0.468568   \n99             -0.142857         16                 0.500000        0.454998   \n\n    dynamic_feature_test_1 dynamic_feature_test_2  dept_tip_rate  \\\n0                 0.090909               0.090909        0.43166   \n1                 0.181818               0.181818       0.435526   \n2                 0.272727               0.272727       0.423082   \n3                 0.363636               0.363636        0.43166   \n4                 0.454545               0.454545       0.454249   \n..                     ...                    ...            ...   \n95                0.600000               0.600000       0.415053   \n96                0.800000               0.800000       0.442395   \n97                1.000000               1.000000       0.442676   \n98                0.076923               0.076923       0.466173   \n99                0.153846               0.153846       0.444226   \n\n    product_tip_rate  \n0           0.392608  \n1           0.436999  \n2           0.432942  \n3           0.407192  \n4           0.468226  \n..               ...  \n95          0.419411  \n96          0.453567  \n97          0.454669  \n98          0.451617  \n99          0.447196  \n\n[100 rows x 27 columns]",
      "text/html": "<div>\n<style scoped>\n    .dataframe tbody tr th:only-of-type {\n        vertical-align: middle;\n    }\n\n    .dataframe tbody tr th {\n        vertical-align: top;\n    }\n\n    .dataframe thead th {\n        text-align: right;\n    }\n</style>\n<table border=\"1\" class=\"dataframe\">\n  <thead>\n    <tr style=\"text-align: right;\">\n      <th></th>\n      <th>order_id</th>\n      <th>user_id</th>\n      <th>eval_set</th>\n      <th>order_number</th>\n      <th>order_dow</th>\n      <th>order_hour_of_day</th>\n      <th>days_since_prior_order</th>\n      <th>tip</th>\n      <th>prev_tipped_products_ratio</th>\n      <th>customer_lifetime</th>\n      <th>...</th>\n      <th>prev_order_tipped</th>\n      <th>reordered_ratio</th>\n      <th>sim_orders_tip_ratio</th>\n      <th>mode_dept</th>\n      <th>order_excess_likability</th>\n      <th>aisle_tip_rate</th>\n      <th>dynamic_feature_test_1</th>\n      <th>dynamic_feature_test_2</th>\n      <th>dept_tip_rate</th>\n      <th>product_tip_rate</th>\n    </tr>\n  </thead>\n  <tbody>\n    <tr>\n      <th>0</th>\n      <td>2539329</td>\n      <td>1</td>\n      <td>prior</td>\n      <td>1</td>\n      <td>2</td>\n      <td>8</td>\n      <td>NaN</td>\n      <td>0.0</td>\n      <td>0.0</td>\n      <td>0</td>\n      <td>...</td>\n      <td>-1</td>\n      <td>0.000000</td>\n      <td>0.000000</td>\n      <td>19</td>\n      <td>0.000000</td>\n      <td>0.422794</td>\n      <td>0.090909</td>\n      <td>0.090909</td>\n      <td>0.43166</td>\n      <td>0.392608</td>\n    </tr>\n    <tr>\n      <th>1</th>\n      <td>2398795</td>\n      <td>1</td>\n      <td>prior</td>\n      <td>2</td>\n      <td>3</td>\n      <td>7</td>\n      <td>15.0</td>\n      <td>0.0</td>\n      <td>0.0</td>\n      <td>15</td>\n      <td>...</td>\n      <td>0.0</td>\n      <td>0.500000</td>\n      <td>-0.187500</td>\n      <td>19</td>\n      <td>0.500000</td>\n      <td>0.435643</td>\n      <td>0.181818</td>\n      <td>0.181818</td>\n      <td>0.435526</td>\n      <td>0.436999</td>\n    </tr>\n    <tr>\n      <th>2</th>\n      <td>473747</td>\n      <td>1</td>\n      <td>prior</td>\n      <td>3</td>\n      <td>3</td>\n      <td>12</td>\n      <td>21.0</td>\n      <td>0.0</td>\n      <td>0.0</td>\n      <td>36</td>\n      <td>...</td>\n      <td>0.0</td>\n      <td>0.600000</td>\n      <td>-0.208333</td>\n      <td>19</td>\n      <td>0.600000</td>\n      <td>0.418555</td>\n      <td>0.272727</td>\n      <td>0.272727</td>\n      <td>0.423082</td>\n      <td>0.432942</td>\n    </tr>\n    <tr>\n      <th>3</th>\n      <td>2254736</td>\n      <td>1</td>\n      <td>prior</td>\n      <td>4</td>\n      <td>4</td>\n      <td>7</td>\n      <td>29.0</td>\n      <td>0.0</td>\n      <td>0.0</td>\n      <td>65</td>\n      <td>...</td>\n      <td>0.0</td>\n      <td>1.000000</td>\n      <td>-0.367560</td>\n      <td>19</td>\n      <td>1.000000</td>\n      <td>0.423573</td>\n      <td>0.363636</td>\n      <td>0.363636</td>\n      <td>0.43166</td>\n      <td>0.407192</td>\n    </tr>\n    <tr>\n      <th>4</th>\n      <td>431534</td>\n      <td>1</td>\n      <td>prior</td>\n      <td>5</td>\n      <td>4</td>\n      <td>15</td>\n      <td>28.0</td>\n      <td>0.0</td>\n      <td>0.0</td>\n      <td>93</td>\n      <td>...</td>\n      <td>0.0</td>\n      <td>0.625000</td>\n      <td>-0.294141</td>\n      <td>4</td>\n      <td>0.625000</td>\n      <td>0.463958</td>\n      <td>0.454545</td>\n      <td>0.454545</td>\n      <td>0.454249</td>\n      <td>0.468226</td>\n    </tr>\n    <tr>\n      <th>...</th>\n      <td>...</td>\n      <td>...</td>\n      <td>...</td>\n      <td>...</td>\n      <td>...</td>\n      <td>...</td>\n      <td>...</td>\n      <td>...</td>\n      <td>...</td>\n      <td>...</td>\n      <td>...</td>\n      <td>...</td>\n      <td>...</td>\n      <td>...</td>\n      <td>...</td>\n      <td>...</td>\n      <td>...</td>\n      <td>...</td>\n      <td>...</td>\n      <td>...</td>\n      <td>...</td>\n    </tr>\n    <tr>\n      <th>95</th>\n      <td>1916106</td>\n      <td>12</td>\n      <td>prior</td>\n      <td>3</td>\n      <td>5</td>\n      <td>8</td>\n      <td>14.0</td>\n      <td>0.0</td>\n      <td>0.0</td>\n      <td>44</td>\n      <td>...</td>\n      <td>0.0</td>\n      <td>0.250000</td>\n      <td>-0.038462</td>\n      <td>19</td>\n      <td>0.250000</td>\n      <td>0.406478</td>\n      <td>0.600000</td>\n      <td>0.600000</td>\n      <td>0.415053</td>\n      <td>0.419411</td>\n    </tr>\n    <tr>\n      <th>96</th>\n      <td>1057378</td>\n      <td>12</td>\n      <td>prior</td>\n      <td>4</td>\n      <td>3</td>\n      <td>9</td>\n      <td>26.0</td>\n      <td>0.0</td>\n      <td>0.0</td>\n      <td>70</td>\n      <td>...</td>\n      <td>0.0</td>\n      <td>0.250000</td>\n      <td>-0.042316</td>\n      <td>4</td>\n      <td>0.250000</td>\n      <td>0.448863</td>\n      <td>0.800000</td>\n      <td>0.800000</td>\n      <td>0.442395</td>\n      <td>0.453567</td>\n    </tr>\n    <tr>\n      <th>97</th>\n      <td>221248</td>\n      <td>12</td>\n      <td>prior</td>\n      <td>5</td>\n      <td>1</td>\n      <td>9</td>\n      <td>30.0</td>\n      <td>0.0</td>\n      <td>0.0</td>\n      <td>100</td>\n      <td>...</td>\n      <td>0.0</td>\n      <td>0.227273</td>\n      <td>-0.051912</td>\n      <td>4</td>\n      <td>0.227273</td>\n      <td>0.437352</td>\n      <td>1.000000</td>\n      <td>1.000000</td>\n      <td>0.442676</td>\n      <td>0.454669</td>\n    </tr>\n    <tr>\n      <th>98</th>\n      <td>2618231</td>\n      <td>13</td>\n      <td>prior</td>\n      <td>1</td>\n      <td>6</td>\n      <td>12</td>\n      <td>NaN</td>\n      <td>0.0</td>\n      <td>0.0</td>\n      <td>0</td>\n      <td>...</td>\n      <td>-1</td>\n      <td>0.000000</td>\n      <td>0.000000</td>\n      <td>16</td>\n      <td>0.000000</td>\n      <td>0.468568</td>\n      <td>0.076923</td>\n      <td>0.076923</td>\n      <td>0.466173</td>\n      <td>0.451617</td>\n    </tr>\n    <tr>\n      <th>99</th>\n      <td>2560699</td>\n      <td>13</td>\n      <td>prior</td>\n      <td>2</td>\n      <td>0</td>\n      <td>11</td>\n      <td>8.0</td>\n      <td>1.0</td>\n      <td>0.0</td>\n      <td>8</td>\n      <td>...</td>\n      <td>0.0</td>\n      <td>0.500000</td>\n      <td>-0.142857</td>\n      <td>16</td>\n      <td>0.500000</td>\n      <td>0.454998</td>\n      <td>0.153846</td>\n      <td>0.153846</td>\n      <td>0.444226</td>\n      <td>0.447196</td>\n    </tr>\n  </tbody>\n</table>\n<p>100 rows × 27 columns</p>\n</div>"
     },
     "execution_count": 6,
     "metadata": {},
     "output_type": "execute_result"
    }
   ],
   "source": [
    "data_manager.get_orders_tip().head(100)"
   ],
   "metadata": {
    "collapsed": false,
    "ExecuteTime": {
     "end_time": "2024-05-27T18:01:34.053989Z",
     "start_time": "2024-05-27T18:01:34.034293800Z"
    }
   },
   "id": "d3ea4e9eac0b043c",
   "execution_count": 6
  },
  {
   "cell_type": "code",
   "outputs": [
    {
     "name": "stdout",
     "output_type": "stream",
     "text": [
      "Number of orders: 3346083\n",
      "Number of orders did not change: True\n",
      "Number of NaN or null values in each column:\n",
      "order_id                            0\n",
      "user_id                             0\n",
      "eval_set                            0\n",
      "order_number                        0\n",
      "order_dow                           0\n",
      "order_hour_of_day                   0\n",
      "days_since_prior_order         206209\n",
      "tip                            131209\n",
      "prev_tipped_products_ratio          0\n",
      "customer_lifetime                   0\n",
      "rel_days_since_tip            1273798\n",
      "order_frequency                     0\n",
      "order_size                          0\n",
      "avg_size_prev_orders                0\n",
      "mean_ordered_rate                   0\n",
      "days_since_tip                      0\n",
      "tip_history                         0\n",
      "prev_order_tipped                   0\n",
      "reordered_ratio                     0\n",
      "sim_orders_tip_ratio                0\n",
      "mode_dept                           0\n",
      "order_excess_likability             0\n",
      "aisle_tip_rate                      0\n",
      "dynamic_feature_test_1              0\n",
      "dynamic_feature_test_2              0\n",
      "dept_tip_rate                       0\n",
      "product_tip_rate                    0\n",
      "dtype: int64\n"
     ]
    }
   ],
   "source": [
    "print(f\"Number of orders: {len(data_manager.get_orders_tip())}\")\n",
    "print(f\"Number of orders did not change: {order_amount == len(data_manager.get_orders_tip())}\\n\")\n",
    "print(f\"Number of NaN or null values in each column:\\n{data_manager.get_orders_tip().isnull().sum()}\")"
   ],
   "metadata": {
    "collapsed": false,
    "ExecuteTime": {
     "end_time": "2024-05-27T18:01:35.412442600Z",
     "start_time": "2024-05-27T18:01:34.048483600Z"
    }
   },
   "id": "70be2ca230e12d01",
   "execution_count": 7
  },
  {
   "cell_type": "code",
   "outputs": [],
   "source": [
    "order_ids = data_manager.get_orders_tip(full=True).groupby('user_id')['order_id'].head(5)\n",
    "order_amount = len(order_ids)"
   ],
   "metadata": {
    "collapsed": false,
    "ExecuteTime": {
     "end_time": "2024-05-27T18:01:35.625574400Z",
     "start_time": "2024-05-27T18:01:35.396812700Z"
    }
   },
   "id": "ed21e9e41111b301",
   "execution_count": 8
  },
  {
   "cell_type": "code",
   "outputs": [],
   "source": [
    "data_manager.set_subset(order_ids)"
   ],
   "metadata": {
    "collapsed": false,
    "ExecuteTime": {
     "end_time": "2024-05-27T18:04:05.737220800Z",
     "start_time": "2024-05-27T18:01:35.624570800Z"
    }
   },
   "id": "a9c4a8244b861028",
   "execution_count": 9
  },
  {
   "cell_type": "code",
   "execution_count": 10,
   "id": "82124a97baebc52",
   "metadata": {
    "collapsed": false,
    "ExecuteTime": {
     "end_time": "2024-05-27T18:04:05.760831700Z",
     "start_time": "2024-05-27T18:04:05.738198400Z"
    }
   },
   "outputs": [
    {
     "data": {
      "text/plain": "    order_id  user_id eval_set  order_number  order_dow  order_hour_of_day  \\\n0    2539329        1    prior             1          2                  8   \n1    2398795        1    prior             2          3                  7   \n2     473747        1    prior             3          3                 12   \n3    2254736        1    prior             4          4                  7   \n4     431534        1    prior             5          4                 15   \n5    2168274        2    prior             1          2                 11   \n6    1501582        2    prior             2          5                 10   \n7    1901567        2    prior             3          1                 10   \n8     738281        2    prior             4          2                 10   \n9    1673511        2    prior             5          3                 11   \n10   1374495        3    prior             1          1                 14   \n11    444309        3    prior             2          3                 19   \n12   3002854        3    prior             3          3                 16   \n13   2037211        3    prior             4          2                 18   \n14   2710558        3    prior             5          0                 17   \n15   3343014        4    prior             1          6                 11   \n16   2030307        4    prior             2          4                 11   \n17    691089        4    prior             3          4                 15   \n18     94891        4    prior             4          5                 13   \n19   2557754        4    prior             5          5                 13   \n20   2717275        5    prior             1          3                 12   \n21   1909121        5    prior             2          0                 16   \n22   2267326        5    prior             3          3                 18   \n23    157374        5    prior             4          1                 18   \n24   2196797        5    train             5          0                 11   \n\n    days_since_prior_order  tip  prev_tipped_products_ratio  \\\n0                     -1.0  0.0                    0.000000   \n1                     15.0  0.0                    0.000000   \n2                     21.0  0.0                    0.000000   \n3                     29.0  0.0                    0.000000   \n4                     28.0  0.0                    0.000000   \n5                     -1.0  0.0                    0.000000   \n6                     10.0  0.0                    0.000000   \n7                      3.0  1.0                    0.000000   \n8                      8.0  0.0                    0.076923   \n9                      8.0  1.0                    0.076923   \n10                    -1.0  1.0                    0.000000   \n11                     9.0  1.0                    0.333333   \n12                    21.0  1.0                    0.500000   \n13                    20.0  1.0                    0.200000   \n14                    12.0  1.0                    0.636364   \n15                    -1.0  0.0                    0.000000   \n16                    19.0  0.0                    0.000000   \n17                    21.0  0.0                    0.000000   \n18                    15.0  0.0                    0.000000   \n19                     0.0  0.0                    0.000000   \n20                    -1.0  0.0                    0.000000   \n21                    11.0  1.0                    0.000000   \n22                    10.0  0.0                    0.400000   \n23                    19.0  1.0                    0.416667   \n24                     6.0  NaN                    0.333333   \n\n    customer_lifetime  ...  prev_order_tipped  reordered_ratio  \\\n0                   0  ...                 -1         0.000000   \n1                  15  ...                0.0         0.500000   \n2                  36  ...                0.0         0.600000   \n3                  65  ...                0.0         1.000000   \n4                  93  ...                0.0         0.625000   \n5                   0  ...                 -1         0.000000   \n6                  10  ...                0.0         0.166667   \n7                  13  ...                0.0         0.600000   \n8                  21  ...                1.0         0.076923   \n9                  29  ...                0.0         0.076923   \n10                  0  ...                 -1         0.000000   \n11                  9  ...                1.0         0.333333   \n12                 30  ...                1.0         0.500000   \n13                 50  ...                1.0         0.200000   \n14                 62  ...                1.0         0.636364   \n15                  0  ...                 -1         0.000000   \n16                 19  ...                0.0         0.000000   \n17                 40  ...                0.0         0.142857   \n18                 55  ...                0.0         0.000000   \n19                 55  ...                0.0         0.000000   \n20                  0  ...                 -1         0.000000   \n21                 11  ...                0.0         0.444444   \n22                 21  ...                1.0         0.400000   \n23                 40  ...                0.0         0.666667   \n24                 46  ...                1.0         0.444444   \n\n    sim_orders_tip_ratio  mode_dept  order_excess_likability  aisle_tip_rate  \\\n0               0.000000         19                 0.000000        0.339618   \n1              -0.187500         19                 0.500000        0.350406   \n2              -0.208333         19                 0.600000        0.331775   \n3              -0.367560         19                 1.000000        0.339673   \n4              -0.294141          4                 0.625000         0.37799   \n5               0.000000          4                 0.000000        0.353337   \n6              -0.027778          4                 0.166667         0.36929   \n7              -0.100000         20                 0.600000        0.364262   \n8               0.048824         20                 0.076923        0.338992   \n9               0.039712         16                 0.076923        0.391448   \n10              0.000000          4                 0.000000        0.392487   \n11              0.187500         16                 0.333333        0.367664   \n12              0.302198          4                 0.500000        0.378242   \n13              0.071429          1                 0.200000        0.327589   \n14              0.874161          4                 0.636364        0.376202   \n15              0.000000         -1                 0.000000        0.314292   \n16              0.000000         -1                 0.000000        0.560904   \n17             -0.033333          4                 0.142857         0.31665   \n18              0.000000         -1                 0.000000        0.538595   \n19              0.000000         20                 0.000000        0.337179   \n20              0.000000          4                 0.000000        0.379777   \n21             -0.125000          4                 0.444444        0.376438   \n22              0.119048          4                 0.400000        0.339664   \n23              0.170693          4                 0.666667         0.38112   \n24              0.126480          4                 0.444444        0.363054   \n\n    dynamic_feature_test_1 dynamic_feature_test_2  dept_tip_rate  \\\n0                      0.2                    0.2       0.346443   \n1                      0.4                    0.4        0.34929   \n2                      0.6                    0.6       0.336445   \n3                      0.8                    0.8       0.346443   \n4                      1.0                    1.0       0.367828   \n5                      0.2                    0.2       0.349107   \n6                      0.4                    0.4        0.36711   \n7                      0.6                    0.6       0.364443   \n8                      0.8                    0.8       0.333335   \n9                      1.0                    1.0       0.378839   \n10                     0.2                    0.2       0.382944   \n11                     0.4                    0.4       0.370049   \n12                     0.6                    0.6       0.376529   \n13                     0.8                    0.8       0.313733   \n14                     1.0                    1.0       0.382026   \n15                     0.2                    0.2       0.307843   \n16                     0.4                    0.4       0.561174   \n17                     0.6                    0.6       0.317374   \n18                     0.8                    0.8       0.536474   \n19                     1.0                    1.0       0.341034   \n20                     0.2                    0.2       0.381378   \n21                     0.4                    0.4       0.372326   \n22                     0.6                    0.6       0.342693   \n23                     0.8                    0.8       0.380264   \n24                     1.0                    1.0       0.367559   \n\n    product_tip_rate  \n0           0.305662  \n1           0.342736  \n2           0.328557  \n3           0.304496  \n4           0.372122  \n5           0.388366  \n6           0.362496  \n7           0.394544  \n8           0.345744  \n9           0.419061  \n10          0.381085  \n11          0.379845  \n12           0.38588  \n13          0.317016  \n14          0.376869  \n15          0.314706  \n16          0.625105  \n17           0.32532  \n18          0.536056  \n19          0.311317  \n20          0.380882  \n21          0.390425  \n22          0.347067  \n23           0.38203  \n24          0.356708  \n\n[25 rows x 27 columns]",
      "text/html": "<div>\n<style scoped>\n    .dataframe tbody tr th:only-of-type {\n        vertical-align: middle;\n    }\n\n    .dataframe tbody tr th {\n        vertical-align: top;\n    }\n\n    .dataframe thead th {\n        text-align: right;\n    }\n</style>\n<table border=\"1\" class=\"dataframe\">\n  <thead>\n    <tr style=\"text-align: right;\">\n      <th></th>\n      <th>order_id</th>\n      <th>user_id</th>\n      <th>eval_set</th>\n      <th>order_number</th>\n      <th>order_dow</th>\n      <th>order_hour_of_day</th>\n      <th>days_since_prior_order</th>\n      <th>tip</th>\n      <th>prev_tipped_products_ratio</th>\n      <th>customer_lifetime</th>\n      <th>...</th>\n      <th>prev_order_tipped</th>\n      <th>reordered_ratio</th>\n      <th>sim_orders_tip_ratio</th>\n      <th>mode_dept</th>\n      <th>order_excess_likability</th>\n      <th>aisle_tip_rate</th>\n      <th>dynamic_feature_test_1</th>\n      <th>dynamic_feature_test_2</th>\n      <th>dept_tip_rate</th>\n      <th>product_tip_rate</th>\n    </tr>\n  </thead>\n  <tbody>\n    <tr>\n      <th>0</th>\n      <td>2539329</td>\n      <td>1</td>\n      <td>prior</td>\n      <td>1</td>\n      <td>2</td>\n      <td>8</td>\n      <td>-1.0</td>\n      <td>0.0</td>\n      <td>0.000000</td>\n      <td>0</td>\n      <td>...</td>\n      <td>-1</td>\n      <td>0.000000</td>\n      <td>0.000000</td>\n      <td>19</td>\n      <td>0.000000</td>\n      <td>0.339618</td>\n      <td>0.2</td>\n      <td>0.2</td>\n      <td>0.346443</td>\n      <td>0.305662</td>\n    </tr>\n    <tr>\n      <th>1</th>\n      <td>2398795</td>\n      <td>1</td>\n      <td>prior</td>\n      <td>2</td>\n      <td>3</td>\n      <td>7</td>\n      <td>15.0</td>\n      <td>0.0</td>\n      <td>0.000000</td>\n      <td>15</td>\n      <td>...</td>\n      <td>0.0</td>\n      <td>0.500000</td>\n      <td>-0.187500</td>\n      <td>19</td>\n      <td>0.500000</td>\n      <td>0.350406</td>\n      <td>0.4</td>\n      <td>0.4</td>\n      <td>0.34929</td>\n      <td>0.342736</td>\n    </tr>\n    <tr>\n      <th>2</th>\n      <td>473747</td>\n      <td>1</td>\n      <td>prior</td>\n      <td>3</td>\n      <td>3</td>\n      <td>12</td>\n      <td>21.0</td>\n      <td>0.0</td>\n      <td>0.000000</td>\n      <td>36</td>\n      <td>...</td>\n      <td>0.0</td>\n      <td>0.600000</td>\n      <td>-0.208333</td>\n      <td>19</td>\n      <td>0.600000</td>\n      <td>0.331775</td>\n      <td>0.6</td>\n      <td>0.6</td>\n      <td>0.336445</td>\n      <td>0.328557</td>\n    </tr>\n    <tr>\n      <th>3</th>\n      <td>2254736</td>\n      <td>1</td>\n      <td>prior</td>\n      <td>4</td>\n      <td>4</td>\n      <td>7</td>\n      <td>29.0</td>\n      <td>0.0</td>\n      <td>0.000000</td>\n      <td>65</td>\n      <td>...</td>\n      <td>0.0</td>\n      <td>1.000000</td>\n      <td>-0.367560</td>\n      <td>19</td>\n      <td>1.000000</td>\n      <td>0.339673</td>\n      <td>0.8</td>\n      <td>0.8</td>\n      <td>0.346443</td>\n      <td>0.304496</td>\n    </tr>\n    <tr>\n      <th>4</th>\n      <td>431534</td>\n      <td>1</td>\n      <td>prior</td>\n      <td>5</td>\n      <td>4</td>\n      <td>15</td>\n      <td>28.0</td>\n      <td>0.0</td>\n      <td>0.000000</td>\n      <td>93</td>\n      <td>...</td>\n      <td>0.0</td>\n      <td>0.625000</td>\n      <td>-0.294141</td>\n      <td>4</td>\n      <td>0.625000</td>\n      <td>0.37799</td>\n      <td>1.0</td>\n      <td>1.0</td>\n      <td>0.367828</td>\n      <td>0.372122</td>\n    </tr>\n    <tr>\n      <th>5</th>\n      <td>2168274</td>\n      <td>2</td>\n      <td>prior</td>\n      <td>1</td>\n      <td>2</td>\n      <td>11</td>\n      <td>-1.0</td>\n      <td>0.0</td>\n      <td>0.000000</td>\n      <td>0</td>\n      <td>...</td>\n      <td>-1</td>\n      <td>0.000000</td>\n      <td>0.000000</td>\n      <td>4</td>\n      <td>0.000000</td>\n      <td>0.353337</td>\n      <td>0.2</td>\n      <td>0.2</td>\n      <td>0.349107</td>\n      <td>0.388366</td>\n    </tr>\n    <tr>\n      <th>6</th>\n      <td>1501582</td>\n      <td>2</td>\n      <td>prior</td>\n      <td>2</td>\n      <td>5</td>\n      <td>10</td>\n      <td>10.0</td>\n      <td>0.0</td>\n      <td>0.000000</td>\n      <td>10</td>\n      <td>...</td>\n      <td>0.0</td>\n      <td>0.166667</td>\n      <td>-0.027778</td>\n      <td>4</td>\n      <td>0.166667</td>\n      <td>0.36929</td>\n      <td>0.4</td>\n      <td>0.4</td>\n      <td>0.36711</td>\n      <td>0.362496</td>\n    </tr>\n    <tr>\n      <th>7</th>\n      <td>1901567</td>\n      <td>2</td>\n      <td>prior</td>\n      <td>3</td>\n      <td>1</td>\n      <td>10</td>\n      <td>3.0</td>\n      <td>1.0</td>\n      <td>0.000000</td>\n      <td>13</td>\n      <td>...</td>\n      <td>0.0</td>\n      <td>0.600000</td>\n      <td>-0.100000</td>\n      <td>20</td>\n      <td>0.600000</td>\n      <td>0.364262</td>\n      <td>0.6</td>\n      <td>0.6</td>\n      <td>0.364443</td>\n      <td>0.394544</td>\n    </tr>\n    <tr>\n      <th>8</th>\n      <td>738281</td>\n      <td>2</td>\n      <td>prior</td>\n      <td>4</td>\n      <td>2</td>\n      <td>10</td>\n      <td>8.0</td>\n      <td>0.0</td>\n      <td>0.076923</td>\n      <td>21</td>\n      <td>...</td>\n      <td>1.0</td>\n      <td>0.076923</td>\n      <td>0.048824</td>\n      <td>20</td>\n      <td>0.076923</td>\n      <td>0.338992</td>\n      <td>0.8</td>\n      <td>0.8</td>\n      <td>0.333335</td>\n      <td>0.345744</td>\n    </tr>\n    <tr>\n      <th>9</th>\n      <td>1673511</td>\n      <td>2</td>\n      <td>prior</td>\n      <td>5</td>\n      <td>3</td>\n      <td>11</td>\n      <td>8.0</td>\n      <td>1.0</td>\n      <td>0.076923</td>\n      <td>29</td>\n      <td>...</td>\n      <td>0.0</td>\n      <td>0.076923</td>\n      <td>0.039712</td>\n      <td>16</td>\n      <td>0.076923</td>\n      <td>0.391448</td>\n      <td>1.0</td>\n      <td>1.0</td>\n      <td>0.378839</td>\n      <td>0.419061</td>\n    </tr>\n    <tr>\n      <th>10</th>\n      <td>1374495</td>\n      <td>3</td>\n      <td>prior</td>\n      <td>1</td>\n      <td>1</td>\n      <td>14</td>\n      <td>-1.0</td>\n      <td>1.0</td>\n      <td>0.000000</td>\n      <td>0</td>\n      <td>...</td>\n      <td>-1</td>\n      <td>0.000000</td>\n      <td>0.000000</td>\n      <td>4</td>\n      <td>0.000000</td>\n      <td>0.392487</td>\n      <td>0.2</td>\n      <td>0.2</td>\n      <td>0.382944</td>\n      <td>0.381085</td>\n    </tr>\n    <tr>\n      <th>11</th>\n      <td>444309</td>\n      <td>3</td>\n      <td>prior</td>\n      <td>2</td>\n      <td>3</td>\n      <td>19</td>\n      <td>9.0</td>\n      <td>1.0</td>\n      <td>0.333333</td>\n      <td>9</td>\n      <td>...</td>\n      <td>1.0</td>\n      <td>0.333333</td>\n      <td>0.187500</td>\n      <td>16</td>\n      <td>0.333333</td>\n      <td>0.367664</td>\n      <td>0.4</td>\n      <td>0.4</td>\n      <td>0.370049</td>\n      <td>0.379845</td>\n    </tr>\n    <tr>\n      <th>12</th>\n      <td>3002854</td>\n      <td>3</td>\n      <td>prior</td>\n      <td>3</td>\n      <td>3</td>\n      <td>16</td>\n      <td>21.0</td>\n      <td>1.0</td>\n      <td>0.500000</td>\n      <td>30</td>\n      <td>...</td>\n      <td>1.0</td>\n      <td>0.500000</td>\n      <td>0.302198</td>\n      <td>4</td>\n      <td>0.500000</td>\n      <td>0.378242</td>\n      <td>0.6</td>\n      <td>0.6</td>\n      <td>0.376529</td>\n      <td>0.38588</td>\n    </tr>\n    <tr>\n      <th>13</th>\n      <td>2037211</td>\n      <td>3</td>\n      <td>prior</td>\n      <td>4</td>\n      <td>2</td>\n      <td>18</td>\n      <td>20.0</td>\n      <td>1.0</td>\n      <td>0.200000</td>\n      <td>50</td>\n      <td>...</td>\n      <td>1.0</td>\n      <td>0.200000</td>\n      <td>0.071429</td>\n      <td>1</td>\n      <td>0.200000</td>\n      <td>0.327589</td>\n      <td>0.8</td>\n      <td>0.8</td>\n      <td>0.313733</td>\n      <td>0.317016</td>\n    </tr>\n    <tr>\n      <th>14</th>\n      <td>2710558</td>\n      <td>3</td>\n      <td>prior</td>\n      <td>5</td>\n      <td>0</td>\n      <td>17</td>\n      <td>12.0</td>\n      <td>1.0</td>\n      <td>0.636364</td>\n      <td>62</td>\n      <td>...</td>\n      <td>1.0</td>\n      <td>0.636364</td>\n      <td>0.874161</td>\n      <td>4</td>\n      <td>0.636364</td>\n      <td>0.376202</td>\n      <td>1.0</td>\n      <td>1.0</td>\n      <td>0.382026</td>\n      <td>0.376869</td>\n    </tr>\n    <tr>\n      <th>15</th>\n      <td>3343014</td>\n      <td>4</td>\n      <td>prior</td>\n      <td>1</td>\n      <td>6</td>\n      <td>11</td>\n      <td>-1.0</td>\n      <td>0.0</td>\n      <td>0.000000</td>\n      <td>0</td>\n      <td>...</td>\n      <td>-1</td>\n      <td>0.000000</td>\n      <td>0.000000</td>\n      <td>-1</td>\n      <td>0.000000</td>\n      <td>0.314292</td>\n      <td>0.2</td>\n      <td>0.2</td>\n      <td>0.307843</td>\n      <td>0.314706</td>\n    </tr>\n    <tr>\n      <th>16</th>\n      <td>2030307</td>\n      <td>4</td>\n      <td>prior</td>\n      <td>2</td>\n      <td>4</td>\n      <td>11</td>\n      <td>19.0</td>\n      <td>0.0</td>\n      <td>0.000000</td>\n      <td>19</td>\n      <td>...</td>\n      <td>0.0</td>\n      <td>0.000000</td>\n      <td>0.000000</td>\n      <td>-1</td>\n      <td>0.000000</td>\n      <td>0.560904</td>\n      <td>0.4</td>\n      <td>0.4</td>\n      <td>0.561174</td>\n      <td>0.625105</td>\n    </tr>\n    <tr>\n      <th>17</th>\n      <td>691089</td>\n      <td>4</td>\n      <td>prior</td>\n      <td>3</td>\n      <td>4</td>\n      <td>15</td>\n      <td>21.0</td>\n      <td>0.0</td>\n      <td>0.000000</td>\n      <td>40</td>\n      <td>...</td>\n      <td>0.0</td>\n      <td>0.142857</td>\n      <td>-0.033333</td>\n      <td>4</td>\n      <td>0.142857</td>\n      <td>0.31665</td>\n      <td>0.6</td>\n      <td>0.6</td>\n      <td>0.317374</td>\n      <td>0.32532</td>\n    </tr>\n    <tr>\n      <th>18</th>\n      <td>94891</td>\n      <td>4</td>\n      <td>prior</td>\n      <td>4</td>\n      <td>5</td>\n      <td>13</td>\n      <td>15.0</td>\n      <td>0.0</td>\n      <td>0.000000</td>\n      <td>55</td>\n      <td>...</td>\n      <td>0.0</td>\n      <td>0.000000</td>\n      <td>0.000000</td>\n      <td>-1</td>\n      <td>0.000000</td>\n      <td>0.538595</td>\n      <td>0.8</td>\n      <td>0.8</td>\n      <td>0.536474</td>\n      <td>0.536056</td>\n    </tr>\n    <tr>\n      <th>19</th>\n      <td>2557754</td>\n      <td>4</td>\n      <td>prior</td>\n      <td>5</td>\n      <td>5</td>\n      <td>13</td>\n      <td>0.0</td>\n      <td>0.0</td>\n      <td>0.000000</td>\n      <td>55</td>\n      <td>...</td>\n      <td>0.0</td>\n      <td>0.000000</td>\n      <td>0.000000</td>\n      <td>20</td>\n      <td>0.000000</td>\n      <td>0.337179</td>\n      <td>1.0</td>\n      <td>1.0</td>\n      <td>0.341034</td>\n      <td>0.311317</td>\n    </tr>\n    <tr>\n      <th>20</th>\n      <td>2717275</td>\n      <td>5</td>\n      <td>prior</td>\n      <td>1</td>\n      <td>3</td>\n      <td>12</td>\n      <td>-1.0</td>\n      <td>0.0</td>\n      <td>0.000000</td>\n      <td>0</td>\n      <td>...</td>\n      <td>-1</td>\n      <td>0.000000</td>\n      <td>0.000000</td>\n      <td>4</td>\n      <td>0.000000</td>\n      <td>0.379777</td>\n      <td>0.2</td>\n      <td>0.2</td>\n      <td>0.381378</td>\n      <td>0.380882</td>\n    </tr>\n    <tr>\n      <th>21</th>\n      <td>1909121</td>\n      <td>5</td>\n      <td>prior</td>\n      <td>2</td>\n      <td>0</td>\n      <td>16</td>\n      <td>11.0</td>\n      <td>1.0</td>\n      <td>0.000000</td>\n      <td>11</td>\n      <td>...</td>\n      <td>0.0</td>\n      <td>0.444444</td>\n      <td>-0.125000</td>\n      <td>4</td>\n      <td>0.444444</td>\n      <td>0.376438</td>\n      <td>0.4</td>\n      <td>0.4</td>\n      <td>0.372326</td>\n      <td>0.390425</td>\n    </tr>\n    <tr>\n      <th>22</th>\n      <td>2267326</td>\n      <td>5</td>\n      <td>prior</td>\n      <td>3</td>\n      <td>3</td>\n      <td>18</td>\n      <td>10.0</td>\n      <td>0.0</td>\n      <td>0.400000</td>\n      <td>21</td>\n      <td>...</td>\n      <td>1.0</td>\n      <td>0.400000</td>\n      <td>0.119048</td>\n      <td>4</td>\n      <td>0.400000</td>\n      <td>0.339664</td>\n      <td>0.6</td>\n      <td>0.6</td>\n      <td>0.342693</td>\n      <td>0.347067</td>\n    </tr>\n    <tr>\n      <th>23</th>\n      <td>157374</td>\n      <td>5</td>\n      <td>prior</td>\n      <td>4</td>\n      <td>1</td>\n      <td>18</td>\n      <td>19.0</td>\n      <td>1.0</td>\n      <td>0.416667</td>\n      <td>40</td>\n      <td>...</td>\n      <td>0.0</td>\n      <td>0.666667</td>\n      <td>0.170693</td>\n      <td>4</td>\n      <td>0.666667</td>\n      <td>0.38112</td>\n      <td>0.8</td>\n      <td>0.8</td>\n      <td>0.380264</td>\n      <td>0.38203</td>\n    </tr>\n    <tr>\n      <th>24</th>\n      <td>2196797</td>\n      <td>5</td>\n      <td>train</td>\n      <td>5</td>\n      <td>0</td>\n      <td>11</td>\n      <td>6.0</td>\n      <td>NaN</td>\n      <td>0.333333</td>\n      <td>46</td>\n      <td>...</td>\n      <td>1.0</td>\n      <td>0.444444</td>\n      <td>0.126480</td>\n      <td>4</td>\n      <td>0.444444</td>\n      <td>0.363054</td>\n      <td>1.0</td>\n      <td>1.0</td>\n      <td>0.367559</td>\n      <td>0.356708</td>\n    </tr>\n  </tbody>\n</table>\n<p>25 rows × 27 columns</p>\n</div>"
     },
     "execution_count": 10,
     "metadata": {},
     "output_type": "execute_result"
    }
   ],
   "source": [
    "data_manager.get_orders_tip().head(25)"
   ]
  },
  {
   "cell_type": "code",
   "execution_count": 11,
   "id": "e35d205a2cb3a9a7",
   "metadata": {
    "collapsed": false,
    "ExecuteTime": {
     "end_time": "2024-05-27T18:04:06.168723500Z",
     "start_time": "2024-05-27T18:04:05.757369900Z"
    }
   },
   "outputs": [
    {
     "name": "stdout",
     "output_type": "stream",
     "text": [
      "Number of orders: 991222\n",
      "Number of orders did not change: True\n",
      "\n",
      "Number of NaN or null values in each column:\n",
      "order_id                           0\n",
      "user_id                            0\n",
      "eval_set                           0\n",
      "order_number                       0\n",
      "order_dow                          0\n",
      "order_hour_of_day                  0\n",
      "days_since_prior_order             0\n",
      "tip                            27739\n",
      "prev_tipped_products_ratio         0\n",
      "customer_lifetime                  0\n",
      "rel_days_since_tip            799043\n",
      "order_frequency                    0\n",
      "order_size                         0\n",
      "avg_size_prev_orders               0\n",
      "mean_ordered_rate                  0\n",
      "days_since_tip                     0\n",
      "tip_history                        0\n",
      "prev_order_tipped                  0\n",
      "reordered_ratio                    0\n",
      "sim_orders_tip_ratio               0\n",
      "mode_dept                          0\n",
      "order_excess_likability            0\n",
      "aisle_tip_rate                     0\n",
      "dynamic_feature_test_1             0\n",
      "dynamic_feature_test_2             0\n",
      "dept_tip_rate                      0\n",
      "product_tip_rate                   2\n",
      "dtype: int64\n"
     ]
    }
   ],
   "source": [
    "print(f\"Number of orders: {len(data_manager.get_orders_tip())}\")\n",
    "print(f\"Number of orders did not change: {order_amount == len(data_manager.get_orders_tip())}\\n\")\n",
    "print(f\"Number of NaN or null values in each column:\\n{data_manager.get_orders_tip().isnull().sum()}\")"
   ]
  },
  {
   "cell_type": "code",
   "outputs": [
    {
     "data": {
      "text/plain": "    order_id  user_id eval_set  order_number  order_dow  order_hour_of_day  \\\n0    2539329        1    prior             1          2                  8   \n1    2398795        1    prior             2          3                  7   \n2     473747        1    prior             3          3                 12   \n3    2254736        1    prior             4          4                  7   \n4    2168274        2    prior             1          2                 11   \n5    1501582        2    prior             2          5                 10   \n6    1901567        2    prior             3          1                 10   \n7     738281        2    prior             4          2                 10   \n8    1374495        3    prior             1          1                 14   \n9     444309        3    prior             2          3                 19   \n10   3002854        3    prior             3          3                 16   \n11   2037211        3    prior             4          2                 18   \n12   3343014        4    prior             1          6                 11   \n13   2030307        4    prior             2          4                 11   \n14    691089        4    prior             3          4                 15   \n15     94891        4    prior             4          5                 13   \n16   2717275        5    prior             1          3                 12   \n17   1909121        5    prior             2          0                 16   \n18   2267326        5    prior             3          3                 18   \n19    157374        5    prior             4          1                 18   \n20   2086598        6    prior             1          5                 18   \n21    298250        6    prior             2          4                 16   \n22    998866        6    prior             3          2                 18   \n23   2565571        7    prior             1          3                  9   \n24   2402008        7    prior             2          1                 19   \n\n    days_since_prior_order  tip  prev_tipped_products_ratio  \\\n0                     -1.0  0.0                    0.000000   \n1                     15.0  0.0                    0.000000   \n2                     21.0  0.0                    0.000000   \n3                     29.0  0.0                    0.000000   \n4                     -1.0  0.0                    0.000000   \n5                     10.0  0.0                    0.000000   \n6                      3.0  1.0                    0.000000   \n7                      8.0  0.0                    0.076923   \n8                     -1.0  1.0                    0.000000   \n9                      9.0  1.0                    0.333333   \n10                    21.0  1.0                    0.500000   \n11                    20.0  1.0                    0.200000   \n12                    -1.0  0.0                    0.000000   \n13                    19.0  0.0                    0.000000   \n14                    21.0  0.0                    0.000000   \n15                    15.0  0.0                    0.000000   \n16                    -1.0  0.0                    0.000000   \n17                    11.0  1.0                    0.000000   \n18                    10.0  0.0                    0.400000   \n19                    19.0  1.0                    0.416667   \n20                    -1.0  0.0                    0.000000   \n21                     6.0  0.0                    0.000000   \n22                    12.0  0.0                    0.000000   \n23                    -1.0  0.0                    0.000000   \n24                    30.0  0.0                    0.000000   \n\n    customer_lifetime  ...  prev_order_tipped  reordered_ratio  \\\n0                   0  ...                 -1         0.000000   \n1                  15  ...                0.0         0.500000   \n2                  36  ...                0.0         0.600000   \n3                  65  ...                0.0         1.000000   \n4                   0  ...                 -1         0.000000   \n5                  10  ...                0.0         0.166667   \n6                  13  ...                0.0         0.600000   \n7                  21  ...                1.0         0.076923   \n8                   0  ...                 -1         0.000000   \n9                   9  ...                1.0         0.333333   \n10                 30  ...                1.0         0.500000   \n11                 50  ...                1.0         0.200000   \n12                  0  ...                 -1         0.000000   \n13                 19  ...                0.0         0.000000   \n14                 40  ...                0.0         0.142857   \n15                 55  ...                0.0         0.000000   \n16                  0  ...                 -1         0.000000   \n17                 11  ...                0.0         0.444444   \n18                 21  ...                1.0         0.400000   \n19                 40  ...                0.0         0.666667   \n20                  0  ...                 -1         0.000000   \n21                  6  ...                0.0         0.285714   \n22                 18  ...                0.0         0.000000   \n23                  0  ...                 -1         0.000000   \n24                 30  ...                0.0         0.190476   \n\n    sim_orders_tip_ratio  mode_dept  order_excess_likability  aisle_tip_rate  \\\n0               0.000000         19                 0.000000        0.337544   \n1              -0.187500         19                 0.500000        0.347567   \n2              -0.208333         19                 0.600000        0.328416   \n3              -0.367560         19                 1.000000        0.337082   \n4               0.000000          4                 0.000000        0.350058   \n5              -0.027778          4                 0.166667        0.366224   \n6              -0.100000         20                 0.600000        0.361089   \n7               0.048824         20                 0.076923        0.335374   \n8               0.000000          4                 0.000000        0.389935   \n9               0.187500         16                 0.333333        0.364977   \n10              0.302198          4                 0.500000        0.375128   \n11              0.071429          1                 0.200000        0.324119   \n12              0.000000         -1                 0.000000        0.310652   \n13              0.000000         -1                 0.000000        0.559258   \n14             -0.033333          4                 0.142857        0.313265   \n15              0.000000         -1                 0.000000        0.537681   \n16              0.000000          4                 0.000000        0.376595   \n17             -0.125000          4                 0.444444        0.373633   \n18              0.119048          4                 0.400000        0.336126   \n19              0.170693          4                 0.666667        0.378119   \n20              0.000000          4                 0.000000        0.377401   \n21             -0.111111          4                 0.285714        0.345426   \n22              0.000000         -1                 0.000000        0.349616   \n23              0.000000          7                 0.000000        0.350236   \n24             -0.068966          7                 0.190476        0.345757   \n\n    dynamic_feature_test_1 dynamic_feature_test_2  dept_tip_rate  \\\n0                 0.250000               0.250000       0.343805   \n1                 0.500000               0.500000       0.346357   \n2                 0.750000               0.750000       0.333293   \n3                 1.000000               1.000000       0.343805   \n4                 0.250000               0.250000       0.345703   \n5                 0.500000               0.500000       0.363978   \n6                 0.750000               0.750000       0.361157   \n7                 1.000000               1.000000       0.329717   \n8                 0.250000               0.250000       0.379997   \n9                 0.500000               0.500000       0.367403   \n10                0.750000               0.750000       0.373414   \n11                1.000000               1.000000       0.310063   \n12                0.250000               0.250000       0.304615   \n13                0.500000               0.500000       0.560367   \n14                0.750000               0.750000       0.313679   \n15                1.000000               1.000000       0.534701   \n16                0.250000               0.250000       0.378407   \n17                0.500000               0.500000       0.369359   \n18                0.750000               0.750000       0.339199   \n19                1.000000               1.000000       0.377353   \n20                0.333333               0.333333       0.382977   \n21                0.666667               0.666667       0.346033   \n22                1.000000               1.000000       0.360131   \n23                0.250000               0.250000       0.338932   \n24                0.500000               0.500000       0.343576   \n\n    product_tip_rate  \n0           0.306204  \n1           0.340457  \n2           0.325764  \n3           0.302408  \n4           0.385917  \n5           0.358395  \n6           0.393484  \n7           0.348398  \n8           0.377808  \n9           0.376597  \n10          0.384286  \n11          0.317978  \n12          0.307798  \n13          0.644323  \n14           0.31824  \n15           0.51755  \n16          0.374267  \n17          0.385876  \n18          0.343359  \n19          0.376681  \n20          0.392152  \n21          0.361281  \n22          0.363685  \n23          0.354995  \n24          0.367412  \n\n[25 rows x 27 columns]",
      "text/html": "<div>\n<style scoped>\n    .dataframe tbody tr th:only-of-type {\n        vertical-align: middle;\n    }\n\n    .dataframe tbody tr th {\n        vertical-align: top;\n    }\n\n    .dataframe thead th {\n        text-align: right;\n    }\n</style>\n<table border=\"1\" class=\"dataframe\">\n  <thead>\n    <tr style=\"text-align: right;\">\n      <th></th>\n      <th>order_id</th>\n      <th>user_id</th>\n      <th>eval_set</th>\n      <th>order_number</th>\n      <th>order_dow</th>\n      <th>order_hour_of_day</th>\n      <th>days_since_prior_order</th>\n      <th>tip</th>\n      <th>prev_tipped_products_ratio</th>\n      <th>customer_lifetime</th>\n      <th>...</th>\n      <th>prev_order_tipped</th>\n      <th>reordered_ratio</th>\n      <th>sim_orders_tip_ratio</th>\n      <th>mode_dept</th>\n      <th>order_excess_likability</th>\n      <th>aisle_tip_rate</th>\n      <th>dynamic_feature_test_1</th>\n      <th>dynamic_feature_test_2</th>\n      <th>dept_tip_rate</th>\n      <th>product_tip_rate</th>\n    </tr>\n  </thead>\n  <tbody>\n    <tr>\n      <th>0</th>\n      <td>2539329</td>\n      <td>1</td>\n      <td>prior</td>\n      <td>1</td>\n      <td>2</td>\n      <td>8</td>\n      <td>-1.0</td>\n      <td>0.0</td>\n      <td>0.000000</td>\n      <td>0</td>\n      <td>...</td>\n      <td>-1</td>\n      <td>0.000000</td>\n      <td>0.000000</td>\n      <td>19</td>\n      <td>0.000000</td>\n      <td>0.337544</td>\n      <td>0.250000</td>\n      <td>0.250000</td>\n      <td>0.343805</td>\n      <td>0.306204</td>\n    </tr>\n    <tr>\n      <th>1</th>\n      <td>2398795</td>\n      <td>1</td>\n      <td>prior</td>\n      <td>2</td>\n      <td>3</td>\n      <td>7</td>\n      <td>15.0</td>\n      <td>0.0</td>\n      <td>0.000000</td>\n      <td>15</td>\n      <td>...</td>\n      <td>0.0</td>\n      <td>0.500000</td>\n      <td>-0.187500</td>\n      <td>19</td>\n      <td>0.500000</td>\n      <td>0.347567</td>\n      <td>0.500000</td>\n      <td>0.500000</td>\n      <td>0.346357</td>\n      <td>0.340457</td>\n    </tr>\n    <tr>\n      <th>2</th>\n      <td>473747</td>\n      <td>1</td>\n      <td>prior</td>\n      <td>3</td>\n      <td>3</td>\n      <td>12</td>\n      <td>21.0</td>\n      <td>0.0</td>\n      <td>0.000000</td>\n      <td>36</td>\n      <td>...</td>\n      <td>0.0</td>\n      <td>0.600000</td>\n      <td>-0.208333</td>\n      <td>19</td>\n      <td>0.600000</td>\n      <td>0.328416</td>\n      <td>0.750000</td>\n      <td>0.750000</td>\n      <td>0.333293</td>\n      <td>0.325764</td>\n    </tr>\n    <tr>\n      <th>3</th>\n      <td>2254736</td>\n      <td>1</td>\n      <td>prior</td>\n      <td>4</td>\n      <td>4</td>\n      <td>7</td>\n      <td>29.0</td>\n      <td>0.0</td>\n      <td>0.000000</td>\n      <td>65</td>\n      <td>...</td>\n      <td>0.0</td>\n      <td>1.000000</td>\n      <td>-0.367560</td>\n      <td>19</td>\n      <td>1.000000</td>\n      <td>0.337082</td>\n      <td>1.000000</td>\n      <td>1.000000</td>\n      <td>0.343805</td>\n      <td>0.302408</td>\n    </tr>\n    <tr>\n      <th>4</th>\n      <td>2168274</td>\n      <td>2</td>\n      <td>prior</td>\n      <td>1</td>\n      <td>2</td>\n      <td>11</td>\n      <td>-1.0</td>\n      <td>0.0</td>\n      <td>0.000000</td>\n      <td>0</td>\n      <td>...</td>\n      <td>-1</td>\n      <td>0.000000</td>\n      <td>0.000000</td>\n      <td>4</td>\n      <td>0.000000</td>\n      <td>0.350058</td>\n      <td>0.250000</td>\n      <td>0.250000</td>\n      <td>0.345703</td>\n      <td>0.385917</td>\n    </tr>\n    <tr>\n      <th>5</th>\n      <td>1501582</td>\n      <td>2</td>\n      <td>prior</td>\n      <td>2</td>\n      <td>5</td>\n      <td>10</td>\n      <td>10.0</td>\n      <td>0.0</td>\n      <td>0.000000</td>\n      <td>10</td>\n      <td>...</td>\n      <td>0.0</td>\n      <td>0.166667</td>\n      <td>-0.027778</td>\n      <td>4</td>\n      <td>0.166667</td>\n      <td>0.366224</td>\n      <td>0.500000</td>\n      <td>0.500000</td>\n      <td>0.363978</td>\n      <td>0.358395</td>\n    </tr>\n    <tr>\n      <th>6</th>\n      <td>1901567</td>\n      <td>2</td>\n      <td>prior</td>\n      <td>3</td>\n      <td>1</td>\n      <td>10</td>\n      <td>3.0</td>\n      <td>1.0</td>\n      <td>0.000000</td>\n      <td>13</td>\n      <td>...</td>\n      <td>0.0</td>\n      <td>0.600000</td>\n      <td>-0.100000</td>\n      <td>20</td>\n      <td>0.600000</td>\n      <td>0.361089</td>\n      <td>0.750000</td>\n      <td>0.750000</td>\n      <td>0.361157</td>\n      <td>0.393484</td>\n    </tr>\n    <tr>\n      <th>7</th>\n      <td>738281</td>\n      <td>2</td>\n      <td>prior</td>\n      <td>4</td>\n      <td>2</td>\n      <td>10</td>\n      <td>8.0</td>\n      <td>0.0</td>\n      <td>0.076923</td>\n      <td>21</td>\n      <td>...</td>\n      <td>1.0</td>\n      <td>0.076923</td>\n      <td>0.048824</td>\n      <td>20</td>\n      <td>0.076923</td>\n      <td>0.335374</td>\n      <td>1.000000</td>\n      <td>1.000000</td>\n      <td>0.329717</td>\n      <td>0.348398</td>\n    </tr>\n    <tr>\n      <th>8</th>\n      <td>1374495</td>\n      <td>3</td>\n      <td>prior</td>\n      <td>1</td>\n      <td>1</td>\n      <td>14</td>\n      <td>-1.0</td>\n      <td>1.0</td>\n      <td>0.000000</td>\n      <td>0</td>\n      <td>...</td>\n      <td>-1</td>\n      <td>0.000000</td>\n      <td>0.000000</td>\n      <td>4</td>\n      <td>0.000000</td>\n      <td>0.389935</td>\n      <td>0.250000</td>\n      <td>0.250000</td>\n      <td>0.379997</td>\n      <td>0.377808</td>\n    </tr>\n    <tr>\n      <th>9</th>\n      <td>444309</td>\n      <td>3</td>\n      <td>prior</td>\n      <td>2</td>\n      <td>3</td>\n      <td>19</td>\n      <td>9.0</td>\n      <td>1.0</td>\n      <td>0.333333</td>\n      <td>9</td>\n      <td>...</td>\n      <td>1.0</td>\n      <td>0.333333</td>\n      <td>0.187500</td>\n      <td>16</td>\n      <td>0.333333</td>\n      <td>0.364977</td>\n      <td>0.500000</td>\n      <td>0.500000</td>\n      <td>0.367403</td>\n      <td>0.376597</td>\n    </tr>\n    <tr>\n      <th>10</th>\n      <td>3002854</td>\n      <td>3</td>\n      <td>prior</td>\n      <td>3</td>\n      <td>3</td>\n      <td>16</td>\n      <td>21.0</td>\n      <td>1.0</td>\n      <td>0.500000</td>\n      <td>30</td>\n      <td>...</td>\n      <td>1.0</td>\n      <td>0.500000</td>\n      <td>0.302198</td>\n      <td>4</td>\n      <td>0.500000</td>\n      <td>0.375128</td>\n      <td>0.750000</td>\n      <td>0.750000</td>\n      <td>0.373414</td>\n      <td>0.384286</td>\n    </tr>\n    <tr>\n      <th>11</th>\n      <td>2037211</td>\n      <td>3</td>\n      <td>prior</td>\n      <td>4</td>\n      <td>2</td>\n      <td>18</td>\n      <td>20.0</td>\n      <td>1.0</td>\n      <td>0.200000</td>\n      <td>50</td>\n      <td>...</td>\n      <td>1.0</td>\n      <td>0.200000</td>\n      <td>0.071429</td>\n      <td>1</td>\n      <td>0.200000</td>\n      <td>0.324119</td>\n      <td>1.000000</td>\n      <td>1.000000</td>\n      <td>0.310063</td>\n      <td>0.317978</td>\n    </tr>\n    <tr>\n      <th>12</th>\n      <td>3343014</td>\n      <td>4</td>\n      <td>prior</td>\n      <td>1</td>\n      <td>6</td>\n      <td>11</td>\n      <td>-1.0</td>\n      <td>0.0</td>\n      <td>0.000000</td>\n      <td>0</td>\n      <td>...</td>\n      <td>-1</td>\n      <td>0.000000</td>\n      <td>0.000000</td>\n      <td>-1</td>\n      <td>0.000000</td>\n      <td>0.310652</td>\n      <td>0.250000</td>\n      <td>0.250000</td>\n      <td>0.304615</td>\n      <td>0.307798</td>\n    </tr>\n    <tr>\n      <th>13</th>\n      <td>2030307</td>\n      <td>4</td>\n      <td>prior</td>\n      <td>2</td>\n      <td>4</td>\n      <td>11</td>\n      <td>19.0</td>\n      <td>0.0</td>\n      <td>0.000000</td>\n      <td>19</td>\n      <td>...</td>\n      <td>0.0</td>\n      <td>0.000000</td>\n      <td>0.000000</td>\n      <td>-1</td>\n      <td>0.000000</td>\n      <td>0.559258</td>\n      <td>0.500000</td>\n      <td>0.500000</td>\n      <td>0.560367</td>\n      <td>0.644323</td>\n    </tr>\n    <tr>\n      <th>14</th>\n      <td>691089</td>\n      <td>4</td>\n      <td>prior</td>\n      <td>3</td>\n      <td>4</td>\n      <td>15</td>\n      <td>21.0</td>\n      <td>0.0</td>\n      <td>0.000000</td>\n      <td>40</td>\n      <td>...</td>\n      <td>0.0</td>\n      <td>0.142857</td>\n      <td>-0.033333</td>\n      <td>4</td>\n      <td>0.142857</td>\n      <td>0.313265</td>\n      <td>0.750000</td>\n      <td>0.750000</td>\n      <td>0.313679</td>\n      <td>0.31824</td>\n    </tr>\n    <tr>\n      <th>15</th>\n      <td>94891</td>\n      <td>4</td>\n      <td>prior</td>\n      <td>4</td>\n      <td>5</td>\n      <td>13</td>\n      <td>15.0</td>\n      <td>0.0</td>\n      <td>0.000000</td>\n      <td>55</td>\n      <td>...</td>\n      <td>0.0</td>\n      <td>0.000000</td>\n      <td>0.000000</td>\n      <td>-1</td>\n      <td>0.000000</td>\n      <td>0.537681</td>\n      <td>1.000000</td>\n      <td>1.000000</td>\n      <td>0.534701</td>\n      <td>0.51755</td>\n    </tr>\n    <tr>\n      <th>16</th>\n      <td>2717275</td>\n      <td>5</td>\n      <td>prior</td>\n      <td>1</td>\n      <td>3</td>\n      <td>12</td>\n      <td>-1.0</td>\n      <td>0.0</td>\n      <td>0.000000</td>\n      <td>0</td>\n      <td>...</td>\n      <td>-1</td>\n      <td>0.000000</td>\n      <td>0.000000</td>\n      <td>4</td>\n      <td>0.000000</td>\n      <td>0.376595</td>\n      <td>0.250000</td>\n      <td>0.250000</td>\n      <td>0.378407</td>\n      <td>0.374267</td>\n    </tr>\n    <tr>\n      <th>17</th>\n      <td>1909121</td>\n      <td>5</td>\n      <td>prior</td>\n      <td>2</td>\n      <td>0</td>\n      <td>16</td>\n      <td>11.0</td>\n      <td>1.0</td>\n      <td>0.000000</td>\n      <td>11</td>\n      <td>...</td>\n      <td>0.0</td>\n      <td>0.444444</td>\n      <td>-0.125000</td>\n      <td>4</td>\n      <td>0.444444</td>\n      <td>0.373633</td>\n      <td>0.500000</td>\n      <td>0.500000</td>\n      <td>0.369359</td>\n      <td>0.385876</td>\n    </tr>\n    <tr>\n      <th>18</th>\n      <td>2267326</td>\n      <td>5</td>\n      <td>prior</td>\n      <td>3</td>\n      <td>3</td>\n      <td>18</td>\n      <td>10.0</td>\n      <td>0.0</td>\n      <td>0.400000</td>\n      <td>21</td>\n      <td>...</td>\n      <td>1.0</td>\n      <td>0.400000</td>\n      <td>0.119048</td>\n      <td>4</td>\n      <td>0.400000</td>\n      <td>0.336126</td>\n      <td>0.750000</td>\n      <td>0.750000</td>\n      <td>0.339199</td>\n      <td>0.343359</td>\n    </tr>\n    <tr>\n      <th>19</th>\n      <td>157374</td>\n      <td>5</td>\n      <td>prior</td>\n      <td>4</td>\n      <td>1</td>\n      <td>18</td>\n      <td>19.0</td>\n      <td>1.0</td>\n      <td>0.416667</td>\n      <td>40</td>\n      <td>...</td>\n      <td>0.0</td>\n      <td>0.666667</td>\n      <td>0.170693</td>\n      <td>4</td>\n      <td>0.666667</td>\n      <td>0.378119</td>\n      <td>1.000000</td>\n      <td>1.000000</td>\n      <td>0.377353</td>\n      <td>0.376681</td>\n    </tr>\n    <tr>\n      <th>20</th>\n      <td>2086598</td>\n      <td>6</td>\n      <td>prior</td>\n      <td>1</td>\n      <td>5</td>\n      <td>18</td>\n      <td>-1.0</td>\n      <td>0.0</td>\n      <td>0.000000</td>\n      <td>0</td>\n      <td>...</td>\n      <td>-1</td>\n      <td>0.000000</td>\n      <td>0.000000</td>\n      <td>4</td>\n      <td>0.000000</td>\n      <td>0.377401</td>\n      <td>0.333333</td>\n      <td>0.333333</td>\n      <td>0.382977</td>\n      <td>0.392152</td>\n    </tr>\n    <tr>\n      <th>21</th>\n      <td>298250</td>\n      <td>6</td>\n      <td>prior</td>\n      <td>2</td>\n      <td>4</td>\n      <td>16</td>\n      <td>6.0</td>\n      <td>0.0</td>\n      <td>0.000000</td>\n      <td>6</td>\n      <td>...</td>\n      <td>0.0</td>\n      <td>0.285714</td>\n      <td>-0.111111</td>\n      <td>4</td>\n      <td>0.285714</td>\n      <td>0.345426</td>\n      <td>0.666667</td>\n      <td>0.666667</td>\n      <td>0.346033</td>\n      <td>0.361281</td>\n    </tr>\n    <tr>\n      <th>22</th>\n      <td>998866</td>\n      <td>6</td>\n      <td>prior</td>\n      <td>3</td>\n      <td>2</td>\n      <td>18</td>\n      <td>12.0</td>\n      <td>0.0</td>\n      <td>0.000000</td>\n      <td>18</td>\n      <td>...</td>\n      <td>0.0</td>\n      <td>0.000000</td>\n      <td>0.000000</td>\n      <td>-1</td>\n      <td>0.000000</td>\n      <td>0.349616</td>\n      <td>1.000000</td>\n      <td>1.000000</td>\n      <td>0.360131</td>\n      <td>0.363685</td>\n    </tr>\n    <tr>\n      <th>23</th>\n      <td>2565571</td>\n      <td>7</td>\n      <td>prior</td>\n      <td>1</td>\n      <td>3</td>\n      <td>9</td>\n      <td>-1.0</td>\n      <td>0.0</td>\n      <td>0.000000</td>\n      <td>0</td>\n      <td>...</td>\n      <td>-1</td>\n      <td>0.000000</td>\n      <td>0.000000</td>\n      <td>7</td>\n      <td>0.000000</td>\n      <td>0.350236</td>\n      <td>0.250000</td>\n      <td>0.250000</td>\n      <td>0.338932</td>\n      <td>0.354995</td>\n    </tr>\n    <tr>\n      <th>24</th>\n      <td>2402008</td>\n      <td>7</td>\n      <td>prior</td>\n      <td>2</td>\n      <td>1</td>\n      <td>19</td>\n      <td>30.0</td>\n      <td>0.0</td>\n      <td>0.000000</td>\n      <td>30</td>\n      <td>...</td>\n      <td>0.0</td>\n      <td>0.190476</td>\n      <td>-0.068966</td>\n      <td>7</td>\n      <td>0.190476</td>\n      <td>0.345757</td>\n      <td>0.500000</td>\n      <td>0.500000</td>\n      <td>0.343576</td>\n      <td>0.367412</td>\n    </tr>\n  </tbody>\n</table>\n<p>25 rows × 27 columns</p>\n</div>"
     },
     "execution_count": 12,
     "metadata": {},
     "output_type": "execute_result"
    }
   ],
   "source": [
    "order_ids = data_manager.get_orders_tip(full=True).groupby('user_id')['order_id'].head(4)\n",
    "order_amount = len(order_ids)\n",
    "\n",
    "data_manager.set_subset(order_ids)\n",
    "data_manager.get_orders_tip().head(25)"
   ],
   "metadata": {
    "collapsed": false,
    "ExecuteTime": {
     "end_time": "2024-05-27T18:06:10.170466700Z",
     "start_time": "2024-05-27T18:04:06.156809300Z"
    }
   },
   "id": "f74c035a9f150c03",
   "execution_count": 12
  },
  {
   "cell_type": "code",
   "outputs": [
    {
     "name": "stdout",
     "output_type": "stream",
     "text": [
      "Number of orders: 816150\n",
      "Number of orders did not change: True\n",
      "\n",
      "Number of NaN or null values in each column:\n",
      "order_id                           0\n",
      "user_id                            0\n",
      "eval_set                           0\n",
      "order_number                       0\n",
      "order_dow                          0\n",
      "order_hour_of_day                  0\n",
      "days_since_prior_order             0\n",
      "tip                            15300\n",
      "prev_tipped_products_ratio         0\n",
      "customer_lifetime                  0\n",
      "rel_days_since_tip            699015\n",
      "order_frequency                    0\n",
      "order_size                         0\n",
      "avg_size_prev_orders               0\n",
      "mean_ordered_rate                  0\n",
      "days_since_tip                     0\n",
      "tip_history                        0\n",
      "prev_order_tipped                  0\n",
      "reordered_ratio                    0\n",
      "sim_orders_tip_ratio               0\n",
      "mode_dept                          0\n",
      "order_excess_likability            0\n",
      "aisle_tip_rate                     0\n",
      "dynamic_feature_test_1             0\n",
      "dynamic_feature_test_2             0\n",
      "dept_tip_rate                      0\n",
      "product_tip_rate                   3\n",
      "dtype: int64\n"
     ]
    }
   ],
   "source": [
    "print(f\"Number of orders: {len(data_manager.get_orders_tip())}\")\n",
    "print(f\"Number of orders did not change: {order_amount == len(data_manager.get_orders_tip())}\\n\")\n",
    "print(f\"Number of NaN or null values in each column:\\n{data_manager.get_orders_tip().isnull().sum()}\")"
   ],
   "metadata": {
    "collapsed": false,
    "ExecuteTime": {
     "end_time": "2024-05-27T18:06:10.442305800Z",
     "start_time": "2024-05-27T18:06:10.170466700Z"
    }
   },
   "id": "9ec949cdfc48d38e",
   "execution_count": 13
  },
  {
   "cell_type": "markdown",
   "id": "d571331aa19136d5",
   "metadata": {
    "collapsed": false
   },
   "source": [
    "### Analysis"
   ]
  },
  {
   "cell_type": "code",
   "outputs": [],
   "source": [
    "from analysis import ExampleAnalysis\n",
    "\n",
    "analysis = ExampleAnalysis(data_manager)\n",
    "analysis.analyze()\n",
    "analysis.plot()"
   ],
   "metadata": {
    "collapsed": false
   },
   "id": "a09a31448a99e7e0"
  },
  {
   "cell_type": "markdown",
   "id": "9038d3d52fbf8ad1",
   "metadata": {
    "collapsed": false
   },
   "source": [
    "### Model Training & Evaluation"
   ]
  },
  {
   "cell_type": "code",
   "execution_count": 17,
   "id": "a9f00ea58f4da04e",
   "metadata": {
    "collapsed": false,
    "ExecuteTime": {
     "end_time": "2024-05-27T18:06:11.189334200Z",
     "start_time": "2024-05-27T18:06:11.175300500Z"
    }
   },
   "outputs": [],
   "source": []
  }
 ],
 "metadata": {
  "kernelspec": {
   "name": "python3",
   "language": "python",
   "display_name": "Python 3 (ipykernel)"
  },
  "language_info": {
   "codemirror_mode": {
    "name": "ipython",
    "version": 3
   },
   "file_extension": ".py",
   "mimetype": "text/x-python",
   "name": "python",
   "nbconvert_exporter": "python",
   "pygments_lexer": "ipython3",
   "version": "3.11.8"
  }
 },
 "nbformat": 4,
 "nbformat_minor": 5
}
