{
 "cells": [
  {
   "cell_type": "markdown",
   "id": "7aea19f30bc2952",
   "metadata": {
    "collapsed": false
   },
   "source": [
    "# Data Science Project SoSe 2024\n",
    "## Team 07\n",
    "- Maximilian Hoffmann\n",
    "- Kilian Kempf\n",
    "- Daniel Schneider\n",
    "- Tom Schuck\n",
    "\n",
    "## Project Submission"
   ]
  },
  {
   "cell_type": "markdown",
   "id": "b1817857eb895437",
   "metadata": {
    "collapsed": false
   },
   "source": [
    "### Data Initialization"
   ]
  },
  {
   "cell_type": "code",
   "execution_count": 1,
   "id": "2ac69658072618d1",
   "metadata": {
    "collapsed": false,
    "ExecuteTime": {
     "end_time": "2024-06-09T19:56:03.497983600Z",
     "start_time": "2024-06-09T19:55:30.109073900Z"
    }
   },
   "outputs": [],
   "source": [
    "import os\n",
    "\n",
    "import pandas as pd\n",
    "\n",
    "from data_management import DataManager\n",
    "\n",
    "DATA_DIR = os.path.join(os.getcwd(), 'data/Instacart')\n",
    "\n",
    "op_prior = pd.read_csv(os.path.join(DATA_DIR, 'order_products__prior.csv.zip'))\n",
    "op_train = pd.read_csv(os.path.join(DATA_DIR, 'order_products__train.csv.zip'))\n",
    "\n",
    "tip_train = pd.read_csv(os.path.join(DATA_DIR, 'tip_trainingsdaten1_.csv'))[['order_id', 'tip']]\n",
    "tip_test = pd.read_csv(os.path.join(DATA_DIR, 'tip_testdaten1_template.csv'))\n",
    "\n",
    "orders = pd.read_csv(os.path.join(DATA_DIR, 'orders.csv.zip'))\n",
    "aisles = pd.read_csv(os.path.join(DATA_DIR, 'aisles.csv.zip'))\n",
    "departments = pd.read_csv(os.path.join(DATA_DIR, 'departments.csv.zip'))\n",
    "products = pd.read_csv(os.path.join(DATA_DIR, 'products.csv.zip'))\n",
    "\n",
    "data_manager = DataManager(op_prior, op_train, tip_train, tip_test, orders, products, aisles, departments)\n",
    "order_amount = len(data_manager.get_orders_tip())"
   ]
  },
  {
   "cell_type": "markdown",
   "id": "d11d62b342b9ebc8",
   "metadata": {
    "collapsed": false
   },
   "source": [
    "### Feature Engineering"
   ]
  },
  {
   "cell_type": "code",
   "execution_count": 2,
   "id": "6a897e084cc934ce",
   "metadata": {
    "collapsed": false,
    "ExecuteTime": {
     "end_time": "2024-06-09T19:56:03.518378900Z",
     "start_time": "2024-06-09T19:56:03.502492Z"
    }
   },
   "outputs": [],
   "source": [
    "from feature_engineering.static_features import TipHistory, ReorderedRatio, OrderSize, PrevTippedProductsRatio, \\\n",
    "    CustomerLifetime, PrevOrderTipped, OrderFrequency, SimOrdersTipRatio, AvgSizePrevOrders, MeanOrderedRate, \\\n",
    "    LastTipSequence, RelDaysSinceTip, DaysSinceTip\n",
    "\n",
    "from feature_engineering.dynamic_features import ProductTipRate, DepartmentTipRate, AisleTipRate, DynamicFeatureTest1, \\\n",
    "    DynamicFeatureTest2\n",
    "\n",
    "# Kilian\n",
    "tip_history = TipHistory()\n",
    "reordered_rate = ReorderedRatio()\n",
    "order_size = OrderSize()\n",
    "prev_tipped_products_ratio = PrevTippedProductsRatio()\n",
    "customer_lifetime = CustomerLifetime()\n",
    "prev_order_tipped = PrevOrderTipped()\n",
    "\n",
    "# Daniel\n",
    "order_frequency = OrderFrequency()\n",
    "mean_ordered_rate = MeanOrderedRate()\n",
    "rel_days_since_tip = RelDaysSinceTip()\n",
    "days_since_tip = DaysSinceTip()\n",
    "\n",
    "# Max\n",
    "sim_orders_tip_ratio = SimOrdersTipRatio()\n",
    "product_tip_rate = ProductTipRate()\n",
    "department_tip_rate = DepartmentTipRate()\n",
    "aisle_tip_rate = AisleTipRate()\n",
    "last_tip_sequence = LastTipSequence()  # TODO: Maybe remove weighting or add additional feature without weoghting\n",
    "\n",
    "# Tom\n",
    "avg_size_prev_orders = AvgSizePrevOrders()\n",
    "\n",
    "# Test\n",
    "dynamic_feature_test_1 = DynamicFeatureTest1()\n",
    "dynamic_feature_test_2 = DynamicFeatureTest2()"
   ]
  },
  {
   "cell_type": "code",
   "execution_count": 3,
   "id": "7bdee9f31e0bac1b",
   "metadata": {
    "collapsed": false,
    "ExecuteTime": {
     "end_time": "2024-06-09T19:56:03.541102Z",
     "start_time": "2024-06-09T19:56:03.519453700Z"
    }
   },
   "outputs": [],
   "source": [
    "# Static Features\n",
    "data_manager.register_feature(tip_history)\n",
    "# data_manager.register_feature(reordered_rate)\n",
    "data_manager.register_feature(order_size)\n",
    "# data_manager.register_feature(customer_lifetime)\n",
    "# data_manager.register_feature(prev_order_tipped)\n",
    "# data_manager.register_feature(prev_tipped_products_ratio)\n",
    "\n",
    "# data_manager.register_feature(order_frequency)\n",
    "# data_manager.register_feature(sim_orders_tip_ratio)\n",
    "# data_manager.register_feature(order_excess_likability)\n",
    "# data_manager.register_feature(avg_size_prev_orders)\n",
    "# data_manager.register_feature(mean_ordered_rate)\n",
    "# data_manager.register_feature(last_tip_sequence)\n",
    "# data_manager.register_feature(rel_days_since_tip)\n",
    "# data_manager.register_feature(days_since_tip)\n",
    "\n",
    "# # Dynamic Features\n",
    "data_manager.register_feature(dynamic_feature_test_1)\n",
    "data_manager.register_feature(dynamic_feature_test_2)\n",
    "# data_manager.register_feature(product_tip_rate)\n",
    "# data_manager.register_feature(department_tip_rate)\n",
    "# data_manager.register_feature(aisle_tip_rate)"
   ]
  },
  {
   "cell_type": "code",
   "execution_count": 4,
   "id": "6b815abe51807fce",
   "metadata": {
    "collapsed": false,
    "ExecuteTime": {
     "end_time": "2024-06-09T19:56:09.265602200Z",
     "start_time": "2024-06-09T19:56:03.538213700Z"
    }
   },
   "outputs": [],
   "source": [
    "data_manager.compute_features()"
   ]
  },
  {
   "cell_type": "code",
   "execution_count": 5,
   "id": "3657b7049bf9e8c2",
   "metadata": {
    "ExecuteTime": {
     "end_time": "2024-06-09T19:56:09.308029900Z",
     "start_time": "2024-06-09T19:56:09.267076900Z"
    }
   },
   "outputs": [
    {
     "data": {
      "text/plain": "    order_id  user_id eval_set  order_number  order_dow  order_hour_of_day  \\\n0    2539329        1    prior             1          2                  8   \n1    2398795        1    prior             2          3                  7   \n2     473747        1    prior             3          3                 12   \n3    2254736        1    prior             4          4                  7   \n4     431534        1    prior             5          4                 15   \n..       ...      ...      ...           ...        ...                ...   \n95   1916106       12    prior             3          5                  8   \n96   1057378       12    prior             4          3                  9   \n97    221248       12    prior             5          1                  9   \n98   2618231       13    prior             1          6                 12   \n99   2560699       13    prior             2          0                 11   \n\n    days_since_prior_order  tip  tip_history  order_size  \\\n0                      NaN  0.0          NaN           5   \n1                     15.0  0.0          0.0           6   \n2                     21.0  0.0          0.0           5   \n3                     29.0  0.0          0.0           5   \n4                     28.0  0.0          0.0           8   \n..                     ...  ...          ...         ...   \n95                    14.0  0.0          0.0          12   \n96                    26.0  0.0          0.0          20   \n97                    30.0  0.0          0.0          22   \n98                     NaN  0.0          NaN           5   \n99                     8.0  1.0          0.0           4   \n\n    dynamic_feature_test_1  dynamic_feature_test_2  \n0                 0.090909                0.090909  \n1                 0.181818                0.181818  \n2                 0.272727                0.272727  \n3                 0.363636                0.363636  \n4                 0.454545                0.454545  \n..                     ...                     ...  \n95                0.600000                0.600000  \n96                0.800000                0.800000  \n97                1.000000                1.000000  \n98                0.076923                0.076923  \n99                0.153846                0.153846  \n\n[100 rows x 12 columns]",
      "text/html": "<div>\n<style scoped>\n    .dataframe tbody tr th:only-of-type {\n        vertical-align: middle;\n    }\n\n    .dataframe tbody tr th {\n        vertical-align: top;\n    }\n\n    .dataframe thead th {\n        text-align: right;\n    }\n</style>\n<table border=\"1\" class=\"dataframe\">\n  <thead>\n    <tr style=\"text-align: right;\">\n      <th></th>\n      <th>order_id</th>\n      <th>user_id</th>\n      <th>eval_set</th>\n      <th>order_number</th>\n      <th>order_dow</th>\n      <th>order_hour_of_day</th>\n      <th>days_since_prior_order</th>\n      <th>tip</th>\n      <th>tip_history</th>\n      <th>order_size</th>\n      <th>dynamic_feature_test_1</th>\n      <th>dynamic_feature_test_2</th>\n    </tr>\n  </thead>\n  <tbody>\n    <tr>\n      <th>0</th>\n      <td>2539329</td>\n      <td>1</td>\n      <td>prior</td>\n      <td>1</td>\n      <td>2</td>\n      <td>8</td>\n      <td>NaN</td>\n      <td>0.0</td>\n      <td>NaN</td>\n      <td>5</td>\n      <td>0.090909</td>\n      <td>0.090909</td>\n    </tr>\n    <tr>\n      <th>1</th>\n      <td>2398795</td>\n      <td>1</td>\n      <td>prior</td>\n      <td>2</td>\n      <td>3</td>\n      <td>7</td>\n      <td>15.0</td>\n      <td>0.0</td>\n      <td>0.0</td>\n      <td>6</td>\n      <td>0.181818</td>\n      <td>0.181818</td>\n    </tr>\n    <tr>\n      <th>2</th>\n      <td>473747</td>\n      <td>1</td>\n      <td>prior</td>\n      <td>3</td>\n      <td>3</td>\n      <td>12</td>\n      <td>21.0</td>\n      <td>0.0</td>\n      <td>0.0</td>\n      <td>5</td>\n      <td>0.272727</td>\n      <td>0.272727</td>\n    </tr>\n    <tr>\n      <th>3</th>\n      <td>2254736</td>\n      <td>1</td>\n      <td>prior</td>\n      <td>4</td>\n      <td>4</td>\n      <td>7</td>\n      <td>29.0</td>\n      <td>0.0</td>\n      <td>0.0</td>\n      <td>5</td>\n      <td>0.363636</td>\n      <td>0.363636</td>\n    </tr>\n    <tr>\n      <th>4</th>\n      <td>431534</td>\n      <td>1</td>\n      <td>prior</td>\n      <td>5</td>\n      <td>4</td>\n      <td>15</td>\n      <td>28.0</td>\n      <td>0.0</td>\n      <td>0.0</td>\n      <td>8</td>\n      <td>0.454545</td>\n      <td>0.454545</td>\n    </tr>\n    <tr>\n      <th>...</th>\n      <td>...</td>\n      <td>...</td>\n      <td>...</td>\n      <td>...</td>\n      <td>...</td>\n      <td>...</td>\n      <td>...</td>\n      <td>...</td>\n      <td>...</td>\n      <td>...</td>\n      <td>...</td>\n      <td>...</td>\n    </tr>\n    <tr>\n      <th>95</th>\n      <td>1916106</td>\n      <td>12</td>\n      <td>prior</td>\n      <td>3</td>\n      <td>5</td>\n      <td>8</td>\n      <td>14.0</td>\n      <td>0.0</td>\n      <td>0.0</td>\n      <td>12</td>\n      <td>0.600000</td>\n      <td>0.600000</td>\n    </tr>\n    <tr>\n      <th>96</th>\n      <td>1057378</td>\n      <td>12</td>\n      <td>prior</td>\n      <td>4</td>\n      <td>3</td>\n      <td>9</td>\n      <td>26.0</td>\n      <td>0.0</td>\n      <td>0.0</td>\n      <td>20</td>\n      <td>0.800000</td>\n      <td>0.800000</td>\n    </tr>\n    <tr>\n      <th>97</th>\n      <td>221248</td>\n      <td>12</td>\n      <td>prior</td>\n      <td>5</td>\n      <td>1</td>\n      <td>9</td>\n      <td>30.0</td>\n      <td>0.0</td>\n      <td>0.0</td>\n      <td>22</td>\n      <td>1.000000</td>\n      <td>1.000000</td>\n    </tr>\n    <tr>\n      <th>98</th>\n      <td>2618231</td>\n      <td>13</td>\n      <td>prior</td>\n      <td>1</td>\n      <td>6</td>\n      <td>12</td>\n      <td>NaN</td>\n      <td>0.0</td>\n      <td>NaN</td>\n      <td>5</td>\n      <td>0.076923</td>\n      <td>0.076923</td>\n    </tr>\n    <tr>\n      <th>99</th>\n      <td>2560699</td>\n      <td>13</td>\n      <td>prior</td>\n      <td>2</td>\n      <td>0</td>\n      <td>11</td>\n      <td>8.0</td>\n      <td>1.0</td>\n      <td>0.0</td>\n      <td>4</td>\n      <td>0.153846</td>\n      <td>0.153846</td>\n    </tr>\n  </tbody>\n</table>\n<p>100 rows × 12 columns</p>\n</div>"
     },
     "execution_count": 5,
     "metadata": {},
     "output_type": "execute_result"
    }
   ],
   "source": [
    "data_manager.get_orders_tip().head(100)"
   ]
  },
  {
   "cell_type": "code",
   "execution_count": 6,
   "id": "d879a6a14f49589a",
   "metadata": {
    "collapsed": false,
    "ExecuteTime": {
     "end_time": "2024-06-09T19:56:09.322806Z",
     "start_time": "2024-06-09T19:56:09.289928700Z"
    }
   },
   "outputs": [],
   "source": [
    "# data_manager.export_features('data/prepared_data/computed_features.csv.zip', only_static=False)"
   ]
  },
  {
   "cell_type": "code",
   "execution_count": 7,
   "id": "5e56cee1c81131b2",
   "metadata": {
    "collapsed": false,
    "ExecuteTime": {
     "end_time": "2024-06-09T19:56:09.378918100Z",
     "start_time": "2024-06-09T19:56:09.295750400Z"
    }
   },
   "outputs": [],
   "source": [
    "# data_manager.import_features('data/prepared_data/computed_features.csv.zip', only_static=False)"
   ]
  },
  {
   "cell_type": "code",
   "execution_count": 8,
   "id": "8f2a4c2575deb79a",
   "metadata": {
    "collapsed": false,
    "ExecuteTime": {
     "end_time": "2024-06-09T19:56:09.382169600Z",
     "start_time": "2024-06-09T19:56:09.299804500Z"
    }
   },
   "outputs": [],
   "source": [
    "# data_manager.get_orders_tip().head(100)"
   ]
  },
  {
   "cell_type": "code",
   "execution_count": 9,
   "id": "c8f20e5050aee4ab",
   "metadata": {
    "collapsed": false,
    "ExecuteTime": {
     "end_time": "2024-06-09T19:56:09.421858300Z",
     "start_time": "2024-06-09T19:56:09.305482Z"
    }
   },
   "outputs": [],
   "source": [
    "# test = data_manager.get_orders_tip()"
   ]
  },
  {
   "cell_type": "code",
   "execution_count": 10,
   "id": "70be2ca230e12d01",
   "metadata": {
    "collapsed": false,
    "ExecuteTime": {
     "end_time": "2024-06-09T19:56:09.485666500Z",
     "start_time": "2024-06-09T19:56:09.314839Z"
    }
   },
   "outputs": [],
   "source": [
    "# print(f\"Number of orders: {len(data_manager.get_orders_tip())}\")\n",
    "# print(f\"Number of orders did not change: {order_amount == len(data_manager.get_orders_tip())}\\n\")\n",
    "# print(f\"Number of NaN or null values in each column:\\n{data_manager.get_orders_tip().isnull().sum()}\")"
   ]
  },
  {
   "cell_type": "code",
   "execution_count": 11,
   "id": "ed21e9e41111b301",
   "metadata": {
    "collapsed": false,
    "ExecuteTime": {
     "end_time": "2024-06-09T19:56:09.490524200Z",
     "start_time": "2024-06-09T19:56:09.319469900Z"
    }
   },
   "outputs": [],
   "source": [
    "# order_ids = data_manager.get_orders_tip(complete=True).groupby('user_id')['order_id'].head(5)\n",
    "# order_amount = len(order_ids)"
   ]
  },
  {
   "cell_type": "code",
   "execution_count": 12,
   "id": "a9c4a8244b861028",
   "metadata": {
    "collapsed": false,
    "ExecuteTime": {
     "end_time": "2024-06-09T19:56:09.501897700Z",
     "start_time": "2024-06-09T19:56:09.325113300Z"
    }
   },
   "outputs": [],
   "source": [
    "# data_manager.set_subset(order_ids)"
   ]
  },
  {
   "cell_type": "code",
   "execution_count": 13,
   "id": "82124a97baebc52",
   "metadata": {
    "collapsed": false,
    "ExecuteTime": {
     "end_time": "2024-06-09T19:56:09.512670500Z",
     "start_time": "2024-06-09T19:56:09.330136300Z"
    }
   },
   "outputs": [],
   "source": [
    "# data_manager.get_orders_tip().head(25)"
   ]
  },
  {
   "cell_type": "code",
   "execution_count": 14,
   "id": "e35d205a2cb3a9a7",
   "metadata": {
    "collapsed": false,
    "ExecuteTime": {
     "end_time": "2024-06-09T19:56:09.515498600Z",
     "start_time": "2024-06-09T19:56:09.336330500Z"
    }
   },
   "outputs": [],
   "source": [
    "# print(f\"Number of orders: {len(data_manager.get_orders_tip())}\")\n",
    "# print(f\"Number of orders did not change: {order_amount == len(data_manager.get_orders_tip())}\\n\")\n",
    "# print(f\"Number of NaN or null values in each column:\\n{data_manager.get_orders_tip().isnull().sum()}\")"
   ]
  },
  {
   "cell_type": "code",
   "execution_count": 15,
   "id": "f74c035a9f150c03",
   "metadata": {
    "collapsed": false,
    "ExecuteTime": {
     "end_time": "2024-06-09T19:56:09.517548700Z",
     "start_time": "2024-06-09T19:56:09.342294400Z"
    }
   },
   "outputs": [],
   "source": [
    "# order_ids = data_manager.get_orders_tip(complete=True).groupby('user_id')['order_id'].head(4)\n",
    "# order_amount = len(order_ids)\n",
    "# \n",
    "# data_manager.set_subset(order_ids)\n",
    "# data_manager.get_orders_tip().head(25)"
   ]
  },
  {
   "cell_type": "code",
   "execution_count": 16,
   "id": "9ec949cdfc48d38e",
   "metadata": {
    "collapsed": false,
    "ExecuteTime": {
     "end_time": "2024-06-09T19:56:09.537938400Z",
     "start_time": "2024-06-09T19:56:09.347007300Z"
    }
   },
   "outputs": [],
   "source": [
    "# print(f\"Number of orders: {len(data_manager.get_orders_tip())}\")\n",
    "# print(f\"Number of orders did not change: {order_amount == len(data_manager.get_orders_tip())}\\n\")\n",
    "# print(f\"Number of NaN or null values in each column:\\n{data_manager.get_orders_tip().isnull().sum()}\")"
   ]
  },
  {
   "cell_type": "markdown",
   "id": "d571331aa19136d5",
   "metadata": {
    "collapsed": false
   },
   "source": [
    "### Analysis\n",
    "- Only orders from the training set (orders with tip information) are considered"
   ]
  },
  {
   "cell_type": "code",
   "execution_count": 17,
   "id": "a09a31448a99e7e0",
   "metadata": {
    "collapsed": false,
    "ExecuteTime": {
     "end_time": "2024-06-09T19:56:09.539765700Z",
     "start_time": "2024-06-09T19:56:09.353192900Z"
    }
   },
   "outputs": [],
   "source": [
    "# from analysis import DayOfWeek, HourOfDay, DaysSincePriorOrder, OrderNumber, Department, Aisle, Product"
   ]
  },
  {
   "cell_type": "code",
   "execution_count": 18,
   "id": "4be267945f618a88",
   "metadata": {
    "collapsed": false,
    "ExecuteTime": {
     "end_time": "2024-06-09T19:56:09.541134800Z",
     "start_time": "2024-06-09T19:56:09.357910800Z"
    }
   },
   "outputs": [],
   "source": [
    "# day_of_week = DayOfWeek(data_manager)\n",
    "# hour_of_day = HourOfDay(data_manager)\n",
    "# days_since_prior_order = DaysSincePriorOrder(data_manager)\n",
    "# order_number = OrderNumber(data_manager)\n",
    "# department = Department(data_manager)\n",
    "# aisle = Aisle(data_manager)\n",
    "# product = Product(data_manager)\n",
    "# number_order_user = NumberOrderUser(data_manager)"
   ]
  },
  {
   "cell_type": "code",
   "execution_count": 19,
   "id": "de5ab313cde80cab",
   "metadata": {
    "collapsed": false,
    "ExecuteTime": {
     "end_time": "2024-06-09T19:56:09.549487900Z",
     "start_time": "2024-06-09T19:56:09.364729600Z"
    }
   },
   "outputs": [],
   "source": [
    "# day_of_week.execute_analysis()"
   ]
  },
  {
   "cell_type": "code",
   "execution_count": 20,
   "id": "fc25465ac99bd8a",
   "metadata": {
    "collapsed": false,
    "ExecuteTime": {
     "end_time": "2024-06-09T19:56:09.551704300Z",
     "start_time": "2024-06-09T19:56:09.372800400Z"
    }
   },
   "outputs": [],
   "source": [
    "# hour_of_day.execute_analysis()"
   ]
  },
  {
   "cell_type": "code",
   "execution_count": 21,
   "id": "1935f461e5cadb36",
   "metadata": {
    "collapsed": false,
    "ExecuteTime": {
     "end_time": "2024-06-09T19:56:09.558809400Z",
     "start_time": "2024-06-09T19:56:09.376253100Z"
    }
   },
   "outputs": [],
   "source": [
    "# days_since_prior_order.execute_analysis()"
   ]
  },
  {
   "cell_type": "code",
   "execution_count": 22,
   "id": "61ab78ca758fe69b",
   "metadata": {
    "collapsed": false,
    "ExecuteTime": {
     "end_time": "2024-06-09T19:56:09.561588400Z",
     "start_time": "2024-06-09T19:56:09.382169600Z"
    }
   },
   "outputs": [],
   "source": [
    "# order_number.execute_analysis()"
   ]
  },
  {
   "cell_type": "code",
   "execution_count": 23,
   "id": "ef07aadff9a64100",
   "metadata": {
    "collapsed": false,
    "ExecuteTime": {
     "end_time": "2024-06-09T19:56:09.608141Z",
     "start_time": "2024-06-09T19:56:09.469393300Z"
    }
   },
   "outputs": [],
   "source": [
    "# department.execute_analysis()"
   ]
  },
  {
   "cell_type": "code",
   "execution_count": 24,
   "id": "3f084df0e69a8f47",
   "metadata": {
    "collapsed": false,
    "ExecuteTime": {
     "end_time": "2024-06-09T19:56:09.610595500Z",
     "start_time": "2024-06-09T19:56:09.471919900Z"
    }
   },
   "outputs": [],
   "source": [
    "# aisle.execute_analysis()"
   ]
  },
  {
   "cell_type": "code",
   "execution_count": 25,
   "id": "9eb958b973ace283",
   "metadata": {
    "collapsed": false,
    "ExecuteTime": {
     "end_time": "2024-06-09T19:56:09.614808500Z",
     "start_time": "2024-06-09T19:56:09.479772800Z"
    }
   },
   "outputs": [],
   "source": [
    "# product.execute_analysis()"
   ]
  },
  {
   "cell_type": "code",
   "execution_count": 26,
   "id": "20d37cf36392362c",
   "metadata": {
    "ExecuteTime": {
     "end_time": "2024-06-09T19:56:09.618704400Z",
     "start_time": "2024-06-09T19:56:09.484333900Z"
    }
   },
   "outputs": [],
   "source": [
    "# number_order_user.execute_analysis()"
   ]
  },
  {
   "cell_type": "markdown",
   "id": "63ca3a2c4358810d",
   "metadata": {
    "collapsed": false
   },
   "source": [
    "### Data Preparation"
   ]
  },
  {
   "cell_type": "code",
   "execution_count": 27,
   "id": "b9e09d0cfa2575f4",
   "metadata": {
    "collapsed": false,
    "ExecuteTime": {
     "end_time": "2024-06-09T19:56:09.668869700Z",
     "start_time": "2024-06-09T19:56:09.490524200Z"
    }
   },
   "outputs": [],
   "source": [
    "# from feature_engineering.static_features import DowHighTipProbability, HodHighTipProbability, OrderNumberSquared, \\\n",
    "#     ContainsAlcohol\n",
    "# \n",
    "# data_manager.register_feature(DowHighTipProbability())\n",
    "# data_manager.register_feature(HodHighTipProbability())\n",
    "# data_manager.register_feature(OrderNumberSquared())\n",
    "# data_manager.register_feature(ContainsAlcohol())"
   ]
  },
  {
   "cell_type": "code",
   "execution_count": 28,
   "id": "7abbbc99cec0f748",
   "metadata": {
    "collapsed": false,
    "ExecuteTime": {
     "end_time": "2024-06-09T19:56:09.670085800Z",
     "start_time": "2024-06-09T19:56:09.497075300Z"
    }
   },
   "outputs": [],
   "source": [
    "# data_manager.compute_features()"
   ]
  },
  {
   "cell_type": "markdown",
   "id": "9038d3d52fbf8ad1",
   "metadata": {
    "collapsed": false
   },
   "source": [
    "### Model Training & Evaluation"
   ]
  },
  {
   "cell_type": "code",
   "execution_count": 29,
   "id": "ad73673f8150801a",
   "metadata": {
    "collapsed": false,
    "ExecuteTime": {
     "end_time": "2024-06-09T19:56:09.685353300Z",
     "start_time": "2024-06-09T19:56:09.500482Z"
    }
   },
   "outputs": [],
   "source": [
    "from data_management.cross_validation import LastOrderUserTSCVSplitter"
   ]
  },
  {
   "cell_type": "code",
   "outputs": [
    {
     "data": {
      "text/plain": "(3346083, 12)"
     },
     "execution_count": 30,
     "metadata": {},
     "output_type": "execute_result"
    }
   ],
   "source": [
    "orders_tip = data_manager.get_orders_tip()\n",
    "orders_tip.shape"
   ],
   "metadata": {
    "collapsed": false,
    "ExecuteTime": {
     "end_time": "2024-06-09T19:56:09.698281800Z",
     "start_time": "2024-06-09T19:56:09.513924Z"
    }
   },
   "id": "296f0a70ecd5fdaf",
   "execution_count": 30
  },
  {
   "cell_type": "code",
   "outputs": [],
   "source": [
    "order_ids = orders_tip[orders_tip['order_number'] > 1]['order_id']\n",
    "# order_ids = orders_tip['order_id']\n",
    "data_manager.set_subset(order_ids)"
   ],
   "metadata": {
    "collapsed": false,
    "ExecuteTime": {
     "end_time": "2024-06-09T19:56:20.605284500Z",
     "start_time": "2024-06-09T19:56:09.518394800Z"
    }
   },
   "id": "58fe40ad3b454c2f",
   "execution_count": 31
  },
  {
   "cell_type": "code",
   "outputs": [
    {
     "data": {
      "text/plain": "(3008665, 12)"
     },
     "execution_count": 32,
     "metadata": {},
     "output_type": "execute_result"
    }
   ],
   "source": [
    "orders_tip_train = data_manager.get_orders_tip_train()\n",
    "orders_tip_train.shape"
   ],
   "metadata": {
    "collapsed": false,
    "ExecuteTime": {
     "end_time": "2024-06-09T19:56:20.860681400Z",
     "start_time": "2024-06-09T19:56:20.606432900Z"
    }
   },
   "id": "a4973c8badaabf60",
   "execution_count": 32
  },
  {
   "cell_type": "code",
   "outputs": [],
   "source": [
    "# cv = KFold(n_splits=5, shuffle=True, random_state=42)"
   ],
   "metadata": {
    "collapsed": false,
    "ExecuteTime": {
     "end_time": "2024-06-09T19:56:20.866223100Z",
     "start_time": "2024-06-09T19:56:20.860681400Z"
    }
   },
   "id": "347835c33413ab0",
   "execution_count": 33
  },
  {
   "cell_type": "code",
   "outputs": [],
   "source": [
    "last_order_user_tscv_splitter = LastOrderUserTSCVSplitter(data_manager, n_splits=5)"
   ],
   "metadata": {
    "collapsed": false,
    "ExecuteTime": {
     "end_time": "2024-06-09T19:56:21.810882500Z",
     "start_time": "2024-06-09T19:56:20.864293900Z"
    }
   },
   "id": "9536ad3b2ec2e510",
   "execution_count": 34
  },
  {
   "cell_type": "code",
   "outputs": [],
   "source": [
    "# splits = last_order_user_tscv_splitter.split(orders_tip_train)"
   ],
   "metadata": {
    "collapsed": false,
    "ExecuteTime": {
     "end_time": "2024-06-09T19:56:21.824038500Z",
     "start_time": "2024-06-09T19:56:21.812116900Z"
    }
   },
   "id": "e5442b2c715d1963",
   "execution_count": 35
  },
  {
   "cell_type": "code",
   "outputs": [],
   "source": [
    "# folds = {}\n",
    "# prev_test = 0\n",
    "# for i, (train_index, test_index) in enumerate(splits):\n",
    "#     print(f'Fold {i + 1}')\n",
    "#     print(f'Train: {len(train_index)}')\n",
    "#     print(f'Test: {len(test_index)}')\n",
    "#     print(f'Orders: {len(orders_tip_train)}')\n",
    "#     print(f'Sum equal: {(len(train_index) + len(test_index) + prev_test) == len(orders_tip_train)}')\n",
    "#     print(f'Ratio: {len(test_index) / (len(train_index) + len(test_index))}')\n",
    "# \n",
    "#     train_orders = orders_tip_train.loc[train_index]\n",
    "#     test_orders = orders_tip_train.loc[test_index]\n",
    "#     current_fold = {\n",
    "#         'train': train_orders,\n",
    "#         'test': test_orders\n",
    "#     }\n",
    "#     folds[f'fold_{i}'] = current_fold\n",
    "#     prev_test += len(test_index)"
   ],
   "metadata": {
    "collapsed": false,
    "ExecuteTime": {
     "end_time": "2024-06-09T19:56:21.844938900Z",
     "start_time": "2024-06-09T19:56:21.820653200Z"
    }
   },
   "id": "c4c42ee3b5b60b2c",
   "execution_count": 36
  },
  {
   "cell_type": "code",
   "outputs": [
    {
     "name": "stdout",
     "output_type": "stream",
     "text": [
      "Export 1: Train size: 2802456, Test size: 206209\n",
      "Export 2: Train size: 2596247, Test size: 206209\n",
      "Export 3: Train size: 2414024, Test size: 182223\n",
      "Export 4: Train size: 2251391, Test size: 162633\n",
      "Export 5: Train size: 2104923, Test size: 146468\n"
     ]
    }
   ],
   "source": [
    "last_order_user_tscv_splitter.export_splits('data/prepared_data/')"
   ],
   "metadata": {
    "collapsed": false,
    "ExecuteTime": {
     "end_time": "2024-06-09T19:59:29.935745200Z",
     "start_time": "2024-06-09T19:56:21.846020500Z"
    }
   },
   "id": "5bd424197a89c1c",
   "execution_count": 37
  },
  {
   "cell_type": "code",
   "outputs": [],
   "source": [
    "# user_tscv_splitter = UserTSCVSplitter(data_manager, n_splits=5, validation_set_ratio=0.2, seed=42)"
   ],
   "metadata": {
    "collapsed": false,
    "ExecuteTime": {
     "end_time": "2024-06-09T19:59:29.944229600Z",
     "start_time": "2024-06-09T19:59:29.936773700Z"
    }
   },
   "id": "f138d9493decebd3",
   "execution_count": 38
  },
  {
   "cell_type": "code",
   "outputs": [],
   "source": [
    "# splits = user_tscv_splitter.split(orders_tip_train)"
   ],
   "metadata": {
    "collapsed": false,
    "ExecuteTime": {
     "end_time": "2024-06-09T19:59:29.975630600Z",
     "start_time": "2024-06-09T19:59:29.940454400Z"
    }
   },
   "id": "b1218ab4a72a6b7f",
   "execution_count": 39
  },
  {
   "cell_type": "code",
   "outputs": [],
   "source": [
    "# folds = {}\n",
    "# prev_test = 0\n",
    "# for i, (train_index, test_index) in enumerate(splits):\n",
    "#     print(f'Fold {i + 1}')\n",
    "#     print(f'Train: {len(train_index)}')\n",
    "#     print(f'Test: {len(test_index)}')\n",
    "#     print(f'Orders: {len(orders_tip_train)}')\n",
    "#     print(f'Sum equal: {(len(train_index) + len(test_index) + prev_test) == len(orders_tip_train)}')\n",
    "#     print(f'Ratio: {len(test_index) / (len(train_index) + len(test_index))}')\n",
    "# \n",
    "#     train_orders = orders_tip_train.loc[train_index]\n",
    "#     test_orders = orders_tip_train.loc[test_index]\n",
    "#     current_fold = {\n",
    "#         'train': train_orders,\n",
    "#         'test': test_orders\n",
    "#     }\n",
    "#     folds[f'fold_{i}'] = current_fold\n",
    "#     prev_test += len(test_index)"
   ],
   "metadata": {
    "collapsed": false,
    "ExecuteTime": {
     "end_time": "2024-06-09T19:59:29.977538100Z",
     "start_time": "2024-06-09T19:59:29.967442500Z"
    }
   },
   "id": "5b6366adcee6c34c",
   "execution_count": 40
  },
  {
   "cell_type": "code",
   "outputs": [],
   "source": [
    "# user_tscv_splitter.export_splits('data/prepared_data/')"
   ],
   "metadata": {
    "collapsed": false,
    "ExecuteTime": {
     "end_time": "2024-06-09T19:59:29.993002800Z",
     "start_time": "2024-06-09T19:59:29.973485300Z"
    }
   },
   "id": "a52075ae6b47d953",
   "execution_count": 41
  },
  {
   "cell_type": "code",
   "outputs": [],
   "source": [
    "# features = ['order_number', 'order_dow', 'order_hour_of_day', 'days_since_prior_order', 'order_size', 'tip_history',\n",
    "#             'dynamic_feature_test_1', 'dynamic_feature_test_2']\n",
    "# \n",
    "# prepared_splits_dict = user_tscv_splitter.import_splits('data/prepared_data/', features)"
   ],
   "metadata": {
    "collapsed": false,
    "ExecuteTime": {
     "end_time": "2024-06-09T19:59:30.003707300Z",
     "start_time": "2024-06-09T19:59:29.979730200Z"
    }
   },
   "id": "6dd5f18375a3b402",
   "execution_count": 42
  },
  {
   "cell_type": "code",
   "outputs": [],
   "source": [
    "features = ['order_number', 'order_dow', 'order_hour_of_day', 'days_since_prior_order', 'order_size', 'tip_history',\n",
    "            'dynamic_feature_test_1', 'dynamic_feature_test_2']\n",
    "\n",
    "prepared_splits_dict = last_order_user_tscv_splitter.import_splits('data/prepared_data/', features)"
   ],
   "metadata": {
    "collapsed": false,
    "ExecuteTime": {
     "end_time": "2024-06-09T19:59:47.186998600Z",
     "start_time": "2024-06-09T19:59:29.984354800Z"
    }
   },
   "id": "f4d202d6c0745bf1",
   "execution_count": 43
  },
  {
   "cell_type": "code",
   "outputs": [],
   "source": [
    "from data_management import DatasetSelector\n",
    "from sklearn.pipeline import Pipeline\n",
    "from sklearn.tree import DecisionTreeClassifier\n",
    "from tempfile import mkdtemp\n",
    "from joblib import Memory\n",
    "\n",
    "pipeline_steps = [('selector', DatasetSelector(prepared_splits_dict)),\n",
    "                  ('estimator', DecisionTreeClassifier())]\n",
    "\n",
    "cachedir = mkdtemp()\n",
    "memory = Memory(location=cachedir, verbose=0)\n",
    "\n",
    "pipeline = Pipeline(pipeline_steps, verbose=False, memory=memory)"
   ],
   "metadata": {
    "collapsed": false,
    "ExecuteTime": {
     "end_time": "2024-06-09T19:59:47.477830Z",
     "start_time": "2024-06-09T19:59:47.191715100Z"
    }
   },
   "id": "b97726c4e8838e00",
   "execution_count": 44
  },
  {
   "cell_type": "code",
   "outputs": [],
   "source": [
    "from sklearn.model_selection import GridSearchCV\n",
    "\n",
    "param_grid = {\n",
    "    'estimator__criterion': ['entropy'],\n",
    "    'estimator__max_depth': [9, 10],\n",
    "    'estimator__min_samples_leaf': [256]\n",
    "}\n",
    "\n",
    "grid_search_clf = GridSearchCV(pipeline, param_grid, cv=last_order_user_tscv_splitter, scoring='accuracy', verbose=1,\n",
    "                               n_jobs=-1)"
   ],
   "metadata": {
    "collapsed": false,
    "ExecuteTime": {
     "end_time": "2024-06-09T19:59:47.490623500Z",
     "start_time": "2024-06-09T19:59:47.481603500Z"
    }
   },
   "id": "9ddc6848eeb7f9f7",
   "execution_count": 45
  },
  {
   "cell_type": "code",
   "outputs": [],
   "source": [
    "X = orders_tip_train[features]\n",
    "y = orders_tip_train['tip'].astype(bool)"
   ],
   "metadata": {
    "collapsed": false,
    "ExecuteTime": {
     "end_time": "2024-06-09T19:59:47.581416900Z",
     "start_time": "2024-06-09T19:59:47.483737300Z"
    }
   },
   "id": "35a379ca597eb576",
   "execution_count": 46
  },
  {
   "cell_type": "code",
   "outputs": [
    {
     "data": {
      "text/plain": "    order_number  order_dow  order_hour_of_day  days_since_prior_order  \\\n0              2          3                  7                    15.0   \n1              3          3                 12                    21.0   \n2              4          4                  7                    29.0   \n3              5          4                 15                    28.0   \n4              6          2                  7                    19.0   \n5              7          1                  9                    20.0   \n6              8          1                 14                    14.0   \n7              9          1                 16                     0.0   \n8             10          4                  8                    30.0   \n9              2          5                 10                    10.0   \n10             3          1                 10                     3.0   \n11             4          2                 10                     8.0   \n12             5          3                 11                     8.0   \n13             6          2                  9                    13.0   \n14             7          2                 12                    14.0   \n15             8          1                 15                    27.0   \n16             9          2                  9                     8.0   \n17            10          1                 11                     6.0   \n18            11          1                 10                    30.0   \n19            12          1                  9                    28.0   \n20            13          4                 11                    30.0   \n21            14          3                 10                    13.0   \n22             2          3                 19                     9.0   \n23             3          3                 16                    21.0   \n24             4          2                 18                    20.0   \n\n    order_size  tip_history  dynamic_feature_test_1  dynamic_feature_test_2  \n0            6     0.000000                0.100000                0.100000  \n1            5     0.000000                0.200000                0.200000  \n2            5     0.000000                0.300000                0.300000  \n3            8     0.000000                0.400000                0.400000  \n4            4     0.000000                0.500000                0.500000  \n5            5     0.000000                0.600000                0.600000  \n6            6     0.000000                0.700000                0.700000  \n7            6     0.000000                0.800000                0.800000  \n8            9     0.000000                0.900000                0.900000  \n9            6     0.000000                0.071429                0.071429  \n10           5     0.000000                0.142857                0.142857  \n11          13     0.333333                0.214286                0.214286  \n12          13     0.250000                0.285714                0.285714  \n13          21     0.400000                0.357143                0.357143  \n14          14     0.333333                0.428571                0.428571  \n15          16     0.428571                0.500000                0.500000  \n16          26     0.500000                0.571429                0.571429  \n17           9     0.555556                0.642857                0.642857  \n18          15     0.600000                0.714286                0.714286  \n19          19     0.636364                0.785714                0.785714  \n20           9     0.666667                0.857143                0.857143  \n21          16     0.615385                0.928571                0.928571  \n22           9     1.000000                0.090909                0.090909  \n23           6     1.000000                0.181818                0.181818  \n24           5     1.000000                0.272727                0.272727  ",
      "text/html": "<div>\n<style scoped>\n    .dataframe tbody tr th:only-of-type {\n        vertical-align: middle;\n    }\n\n    .dataframe tbody tr th {\n        vertical-align: top;\n    }\n\n    .dataframe thead th {\n        text-align: right;\n    }\n</style>\n<table border=\"1\" class=\"dataframe\">\n  <thead>\n    <tr style=\"text-align: right;\">\n      <th></th>\n      <th>order_number</th>\n      <th>order_dow</th>\n      <th>order_hour_of_day</th>\n      <th>days_since_prior_order</th>\n      <th>order_size</th>\n      <th>tip_history</th>\n      <th>dynamic_feature_test_1</th>\n      <th>dynamic_feature_test_2</th>\n    </tr>\n  </thead>\n  <tbody>\n    <tr>\n      <th>0</th>\n      <td>2</td>\n      <td>3</td>\n      <td>7</td>\n      <td>15.0</td>\n      <td>6</td>\n      <td>0.000000</td>\n      <td>0.100000</td>\n      <td>0.100000</td>\n    </tr>\n    <tr>\n      <th>1</th>\n      <td>3</td>\n      <td>3</td>\n      <td>12</td>\n      <td>21.0</td>\n      <td>5</td>\n      <td>0.000000</td>\n      <td>0.200000</td>\n      <td>0.200000</td>\n    </tr>\n    <tr>\n      <th>2</th>\n      <td>4</td>\n      <td>4</td>\n      <td>7</td>\n      <td>29.0</td>\n      <td>5</td>\n      <td>0.000000</td>\n      <td>0.300000</td>\n      <td>0.300000</td>\n    </tr>\n    <tr>\n      <th>3</th>\n      <td>5</td>\n      <td>4</td>\n      <td>15</td>\n      <td>28.0</td>\n      <td>8</td>\n      <td>0.000000</td>\n      <td>0.400000</td>\n      <td>0.400000</td>\n    </tr>\n    <tr>\n      <th>4</th>\n      <td>6</td>\n      <td>2</td>\n      <td>7</td>\n      <td>19.0</td>\n      <td>4</td>\n      <td>0.000000</td>\n      <td>0.500000</td>\n      <td>0.500000</td>\n    </tr>\n    <tr>\n      <th>5</th>\n      <td>7</td>\n      <td>1</td>\n      <td>9</td>\n      <td>20.0</td>\n      <td>5</td>\n      <td>0.000000</td>\n      <td>0.600000</td>\n      <td>0.600000</td>\n    </tr>\n    <tr>\n      <th>6</th>\n      <td>8</td>\n      <td>1</td>\n      <td>14</td>\n      <td>14.0</td>\n      <td>6</td>\n      <td>0.000000</td>\n      <td>0.700000</td>\n      <td>0.700000</td>\n    </tr>\n    <tr>\n      <th>7</th>\n      <td>9</td>\n      <td>1</td>\n      <td>16</td>\n      <td>0.0</td>\n      <td>6</td>\n      <td>0.000000</td>\n      <td>0.800000</td>\n      <td>0.800000</td>\n    </tr>\n    <tr>\n      <th>8</th>\n      <td>10</td>\n      <td>4</td>\n      <td>8</td>\n      <td>30.0</td>\n      <td>9</td>\n      <td>0.000000</td>\n      <td>0.900000</td>\n      <td>0.900000</td>\n    </tr>\n    <tr>\n      <th>9</th>\n      <td>2</td>\n      <td>5</td>\n      <td>10</td>\n      <td>10.0</td>\n      <td>6</td>\n      <td>0.000000</td>\n      <td>0.071429</td>\n      <td>0.071429</td>\n    </tr>\n    <tr>\n      <th>10</th>\n      <td>3</td>\n      <td>1</td>\n      <td>10</td>\n      <td>3.0</td>\n      <td>5</td>\n      <td>0.000000</td>\n      <td>0.142857</td>\n      <td>0.142857</td>\n    </tr>\n    <tr>\n      <th>11</th>\n      <td>4</td>\n      <td>2</td>\n      <td>10</td>\n      <td>8.0</td>\n      <td>13</td>\n      <td>0.333333</td>\n      <td>0.214286</td>\n      <td>0.214286</td>\n    </tr>\n    <tr>\n      <th>12</th>\n      <td>5</td>\n      <td>3</td>\n      <td>11</td>\n      <td>8.0</td>\n      <td>13</td>\n      <td>0.250000</td>\n      <td>0.285714</td>\n      <td>0.285714</td>\n    </tr>\n    <tr>\n      <th>13</th>\n      <td>6</td>\n      <td>2</td>\n      <td>9</td>\n      <td>13.0</td>\n      <td>21</td>\n      <td>0.400000</td>\n      <td>0.357143</td>\n      <td>0.357143</td>\n    </tr>\n    <tr>\n      <th>14</th>\n      <td>7</td>\n      <td>2</td>\n      <td>12</td>\n      <td>14.0</td>\n      <td>14</td>\n      <td>0.333333</td>\n      <td>0.428571</td>\n      <td>0.428571</td>\n    </tr>\n    <tr>\n      <th>15</th>\n      <td>8</td>\n      <td>1</td>\n      <td>15</td>\n      <td>27.0</td>\n      <td>16</td>\n      <td>0.428571</td>\n      <td>0.500000</td>\n      <td>0.500000</td>\n    </tr>\n    <tr>\n      <th>16</th>\n      <td>9</td>\n      <td>2</td>\n      <td>9</td>\n      <td>8.0</td>\n      <td>26</td>\n      <td>0.500000</td>\n      <td>0.571429</td>\n      <td>0.571429</td>\n    </tr>\n    <tr>\n      <th>17</th>\n      <td>10</td>\n      <td>1</td>\n      <td>11</td>\n      <td>6.0</td>\n      <td>9</td>\n      <td>0.555556</td>\n      <td>0.642857</td>\n      <td>0.642857</td>\n    </tr>\n    <tr>\n      <th>18</th>\n      <td>11</td>\n      <td>1</td>\n      <td>10</td>\n      <td>30.0</td>\n      <td>15</td>\n      <td>0.600000</td>\n      <td>0.714286</td>\n      <td>0.714286</td>\n    </tr>\n    <tr>\n      <th>19</th>\n      <td>12</td>\n      <td>1</td>\n      <td>9</td>\n      <td>28.0</td>\n      <td>19</td>\n      <td>0.636364</td>\n      <td>0.785714</td>\n      <td>0.785714</td>\n    </tr>\n    <tr>\n      <th>20</th>\n      <td>13</td>\n      <td>4</td>\n      <td>11</td>\n      <td>30.0</td>\n      <td>9</td>\n      <td>0.666667</td>\n      <td>0.857143</td>\n      <td>0.857143</td>\n    </tr>\n    <tr>\n      <th>21</th>\n      <td>14</td>\n      <td>3</td>\n      <td>10</td>\n      <td>13.0</td>\n      <td>16</td>\n      <td>0.615385</td>\n      <td>0.928571</td>\n      <td>0.928571</td>\n    </tr>\n    <tr>\n      <th>22</th>\n      <td>2</td>\n      <td>3</td>\n      <td>19</td>\n      <td>9.0</td>\n      <td>9</td>\n      <td>1.000000</td>\n      <td>0.090909</td>\n      <td>0.090909</td>\n    </tr>\n    <tr>\n      <th>23</th>\n      <td>3</td>\n      <td>3</td>\n      <td>16</td>\n      <td>21.0</td>\n      <td>6</td>\n      <td>1.000000</td>\n      <td>0.181818</td>\n      <td>0.181818</td>\n    </tr>\n    <tr>\n      <th>24</th>\n      <td>4</td>\n      <td>2</td>\n      <td>18</td>\n      <td>20.0</td>\n      <td>5</td>\n      <td>1.000000</td>\n      <td>0.272727</td>\n      <td>0.272727</td>\n    </tr>\n  </tbody>\n</table>\n</div>"
     },
     "execution_count": 47,
     "metadata": {},
     "output_type": "execute_result"
    }
   ],
   "source": [
    "X.head(25)"
   ],
   "metadata": {
    "collapsed": false,
    "ExecuteTime": {
     "end_time": "2024-06-09T19:59:47.596301800Z",
     "start_time": "2024-06-09T19:59:47.582556600Z"
    }
   },
   "id": "7d31e0060aa6a3b7",
   "execution_count": 47
  },
  {
   "cell_type": "code",
   "outputs": [
    {
     "name": "stdout",
     "output_type": "stream",
     "text": [
      "Fitting 5 folds for each of 2 candidates, totalling 10 fits\n",
      "Transformation: (3008665, 8) -> (3008665, 8)\n"
     ]
    },
    {
     "data": {
      "text/plain": "GridSearchCV(cv=LastOrderUserTSCVSplitter(data_manager=<data_management.data_manager.DataManager object at 0x000001D4D38AA510>,\n                                          n_splits=5),\n             estimator=Pipeline(memory=Memory(location=C:\\Users\\I538883\\AppData\\Local\\Temp\\tmpymxscuy4\\joblib),\n                                steps=[('selector',\n                                        DatasetSelector(prepared_splits_dict={-8070716829487604255:          order_number  order_dow  order_hour_of_day...\n         dynamic_feature_test_2  \n0                      0.200000  \n1                      0.400000  \n2                      0.600000  \n3                      0.800000  \n9                      0.111111  \n...                         ...  \n3008655                0.375000  \n3008656                0.500000  \n3008657                0.625000  \n3008658                0.750000  \n3008659                0.875000  \n\n[2104923 rows x 8 columns]})),\n                                       ('estimator',\n                                        DecisionTreeClassifier())]),\n             n_jobs=-1,\n             param_grid={'estimator__criterion': ['entropy'],\n                         'estimator__max_depth': [9, 10],\n                         'estimator__min_samples_leaf': [256]},\n             scoring='accuracy', verbose=1)",
      "text/html": "<style>#sk-container-id-1 {\n  /* Definition of color scheme common for light and dark mode */\n  --sklearn-color-text: black;\n  --sklearn-color-line: gray;\n  /* Definition of color scheme for unfitted estimators */\n  --sklearn-color-unfitted-level-0: #fff5e6;\n  --sklearn-color-unfitted-level-1: #f6e4d2;\n  --sklearn-color-unfitted-level-2: #ffe0b3;\n  --sklearn-color-unfitted-level-3: chocolate;\n  /* Definition of color scheme for fitted estimators */\n  --sklearn-color-fitted-level-0: #f0f8ff;\n  --sklearn-color-fitted-level-1: #d4ebff;\n  --sklearn-color-fitted-level-2: #b3dbfd;\n  --sklearn-color-fitted-level-3: cornflowerblue;\n\n  /* Specific color for light theme */\n  --sklearn-color-text-on-default-background: var(--sg-text-color, var(--theme-code-foreground, var(--jp-content-font-color1, black)));\n  --sklearn-color-background: var(--sg-background-color, var(--theme-background, var(--jp-layout-color0, white)));\n  --sklearn-color-border-box: var(--sg-text-color, var(--theme-code-foreground, var(--jp-content-font-color1, black)));\n  --sklearn-color-icon: #696969;\n\n  @media (prefers-color-scheme: dark) {\n    /* Redefinition of color scheme for dark theme */\n    --sklearn-color-text-on-default-background: var(--sg-text-color, var(--theme-code-foreground, var(--jp-content-font-color1, white)));\n    --sklearn-color-background: var(--sg-background-color, var(--theme-background, var(--jp-layout-color0, #111)));\n    --sklearn-color-border-box: var(--sg-text-color, var(--theme-code-foreground, var(--jp-content-font-color1, white)));\n    --sklearn-color-icon: #878787;\n  }\n}\n\n#sk-container-id-1 {\n  color: var(--sklearn-color-text);\n}\n\n#sk-container-id-1 pre {\n  padding: 0;\n}\n\n#sk-container-id-1 input.sk-hidden--visually {\n  border: 0;\n  clip: rect(1px 1px 1px 1px);\n  clip: rect(1px, 1px, 1px, 1px);\n  height: 1px;\n  margin: -1px;\n  overflow: hidden;\n  padding: 0;\n  position: absolute;\n  width: 1px;\n}\n\n#sk-container-id-1 div.sk-dashed-wrapped {\n  border: 1px dashed var(--sklearn-color-line);\n  margin: 0 0.4em 0.5em 0.4em;\n  box-sizing: border-box;\n  padding-bottom: 0.4em;\n  background-color: var(--sklearn-color-background);\n}\n\n#sk-container-id-1 div.sk-container {\n  /* jupyter's `normalize.less` sets `[hidden] { display: none; }`\n     but bootstrap.min.css set `[hidden] { display: none !important; }`\n     so we also need the `!important` here to be able to override the\n     default hidden behavior on the sphinx rendered scikit-learn.org.\n     See: https://github.com/scikit-learn/scikit-learn/issues/21755 */\n  display: inline-block !important;\n  position: relative;\n}\n\n#sk-container-id-1 div.sk-text-repr-fallback {\n  display: none;\n}\n\ndiv.sk-parallel-item,\ndiv.sk-serial,\ndiv.sk-item {\n  /* draw centered vertical line to link estimators */\n  background-image: linear-gradient(var(--sklearn-color-text-on-default-background), var(--sklearn-color-text-on-default-background));\n  background-size: 2px 100%;\n  background-repeat: no-repeat;\n  background-position: center center;\n}\n\n/* Parallel-specific style estimator block */\n\n#sk-container-id-1 div.sk-parallel-item::after {\n  content: \"\";\n  width: 100%;\n  border-bottom: 2px solid var(--sklearn-color-text-on-default-background);\n  flex-grow: 1;\n}\n\n#sk-container-id-1 div.sk-parallel {\n  display: flex;\n  align-items: stretch;\n  justify-content: center;\n  background-color: var(--sklearn-color-background);\n  position: relative;\n}\n\n#sk-container-id-1 div.sk-parallel-item {\n  display: flex;\n  flex-direction: column;\n}\n\n#sk-container-id-1 div.sk-parallel-item:first-child::after {\n  align-self: flex-end;\n  width: 50%;\n}\n\n#sk-container-id-1 div.sk-parallel-item:last-child::after {\n  align-self: flex-start;\n  width: 50%;\n}\n\n#sk-container-id-1 div.sk-parallel-item:only-child::after {\n  width: 0;\n}\n\n/* Serial-specific style estimator block */\n\n#sk-container-id-1 div.sk-serial {\n  display: flex;\n  flex-direction: column;\n  align-items: center;\n  background-color: var(--sklearn-color-background);\n  padding-right: 1em;\n  padding-left: 1em;\n}\n\n\n/* Toggleable style: style used for estimator/Pipeline/ColumnTransformer box that is\nclickable and can be expanded/collapsed.\n- Pipeline and ColumnTransformer use this feature and define the default style\n- Estimators will overwrite some part of the style using the `sk-estimator` class\n*/\n\n/* Pipeline and ColumnTransformer style (default) */\n\n#sk-container-id-1 div.sk-toggleable {\n  /* Default theme specific background. It is overwritten whether we have a\n  specific estimator or a Pipeline/ColumnTransformer */\n  background-color: var(--sklearn-color-background);\n}\n\n/* Toggleable label */\n#sk-container-id-1 label.sk-toggleable__label {\n  cursor: pointer;\n  display: block;\n  width: 100%;\n  margin-bottom: 0;\n  padding: 0.5em;\n  box-sizing: border-box;\n  text-align: center;\n}\n\n#sk-container-id-1 label.sk-toggleable__label-arrow:before {\n  /* Arrow on the left of the label */\n  content: \"▸\";\n  float: left;\n  margin-right: 0.25em;\n  color: var(--sklearn-color-icon);\n}\n\n#sk-container-id-1 label.sk-toggleable__label-arrow:hover:before {\n  color: var(--sklearn-color-text);\n}\n\n/* Toggleable content - dropdown */\n\n#sk-container-id-1 div.sk-toggleable__content {\n  max-height: 0;\n  max-width: 0;\n  overflow: hidden;\n  text-align: left;\n  /* unfitted */\n  background-color: var(--sklearn-color-unfitted-level-0);\n}\n\n#sk-container-id-1 div.sk-toggleable__content.fitted {\n  /* fitted */\n  background-color: var(--sklearn-color-fitted-level-0);\n}\n\n#sk-container-id-1 div.sk-toggleable__content pre {\n  margin: 0.2em;\n  border-radius: 0.25em;\n  color: var(--sklearn-color-text);\n  /* unfitted */\n  background-color: var(--sklearn-color-unfitted-level-0);\n}\n\n#sk-container-id-1 div.sk-toggleable__content.fitted pre {\n  /* unfitted */\n  background-color: var(--sklearn-color-fitted-level-0);\n}\n\n#sk-container-id-1 input.sk-toggleable__control:checked~div.sk-toggleable__content {\n  /* Expand drop-down */\n  max-height: 200px;\n  max-width: 100%;\n  overflow: auto;\n}\n\n#sk-container-id-1 input.sk-toggleable__control:checked~label.sk-toggleable__label-arrow:before {\n  content: \"▾\";\n}\n\n/* Pipeline/ColumnTransformer-specific style */\n\n#sk-container-id-1 div.sk-label input.sk-toggleable__control:checked~label.sk-toggleable__label {\n  color: var(--sklearn-color-text);\n  background-color: var(--sklearn-color-unfitted-level-2);\n}\n\n#sk-container-id-1 div.sk-label.fitted input.sk-toggleable__control:checked~label.sk-toggleable__label {\n  background-color: var(--sklearn-color-fitted-level-2);\n}\n\n/* Estimator-specific style */\n\n/* Colorize estimator box */\n#sk-container-id-1 div.sk-estimator input.sk-toggleable__control:checked~label.sk-toggleable__label {\n  /* unfitted */\n  background-color: var(--sklearn-color-unfitted-level-2);\n}\n\n#sk-container-id-1 div.sk-estimator.fitted input.sk-toggleable__control:checked~label.sk-toggleable__label {\n  /* fitted */\n  background-color: var(--sklearn-color-fitted-level-2);\n}\n\n#sk-container-id-1 div.sk-label label.sk-toggleable__label,\n#sk-container-id-1 div.sk-label label {\n  /* The background is the default theme color */\n  color: var(--sklearn-color-text-on-default-background);\n}\n\n/* On hover, darken the color of the background */\n#sk-container-id-1 div.sk-label:hover label.sk-toggleable__label {\n  color: var(--sklearn-color-text);\n  background-color: var(--sklearn-color-unfitted-level-2);\n}\n\n/* Label box, darken color on hover, fitted */\n#sk-container-id-1 div.sk-label.fitted:hover label.sk-toggleable__label.fitted {\n  color: var(--sklearn-color-text);\n  background-color: var(--sklearn-color-fitted-level-2);\n}\n\n/* Estimator label */\n\n#sk-container-id-1 div.sk-label label {\n  font-family: monospace;\n  font-weight: bold;\n  display: inline-block;\n  line-height: 1.2em;\n}\n\n#sk-container-id-1 div.sk-label-container {\n  text-align: center;\n}\n\n/* Estimator-specific */\n#sk-container-id-1 div.sk-estimator {\n  font-family: monospace;\n  border: 1px dotted var(--sklearn-color-border-box);\n  border-radius: 0.25em;\n  box-sizing: border-box;\n  margin-bottom: 0.5em;\n  /* unfitted */\n  background-color: var(--sklearn-color-unfitted-level-0);\n}\n\n#sk-container-id-1 div.sk-estimator.fitted {\n  /* fitted */\n  background-color: var(--sklearn-color-fitted-level-0);\n}\n\n/* on hover */\n#sk-container-id-1 div.sk-estimator:hover {\n  /* unfitted */\n  background-color: var(--sklearn-color-unfitted-level-2);\n}\n\n#sk-container-id-1 div.sk-estimator.fitted:hover {\n  /* fitted */\n  background-color: var(--sklearn-color-fitted-level-2);\n}\n\n/* Specification for estimator info (e.g. \"i\" and \"?\") */\n\n/* Common style for \"i\" and \"?\" */\n\n.sk-estimator-doc-link,\na:link.sk-estimator-doc-link,\na:visited.sk-estimator-doc-link {\n  float: right;\n  font-size: smaller;\n  line-height: 1em;\n  font-family: monospace;\n  background-color: var(--sklearn-color-background);\n  border-radius: 1em;\n  height: 1em;\n  width: 1em;\n  text-decoration: none !important;\n  margin-left: 1ex;\n  /* unfitted */\n  border: var(--sklearn-color-unfitted-level-1) 1pt solid;\n  color: var(--sklearn-color-unfitted-level-1);\n}\n\n.sk-estimator-doc-link.fitted,\na:link.sk-estimator-doc-link.fitted,\na:visited.sk-estimator-doc-link.fitted {\n  /* fitted */\n  border: var(--sklearn-color-fitted-level-1) 1pt solid;\n  color: var(--sklearn-color-fitted-level-1);\n}\n\n/* On hover */\ndiv.sk-estimator:hover .sk-estimator-doc-link:hover,\n.sk-estimator-doc-link:hover,\ndiv.sk-label-container:hover .sk-estimator-doc-link:hover,\n.sk-estimator-doc-link:hover {\n  /* unfitted */\n  background-color: var(--sklearn-color-unfitted-level-3);\n  color: var(--sklearn-color-background);\n  text-decoration: none;\n}\n\ndiv.sk-estimator.fitted:hover .sk-estimator-doc-link.fitted:hover,\n.sk-estimator-doc-link.fitted:hover,\ndiv.sk-label-container:hover .sk-estimator-doc-link.fitted:hover,\n.sk-estimator-doc-link.fitted:hover {\n  /* fitted */\n  background-color: var(--sklearn-color-fitted-level-3);\n  color: var(--sklearn-color-background);\n  text-decoration: none;\n}\n\n/* Span, style for the box shown on hovering the info icon */\n.sk-estimator-doc-link span {\n  display: none;\n  z-index: 9999;\n  position: relative;\n  font-weight: normal;\n  right: .2ex;\n  padding: .5ex;\n  margin: .5ex;\n  width: min-content;\n  min-width: 20ex;\n  max-width: 50ex;\n  color: var(--sklearn-color-text);\n  box-shadow: 2pt 2pt 4pt #999;\n  /* unfitted */\n  background: var(--sklearn-color-unfitted-level-0);\n  border: .5pt solid var(--sklearn-color-unfitted-level-3);\n}\n\n.sk-estimator-doc-link.fitted span {\n  /* fitted */\n  background: var(--sklearn-color-fitted-level-0);\n  border: var(--sklearn-color-fitted-level-3);\n}\n\n.sk-estimator-doc-link:hover span {\n  display: block;\n}\n\n/* \"?\"-specific style due to the `<a>` HTML tag */\n\n#sk-container-id-1 a.estimator_doc_link {\n  float: right;\n  font-size: 1rem;\n  line-height: 1em;\n  font-family: monospace;\n  background-color: var(--sklearn-color-background);\n  border-radius: 1rem;\n  height: 1rem;\n  width: 1rem;\n  text-decoration: none;\n  /* unfitted */\n  color: var(--sklearn-color-unfitted-level-1);\n  border: var(--sklearn-color-unfitted-level-1) 1pt solid;\n}\n\n#sk-container-id-1 a.estimator_doc_link.fitted {\n  /* fitted */\n  border: var(--sklearn-color-fitted-level-1) 1pt solid;\n  color: var(--sklearn-color-fitted-level-1);\n}\n\n/* On hover */\n#sk-container-id-1 a.estimator_doc_link:hover {\n  /* unfitted */\n  background-color: var(--sklearn-color-unfitted-level-3);\n  color: var(--sklearn-color-background);\n  text-decoration: none;\n}\n\n#sk-container-id-1 a.estimator_doc_link.fitted:hover {\n  /* fitted */\n  background-color: var(--sklearn-color-fitted-level-3);\n}\n</style><div id=\"sk-container-id-1\" class=\"sk-top-container\"><div class=\"sk-text-repr-fallback\"><pre>GridSearchCV(cv=LastOrderUserTSCVSplitter(data_manager=&lt;data_management.data_manager.DataManager object at 0x000001D4D38AA510&gt;,\n                                          n_splits=5),\n             estimator=Pipeline(memory=Memory(location=C:\\Users\\I538883\\AppData\\Local\\Temp\\tmpymxscuy4\\joblib),\n                                steps=[(&#x27;selector&#x27;,\n                                        DatasetSelector(prepared_splits_dict={-8070716829487604255:          order_number  order_dow  order_hour_of_day...\n         dynamic_feature_test_2  \n0                      0.200000  \n1                      0.400000  \n2                      0.600000  \n3                      0.800000  \n9                      0.111111  \n...                         ...  \n3008655                0.375000  \n3008656                0.500000  \n3008657                0.625000  \n3008658                0.750000  \n3008659                0.875000  \n\n[2104923 rows x 8 columns]})),\n                                       (&#x27;estimator&#x27;,\n                                        DecisionTreeClassifier())]),\n             n_jobs=-1,\n             param_grid={&#x27;estimator__criterion&#x27;: [&#x27;entropy&#x27;],\n                         &#x27;estimator__max_depth&#x27;: [9, 10],\n                         &#x27;estimator__min_samples_leaf&#x27;: [256]},\n             scoring=&#x27;accuracy&#x27;, verbose=1)</pre><b>In a Jupyter environment, please rerun this cell to show the HTML representation or trust the notebook. <br />On GitHub, the HTML representation is unable to render, please try loading this page with nbviewer.org.</b></div><div class=\"sk-container\" hidden><div class=\"sk-item sk-dashed-wrapped\"><div class=\"sk-label-container\"><div class=\"sk-label fitted sk-toggleable\"><input class=\"sk-toggleable__control sk-hidden--visually\" id=\"sk-estimator-id-1\" type=\"checkbox\" ><label for=\"sk-estimator-id-1\" class=\"sk-toggleable__label fitted sk-toggleable__label-arrow fitted\">&nbsp;&nbsp;GridSearchCV<a class=\"sk-estimator-doc-link fitted\" rel=\"noreferrer\" target=\"_blank\" href=\"https://scikit-learn.org/1.4/modules/generated/sklearn.model_selection.GridSearchCV.html\">?<span>Documentation for GridSearchCV</span></a><span class=\"sk-estimator-doc-link fitted\">i<span>Fitted</span></span></label><div class=\"sk-toggleable__content fitted\"><pre>GridSearchCV(cv=LastOrderUserTSCVSplitter(data_manager=&lt;data_management.data_manager.DataManager object at 0x000001D4D38AA510&gt;,\n                                          n_splits=5),\n             estimator=Pipeline(memory=Memory(location=C:\\Users\\I538883\\AppData\\Local\\Temp\\tmpymxscuy4\\joblib),\n                                steps=[(&#x27;selector&#x27;,\n                                        DatasetSelector(prepared_splits_dict={-8070716829487604255:          order_number  order_dow  order_hour_of_day...\n         dynamic_feature_test_2  \n0                      0.200000  \n1                      0.400000  \n2                      0.600000  \n3                      0.800000  \n9                      0.111111  \n...                         ...  \n3008655                0.375000  \n3008656                0.500000  \n3008657                0.625000  \n3008658                0.750000  \n3008659                0.875000  \n\n[2104923 rows x 8 columns]})),\n                                       (&#x27;estimator&#x27;,\n                                        DecisionTreeClassifier())]),\n             n_jobs=-1,\n             param_grid={&#x27;estimator__criterion&#x27;: [&#x27;entropy&#x27;],\n                         &#x27;estimator__max_depth&#x27;: [9, 10],\n                         &#x27;estimator__min_samples_leaf&#x27;: [256]},\n             scoring=&#x27;accuracy&#x27;, verbose=1)</pre></div> </div></div><div class=\"sk-parallel\"><div class=\"sk-parallel-item\"><div class=\"sk-item\"><div class=\"sk-label-container\"><div class=\"sk-label fitted sk-toggleable\"><input class=\"sk-toggleable__control sk-hidden--visually\" id=\"sk-estimator-id-2\" type=\"checkbox\" ><label for=\"sk-estimator-id-2\" class=\"sk-toggleable__label fitted sk-toggleable__label-arrow fitted\">estimator: Pipeline</label><div class=\"sk-toggleable__content fitted\"><pre>Pipeline(memory=Memory(location=C:\\Users\\I538883\\AppData\\Local\\Temp\\tmpymxscuy4\\joblib),\n         steps=[(&#x27;selector&#x27;,\n                 DatasetSelector(prepared_splits_dict={-8070716829487604255:          order_number  order_dow  order_hour_of_day  days_since_prior_order  \\\n0                   2          3                  7                    15.0   \n1                   3          3                 12                    21.0   \n2                   4          4                  7                    29.0   \n3                   5          4                 15                    28.0   \n4                   6          2                  7                    19.0   \n...               ...        ...                ...                     ...   \n3008656             5          4                 15                     3.0   \n3008657             6          0                 16                     3.0   \n3008658             7          2                 13                     9.0   \n3008659             8          3                 17                    22.0   \n3008660             9          4...\n9                 6     0.000000                0.111111   \n...             ...          ...                     ...   \n3008655          16     0.333333                0.375000   \n3008656           3     0.250000                0.500000   \n3008657           2     0.200000                0.625000   \n3008658          10     0.333333                0.750000   \n3008659          12     0.285714                0.875000   \n\n         dynamic_feature_test_2  \n0                      0.200000  \n1                      0.400000  \n2                      0.600000  \n3                      0.800000  \n9                      0.111111  \n...                         ...  \n3008655                0.375000  \n3008656                0.500000  \n3008657                0.625000  \n3008658                0.750000  \n3008659                0.875000  \n\n[2104923 rows x 8 columns]})),\n                (&#x27;estimator&#x27;, DecisionTreeClassifier())])</pre></div> </div></div><div class=\"sk-serial\"><div class=\"sk-item\"><div class=\"sk-serial\"><div class=\"sk-item\"><div class=\"sk-estimator fitted sk-toggleable\"><input class=\"sk-toggleable__control sk-hidden--visually\" id=\"sk-estimator-id-3\" type=\"checkbox\" ><label for=\"sk-estimator-id-3\" class=\"sk-toggleable__label fitted sk-toggleable__label-arrow fitted\">DatasetSelector</label><div class=\"sk-toggleable__content fitted\"><pre>DatasetSelector(prepared_splits_dict={-8070716829487604255:          order_number  order_dow  order_hour_of_day  days_since_prior_order  \\\n0                   2          3                  7                    15.0   \n1                   3          3                 12                    21.0   \n2                   4          4                  7                    29.0   \n3                   5          4                 15                    28.0   \n4                   6          2                  7                    19.0   \n...               ...        ...                ...                     ...   \n3008656             5          4                 15                     3.0   \n3008657             6          0                 16                     3.0   \n3008658             7          2                 13                     9.0   \n3008659             8          3                 17                    22.0   \n3008660             9          4                 15                    22.0   \n\n         order_size  tip_history  dynamic_feature_test_1  \\\n0                 6     0.000000                0.166667   \n1                 5     0.000000                0.333333   \n2                 5     0.000000                0.500000   \n3                 8     0...\n2                 5     0.000000                0.600000   \n3                 8     0.000000                0.800000   \n9                 6     0.000000                0.111111   \n...             ...          ...                     ...   \n3008655          16     0.333333                0.375000   \n3008656           3     0.250000                0.500000   \n3008657           2     0.200000                0.625000   \n3008658          10     0.333333                0.750000   \n3008659          12     0.285714                0.875000   \n\n         dynamic_feature_test_2  \n0                      0.200000  \n1                      0.400000  \n2                      0.600000  \n3                      0.800000  \n9                      0.111111  \n...                         ...  \n3008655                0.375000  \n3008656                0.500000  \n3008657                0.625000  \n3008658                0.750000  \n3008659                0.875000  \n\n[2104923 rows x 8 columns]})</pre></div> </div></div><div class=\"sk-item\"><div class=\"sk-estimator fitted sk-toggleable\"><input class=\"sk-toggleable__control sk-hidden--visually\" id=\"sk-estimator-id-4\" type=\"checkbox\" ><label for=\"sk-estimator-id-4\" class=\"sk-toggleable__label fitted sk-toggleable__label-arrow fitted\">&nbsp;DecisionTreeClassifier<a class=\"sk-estimator-doc-link fitted\" rel=\"noreferrer\" target=\"_blank\" href=\"https://scikit-learn.org/1.4/modules/generated/sklearn.tree.DecisionTreeClassifier.html\">?<span>Documentation for DecisionTreeClassifier</span></a></label><div class=\"sk-toggleable__content fitted\"><pre>DecisionTreeClassifier()</pre></div> </div></div></div></div></div></div></div></div></div></div></div>"
     },
     "execution_count": 48,
     "metadata": {},
     "output_type": "execute_result"
    }
   ],
   "source": [
    "grid_search_clf.fit(X, y)"
   ],
   "metadata": {
    "collapsed": false,
    "ExecuteTime": {
     "end_time": "2024-06-09T20:00:48.844168100Z",
     "start_time": "2024-06-09T19:59:47.594978900Z"
    }
   },
   "id": "54c82bfe666a59c2",
   "execution_count": 48
  },
  {
   "cell_type": "code",
   "outputs": [
    {
     "name": "stdout",
     "output_type": "stream",
     "text": [
      "Accuracy (Fold 1): 0.8006488562574864\n",
      "Accuracy (Fold 2): 0.7954696448748599\n",
      "Accuracy (Fold 3): 0.788275903700411\n",
      "Accuracy (Fold 4): 0.7813604864941309\n",
      "Accuracy (Fold 5): 0.777022967474124\n",
      "\n",
      "Mean Accuracy: 0.7885555717602025\n"
     ]
    }
   ],
   "source": [
    "cv_results = grid_search_clf.cv_results_\n",
    "result_list = [grid_search_clf.cv_results_[f'split{i}_test_score'][grid_search_clf.best_index_] for i in range(5)]\n",
    "\n",
    "for i, result in enumerate(result_list):\n",
    "    print(f'Accuracy (Fold {i + 1}): {result}')\n",
    "\n",
    "print(f'\\nMean Accuracy: {cv_results[\"mean_test_score\"][grid_search_clf.best_index_]}')"
   ],
   "metadata": {
    "collapsed": false,
    "ExecuteTime": {
     "end_time": "2024-06-09T20:00:48.851797300Z",
     "start_time": "2024-06-09T20:00:48.844168100Z"
    }
   },
   "id": "517edbba0f55c654",
   "execution_count": 49
  },
  {
   "cell_type": "code",
   "outputs": [
    {
     "data": {
      "text/plain": "0.7885555717602025"
     },
     "execution_count": 50,
     "metadata": {},
     "output_type": "execute_result"
    }
   ],
   "source": [
    "grid_search_clf.best_score_"
   ],
   "metadata": {
    "collapsed": false,
    "ExecuteTime": {
     "end_time": "2024-06-09T20:00:48.868885900Z",
     "start_time": "2024-06-09T20:00:48.849148900Z"
    }
   },
   "id": "e0f6006ad15472c8",
   "execution_count": 50
  },
  {
   "cell_type": "code",
   "outputs": [
    {
     "data": {
      "text/plain": "{'estimator__criterion': 'entropy',\n 'estimator__max_depth': 9,\n 'estimator__min_samples_leaf': 256}"
     },
     "execution_count": 51,
     "metadata": {},
     "output_type": "execute_result"
    }
   ],
   "source": [
    "grid_search_clf.best_params_"
   ],
   "metadata": {
    "collapsed": false,
    "ExecuteTime": {
     "end_time": "2024-06-09T20:00:48.870641400Z",
     "start_time": "2024-06-09T20:00:48.854368Z"
    }
   },
   "id": "334161df76cfc7da",
   "execution_count": 51
  },
  {
   "cell_type": "code",
   "outputs": [],
   "source": [
    "best_estimator = grid_search_clf.best_estimator_"
   ],
   "metadata": {
    "collapsed": false,
    "ExecuteTime": {
     "end_time": "2024-06-09T20:00:48.881126100Z",
     "start_time": "2024-06-09T20:00:48.859754700Z"
    }
   },
   "id": "19eecb969b2d9311",
   "execution_count": 52
  },
  {
   "cell_type": "markdown",
   "source": [
    "### Prediction"
   ],
   "metadata": {
    "collapsed": false
   },
   "id": "ce917a7401f22462"
  },
  {
   "cell_type": "code",
   "outputs": [],
   "source": [
    "# orders_tip_test = data_manager.get_orders_tip_test()\n",
    "# orders_tip_test['tip'] = best_estimator.predict(orders_tip_test[features])"
   ],
   "metadata": {
    "collapsed": false,
    "ExecuteTime": {
     "end_time": "2024-06-09T20:00:48.956955900Z",
     "start_time": "2024-06-09T20:00:48.864193Z"
    }
   },
   "id": "76e186fe93de2896",
   "execution_count": 53
  },
  {
   "cell_type": "code",
   "outputs": [],
   "source": [
    "# orders_tip_test_csv = orders_tip_test[tip_test.columns].copy()\n",
    "# orders_tip_test_csv.rename(columns={tip_test.columns[0]: ''}, inplace=True)\n",
    "# orders_tip_test_csv"
   ],
   "metadata": {
    "collapsed": false,
    "ExecuteTime": {
     "end_time": "2024-06-09T20:00:48.979856400Z",
     "start_time": "2024-06-09T20:00:48.868885900Z"
    }
   },
   "id": "ce5ce1661b30d1ae",
   "execution_count": 54
  },
  {
   "cell_type": "code",
   "outputs": [],
   "source": [
    "# orders_tip_test_csv.to_csv(os.path.join(DATA_DIR, 'tip_testdaten1.csv'), index=False)"
   ],
   "metadata": {
    "collapsed": false,
    "ExecuteTime": {
     "end_time": "2024-06-09T20:00:48.981909200Z",
     "start_time": "2024-06-09T20:00:48.873256600Z"
    }
   },
   "id": "bde5d28cf87e05fa",
   "execution_count": 55
  }
 ],
 "metadata": {
  "kernelspec": {
   "display_name": "Python 3 (ipykernel)",
   "language": "python",
   "name": "python3"
  },
  "language_info": {
   "codemirror_mode": {
    "name": "ipython",
    "version": 3
   },
   "file_extension": ".py",
   "mimetype": "text/x-python",
   "name": "python",
   "nbconvert_exporter": "python",
   "pygments_lexer": "ipython3",
   "version": "3.11.8"
  }
 },
 "nbformat": 4,
 "nbformat_minor": 5
}
