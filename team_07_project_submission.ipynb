{
 "cells": [
  {
   "cell_type": "markdown",
   "id": "7aea19f30bc2952",
   "metadata": {
    "collapsed": false
   },
   "source": [
    "# Data Science Project SoSe 2024\n",
    "## Team 07\n",
    "- Maximilian Hoffmann\n",
    "- Kilian Kempf\n",
    "- Daniel Schneider\n",
    "- Tom Schuck\n",
    "\n",
    "## Project Submission"
   ]
  },
  {
   "cell_type": "markdown",
   "id": "b1817857eb895437",
   "metadata": {
    "collapsed": false
   },
   "source": [
    "### Data Initialization"
   ]
  },
  {
   "cell_type": "code",
   "execution_count": 1,
   "id": "2ac69658072618d1",
   "metadata": {
    "collapsed": false,
    "ExecuteTime": {
     "end_time": "2024-06-09T19:56:03.497983600Z",
     "start_time": "2024-06-09T19:55:30.109073900Z"
    }
   },
   "outputs": [],
   "source": [
    "import os\n",
    "\n",
    "import pandas as pd\n",
    "\n",
    "from data_management import DataManager\n",
    "\n",
    "DATA_DIR = os.path.join(os.getcwd(), 'data/Instacart')\n",
    "\n",
    "op_prior = pd.read_csv(os.path.join(DATA_DIR, 'order_products__prior.csv.zip'))\n",
    "op_train = pd.read_csv(os.path.join(DATA_DIR, 'order_products__train.csv.zip'))\n",
    "\n",
    "tip_train = pd.read_csv(os.path.join(DATA_DIR, 'tip_trainingsdaten1_.csv'))[['order_id', 'tip']]\n",
    "tip_test = pd.read_csv(os.path.join(DATA_DIR, 'tip_testdaten1_template.csv'))\n",
    "\n",
    "orders = pd.read_csv(os.path.join(DATA_DIR, 'orders.csv.zip'))\n",
    "aisles = pd.read_csv(os.path.join(DATA_DIR, 'aisles.csv.zip'))\n",
    "departments = pd.read_csv(os.path.join(DATA_DIR, 'departments.csv.zip'))\n",
    "products = pd.read_csv(os.path.join(DATA_DIR, 'products.csv.zip'))\n",
    "\n",
    "data_manager = DataManager(op_prior, op_train, tip_train, tip_test, orders, products, aisles, departments)\n",
    "order_amount = len(data_manager.get_orders_tip())"
   ]
  },
  {
   "cell_type": "markdown",
   "id": "d11d62b342b9ebc8",
   "metadata": {
    "collapsed": false
   },
   "source": [
    "### Feature Engineering"
   ]
  },
  {
   "cell_type": "code",
   "execution_count": 2,
   "id": "6a897e084cc934ce",
   "metadata": {
    "collapsed": false,
    "ExecuteTime": {
     "end_time": "2024-06-09T19:56:03.518378900Z",
     "start_time": "2024-06-09T19:56:03.502492Z"
    }
   },
   "outputs": [],
   "source": [
    "from feature_engineering.static_features import TipHistory, ReorderedRatio, OrderSize, PrevTippedProductsRatio, \\\n",
    "    CustomerLifetime, PrevOrderTipped, OrderFrequency, SimOrdersTipRatio, AvgSizePrevOrders, MeanOrderedRate, \\\n",
    "    LastTipSequence, RelDaysSinceTip, DaysSinceTip\n",
    "\n",
    "from feature_engineering.dynamic_features import ProductTipRate, DepartmentTipRate, AisleTipRate, DynamicFeatureTest1, \\\n",
    "    DynamicFeatureTest2\n",
    "\n",
    "# Kilian\n",
    "tip_history = TipHistory()\n",
    "reordered_rate = ReorderedRatio()\n",
    "order_size = OrderSize()\n",
    "prev_tipped_products_ratio = PrevTippedProductsRatio()\n",
    "customer_lifetime = CustomerLifetime()\n",
    "prev_order_tipped = PrevOrderTipped()\n",
    "\n",
    "# Daniel\n",
    "order_frequency = OrderFrequency()\n",
    "mean_ordered_rate = MeanOrderedRate()\n",
    "rel_days_since_tip = RelDaysSinceTip()\n",
    "days_since_tip = DaysSinceTip()\n",
    "\n",
    "# Max\n",
    "sim_orders_tip_ratio = SimOrdersTipRatio()\n",
    "product_tip_rate = ProductTipRate()\n",
    "department_tip_rate = DepartmentTipRate()\n",
    "aisle_tip_rate = AisleTipRate()\n",
    "last_tip_sequence = LastTipSequence()  # TODO: Maybe remove weighting or add additional feature without weoghting\n",
    "\n",
    "# Tom\n",
    "avg_size_prev_orders = AvgSizePrevOrders()\n",
    "\n",
    "# Test\n",
    "dynamic_feature_test_1 = DynamicFeatureTest1()\n",
    "dynamic_feature_test_2 = DynamicFeatureTest2()"
   ]
  },
  {
   "cell_type": "code",
   "outputs": [],
   "source": [
    "# Static Features\n",
    "data_manager.register_feature(tip_history)\n",
    "# data_manager.register_feature(reordered_rate)\n",
    "data_manager.register_feature(order_size)\n",
    "# data_manager.register_feature(customer_lifetime)\n",
    "# data_manager.register_feature(prev_order_tipped)\n",
    "# data_manager.register_feature(prev_tipped_products_ratio)\n",
    "\n",
    "# data_manager.register_feature(order_frequency)\n",
    "# data_manager.register_feature(sim_orders_tip_ratio)\n",
    "# data_manager.register_feature(avg_size_prev_orders)\n",
    "# data_manager.register_feature(mean_ordered_rate)\n",
    "# data_manager.register_feature(last_tip_sequence)\n",
    "# data_manager.register_feature(rel_days_since_tip)\n",
    "# data_manager.register_feature(days_since_tip)\n",
    "\n",
    "# # Dynamic Features\n",
    "data_manager.register_feature(dynamic_feature_test_1)\n",
    "data_manager.register_feature(dynamic_feature_test_2)\n",
    "# data_manager.register_feature(product_tip_rate)\n",
    "# data_manager.register_feature(department_tip_rate)\n",
    "# data_manager.register_feature(aisle_tip_rate)"
   ],
   "metadata": {
    "collapsed": false
   },
   "id": "13a0a0ea3ce6dce7"
  },
  {
   "cell_type": "code",
   "outputs": [],
   "source": [
    "data_manager.compute_features()"
   ],
   "metadata": {
    "collapsed": false
   },
   "id": "98eb4e68074abc8e"
  },
  {
   "cell_type": "code",
   "outputs": [],
   "source": [
    "data_manager.get_orders_tip().head(100)"
   ],
   "metadata": {
    "collapsed": false
   },
   "id": "ece12a34bfeee232"
  },
  {
   "cell_type": "code",
   "outputs": [],
   "source": [
    "# data_manager.export_features('data/prepared_data/computed_features.csv.zip', only_static=False)"
   ],
   "metadata": {
    "collapsed": false
   },
   "id": "58a39060cec39497"
  },
  {
   "cell_type": "code",
   "outputs": [],
   "source": [
    "# data_manager.import_features('data/prepared_data/computed_features.csv.zip', only_static=False)"
   ],
   "metadata": {
    "collapsed": false
   },
   "id": "c3367aa411ad623e"
  },
  {
   "cell_type": "code",
   "outputs": [],
   "source": [
    "# data_manager.get_orders_tip().head(100)"
   ],
   "metadata": {
    "collapsed": false
   },
   "id": "376154b5aa47988e"
  },
  {
   "cell_type": "code",
   "outputs": [],
   "source": [
    "# test = data_manager.get_orders_tip()"
   ],
   "metadata": {
    "collapsed": false
   },
   "id": "8947fab049e67cf7"
  },
  {
   "cell_type": "code",
   "outputs": [],
   "source": [
    "# print(f\"Number of orders: {len(data_manager.get_orders_tip())}\")\n",
    "# print(f\"Number of orders did not change: {order_amount == len(data_manager.get_orders_tip())}\\n\")\n",
    "# print(f\"Number of NaN or null values in each column:\\n{data_manager.get_orders_tip().isnull().sum()}\")"
   ],
   "metadata": {
    "collapsed": false
   },
   "id": "d7b6fc1cf03eac4e"
  },
  {
   "cell_type": "code",
   "outputs": [],
   "source": [
    "# order_ids = data_manager.get_orders_tip(complete=True).groupby('user_id')['order_id'].head(5)\n",
    "# order_amount = len(order_ids)"
   ],
   "metadata": {
    "collapsed": false
   },
   "id": "2f61ce57b271fbb"
  },
  {
   "cell_type": "code",
   "outputs": [],
   "source": [
    "# data_manager.set_subset(order_ids)"
   ],
   "metadata": {
    "collapsed": false
   },
   "id": "b5095a94f3b1ed73"
  },
  {
   "cell_type": "code",
   "outputs": [],
   "source": [
    "# data_manager.get_orders_tip().head(25)"
   ],
   "metadata": {
    "collapsed": false
   },
   "id": "e65e0b4d7af678d3"
  },
  {
   "cell_type": "code",
   "outputs": [],
   "source": [
    "# print(f\"Number of orders: {len(data_manager.get_orders_tip())}\")\n",
    "# print(f\"Number of orders did not change: {order_amount == len(data_manager.get_orders_tip())}\\n\")\n",
    "# print(f\"Number of NaN or null values in each column:\\n{data_manager.get_orders_tip().isnull().sum()}\")"
   ],
   "metadata": {
    "collapsed": false
   },
   "id": "bf93ed134c02d1f5"
  },
  {
   "cell_type": "code",
   "outputs": [],
   "source": [
    "# order_ids = data_manager.get_orders_tip(complete=True).groupby('user_id')['order_id'].head(4)\n",
    "# order_amount = len(order_ids)\n",
    "# \n",
    "# data_manager.set_subset(order_ids)\n",
    "# data_manager.get_orders_tip().head(25)"
   ],
   "metadata": {
    "collapsed": false
   },
   "id": "6606511cbcab320f"
  },
  {
   "cell_type": "code",
   "outputs": [],
   "source": [
    "# print(f\"Number of orders: {len(data_manager.get_orders_tip())}\")\n",
    "# print(f\"Number of orders did not change: {order_amount == len(data_manager.get_orders_tip())}\\n\")\n",
    "# print(f\"Number of NaN or null values in each column:\\n{data_manager.get_orders_tip().isnull().sum()}\")"
   ],
   "metadata": {
    "collapsed": false
   },
   "id": "15bcf0ae3a5f0ef"
  },
  {
   "cell_type": "markdown",
   "source": [
    "### Analysis\n",
    "- Only orders from the training set (orders with tip information) are considered"
   ],
   "metadata": {
    "collapsed": false
   },
   "id": "1b4a08797356dca8"
  },
  {
   "cell_type": "code",
   "outputs": [],
   "source": [
    "# from analysis import DayOfWeek, HourOfDay, DaysSincePriorOrder, OrderNumber, Department, Aisle, Product"
   ],
   "metadata": {
    "collapsed": false
   },
   "id": "94a3087402622326"
  },
  {
   "cell_type": "code",
   "outputs": [],
   "source": [
    "# day_of_week = DayOfWeek(data_manager)\n",
    "# hour_of_day = HourOfDay(data_manager)\n",
    "# days_since_prior_order = DaysSincePriorOrder(data_manager)\n",
    "# order_number = OrderNumber(data_manager)\n",
    "# department = Department(data_manager)\n",
    "# aisle = Aisle(data_manager)\n",
    "# product = Product(data_manager)\n",
    "# number_order_user = NumberOrderUser(data_manager)"
   ],
   "metadata": {
    "collapsed": false
   },
   "id": "4ab380b3c836d071"
  },
  {
   "cell_type": "code",
   "outputs": [],
   "source": [
    "# day_of_week.execute_analysis()"
   ],
   "metadata": {
    "collapsed": false
   },
   "id": "8659d17a87263d4a"
  },
  {
   "cell_type": "code",
   "outputs": [],
   "source": [
    "# hour_of_day.execute_analysis()"
   ],
   "metadata": {
    "collapsed": false
   },
   "id": "603f96b7d44ed44d"
  },
  {
   "cell_type": "code",
   "outputs": [],
   "source": [
    "# days_since_prior_order.execute_analysis()"
   ],
   "metadata": {
    "collapsed": false
   },
   "id": "5f1fed68e822d9da"
  },
  {
   "cell_type": "code",
   "outputs": [],
   "source": [
    "# order_number.execute_analysis()"
   ],
   "metadata": {
    "collapsed": false
   },
   "id": "2e29ed69956523a8"
  },
  {
   "cell_type": "code",
   "outputs": [],
   "source": [
    "# department.execute_analysis()"
   ],
   "metadata": {
    "collapsed": false
   },
   "id": "4dea92db9ef63743"
  },
  {
   "cell_type": "code",
   "outputs": [],
   "source": [
    "# aisle.execute_analysis()"
   ],
   "metadata": {
    "collapsed": false
   },
   "id": "2d0bbcb5c8890533"
  },
  {
   "cell_type": "code",
   "outputs": [],
   "source": [
    "# product.execute_analysis()"
   ],
   "metadata": {
    "collapsed": false
   },
   "id": "eefede5afe478a2a"
  },
  {
   "cell_type": "code",
   "outputs": [],
   "source": [
    "# number_order_user.execute_analysis()"
   ],
   "metadata": {
    "collapsed": false
   },
   "id": "493413f9751793e3"
  },
  {
   "cell_type": "markdown",
   "source": [
    "### Data Preparation"
   ],
   "metadata": {
    "collapsed": false
   },
   "id": "bc83375ff21286d6"
  },
  {
   "cell_type": "code",
   "outputs": [],
   "source": [
    "# from feature_engineering.static_features import DowHighTipProbability, HodHighTipProbability, OrderNumberSquared, \\\n",
    "#     ContainsAlcohol\n",
    "#\n",
    "# data_manager.register_feature(DowHighTipProbability())\n",
    "# data_manager.register_feature(HodHighTipProbability())\n",
    "# data_manager.register_feature(OrderNumberSquared())\n",
    "# data_manager.register_feature(ContainsAlcohol())"
   ],
   "metadata": {
    "collapsed": false
   },
   "id": "11e6bf0945ffd97c"
  },
  {
   "cell_type": "code",
   "outputs": [],
   "source": [
    "# data_manager.compute_features()"
   ],
   "metadata": {
    "collapsed": false
   },
   "id": "e10cbb0dea2b4bd2"
  },
  {
   "cell_type": "markdown",
   "source": [
    "### Model Training & Evaluation"
   ],
   "metadata": {
    "collapsed": false
   },
   "id": "5ff7316768777ae9"
  },
  {
   "cell_type": "code",
   "outputs": [],
   "source": [
    "from data_management.cross_validation import LastOrderUserTSCVSplitter"
   ],
   "metadata": {
    "collapsed": false
   },
   "id": "1b07129f5f10075b"
  },
  {
   "cell_type": "code",
   "outputs": [],
   "source": [
    "orders_tip = data_manager.get_orders_tip()\n",
    "orders_tip.shape"
   ],
   "metadata": {
    "collapsed": false
   },
   "id": "76a31c7a45354367"
  },
  {
   "cell_type": "code",
   "outputs": [],
   "source": [
    "order_ids = orders_tip[orders_tip['order_number'] > 1]['order_id']\n",
    "# order_ids = orders_tip['order_id']\n",
    "data_manager.set_subset(order_ids)"
   ],
   "metadata": {
    "collapsed": false
   },
   "id": "3abe772f19ff578e"
  },
  {
   "cell_type": "code",
   "outputs": [],
   "source": [
    "orders_tip_train = data_manager.get_orders_tip_train()\n",
    "orders_tip_train.shape"
   ],
   "metadata": {
    "collapsed": false
   },
   "id": "6e64a3e055952da4"
  },
  {
   "cell_type": "code",
   "outputs": [],
   "source": [
    "# cv = KFold(n_splits=5, shuffle=True, random_state=42)"
   ],
   "metadata": {
    "collapsed": false
   },
   "id": "f9ee9c473fa4ae22"
  },
  {
   "cell_type": "code",
   "outputs": [],
   "source": [
    "last_order_user_tscv_splitter = LastOrderUserTSCVSplitter(data_manager, n_splits=5)"
   ],
   "metadata": {
    "collapsed": false
   },
   "id": "62c2c8a95be01e0a"
  },
  {
   "cell_type": "code",
   "outputs": [],
   "source": [
    "# splits = last_order_user_tscv_splitter.split(orders_tip_train)"
   ],
   "metadata": {
    "collapsed": false
   },
   "id": "198912d5a1185bdd"
  },
  {
   "cell_type": "code",
   "outputs": [],
   "source": [
    "# folds = {}\n",
    "# prev_test = 0\n",
    "# for i, (train_index, test_index) in enumerate(splits):\n",
    "#     print(f'Fold {i + 1}')\n",
    "#     print(f'Train: {len(train_index)}')\n",
    "#     print(f'Test: {len(test_index)}')\n",
    "#     print(f'Orders: {len(orders_tip_train)}')\n",
    "#     print(f'Sum equal: {(len(train_index) + len(test_index) + prev_test) == len(orders_tip_train)}')\n",
    "#     print(f'Ratio: {len(test_index) / (len(train_index) + len(test_index))}')\n",
    "#\n",
    "#     train_orders = orders_tip_train.loc[train_index]\n",
    "#     test_orders = orders_tip_train.loc[test_index]\n",
    "#     current_fold = {\n",
    "#         'train': train_orders,\n",
    "#         'test': test_orders\n",
    "#     }\n",
    "#     folds[f'fold_{i}'] = current_fold\n",
    "#     prev_test += len(test_index)"
   ],
   "metadata": {
    "collapsed": false
   },
   "id": "52a702707377b018"
  },
  {
   "cell_type": "code",
   "outputs": [],
   "source": [
    "last_order_user_tscv_splitter.export_splits('data/prepared_data/')"
   ],
   "metadata": {
    "collapsed": false
   },
   "id": "4c6db90c4c28b854"
  },
  {
   "cell_type": "code",
   "outputs": [],
   "source": [
    "# user_tscv_splitter = UserTSCVSplitter(data_manager, n_splits=5, validation_set_ratio=0.2, seed=42)"
   ],
   "metadata": {
    "collapsed": false
   },
   "id": "2fe2d3fba743b7ed"
  },
  {
   "cell_type": "code",
   "outputs": [],
   "source": [
    "# splits = user_tscv_splitter.split(orders_tip_train)"
   ],
   "metadata": {
    "collapsed": false
   },
   "id": "cc9fb6503d82ee7d"
  },
  {
   "cell_type": "code",
   "outputs": [],
   "source": [
    "# folds = {}\n",
    "# prev_test = 0\n",
    "# for i, (train_index, test_index) in enumerate(splits):\n",
    "#     print(f'Fold {i + 1}')\n",
    "#     print(f'Train: {len(train_index)}')\n",
    "#     print(f'Test: {len(test_index)}')\n",
    "#     print(f'Orders: {len(orders_tip_train)}')\n",
    "#     print(f'Sum equal: {(len(train_index) + len(test_index) + prev_test) == len(orders_tip_train)}')\n",
    "#     print(f'Ratio: {len(test_index) / (len(train_index) + len(test_index))}')\n",
    "# \n",
    "#     train_orders = orders_tip_train.loc[train_index]\n",
    "#     test_orders = orders_tip_train.loc[test_index]\n",
    "#     current_fold = {\n",
    "#         'train': train_orders,\n",
    "#         'test': test_orders\n",
    "#     }\n",
    "#     folds[f'fold_{i}'] = current_fold\n",
    "#     prev_test += len(test_index)"
   ],
   "metadata": {
    "collapsed": false
   },
   "id": "245bc99427923b66"
  },
  {
   "cell_type": "code",
   "outputs": [],
   "source": [
    "# user_tscv_splitter.export_splits('data/prepared_data/')"
   ],
   "metadata": {
    "collapsed": false
   },
   "id": "8347f842806ffa12"
  },
  {
   "cell_type": "code",
   "outputs": [],
   "source": [
    "# features = ['order_number', 'order_dow', 'order_hour_of_day', 'days_since_prior_order', 'order_size', 'tip_history',\n",
    "#             'dynamic_feature_test_1', 'dynamic_feature_test_2']\n",
    "#\n",
    "# prepared_splits_dict = user_tscv_splitter.import_splits('data/prepared_data/', features)"
   ],
   "metadata": {
    "collapsed": false
   },
   "id": "b2d8489062a2b76f"
  },
  {
   "cell_type": "code",
   "outputs": [],
   "source": [
    "features = ['order_number', 'order_dow', 'order_hour_of_day', 'days_since_prior_order', 'order_size', 'tip_history',\n",
    "            'dynamic_feature_test_1', 'dynamic_feature_test_2']\n",
    "\n",
    "prepared_splits_dict = last_order_user_tscv_splitter.import_splits('data/prepared_data/', features)"
   ],
   "metadata": {
    "collapsed": false
   },
   "id": "57a5af1f4e9f4195"
  },
  {
   "cell_type": "code",
   "outputs": [],
   "source": [
    "from data_management import DatasetSelector\n",
    "from sklearn.pipeline import Pipeline\n",
    "from sklearn.tree import DecisionTreeClassifier\n",
    "from tempfile import mkdtemp\n",
    "from joblib import Memory\n",
    "\n",
    "pipeline_steps = [('selector', DatasetSelector(prepared_splits_dict)),\n",
    "                  ('estimator', DecisionTreeClassifier())]\n",
    "\n",
    "cachedir = mkdtemp()\n",
    "memory = Memory(location=cachedir, verbose=0)\n",
    "\n",
    "pipeline = Pipeline(pipeline_steps, verbose=False, memory=memory)"
   ],
   "metadata": {
    "collapsed": false
   },
   "id": "7e018af4cbe01681"
  },
  {
   "cell_type": "code",
   "outputs": [],
   "source": [
    "from sklearn.model_selection import GridSearchCV\n",
    "\n",
    "param_grid = {\n",
    "    'estimator__criterion': ['entropy'],\n",
    "    'estimator__max_depth': [9, 10],\n",
    "    'estimator__min_samples_leaf': [256]\n",
    "}\n",
    "\n",
    "grid_search_clf = GridSearchCV(pipeline, param_grid, cv=last_order_user_tscv_splitter, scoring='accuracy', verbose=1,\n",
    "                               n_jobs=-1)"
   ],
   "metadata": {
    "collapsed": false
   },
   "id": "e14920bc06f85dfe"
  },
  {
   "cell_type": "code",
   "outputs": [],
   "source": [
    "X = orders_tip_train[features]\n",
    "y = orders_tip_train['tip'].astype(bool)"
   ],
   "metadata": {
    "collapsed": false
   },
   "id": "58958635b45d6924"
  },
  {
   "cell_type": "code",
   "outputs": [],
   "source": [
    "X.head(25)"
   ],
   "metadata": {
    "collapsed": false
   },
   "id": "ac0903be63b47fb6"
  },
  {
   "cell_type": "code",
   "outputs": [],
   "source": [
    "grid_search_clf.fit(X, y)"
   ],
   "metadata": {
    "collapsed": false
   },
   "id": "3c5a8025d97c1ce5"
  },
  {
   "cell_type": "code",
   "outputs": [],
   "source": [
    "cv_results = grid_search_clf.cv_results_\n",
    "result_list = [grid_search_clf.cv_results_[f'split{i}_test_score'][grid_search_clf.best_index_] for i in range(5)]\n",
    "\n",
    "for i, result in enumerate(result_list):\n",
    "    print(f'Accuracy (Fold {i + 1}): {result}')\n",
    "\n",
    "print(f'\\nMean Accuracy: {cv_results[\"mean_test_score\"][grid_search_clf.best_index_]}')"
   ],
   "metadata": {
    "collapsed": false
   },
   "id": "9c6c998cccfeb82b"
  },
  {
   "cell_type": "code",
   "outputs": [],
   "source": [
    "grid_search_clf.best_score_"
   ],
   "metadata": {
    "collapsed": false
   },
   "id": "6e4dc773d726d820"
  },
  {
   "cell_type": "code",
   "outputs": [],
   "source": [
    "grid_search_clf.best_params_"
   ],
   "metadata": {
    "collapsed": false
   },
   "id": "966cc4c04cdc677e"
  },
  {
   "cell_type": "code",
   "outputs": [],
   "source": [
    "best_estimator = grid_search_clf.best_estimator_"
   ],
   "metadata": {
    "collapsed": false
   },
   "id": "864195b52e89024"
  },
  {
   "cell_type": "markdown",
   "source": [
    "### Prediction"
   ],
   "metadata": {
    "collapsed": false
   },
   "id": "b7b9a97ede74c06"
  },
  {
   "cell_type": "code",
   "outputs": [],
   "source": [
    "# orders_tip_test = data_manager.get_orders_tip_test()\n",
    "# orders_tip_test['tip'] = best_estimator.predict(orders_tip_test[features])"
   ],
   "metadata": {
    "collapsed": false
   },
   "id": "7b82eab73b08cd2f"
  },
  {
   "cell_type": "code",
   "outputs": [],
   "source": [
    "# orders_tip_test_csv = orders_tip_test[tip_test.columns].copy()\n",
    "# orders_tip_test_csv.rename(columns={tip_test.columns[0]: ''}, inplace=True)\n",
    "# orders_tip_test_csv"
   ],
   "metadata": {
    "collapsed": false
   },
   "id": "45c41fb0baa49b56"
  },
  {
   "cell_type": "code",
   "outputs": [],
   "source": [
    "# orders_tip_test_csv.to_csv(os.path.join(DATA_DIR, 'tip_testdaten1.csv'), index=False)"
   ],
   "metadata": {
    "collapsed": false
   },
   "id": "db65af74bde4df1d"
  }
 ],
 "metadata": {
  "kernelspec": {
   "display_name": "Python 3 (ipykernel)",
   "language": "python",
   "name": "python3"
  },
  "language_info": {
   "codemirror_mode": {
    "name": "ipython",
    "version": 3
   },
   "file_extension": ".py",
   "mimetype": "text/x-python",
   "name": "python",
   "nbconvert_exporter": "python",
   "pygments_lexer": "ipython3",
   "version": "3.11.8"
  }
 },
 "nbformat": 4,
 "nbformat_minor": 5
}
