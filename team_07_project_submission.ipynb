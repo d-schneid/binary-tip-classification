{
 "cells": [
  {
   "cell_type": "markdown",
   "id": "7aea19f30bc2952",
   "metadata": {
    "collapsed": false
   },
   "source": [
    "# Data Science Project SoSe 2024\n",
    "## Team 07\n",
    "- Maximilian Hoffmann\n",
    "- Kilian Kempf\n",
    "- Daniel Schneider\n",
    "- Tom Schuck\n",
    "\n",
    "## Project Submission"
   ]
  },
  {
   "cell_type": "markdown",
   "id": "ca8cc580026f3fef",
   "metadata": {
    "collapsed": false
   },
   "source": [
    "### Libraries"
   ]
  },
  {
   "cell_type": "code",
   "execution_count": 1,
   "id": "cf05501ea27cad56",
   "metadata": {
    "collapsed": false,
    "ExecuteTime": {
     "end_time": "2024-05-23T15:17:31.393094100Z",
     "start_time": "2024-05-23T15:17:30.946813400Z"
    }
   },
   "outputs": [],
   "source": [
    "import os\n",
    "\n",
    "import pandas as pd\n",
    "\n",
    "from feature_engineering import DataStore\n",
    "from feature_engineering.features import TipHistory, ReorderedRatio, DynamicFeatureTest1, DynamicFeatureTest2"
   ]
  },
  {
   "cell_type": "markdown",
   "id": "6537369153176304",
   "metadata": {
    "collapsed": false
   },
   "source": [
    "### Data Preparation"
   ]
  },
  {
   "cell_type": "code",
   "execution_count": 2,
   "id": "c0a89599473d54b2",
   "metadata": {
    "collapsed": false,
    "ExecuteTime": {
     "end_time": "2024-05-23T15:17:56.474690800Z",
     "start_time": "2024-05-23T15:17:31.395452900Z"
    }
   },
   "outputs": [],
   "source": [
    "DATA_DIR = os.path.join(os.getcwd(), 'data/Instacart')\n",
    "\n",
    "op_prior = pd.read_csv(os.path.join(DATA_DIR, 'order_products__prior.csv.zip'))\n",
    "op_train = pd.read_csv(os.path.join(DATA_DIR, 'order_products__train.csv.zip'))\n",
    "\n",
    "tip_train = pd.read_csv(os.path.join(DATA_DIR, 'tip_trainingsdaten1_.csv'))[['order_id', 'tip']]\n",
    "tip_test = pd.read_csv(os.path.join(DATA_DIR, 'tip_testdaten1_template.csv'))\n",
    "\n",
    "orders = pd.read_csv(os.path.join(DATA_DIR, 'orders.csv.zip'))\n",
    "aisles = pd.read_csv(os.path.join(DATA_DIR, 'aisles.csv.zip'))\n",
    "departments = pd.read_csv(os.path.join(DATA_DIR, 'departments.csv.zip'))\n",
    "products = pd.read_csv(os.path.join(DATA_DIR, 'products.csv.zip'))\n",
    "\n",
    "data_store = DataStore(op_prior, op_train, tip_train, tip_test, orders, products, aisles, departments)\n",
    "order_amount = len(data_store.get_orders_tip())"
   ]
  },
  {
   "cell_type": "markdown",
   "id": "a161bdb63ede46ec",
   "metadata": {
    "collapsed": false
   },
   "source": [
    "### Feature Engineering"
   ]
  },
  {
   "cell_type": "code",
   "execution_count": 3,
   "id": "10cd4a1be04a57f8",
   "metadata": {
    "collapsed": false,
    "ExecuteTime": {
     "end_time": "2024-05-23T15:18:00.134860100Z",
     "start_time": "2024-05-23T15:17:56.474690800Z"
    }
   },
   "outputs": [],
   "source": [
    "features = ['order_number', 'order_dow', 'order_hour_of_day', 'days_since_prior_order', 'tip_history',\n",
    "            'reordered_ratio']\n",
    "tip_history = TipHistory(data_store)\n",
    "reordered_rate = ReorderedRatio(data_store)\n",
    "\n",
    "# Static Features\n",
    "tip_history.compute_feature()\n",
    "reordered_rate.compute_feature()"
   ]
  },
  {
   "cell_type": "code",
   "execution_count": 4,
   "id": "4531787ff76ccda3",
   "metadata": {
    "collapsed": false,
    "ExecuteTime": {
     "end_time": "2024-05-23T15:18:00.149316300Z",
     "start_time": "2024-05-23T15:18:00.137026900Z"
    }
   },
   "outputs": [
    {
     "data": {
      "text/plain": "    order_id  user_id eval_set  order_number  order_dow  order_hour_of_day  \\\n0    2539329        1    prior             1          2                  8   \n1    2398795        1    prior             2          3                  7   \n2     473747        1    prior             3          3                 12   \n3    2254736        1    prior             4          4                  7   \n4     431534        1    prior             5          4                 15   \n5    3367565        1    prior             6          2                  7   \n6     550135        1    prior             7          1                  9   \n7    3108588        1    prior             8          1                 14   \n8    2295261        1    prior             9          1                 16   \n9    2550362        1    prior            10          4                  8   \n10   1187899        1    train            11          4                  8   \n11   2168274        2    prior             1          2                 11   \n12   1501582        2    prior             2          5                 10   \n13   1901567        2    prior             3          1                 10   \n14    738281        2    prior             4          2                 10   \n15   1673511        2    prior             5          3                 11   \n16   1199898        2    prior             6          2                  9   \n17   3194192        2    prior             7          2                 12   \n18    788338        2    prior             8          1                 15   \n19   1718559        2    prior             9          2                  9   \n20   1447487        2    prior            10          1                 11   \n21   1402090        2    prior            11          1                 10   \n22   3186735        2    prior            12          1                  9   \n23   3268552        2    prior            13          4                 11   \n24    839880        2    prior            14          3                 10   \n\n    days_since_prior_order  tip  tip_history  reordered_ratio  \n0                       -1  0.0    -1.000000         0.000000  \n1                       15  0.0     0.000000         0.500000  \n2                       21  0.0     0.000000         0.600000  \n3                       29  0.0     0.000000         1.000000  \n4                       28  0.0     0.000000         0.625000  \n5                       19  0.0     0.000000         1.000000  \n6                       20  0.0     0.000000         1.000000  \n7                       14  0.0     0.000000         0.666667  \n8                        0  0.0     0.000000         1.000000  \n9                       30  0.0     0.000000         0.666667  \n10                      14  NaN     0.000000         0.909091  \n11                      -1  0.0    -1.000000         0.000000  \n12                      10  0.0     0.000000         0.166667  \n13                       3  1.0     0.000000         0.600000  \n14                       8  0.0     0.333333         0.076923  \n15                       8  1.0     0.250000         0.076923  \n16                      13  0.0     0.400000         0.571429  \n17                      14  1.0     0.333333         0.785714  \n18                      27  1.0     0.428571         0.562500  \n19                       8  1.0     0.500000         0.538462  \n20                       6  1.0     0.555556         0.888889  \n21                      30  1.0     0.600000         0.800000  \n22                      28  1.0     0.636364         0.578947  \n23                      30  0.0     0.666667         0.000000  \n24                      13  0.0     0.615385         0.625000  ",
      "text/html": "<div>\n<style scoped>\n    .dataframe tbody tr th:only-of-type {\n        vertical-align: middle;\n    }\n\n    .dataframe tbody tr th {\n        vertical-align: top;\n    }\n\n    .dataframe thead th {\n        text-align: right;\n    }\n</style>\n<table border=\"1\" class=\"dataframe\">\n  <thead>\n    <tr style=\"text-align: right;\">\n      <th></th>\n      <th>order_id</th>\n      <th>user_id</th>\n      <th>eval_set</th>\n      <th>order_number</th>\n      <th>order_dow</th>\n      <th>order_hour_of_day</th>\n      <th>days_since_prior_order</th>\n      <th>tip</th>\n      <th>tip_history</th>\n      <th>reordered_ratio</th>\n    </tr>\n  </thead>\n  <tbody>\n    <tr>\n      <th>0</th>\n      <td>2539329</td>\n      <td>1</td>\n      <td>prior</td>\n      <td>1</td>\n      <td>2</td>\n      <td>8</td>\n      <td>-1</td>\n      <td>0.0</td>\n      <td>-1.000000</td>\n      <td>0.000000</td>\n    </tr>\n    <tr>\n      <th>1</th>\n      <td>2398795</td>\n      <td>1</td>\n      <td>prior</td>\n      <td>2</td>\n      <td>3</td>\n      <td>7</td>\n      <td>15</td>\n      <td>0.0</td>\n      <td>0.000000</td>\n      <td>0.500000</td>\n    </tr>\n    <tr>\n      <th>2</th>\n      <td>473747</td>\n      <td>1</td>\n      <td>prior</td>\n      <td>3</td>\n      <td>3</td>\n      <td>12</td>\n      <td>21</td>\n      <td>0.0</td>\n      <td>0.000000</td>\n      <td>0.600000</td>\n    </tr>\n    <tr>\n      <th>3</th>\n      <td>2254736</td>\n      <td>1</td>\n      <td>prior</td>\n      <td>4</td>\n      <td>4</td>\n      <td>7</td>\n      <td>29</td>\n      <td>0.0</td>\n      <td>0.000000</td>\n      <td>1.000000</td>\n    </tr>\n    <tr>\n      <th>4</th>\n      <td>431534</td>\n      <td>1</td>\n      <td>prior</td>\n      <td>5</td>\n      <td>4</td>\n      <td>15</td>\n      <td>28</td>\n      <td>0.0</td>\n      <td>0.000000</td>\n      <td>0.625000</td>\n    </tr>\n    <tr>\n      <th>5</th>\n      <td>3367565</td>\n      <td>1</td>\n      <td>prior</td>\n      <td>6</td>\n      <td>2</td>\n      <td>7</td>\n      <td>19</td>\n      <td>0.0</td>\n      <td>0.000000</td>\n      <td>1.000000</td>\n    </tr>\n    <tr>\n      <th>6</th>\n      <td>550135</td>\n      <td>1</td>\n      <td>prior</td>\n      <td>7</td>\n      <td>1</td>\n      <td>9</td>\n      <td>20</td>\n      <td>0.0</td>\n      <td>0.000000</td>\n      <td>1.000000</td>\n    </tr>\n    <tr>\n      <th>7</th>\n      <td>3108588</td>\n      <td>1</td>\n      <td>prior</td>\n      <td>8</td>\n      <td>1</td>\n      <td>14</td>\n      <td>14</td>\n      <td>0.0</td>\n      <td>0.000000</td>\n      <td>0.666667</td>\n    </tr>\n    <tr>\n      <th>8</th>\n      <td>2295261</td>\n      <td>1</td>\n      <td>prior</td>\n      <td>9</td>\n      <td>1</td>\n      <td>16</td>\n      <td>0</td>\n      <td>0.0</td>\n      <td>0.000000</td>\n      <td>1.000000</td>\n    </tr>\n    <tr>\n      <th>9</th>\n      <td>2550362</td>\n      <td>1</td>\n      <td>prior</td>\n      <td>10</td>\n      <td>4</td>\n      <td>8</td>\n      <td>30</td>\n      <td>0.0</td>\n      <td>0.000000</td>\n      <td>0.666667</td>\n    </tr>\n    <tr>\n      <th>10</th>\n      <td>1187899</td>\n      <td>1</td>\n      <td>train</td>\n      <td>11</td>\n      <td>4</td>\n      <td>8</td>\n      <td>14</td>\n      <td>NaN</td>\n      <td>0.000000</td>\n      <td>0.909091</td>\n    </tr>\n    <tr>\n      <th>11</th>\n      <td>2168274</td>\n      <td>2</td>\n      <td>prior</td>\n      <td>1</td>\n      <td>2</td>\n      <td>11</td>\n      <td>-1</td>\n      <td>0.0</td>\n      <td>-1.000000</td>\n      <td>0.000000</td>\n    </tr>\n    <tr>\n      <th>12</th>\n      <td>1501582</td>\n      <td>2</td>\n      <td>prior</td>\n      <td>2</td>\n      <td>5</td>\n      <td>10</td>\n      <td>10</td>\n      <td>0.0</td>\n      <td>0.000000</td>\n      <td>0.166667</td>\n    </tr>\n    <tr>\n      <th>13</th>\n      <td>1901567</td>\n      <td>2</td>\n      <td>prior</td>\n      <td>3</td>\n      <td>1</td>\n      <td>10</td>\n      <td>3</td>\n      <td>1.0</td>\n      <td>0.000000</td>\n      <td>0.600000</td>\n    </tr>\n    <tr>\n      <th>14</th>\n      <td>738281</td>\n      <td>2</td>\n      <td>prior</td>\n      <td>4</td>\n      <td>2</td>\n      <td>10</td>\n      <td>8</td>\n      <td>0.0</td>\n      <td>0.333333</td>\n      <td>0.076923</td>\n    </tr>\n    <tr>\n      <th>15</th>\n      <td>1673511</td>\n      <td>2</td>\n      <td>prior</td>\n      <td>5</td>\n      <td>3</td>\n      <td>11</td>\n      <td>8</td>\n      <td>1.0</td>\n      <td>0.250000</td>\n      <td>0.076923</td>\n    </tr>\n    <tr>\n      <th>16</th>\n      <td>1199898</td>\n      <td>2</td>\n      <td>prior</td>\n      <td>6</td>\n      <td>2</td>\n      <td>9</td>\n      <td>13</td>\n      <td>0.0</td>\n      <td>0.400000</td>\n      <td>0.571429</td>\n    </tr>\n    <tr>\n      <th>17</th>\n      <td>3194192</td>\n      <td>2</td>\n      <td>prior</td>\n      <td>7</td>\n      <td>2</td>\n      <td>12</td>\n      <td>14</td>\n      <td>1.0</td>\n      <td>0.333333</td>\n      <td>0.785714</td>\n    </tr>\n    <tr>\n      <th>18</th>\n      <td>788338</td>\n      <td>2</td>\n      <td>prior</td>\n      <td>8</td>\n      <td>1</td>\n      <td>15</td>\n      <td>27</td>\n      <td>1.0</td>\n      <td>0.428571</td>\n      <td>0.562500</td>\n    </tr>\n    <tr>\n      <th>19</th>\n      <td>1718559</td>\n      <td>2</td>\n      <td>prior</td>\n      <td>9</td>\n      <td>2</td>\n      <td>9</td>\n      <td>8</td>\n      <td>1.0</td>\n      <td>0.500000</td>\n      <td>0.538462</td>\n    </tr>\n    <tr>\n      <th>20</th>\n      <td>1447487</td>\n      <td>2</td>\n      <td>prior</td>\n      <td>10</td>\n      <td>1</td>\n      <td>11</td>\n      <td>6</td>\n      <td>1.0</td>\n      <td>0.555556</td>\n      <td>0.888889</td>\n    </tr>\n    <tr>\n      <th>21</th>\n      <td>1402090</td>\n      <td>2</td>\n      <td>prior</td>\n      <td>11</td>\n      <td>1</td>\n      <td>10</td>\n      <td>30</td>\n      <td>1.0</td>\n      <td>0.600000</td>\n      <td>0.800000</td>\n    </tr>\n    <tr>\n      <th>22</th>\n      <td>3186735</td>\n      <td>2</td>\n      <td>prior</td>\n      <td>12</td>\n      <td>1</td>\n      <td>9</td>\n      <td>28</td>\n      <td>1.0</td>\n      <td>0.636364</td>\n      <td>0.578947</td>\n    </tr>\n    <tr>\n      <th>23</th>\n      <td>3268552</td>\n      <td>2</td>\n      <td>prior</td>\n      <td>13</td>\n      <td>4</td>\n      <td>11</td>\n      <td>30</td>\n      <td>0.0</td>\n      <td>0.666667</td>\n      <td>0.000000</td>\n    </tr>\n    <tr>\n      <th>24</th>\n      <td>839880</td>\n      <td>2</td>\n      <td>prior</td>\n      <td>14</td>\n      <td>3</td>\n      <td>10</td>\n      <td>13</td>\n      <td>0.0</td>\n      <td>0.615385</td>\n      <td>0.625000</td>\n    </tr>\n  </tbody>\n</table>\n</div>"
     },
     "execution_count": 4,
     "metadata": {},
     "output_type": "execute_result"
    }
   ],
   "source": [
    "data_store.get_orders_tip().head(25)"
   ]
  },
  {
   "cell_type": "code",
   "outputs": [],
   "source": [
    "order_ids = data_store.get_orders_tip().groupby('user_id')['order_id'].head(5)\n",
    "data_store.set_data_subset(order_ids)\n",
    "\n",
    "# Dynamic Features"
   ],
   "metadata": {
    "collapsed": false,
    "ExecuteTime": {
     "end_time": "2024-05-23T15:18:02.410348600Z",
     "start_time": "2024-05-23T15:18:00.149316300Z"
    }
   },
   "id": "595de8363a48cb69",
   "execution_count": 5
  },
  {
   "cell_type": "code",
   "outputs": [
    {
     "data": {
      "text/plain": "    order_id  user_id eval_set  order_number  order_dow  order_hour_of_day  \\\n0    2539329        1    prior             1          2                  8   \n1    2398795        1    prior             2          3                  7   \n2     473747        1    prior             3          3                 12   \n3    2254736        1    prior             4          4                  7   \n4     431534        1    prior             5          4                 15   \n11   2168274        2    prior             1          2                 11   \n12   1501582        2    prior             2          5                 10   \n13   1901567        2    prior             3          1                 10   \n14    738281        2    prior             4          2                 10   \n15   1673511        2    prior             5          3                 11   \n26   1374495        3    prior             1          1                 14   \n27    444309        3    prior             2          3                 19   \n28   3002854        3    prior             3          3                 16   \n29   2037211        3    prior             4          2                 18   \n30   2710558        3    prior             5          0                 17   \n38   3343014        4    prior             1          6                 11   \n39   2030307        4    prior             2          4                 11   \n40    691089        4    prior             3          4                 15   \n41     94891        4    prior             4          5                 13   \n42   2557754        4    prior             5          5                 13   \n43   2717275        5    prior             1          3                 12   \n44   1909121        5    prior             2          0                 16   \n45   2267326        5    prior             3          3                 18   \n46    157374        5    prior             4          1                 18   \n47   2196797        5    train             5          0                 11   \n\n    days_since_prior_order  tip  tip_history  reordered_ratio  \n0                       -1  0.0    -1.000000         0.000000  \n1                       15  0.0     0.000000         0.500000  \n2                       21  0.0     0.000000         0.600000  \n3                       29  0.0     0.000000         1.000000  \n4                       28  0.0     0.000000         0.625000  \n11                      -1  0.0    -1.000000         0.000000  \n12                      10  0.0     0.000000         0.166667  \n13                       3  1.0     0.000000         0.600000  \n14                       8  0.0     0.333333         0.076923  \n15                       8  1.0     0.250000         0.076923  \n26                      -1  1.0    -1.000000         0.000000  \n27                       9  1.0     1.000000         0.333333  \n28                      21  1.0     1.000000         0.500000  \n29                      20  1.0     1.000000         0.200000  \n30                      12  1.0     1.000000         0.636364  \n38                      -1  0.0    -1.000000         0.000000  \n39                      19  0.0     0.000000         0.000000  \n40                      21  0.0     0.000000         0.142857  \n41                      15  0.0     0.000000         0.000000  \n42                       0  0.0     0.000000         0.000000  \n43                      -1  0.0    -1.000000         0.000000  \n44                      11  1.0     0.000000         0.444444  \n45                      10  0.0     0.500000         0.400000  \n46                      19  1.0     0.333333         0.666667  \n47                       6  NaN     0.500000         0.444444  ",
      "text/html": "<div>\n<style scoped>\n    .dataframe tbody tr th:only-of-type {\n        vertical-align: middle;\n    }\n\n    .dataframe tbody tr th {\n        vertical-align: top;\n    }\n\n    .dataframe thead th {\n        text-align: right;\n    }\n</style>\n<table border=\"1\" class=\"dataframe\">\n  <thead>\n    <tr style=\"text-align: right;\">\n      <th></th>\n      <th>order_id</th>\n      <th>user_id</th>\n      <th>eval_set</th>\n      <th>order_number</th>\n      <th>order_dow</th>\n      <th>order_hour_of_day</th>\n      <th>days_since_prior_order</th>\n      <th>tip</th>\n      <th>tip_history</th>\n      <th>reordered_ratio</th>\n    </tr>\n  </thead>\n  <tbody>\n    <tr>\n      <th>0</th>\n      <td>2539329</td>\n      <td>1</td>\n      <td>prior</td>\n      <td>1</td>\n      <td>2</td>\n      <td>8</td>\n      <td>-1</td>\n      <td>0.0</td>\n      <td>-1.000000</td>\n      <td>0.000000</td>\n    </tr>\n    <tr>\n      <th>1</th>\n      <td>2398795</td>\n      <td>1</td>\n      <td>prior</td>\n      <td>2</td>\n      <td>3</td>\n      <td>7</td>\n      <td>15</td>\n      <td>0.0</td>\n      <td>0.000000</td>\n      <td>0.500000</td>\n    </tr>\n    <tr>\n      <th>2</th>\n      <td>473747</td>\n      <td>1</td>\n      <td>prior</td>\n      <td>3</td>\n      <td>3</td>\n      <td>12</td>\n      <td>21</td>\n      <td>0.0</td>\n      <td>0.000000</td>\n      <td>0.600000</td>\n    </tr>\n    <tr>\n      <th>3</th>\n      <td>2254736</td>\n      <td>1</td>\n      <td>prior</td>\n      <td>4</td>\n      <td>4</td>\n      <td>7</td>\n      <td>29</td>\n      <td>0.0</td>\n      <td>0.000000</td>\n      <td>1.000000</td>\n    </tr>\n    <tr>\n      <th>4</th>\n      <td>431534</td>\n      <td>1</td>\n      <td>prior</td>\n      <td>5</td>\n      <td>4</td>\n      <td>15</td>\n      <td>28</td>\n      <td>0.0</td>\n      <td>0.000000</td>\n      <td>0.625000</td>\n    </tr>\n    <tr>\n      <th>11</th>\n      <td>2168274</td>\n      <td>2</td>\n      <td>prior</td>\n      <td>1</td>\n      <td>2</td>\n      <td>11</td>\n      <td>-1</td>\n      <td>0.0</td>\n      <td>-1.000000</td>\n      <td>0.000000</td>\n    </tr>\n    <tr>\n      <th>12</th>\n      <td>1501582</td>\n      <td>2</td>\n      <td>prior</td>\n      <td>2</td>\n      <td>5</td>\n      <td>10</td>\n      <td>10</td>\n      <td>0.0</td>\n      <td>0.000000</td>\n      <td>0.166667</td>\n    </tr>\n    <tr>\n      <th>13</th>\n      <td>1901567</td>\n      <td>2</td>\n      <td>prior</td>\n      <td>3</td>\n      <td>1</td>\n      <td>10</td>\n      <td>3</td>\n      <td>1.0</td>\n      <td>0.000000</td>\n      <td>0.600000</td>\n    </tr>\n    <tr>\n      <th>14</th>\n      <td>738281</td>\n      <td>2</td>\n      <td>prior</td>\n      <td>4</td>\n      <td>2</td>\n      <td>10</td>\n      <td>8</td>\n      <td>0.0</td>\n      <td>0.333333</td>\n      <td>0.076923</td>\n    </tr>\n    <tr>\n      <th>15</th>\n      <td>1673511</td>\n      <td>2</td>\n      <td>prior</td>\n      <td>5</td>\n      <td>3</td>\n      <td>11</td>\n      <td>8</td>\n      <td>1.0</td>\n      <td>0.250000</td>\n      <td>0.076923</td>\n    </tr>\n    <tr>\n      <th>26</th>\n      <td>1374495</td>\n      <td>3</td>\n      <td>prior</td>\n      <td>1</td>\n      <td>1</td>\n      <td>14</td>\n      <td>-1</td>\n      <td>1.0</td>\n      <td>-1.000000</td>\n      <td>0.000000</td>\n    </tr>\n    <tr>\n      <th>27</th>\n      <td>444309</td>\n      <td>3</td>\n      <td>prior</td>\n      <td>2</td>\n      <td>3</td>\n      <td>19</td>\n      <td>9</td>\n      <td>1.0</td>\n      <td>1.000000</td>\n      <td>0.333333</td>\n    </tr>\n    <tr>\n      <th>28</th>\n      <td>3002854</td>\n      <td>3</td>\n      <td>prior</td>\n      <td>3</td>\n      <td>3</td>\n      <td>16</td>\n      <td>21</td>\n      <td>1.0</td>\n      <td>1.000000</td>\n      <td>0.500000</td>\n    </tr>\n    <tr>\n      <th>29</th>\n      <td>2037211</td>\n      <td>3</td>\n      <td>prior</td>\n      <td>4</td>\n      <td>2</td>\n      <td>18</td>\n      <td>20</td>\n      <td>1.0</td>\n      <td>1.000000</td>\n      <td>0.200000</td>\n    </tr>\n    <tr>\n      <th>30</th>\n      <td>2710558</td>\n      <td>3</td>\n      <td>prior</td>\n      <td>5</td>\n      <td>0</td>\n      <td>17</td>\n      <td>12</td>\n      <td>1.0</td>\n      <td>1.000000</td>\n      <td>0.636364</td>\n    </tr>\n    <tr>\n      <th>38</th>\n      <td>3343014</td>\n      <td>4</td>\n      <td>prior</td>\n      <td>1</td>\n      <td>6</td>\n      <td>11</td>\n      <td>-1</td>\n      <td>0.0</td>\n      <td>-1.000000</td>\n      <td>0.000000</td>\n    </tr>\n    <tr>\n      <th>39</th>\n      <td>2030307</td>\n      <td>4</td>\n      <td>prior</td>\n      <td>2</td>\n      <td>4</td>\n      <td>11</td>\n      <td>19</td>\n      <td>0.0</td>\n      <td>0.000000</td>\n      <td>0.000000</td>\n    </tr>\n    <tr>\n      <th>40</th>\n      <td>691089</td>\n      <td>4</td>\n      <td>prior</td>\n      <td>3</td>\n      <td>4</td>\n      <td>15</td>\n      <td>21</td>\n      <td>0.0</td>\n      <td>0.000000</td>\n      <td>0.142857</td>\n    </tr>\n    <tr>\n      <th>41</th>\n      <td>94891</td>\n      <td>4</td>\n      <td>prior</td>\n      <td>4</td>\n      <td>5</td>\n      <td>13</td>\n      <td>15</td>\n      <td>0.0</td>\n      <td>0.000000</td>\n      <td>0.000000</td>\n    </tr>\n    <tr>\n      <th>42</th>\n      <td>2557754</td>\n      <td>4</td>\n      <td>prior</td>\n      <td>5</td>\n      <td>5</td>\n      <td>13</td>\n      <td>0</td>\n      <td>0.0</td>\n      <td>0.000000</td>\n      <td>0.000000</td>\n    </tr>\n    <tr>\n      <th>43</th>\n      <td>2717275</td>\n      <td>5</td>\n      <td>prior</td>\n      <td>1</td>\n      <td>3</td>\n      <td>12</td>\n      <td>-1</td>\n      <td>0.0</td>\n      <td>-1.000000</td>\n      <td>0.000000</td>\n    </tr>\n    <tr>\n      <th>44</th>\n      <td>1909121</td>\n      <td>5</td>\n      <td>prior</td>\n      <td>2</td>\n      <td>0</td>\n      <td>16</td>\n      <td>11</td>\n      <td>1.0</td>\n      <td>0.000000</td>\n      <td>0.444444</td>\n    </tr>\n    <tr>\n      <th>45</th>\n      <td>2267326</td>\n      <td>5</td>\n      <td>prior</td>\n      <td>3</td>\n      <td>3</td>\n      <td>18</td>\n      <td>10</td>\n      <td>0.0</td>\n      <td>0.500000</td>\n      <td>0.400000</td>\n    </tr>\n    <tr>\n      <th>46</th>\n      <td>157374</td>\n      <td>5</td>\n      <td>prior</td>\n      <td>4</td>\n      <td>1</td>\n      <td>18</td>\n      <td>19</td>\n      <td>1.0</td>\n      <td>0.333333</td>\n      <td>0.666667</td>\n    </tr>\n    <tr>\n      <th>47</th>\n      <td>2196797</td>\n      <td>5</td>\n      <td>train</td>\n      <td>5</td>\n      <td>0</td>\n      <td>11</td>\n      <td>6</td>\n      <td>NaN</td>\n      <td>0.500000</td>\n      <td>0.444444</td>\n    </tr>\n  </tbody>\n</table>\n</div>"
     },
     "execution_count": 6,
     "metadata": {},
     "output_type": "execute_result"
    }
   ],
   "source": [
    "data_store.get_orders_tip_subset().head(25)"
   ],
   "metadata": {
    "collapsed": false,
    "ExecuteTime": {
     "end_time": "2024-05-23T15:18:02.420126700Z",
     "start_time": "2024-05-23T15:18:02.411436200Z"
    }
   },
   "id": "82124a97baebc52",
   "execution_count": 6
  },
  {
   "cell_type": "markdown",
   "source": [
    "### Temporary Validatiom"
   ],
   "metadata": {
    "collapsed": false
   },
   "id": "2260ce904533748"
  },
  {
   "cell_type": "code",
   "outputs": [
    {
     "name": "stdout",
     "output_type": "stream",
     "text": [
      "Number of orders did not change: True\n",
      "Number of subset orders did not change: True\n",
      "\n",
      "Number of NaN or null values in each column:\n",
      "order_id                       0\n",
      "user_id                        0\n",
      "eval_set                       0\n",
      "order_number                   0\n",
      "order_dow                      0\n",
      "order_hour_of_day              0\n",
      "days_since_prior_order         0\n",
      "tip                       131209\n",
      "tip_history                    0\n",
      "reordered_ratio                0\n",
      "dtype: int64\n"
     ]
    }
   ],
   "source": [
    "print(f\"Number of orders did not change: {order_amount == len(data_store.get_orders_tip())}\")\n",
    "print(f\"Number of subset orders did not change: {len(order_ids) == len(data_store.get_orders_tip_subset())}\\n\")\n",
    "print(f\"Number of NaN or null values in each column:\\n{data_store.get_orders_tip().isnull().sum()}\")"
   ],
   "metadata": {
    "collapsed": false,
    "ExecuteTime": {
     "end_time": "2024-05-23T15:18:39.138251900Z",
     "start_time": "2024-05-23T15:18:38.895488900Z"
    }
   },
   "id": "180afcb3f24840b8",
   "execution_count": 11
  },
  {
   "cell_type": "markdown",
   "source": [
    "### Temporary Tests"
   ],
   "metadata": {
    "collapsed": false
   },
   "id": "3c58f94a8edcfe8b"
  },
  {
   "cell_type": "code",
   "outputs": [
    {
     "data": {
      "text/plain": "    order_id  user_id eval_set  order_number  order_dow  order_hour_of_day  \\\n0    2539329        1    prior             1          2                  8   \n1    2398795        1    prior             2          3                  7   \n2     473747        1    prior             3          3                 12   \n3    2254736        1    prior             4          4                  7   \n4     431534        1    prior             5          4                 15   \n5    2168274        2    prior             1          2                 11   \n6    1501582        2    prior             2          5                 10   \n7    1901567        2    prior             3          1                 10   \n8     738281        2    prior             4          2                 10   \n9    1673511        2    prior             5          3                 11   \n10   1374495        3    prior             1          1                 14   \n11    444309        3    prior             2          3                 19   \n12   3002854        3    prior             3          3                 16   \n13   2037211        3    prior             4          2                 18   \n14   2710558        3    prior             5          0                 17   \n15   3343014        4    prior             1          6                 11   \n16   2030307        4    prior             2          4                 11   \n17    691089        4    prior             3          4                 15   \n18     94891        4    prior             4          5                 13   \n19   2557754        4    prior             5          5                 13   \n20   2717275        5    prior             1          3                 12   \n21   1909121        5    prior             2          0                 16   \n22   2267326        5    prior             3          3                 18   \n23    157374        5    prior             4          1                 18   \n24   2196797        5    train             5          0                 11   \n\n    days_since_prior_order  tip  tip_history  reordered_ratio  \\\n0                       -1  0.0    -1.000000         0.000000   \n1                       15  0.0     0.000000         0.500000   \n2                       21  0.0     0.000000         0.600000   \n3                       29  0.0     0.000000         1.000000   \n4                       28  0.0     0.000000         0.625000   \n5                       -1  0.0    -1.000000         0.000000   \n6                       10  0.0     0.000000         0.166667   \n7                        3  1.0     0.000000         0.600000   \n8                        8  0.0     0.333333         0.076923   \n9                        8  1.0     0.250000         0.076923   \n10                      -1  1.0    -1.000000         0.000000   \n11                       9  1.0     1.000000         0.333333   \n12                      21  1.0     1.000000         0.500000   \n13                      20  1.0     1.000000         0.200000   \n14                      12  1.0     1.000000         0.636364   \n15                      -1  0.0    -1.000000         0.000000   \n16                      19  0.0     0.000000         0.000000   \n17                      21  0.0     0.000000         0.142857   \n18                      15  0.0     0.000000         0.000000   \n19                       0  0.0     0.000000         0.000000   \n20                      -1  0.0    -1.000000         0.000000   \n21                      11  1.0     0.000000         0.444444   \n22                      10  0.0     0.500000         0.400000   \n23                      19  1.0     0.333333         0.666667   \n24                       6  NaN     0.500000         0.444444   \n\n    dynamic_feature_test_1  dynamic_feature_test_2  \n0                        1                       1  \n1                        0                       2  \n2                        1                       0  \n3                        0                       1  \n4                        1                       2  \n5                        1                       1  \n6                        0                       2  \n7                        1                       0  \n8                        0                       1  \n9                        1                       2  \n10                       1                       1  \n11                       0                       2  \n12                       1                       0  \n13                       0                       1  \n14                       1                       2  \n15                       1                       1  \n16                       0                       2  \n17                       1                       0  \n18                       0                       1  \n19                       1                       2  \n20                       1                       1  \n21                       0                       2  \n22                       1                       0  \n23                       0                       1  \n24                       1                       2  ",
      "text/html": "<div>\n<style scoped>\n    .dataframe tbody tr th:only-of-type {\n        vertical-align: middle;\n    }\n\n    .dataframe tbody tr th {\n        vertical-align: top;\n    }\n\n    .dataframe thead th {\n        text-align: right;\n    }\n</style>\n<table border=\"1\" class=\"dataframe\">\n  <thead>\n    <tr style=\"text-align: right;\">\n      <th></th>\n      <th>order_id</th>\n      <th>user_id</th>\n      <th>eval_set</th>\n      <th>order_number</th>\n      <th>order_dow</th>\n      <th>order_hour_of_day</th>\n      <th>days_since_prior_order</th>\n      <th>tip</th>\n      <th>tip_history</th>\n      <th>reordered_ratio</th>\n      <th>dynamic_feature_test_1</th>\n      <th>dynamic_feature_test_2</th>\n    </tr>\n  </thead>\n  <tbody>\n    <tr>\n      <th>0</th>\n      <td>2539329</td>\n      <td>1</td>\n      <td>prior</td>\n      <td>1</td>\n      <td>2</td>\n      <td>8</td>\n      <td>-1</td>\n      <td>0.0</td>\n      <td>-1.000000</td>\n      <td>0.000000</td>\n      <td>1</td>\n      <td>1</td>\n    </tr>\n    <tr>\n      <th>1</th>\n      <td>2398795</td>\n      <td>1</td>\n      <td>prior</td>\n      <td>2</td>\n      <td>3</td>\n      <td>7</td>\n      <td>15</td>\n      <td>0.0</td>\n      <td>0.000000</td>\n      <td>0.500000</td>\n      <td>0</td>\n      <td>2</td>\n    </tr>\n    <tr>\n      <th>2</th>\n      <td>473747</td>\n      <td>1</td>\n      <td>prior</td>\n      <td>3</td>\n      <td>3</td>\n      <td>12</td>\n      <td>21</td>\n      <td>0.0</td>\n      <td>0.000000</td>\n      <td>0.600000</td>\n      <td>1</td>\n      <td>0</td>\n    </tr>\n    <tr>\n      <th>3</th>\n      <td>2254736</td>\n      <td>1</td>\n      <td>prior</td>\n      <td>4</td>\n      <td>4</td>\n      <td>7</td>\n      <td>29</td>\n      <td>0.0</td>\n      <td>0.000000</td>\n      <td>1.000000</td>\n      <td>0</td>\n      <td>1</td>\n    </tr>\n    <tr>\n      <th>4</th>\n      <td>431534</td>\n      <td>1</td>\n      <td>prior</td>\n      <td>5</td>\n      <td>4</td>\n      <td>15</td>\n      <td>28</td>\n      <td>0.0</td>\n      <td>0.000000</td>\n      <td>0.625000</td>\n      <td>1</td>\n      <td>2</td>\n    </tr>\n    <tr>\n      <th>5</th>\n      <td>2168274</td>\n      <td>2</td>\n      <td>prior</td>\n      <td>1</td>\n      <td>2</td>\n      <td>11</td>\n      <td>-1</td>\n      <td>0.0</td>\n      <td>-1.000000</td>\n      <td>0.000000</td>\n      <td>1</td>\n      <td>1</td>\n    </tr>\n    <tr>\n      <th>6</th>\n      <td>1501582</td>\n      <td>2</td>\n      <td>prior</td>\n      <td>2</td>\n      <td>5</td>\n      <td>10</td>\n      <td>10</td>\n      <td>0.0</td>\n      <td>0.000000</td>\n      <td>0.166667</td>\n      <td>0</td>\n      <td>2</td>\n    </tr>\n    <tr>\n      <th>7</th>\n      <td>1901567</td>\n      <td>2</td>\n      <td>prior</td>\n      <td>3</td>\n      <td>1</td>\n      <td>10</td>\n      <td>3</td>\n      <td>1.0</td>\n      <td>0.000000</td>\n      <td>0.600000</td>\n      <td>1</td>\n      <td>0</td>\n    </tr>\n    <tr>\n      <th>8</th>\n      <td>738281</td>\n      <td>2</td>\n      <td>prior</td>\n      <td>4</td>\n      <td>2</td>\n      <td>10</td>\n      <td>8</td>\n      <td>0.0</td>\n      <td>0.333333</td>\n      <td>0.076923</td>\n      <td>0</td>\n      <td>1</td>\n    </tr>\n    <tr>\n      <th>9</th>\n      <td>1673511</td>\n      <td>2</td>\n      <td>prior</td>\n      <td>5</td>\n      <td>3</td>\n      <td>11</td>\n      <td>8</td>\n      <td>1.0</td>\n      <td>0.250000</td>\n      <td>0.076923</td>\n      <td>1</td>\n      <td>2</td>\n    </tr>\n    <tr>\n      <th>10</th>\n      <td>1374495</td>\n      <td>3</td>\n      <td>prior</td>\n      <td>1</td>\n      <td>1</td>\n      <td>14</td>\n      <td>-1</td>\n      <td>1.0</td>\n      <td>-1.000000</td>\n      <td>0.000000</td>\n      <td>1</td>\n      <td>1</td>\n    </tr>\n    <tr>\n      <th>11</th>\n      <td>444309</td>\n      <td>3</td>\n      <td>prior</td>\n      <td>2</td>\n      <td>3</td>\n      <td>19</td>\n      <td>9</td>\n      <td>1.0</td>\n      <td>1.000000</td>\n      <td>0.333333</td>\n      <td>0</td>\n      <td>2</td>\n    </tr>\n    <tr>\n      <th>12</th>\n      <td>3002854</td>\n      <td>3</td>\n      <td>prior</td>\n      <td>3</td>\n      <td>3</td>\n      <td>16</td>\n      <td>21</td>\n      <td>1.0</td>\n      <td>1.000000</td>\n      <td>0.500000</td>\n      <td>1</td>\n      <td>0</td>\n    </tr>\n    <tr>\n      <th>13</th>\n      <td>2037211</td>\n      <td>3</td>\n      <td>prior</td>\n      <td>4</td>\n      <td>2</td>\n      <td>18</td>\n      <td>20</td>\n      <td>1.0</td>\n      <td>1.000000</td>\n      <td>0.200000</td>\n      <td>0</td>\n      <td>1</td>\n    </tr>\n    <tr>\n      <th>14</th>\n      <td>2710558</td>\n      <td>3</td>\n      <td>prior</td>\n      <td>5</td>\n      <td>0</td>\n      <td>17</td>\n      <td>12</td>\n      <td>1.0</td>\n      <td>1.000000</td>\n      <td>0.636364</td>\n      <td>1</td>\n      <td>2</td>\n    </tr>\n    <tr>\n      <th>15</th>\n      <td>3343014</td>\n      <td>4</td>\n      <td>prior</td>\n      <td>1</td>\n      <td>6</td>\n      <td>11</td>\n      <td>-1</td>\n      <td>0.0</td>\n      <td>-1.000000</td>\n      <td>0.000000</td>\n      <td>1</td>\n      <td>1</td>\n    </tr>\n    <tr>\n      <th>16</th>\n      <td>2030307</td>\n      <td>4</td>\n      <td>prior</td>\n      <td>2</td>\n      <td>4</td>\n      <td>11</td>\n      <td>19</td>\n      <td>0.0</td>\n      <td>0.000000</td>\n      <td>0.000000</td>\n      <td>0</td>\n      <td>2</td>\n    </tr>\n    <tr>\n      <th>17</th>\n      <td>691089</td>\n      <td>4</td>\n      <td>prior</td>\n      <td>3</td>\n      <td>4</td>\n      <td>15</td>\n      <td>21</td>\n      <td>0.0</td>\n      <td>0.000000</td>\n      <td>0.142857</td>\n      <td>1</td>\n      <td>0</td>\n    </tr>\n    <tr>\n      <th>18</th>\n      <td>94891</td>\n      <td>4</td>\n      <td>prior</td>\n      <td>4</td>\n      <td>5</td>\n      <td>13</td>\n      <td>15</td>\n      <td>0.0</td>\n      <td>0.000000</td>\n      <td>0.000000</td>\n      <td>0</td>\n      <td>1</td>\n    </tr>\n    <tr>\n      <th>19</th>\n      <td>2557754</td>\n      <td>4</td>\n      <td>prior</td>\n      <td>5</td>\n      <td>5</td>\n      <td>13</td>\n      <td>0</td>\n      <td>0.0</td>\n      <td>0.000000</td>\n      <td>0.000000</td>\n      <td>1</td>\n      <td>2</td>\n    </tr>\n    <tr>\n      <th>20</th>\n      <td>2717275</td>\n      <td>5</td>\n      <td>prior</td>\n      <td>1</td>\n      <td>3</td>\n      <td>12</td>\n      <td>-1</td>\n      <td>0.0</td>\n      <td>-1.000000</td>\n      <td>0.000000</td>\n      <td>1</td>\n      <td>1</td>\n    </tr>\n    <tr>\n      <th>21</th>\n      <td>1909121</td>\n      <td>5</td>\n      <td>prior</td>\n      <td>2</td>\n      <td>0</td>\n      <td>16</td>\n      <td>11</td>\n      <td>1.0</td>\n      <td>0.000000</td>\n      <td>0.444444</td>\n      <td>0</td>\n      <td>2</td>\n    </tr>\n    <tr>\n      <th>22</th>\n      <td>2267326</td>\n      <td>5</td>\n      <td>prior</td>\n      <td>3</td>\n      <td>3</td>\n      <td>18</td>\n      <td>10</td>\n      <td>0.0</td>\n      <td>0.500000</td>\n      <td>0.400000</td>\n      <td>1</td>\n      <td>0</td>\n    </tr>\n    <tr>\n      <th>23</th>\n      <td>157374</td>\n      <td>5</td>\n      <td>prior</td>\n      <td>4</td>\n      <td>1</td>\n      <td>18</td>\n      <td>19</td>\n      <td>1.0</td>\n      <td>0.333333</td>\n      <td>0.666667</td>\n      <td>0</td>\n      <td>1</td>\n    </tr>\n    <tr>\n      <th>24</th>\n      <td>2196797</td>\n      <td>5</td>\n      <td>train</td>\n      <td>5</td>\n      <td>0</td>\n      <td>11</td>\n      <td>6</td>\n      <td>NaN</td>\n      <td>0.500000</td>\n      <td>0.444444</td>\n      <td>1</td>\n      <td>2</td>\n    </tr>\n  </tbody>\n</table>\n</div>"
     },
     "execution_count": 8,
     "metadata": {},
     "output_type": "execute_result"
    }
   ],
   "source": [
    "dynamic_feature_test_1 = DynamicFeatureTest1(data_store)\n",
    "dynamic_feature_test_2 = DynamicFeatureTest2(data_store)\n",
    "dynamic_feature_test_1.compute_feature()\n",
    "dynamic_feature_test_2.compute_feature()\n",
    "\n",
    "data_store.get_orders_tip_subset().head(25)"
   ],
   "metadata": {
    "collapsed": false,
    "ExecuteTime": {
     "end_time": "2024-05-23T15:18:03.043293900Z",
     "start_time": "2024-05-23T15:18:02.574210Z"
    }
   },
   "id": "d56fa75dbbd29991",
   "execution_count": 8
  },
  {
   "cell_type": "code",
   "outputs": [
    {
     "data": {
      "text/plain": "    order_id  user_id eval_set  order_number  order_dow  order_hour_of_day  \\\n0    2539329        1    prior             1          2                  8   \n1    2398795        1    prior             2          3                  7   \n2     473747        1    prior             3          3                 12   \n3    2254736        1    prior             4          4                  7   \n11   2168274        2    prior             1          2                 11   \n12   1501582        2    prior             2          5                 10   \n13   1901567        2    prior             3          1                 10   \n14    738281        2    prior             4          2                 10   \n26   1374495        3    prior             1          1                 14   \n27    444309        3    prior             2          3                 19   \n28   3002854        3    prior             3          3                 16   \n29   2037211        3    prior             4          2                 18   \n38   3343014        4    prior             1          6                 11   \n39   2030307        4    prior             2          4                 11   \n40    691089        4    prior             3          4                 15   \n41     94891        4    prior             4          5                 13   \n43   2717275        5    prior             1          3                 12   \n44   1909121        5    prior             2          0                 16   \n45   2267326        5    prior             3          3                 18   \n46    157374        5    prior             4          1                 18   \n48   2086598        6    prior             1          5                 18   \n49    298250        6    prior             2          4                 16   \n50    998866        6    prior             3          2                 18   \n51   2565571        7    prior             1          3                  9   \n52   2402008        7    prior             2          1                 19   \n\n    days_since_prior_order  tip  tip_history  reordered_ratio  \\\n0                       -1  0.0    -1.000000         0.000000   \n1                       15  0.0     0.000000         0.500000   \n2                       21  0.0     0.000000         0.600000   \n3                       29  0.0     0.000000         1.000000   \n11                      -1  0.0    -1.000000         0.000000   \n12                      10  0.0     0.000000         0.166667   \n13                       3  1.0     0.000000         0.600000   \n14                       8  0.0     0.333333         0.076923   \n26                      -1  1.0    -1.000000         0.000000   \n27                       9  1.0     1.000000         0.333333   \n28                      21  1.0     1.000000         0.500000   \n29                      20  1.0     1.000000         0.200000   \n38                      -1  0.0    -1.000000         0.000000   \n39                      19  0.0     0.000000         0.000000   \n40                      21  0.0     0.000000         0.142857   \n41                      15  0.0     0.000000         0.000000   \n43                      -1  0.0    -1.000000         0.000000   \n44                      11  1.0     0.000000         0.444444   \n45                      10  0.0     0.500000         0.400000   \n46                      19  1.0     0.333333         0.666667   \n48                      -1  0.0    -1.000000         0.000000   \n49                       6  0.0     0.000000         0.285714   \n50                      12  0.0     0.000000         0.000000   \n51                      -1  0.0    -1.000000         0.000000   \n52                      30  0.0     0.000000         0.190476   \n\n    dynamic_feature_test_1  \n0                        1  \n1                        0  \n2                        1  \n3                        0  \n11                       1  \n12                       0  \n13                       1  \n14                       0  \n26                       1  \n27                       0  \n28                       1  \n29                       0  \n38                       1  \n39                       0  \n40                       1  \n41                       0  \n43                       1  \n44                       0  \n45                       1  \n46                       0  \n48                       1  \n49                       0  \n50                       1  \n51                       1  \n52                       0  ",
      "text/html": "<div>\n<style scoped>\n    .dataframe tbody tr th:only-of-type {\n        vertical-align: middle;\n    }\n\n    .dataframe tbody tr th {\n        vertical-align: top;\n    }\n\n    .dataframe thead th {\n        text-align: right;\n    }\n</style>\n<table border=\"1\" class=\"dataframe\">\n  <thead>\n    <tr style=\"text-align: right;\">\n      <th></th>\n      <th>order_id</th>\n      <th>user_id</th>\n      <th>eval_set</th>\n      <th>order_number</th>\n      <th>order_dow</th>\n      <th>order_hour_of_day</th>\n      <th>days_since_prior_order</th>\n      <th>tip</th>\n      <th>tip_history</th>\n      <th>reordered_ratio</th>\n      <th>dynamic_feature_test_1</th>\n    </tr>\n  </thead>\n  <tbody>\n    <tr>\n      <th>0</th>\n      <td>2539329</td>\n      <td>1</td>\n      <td>prior</td>\n      <td>1</td>\n      <td>2</td>\n      <td>8</td>\n      <td>-1</td>\n      <td>0.0</td>\n      <td>-1.000000</td>\n      <td>0.000000</td>\n      <td>1</td>\n    </tr>\n    <tr>\n      <th>1</th>\n      <td>2398795</td>\n      <td>1</td>\n      <td>prior</td>\n      <td>2</td>\n      <td>3</td>\n      <td>7</td>\n      <td>15</td>\n      <td>0.0</td>\n      <td>0.000000</td>\n      <td>0.500000</td>\n      <td>0</td>\n    </tr>\n    <tr>\n      <th>2</th>\n      <td>473747</td>\n      <td>1</td>\n      <td>prior</td>\n      <td>3</td>\n      <td>3</td>\n      <td>12</td>\n      <td>21</td>\n      <td>0.0</td>\n      <td>0.000000</td>\n      <td>0.600000</td>\n      <td>1</td>\n    </tr>\n    <tr>\n      <th>3</th>\n      <td>2254736</td>\n      <td>1</td>\n      <td>prior</td>\n      <td>4</td>\n      <td>4</td>\n      <td>7</td>\n      <td>29</td>\n      <td>0.0</td>\n      <td>0.000000</td>\n      <td>1.000000</td>\n      <td>0</td>\n    </tr>\n    <tr>\n      <th>11</th>\n      <td>2168274</td>\n      <td>2</td>\n      <td>prior</td>\n      <td>1</td>\n      <td>2</td>\n      <td>11</td>\n      <td>-1</td>\n      <td>0.0</td>\n      <td>-1.000000</td>\n      <td>0.000000</td>\n      <td>1</td>\n    </tr>\n    <tr>\n      <th>12</th>\n      <td>1501582</td>\n      <td>2</td>\n      <td>prior</td>\n      <td>2</td>\n      <td>5</td>\n      <td>10</td>\n      <td>10</td>\n      <td>0.0</td>\n      <td>0.000000</td>\n      <td>0.166667</td>\n      <td>0</td>\n    </tr>\n    <tr>\n      <th>13</th>\n      <td>1901567</td>\n      <td>2</td>\n      <td>prior</td>\n      <td>3</td>\n      <td>1</td>\n      <td>10</td>\n      <td>3</td>\n      <td>1.0</td>\n      <td>0.000000</td>\n      <td>0.600000</td>\n      <td>1</td>\n    </tr>\n    <tr>\n      <th>14</th>\n      <td>738281</td>\n      <td>2</td>\n      <td>prior</td>\n      <td>4</td>\n      <td>2</td>\n      <td>10</td>\n      <td>8</td>\n      <td>0.0</td>\n      <td>0.333333</td>\n      <td>0.076923</td>\n      <td>0</td>\n    </tr>\n    <tr>\n      <th>26</th>\n      <td>1374495</td>\n      <td>3</td>\n      <td>prior</td>\n      <td>1</td>\n      <td>1</td>\n      <td>14</td>\n      <td>-1</td>\n      <td>1.0</td>\n      <td>-1.000000</td>\n      <td>0.000000</td>\n      <td>1</td>\n    </tr>\n    <tr>\n      <th>27</th>\n      <td>444309</td>\n      <td>3</td>\n      <td>prior</td>\n      <td>2</td>\n      <td>3</td>\n      <td>19</td>\n      <td>9</td>\n      <td>1.0</td>\n      <td>1.000000</td>\n      <td>0.333333</td>\n      <td>0</td>\n    </tr>\n    <tr>\n      <th>28</th>\n      <td>3002854</td>\n      <td>3</td>\n      <td>prior</td>\n      <td>3</td>\n      <td>3</td>\n      <td>16</td>\n      <td>21</td>\n      <td>1.0</td>\n      <td>1.000000</td>\n      <td>0.500000</td>\n      <td>1</td>\n    </tr>\n    <tr>\n      <th>29</th>\n      <td>2037211</td>\n      <td>3</td>\n      <td>prior</td>\n      <td>4</td>\n      <td>2</td>\n      <td>18</td>\n      <td>20</td>\n      <td>1.0</td>\n      <td>1.000000</td>\n      <td>0.200000</td>\n      <td>0</td>\n    </tr>\n    <tr>\n      <th>38</th>\n      <td>3343014</td>\n      <td>4</td>\n      <td>prior</td>\n      <td>1</td>\n      <td>6</td>\n      <td>11</td>\n      <td>-1</td>\n      <td>0.0</td>\n      <td>-1.000000</td>\n      <td>0.000000</td>\n      <td>1</td>\n    </tr>\n    <tr>\n      <th>39</th>\n      <td>2030307</td>\n      <td>4</td>\n      <td>prior</td>\n      <td>2</td>\n      <td>4</td>\n      <td>11</td>\n      <td>19</td>\n      <td>0.0</td>\n      <td>0.000000</td>\n      <td>0.000000</td>\n      <td>0</td>\n    </tr>\n    <tr>\n      <th>40</th>\n      <td>691089</td>\n      <td>4</td>\n      <td>prior</td>\n      <td>3</td>\n      <td>4</td>\n      <td>15</td>\n      <td>21</td>\n      <td>0.0</td>\n      <td>0.000000</td>\n      <td>0.142857</td>\n      <td>1</td>\n    </tr>\n    <tr>\n      <th>41</th>\n      <td>94891</td>\n      <td>4</td>\n      <td>prior</td>\n      <td>4</td>\n      <td>5</td>\n      <td>13</td>\n      <td>15</td>\n      <td>0.0</td>\n      <td>0.000000</td>\n      <td>0.000000</td>\n      <td>0</td>\n    </tr>\n    <tr>\n      <th>43</th>\n      <td>2717275</td>\n      <td>5</td>\n      <td>prior</td>\n      <td>1</td>\n      <td>3</td>\n      <td>12</td>\n      <td>-1</td>\n      <td>0.0</td>\n      <td>-1.000000</td>\n      <td>0.000000</td>\n      <td>1</td>\n    </tr>\n    <tr>\n      <th>44</th>\n      <td>1909121</td>\n      <td>5</td>\n      <td>prior</td>\n      <td>2</td>\n      <td>0</td>\n      <td>16</td>\n      <td>11</td>\n      <td>1.0</td>\n      <td>0.000000</td>\n      <td>0.444444</td>\n      <td>0</td>\n    </tr>\n    <tr>\n      <th>45</th>\n      <td>2267326</td>\n      <td>5</td>\n      <td>prior</td>\n      <td>3</td>\n      <td>3</td>\n      <td>18</td>\n      <td>10</td>\n      <td>0.0</td>\n      <td>0.500000</td>\n      <td>0.400000</td>\n      <td>1</td>\n    </tr>\n    <tr>\n      <th>46</th>\n      <td>157374</td>\n      <td>5</td>\n      <td>prior</td>\n      <td>4</td>\n      <td>1</td>\n      <td>18</td>\n      <td>19</td>\n      <td>1.0</td>\n      <td>0.333333</td>\n      <td>0.666667</td>\n      <td>0</td>\n    </tr>\n    <tr>\n      <th>48</th>\n      <td>2086598</td>\n      <td>6</td>\n      <td>prior</td>\n      <td>1</td>\n      <td>5</td>\n      <td>18</td>\n      <td>-1</td>\n      <td>0.0</td>\n      <td>-1.000000</td>\n      <td>0.000000</td>\n      <td>1</td>\n    </tr>\n    <tr>\n      <th>49</th>\n      <td>298250</td>\n      <td>6</td>\n      <td>prior</td>\n      <td>2</td>\n      <td>4</td>\n      <td>16</td>\n      <td>6</td>\n      <td>0.0</td>\n      <td>0.000000</td>\n      <td>0.285714</td>\n      <td>0</td>\n    </tr>\n    <tr>\n      <th>50</th>\n      <td>998866</td>\n      <td>6</td>\n      <td>prior</td>\n      <td>3</td>\n      <td>2</td>\n      <td>18</td>\n      <td>12</td>\n      <td>0.0</td>\n      <td>0.000000</td>\n      <td>0.000000</td>\n      <td>1</td>\n    </tr>\n    <tr>\n      <th>51</th>\n      <td>2565571</td>\n      <td>7</td>\n      <td>prior</td>\n      <td>1</td>\n      <td>3</td>\n      <td>9</td>\n      <td>-1</td>\n      <td>0.0</td>\n      <td>-1.000000</td>\n      <td>0.000000</td>\n      <td>1</td>\n    </tr>\n    <tr>\n      <th>52</th>\n      <td>2402008</td>\n      <td>7</td>\n      <td>prior</td>\n      <td>2</td>\n      <td>1</td>\n      <td>19</td>\n      <td>30</td>\n      <td>0.0</td>\n      <td>0.000000</td>\n      <td>0.190476</td>\n      <td>0</td>\n    </tr>\n  </tbody>\n</table>\n</div>"
     },
     "execution_count": 9,
     "metadata": {},
     "output_type": "execute_result"
    }
   ],
   "source": [
    "order_ids = data_store.get_orders_tip().groupby('user_id')['order_id'].head(4)\n",
    "data_store.set_data_subset(order_ids)\n",
    "\n",
    "dynamic_feature_test_1.compute_feature()\n",
    "data_store.get_orders_tip_subset().head(25)"
   ],
   "metadata": {
    "collapsed": false,
    "ExecuteTime": {
     "end_time": "2024-05-23T15:18:05.145595300Z",
     "start_time": "2024-05-23T15:18:03.027987800Z"
    }
   },
   "id": "3014c3197aa708f0",
   "execution_count": 9
  },
  {
   "cell_type": "markdown",
   "id": "d571331aa19136d5",
   "metadata": {
    "collapsed": false
   },
   "source": [
    "### Analysis"
   ]
  },
  {
   "cell_type": "markdown",
   "id": "9038d3d52fbf8ad1",
   "metadata": {
    "collapsed": false
   },
   "source": [
    "### Model Training & Evaluation"
   ]
  },
  {
   "cell_type": "code",
   "execution_count": 9,
   "id": "a9f00ea58f4da04e",
   "metadata": {
    "collapsed": false,
    "ExecuteTime": {
     "end_time": "2024-05-23T15:18:05.145595300Z",
     "start_time": "2024-05-23T15:18:05.137083Z"
    }
   },
   "outputs": [],
   "source": []
  }
 ],
 "metadata": {
  "kernelspec": {
   "name": "python3",
   "language": "python",
   "display_name": "Python 3 (ipykernel)"
  },
  "language_info": {
   "codemirror_mode": {
    "name": "ipython",
    "version": 3
   },
   "file_extension": ".py",
   "mimetype": "text/x-python",
   "name": "python",
   "nbconvert_exporter": "python",
   "pygments_lexer": "ipython3",
   "version": "3.11.8"
  }
 },
 "nbformat": 4,
 "nbformat_minor": 5
}
