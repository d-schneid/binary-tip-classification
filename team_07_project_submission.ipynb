{
 "cells": [
  {
   "cell_type": "markdown",
   "id": "7aea19f30bc2952",
   "metadata": {
    "collapsed": false
   },
   "source": [
    "# Data Science Project SoSe 2024\n",
    "## Team 07\n",
    "- Maximilian Hoffmann\n",
    "- Kilian Kempf\n",
    "- Daniel Schneider\n",
    "- Tom Schuck\n",
    "\n",
    "## Project Submission"
   ]
  },
  {
   "cell_type": "markdown",
   "id": "ca8cc580026f3fef",
   "metadata": {
    "collapsed": false
   },
   "source": [
    "### Libraries"
   ]
  },
  {
   "cell_type": "code",
   "outputs": [],
   "source": [
    "import os\n",
    "\n",
    "import pandas as pd\n",
    "\n",
    "from feature_engineering import DataManager\n",
    "from feature_engineering.features import TipHistory, ReorderedRatio, DynamicFeatureTest1, DynamicFeatureTest2, \\\n",
    "    OrderSize, ModeDepartment, PrevTippedProductsRatio, CustomerLifetime, PrevOrderTipped, OrderFrequency, \\\n",
    "    SimOrdersTipRatio, ProductTipRate, DepartmentTipRate, AisleTipRate, OrderExcessLikability, AvgSizePrevOrders, \\\n",
    "    MeanOrderedRate, LastTipSequence, RelDaysSinceTip, DaysSinceTip"
   ],
   "metadata": {
    "collapsed": false,
    "ExecuteTime": {
     "end_time": "2024-05-28T16:50:33.378926400Z",
     "start_time": "2024-05-28T16:50:33.162818600Z"
    }
   },
   "id": "c51b42d19954d682",
   "execution_count": 8
  },
  {
   "cell_type": "markdown",
   "source": [
    "### Data Preparation"
   ],
   "metadata": {
    "collapsed": false
   },
   "id": "b1817857eb895437"
  },
  {
   "cell_type": "code",
   "outputs": [],
   "source": [
    "DATA_DIR = os.path.join(os.getcwd(), 'data/Instacart')\n",
    "\n",
    "op_prior = pd.read_csv(os.path.join(DATA_DIR, 'order_products__prior.csv.zip'))\n",
    "op_train = pd.read_csv(os.path.join(DATA_DIR, 'order_products__train.csv.zip'))\n",
    "\n",
    "tip_train = pd.read_csv(os.path.join(DATA_DIR, 'tip_trainingsdaten1_.csv'))[['order_id', 'tip']]\n",
    "tip_test = pd.read_csv(os.path.join(DATA_DIR, 'tip_testdaten1_template.csv'))\n",
    "\n",
    "orders = pd.read_csv(os.path.join(DATA_DIR, 'orders.csv.zip'))\n",
    "aisles = pd.read_csv(os.path.join(DATA_DIR, 'aisles.csv.zip'))\n",
    "departments = pd.read_csv(os.path.join(DATA_DIR, 'departments.csv.zip'))\n",
    "products = pd.read_csv(os.path.join(DATA_DIR, 'products.csv.zip'))\n",
    "\n",
    "data_manager = DataManager(op_prior, op_train, tip_train, tip_test, orders, products, aisles, departments)\n",
    "order_amount = len(data_manager.get_orders_tip())"
   ],
   "metadata": {
    "collapsed": false,
    "ExecuteTime": {
     "end_time": "2024-05-28T16:51:02.202909300Z",
     "start_time": "2024-05-28T16:50:33.383085700Z"
    }
   },
   "id": "2ac69658072618d1",
   "execution_count": 9
  },
  {
   "cell_type": "markdown",
   "source": [
    "### Feature Engineering"
   ],
   "metadata": {
    "collapsed": false
   },
   "id": "1f339505e9c6cd1b"
  },
  {
   "cell_type": "code",
   "outputs": [],
   "source": [
    "# features = ['order_number', 'order_dow', 'order_hour_of_day', 'days_since_prior_order', 'tip_history',\n",
    "#             'reordered_ratio', 'order_size', 'mode_dept', 'prev_tipped_products_ratio']\n",
    "\n",
    "# Kilian\n",
    "tip_history = TipHistory()\n",
    "reordered_rate = ReorderedRatio()\n",
    "order_size = OrderSize()\n",
    "prev_tipped_products_ratio = PrevTippedProductsRatio()\n",
    "customer_lifetime = CustomerLifetime()\n",
    "prev_order_tipped = PrevOrderTipped()\n",
    "\n",
    "# Daniel\n",
    "mode_dept = ModeDepartment()\n",
    "order_frequency = OrderFrequency()\n",
    "mean_ordered_rate = MeanOrderedRate()\n",
    "rel_days_since_tip = RelDaysSinceTip()\n",
    "days_since_tip = DaysSinceTip()\n",
    "\n",
    "# Max\n",
    "sim_orders_tip_ratio = SimOrdersTipRatio()\n",
    "product_tip_rate = ProductTipRate()\n",
    "department_tip_rate = DepartmentTipRate()\n",
    "aisle_tip_rate = AisleTipRate()\n",
    "last_tip_sequence = LastTipSequence()\n",
    "\n",
    "# Tom\n",
    "order_excess_likability = OrderExcessLikability()  # TODO\n",
    "avg_size_prev_orders = AvgSizePrevOrders()  # TODO\n",
    "\n",
    "# Test\n",
    "dynamic_feature_test_1 = DynamicFeatureTest1()\n",
    "dynamic_feature_test_2 = DynamicFeatureTest2()"
   ],
   "metadata": {
    "collapsed": false,
    "ExecuteTime": {
     "end_time": "2024-05-28T16:51:02.209776200Z",
     "start_time": "2024-05-28T16:51:02.206010Z"
    }
   },
   "id": "6a897e084cc934ce",
   "execution_count": 10
  },
  {
   "cell_type": "code",
   "outputs": [],
   "source": [
    "# Static Features\n",
    "data_manager.register_feature(tip_history)\n",
    "data_manager.register_feature(reordered_rate)\n",
    "data_manager.register_feature(order_size)\n",
    "data_manager.register_feature(customer_lifetime)\n",
    "data_manager.register_feature(prev_order_tipped)\n",
    "# data_manager.register_feature(prev_tipped_products_ratio)\n",
    "\n",
    "# data_manager.register_feature(mode_dept)\n",
    "# data_manager.register_feature(order_frequency)\n",
    "# data_manager.register_feature(sim_orders_tip_ratio)\n",
    "# data_manager.register_feature(order_excess_likability)\n",
    "# data_manager.register_feature(avg_size_prev_orders)\n",
    "# data_manager.register_feature(mean_ordered_rate)\n",
    "# data_manager.register_feature(last_tip_sequence)\n",
    "# data_manager.register_feature(rel_days_since_tip)\n",
    "# data_manager.register_feature(days_since_tip)\n",
    "# \n",
    "# # Dynamic Features\n",
    "data_manager.register_feature(dynamic_feature_test_1)\n",
    "data_manager.register_feature(dynamic_feature_test_2)\n",
    "# data_manager.register_feature(product_tip_rate)\n",
    "# data_manager.register_feature(department_tip_rate)\n",
    "# data_manager.register_feature(aisle_tip_rate)"
   ],
   "metadata": {
    "collapsed": false,
    "ExecuteTime": {
     "end_time": "2024-05-28T16:51:02.218112800Z",
     "start_time": "2024-05-28T16:51:02.209776200Z"
    }
   },
   "id": "7bdee9f31e0bac1b",
   "execution_count": 11
  },
  {
   "cell_type": "code",
   "outputs": [],
   "source": [
    "data_manager.compute_features()"
   ],
   "metadata": {
    "collapsed": false,
    "ExecuteTime": {
     "end_time": "2024-05-28T16:51:09.728817500Z",
     "start_time": "2024-05-28T16:51:02.213891800Z"
    }
   },
   "id": "6b815abe51807fce",
   "execution_count": 12
  },
  {
   "cell_type": "code",
   "outputs": [
    {
     "data": {
      "text/plain": "    order_id  user_id eval_set  order_number  order_dow  order_hour_of_day  \\\n0    2539329        1    prior             1          2                  8   \n1    2398795        1    prior             2          3                  7   \n2     473747        1    prior             3          3                 12   \n3    2254736        1    prior             4          4                  7   \n4     431534        1    prior             5          4                 15   \n..       ...      ...      ...           ...        ...                ...   \n95   1916106       12    prior             3          5                  8   \n96   1057378       12    prior             4          3                  9   \n97    221248       12    prior             5          1                  9   \n98   2618231       13    prior             1          6                 12   \n99   2560699       13    prior             2          0                 11   \n\n    days_since_prior_order  tip  order_size  customer_lifetime  tip_history  \\\n0                      NaN  0.0           5                  0         -1.0   \n1                     15.0  0.0           6                 15          0.0   \n2                     21.0  0.0           5                 36          0.0   \n3                     29.0  0.0           5                 65          0.0   \n4                     28.0  0.0           8                 93          0.0   \n..                     ...  ...         ...                ...          ...   \n95                    14.0  0.0          12                 44          0.0   \n96                    26.0  0.0          20                 70          0.0   \n97                    30.0  0.0          22                100          0.0   \n98                     NaN  0.0           5                  0         -1.0   \n99                     8.0  1.0           4                  8          0.0   \n\n    reordered_ratio prev_order_tipped  dynamic_feature_test_1  \\\n0          0.000000                -1                0.090909   \n1          0.500000               0.0                0.181818   \n2          0.600000               0.0                0.272727   \n3          1.000000               0.0                0.363636   \n4          0.625000               0.0                0.454545   \n..              ...               ...                     ...   \n95         0.250000               0.0                0.600000   \n96         0.250000               0.0                0.800000   \n97         0.227273               0.0                1.000000   \n98         0.000000                -1                0.076923   \n99         0.500000               0.0                0.153846   \n\n    dynamic_feature_test_2  \n0                 0.090909  \n1                 0.181818  \n2                 0.272727  \n3                 0.363636  \n4                 0.454545  \n..                     ...  \n95                0.600000  \n96                0.800000  \n97                1.000000  \n98                0.076923  \n99                0.153846  \n\n[100 rows x 15 columns]",
      "text/html": "<div>\n<style scoped>\n    .dataframe tbody tr th:only-of-type {\n        vertical-align: middle;\n    }\n\n    .dataframe tbody tr th {\n        vertical-align: top;\n    }\n\n    .dataframe thead th {\n        text-align: right;\n    }\n</style>\n<table border=\"1\" class=\"dataframe\">\n  <thead>\n    <tr style=\"text-align: right;\">\n      <th></th>\n      <th>order_id</th>\n      <th>user_id</th>\n      <th>eval_set</th>\n      <th>order_number</th>\n      <th>order_dow</th>\n      <th>order_hour_of_day</th>\n      <th>days_since_prior_order</th>\n      <th>tip</th>\n      <th>order_size</th>\n      <th>customer_lifetime</th>\n      <th>tip_history</th>\n      <th>reordered_ratio</th>\n      <th>prev_order_tipped</th>\n      <th>dynamic_feature_test_1</th>\n      <th>dynamic_feature_test_2</th>\n    </tr>\n  </thead>\n  <tbody>\n    <tr>\n      <th>0</th>\n      <td>2539329</td>\n      <td>1</td>\n      <td>prior</td>\n      <td>1</td>\n      <td>2</td>\n      <td>8</td>\n      <td>NaN</td>\n      <td>0.0</td>\n      <td>5</td>\n      <td>0</td>\n      <td>-1.0</td>\n      <td>0.000000</td>\n      <td>-1</td>\n      <td>0.090909</td>\n      <td>0.090909</td>\n    </tr>\n    <tr>\n      <th>1</th>\n      <td>2398795</td>\n      <td>1</td>\n      <td>prior</td>\n      <td>2</td>\n      <td>3</td>\n      <td>7</td>\n      <td>15.0</td>\n      <td>0.0</td>\n      <td>6</td>\n      <td>15</td>\n      <td>0.0</td>\n      <td>0.500000</td>\n      <td>0.0</td>\n      <td>0.181818</td>\n      <td>0.181818</td>\n    </tr>\n    <tr>\n      <th>2</th>\n      <td>473747</td>\n      <td>1</td>\n      <td>prior</td>\n      <td>3</td>\n      <td>3</td>\n      <td>12</td>\n      <td>21.0</td>\n      <td>0.0</td>\n      <td>5</td>\n      <td>36</td>\n      <td>0.0</td>\n      <td>0.600000</td>\n      <td>0.0</td>\n      <td>0.272727</td>\n      <td>0.272727</td>\n    </tr>\n    <tr>\n      <th>3</th>\n      <td>2254736</td>\n      <td>1</td>\n      <td>prior</td>\n      <td>4</td>\n      <td>4</td>\n      <td>7</td>\n      <td>29.0</td>\n      <td>0.0</td>\n      <td>5</td>\n      <td>65</td>\n      <td>0.0</td>\n      <td>1.000000</td>\n      <td>0.0</td>\n      <td>0.363636</td>\n      <td>0.363636</td>\n    </tr>\n    <tr>\n      <th>4</th>\n      <td>431534</td>\n      <td>1</td>\n      <td>prior</td>\n      <td>5</td>\n      <td>4</td>\n      <td>15</td>\n      <td>28.0</td>\n      <td>0.0</td>\n      <td>8</td>\n      <td>93</td>\n      <td>0.0</td>\n      <td>0.625000</td>\n      <td>0.0</td>\n      <td>0.454545</td>\n      <td>0.454545</td>\n    </tr>\n    <tr>\n      <th>...</th>\n      <td>...</td>\n      <td>...</td>\n      <td>...</td>\n      <td>...</td>\n      <td>...</td>\n      <td>...</td>\n      <td>...</td>\n      <td>...</td>\n      <td>...</td>\n      <td>...</td>\n      <td>...</td>\n      <td>...</td>\n      <td>...</td>\n      <td>...</td>\n      <td>...</td>\n    </tr>\n    <tr>\n      <th>95</th>\n      <td>1916106</td>\n      <td>12</td>\n      <td>prior</td>\n      <td>3</td>\n      <td>5</td>\n      <td>8</td>\n      <td>14.0</td>\n      <td>0.0</td>\n      <td>12</td>\n      <td>44</td>\n      <td>0.0</td>\n      <td>0.250000</td>\n      <td>0.0</td>\n      <td>0.600000</td>\n      <td>0.600000</td>\n    </tr>\n    <tr>\n      <th>96</th>\n      <td>1057378</td>\n      <td>12</td>\n      <td>prior</td>\n      <td>4</td>\n      <td>3</td>\n      <td>9</td>\n      <td>26.0</td>\n      <td>0.0</td>\n      <td>20</td>\n      <td>70</td>\n      <td>0.0</td>\n      <td>0.250000</td>\n      <td>0.0</td>\n      <td>0.800000</td>\n      <td>0.800000</td>\n    </tr>\n    <tr>\n      <th>97</th>\n      <td>221248</td>\n      <td>12</td>\n      <td>prior</td>\n      <td>5</td>\n      <td>1</td>\n      <td>9</td>\n      <td>30.0</td>\n      <td>0.0</td>\n      <td>22</td>\n      <td>100</td>\n      <td>0.0</td>\n      <td>0.227273</td>\n      <td>0.0</td>\n      <td>1.000000</td>\n      <td>1.000000</td>\n    </tr>\n    <tr>\n      <th>98</th>\n      <td>2618231</td>\n      <td>13</td>\n      <td>prior</td>\n      <td>1</td>\n      <td>6</td>\n      <td>12</td>\n      <td>NaN</td>\n      <td>0.0</td>\n      <td>5</td>\n      <td>0</td>\n      <td>-1.0</td>\n      <td>0.000000</td>\n      <td>-1</td>\n      <td>0.076923</td>\n      <td>0.076923</td>\n    </tr>\n    <tr>\n      <th>99</th>\n      <td>2560699</td>\n      <td>13</td>\n      <td>prior</td>\n      <td>2</td>\n      <td>0</td>\n      <td>11</td>\n      <td>8.0</td>\n      <td>1.0</td>\n      <td>4</td>\n      <td>8</td>\n      <td>0.0</td>\n      <td>0.500000</td>\n      <td>0.0</td>\n      <td>0.153846</td>\n      <td>0.153846</td>\n    </tr>\n  </tbody>\n</table>\n<p>100 rows × 15 columns</p>\n</div>"
     },
     "execution_count": 13,
     "metadata": {},
     "output_type": "execute_result"
    }
   ],
   "source": [
    "data_manager.get_orders_tip().head(100)"
   ],
   "metadata": {
    "collapsed": false,
    "ExecuteTime": {
     "end_time": "2024-05-28T16:51:09.743497900Z",
     "start_time": "2024-05-28T16:51:09.729935700Z"
    }
   },
   "id": "d3ea4e9eac0b043c",
   "execution_count": 13
  },
  {
   "cell_type": "code",
   "outputs": [],
   "source": [
    "data_manager.export_features('data/prepared_data/computed_features.csv.zip', only_static=False)"
   ],
   "metadata": {
    "collapsed": false,
    "ExecuteTime": {
     "end_time": "2024-05-28T16:51:29.108277200Z",
     "start_time": "2024-05-28T16:51:09.739658100Z"
    }
   },
   "id": "d879a6a14f49589a",
   "execution_count": 14
  },
  {
   "cell_type": "code",
   "outputs": [],
   "source": [
    "data_manager.import_features('data/prepared_data/computed_features.csv.zip', only_static=False)"
   ],
   "metadata": {
    "collapsed": false,
    "ExecuteTime": {
     "end_time": "2024-05-28T16:51:33.458208Z",
     "start_time": "2024-05-28T16:51:29.109303400Z"
    }
   },
   "id": "5e56cee1c81131b2",
   "execution_count": 15
  },
  {
   "cell_type": "code",
   "outputs": [
    {
     "data": {
      "text/plain": "    order_id  user_id eval_set  order_number  order_dow  order_hour_of_day  \\\n0    2539329        1    prior             1          2                  8   \n1    2398795        1    prior             2          3                  7   \n2     473747        1    prior             3          3                 12   \n3    2254736        1    prior             4          4                  7   \n4     431534        1    prior             5          4                 15   \n..       ...      ...      ...           ...        ...                ...   \n95   1916106       12    prior             3          5                  8   \n96   1057378       12    prior             4          3                  9   \n97    221248       12    prior             5          1                  9   \n98   2618231       13    prior             1          6                 12   \n99   2560699       13    prior             2          0                 11   \n\n    days_since_prior_order  tip  order_size  customer_lifetime  tip_history  \\\n0                      NaN  0.0           5                  0         -1.0   \n1                     15.0  0.0           6                 15          0.0   \n2                     21.0  0.0           5                 36          0.0   \n3                     29.0  0.0           5                 65          0.0   \n4                     28.0  0.0           8                 93          0.0   \n..                     ...  ...         ...                ...          ...   \n95                    14.0  0.0          12                 44          0.0   \n96                    26.0  0.0          20                 70          0.0   \n97                    30.0  0.0          22                100          0.0   \n98                     NaN  0.0           5                  0         -1.0   \n99                     8.0  1.0           4                  8          0.0   \n\n    reordered_ratio  prev_order_tipped  dynamic_feature_test_1  \\\n0          0.000000               -1.0                0.090909   \n1          0.500000                0.0                0.181818   \n2          0.600000                0.0                0.272727   \n3          1.000000                0.0                0.363636   \n4          0.625000                0.0                0.454545   \n..              ...                ...                     ...   \n95         0.250000                0.0                0.600000   \n96         0.250000                0.0                0.800000   \n97         0.227273                0.0                1.000000   \n98         0.000000               -1.0                0.076923   \n99         0.500000                0.0                0.153846   \n\n    dynamic_feature_test_2  \n0                 0.090909  \n1                 0.181818  \n2                 0.272727  \n3                 0.363636  \n4                 0.454545  \n..                     ...  \n95                0.600000  \n96                0.800000  \n97                1.000000  \n98                0.076923  \n99                0.153846  \n\n[100 rows x 15 columns]",
      "text/html": "<div>\n<style scoped>\n    .dataframe tbody tr th:only-of-type {\n        vertical-align: middle;\n    }\n\n    .dataframe tbody tr th {\n        vertical-align: top;\n    }\n\n    .dataframe thead th {\n        text-align: right;\n    }\n</style>\n<table border=\"1\" class=\"dataframe\">\n  <thead>\n    <tr style=\"text-align: right;\">\n      <th></th>\n      <th>order_id</th>\n      <th>user_id</th>\n      <th>eval_set</th>\n      <th>order_number</th>\n      <th>order_dow</th>\n      <th>order_hour_of_day</th>\n      <th>days_since_prior_order</th>\n      <th>tip</th>\n      <th>order_size</th>\n      <th>customer_lifetime</th>\n      <th>tip_history</th>\n      <th>reordered_ratio</th>\n      <th>prev_order_tipped</th>\n      <th>dynamic_feature_test_1</th>\n      <th>dynamic_feature_test_2</th>\n    </tr>\n  </thead>\n  <tbody>\n    <tr>\n      <th>0</th>\n      <td>2539329</td>\n      <td>1</td>\n      <td>prior</td>\n      <td>1</td>\n      <td>2</td>\n      <td>8</td>\n      <td>NaN</td>\n      <td>0.0</td>\n      <td>5</td>\n      <td>0</td>\n      <td>-1.0</td>\n      <td>0.000000</td>\n      <td>-1.0</td>\n      <td>0.090909</td>\n      <td>0.090909</td>\n    </tr>\n    <tr>\n      <th>1</th>\n      <td>2398795</td>\n      <td>1</td>\n      <td>prior</td>\n      <td>2</td>\n      <td>3</td>\n      <td>7</td>\n      <td>15.0</td>\n      <td>0.0</td>\n      <td>6</td>\n      <td>15</td>\n      <td>0.0</td>\n      <td>0.500000</td>\n      <td>0.0</td>\n      <td>0.181818</td>\n      <td>0.181818</td>\n    </tr>\n    <tr>\n      <th>2</th>\n      <td>473747</td>\n      <td>1</td>\n      <td>prior</td>\n      <td>3</td>\n      <td>3</td>\n      <td>12</td>\n      <td>21.0</td>\n      <td>0.0</td>\n      <td>5</td>\n      <td>36</td>\n      <td>0.0</td>\n      <td>0.600000</td>\n      <td>0.0</td>\n      <td>0.272727</td>\n      <td>0.272727</td>\n    </tr>\n    <tr>\n      <th>3</th>\n      <td>2254736</td>\n      <td>1</td>\n      <td>prior</td>\n      <td>4</td>\n      <td>4</td>\n      <td>7</td>\n      <td>29.0</td>\n      <td>0.0</td>\n      <td>5</td>\n      <td>65</td>\n      <td>0.0</td>\n      <td>1.000000</td>\n      <td>0.0</td>\n      <td>0.363636</td>\n      <td>0.363636</td>\n    </tr>\n    <tr>\n      <th>4</th>\n      <td>431534</td>\n      <td>1</td>\n      <td>prior</td>\n      <td>5</td>\n      <td>4</td>\n      <td>15</td>\n      <td>28.0</td>\n      <td>0.0</td>\n      <td>8</td>\n      <td>93</td>\n      <td>0.0</td>\n      <td>0.625000</td>\n      <td>0.0</td>\n      <td>0.454545</td>\n      <td>0.454545</td>\n    </tr>\n    <tr>\n      <th>...</th>\n      <td>...</td>\n      <td>...</td>\n      <td>...</td>\n      <td>...</td>\n      <td>...</td>\n      <td>...</td>\n      <td>...</td>\n      <td>...</td>\n      <td>...</td>\n      <td>...</td>\n      <td>...</td>\n      <td>...</td>\n      <td>...</td>\n      <td>...</td>\n      <td>...</td>\n    </tr>\n    <tr>\n      <th>95</th>\n      <td>1916106</td>\n      <td>12</td>\n      <td>prior</td>\n      <td>3</td>\n      <td>5</td>\n      <td>8</td>\n      <td>14.0</td>\n      <td>0.0</td>\n      <td>12</td>\n      <td>44</td>\n      <td>0.0</td>\n      <td>0.250000</td>\n      <td>0.0</td>\n      <td>0.600000</td>\n      <td>0.600000</td>\n    </tr>\n    <tr>\n      <th>96</th>\n      <td>1057378</td>\n      <td>12</td>\n      <td>prior</td>\n      <td>4</td>\n      <td>3</td>\n      <td>9</td>\n      <td>26.0</td>\n      <td>0.0</td>\n      <td>20</td>\n      <td>70</td>\n      <td>0.0</td>\n      <td>0.250000</td>\n      <td>0.0</td>\n      <td>0.800000</td>\n      <td>0.800000</td>\n    </tr>\n    <tr>\n      <th>97</th>\n      <td>221248</td>\n      <td>12</td>\n      <td>prior</td>\n      <td>5</td>\n      <td>1</td>\n      <td>9</td>\n      <td>30.0</td>\n      <td>0.0</td>\n      <td>22</td>\n      <td>100</td>\n      <td>0.0</td>\n      <td>0.227273</td>\n      <td>0.0</td>\n      <td>1.000000</td>\n      <td>1.000000</td>\n    </tr>\n    <tr>\n      <th>98</th>\n      <td>2618231</td>\n      <td>13</td>\n      <td>prior</td>\n      <td>1</td>\n      <td>6</td>\n      <td>12</td>\n      <td>NaN</td>\n      <td>0.0</td>\n      <td>5</td>\n      <td>0</td>\n      <td>-1.0</td>\n      <td>0.000000</td>\n      <td>-1.0</td>\n      <td>0.076923</td>\n      <td>0.076923</td>\n    </tr>\n    <tr>\n      <th>99</th>\n      <td>2560699</td>\n      <td>13</td>\n      <td>prior</td>\n      <td>2</td>\n      <td>0</td>\n      <td>11</td>\n      <td>8.0</td>\n      <td>1.0</td>\n      <td>4</td>\n      <td>8</td>\n      <td>0.0</td>\n      <td>0.500000</td>\n      <td>0.0</td>\n      <td>0.153846</td>\n      <td>0.153846</td>\n    </tr>\n  </tbody>\n</table>\n<p>100 rows × 15 columns</p>\n</div>"
     },
     "execution_count": 16,
     "metadata": {},
     "output_type": "execute_result"
    }
   ],
   "source": [
    "data_manager.get_orders_tip().head(100)"
   ],
   "metadata": {
    "collapsed": false,
    "ExecuteTime": {
     "end_time": "2024-05-28T16:51:33.472082500Z",
     "start_time": "2024-05-28T16:51:33.459292Z"
    }
   },
   "id": "8f2a4c2575deb79a",
   "execution_count": 16
  },
  {
   "cell_type": "code",
   "outputs": [
    {
     "name": "stdout",
     "output_type": "stream",
     "text": [
      "Number of orders: 3346083\n",
      "Number of orders did not change: True\n",
      "\n",
      "Number of NaN or null values in each column:\n",
      "order_id                       0\n",
      "user_id                        0\n",
      "eval_set                       0\n",
      "order_number                   0\n",
      "order_dow                      0\n",
      "order_hour_of_day              0\n",
      "days_since_prior_order    206209\n",
      "tip                       131209\n",
      "order_size                     0\n",
      "customer_lifetime              0\n",
      "tip_history                    0\n",
      "reordered_ratio                0\n",
      "prev_order_tipped              0\n",
      "dynamic_feature_test_1         0\n",
      "dynamic_feature_test_2         0\n",
      "dtype: int64\n"
     ]
    }
   ],
   "source": [
    "print(f\"Number of orders: {len(data_manager.get_orders_tip())}\")\n",
    "print(f\"Number of orders did not change: {order_amount == len(data_manager.get_orders_tip())}\\n\")\n",
    "print(f\"Number of NaN or null values in each column:\\n{data_manager.get_orders_tip().isnull().sum()}\")"
   ],
   "metadata": {
    "collapsed": false,
    "ExecuteTime": {
     "end_time": "2024-05-28T16:51:33.643911400Z",
     "start_time": "2024-05-28T16:51:33.469981700Z"
    }
   },
   "id": "70be2ca230e12d01",
   "execution_count": 17
  },
  {
   "cell_type": "code",
   "outputs": [],
   "source": [
    "# order_ids = data_manager.get_orders_tip(complete=True).groupby('user_id')['order_id'].head(5)\n",
    "order_ids = data_manager.get_orders_tip(complete=True)['order_id']\n",
    "order_amount = len(order_ids)"
   ],
   "metadata": {
    "collapsed": false,
    "ExecuteTime": {
     "end_time": "2024-05-28T16:51:33.662447800Z",
     "start_time": "2024-05-28T16:51:33.645963300Z"
    }
   },
   "id": "ed21e9e41111b301",
   "execution_count": 18
  },
  {
   "cell_type": "code",
   "outputs": [],
   "source": [
    "data_manager.set_subset(order_ids)"
   ],
   "metadata": {
    "collapsed": false,
    "ExecuteTime": {
     "end_time": "2024-05-28T16:51:40.523903900Z",
     "start_time": "2024-05-28T16:51:33.648991300Z"
    }
   },
   "id": "a9c4a8244b861028",
   "execution_count": 19
  },
  {
   "cell_type": "code",
   "execution_count": 20,
   "id": "82124a97baebc52",
   "metadata": {
    "collapsed": false,
    "ExecuteTime": {
     "end_time": "2024-05-28T16:51:40.543207600Z",
     "start_time": "2024-05-28T16:51:40.524993300Z"
    }
   },
   "outputs": [
    {
     "data": {
      "text/plain": "    order_id  user_id eval_set  order_number  order_dow  order_hour_of_day  \\\n0    2539329        1    prior             1          2                  8   \n1    2398795        1    prior             2          3                  7   \n2     473747        1    prior             3          3                 12   \n3    2254736        1    prior             4          4                  7   \n4     431534        1    prior             5          4                 15   \n5    3367565        1    prior             6          2                  7   \n6     550135        1    prior             7          1                  9   \n7    3108588        1    prior             8          1                 14   \n8    2295261        1    prior             9          1                 16   \n9    2550362        1    prior            10          4                  8   \n10   1187899        1    train            11          4                  8   \n11   2168274        2    prior             1          2                 11   \n12   1501582        2    prior             2          5                 10   \n13   1901567        2    prior             3          1                 10   \n14    738281        2    prior             4          2                 10   \n15   1673511        2    prior             5          3                 11   \n16   1199898        2    prior             6          2                  9   \n17   3194192        2    prior             7          2                 12   \n18    788338        2    prior             8          1                 15   \n19   1718559        2    prior             9          2                  9   \n20   1447487        2    prior            10          1                 11   \n21   1402090        2    prior            11          1                 10   \n22   3186735        2    prior            12          1                  9   \n23   3268552        2    prior            13          4                 11   \n24    839880        2    prior            14          3                 10   \n\n    days_since_prior_order  tip  order_size  customer_lifetime  tip_history  \\\n0                      NaN  0.0           5                  0    -1.000000   \n1                     15.0  0.0           6                 15     0.000000   \n2                     21.0  0.0           5                 36     0.000000   \n3                     29.0  0.0           5                 65     0.000000   \n4                     28.0  0.0           8                 93     0.000000   \n5                     19.0  0.0           4                112     0.000000   \n6                     20.0  0.0           5                132     0.000000   \n7                     14.0  0.0           6                146     0.000000   \n8                      0.0  0.0           6                146     0.000000   \n9                     30.0  0.0           9                176     0.000000   \n10                    14.0  NaN          11                190     0.000000   \n11                     NaN  0.0          13                  0    -1.000000   \n12                    10.0  0.0           6                 10     0.000000   \n13                     3.0  1.0           5                 13     0.000000   \n14                     8.0  0.0          13                 21     0.333333   \n15                     8.0  1.0          13                 29     0.250000   \n16                    13.0  0.0          21                 42     0.400000   \n17                    14.0  1.0          14                 56     0.333333   \n18                    27.0  1.0          16                 83     0.428571   \n19                     8.0  1.0          26                 91     0.500000   \n20                     6.0  1.0           9                 97     0.555556   \n21                    30.0  1.0          15                127     0.600000   \n22                    28.0  1.0          19                155     0.636364   \n23                    30.0  0.0           9                185     0.666667   \n24                    13.0  0.0          16                198     0.615385   \n\n    reordered_ratio  prev_order_tipped  dynamic_feature_test_1  \\\n0          0.000000               -1.0                0.090909   \n1          0.500000                0.0                0.181818   \n2          0.600000                0.0                0.272727   \n3          1.000000                0.0                0.363636   \n4          0.625000                0.0                0.454545   \n5          1.000000                0.0                0.545455   \n6          1.000000                0.0                0.636364   \n7          0.666667                0.0                0.727273   \n8          1.000000                0.0                0.818182   \n9          0.666667                0.0                0.909091   \n10         0.909091                0.0                1.000000   \n11         0.000000               -1.0                0.066667   \n12         0.166667                0.0                0.133333   \n13         0.600000                0.0                0.200000   \n14         0.076923                1.0                0.266667   \n15         0.076923                0.0                0.333333   \n16         0.571429                1.0                0.400000   \n17         0.785714                0.0                0.466667   \n18         0.562500                1.0                0.533333   \n19         0.538462                1.0                0.600000   \n20         0.888889                1.0                0.666667   \n21         0.800000                1.0                0.733333   \n22         0.578947                1.0                0.800000   \n23         0.000000                1.0                0.866667   \n24         0.625000                0.0                0.933333   \n\n    dynamic_feature_test_2  \n0                 0.090909  \n1                 0.181818  \n2                 0.272727  \n3                 0.363636  \n4                 0.454545  \n5                 0.545455  \n6                 0.636364  \n7                 0.727273  \n8                 0.818182  \n9                 0.909091  \n10                1.000000  \n11                0.066667  \n12                0.133333  \n13                0.200000  \n14                0.266667  \n15                0.333333  \n16                0.400000  \n17                0.466667  \n18                0.533333  \n19                0.600000  \n20                0.666667  \n21                0.733333  \n22                0.800000  \n23                0.866667  \n24                0.933333  ",
      "text/html": "<div>\n<style scoped>\n    .dataframe tbody tr th:only-of-type {\n        vertical-align: middle;\n    }\n\n    .dataframe tbody tr th {\n        vertical-align: top;\n    }\n\n    .dataframe thead th {\n        text-align: right;\n    }\n</style>\n<table border=\"1\" class=\"dataframe\">\n  <thead>\n    <tr style=\"text-align: right;\">\n      <th></th>\n      <th>order_id</th>\n      <th>user_id</th>\n      <th>eval_set</th>\n      <th>order_number</th>\n      <th>order_dow</th>\n      <th>order_hour_of_day</th>\n      <th>days_since_prior_order</th>\n      <th>tip</th>\n      <th>order_size</th>\n      <th>customer_lifetime</th>\n      <th>tip_history</th>\n      <th>reordered_ratio</th>\n      <th>prev_order_tipped</th>\n      <th>dynamic_feature_test_1</th>\n      <th>dynamic_feature_test_2</th>\n    </tr>\n  </thead>\n  <tbody>\n    <tr>\n      <th>0</th>\n      <td>2539329</td>\n      <td>1</td>\n      <td>prior</td>\n      <td>1</td>\n      <td>2</td>\n      <td>8</td>\n      <td>NaN</td>\n      <td>0.0</td>\n      <td>5</td>\n      <td>0</td>\n      <td>-1.000000</td>\n      <td>0.000000</td>\n      <td>-1.0</td>\n      <td>0.090909</td>\n      <td>0.090909</td>\n    </tr>\n    <tr>\n      <th>1</th>\n      <td>2398795</td>\n      <td>1</td>\n      <td>prior</td>\n      <td>2</td>\n      <td>3</td>\n      <td>7</td>\n      <td>15.0</td>\n      <td>0.0</td>\n      <td>6</td>\n      <td>15</td>\n      <td>0.000000</td>\n      <td>0.500000</td>\n      <td>0.0</td>\n      <td>0.181818</td>\n      <td>0.181818</td>\n    </tr>\n    <tr>\n      <th>2</th>\n      <td>473747</td>\n      <td>1</td>\n      <td>prior</td>\n      <td>3</td>\n      <td>3</td>\n      <td>12</td>\n      <td>21.0</td>\n      <td>0.0</td>\n      <td>5</td>\n      <td>36</td>\n      <td>0.000000</td>\n      <td>0.600000</td>\n      <td>0.0</td>\n      <td>0.272727</td>\n      <td>0.272727</td>\n    </tr>\n    <tr>\n      <th>3</th>\n      <td>2254736</td>\n      <td>1</td>\n      <td>prior</td>\n      <td>4</td>\n      <td>4</td>\n      <td>7</td>\n      <td>29.0</td>\n      <td>0.0</td>\n      <td>5</td>\n      <td>65</td>\n      <td>0.000000</td>\n      <td>1.000000</td>\n      <td>0.0</td>\n      <td>0.363636</td>\n      <td>0.363636</td>\n    </tr>\n    <tr>\n      <th>4</th>\n      <td>431534</td>\n      <td>1</td>\n      <td>prior</td>\n      <td>5</td>\n      <td>4</td>\n      <td>15</td>\n      <td>28.0</td>\n      <td>0.0</td>\n      <td>8</td>\n      <td>93</td>\n      <td>0.000000</td>\n      <td>0.625000</td>\n      <td>0.0</td>\n      <td>0.454545</td>\n      <td>0.454545</td>\n    </tr>\n    <tr>\n      <th>5</th>\n      <td>3367565</td>\n      <td>1</td>\n      <td>prior</td>\n      <td>6</td>\n      <td>2</td>\n      <td>7</td>\n      <td>19.0</td>\n      <td>0.0</td>\n      <td>4</td>\n      <td>112</td>\n      <td>0.000000</td>\n      <td>1.000000</td>\n      <td>0.0</td>\n      <td>0.545455</td>\n      <td>0.545455</td>\n    </tr>\n    <tr>\n      <th>6</th>\n      <td>550135</td>\n      <td>1</td>\n      <td>prior</td>\n      <td>7</td>\n      <td>1</td>\n      <td>9</td>\n      <td>20.0</td>\n      <td>0.0</td>\n      <td>5</td>\n      <td>132</td>\n      <td>0.000000</td>\n      <td>1.000000</td>\n      <td>0.0</td>\n      <td>0.636364</td>\n      <td>0.636364</td>\n    </tr>\n    <tr>\n      <th>7</th>\n      <td>3108588</td>\n      <td>1</td>\n      <td>prior</td>\n      <td>8</td>\n      <td>1</td>\n      <td>14</td>\n      <td>14.0</td>\n      <td>0.0</td>\n      <td>6</td>\n      <td>146</td>\n      <td>0.000000</td>\n      <td>0.666667</td>\n      <td>0.0</td>\n      <td>0.727273</td>\n      <td>0.727273</td>\n    </tr>\n    <tr>\n      <th>8</th>\n      <td>2295261</td>\n      <td>1</td>\n      <td>prior</td>\n      <td>9</td>\n      <td>1</td>\n      <td>16</td>\n      <td>0.0</td>\n      <td>0.0</td>\n      <td>6</td>\n      <td>146</td>\n      <td>0.000000</td>\n      <td>1.000000</td>\n      <td>0.0</td>\n      <td>0.818182</td>\n      <td>0.818182</td>\n    </tr>\n    <tr>\n      <th>9</th>\n      <td>2550362</td>\n      <td>1</td>\n      <td>prior</td>\n      <td>10</td>\n      <td>4</td>\n      <td>8</td>\n      <td>30.0</td>\n      <td>0.0</td>\n      <td>9</td>\n      <td>176</td>\n      <td>0.000000</td>\n      <td>0.666667</td>\n      <td>0.0</td>\n      <td>0.909091</td>\n      <td>0.909091</td>\n    </tr>\n    <tr>\n      <th>10</th>\n      <td>1187899</td>\n      <td>1</td>\n      <td>train</td>\n      <td>11</td>\n      <td>4</td>\n      <td>8</td>\n      <td>14.0</td>\n      <td>NaN</td>\n      <td>11</td>\n      <td>190</td>\n      <td>0.000000</td>\n      <td>0.909091</td>\n      <td>0.0</td>\n      <td>1.000000</td>\n      <td>1.000000</td>\n    </tr>\n    <tr>\n      <th>11</th>\n      <td>2168274</td>\n      <td>2</td>\n      <td>prior</td>\n      <td>1</td>\n      <td>2</td>\n      <td>11</td>\n      <td>NaN</td>\n      <td>0.0</td>\n      <td>13</td>\n      <td>0</td>\n      <td>-1.000000</td>\n      <td>0.000000</td>\n      <td>-1.0</td>\n      <td>0.066667</td>\n      <td>0.066667</td>\n    </tr>\n    <tr>\n      <th>12</th>\n      <td>1501582</td>\n      <td>2</td>\n      <td>prior</td>\n      <td>2</td>\n      <td>5</td>\n      <td>10</td>\n      <td>10.0</td>\n      <td>0.0</td>\n      <td>6</td>\n      <td>10</td>\n      <td>0.000000</td>\n      <td>0.166667</td>\n      <td>0.0</td>\n      <td>0.133333</td>\n      <td>0.133333</td>\n    </tr>\n    <tr>\n      <th>13</th>\n      <td>1901567</td>\n      <td>2</td>\n      <td>prior</td>\n      <td>3</td>\n      <td>1</td>\n      <td>10</td>\n      <td>3.0</td>\n      <td>1.0</td>\n      <td>5</td>\n      <td>13</td>\n      <td>0.000000</td>\n      <td>0.600000</td>\n      <td>0.0</td>\n      <td>0.200000</td>\n      <td>0.200000</td>\n    </tr>\n    <tr>\n      <th>14</th>\n      <td>738281</td>\n      <td>2</td>\n      <td>prior</td>\n      <td>4</td>\n      <td>2</td>\n      <td>10</td>\n      <td>8.0</td>\n      <td>0.0</td>\n      <td>13</td>\n      <td>21</td>\n      <td>0.333333</td>\n      <td>0.076923</td>\n      <td>1.0</td>\n      <td>0.266667</td>\n      <td>0.266667</td>\n    </tr>\n    <tr>\n      <th>15</th>\n      <td>1673511</td>\n      <td>2</td>\n      <td>prior</td>\n      <td>5</td>\n      <td>3</td>\n      <td>11</td>\n      <td>8.0</td>\n      <td>1.0</td>\n      <td>13</td>\n      <td>29</td>\n      <td>0.250000</td>\n      <td>0.076923</td>\n      <td>0.0</td>\n      <td>0.333333</td>\n      <td>0.333333</td>\n    </tr>\n    <tr>\n      <th>16</th>\n      <td>1199898</td>\n      <td>2</td>\n      <td>prior</td>\n      <td>6</td>\n      <td>2</td>\n      <td>9</td>\n      <td>13.0</td>\n      <td>0.0</td>\n      <td>21</td>\n      <td>42</td>\n      <td>0.400000</td>\n      <td>0.571429</td>\n      <td>1.0</td>\n      <td>0.400000</td>\n      <td>0.400000</td>\n    </tr>\n    <tr>\n      <th>17</th>\n      <td>3194192</td>\n      <td>2</td>\n      <td>prior</td>\n      <td>7</td>\n      <td>2</td>\n      <td>12</td>\n      <td>14.0</td>\n      <td>1.0</td>\n      <td>14</td>\n      <td>56</td>\n      <td>0.333333</td>\n      <td>0.785714</td>\n      <td>0.0</td>\n      <td>0.466667</td>\n      <td>0.466667</td>\n    </tr>\n    <tr>\n      <th>18</th>\n      <td>788338</td>\n      <td>2</td>\n      <td>prior</td>\n      <td>8</td>\n      <td>1</td>\n      <td>15</td>\n      <td>27.0</td>\n      <td>1.0</td>\n      <td>16</td>\n      <td>83</td>\n      <td>0.428571</td>\n      <td>0.562500</td>\n      <td>1.0</td>\n      <td>0.533333</td>\n      <td>0.533333</td>\n    </tr>\n    <tr>\n      <th>19</th>\n      <td>1718559</td>\n      <td>2</td>\n      <td>prior</td>\n      <td>9</td>\n      <td>2</td>\n      <td>9</td>\n      <td>8.0</td>\n      <td>1.0</td>\n      <td>26</td>\n      <td>91</td>\n      <td>0.500000</td>\n      <td>0.538462</td>\n      <td>1.0</td>\n      <td>0.600000</td>\n      <td>0.600000</td>\n    </tr>\n    <tr>\n      <th>20</th>\n      <td>1447487</td>\n      <td>2</td>\n      <td>prior</td>\n      <td>10</td>\n      <td>1</td>\n      <td>11</td>\n      <td>6.0</td>\n      <td>1.0</td>\n      <td>9</td>\n      <td>97</td>\n      <td>0.555556</td>\n      <td>0.888889</td>\n      <td>1.0</td>\n      <td>0.666667</td>\n      <td>0.666667</td>\n    </tr>\n    <tr>\n      <th>21</th>\n      <td>1402090</td>\n      <td>2</td>\n      <td>prior</td>\n      <td>11</td>\n      <td>1</td>\n      <td>10</td>\n      <td>30.0</td>\n      <td>1.0</td>\n      <td>15</td>\n      <td>127</td>\n      <td>0.600000</td>\n      <td>0.800000</td>\n      <td>1.0</td>\n      <td>0.733333</td>\n      <td>0.733333</td>\n    </tr>\n    <tr>\n      <th>22</th>\n      <td>3186735</td>\n      <td>2</td>\n      <td>prior</td>\n      <td>12</td>\n      <td>1</td>\n      <td>9</td>\n      <td>28.0</td>\n      <td>1.0</td>\n      <td>19</td>\n      <td>155</td>\n      <td>0.636364</td>\n      <td>0.578947</td>\n      <td>1.0</td>\n      <td>0.800000</td>\n      <td>0.800000</td>\n    </tr>\n    <tr>\n      <th>23</th>\n      <td>3268552</td>\n      <td>2</td>\n      <td>prior</td>\n      <td>13</td>\n      <td>4</td>\n      <td>11</td>\n      <td>30.0</td>\n      <td>0.0</td>\n      <td>9</td>\n      <td>185</td>\n      <td>0.666667</td>\n      <td>0.000000</td>\n      <td>1.0</td>\n      <td>0.866667</td>\n      <td>0.866667</td>\n    </tr>\n    <tr>\n      <th>24</th>\n      <td>839880</td>\n      <td>2</td>\n      <td>prior</td>\n      <td>14</td>\n      <td>3</td>\n      <td>10</td>\n      <td>13.0</td>\n      <td>0.0</td>\n      <td>16</td>\n      <td>198</td>\n      <td>0.615385</td>\n      <td>0.625000</td>\n      <td>0.0</td>\n      <td>0.933333</td>\n      <td>0.933333</td>\n    </tr>\n  </tbody>\n</table>\n</div>"
     },
     "execution_count": 20,
     "metadata": {},
     "output_type": "execute_result"
    }
   ],
   "source": [
    "data_manager.get_orders_tip().head(25)"
   ]
  },
  {
   "cell_type": "code",
   "execution_count": 21,
   "id": "e35d205a2cb3a9a7",
   "metadata": {
    "collapsed": false,
    "ExecuteTime": {
     "end_time": "2024-05-28T16:51:40.726330900Z",
     "start_time": "2024-05-28T16:51:40.536844500Z"
    }
   },
   "outputs": [
    {
     "name": "stdout",
     "output_type": "stream",
     "text": [
      "Number of orders: 3346083\n",
      "Number of orders did not change: True\n",
      "\n",
      "Number of NaN or null values in each column:\n",
      "order_id                       0\n",
      "user_id                        0\n",
      "eval_set                       0\n",
      "order_number                   0\n",
      "order_dow                      0\n",
      "order_hour_of_day              0\n",
      "days_since_prior_order    206209\n",
      "tip                       131209\n",
      "order_size                     0\n",
      "customer_lifetime              0\n",
      "tip_history                    0\n",
      "reordered_ratio                0\n",
      "prev_order_tipped              0\n",
      "dynamic_feature_test_1         0\n",
      "dynamic_feature_test_2         0\n",
      "dtype: int64\n"
     ]
    }
   ],
   "source": [
    "print(f\"Number of orders: {len(data_manager.get_orders_tip())}\")\n",
    "print(f\"Number of orders did not change: {order_amount == len(data_manager.get_orders_tip())}\\n\")\n",
    "print(f\"Number of NaN or null values in each column:\\n{data_manager.get_orders_tip().isnull().sum()}\")"
   ]
  },
  {
   "cell_type": "code",
   "outputs": [
    {
     "data": {
      "text/plain": "    order_id  user_id eval_set  order_number  order_dow  order_hour_of_day  \\\n0    2539329        1    prior             1          2                  8   \n1    2398795        1    prior             2          3                  7   \n2     473747        1    prior             3          3                 12   \n3    2254736        1    prior             4          4                  7   \n4    2168274        2    prior             1          2                 11   \n5    1501582        2    prior             2          5                 10   \n6    1901567        2    prior             3          1                 10   \n7     738281        2    prior             4          2                 10   \n8    1374495        3    prior             1          1                 14   \n9     444309        3    prior             2          3                 19   \n10   3002854        3    prior             3          3                 16   \n11   2037211        3    prior             4          2                 18   \n12   3343014        4    prior             1          6                 11   \n13   2030307        4    prior             2          4                 11   \n14    691089        4    prior             3          4                 15   \n15     94891        4    prior             4          5                 13   \n16   2717275        5    prior             1          3                 12   \n17   1909121        5    prior             2          0                 16   \n18   2267326        5    prior             3          3                 18   \n19    157374        5    prior             4          1                 18   \n20   2086598        6    prior             1          5                 18   \n21    298250        6    prior             2          4                 16   \n22    998866        6    prior             3          2                 18   \n23   2565571        7    prior             1          3                  9   \n24   2402008        7    prior             2          1                 19   \n\n    days_since_prior_order  tip  order_size  customer_lifetime  tip_history  \\\n0                      NaN  0.0           5                  0    -1.000000   \n1                     15.0  0.0           6                 15     0.000000   \n2                     21.0  0.0           5                 36     0.000000   \n3                     29.0  0.0           5                 65     0.000000   \n4                      NaN  0.0          13                  0    -1.000000   \n5                     10.0  0.0           6                 10     0.000000   \n6                      3.0  1.0           5                 13     0.000000   \n7                      8.0  0.0          13                 21     0.333333   \n8                      NaN  1.0          10                  0    -1.000000   \n9                      9.0  1.0           9                  9     1.000000   \n10                    21.0  1.0           6                 30     1.000000   \n11                    20.0  1.0           5                 50     1.000000   \n12                     NaN  0.0           4                  0    -1.000000   \n13                    19.0  0.0           2                 19     0.000000   \n14                    21.0  0.0           7                 40     0.000000   \n15                    15.0  0.0           2                 55     0.000000   \n16                     NaN  0.0          11                  0    -1.000000   \n17                    11.0  1.0           9                 11     0.000000   \n18                    10.0  0.0           5                 21     0.500000   \n19                    19.0  1.0          12                 40     0.333333   \n20                     NaN  0.0           4                  0    -1.000000   \n21                     6.0  0.0           7                  6     0.000000   \n22                    12.0  0.0           3                 18     0.000000   \n23                     NaN  0.0          12                  0    -1.000000   \n24                    30.0  0.0          21                 30     0.000000   \n\n    reordered_ratio  prev_order_tipped  dynamic_feature_test_1  \\\n0          0.000000               -1.0                0.250000   \n1          0.500000                0.0                0.500000   \n2          0.600000                0.0                0.750000   \n3          1.000000                0.0                1.000000   \n4          0.000000               -1.0                0.250000   \n5          0.166667                0.0                0.500000   \n6          0.600000                0.0                0.750000   \n7          0.076923                1.0                1.000000   \n8          0.000000               -1.0                0.250000   \n9          0.333333                1.0                0.500000   \n10         0.500000                1.0                0.750000   \n11         0.200000                1.0                1.000000   \n12         0.000000               -1.0                0.250000   \n13         0.000000                0.0                0.500000   \n14         0.142857                0.0                0.750000   \n15         0.000000                0.0                1.000000   \n16         0.000000               -1.0                0.250000   \n17         0.444444                0.0                0.500000   \n18         0.400000                1.0                0.750000   \n19         0.666667                0.0                1.000000   \n20         0.000000               -1.0                0.333333   \n21         0.285714                0.0                0.666667   \n22         0.000000                0.0                1.000000   \n23         0.000000               -1.0                0.250000   \n24         0.190476                0.0                0.500000   \n\n    dynamic_feature_test_2  \n0                 0.250000  \n1                 0.500000  \n2                 0.750000  \n3                 1.000000  \n4                 0.250000  \n5                 0.500000  \n6                 0.750000  \n7                 1.000000  \n8                 0.250000  \n9                 0.500000  \n10                0.750000  \n11                1.000000  \n12                0.250000  \n13                0.500000  \n14                0.750000  \n15                1.000000  \n16                0.250000  \n17                0.500000  \n18                0.750000  \n19                1.000000  \n20                0.333333  \n21                0.666667  \n22                1.000000  \n23                0.250000  \n24                0.500000  ",
      "text/html": "<div>\n<style scoped>\n    .dataframe tbody tr th:only-of-type {\n        vertical-align: middle;\n    }\n\n    .dataframe tbody tr th {\n        vertical-align: top;\n    }\n\n    .dataframe thead th {\n        text-align: right;\n    }\n</style>\n<table border=\"1\" class=\"dataframe\">\n  <thead>\n    <tr style=\"text-align: right;\">\n      <th></th>\n      <th>order_id</th>\n      <th>user_id</th>\n      <th>eval_set</th>\n      <th>order_number</th>\n      <th>order_dow</th>\n      <th>order_hour_of_day</th>\n      <th>days_since_prior_order</th>\n      <th>tip</th>\n      <th>order_size</th>\n      <th>customer_lifetime</th>\n      <th>tip_history</th>\n      <th>reordered_ratio</th>\n      <th>prev_order_tipped</th>\n      <th>dynamic_feature_test_1</th>\n      <th>dynamic_feature_test_2</th>\n    </tr>\n  </thead>\n  <tbody>\n    <tr>\n      <th>0</th>\n      <td>2539329</td>\n      <td>1</td>\n      <td>prior</td>\n      <td>1</td>\n      <td>2</td>\n      <td>8</td>\n      <td>NaN</td>\n      <td>0.0</td>\n      <td>5</td>\n      <td>0</td>\n      <td>-1.000000</td>\n      <td>0.000000</td>\n      <td>-1.0</td>\n      <td>0.250000</td>\n      <td>0.250000</td>\n    </tr>\n    <tr>\n      <th>1</th>\n      <td>2398795</td>\n      <td>1</td>\n      <td>prior</td>\n      <td>2</td>\n      <td>3</td>\n      <td>7</td>\n      <td>15.0</td>\n      <td>0.0</td>\n      <td>6</td>\n      <td>15</td>\n      <td>0.000000</td>\n      <td>0.500000</td>\n      <td>0.0</td>\n      <td>0.500000</td>\n      <td>0.500000</td>\n    </tr>\n    <tr>\n      <th>2</th>\n      <td>473747</td>\n      <td>1</td>\n      <td>prior</td>\n      <td>3</td>\n      <td>3</td>\n      <td>12</td>\n      <td>21.0</td>\n      <td>0.0</td>\n      <td>5</td>\n      <td>36</td>\n      <td>0.000000</td>\n      <td>0.600000</td>\n      <td>0.0</td>\n      <td>0.750000</td>\n      <td>0.750000</td>\n    </tr>\n    <tr>\n      <th>3</th>\n      <td>2254736</td>\n      <td>1</td>\n      <td>prior</td>\n      <td>4</td>\n      <td>4</td>\n      <td>7</td>\n      <td>29.0</td>\n      <td>0.0</td>\n      <td>5</td>\n      <td>65</td>\n      <td>0.000000</td>\n      <td>1.000000</td>\n      <td>0.0</td>\n      <td>1.000000</td>\n      <td>1.000000</td>\n    </tr>\n    <tr>\n      <th>4</th>\n      <td>2168274</td>\n      <td>2</td>\n      <td>prior</td>\n      <td>1</td>\n      <td>2</td>\n      <td>11</td>\n      <td>NaN</td>\n      <td>0.0</td>\n      <td>13</td>\n      <td>0</td>\n      <td>-1.000000</td>\n      <td>0.000000</td>\n      <td>-1.0</td>\n      <td>0.250000</td>\n      <td>0.250000</td>\n    </tr>\n    <tr>\n      <th>5</th>\n      <td>1501582</td>\n      <td>2</td>\n      <td>prior</td>\n      <td>2</td>\n      <td>5</td>\n      <td>10</td>\n      <td>10.0</td>\n      <td>0.0</td>\n      <td>6</td>\n      <td>10</td>\n      <td>0.000000</td>\n      <td>0.166667</td>\n      <td>0.0</td>\n      <td>0.500000</td>\n      <td>0.500000</td>\n    </tr>\n    <tr>\n      <th>6</th>\n      <td>1901567</td>\n      <td>2</td>\n      <td>prior</td>\n      <td>3</td>\n      <td>1</td>\n      <td>10</td>\n      <td>3.0</td>\n      <td>1.0</td>\n      <td>5</td>\n      <td>13</td>\n      <td>0.000000</td>\n      <td>0.600000</td>\n      <td>0.0</td>\n      <td>0.750000</td>\n      <td>0.750000</td>\n    </tr>\n    <tr>\n      <th>7</th>\n      <td>738281</td>\n      <td>2</td>\n      <td>prior</td>\n      <td>4</td>\n      <td>2</td>\n      <td>10</td>\n      <td>8.0</td>\n      <td>0.0</td>\n      <td>13</td>\n      <td>21</td>\n      <td>0.333333</td>\n      <td>0.076923</td>\n      <td>1.0</td>\n      <td>1.000000</td>\n      <td>1.000000</td>\n    </tr>\n    <tr>\n      <th>8</th>\n      <td>1374495</td>\n      <td>3</td>\n      <td>prior</td>\n      <td>1</td>\n      <td>1</td>\n      <td>14</td>\n      <td>NaN</td>\n      <td>1.0</td>\n      <td>10</td>\n      <td>0</td>\n      <td>-1.000000</td>\n      <td>0.000000</td>\n      <td>-1.0</td>\n      <td>0.250000</td>\n      <td>0.250000</td>\n    </tr>\n    <tr>\n      <th>9</th>\n      <td>444309</td>\n      <td>3</td>\n      <td>prior</td>\n      <td>2</td>\n      <td>3</td>\n      <td>19</td>\n      <td>9.0</td>\n      <td>1.0</td>\n      <td>9</td>\n      <td>9</td>\n      <td>1.000000</td>\n      <td>0.333333</td>\n      <td>1.0</td>\n      <td>0.500000</td>\n      <td>0.500000</td>\n    </tr>\n    <tr>\n      <th>10</th>\n      <td>3002854</td>\n      <td>3</td>\n      <td>prior</td>\n      <td>3</td>\n      <td>3</td>\n      <td>16</td>\n      <td>21.0</td>\n      <td>1.0</td>\n      <td>6</td>\n      <td>30</td>\n      <td>1.000000</td>\n      <td>0.500000</td>\n      <td>1.0</td>\n      <td>0.750000</td>\n      <td>0.750000</td>\n    </tr>\n    <tr>\n      <th>11</th>\n      <td>2037211</td>\n      <td>3</td>\n      <td>prior</td>\n      <td>4</td>\n      <td>2</td>\n      <td>18</td>\n      <td>20.0</td>\n      <td>1.0</td>\n      <td>5</td>\n      <td>50</td>\n      <td>1.000000</td>\n      <td>0.200000</td>\n      <td>1.0</td>\n      <td>1.000000</td>\n      <td>1.000000</td>\n    </tr>\n    <tr>\n      <th>12</th>\n      <td>3343014</td>\n      <td>4</td>\n      <td>prior</td>\n      <td>1</td>\n      <td>6</td>\n      <td>11</td>\n      <td>NaN</td>\n      <td>0.0</td>\n      <td>4</td>\n      <td>0</td>\n      <td>-1.000000</td>\n      <td>0.000000</td>\n      <td>-1.0</td>\n      <td>0.250000</td>\n      <td>0.250000</td>\n    </tr>\n    <tr>\n      <th>13</th>\n      <td>2030307</td>\n      <td>4</td>\n      <td>prior</td>\n      <td>2</td>\n      <td>4</td>\n      <td>11</td>\n      <td>19.0</td>\n      <td>0.0</td>\n      <td>2</td>\n      <td>19</td>\n      <td>0.000000</td>\n      <td>0.000000</td>\n      <td>0.0</td>\n      <td>0.500000</td>\n      <td>0.500000</td>\n    </tr>\n    <tr>\n      <th>14</th>\n      <td>691089</td>\n      <td>4</td>\n      <td>prior</td>\n      <td>3</td>\n      <td>4</td>\n      <td>15</td>\n      <td>21.0</td>\n      <td>0.0</td>\n      <td>7</td>\n      <td>40</td>\n      <td>0.000000</td>\n      <td>0.142857</td>\n      <td>0.0</td>\n      <td>0.750000</td>\n      <td>0.750000</td>\n    </tr>\n    <tr>\n      <th>15</th>\n      <td>94891</td>\n      <td>4</td>\n      <td>prior</td>\n      <td>4</td>\n      <td>5</td>\n      <td>13</td>\n      <td>15.0</td>\n      <td>0.0</td>\n      <td>2</td>\n      <td>55</td>\n      <td>0.000000</td>\n      <td>0.000000</td>\n      <td>0.0</td>\n      <td>1.000000</td>\n      <td>1.000000</td>\n    </tr>\n    <tr>\n      <th>16</th>\n      <td>2717275</td>\n      <td>5</td>\n      <td>prior</td>\n      <td>1</td>\n      <td>3</td>\n      <td>12</td>\n      <td>NaN</td>\n      <td>0.0</td>\n      <td>11</td>\n      <td>0</td>\n      <td>-1.000000</td>\n      <td>0.000000</td>\n      <td>-1.0</td>\n      <td>0.250000</td>\n      <td>0.250000</td>\n    </tr>\n    <tr>\n      <th>17</th>\n      <td>1909121</td>\n      <td>5</td>\n      <td>prior</td>\n      <td>2</td>\n      <td>0</td>\n      <td>16</td>\n      <td>11.0</td>\n      <td>1.0</td>\n      <td>9</td>\n      <td>11</td>\n      <td>0.000000</td>\n      <td>0.444444</td>\n      <td>0.0</td>\n      <td>0.500000</td>\n      <td>0.500000</td>\n    </tr>\n    <tr>\n      <th>18</th>\n      <td>2267326</td>\n      <td>5</td>\n      <td>prior</td>\n      <td>3</td>\n      <td>3</td>\n      <td>18</td>\n      <td>10.0</td>\n      <td>0.0</td>\n      <td>5</td>\n      <td>21</td>\n      <td>0.500000</td>\n      <td>0.400000</td>\n      <td>1.0</td>\n      <td>0.750000</td>\n      <td>0.750000</td>\n    </tr>\n    <tr>\n      <th>19</th>\n      <td>157374</td>\n      <td>5</td>\n      <td>prior</td>\n      <td>4</td>\n      <td>1</td>\n      <td>18</td>\n      <td>19.0</td>\n      <td>1.0</td>\n      <td>12</td>\n      <td>40</td>\n      <td>0.333333</td>\n      <td>0.666667</td>\n      <td>0.0</td>\n      <td>1.000000</td>\n      <td>1.000000</td>\n    </tr>\n    <tr>\n      <th>20</th>\n      <td>2086598</td>\n      <td>6</td>\n      <td>prior</td>\n      <td>1</td>\n      <td>5</td>\n      <td>18</td>\n      <td>NaN</td>\n      <td>0.0</td>\n      <td>4</td>\n      <td>0</td>\n      <td>-1.000000</td>\n      <td>0.000000</td>\n      <td>-1.0</td>\n      <td>0.333333</td>\n      <td>0.333333</td>\n    </tr>\n    <tr>\n      <th>21</th>\n      <td>298250</td>\n      <td>6</td>\n      <td>prior</td>\n      <td>2</td>\n      <td>4</td>\n      <td>16</td>\n      <td>6.0</td>\n      <td>0.0</td>\n      <td>7</td>\n      <td>6</td>\n      <td>0.000000</td>\n      <td>0.285714</td>\n      <td>0.0</td>\n      <td>0.666667</td>\n      <td>0.666667</td>\n    </tr>\n    <tr>\n      <th>22</th>\n      <td>998866</td>\n      <td>6</td>\n      <td>prior</td>\n      <td>3</td>\n      <td>2</td>\n      <td>18</td>\n      <td>12.0</td>\n      <td>0.0</td>\n      <td>3</td>\n      <td>18</td>\n      <td>0.000000</td>\n      <td>0.000000</td>\n      <td>0.0</td>\n      <td>1.000000</td>\n      <td>1.000000</td>\n    </tr>\n    <tr>\n      <th>23</th>\n      <td>2565571</td>\n      <td>7</td>\n      <td>prior</td>\n      <td>1</td>\n      <td>3</td>\n      <td>9</td>\n      <td>NaN</td>\n      <td>0.0</td>\n      <td>12</td>\n      <td>0</td>\n      <td>-1.000000</td>\n      <td>0.000000</td>\n      <td>-1.0</td>\n      <td>0.250000</td>\n      <td>0.250000</td>\n    </tr>\n    <tr>\n      <th>24</th>\n      <td>2402008</td>\n      <td>7</td>\n      <td>prior</td>\n      <td>2</td>\n      <td>1</td>\n      <td>19</td>\n      <td>30.0</td>\n      <td>0.0</td>\n      <td>21</td>\n      <td>30</td>\n      <td>0.000000</td>\n      <td>0.190476</td>\n      <td>0.0</td>\n      <td>0.500000</td>\n      <td>0.500000</td>\n    </tr>\n  </tbody>\n</table>\n</div>"
     },
     "execution_count": 22,
     "metadata": {},
     "output_type": "execute_result"
    }
   ],
   "source": [
    "order_ids = data_manager.get_orders_tip(complete=True).groupby('user_id')['order_id'].head(4)\n",
    "order_amount = len(order_ids)\n",
    "\n",
    "data_manager.set_subset(order_ids)\n",
    "data_manager.get_orders_tip().head(25)"
   ],
   "metadata": {
    "collapsed": false,
    "ExecuteTime": {
     "end_time": "2024-05-28T16:51:43.651063300Z",
     "start_time": "2024-05-28T16:51:40.714929300Z"
    }
   },
   "id": "f74c035a9f150c03",
   "execution_count": 22
  },
  {
   "cell_type": "code",
   "outputs": [
    {
     "name": "stdout",
     "output_type": "stream",
     "text": [
      "Number of orders: 816150\n",
      "Number of orders did not change: True\n",
      "\n",
      "Number of NaN or null values in each column:\n",
      "order_id                       0\n",
      "user_id                        0\n",
      "eval_set                       0\n",
      "order_number                   0\n",
      "order_dow                      0\n",
      "order_hour_of_day              0\n",
      "days_since_prior_order    206209\n",
      "tip                        15300\n",
      "order_size                     0\n",
      "customer_lifetime              0\n",
      "tip_history                    0\n",
      "reordered_ratio                0\n",
      "prev_order_tipped              0\n",
      "dynamic_feature_test_1         0\n",
      "dynamic_feature_test_2         0\n",
      "dtype: int64\n"
     ]
    }
   ],
   "source": [
    "print(f\"Number of orders: {len(data_manager.get_orders_tip())}\")\n",
    "print(f\"Number of orders did not change: {order_amount == len(data_manager.get_orders_tip())}\\n\")\n",
    "print(f\"Number of NaN or null values in each column:\\n{data_manager.get_orders_tip().isnull().sum()}\")"
   ],
   "metadata": {
    "collapsed": false,
    "ExecuteTime": {
     "end_time": "2024-05-28T16:51:43.771917700Z",
     "start_time": "2024-05-28T16:51:43.653292200Z"
    }
   },
   "id": "9ec949cdfc48d38e",
   "execution_count": 23
  },
  {
   "cell_type": "markdown",
   "id": "d571331aa19136d5",
   "metadata": {
    "collapsed": false
   },
   "source": [
    "### Analysis"
   ]
  },
  {
   "cell_type": "code",
   "outputs": [
    {
     "ename": "AttributeError",
     "evalue": "'ExampleAnalysis' object has no attribute 'plot'",
     "output_type": "error",
     "traceback": [
      "\u001B[1;31m---------------------------------------------------------------------------\u001B[0m",
      "\u001B[1;31mAttributeError\u001B[0m                            Traceback (most recent call last)",
      "Cell \u001B[1;32mIn[24], line 5\u001B[0m\n\u001B[0;32m      3\u001B[0m analysis \u001B[38;5;241m=\u001B[39m ExampleAnalysis(data_manager)\n\u001B[0;32m      4\u001B[0m analysis\u001B[38;5;241m.\u001B[39manalyze()\n\u001B[1;32m----> 5\u001B[0m \u001B[43manalysis\u001B[49m\u001B[38;5;241;43m.\u001B[39;49m\u001B[43mplot\u001B[49m()\n",
      "\u001B[1;31mAttributeError\u001B[0m: 'ExampleAnalysis' object has no attribute 'plot'"
     ]
    }
   ],
   "source": [
    "from analysis import ExampleAnalysis\n",
    "\n",
    "analysis = ExampleAnalysis(data_manager)\n",
    "analysis.analyze()\n",
    "analysis.plot()"
   ],
   "metadata": {
    "collapsed": false,
    "ExecuteTime": {
     "end_time": "2024-05-28T16:51:43.772497300Z",
     "start_time": "2024-05-28T16:51:43.705395600Z"
    }
   },
   "id": "a09a31448a99e7e0",
   "execution_count": 24
  },
  {
   "cell_type": "markdown",
   "id": "9038d3d52fbf8ad1",
   "metadata": {
    "collapsed": false
   },
   "source": [
    "### Model Training & Evaluation"
   ]
  },
  {
   "cell_type": "code",
   "execution_count": null,
   "id": "a9f00ea58f4da04e",
   "metadata": {
    "collapsed": false,
    "ExecuteTime": {
     "start_time": "2024-05-28T16:51:43.733110200Z"
    }
   },
   "outputs": [],
   "source": []
  }
 ],
 "metadata": {
  "kernelspec": {
   "name": "python3",
   "language": "python",
   "display_name": "Python 3 (ipykernel)"
  },
  "language_info": {
   "codemirror_mode": {
    "name": "ipython",
    "version": 3
   },
   "file_extension": ".py",
   "mimetype": "text/x-python",
   "name": "python",
   "nbconvert_exporter": "python",
   "pygments_lexer": "ipython3",
   "version": "3.11.8"
  }
 },
 "nbformat": 4,
 "nbformat_minor": 5
}
