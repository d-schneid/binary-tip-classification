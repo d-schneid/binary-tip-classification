{
 "cells": [
  {
   "cell_type": "markdown",
   "id": "7aea19f30bc2952",
   "metadata": {
    "collapsed": false
   },
   "source": [
    "# Data Science Project SoSe 2024\n",
    "## Team 07\n",
    "- Maximilian Hoffmann\n",
    "- Kilian Kempf\n",
    "- Daniel Schneider\n",
    "- Tom Schuck\n",
    "\n",
    "## Project Submission"
   ]
  },
  {
   "cell_type": "markdown",
   "id": "b1817857eb895437",
   "metadata": {
    "collapsed": false
   },
   "source": [
    "### Data Initialization"
   ]
  },
  {
   "cell_type": "code",
   "id": "2ac69658072618d1",
   "metadata": {
    "collapsed": false,
    "ExecuteTime": {
     "end_time": "2024-06-17T19:53:16.235544800Z",
     "start_time": "2024-06-17T19:52:42.883369800Z"
    }
   },
   "source": [
    "import os\n",
    "\n",
    "import pandas as pd\n",
    "\n",
    "from data_management import DataManager\n",
    "\n",
    "DATA_DIR = os.path.join(os.getcwd(), 'data/Instacart')\n",
    "\n",
    "op_prior = pd.read_csv(os.path.join(DATA_DIR, 'order_products__prior.csv.zip'))\n",
    "op_train = pd.read_csv(os.path.join(DATA_DIR, 'order_products__train.csv.zip'))\n",
    "\n",
    "tip_train = pd.read_csv(os.path.join(DATA_DIR, 'tip_trainingsdaten1_.csv'))[['order_id', 'tip']]\n",
    "tip_test = pd.read_csv(os.path.join(DATA_DIR, 'tip_testdaten1_template.csv'))\n",
    "\n",
    "orders = pd.read_csv(os.path.join(DATA_DIR, 'orders.csv.zip'))\n",
    "aisles = pd.read_csv(os.path.join(DATA_DIR, 'aisles.csv.zip'))\n",
    "departments = pd.read_csv(os.path.join(DATA_DIR, 'departments.csv.zip'))\n",
    "products = pd.read_csv(os.path.join(DATA_DIR, 'products.csv.zip'))\n",
    "\n",
    "data_manager = DataManager(op_prior, op_train, tip_train, tip_test, orders, products, aisles, departments)\n",
    "order_amount = len(data_manager.get_orders_tip())"
   ],
   "outputs": [],
   "execution_count": 1
  },
  {
   "cell_type": "markdown",
   "id": "d11d62b342b9ebc8",
   "metadata": {
    "collapsed": false
   },
   "source": [
    "### Feature Engineering"
   ]
  },
  {
   "cell_type": "code",
   "outputs": [],
   "source": [
    "from feature_engineering.static_features import TipHistory, ReorderedRatio, OrderSize, PrevTippedProductsRatio, \\\n",
    "    CustomerLifetime, PrevOrderTipped, OrderFrequency, SimOrdersTipRatio, AvgSizePrevOrders, MeanOrderedRate, \\\n",
    "    LastTipSequence, RelDaysSinceTip, DaysSinceTip, OrderNumberSquared, HodHighTipProbability, DowHighTipProbability, \\\n",
    "    ContainsAlcohol\n",
    "\n",
    "from feature_engineering.dynamic_features import ProductTipRate, DepartmentTipRate, AisleTipRate, DynamicFeatureTest1, \\\n",
    "    DynamicFeatureTest2, AssocRulesAisles, AssocRulesDepartments\n",
    "\n",
    "# Kilian\n",
    "tip_history = TipHistory()\n",
    "reordered_rate = ReorderedRatio()\n",
    "order_size = OrderSize()\n",
    "prev_tipped_products_ratio = PrevTippedProductsRatio()\n",
    "customer_lifetime = CustomerLifetime()\n",
    "prev_order_tipped = PrevOrderTipped()\n",
    "\n",
    "# Daniel\n",
    "order_frequency = OrderFrequency()\n",
    "mean_ordered_rate = MeanOrderedRate()\n",
    "rel_days_since_tip = RelDaysSinceTip()\n",
    "days_since_tip = DaysSinceTip()\n",
    "\n",
    "# Max\n",
    "sim_orders_tip_ratio = SimOrdersTipRatio()\n",
    "product_tip_rate = ProductTipRate()\n",
    "department_tip_rate = DepartmentTipRate()\n",
    "aisle_tip_rate = AisleTipRate()\n",
    "last_tip_sequence = LastTipSequence()\n",
    "\n",
    "# Tom\n",
    "avg_size_prev_orders = AvgSizePrevOrders()\n",
    "\n",
    "# Features analysis\n",
    "order_number_squared = OrderNumberSquared()\n",
    "hod_high_tip_probability = HodHighTipProbability()\n",
    "dow_high_tip_probability = DowHighTipProbability()\n",
    "contains_alcohol = ContainsAlcohol()\n",
    "\n",
    "assoc_rules_departments = AssocRulesDepartments()\n",
    "assoc_rules_aisles = AssocRulesAisles()\n",
    "\n",
    "# Test\n",
    "dynamic_feature_test_1 = DynamicFeatureTest1()\n",
    "dynamic_feature_test_2 = DynamicFeatureTest2()"
   ],
   "metadata": {
    "collapsed": false,
    "ExecuteTime": {
     "end_time": "2024-06-17T19:53:16.304601400Z",
     "start_time": "2024-06-17T19:53:16.245541800Z"
    }
   },
   "id": "17146b7392a9f170",
   "execution_count": 2
  },
  {
   "cell_type": "code",
   "outputs": [],
   "source": [
    "# Static Features\n",
    "data_manager.register_feature(tip_history)\n",
    "data_manager.register_feature(reordered_rate)\n",
    "data_manager.register_feature(order_size)\n",
    "data_manager.register_feature(customer_lifetime)\n",
    "data_manager.register_feature(prev_order_tipped)\n",
    "data_manager.register_feature(prev_tipped_products_ratio)\n",
    "\n",
    "data_manager.register_feature(order_frequency)\n",
    "data_manager.register_feature(sim_orders_tip_ratio)\n",
    "data_manager.register_feature(avg_size_prev_orders)\n",
    "data_manager.register_feature(mean_ordered_rate)\n",
    "data_manager.register_feature(last_tip_sequence)\n",
    "data_manager.register_feature(rel_days_since_tip)\n",
    "data_manager.register_feature(days_since_tip)\n",
    "\n",
    "data_manager.register_feature(order_number_squared)\n",
    "data_manager.register_feature(hod_high_tip_probability)\n",
    "data_manager.register_feature(dow_high_tip_probability)\n",
    "data_manager.register_feature(contains_alcohol)\n",
    "\n",
    "# Dynamic Features\n",
    "data_manager.register_feature(dynamic_feature_test_1)\n",
    "data_manager.register_feature(dynamic_feature_test_2)\n",
    "data_manager.register_feature(product_tip_rate)\n",
    "data_manager.register_feature(department_tip_rate)\n",
    "data_manager.register_feature(aisle_tip_rate)\n",
    "\n",
    "# data_manager.register_feature(assoc_rules_departments)\n",
    "# data_manager.register_feature(assoc_rules_aisles)"
   ],
   "metadata": {
    "collapsed": false,
    "ExecuteTime": {
     "end_time": "2024-06-17T19:53:16.309122900Z",
     "start_time": "2024-06-17T19:53:16.304601400Z"
    }
   },
   "id": "76997d6c04a0b765",
   "execution_count": 3
  },
  {
   "cell_type": "code",
   "outputs": [],
   "source": [
    "# data_manager.compute_features()"
   ],
   "metadata": {
    "collapsed": false,
    "ExecuteTime": {
     "end_time": "2024-06-17T19:53:16.342030600Z",
     "start_time": "2024-06-17T19:53:16.310129Z"
    }
   },
   "id": "d99354cac4576a54",
   "execution_count": 4
  },
  {
   "cell_type": "code",
   "outputs": [
    {
     "data": {
      "text/plain": "    order_id  user_id eval_set  order_number  order_dow  order_hour_of_day  \\\n0    2539329        1    prior             1          2                  8   \n1    2398795        1    prior             2          3                  7   \n2     473747        1    prior             3          3                 12   \n3    2254736        1    prior             4          4                  7   \n4     431534        1    prior             5          4                 15   \n..       ...      ...      ...           ...        ...                ...   \n95   1916106       12    prior             3          5                  8   \n96   1057378       12    prior             4          3                  9   \n97    221248       12    prior             5          1                  9   \n98   2618231       13    prior             1          6                 12   \n99   2560699       13    prior             2          0                 11   \n\n    days_since_prior_order  tip  \n0                      NaN  0.0  \n1                     15.0  0.0  \n2                     21.0  0.0  \n3                     29.0  0.0  \n4                     28.0  0.0  \n..                     ...  ...  \n95                    14.0  0.0  \n96                    26.0  0.0  \n97                    30.0  0.0  \n98                     NaN  0.0  \n99                     8.0  1.0  \n\n[100 rows x 8 columns]",
      "text/html": "<div>\n<style scoped>\n    .dataframe tbody tr th:only-of-type {\n        vertical-align: middle;\n    }\n\n    .dataframe tbody tr th {\n        vertical-align: top;\n    }\n\n    .dataframe thead th {\n        text-align: right;\n    }\n</style>\n<table border=\"1\" class=\"dataframe\">\n  <thead>\n    <tr style=\"text-align: right;\">\n      <th></th>\n      <th>order_id</th>\n      <th>user_id</th>\n      <th>eval_set</th>\n      <th>order_number</th>\n      <th>order_dow</th>\n      <th>order_hour_of_day</th>\n      <th>days_since_prior_order</th>\n      <th>tip</th>\n    </tr>\n  </thead>\n  <tbody>\n    <tr>\n      <th>0</th>\n      <td>2539329</td>\n      <td>1</td>\n      <td>prior</td>\n      <td>1</td>\n      <td>2</td>\n      <td>8</td>\n      <td>NaN</td>\n      <td>0.0</td>\n    </tr>\n    <tr>\n      <th>1</th>\n      <td>2398795</td>\n      <td>1</td>\n      <td>prior</td>\n      <td>2</td>\n      <td>3</td>\n      <td>7</td>\n      <td>15.0</td>\n      <td>0.0</td>\n    </tr>\n    <tr>\n      <th>2</th>\n      <td>473747</td>\n      <td>1</td>\n      <td>prior</td>\n      <td>3</td>\n      <td>3</td>\n      <td>12</td>\n      <td>21.0</td>\n      <td>0.0</td>\n    </tr>\n    <tr>\n      <th>3</th>\n      <td>2254736</td>\n      <td>1</td>\n      <td>prior</td>\n      <td>4</td>\n      <td>4</td>\n      <td>7</td>\n      <td>29.0</td>\n      <td>0.0</td>\n    </tr>\n    <tr>\n      <th>4</th>\n      <td>431534</td>\n      <td>1</td>\n      <td>prior</td>\n      <td>5</td>\n      <td>4</td>\n      <td>15</td>\n      <td>28.0</td>\n      <td>0.0</td>\n    </tr>\n    <tr>\n      <th>...</th>\n      <td>...</td>\n      <td>...</td>\n      <td>...</td>\n      <td>...</td>\n      <td>...</td>\n      <td>...</td>\n      <td>...</td>\n      <td>...</td>\n    </tr>\n    <tr>\n      <th>95</th>\n      <td>1916106</td>\n      <td>12</td>\n      <td>prior</td>\n      <td>3</td>\n      <td>5</td>\n      <td>8</td>\n      <td>14.0</td>\n      <td>0.0</td>\n    </tr>\n    <tr>\n      <th>96</th>\n      <td>1057378</td>\n      <td>12</td>\n      <td>prior</td>\n      <td>4</td>\n      <td>3</td>\n      <td>9</td>\n      <td>26.0</td>\n      <td>0.0</td>\n    </tr>\n    <tr>\n      <th>97</th>\n      <td>221248</td>\n      <td>12</td>\n      <td>prior</td>\n      <td>5</td>\n      <td>1</td>\n      <td>9</td>\n      <td>30.0</td>\n      <td>0.0</td>\n    </tr>\n    <tr>\n      <th>98</th>\n      <td>2618231</td>\n      <td>13</td>\n      <td>prior</td>\n      <td>1</td>\n      <td>6</td>\n      <td>12</td>\n      <td>NaN</td>\n      <td>0.0</td>\n    </tr>\n    <tr>\n      <th>99</th>\n      <td>2560699</td>\n      <td>13</td>\n      <td>prior</td>\n      <td>2</td>\n      <td>0</td>\n      <td>11</td>\n      <td>8.0</td>\n      <td>1.0</td>\n    </tr>\n  </tbody>\n</table>\n<p>100 rows × 8 columns</p>\n</div>"
     },
     "execution_count": 5,
     "metadata": {},
     "output_type": "execute_result"
    }
   ],
   "source": [
    "data_manager.get_orders_tip().head(100)"
   ],
   "metadata": {
    "collapsed": false,
    "ExecuteTime": {
     "end_time": "2024-06-17T19:53:16.381641900Z",
     "start_time": "2024-06-17T19:53:16.314503400Z"
    }
   },
   "id": "70b61dc7a00510",
   "execution_count": 5
  },
  {
   "cell_type": "code",
   "outputs": [],
   "source": [
    "# data_manager.export_features('data/prepared_data/computed_features.csv.zip', only_static=False)"
   ],
   "metadata": {
    "collapsed": false,
    "ExecuteTime": {
     "end_time": "2024-06-17T19:53:16.409649800Z",
     "start_time": "2024-06-17T19:53:16.351074500Z"
    }
   },
   "id": "d14016190394af30",
   "execution_count": 6
  },
  {
   "cell_type": "code",
   "outputs": [],
   "source": [
    "data_manager.import_features('data/prepared_data/computed_features.csv.zip', only_static=False)"
   ],
   "metadata": {
    "collapsed": false,
    "ExecuteTime": {
     "end_time": "2024-06-17T19:53:28.360421600Z",
     "start_time": "2024-06-17T19:53:16.355092100Z"
    }
   },
   "id": "4a899901088540d5",
   "execution_count": 7
  },
  {
   "cell_type": "code",
   "outputs": [
    {
     "name": "stdout",
     "output_type": "stream",
     "text": [
      "                       Feature  Correlation\n",
      "0                  tip_history     0.559060\n",
      "1            prev_order_tipped     0.490379\n",
      "2         sim_orders_tip_ratio     0.411784\n",
      "3   prev_tipped_products_ratio     0.396700\n",
      "4            last_tip_sequence     0.339536\n",
      "5             product_tip_rate     0.276978\n",
      "6               aisle_tip_rate     0.241822\n",
      "7                dept_tip_rate     0.226838\n",
      "8     dow_high_tip_probability     0.142086\n",
      "9             contains_alcohol     0.117845\n",
      "10             reordered_ratio     0.116099\n",
      "11                order_number     0.094750\n",
      "12    hod_high_tip_probability     0.089347\n",
      "13           customer_lifetime     0.070360\n",
      "14           mean_ordered_rate     0.058233\n",
      "15        order_number_squared     0.053961\n",
      "16                  order_size     0.006547\n",
      "17        avg_size_prev_orders    -0.013932\n",
      "18      dynamic_feature_test_2    -0.023511\n",
      "19      dynamic_feature_test_1    -0.023511\n",
      "20          rel_days_since_tip    -0.120450\n",
      "21      days_since_prior_order    -0.146384\n",
      "22             order_frequency    -0.192789\n",
      "23              days_since_tip    -0.297107\n"
     ]
    }
   ],
   "source": [
    "data_manager.calculate_feature_correlations(only_static=False)"
   ],
   "metadata": {
    "collapsed": false,
    "ExecuteTime": {
     "end_time": "2024-06-17T19:53:32.859039500Z",
     "start_time": "2024-06-17T19:53:28.361435500Z"
    }
   },
   "id": "3ec12ec0c7a45cba",
   "execution_count": 8
  },
  {
   "cell_type": "code",
   "outputs": [],
   "source": [
    "# data_manager.visualize_feature_analysis(only_static=False)"
   ],
   "metadata": {
    "collapsed": false,
    "ExecuteTime": {
     "end_time": "2024-06-17T19:53:32.865440Z",
     "start_time": "2024-06-17T19:53:32.858531400Z"
    }
   },
   "id": "6b055bffe6cd4caf",
   "execution_count": 9
  },
  {
   "cell_type": "code",
   "outputs": [
    {
     "data": {
      "text/plain": "(3346083, 30)"
     },
     "execution_count": 10,
     "metadata": {},
     "output_type": "execute_result"
    }
   ],
   "source": [
    "data_manager.get_orders_tip().shape"
   ],
   "metadata": {
    "collapsed": false,
    "ExecuteTime": {
     "end_time": "2024-06-17T19:53:32.888910Z",
     "start_time": "2024-06-17T19:53:32.864048100Z"
    }
   },
   "id": "6812da6601328ed",
   "execution_count": 10
  },
  {
   "cell_type": "code",
   "outputs": [
    {
     "data": {
      "text/plain": "    order_id  user_id eval_set  order_number  order_dow  order_hour_of_day  \\\n0    2539329        1    prior             1          2                  8   \n1    2398795        1    prior             2          3                  7   \n2     473747        1    prior             3          3                 12   \n3    2254736        1    prior             4          4                  7   \n4     431534        1    prior             5          4                 15   \n..       ...      ...      ...           ...        ...                ...   \n95   1916106       12    prior             3          5                  8   \n96   1057378       12    prior             4          3                  9   \n97    221248       12    prior             5          1                  9   \n98   2618231       13    prior             1          6                 12   \n99   2560699       13    prior             2          0                 11   \n\n    days_since_prior_order  tip  contains_alcohol  prev_tipped_products_ratio  \\\n0                      NaN  0.0                 0                         NaN   \n1                     15.0  0.0                 0                         0.0   \n2                     21.0  0.0                 0                         0.0   \n3                     29.0  0.0                 0                         0.0   \n4                     28.0  0.0                 0                         0.0   \n..                     ...  ...               ...                         ...   \n95                    14.0  0.0                 0                         0.0   \n96                    26.0  0.0                 0                         0.0   \n97                    30.0  0.0                 0                         0.0   \n98                     NaN  0.0                 0                         NaN   \n99                     8.0  1.0                 0                         0.0   \n\n    ...  sim_orders_tip_ratio  order_number_squared  avg_size_prev_orders  \\\n0   ...                   NaN                     1                   NaN   \n1   ...             -0.375000                     4              0.200000   \n2   ...             -0.312500                     9             -0.090909   \n3   ...             -0.490079                    16             -0.062500   \n4   ...             -0.367677                    25              0.523810   \n..  ...                   ...                   ...                   ...   \n95  ...             -0.057692                     9              0.200000   \n96  ...             -0.056421                    16              0.875000   \n97  ...             -0.064890                    25              0.692308   \n98  ...                   NaN                     1                   NaN   \n99  ...             -0.285714                     4             -0.200000   \n\n    dow_high_tip_probability  order_size  product_tip_rate  \\\n0                          0           5         -0.214783   \n1                          0           6         -0.126002   \n2                          0           5         -0.134117   \n3                          0           5         -0.185615   \n4                          0           8         -0.063549   \n..                       ...         ...               ...   \n95                         0          12         -0.161177   \n96                         0          20         -0.092866   \n97                         1          22         -0.090662   \n98                         0           5         -0.096765   \n99                         1           4         -0.105608   \n\n    dynamic_feature_test_2  dynamic_feature_test_1  aisle_tip_rate  \\\n0                 0.090909                0.090909       -0.154412   \n1                 0.181818                0.181818       -0.128714   \n2                 0.272727                0.272727       -0.162890   \n3                 0.363636                0.363636       -0.152853   \n4                 0.454545                0.454545       -0.072083   \n..                     ...                     ...             ...   \n95                0.600000                0.600000       -0.187044   \n96                0.800000                0.800000       -0.102275   \n97                1.000000                1.000000       -0.125295   \n98                0.076923                0.076923       -0.062865   \n99                0.153846                0.153846       -0.090005   \n\n    dept_tip_rate  \n0       -0.136680  \n1       -0.128948  \n2       -0.153835  \n3       -0.136680  \n4       -0.091502  \n..            ...  \n95      -0.169895  \n96      -0.115211  \n97      -0.114649  \n98      -0.067655  \n99      -0.111548  \n\n[100 rows x 30 columns]",
      "text/html": "<div>\n<style scoped>\n    .dataframe tbody tr th:only-of-type {\n        vertical-align: middle;\n    }\n\n    .dataframe tbody tr th {\n        vertical-align: top;\n    }\n\n    .dataframe thead th {\n        text-align: right;\n    }\n</style>\n<table border=\"1\" class=\"dataframe\">\n  <thead>\n    <tr style=\"text-align: right;\">\n      <th></th>\n      <th>order_id</th>\n      <th>user_id</th>\n      <th>eval_set</th>\n      <th>order_number</th>\n      <th>order_dow</th>\n      <th>order_hour_of_day</th>\n      <th>days_since_prior_order</th>\n      <th>tip</th>\n      <th>contains_alcohol</th>\n      <th>prev_tipped_products_ratio</th>\n      <th>...</th>\n      <th>sim_orders_tip_ratio</th>\n      <th>order_number_squared</th>\n      <th>avg_size_prev_orders</th>\n      <th>dow_high_tip_probability</th>\n      <th>order_size</th>\n      <th>product_tip_rate</th>\n      <th>dynamic_feature_test_2</th>\n      <th>dynamic_feature_test_1</th>\n      <th>aisle_tip_rate</th>\n      <th>dept_tip_rate</th>\n    </tr>\n  </thead>\n  <tbody>\n    <tr>\n      <th>0</th>\n      <td>2539329</td>\n      <td>1</td>\n      <td>prior</td>\n      <td>1</td>\n      <td>2</td>\n      <td>8</td>\n      <td>NaN</td>\n      <td>0.0</td>\n      <td>0</td>\n      <td>NaN</td>\n      <td>...</td>\n      <td>NaN</td>\n      <td>1</td>\n      <td>NaN</td>\n      <td>0</td>\n      <td>5</td>\n      <td>-0.214783</td>\n      <td>0.090909</td>\n      <td>0.090909</td>\n      <td>-0.154412</td>\n      <td>-0.136680</td>\n    </tr>\n    <tr>\n      <th>1</th>\n      <td>2398795</td>\n      <td>1</td>\n      <td>prior</td>\n      <td>2</td>\n      <td>3</td>\n      <td>7</td>\n      <td>15.0</td>\n      <td>0.0</td>\n      <td>0</td>\n      <td>0.0</td>\n      <td>...</td>\n      <td>-0.375000</td>\n      <td>4</td>\n      <td>0.200000</td>\n      <td>0</td>\n      <td>6</td>\n      <td>-0.126002</td>\n      <td>0.181818</td>\n      <td>0.181818</td>\n      <td>-0.128714</td>\n      <td>-0.128948</td>\n    </tr>\n    <tr>\n      <th>2</th>\n      <td>473747</td>\n      <td>1</td>\n      <td>prior</td>\n      <td>3</td>\n      <td>3</td>\n      <td>12</td>\n      <td>21.0</td>\n      <td>0.0</td>\n      <td>0</td>\n      <td>0.0</td>\n      <td>...</td>\n      <td>-0.312500</td>\n      <td>9</td>\n      <td>-0.090909</td>\n      <td>0</td>\n      <td>5</td>\n      <td>-0.134117</td>\n      <td>0.272727</td>\n      <td>0.272727</td>\n      <td>-0.162890</td>\n      <td>-0.153835</td>\n    </tr>\n    <tr>\n      <th>3</th>\n      <td>2254736</td>\n      <td>1</td>\n      <td>prior</td>\n      <td>4</td>\n      <td>4</td>\n      <td>7</td>\n      <td>29.0</td>\n      <td>0.0</td>\n      <td>0</td>\n      <td>0.0</td>\n      <td>...</td>\n      <td>-0.490079</td>\n      <td>16</td>\n      <td>-0.062500</td>\n      <td>0</td>\n      <td>5</td>\n      <td>-0.185615</td>\n      <td>0.363636</td>\n      <td>0.363636</td>\n      <td>-0.152853</td>\n      <td>-0.136680</td>\n    </tr>\n    <tr>\n      <th>4</th>\n      <td>431534</td>\n      <td>1</td>\n      <td>prior</td>\n      <td>5</td>\n      <td>4</td>\n      <td>15</td>\n      <td>28.0</td>\n      <td>0.0</td>\n      <td>0</td>\n      <td>0.0</td>\n      <td>...</td>\n      <td>-0.367677</td>\n      <td>25</td>\n      <td>0.523810</td>\n      <td>0</td>\n      <td>8</td>\n      <td>-0.063549</td>\n      <td>0.454545</td>\n      <td>0.454545</td>\n      <td>-0.072083</td>\n      <td>-0.091502</td>\n    </tr>\n    <tr>\n      <th>...</th>\n      <td>...</td>\n      <td>...</td>\n      <td>...</td>\n      <td>...</td>\n      <td>...</td>\n      <td>...</td>\n      <td>...</td>\n      <td>...</td>\n      <td>...</td>\n      <td>...</td>\n      <td>...</td>\n      <td>...</td>\n      <td>...</td>\n      <td>...</td>\n      <td>...</td>\n      <td>...</td>\n      <td>...</td>\n      <td>...</td>\n      <td>...</td>\n      <td>...</td>\n      <td>...</td>\n    </tr>\n    <tr>\n      <th>95</th>\n      <td>1916106</td>\n      <td>12</td>\n      <td>prior</td>\n      <td>3</td>\n      <td>5</td>\n      <td>8</td>\n      <td>14.0</td>\n      <td>0.0</td>\n      <td>0</td>\n      <td>0.0</td>\n      <td>...</td>\n      <td>-0.057692</td>\n      <td>9</td>\n      <td>0.200000</td>\n      <td>0</td>\n      <td>12</td>\n      <td>-0.161177</td>\n      <td>0.600000</td>\n      <td>0.600000</td>\n      <td>-0.187044</td>\n      <td>-0.169895</td>\n    </tr>\n    <tr>\n      <th>96</th>\n      <td>1057378</td>\n      <td>12</td>\n      <td>prior</td>\n      <td>4</td>\n      <td>3</td>\n      <td>9</td>\n      <td>26.0</td>\n      <td>0.0</td>\n      <td>0</td>\n      <td>0.0</td>\n      <td>...</td>\n      <td>-0.056421</td>\n      <td>16</td>\n      <td>0.875000</td>\n      <td>0</td>\n      <td>20</td>\n      <td>-0.092866</td>\n      <td>0.800000</td>\n      <td>0.800000</td>\n      <td>-0.102275</td>\n      <td>-0.115211</td>\n    </tr>\n    <tr>\n      <th>97</th>\n      <td>221248</td>\n      <td>12</td>\n      <td>prior</td>\n      <td>5</td>\n      <td>1</td>\n      <td>9</td>\n      <td>30.0</td>\n      <td>0.0</td>\n      <td>0</td>\n      <td>0.0</td>\n      <td>...</td>\n      <td>-0.064890</td>\n      <td>25</td>\n      <td>0.692308</td>\n      <td>1</td>\n      <td>22</td>\n      <td>-0.090662</td>\n      <td>1.000000</td>\n      <td>1.000000</td>\n      <td>-0.125295</td>\n      <td>-0.114649</td>\n    </tr>\n    <tr>\n      <th>98</th>\n      <td>2618231</td>\n      <td>13</td>\n      <td>prior</td>\n      <td>1</td>\n      <td>6</td>\n      <td>12</td>\n      <td>NaN</td>\n      <td>0.0</td>\n      <td>0</td>\n      <td>NaN</td>\n      <td>...</td>\n      <td>NaN</td>\n      <td>1</td>\n      <td>NaN</td>\n      <td>0</td>\n      <td>5</td>\n      <td>-0.096765</td>\n      <td>0.076923</td>\n      <td>0.076923</td>\n      <td>-0.062865</td>\n      <td>-0.067655</td>\n    </tr>\n    <tr>\n      <th>99</th>\n      <td>2560699</td>\n      <td>13</td>\n      <td>prior</td>\n      <td>2</td>\n      <td>0</td>\n      <td>11</td>\n      <td>8.0</td>\n      <td>1.0</td>\n      <td>0</td>\n      <td>0.0</td>\n      <td>...</td>\n      <td>-0.285714</td>\n      <td>4</td>\n      <td>-0.200000</td>\n      <td>1</td>\n      <td>4</td>\n      <td>-0.105608</td>\n      <td>0.153846</td>\n      <td>0.153846</td>\n      <td>-0.090005</td>\n      <td>-0.111548</td>\n    </tr>\n  </tbody>\n</table>\n<p>100 rows × 30 columns</p>\n</div>"
     },
     "execution_count": 11,
     "metadata": {},
     "output_type": "execute_result"
    }
   ],
   "source": [
    "data_manager.get_orders_tip().head(100)"
   ],
   "metadata": {
    "collapsed": false,
    "ExecuteTime": {
     "end_time": "2024-06-17T19:53:32.894237100Z",
     "start_time": "2024-06-17T19:53:32.867444500Z"
    }
   },
   "id": "1d6de926c7c6574d",
   "execution_count": 11
  },
  {
   "cell_type": "code",
   "outputs": [],
   "source": [
    "# test = data_manager.get_orders_tip()"
   ],
   "metadata": {
    "collapsed": false,
    "ExecuteTime": {
     "end_time": "2024-06-17T19:53:32.957588400Z",
     "start_time": "2024-06-17T19:53:32.882575Z"
    }
   },
   "id": "4755549fddba80dd",
   "execution_count": 12
  },
  {
   "cell_type": "code",
   "outputs": [],
   "source": [
    "# print(f\"Number of orders: {len(data_manager.get_orders_tip())}\")\n",
    "# print(f\"Number of orders did not change: {order_amount == len(data_manager.get_orders_tip())}\\n\")\n",
    "# print(f\"Number of NaN or null values in each column:\\n{data_manager.get_orders_tip().isnull().sum()}\")"
   ],
   "metadata": {
    "collapsed": false,
    "ExecuteTime": {
     "end_time": "2024-06-17T19:53:33.018015Z",
     "start_time": "2024-06-17T19:53:32.885775500Z"
    }
   },
   "id": "2cbc3e033b6867f9",
   "execution_count": 13
  },
  {
   "cell_type": "code",
   "outputs": [],
   "source": [
    "# order_ids = data_manager.get_orders_tip(complete=True).groupby('user_id')['order_id'].head(5)\n",
    "# order_amount = len(order_ids)"
   ],
   "metadata": {
    "collapsed": false,
    "ExecuteTime": {
     "end_time": "2024-06-17T19:53:33.057544100Z",
     "start_time": "2024-06-17T19:53:32.891417500Z"
    }
   },
   "id": "60d0c1c2504cca88",
   "execution_count": 14
  },
  {
   "cell_type": "code",
   "outputs": [],
   "source": [
    "# data_manager.set_subset(order_ids)"
   ],
   "metadata": {
    "collapsed": false,
    "ExecuteTime": {
     "end_time": "2024-06-17T19:53:33.059545Z",
     "start_time": "2024-06-17T19:53:32.896577300Z"
    }
   },
   "id": "ea75a49725dbfdef",
   "execution_count": 15
  },
  {
   "cell_type": "code",
   "outputs": [],
   "source": [
    "# data_manager.get_orders_tip().head(25)"
   ],
   "metadata": {
    "collapsed": false,
    "ExecuteTime": {
     "end_time": "2024-06-17T19:53:33.080191700Z",
     "start_time": "2024-06-17T19:53:32.899087100Z"
    }
   },
   "id": "ae96799844c48c55",
   "execution_count": 16
  },
  {
   "cell_type": "code",
   "outputs": [],
   "source": [
    "# print(f\"Number of orders: {len(data_manager.get_orders_tip())}\")\n",
    "# print(f\"Number of orders did not change: {order_amount == len(data_manager.get_orders_tip())}\\n\")\n",
    "# print(f\"Number of NaN or null values in each column:\\n{data_manager.get_orders_tip().isnull().sum()}\")"
   ],
   "metadata": {
    "collapsed": false,
    "ExecuteTime": {
     "end_time": "2024-06-17T19:53:33.083725200Z",
     "start_time": "2024-06-17T19:53:32.905453100Z"
    }
   },
   "id": "b169956333c51c66",
   "execution_count": 17
  },
  {
   "cell_type": "code",
   "outputs": [],
   "source": [
    "# order_ids = data_manager.get_orders_tip(complete=True).groupby('user_id')['order_id'].head(4)\n",
    "# order_amount = len(order_ids)\n",
    "# \n",
    "# data_manager.set_subset(order_ids)\n",
    "# data_manager.get_orders_tip().head(25)"
   ],
   "metadata": {
    "collapsed": false,
    "ExecuteTime": {
     "end_time": "2024-06-17T19:53:33.085723600Z",
     "start_time": "2024-06-17T19:53:32.909637600Z"
    }
   },
   "id": "6913eb1c1ef566e5",
   "execution_count": 18
  },
  {
   "cell_type": "code",
   "outputs": [],
   "source": [
    "# print(f\"Number of orders: {len(data_manager.get_orders_tip())}\")\n",
    "# print(f\"Number of orders did not change: {order_amount == len(data_manager.get_orders_tip())}\\n\")\n",
    "# print(f\"Number of NaN or null values in each column:\\n{data_manager.get_orders_tip().isnull().sum()}\")"
   ],
   "metadata": {
    "collapsed": false,
    "ExecuteTime": {
     "end_time": "2024-06-17T19:53:33.150879700Z",
     "start_time": "2024-06-17T19:53:32.914966400Z"
    }
   },
   "id": "d0e728bc955477d5",
   "execution_count": 19
  },
  {
   "cell_type": "markdown",
   "source": [
    "### Analysis\n",
    "- Only orders from the training set (orders with tip information) are considered"
   ],
   "metadata": {
    "collapsed": false
   },
   "id": "890a24fdac60f10f"
  },
  {
   "cell_type": "code",
   "outputs": [],
   "source": [
    "# from analysis import DayOfWeek, HourOfDay, DaysSincePriorOrder, OrderNumber, Department, Aisle, Product, GeneralAnalysis"
   ],
   "metadata": {
    "collapsed": false,
    "ExecuteTime": {
     "end_time": "2024-06-17T19:53:33.152873600Z",
     "start_time": "2024-06-17T19:53:32.920575300Z"
    }
   },
   "id": "b3473e1eda499005",
   "execution_count": 20
  },
  {
   "cell_type": "code",
   "outputs": [],
   "source": [
    "# day_of_week = DayOfWeek(data_manager)\n",
    "# hour_of_day = HourOfDay(data_manager)\n",
    "# days_since_prior_order = DaysSincePriorOrder(data_manager)\n",
    "# order_number = OrderNumber(data_manager)\n",
    "# department = Department(data_manager)\n",
    "# aisle = Aisle(data_manager)\n",
    "# product = Product(data_manager)\n",
    "# number_order_user = NumberOrderUser(data_manager)\n",
    "# general_analysis = GeneralAnalysis(data_manager)"
   ],
   "metadata": {
    "collapsed": false,
    "ExecuteTime": {
     "end_time": "2024-06-17T19:53:33.174944900Z",
     "start_time": "2024-06-17T19:53:32.923830200Z"
    }
   },
   "id": "7daaf39fa303d999",
   "execution_count": 21
  },
  {
   "cell_type": "code",
   "outputs": [],
   "source": [
    "# day_of_week.execute_analysis()"
   ],
   "metadata": {
    "collapsed": false,
    "ExecuteTime": {
     "end_time": "2024-06-17T19:53:33.176947900Z",
     "start_time": "2024-06-17T19:53:32.928101300Z"
    }
   },
   "id": "8d6acfe9affa74ac",
   "execution_count": 22
  },
  {
   "cell_type": "code",
   "outputs": [],
   "source": [
    "# hour_of_day.execute_analysis()"
   ],
   "metadata": {
    "collapsed": false,
    "ExecuteTime": {
     "end_time": "2024-06-17T19:53:33.178947400Z",
     "start_time": "2024-06-17T19:53:32.933511200Z"
    }
   },
   "id": "e67096e50e036f03",
   "execution_count": 23
  },
  {
   "cell_type": "code",
   "outputs": [],
   "source": [
    "# days_since_prior_order.execute_analysis()"
   ],
   "metadata": {
    "collapsed": false,
    "ExecuteTime": {
     "end_time": "2024-06-17T19:53:33.225945900Z",
     "start_time": "2024-06-17T19:53:32.936449300Z"
    }
   },
   "id": "6b45182a7355d13a",
   "execution_count": 24
  },
  {
   "cell_type": "code",
   "outputs": [],
   "source": [
    "# order_number.execute_analysis()"
   ],
   "metadata": {
    "collapsed": false,
    "ExecuteTime": {
     "end_time": "2024-06-17T19:53:33.227946600Z",
     "start_time": "2024-06-17T19:53:32.941813600Z"
    }
   },
   "id": "77b59d5cd0325271",
   "execution_count": 25
  },
  {
   "cell_type": "code",
   "outputs": [],
   "source": [
    "# department.execute_analysis()"
   ],
   "metadata": {
    "collapsed": false,
    "ExecuteTime": {
     "end_time": "2024-06-17T19:53:33.229949200Z",
     "start_time": "2024-06-17T19:53:32.944328Z"
    }
   },
   "id": "12f092487e57cd43",
   "execution_count": 26
  },
  {
   "cell_type": "code",
   "outputs": [],
   "source": [
    "# aisle.execute_analysis()"
   ],
   "metadata": {
    "collapsed": false,
    "ExecuteTime": {
     "end_time": "2024-06-17T19:53:33.263499500Z",
     "start_time": "2024-06-17T19:53:32.950923100Z"
    }
   },
   "id": "f4ab7f536a6dff50",
   "execution_count": 27
  },
  {
   "cell_type": "code",
   "outputs": [],
   "source": [
    "# product.execute_analysis()"
   ],
   "metadata": {
    "collapsed": false,
    "ExecuteTime": {
     "end_time": "2024-06-17T19:53:33.267500800Z",
     "start_time": "2024-06-17T19:53:32.959409600Z"
    }
   },
   "id": "a7c3a3c4de6b4947",
   "execution_count": 28
  },
  {
   "cell_type": "code",
   "outputs": [],
   "source": [
    "# number_order_user.execute_analysis()"
   ],
   "metadata": {
    "collapsed": false,
    "ExecuteTime": {
     "end_time": "2024-06-17T19:53:33.297745400Z",
     "start_time": "2024-06-17T19:53:32.963112Z"
    }
   },
   "id": "7a6e209c6252f53c",
   "execution_count": 29
  },
  {
   "cell_type": "markdown",
   "source": [
    "### Data Preparation"
   ],
   "metadata": {
    "collapsed": false
   },
   "id": "bc83375ff21286d6"
  },
  {
   "cell_type": "code",
   "outputs": [],
   "source": [
    "# from feature_engineering.static_features import DowHighTipProbability, HodHighTipProbability, OrderNumberSquared, \\\n",
    "#     ContainsAlcohol\n",
    "#\n",
    "# data_manager.register_feature(DowHighTipProbability())\n",
    "# data_manager.register_feature(HodHighTipProbability())\n",
    "# data_manager.register_feature(OrderNumberSquared())\n",
    "# data_manager.register_feature(ContainsAlcohol())"
   ],
   "metadata": {
    "collapsed": false,
    "ExecuteTime": {
     "end_time": "2024-06-17T19:53:33.300733400Z",
     "start_time": "2024-06-17T19:53:32.971520600Z"
    }
   },
   "id": "11e6bf0945ffd97c",
   "execution_count": 30
  },
  {
   "cell_type": "code",
   "outputs": [],
   "source": [
    "# data_manager.compute_features()"
   ],
   "metadata": {
    "collapsed": false,
    "ExecuteTime": {
     "end_time": "2024-06-17T19:53:33.301733Z",
     "start_time": "2024-06-17T19:53:32.979603300Z"
    }
   },
   "id": "e10cbb0dea2b4bd2",
   "execution_count": 31
  },
  {
   "cell_type": "markdown",
   "source": [
    "### Model Training & Evaluation\n",
    "\n",
    "Order is important:\n",
    "- Remove first order of each user and assign the dataset for parameter tuning\n",
    "- Initialize cross-validation splitter\n",
    "- Export splits\n",
    "- Tune the parameters of the model with the dataset from 1."
   ],
   "metadata": {
    "collapsed": false
   },
   "id": "5ff7316768777ae9"
  },
  {
   "cell_type": "code",
   "outputs": [],
   "source": [
    "from data_management.cross_validation import LastOrderUserTSCVSplitter"
   ],
   "metadata": {
    "collapsed": false,
    "ExecuteTime": {
     "end_time": "2024-06-17T19:53:33.325734800Z",
     "start_time": "2024-06-17T19:53:32.987677100Z"
    }
   },
   "id": "1b07129f5f10075b",
   "execution_count": 32
  },
  {
   "cell_type": "code",
   "outputs": [
    {
     "data": {
      "text/plain": "(3346083, 30)"
     },
     "execution_count": 33,
     "metadata": {},
     "output_type": "execute_result"
    }
   ],
   "source": [
    "orders_tip = data_manager.get_orders_tip()\n",
    "orders_tip.shape"
   ],
   "metadata": {
    "collapsed": false,
    "ExecuteTime": {
     "end_time": "2024-06-17T19:53:33.328736Z",
     "start_time": "2024-06-17T19:53:33.002167100Z"
    }
   },
   "id": "76a31c7a45354367",
   "execution_count": 33
  },
  {
   "cell_type": "code",
   "outputs": [
    {
     "data": {
      "text/plain": "(3214874, 30)"
     },
     "execution_count": 34,
     "metadata": {},
     "output_type": "execute_result"
    }
   ],
   "source": [
    "orders_tip_train = data_manager.get_orders_tip_train()\n",
    "orders_tip_train.shape"
   ],
   "metadata": {
    "collapsed": false,
    "ExecuteTime": {
     "end_time": "2024-06-17T19:53:33.853834800Z",
     "start_time": "2024-06-17T19:53:33.009013500Z"
    }
   },
   "id": "470f3820626b7f56",
   "execution_count": 34
  },
  {
   "cell_type": "code",
   "outputs": [
    {
     "data": {
      "text/plain": "(131209, 30)"
     },
     "execution_count": 35,
     "metadata": {},
     "output_type": "execute_result"
    }
   ],
   "source": [
    "orders_tip_test = data_manager.get_orders_tip_test()\n",
    "orders_tip_test.shape"
   ],
   "metadata": {
    "collapsed": false,
    "ExecuteTime": {
     "end_time": "2024-06-17T19:53:34.085671300Z",
     "start_time": "2024-06-17T19:53:33.853834800Z"
    }
   },
   "id": "36195b8935b489a1",
   "execution_count": 35
  },
  {
   "cell_type": "code",
   "outputs": [],
   "source": [
    "data_manager.remove_first_orders()"
   ],
   "metadata": {
    "collapsed": false,
    "ExecuteTime": {
     "end_time": "2024-06-17T19:53:39.070990100Z",
     "start_time": "2024-06-17T19:53:34.084661300Z"
    }
   },
   "id": "1cc8f3885a1fdfb9",
   "execution_count": 36
  },
  {
   "cell_type": "code",
   "outputs": [
    {
     "data": {
      "text/plain": "(3008665, 30)"
     },
     "execution_count": 37,
     "metadata": {},
     "output_type": "execute_result"
    }
   ],
   "source": [
    "orders_tip_train = data_manager.get_orders_tip_train().copy()\n",
    "orders_tip_train.shape"
   ],
   "metadata": {
    "collapsed": false,
    "ExecuteTime": {
     "end_time": "2024-06-17T19:53:39.898480900Z",
     "start_time": "2024-06-17T19:53:39.072522Z"
    }
   },
   "id": "6e64a3e055952da4",
   "execution_count": 37
  },
  {
   "cell_type": "code",
   "outputs": [],
   "source": [],
   "metadata": {
    "collapsed": false
   },
   "id": "dec0e2c3426a3307",
   "execution_count": null
  },
  {
   "cell_type": "code",
   "outputs": [],
   "source": [
    "# cv = KFold(n_splits=5, shuffle=True, random_state=42)"
   ],
   "metadata": {
    "collapsed": false,
    "ExecuteTime": {
     "end_time": "2024-06-17T19:53:39.902483100Z",
     "start_time": "2024-06-17T19:53:39.896943900Z"
    }
   },
   "id": "f9ee9c473fa4ae22",
   "execution_count": 38
  },
  {
   "cell_type": "code",
   "outputs": [],
   "source": [
    "last_order_user_tscv_splitter = LastOrderUserTSCVSplitter(data_manager, n_splits=5)"
   ],
   "metadata": {
    "collapsed": false,
    "ExecuteTime": {
     "end_time": "2024-06-17T19:53:41.101630900Z",
     "start_time": "2024-06-17T19:53:39.902483100Z"
    }
   },
   "id": "62c2c8a95be01e0a",
   "execution_count": 39
  },
  {
   "cell_type": "code",
   "outputs": [],
   "source": [
    "# splits = last_order_user_tscv_splitter.split(orders_tip_train)"
   ],
   "metadata": {
    "collapsed": false,
    "ExecuteTime": {
     "end_time": "2024-06-17T19:53:41.113712400Z",
     "start_time": "2024-06-17T19:53:41.103424800Z"
    }
   },
   "id": "198912d5a1185bdd",
   "execution_count": 40
  },
  {
   "cell_type": "code",
   "outputs": [],
   "source": [
    "# folds = {}\n",
    "# prev_test = 0\n",
    "# for i, (train_index, test_index) in enumerate(splits):\n",
    "#     print(f'Fold {i + 1}')\n",
    "#     print(f'Train: {len(train_index)}')\n",
    "#     print(f'Test: {len(test_index)}')\n",
    "#     print(f'Orders: {len(orders_tip_train)}')\n",
    "#     print(f'Sum equal: {(len(train_index) + len(test_index) + prev_test) == len(orders_tip_train)}')\n",
    "#     print(f'Ratio: {len(test_index) / (len(train_index) + len(test_index))}')\n",
    "# \n",
    "#     train_orders = orders_tip_train.loc[train_index]\n",
    "#     test_orders = orders_tip_train.loc[test_index]\n",
    "#     current_fold = {\n",
    "#         'train': train_orders,\n",
    "#         'test': test_orders\n",
    "#     }\n",
    "#     folds[f'fold_{i}'] = current_fold\n",
    "#     prev_test += len(test_index)"
   ],
   "metadata": {
    "collapsed": false,
    "ExecuteTime": {
     "end_time": "2024-06-17T19:53:41.138400500Z",
     "start_time": "2024-06-17T19:53:41.107938300Z"
    }
   },
   "id": "52a702707377b018",
   "execution_count": 41
  },
  {
   "cell_type": "code",
   "outputs": [],
   "source": [
    "last_order_user_tscv_splitter.export_splits('data/prepared_data/')"
   ],
   "metadata": {
    "collapsed": false,
    "ExecuteTime": {
     "end_time": "2024-06-17T19:53:41.141953Z",
     "start_time": "2024-06-17T19:53:41.115398600Z"
    }
   },
   "id": "4c6db90c4c28b854",
   "execution_count": 42
  },
  {
   "cell_type": "code",
   "outputs": [],
   "source": [
    "# user_tscv_splitter = UserTSCVSplitter(data_manager, n_splits=5, validation_set_ratio=0.2, seed=42)"
   ],
   "metadata": {
    "collapsed": false,
    "ExecuteTime": {
     "end_time": "2024-06-17T19:53:41.143958700Z",
     "start_time": "2024-06-17T19:53:41.118970700Z"
    }
   },
   "id": "2fe2d3fba743b7ed",
   "execution_count": 43
  },
  {
   "cell_type": "code",
   "outputs": [],
   "source": [
    "# splits = user_tscv_splitter.split(orders_tip_train)"
   ],
   "metadata": {
    "collapsed": false,
    "ExecuteTime": {
     "end_time": "2024-06-17T19:53:41.145954500Z",
     "start_time": "2024-06-17T19:53:41.122109400Z"
    }
   },
   "id": "cc9fb6503d82ee7d",
   "execution_count": 44
  },
  {
   "cell_type": "code",
   "outputs": [],
   "source": [
    "# folds = {}\n",
    "# prev_test = 0\n",
    "# for i, (train_index, test_index) in enumerate(splits):\n",
    "#     print(f'Fold {i + 1}')\n",
    "#     print(f'Train: {len(train_index)}')\n",
    "#     print(f'Test: {len(test_index)}')\n",
    "#     print(f'Orders: {len(orders_tip_train)}')\n",
    "#     print(f'Sum equal: {(len(train_index) + len(test_index) + prev_test) == len(orders_tip_train)}')\n",
    "#     print(f'Ratio: {len(test_index) / (len(train_index) + len(test_index))}')\n",
    "# \n",
    "#     train_orders = orders_tip_train.loc[train_index]\n",
    "#     test_orders = orders_tip_train.loc[test_index]\n",
    "#     current_fold = {\n",
    "#         'train': train_orders,\n",
    "#         'test': test_orders\n",
    "#     }\n",
    "#     folds[f'fold_{i}'] = current_fold\n",
    "#     prev_test += len(test_index)"
   ],
   "metadata": {
    "collapsed": false,
    "ExecuteTime": {
     "end_time": "2024-06-17T19:53:41.146951800Z",
     "start_time": "2024-06-17T19:53:41.124115600Z"
    }
   },
   "id": "245bc99427923b66",
   "execution_count": 45
  },
  {
   "cell_type": "code",
   "outputs": [],
   "source": [
    "# user_tscv_splitter.export_splits('data/prepared_data/')"
   ],
   "metadata": {
    "collapsed": false,
    "ExecuteTime": {
     "end_time": "2024-06-17T19:53:41.181079200Z",
     "start_time": "2024-06-17T19:53:41.127432100Z"
    }
   },
   "id": "8347f842806ffa12",
   "execution_count": 46
  },
  {
   "cell_type": "code",
   "outputs": [],
   "source": [
    "# features = ['order_number', 'order_dow', 'order_hour_of_day', 'days_since_prior_order', 'order_size', 'tip_history',\n",
    "#             'dynamic_feature_test_1', 'dynamic_feature_test_2']\n",
    "#\n",
    "# prepared_splits_dict = user_tscv_splitter.import_splits('data/prepared_data/', features)"
   ],
   "metadata": {
    "collapsed": false,
    "ExecuteTime": {
     "end_time": "2024-06-17T19:53:41.182080Z",
     "start_time": "2024-06-17T19:53:41.131070400Z"
    }
   },
   "id": "b2d8489062a2b76f",
   "execution_count": 47
  },
  {
   "metadata": {},
   "cell_type": "code",
   "outputs": [],
   "execution_count": null,
   "source": [
    "# features = ['order_number', 'order_dow', 'order_hour_of_day', 'days_since_prior_order', 'order_size', 'tip_history', 'customer_lifetime', 'reordered_ratio', 'hod_high_tip_probability', 'order_frequency', 'last_tip_sequence', 'avg_size_prev_orders', 'contains_alcohol', 'prev_order_tipped', 'dow_high_tip_probability', 'prev_tipped_products_ratio', 'order_number_squared', 'mean_ordered_rate', 'sim_orders_tip_ratio', 'aisle_tip_rate', 'dept_tip_rate', 'product_tip_rate']\n",
    "\n",
    "features = ['order_number', 'order_dow', 'order_hour_of_day', 'days_since_prior_order', 'tip_history',\n",
    "            'customer_lifetime', 'reordered_ratio', 'hod_high_tip_probability', 'order_frequency', 'last_tip_sequence',\n",
    "            'contains_alcohol', 'prev_order_tipped', 'dow_high_tip_probability', 'prev_tipped_products_ratio',\n",
    "            'sim_orders_tip_ratio', 'aisle_tip_rate', 'dept_tip_rate', 'product_tip_rate']\n",
    "\n",
    "# features = ['order_number', 'order_dow', 'order_hour_of_day', 'days_since_prior_order', 'order_size', 'tip_history']\n",
    "\n",
    "prepared_splits_dict = last_order_user_tscv_splitter.import_splits('data/prepared_data/', features)"
   ],
   "id": "ccd164990cea6678"
  },
  {
   "metadata": {},
   "cell_type": "code",
   "outputs": [],
   "execution_count": null,
   "source": [
    "from data_management import DatasetSelector\n",
    "from sklearn.pipeline import Pipeline\n",
    "from sklearn.tree import DecisionTreeClassifier\n",
    "from tempfile import mkdtemp\n",
    "from joblib import Memory\n",
    "from sklearn.neural_network import MLPClassifier\n",
    "from sklearn.preprocessing import StandardScaler\n",
    "from xgboost import XGBClassifier\n",
    "from sklearn.model_selection import GridSearchCV\n",
    "from sklearn.linear_model import LogisticRegression\n",
    "import matplotlib.pyplot as plt\n",
    "from data_management import get_best_cv_scores, estimate_accuracy"
   ],
   "id": "5fd3389d83cb781e"
  },
  {
   "metadata": {},
   "cell_type": "markdown",
   "source": "### Decision Tree",
   "id": "64321daa860a6a7"
  },
  {
   "metadata": {},
   "cell_type": "code",
   "outputs": [],
   "execution_count": null,
   "source": [
    "pipeline_steps = [('selector', DatasetSelector(prepared_splits_dict)),\n",
    "                  ('estimator', DecisionTreeClassifier())]\n",
    "\n",
    "cachedir = mkdtemp()\n",
    "memory = Memory(location=cachedir, verbose=0)\n",
    "\n",
    "pipeline = Pipeline(pipeline_steps, verbose=False, memory=memory)\n",
    "\n",
    "param_grid = {\n",
    "    'estimator__criterion': ['entropy'],\n",
    "    'estimator__max_depth': [9, 10],\n",
    "    'estimator__min_samples_leaf': [256]\n",
    "}\n",
    "\n",
    "grid_search_clf = GridSearchCV(pipeline, param_grid, cv=last_order_user_tscv_splitter, scoring='accuracy', verbose=1,\n",
    "                               n_jobs=-1)\n",
    "X = orders_tip_train[features]\n",
    "y = orders_tip_train['tip'].astype(bool)\n",
    "X.head(25)\n",
    "print(f'X shape: {X.shape}')\n",
    "print(f'y shape: {y.shape}')\n",
    "grid_search_clf.fit(X, y)"
   ],
   "id": "57d23d52bcc78f77"
  },
  {
   "metadata": {},
   "cell_type": "code",
   "outputs": [],
   "execution_count": null,
   "source": [
    "scores = get_best_cv_scores(grid_search_clf)\n",
    "scores"
   ],
   "id": "23d71516811dfa12"
  },
  {
   "metadata": {},
   "cell_type": "code",
   "outputs": [],
   "execution_count": null,
   "source": [
    "accuracy = estimate_accuracy(grid_search_clf)\n",
    "accuracy"
   ],
   "id": "147ee8c68b6aab91"
  },
  {
   "metadata": {},
   "cell_type": "markdown",
   "source": "### Multi-Layer Perceptron",
   "id": "7ae47b8f15577459"
  },
  {
   "metadata": {},
   "cell_type": "code",
   "outputs": [],
   "execution_count": null,
   "source": [
    "pipeline_steps = [('selector', DatasetSelector(prepared_splits_dict)),\n",
    "                  ('scaler', StandardScaler()),\n",
    "                  ('mlp', MLPClassifier(max_iter=100))]\n",
    "\n",
    "# cachedir = mkdtemp()\n",
    "# memory = Memory(location=cachedir, verbose=0)\n",
    "\n",
    "# pipeline = Pipeline(pipeline_steps, verbose=False, memory=memory)\n",
    "pipeline = Pipeline(pipeline_steps, verbose=False)\n",
    "\n",
    "# param_grid = {\n",
    "#     'mlp__hidden_layer_sizes': [(5,), (10,), (5, 5)],\n",
    "#     'mlp__activation': ['relu', 'tanh'],\n",
    "#     'mlp__alpha': [0.0001, 0.001, 0.01],\n",
    "# }\n",
    "\n",
    "param_grid = {\n",
    "    'mlp__hidden_layer_sizes': [(15,)],\n",
    "    'mlp__activation': ['relu'],\n",
    "    'mlp__alpha': [0.01],\n",
    "}\n",
    "\n",
    "grid_search_clf = GridSearchCV(pipeline, param_grid, cv=last_order_user_tscv_splitter, scoring='accuracy', verbose=1,\n",
    "                               n_jobs=2)\n",
    "X = orders_tip_train[features]\n",
    "y = orders_tip_train['tip'].astype(bool)\n",
    "print(f'X shape: {X.shape}')\n",
    "print(f'y shape: {y.shape}')\n",
    "grid_search_clf.fit(X, y)"
   ],
   "id": "e5aa0c10c8207f3e"
  },
  {
   "metadata": {},
   "cell_type": "code",
   "outputs": [],
   "execution_count": null,
   "source": [
    "scores = get_best_cv_scores(grid_search_clf)\n",
    "scores"
   ],
   "id": "e4fcc4058892310e"
  },
  {
   "metadata": {},
   "cell_type": "code",
   "outputs": [],
   "execution_count": null,
   "source": [
    "accuracy = estimate_accuracy(grid_search_clf)\n",
    "accuracy"
   ],
   "id": "65c909bb99a04bf2"
  },
  {
   "metadata": {},
   "cell_type": "markdown",
   "source": "### XGBoost",
   "id": "d0151c8ce11cb95a"
  },
  {
   "metadata": {},
   "cell_type": "code",
   "outputs": [],
   "execution_count": null,
   "source": [
    "pipeline_steps = [('selector', DatasetSelector(prepared_splits_dict)),\n",
    "                  ('scaler', StandardScaler()),\n",
    "                  ('xgb', XGBClassifier(use_label_encoder=False, eval_metric='logloss'))]\n",
    "\n",
    "pipeline = Pipeline(pipeline_steps, verbose=False)\n",
    "\n",
    "# param_grid = {\n",
    "#     'xgb__n_estimators': [30, 100],\n",
    "#     'xgb__max_depth': [5, 10],\n",
    "#     'xgb__learning_rate': [0.01, 0.1],\n",
    "#     'xgb__subsample': [0.4, 0.6, 0.8]\n",
    "# }\n",
    "\n",
    "param_grid = {\n",
    "    'xgb__learning_rate': [0.1],\n",
    "    'xgb__max_depth': [5],\n",
    "    'xgb__n_estimators': [100],\n",
    "    'xgb__subsample': [0.6]\n",
    "}\n",
    "\n",
    "grid_search_clf = GridSearchCV(pipeline, param_grid, cv=last_order_user_tscv_splitter, scoring='accuracy', verbose=1,\n",
    "                               n_jobs=2)\n",
    "X = orders_tip_train[features]\n",
    "y = orders_tip_train['tip'].astype(bool)\n",
    "\n",
    "print(f'X shape: {X.shape}')\n",
    "print(f'y shape: {y.shape}')\n",
    "grid_search_clf.fit(X, y)"
   ],
   "id": "cddf126a9674b969"
  },
  {
   "metadata": {},
   "cell_type": "code",
   "outputs": [],
   "execution_count": null,
   "source": [
    "scores = get_best_cv_scores(grid_search_clf)\n",
    "scores"
   ],
   "id": "5ef86bb0e738376f"
  },
  {
   "metadata": {},
   "cell_type": "code",
   "outputs": [],
   "execution_count": null,
   "source": [
    "accuracy = estimate_accuracy(grid_search_clf)\n",
    "accuracy"
   ],
   "id": "cdfa8597fa479670"
  },
  {
   "metadata": {},
   "cell_type": "markdown",
   "source": "### Logistic Regression",
   "id": "31a965fa2d4bc170"
  },
  {
   "metadata": {},
   "cell_type": "code",
   "outputs": [],
   "execution_count": null,
   "source": [
    "pipeline_steps = [('selector', DatasetSelector(prepared_splits_dict)),\n",
    "                  ('scaler', StandardScaler()),\n",
    "                  ('logreg', LogisticRegression(max_iter=1000))]\n",
    "\n",
    "# cachedir = mkdtemp()\n",
    "# memory = Memory(location=cachedir, verbose=0)\n",
    "\n",
    "# pipeline = Pipeline(pipeline_steps, verbose=False, memory=memory)\n",
    "pipeline = Pipeline(pipeline_steps, verbose=False)\n",
    "\n",
    "# param_grid = {\n",
    "#     'logreg__C': [0.001, 0.01, 0.1, 1, 10, 100],\n",
    "#     'logreg__solver': ['liblinear', 'lbfgs', 'newton-cg', 'sag', 'saga'],\n",
    "# }\n",
    "param_grid = {\n",
    "    'logreg__C': [0.001],\n",
    "    'logreg__solver': ['sag'],\n",
    "}\n",
    "# {'logreg__C': 0.001, 'logreg__solver': 'sag'} - 0.8025\n",
    "\n",
    "grid_search_clf = GridSearchCV(pipeline, param_grid, cv=last_order_user_tscv_splitter, scoring='accuracy', verbose=1,\n",
    "                               n_jobs=2)\n",
    "X = orders_tip_train[features]\n",
    "y = orders_tip_train['tip'].astype(bool)\n",
    "print(f'X shape: {X.shape}')\n",
    "print(f'y shape: {y.shape}')\n",
    "grid_search_clf.fit(X, y)"
   ],
   "id": "4e2ff8ce0f287e36"
  },
  {
   "metadata": {},
   "cell_type": "code",
   "outputs": [],
   "execution_count": null,
   "source": [
    "best_estimator = grid_search_clf.best_estimator_\n",
    "logreg_model = best_estimator.named_steps['logreg']\n",
    "coefficients = logreg_model.coef_\n",
    "print(\"Coefficients:\", coefficients)\n",
    "\n",
    "pltcoef = coefficients[0]\n",
    "\n",
    "plt.figure(figsize=(10, 6))\n",
    "plt.bar(features, pltcoef)\n",
    "plt.xlabel('Features')\n",
    "plt.ylabel('Coefficient Value')\n",
    "plt.title('Coefficients of Linear Model')\n",
    "plt.xticks(rotation=45)\n",
    "plt.grid(True)\n",
    "plt.tight_layout()\n",
    "plt.show()"
   ],
   "id": "e5b73bc725feb26"
  },
  {
   "metadata": {},
   "cell_type": "code",
   "outputs": [],
   "execution_count": null,
   "source": [
    "scores = get_best_cv_scores(grid_search_clf)\n",
    "scores"
   ],
   "id": "7817e8ae3297280c"
  },
  {
   "metadata": {},
   "cell_type": "code",
   "outputs": [],
   "execution_count": null,
   "source": [
    "accuracy = estimate_accuracy(grid_search_clf)\n",
    "accuracy"
   ],
   "id": "24a412fa9d1a66f8"
  },
  {
   "metadata": {},
   "cell_type": "markdown",
   "source": "### Gaussian Naive Bayes",
   "id": "732ecd014c871ef0"
  },
  {
   "metadata": {},
   "cell_type": "code",
   "outputs": [],
   "execution_count": null,
   "source": [
    "from sklearn.naive_bayes import GaussianNB\n",
    "\n",
    "# Assuming 'DatasetSelector' and 'last_order_user_tscv_splitter' are defined somewhere in your code\n",
    "\n",
    "# Define the pipeline steps\n",
    "pipeline_steps = [('selector', DatasetSelector(prepared_splits_dict)),\n",
    "                  ('scaler', StandardScaler()),\n",
    "                  ('nb', GaussianNB())]\n",
    "\n",
    "# Create the pipeline\n",
    "pipeline = Pipeline(pipeline_steps, verbose=False)\n",
    "# Define the parameter grid for GaussianNB (Naive Bayes does not have many hyperparameters to tune)\n",
    "# param_grid = {\n",
    "#     'nb__var_smoothing': [1e-9, 1e-10, 1e-11]\n",
    "# }\n",
    "param_grid = {\n",
    "    'nb__var_smoothing': [1e-9]  # Variation smoothing parameter\n",
    "}\n",
    "# {'nb__var_smoothing': 1e-09} - 0.7841381709885383\n",
    "\n",
    "# Set up GridSearchCV\n",
    "grid_search_clf = GridSearchCV(pipeline, param_grid, cv=last_order_user_tscv_splitter, scoring='accuracy', verbose=1,\n",
    "                               n_jobs=2)\n",
    "# Assuming 'orders_tip_train' and 'features' are defined somewhere in your code\n",
    "X = orders_tip_train[features]\n",
    "y = orders_tip_train['tip'].astype(bool)\n",
    "\n",
    "# Display the shapes of X and y\n",
    "print(f'X shape: {X.shape}')\n",
    "print(f'y shape: {y.shape}')\n",
    "# Perform the grid search\n",
    "grid_search_clf.fit(X, y)"
   ],
   "id": "822db3b29b6e706d"
  },
  {
   "cell_type": "code",
   "source": [
    "scores = get_best_cv_scores(grid_search_clf)\n",
    "scores"
   ],
   "metadata": {
    "collapsed": false
   },
   "id": "29900d838c1ba739",
   "outputs": [],
   "execution_count": null
  },
  {
   "cell_type": "code",
   "source": [
    "accuracy = estimate_accuracy(grid_search_clf)\n",
    "accuracy"
   ],
   "metadata": {
    "collapsed": false
   },
   "id": "3dcc13b05bc18653",
   "outputs": [],
   "execution_count": null
  },
  {
   "cell_type": "markdown",
   "source": [
    "### Validation"
   ],
   "metadata": {
    "collapsed": false
   },
   "id": "870ae9bef1efb198"
  },
  {
   "cell_type": "code",
   "outputs": [],
   "source": [
    "# features = ['order_number', 'order_dow', 'order_hour_of_day', 'days_since_prior_order', 'order_size', 'tip_history',\n",
    "#             'dynamic_feature_test_1', 'dynamic_feature_test_2']\n",
    "#\n",
    "# prepared_splits_dict = last_order_user_tscv_splitter.import_splits('data/prepared_data/', features)"
   ],
   "metadata": {
    "collapsed": false,
    "ExecuteTime": {
     "end_time": "2024-06-17T19:56:01.016803200Z",
     "start_time": "2024-06-17T19:56:00.929962100Z"
    }
   },
   "id": "ffbb8b8e189eee90",
   "execution_count": 61
  },
  {
   "cell_type": "code",
   "outputs": [],
   "source": [
    "# all_orders = data_manager.get_orders_tip(complete=True)\n",
    "# all_orders.shape"
   ],
   "metadata": {
    "collapsed": false,
    "ExecuteTime": {
     "end_time": "2024-06-17T19:56:01.019795100Z",
     "start_time": "2024-06-17T19:56:00.933865800Z"
    }
   },
   "id": "7fb459d1efacc251",
   "execution_count": 62
  },
  {
   "cell_type": "code",
   "outputs": [],
   "source": [
    "# data_manager.set_subset(all_orders['order_id'])"
   ],
   "metadata": {
    "collapsed": false,
    "ExecuteTime": {
     "end_time": "2024-06-17T19:56:01.059074100Z",
     "start_time": "2024-06-17T19:56:00.938066900Z"
    }
   },
   "id": "130761ebc5042704",
   "execution_count": 63
  },
  {
   "cell_type": "code",
   "outputs": [],
   "source": [
    "# validation_test = data_manager.get_orders_tip_test()\n",
    "# validation_test.shape"
   ],
   "metadata": {
    "collapsed": false,
    "ExecuteTime": {
     "end_time": "2024-06-17T19:56:01.063093500Z",
     "start_time": "2024-06-17T19:56:00.942196600Z"
    }
   },
   "id": "3d561493b5779a41",
   "execution_count": 64
  },
  {
   "cell_type": "code",
   "outputs": [],
   "source": [
    "# validation_train = data_manager.get_orders_tip_train()\n",
    "# validation_train.shape"
   ],
   "metadata": {
    "collapsed": false,
    "ExecuteTime": {
     "end_time": "2024-06-17T19:56:01.085675400Z",
     "start_time": "2024-06-17T19:56:00.947275200Z"
    }
   },
   "id": "252a1df042e43c48",
   "execution_count": 65
  },
  {
   "cell_type": "code",
   "outputs": [],
   "source": [
    "# validation_train_without_first = validation_train[validation_train['order_number'] > 1]\n",
    "# validation_train_without_first.shape"
   ],
   "metadata": {
    "collapsed": false,
    "ExecuteTime": {
     "end_time": "2024-06-17T19:56:01.088668Z",
     "start_time": "2024-06-17T19:56:00.952723800Z"
    }
   },
   "id": "e4d8351c5e87e370",
   "execution_count": 66
  },
  {
   "cell_type": "code",
   "outputs": [],
   "source": [
    "# prepared_splits_dict[-1147446606210854265].shape[0]"
   ],
   "metadata": {
    "collapsed": false,
    "ExecuteTime": {
     "end_time": "2024-06-17T19:56:01.230937100Z",
     "start_time": "2024-06-17T19:56:00.956244800Z"
    }
   },
   "id": "117e17f2afc048a8",
   "execution_count": 67
  },
  {
   "cell_type": "code",
   "outputs": [],
   "source": [
    "# all_orders_without_first = all_orders[all_orders['order_number'] > 1].reset_index(drop=True)\n",
    "# all_orders_without_first.shape"
   ],
   "metadata": {
    "collapsed": false,
    "ExecuteTime": {
     "end_time": "2024-06-17T19:56:01.232943500Z",
     "start_time": "2024-06-17T19:56:00.963822700Z"
    }
   },
   "id": "9c60aad6c08f1f53",
   "execution_count": 68
  },
  {
   "cell_type": "code",
   "outputs": [],
   "source": [
    "# validation_train_without_first[features].reset_index(drop=True)"
   ],
   "metadata": {
    "collapsed": false,
    "ExecuteTime": {
     "end_time": "2024-06-17T19:56:01.234939600Z",
     "start_time": "2024-06-17T19:56:00.968009800Z"
    }
   },
   "id": "c94116b013109d31",
   "execution_count": 69
  },
  {
   "cell_type": "code",
   "outputs": [],
   "source": [
    "# prepared_splits_dict[-1147446606210854265]"
   ],
   "metadata": {
    "collapsed": false,
    "ExecuteTime": {
     "end_time": "2024-06-17T19:56:01.257938Z",
     "start_time": "2024-06-17T19:56:00.977488900Z"
    }
   },
   "id": "3ec81df56dbba40c",
   "execution_count": 70
  },
  {
   "cell_type": "code",
   "outputs": [],
   "source": [
    "# round(prepared_splits_dict[-1147446606210854265], 6).equals(round(validation_train_without_first[\n",
    "#                                                                       features].reset_index(drop=True), 6))"
   ],
   "metadata": {
    "collapsed": false,
    "ExecuteTime": {
     "end_time": "2024-06-17T19:56:01.259938800Z",
     "start_time": "2024-06-17T19:56:00.981398700Z"
    }
   },
   "id": "df36142b84d1c78f",
   "execution_count": 71
  },
  {
   "cell_type": "code",
   "outputs": [],
   "source": [
    "# validation_test[features]"
   ],
   "metadata": {
    "collapsed": false,
    "ExecuteTime": {
     "end_time": "2024-06-17T19:56:01.280480200Z",
     "start_time": "2024-06-17T19:56:00.986318300Z"
    }
   },
   "id": "4a1a17ef95d391b5",
   "execution_count": 72
  },
  {
   "cell_type": "code",
   "outputs": [],
   "source": [
    "# prepared_splits_dict[4027820417624348460]"
   ],
   "metadata": {
    "collapsed": false,
    "ExecuteTime": {
     "end_time": "2024-06-17T19:56:01.282480300Z",
     "start_time": "2024-06-17T19:56:00.992919300Z"
    }
   },
   "id": "8a558900588b3a25",
   "execution_count": 73
  },
  {
   "cell_type": "code",
   "outputs": [],
   "source": [
    "# round(prepared_splits_dict[4027820417624348460].reset_index(drop=True), 6).equals(round(\n",
    "#     validation_test[features].reset_index(drop=True), 6))"
   ],
   "metadata": {
    "collapsed": false,
    "ExecuteTime": {
     "end_time": "2024-06-17T19:56:01.307007900Z",
     "start_time": "2024-06-17T19:56:00.994926Z"
    }
   },
   "id": "3d0b42618d4c720d",
   "execution_count": 74
  },
  {
   "cell_type": "markdown",
   "source": [
    "### Prediction"
   ],
   "metadata": {
    "collapsed": false
   },
   "id": "53d2fcdbca15153"
  },
  {
   "cell_type": "code",
   "outputs": [],
   "source": [
    "orders_tip_test = data_manager.get_orders_tip_test().copy()\n",
    "\n",
    "X_test = orders_tip_test[features]\n",
    "y_pred = best_estimator.predict(X_test)"
   ],
   "metadata": {
    "collapsed": false,
    "ExecuteTime": {
     "end_time": "2024-06-17T21:47:16.467863900Z",
     "start_time": "2024-06-17T21:47:16.128912200Z"
    }
   },
   "id": "d6793b73aae19fb9",
   "execution_count": 169
  },
  {
   "cell_type": "code",
   "outputs": [
    {
     "data": {
      "text/plain": "tip\nFalse    90631\nTrue     40578\nName: count, dtype: int64"
     },
     "execution_count": 170,
     "metadata": {},
     "output_type": "execute_result"
    }
   ],
   "source": [
    "orders_tip_test['tip'] = y_pred\n",
    "orders_tip_test['tip'].value_counts()"
   ],
   "metadata": {
    "collapsed": false,
    "ExecuteTime": {
     "end_time": "2024-06-17T21:47:16.497751400Z",
     "start_time": "2024-06-17T21:47:16.422042300Z"
    }
   },
   "id": "fd36c4eeb568c04a",
   "execution_count": 170
  },
  {
   "cell_type": "code",
   "outputs": [
    {
     "data": {
      "text/plain": "                 order_id    tip\n0            10   1187899  False\n1            25   1492625   True\n2            49   2196797   True\n3            74    525192   True\n4            78    880375   True\n...         ...       ...    ...\n131204  3420838   2585586   True\n131205  3420862    943915   True\n131206  3420924   2371631  False\n131207  3420933   1716008  False\n131208  3421082    272231  False\n\n[131209 rows x 3 columns]",
      "text/html": "<div>\n<style scoped>\n    .dataframe tbody tr th:only-of-type {\n        vertical-align: middle;\n    }\n\n    .dataframe tbody tr th {\n        vertical-align: top;\n    }\n\n    .dataframe thead th {\n        text-align: right;\n    }\n</style>\n<table border=\"1\" class=\"dataframe\">\n  <thead>\n    <tr style=\"text-align: right;\">\n      <th></th>\n      <th></th>\n      <th>order_id</th>\n      <th>tip</th>\n    </tr>\n  </thead>\n  <tbody>\n    <tr>\n      <th>0</th>\n      <td>10</td>\n      <td>1187899</td>\n      <td>False</td>\n    </tr>\n    <tr>\n      <th>1</th>\n      <td>25</td>\n      <td>1492625</td>\n      <td>True</td>\n    </tr>\n    <tr>\n      <th>2</th>\n      <td>49</td>\n      <td>2196797</td>\n      <td>True</td>\n    </tr>\n    <tr>\n      <th>3</th>\n      <td>74</td>\n      <td>525192</td>\n      <td>True</td>\n    </tr>\n    <tr>\n      <th>4</th>\n      <td>78</td>\n      <td>880375</td>\n      <td>True</td>\n    </tr>\n    <tr>\n      <th>...</th>\n      <td>...</td>\n      <td>...</td>\n      <td>...</td>\n    </tr>\n    <tr>\n      <th>131204</th>\n      <td>3420838</td>\n      <td>2585586</td>\n      <td>True</td>\n    </tr>\n    <tr>\n      <th>131205</th>\n      <td>3420862</td>\n      <td>943915</td>\n      <td>True</td>\n    </tr>\n    <tr>\n      <th>131206</th>\n      <td>3420924</td>\n      <td>2371631</td>\n      <td>False</td>\n    </tr>\n    <tr>\n      <th>131207</th>\n      <td>3420933</td>\n      <td>1716008</td>\n      <td>False</td>\n    </tr>\n    <tr>\n      <th>131208</th>\n      <td>3421082</td>\n      <td>272231</td>\n      <td>False</td>\n    </tr>\n  </tbody>\n</table>\n<p>131209 rows × 3 columns</p>\n</div>"
     },
     "execution_count": 171,
     "metadata": {},
     "output_type": "execute_result"
    }
   ],
   "source": [
    "orders_tip_test_csv = pd.merge(tip_test.drop('tip', axis=1), orders_tip_test[['order_id', 'tip']], on='order_id',\n",
    "                               how='left')\n",
    "orders_tip_test_csv.rename(columns={tip_test.columns[0]: ''}, inplace=True)\n",
    "orders_tip_test_csv"
   ],
   "metadata": {
    "collapsed": false,
    "ExecuteTime": {
     "end_time": "2024-06-17T21:47:27.507450300Z",
     "start_time": "2024-06-17T21:47:26.821440700Z"
    }
   },
   "id": "45c41fb0baa49b56",
   "execution_count": 171
  },
  {
   "cell_type": "code",
   "outputs": [
    {
     "name": "stdout",
     "output_type": "stream",
     "text": [
      "Number of orders: 131209\n",
      "Number of NaN tip values: 0\n",
      "Order IDs of template and result are equal: True\n",
      "Order IDs of prediction input and result are equal: True\n"
     ]
    }
   ],
   "source": [
    "# Checks\n",
    "print(f\"Number of orders: {len(orders_tip_test_csv)}\")\n",
    "print(f\"Number of NaN tip values: {orders_tip_test_csv['tip'].isnull().sum()}\")\n",
    "print(f\"Order IDs of template and result are equal: {tip_test['order_id'].equals(orders_tip_test_csv['order_id'])}\")\n",
    "print(\n",
    "    f\"Order IDs of prediction input and result are equal: {orders_tip_test['order_id'].reset_index(drop=True).equals(orders_tip_test_csv['order_id'])}\")"
   ],
   "metadata": {
    "collapsed": false,
    "ExecuteTime": {
     "end_time": "2024-06-17T21:47:33.282313500Z",
     "start_time": "2024-06-17T21:47:33.266941Z"
    }
   },
   "id": "2ac824e2c95ef01f",
   "execution_count": 172
  },
  {
   "cell_type": "code",
   "outputs": [],
   "source": [
    "orders_tip_test_csv.to_csv(os.path.join(DATA_DIR, 'tip_testdaten1.csv'), index=False)"
   ],
   "metadata": {
    "collapsed": false,
    "ExecuteTime": {
     "end_time": "2024-06-17T21:47:38.536070800Z",
     "start_time": "2024-06-17T21:47:38.363545100Z"
    }
   },
   "id": "db65af74bde4df1d",
   "execution_count": 173
  },
  {
   "cell_type": "code",
   "outputs": [],
   "source": [],
   "metadata": {
    "collapsed": false
   },
   "id": "2bfa820e286f0b07",
   "execution_count": null
  }
 ],
 "metadata": {
  "kernelspec": {
   "display_name": "Python 3 (ipykernel)",
   "language": "python",
   "name": "python3"
  },
  "language_info": {
   "codemirror_mode": {
    "name": "ipython",
    "version": 3
   },
   "file_extension": ".py",
   "mimetype": "text/x-python",
   "name": "python",
   "nbconvert_exporter": "python",
   "pygments_lexer": "ipython3",
   "version": "3.11.8"
  }
 },
 "nbformat": 4,
 "nbformat_minor": 5
}
