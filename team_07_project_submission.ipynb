{
 "cells": [
  {
   "cell_type": "markdown",
   "id": "7aea19f30bc2952",
   "metadata": {
    "collapsed": false
   },
   "source": [
    "# Data Science Project SoSe 2024\n",
    "## Team 07\n",
    "- Maximilian Hoffmann\n",
    "- Kilian Kempf\n",
    "- Daniel Schneider\n",
    "- Tom Schuck\n",
    "\n",
    "## Project Submission"
   ]
  },
  {
   "cell_type": "markdown",
   "id": "ca8cc580026f3fef",
   "metadata": {
    "collapsed": false
   },
   "source": [
    "### Libraries"
   ]
  },
  {
   "cell_type": "code",
   "execution_count": 1,
   "id": "c51b42d19954d682",
   "metadata": {
    "collapsed": false,
    "ExecuteTime": {
     "end_time": "2024-06-07T20:58:55.163858400Z",
     "start_time": "2024-06-07T20:58:53.902268100Z"
    }
   },
   "outputs": [],
   "source": [
    "import os\n",
    "\n",
    "import pandas as pd\n",
    "\n",
    "from data_management import DataManager"
   ]
  },
  {
   "cell_type": "markdown",
   "id": "b1817857eb895437",
   "metadata": {
    "collapsed": false
   },
   "source": [
    "### Data Initialization"
   ]
  },
  {
   "cell_type": "code",
   "execution_count": 2,
   "id": "2ac69658072618d1",
   "metadata": {
    "collapsed": false,
    "ExecuteTime": {
     "end_time": "2024-06-07T20:59:25.085824400Z",
     "start_time": "2024-06-07T20:58:55.164765700Z"
    }
   },
   "outputs": [],
   "source": [
    "DATA_DIR = os.path.join(os.getcwd(), 'data/Instacart')\n",
    "\n",
    "op_prior = pd.read_csv(os.path.join(DATA_DIR, 'order_products__prior.csv.zip'))\n",
    "op_train = pd.read_csv(os.path.join(DATA_DIR, 'order_products__train.csv.zip'))\n",
    "\n",
    "tip_train = pd.read_csv(os.path.join(DATA_DIR, 'tip_trainingsdaten1_.csv'))[['order_id', 'tip']]\n",
    "tip_test = pd.read_csv(os.path.join(DATA_DIR, 'tip_testdaten1_template.csv'))\n",
    "\n",
    "orders = pd.read_csv(os.path.join(DATA_DIR, 'orders.csv.zip'))\n",
    "aisles = pd.read_csv(os.path.join(DATA_DIR, 'aisles.csv.zip'))\n",
    "departments = pd.read_csv(os.path.join(DATA_DIR, 'departments.csv.zip'))\n",
    "products = pd.read_csv(os.path.join(DATA_DIR, 'products.csv.zip'))\n",
    "\n",
    "data_manager = DataManager(op_prior, op_train, tip_train, tip_test, orders, products, aisles, departments)\n",
    "order_amount = len(data_manager.get_orders_tip())"
   ]
  },
  {
   "cell_type": "markdown",
   "id": "d11d62b342b9ebc8",
   "metadata": {
    "collapsed": false
   },
   "source": [
    "### Feature Engineering"
   ]
  },
  {
   "cell_type": "code",
   "execution_count": 3,
   "id": "6a897e084cc934ce",
   "metadata": {
    "collapsed": false,
    "ExecuteTime": {
     "end_time": "2024-06-07T20:59:25.090063400Z",
     "start_time": "2024-06-07T20:59:25.085824400Z"
    }
   },
   "outputs": [],
   "source": [
    "from feature_engineering.static_features import TipHistory, ReorderedRatio, OrderSize, PrevTippedProductsRatio, \\\n",
    "    CustomerLifetime, PrevOrderTipped, OrderFrequency, SimOrdersTipRatio, AvgSizePrevOrders, MeanOrderedRate, \\\n",
    "    LastTipSequence, RelDaysSinceTip, DaysSinceTip\n",
    "\n",
    "from feature_engineering.dynamic_features import ProductTipRate, DepartmentTipRate, AisleTipRate, DynamicFeatureTest1, \\\n",
    "    DynamicFeatureTest2\n",
    "\n",
    "# Kilian\n",
    "tip_history = TipHistory()\n",
    "reordered_rate = ReorderedRatio()\n",
    "order_size = OrderSize()\n",
    "prev_tipped_products_ratio = PrevTippedProductsRatio()\n",
    "customer_lifetime = CustomerLifetime()\n",
    "prev_order_tipped = PrevOrderTipped()\n",
    "\n",
    "# Daniel\n",
    "order_frequency = OrderFrequency()\n",
    "mean_ordered_rate = MeanOrderedRate()\n",
    "rel_days_since_tip = RelDaysSinceTip()\n",
    "days_since_tip = DaysSinceTip()\n",
    "\n",
    "# Max\n",
    "sim_orders_tip_ratio = SimOrdersTipRatio()\n",
    "product_tip_rate = ProductTipRate()\n",
    "department_tip_rate = DepartmentTipRate()\n",
    "aisle_tip_rate = AisleTipRate()\n",
    "last_tip_sequence = LastTipSequence()  # TODO: Maybe remove weighting or add additional feature without weoghting\n",
    "\n",
    "# Tom\n",
    "avg_size_prev_orders = AvgSizePrevOrders()\n",
    "\n",
    "# Test\n",
    "dynamic_feature_test_1 = DynamicFeatureTest1()\n",
    "dynamic_feature_test_2 = DynamicFeatureTest2()"
   ]
  },
  {
   "cell_type": "code",
   "execution_count": 4,
   "id": "7bdee9f31e0bac1b",
   "metadata": {
    "collapsed": false,
    "ExecuteTime": {
     "end_time": "2024-06-07T20:59:25.093951300Z",
     "start_time": "2024-06-07T20:59:25.092061900Z"
    }
   },
   "outputs": [],
   "source": [
    "# Static Features\n",
    "# data_manager.register_feature(tip_history)\n",
    "# data_manager.register_feature(reordered_rate)\n",
    "# data_manager.register_feature(order_size)\n",
    "# data_manager.register_feature(customer_lifetime)\n",
    "# data_manager.register_feature(prev_order_tipped)\n",
    "# data_manager.register_feature(prev_tipped_products_ratio)\n",
    "\n",
    "# data_manager.register_feature(order_frequency)\n",
    "# data_manager.register_feature(sim_orders_tip_ratio)\n",
    "# data_manager.register_feature(order_excess_likability)\n",
    "# data_manager.register_feature(avg_size_prev_orders)\n",
    "# data_manager.register_feature(mean_ordered_rate)\n",
    "# data_manager.register_feature(last_tip_sequence)\n",
    "# data_manager.register_feature(rel_days_since_tip)\n",
    "# data_manager.register_feature(days_since_tip)\n",
    "\n",
    "# # Dynamic Features\n",
    "# data_manager.register_feature(dynamic_feature_test_1)\n",
    "# data_manager.register_feature(dynamic_feature_test_2)\n",
    "# data_manager.register_feature(product_tip_rate)\n",
    "# data_manager.register_feature(department_tip_rate)\n",
    "# data_manager.register_feature(aisle_tip_rate)"
   ]
  },
  {
   "cell_type": "code",
   "execution_count": 5,
   "id": "6b815abe51807fce",
   "metadata": {
    "collapsed": false,
    "ExecuteTime": {
     "end_time": "2024-06-07T20:59:31.937625200Z",
     "start_time": "2024-06-07T20:59:25.097045800Z"
    }
   },
   "outputs": [],
   "source": [
    "data_manager.compute_features()"
   ]
  },
  {
   "cell_type": "code",
   "execution_count": 6,
   "id": "3657b7049bf9e8c2",
   "metadata": {
    "ExecuteTime": {
     "end_time": "2024-06-07T20:59:31.960538700Z",
     "start_time": "2024-06-07T20:59:31.943625400Z"
    }
   },
   "outputs": [
    {
     "data": {
      "text/plain": "    order_id  user_id eval_set  order_number  order_dow  order_hour_of_day  \\\n0    2539329        1    prior             1          2                  8   \n1    2398795        1    prior             2          3                  7   \n2     473747        1    prior             3          3                 12   \n3    2254736        1    prior             4          4                  7   \n4     431534        1    prior             5          4                 15   \n..       ...      ...      ...           ...        ...                ...   \n95   1916106       12    prior             3          5                  8   \n96   1057378       12    prior             4          3                  9   \n97    221248       12    prior             5          1                  9   \n98   2618231       13    prior             1          6                 12   \n99   2560699       13    prior             2          0                 11   \n\n    days_since_prior_order  tip  order_size  tip_history  customer_lifetime  \\\n0                      NaN  0.0           5          NaN                  0   \n1                     15.0  0.0           6          0.0                 15   \n2                     21.0  0.0           5          0.0                 36   \n3                     29.0  0.0           5          0.0                 65   \n4                     28.0  0.0           8          0.0                 93   \n..                     ...  ...         ...          ...                ...   \n95                    14.0  0.0          12          0.0                 44   \n96                    26.0  0.0          20          0.0                 70   \n97                    30.0  0.0          22          0.0                100   \n98                     NaN  0.0           5          NaN                  0   \n99                     8.0  1.0           4          0.0                  8   \n\n    reordered_ratio  \n0               NaN  \n1          0.500000  \n2          0.600000  \n3          1.000000  \n4          0.625000  \n..              ...  \n95         0.250000  \n96         0.250000  \n97         0.227273  \n98              NaN  \n99         0.500000  \n\n[100 rows x 12 columns]",
      "text/html": "<div>\n<style scoped>\n    .dataframe tbody tr th:only-of-type {\n        vertical-align: middle;\n    }\n\n    .dataframe tbody tr th {\n        vertical-align: top;\n    }\n\n    .dataframe thead th {\n        text-align: right;\n    }\n</style>\n<table border=\"1\" class=\"dataframe\">\n  <thead>\n    <tr style=\"text-align: right;\">\n      <th></th>\n      <th>order_id</th>\n      <th>user_id</th>\n      <th>eval_set</th>\n      <th>order_number</th>\n      <th>order_dow</th>\n      <th>order_hour_of_day</th>\n      <th>days_since_prior_order</th>\n      <th>tip</th>\n      <th>order_size</th>\n      <th>tip_history</th>\n      <th>customer_lifetime</th>\n      <th>reordered_ratio</th>\n    </tr>\n  </thead>\n  <tbody>\n    <tr>\n      <th>0</th>\n      <td>2539329</td>\n      <td>1</td>\n      <td>prior</td>\n      <td>1</td>\n      <td>2</td>\n      <td>8</td>\n      <td>NaN</td>\n      <td>0.0</td>\n      <td>5</td>\n      <td>NaN</td>\n      <td>0</td>\n      <td>NaN</td>\n    </tr>\n    <tr>\n      <th>1</th>\n      <td>2398795</td>\n      <td>1</td>\n      <td>prior</td>\n      <td>2</td>\n      <td>3</td>\n      <td>7</td>\n      <td>15.0</td>\n      <td>0.0</td>\n      <td>6</td>\n      <td>0.0</td>\n      <td>15</td>\n      <td>0.500000</td>\n    </tr>\n    <tr>\n      <th>2</th>\n      <td>473747</td>\n      <td>1</td>\n      <td>prior</td>\n      <td>3</td>\n      <td>3</td>\n      <td>12</td>\n      <td>21.0</td>\n      <td>0.0</td>\n      <td>5</td>\n      <td>0.0</td>\n      <td>36</td>\n      <td>0.600000</td>\n    </tr>\n    <tr>\n      <th>3</th>\n      <td>2254736</td>\n      <td>1</td>\n      <td>prior</td>\n      <td>4</td>\n      <td>4</td>\n      <td>7</td>\n      <td>29.0</td>\n      <td>0.0</td>\n      <td>5</td>\n      <td>0.0</td>\n      <td>65</td>\n      <td>1.000000</td>\n    </tr>\n    <tr>\n      <th>4</th>\n      <td>431534</td>\n      <td>1</td>\n      <td>prior</td>\n      <td>5</td>\n      <td>4</td>\n      <td>15</td>\n      <td>28.0</td>\n      <td>0.0</td>\n      <td>8</td>\n      <td>0.0</td>\n      <td>93</td>\n      <td>0.625000</td>\n    </tr>\n    <tr>\n      <th>...</th>\n      <td>...</td>\n      <td>...</td>\n      <td>...</td>\n      <td>...</td>\n      <td>...</td>\n      <td>...</td>\n      <td>...</td>\n      <td>...</td>\n      <td>...</td>\n      <td>...</td>\n      <td>...</td>\n      <td>...</td>\n    </tr>\n    <tr>\n      <th>95</th>\n      <td>1916106</td>\n      <td>12</td>\n      <td>prior</td>\n      <td>3</td>\n      <td>5</td>\n      <td>8</td>\n      <td>14.0</td>\n      <td>0.0</td>\n      <td>12</td>\n      <td>0.0</td>\n      <td>44</td>\n      <td>0.250000</td>\n    </tr>\n    <tr>\n      <th>96</th>\n      <td>1057378</td>\n      <td>12</td>\n      <td>prior</td>\n      <td>4</td>\n      <td>3</td>\n      <td>9</td>\n      <td>26.0</td>\n      <td>0.0</td>\n      <td>20</td>\n      <td>0.0</td>\n      <td>70</td>\n      <td>0.250000</td>\n    </tr>\n    <tr>\n      <th>97</th>\n      <td>221248</td>\n      <td>12</td>\n      <td>prior</td>\n      <td>5</td>\n      <td>1</td>\n      <td>9</td>\n      <td>30.0</td>\n      <td>0.0</td>\n      <td>22</td>\n      <td>0.0</td>\n      <td>100</td>\n      <td>0.227273</td>\n    </tr>\n    <tr>\n      <th>98</th>\n      <td>2618231</td>\n      <td>13</td>\n      <td>prior</td>\n      <td>1</td>\n      <td>6</td>\n      <td>12</td>\n      <td>NaN</td>\n      <td>0.0</td>\n      <td>5</td>\n      <td>NaN</td>\n      <td>0</td>\n      <td>NaN</td>\n    </tr>\n    <tr>\n      <th>99</th>\n      <td>2560699</td>\n      <td>13</td>\n      <td>prior</td>\n      <td>2</td>\n      <td>0</td>\n      <td>11</td>\n      <td>8.0</td>\n      <td>1.0</td>\n      <td>4</td>\n      <td>0.0</td>\n      <td>8</td>\n      <td>0.500000</td>\n    </tr>\n  </tbody>\n</table>\n<p>100 rows × 12 columns</p>\n</div>"
     },
     "execution_count": 6,
     "metadata": {},
     "output_type": "execute_result"
    }
   ],
   "source": [
    "data_manager.get_orders_tip().head(100)"
   ]
  },
  {
   "cell_type": "code",
   "execution_count": 7,
   "id": "d879a6a14f49589a",
   "metadata": {
    "collapsed": false,
    "ExecuteTime": {
     "end_time": "2024-06-07T20:59:31.982192500Z",
     "start_time": "2024-06-07T20:59:31.954932600Z"
    }
   },
   "outputs": [],
   "source": [
    "# data_manager.export_features('data/prepared_data/computed_features.csv.zip', only_static=False)"
   ]
  },
  {
   "cell_type": "code",
   "execution_count": 8,
   "id": "5e56cee1c81131b2",
   "metadata": {
    "collapsed": false,
    "ExecuteTime": {
     "end_time": "2024-06-07T20:59:31.985718200Z",
     "start_time": "2024-06-07T20:59:31.962521700Z"
    }
   },
   "outputs": [],
   "source": [
    "# data_manager.import_features('data/prepared_data/computed_features.csv.zip', only_static=False)"
   ]
  },
  {
   "cell_type": "code",
   "execution_count": 9,
   "id": "8f2a4c2575deb79a",
   "metadata": {
    "collapsed": false,
    "ExecuteTime": {
     "end_time": "2024-06-07T20:59:32.006246400Z",
     "start_time": "2024-06-07T20:59:31.968194700Z"
    }
   },
   "outputs": [],
   "source": [
    "# data_manager.get_orders_tip().head(100)"
   ]
  },
  {
   "cell_type": "code",
   "execution_count": 10,
   "id": "c8f20e5050aee4ab",
   "metadata": {
    "collapsed": false,
    "ExecuteTime": {
     "end_time": "2024-06-07T20:59:32.007751400Z",
     "start_time": "2024-06-07T20:59:31.973981400Z"
    }
   },
   "outputs": [],
   "source": [
    "# test = data_manager.get_orders_tip()"
   ]
  },
  {
   "cell_type": "code",
   "execution_count": 11,
   "id": "70be2ca230e12d01",
   "metadata": {
    "collapsed": false,
    "ExecuteTime": {
     "end_time": "2024-06-07T20:59:32.010756200Z",
     "start_time": "2024-06-07T20:59:31.979953400Z"
    }
   },
   "outputs": [],
   "source": [
    "# print(f\"Number of orders: {len(data_manager.get_orders_tip())}\")\n",
    "# print(f\"Number of orders did not change: {order_amount == len(data_manager.get_orders_tip())}\\n\")\n",
    "# print(f\"Number of NaN or null values in each column:\\n{data_manager.get_orders_tip().isnull().sum()}\")"
   ]
  },
  {
   "cell_type": "code",
   "execution_count": 12,
   "id": "ed21e9e41111b301",
   "metadata": {
    "collapsed": false,
    "ExecuteTime": {
     "end_time": "2024-06-07T20:59:32.030264700Z",
     "start_time": "2024-06-07T20:59:31.985718200Z"
    }
   },
   "outputs": [],
   "source": [
    "# order_ids = data_manager.get_orders_tip(complete=True).groupby('user_id')['order_id'].head(5)\n",
    "# order_amount = len(order_ids)"
   ]
  },
  {
   "cell_type": "code",
   "execution_count": 13,
   "id": "a9c4a8244b861028",
   "metadata": {
    "collapsed": false,
    "ExecuteTime": {
     "end_time": "2024-06-07T20:59:32.033265400Z",
     "start_time": "2024-06-07T20:59:31.989967900Z"
    }
   },
   "outputs": [],
   "source": [
    "# data_manager.set_subset(order_ids)"
   ]
  },
  {
   "cell_type": "code",
   "execution_count": 14,
   "id": "82124a97baebc52",
   "metadata": {
    "collapsed": false,
    "ExecuteTime": {
     "end_time": "2024-06-07T20:59:32.173161Z",
     "start_time": "2024-06-07T20:59:32.043830300Z"
    }
   },
   "outputs": [],
   "source": [
    "# data_manager.get_orders_tip().head(25)"
   ]
  },
  {
   "cell_type": "code",
   "execution_count": 15,
   "id": "e35d205a2cb3a9a7",
   "metadata": {
    "collapsed": false,
    "ExecuteTime": {
     "end_time": "2024-06-07T20:59:32.175164Z",
     "start_time": "2024-06-07T20:59:32.046850800Z"
    }
   },
   "outputs": [],
   "source": [
    "# print(f\"Number of orders: {len(data_manager.get_orders_tip())}\")\n",
    "# print(f\"Number of orders did not change: {order_amount == len(data_manager.get_orders_tip())}\\n\")\n",
    "# print(f\"Number of NaN or null values in each column:\\n{data_manager.get_orders_tip().isnull().sum()}\")"
   ]
  },
  {
   "cell_type": "code",
   "execution_count": 16,
   "id": "f74c035a9f150c03",
   "metadata": {
    "collapsed": false,
    "ExecuteTime": {
     "end_time": "2024-06-07T20:59:32.201130300Z",
     "start_time": "2024-06-07T20:59:32.053355Z"
    }
   },
   "outputs": [],
   "source": [
    "# order_ids = data_manager.get_orders_tip(complete=True).groupby('user_id')['order_id'].head(4)\n",
    "# order_amount = len(order_ids)\n",
    "# \n",
    "# data_manager.set_subset(order_ids)\n",
    "# data_manager.get_orders_tip().head(25)"
   ]
  },
  {
   "cell_type": "code",
   "execution_count": 17,
   "id": "9ec949cdfc48d38e",
   "metadata": {
    "collapsed": false,
    "ExecuteTime": {
     "end_time": "2024-06-07T20:59:32.216640500Z",
     "start_time": "2024-06-07T20:59:32.058317100Z"
    }
   },
   "outputs": [],
   "source": [
    "# print(f\"Number of orders: {len(data_manager.get_orders_tip())}\")\n",
    "# print(f\"Number of orders did not change: {order_amount == len(data_manager.get_orders_tip())}\\n\")\n",
    "# print(f\"Number of NaN or null values in each column:\\n{data_manager.get_orders_tip().isnull().sum()}\")"
   ]
  },
  {
   "cell_type": "markdown",
   "id": "d571331aa19136d5",
   "metadata": {
    "collapsed": false
   },
   "source": [
    "### Analysis\n",
    "- Only orders from the training set (orders with tip information) are considered"
   ]
  },
  {
   "cell_type": "code",
   "execution_count": 18,
   "id": "a09a31448a99e7e0",
   "metadata": {
    "collapsed": false,
    "ExecuteTime": {
     "end_time": "2024-06-07T20:59:32.666175Z",
     "start_time": "2024-06-07T20:59:32.062694500Z"
    }
   },
   "outputs": [],
   "source": [
    "from analysis import DaysSincePriorOrder, DayOfWeek, HourOfDay, Department, OrderNumber, Aisle, Product"
   ]
  },
  {
   "cell_type": "code",
   "execution_count": 19,
   "id": "4be267945f618a88",
   "metadata": {
    "collapsed": false,
    "ExecuteTime": {
     "end_time": "2024-06-07T21:00:21.774098900Z",
     "start_time": "2024-06-07T20:59:32.634173500Z"
    }
   },
   "outputs": [],
   "source": [
    "day_of_week = DayOfWeek(data_manager)\n",
    "hour_of_day = HourOfDay(data_manager)\n",
    "days_since_prior_order = DaysSincePriorOrder(data_manager)\n",
    "order_number = OrderNumber(data_manager)\n",
    "department = Department(data_manager)\n",
    "aisle = Aisle(data_manager)\n",
    "product = Product(data_manager)\n",
    "# number_order_user = NumberOrderUser(data_manager)\n",
    "\n",
    "# Frequency of items with tip probability > 0.9, 0.8, 0.7, 0.6, 0.5 ... 0.1 \n",
    "# Group into percentiles and average tip probability\n",
    "# Plot bar chart with tip probability and mean tip probability (limit to top 10?)\n",
    "\n",
    "# TODO:\n",
    "# - Decide on departments grouping\n",
    "# - Product/Department/Aisle Tip Rate"
   ]
  },
  {
   "cell_type": "code",
   "execution_count": 20,
   "id": "de5ab313cde80cab",
   "metadata": {
    "collapsed": false,
    "ExecuteTime": {
     "end_time": "2024-06-07T21:00:21.780894900Z",
     "start_time": "2024-06-07T21:00:21.776247100Z"
    }
   },
   "outputs": [],
   "source": [
    "# day_of_week.execute_analysis()"
   ]
  },
  {
   "cell_type": "code",
   "execution_count": 21,
   "id": "fc25465ac99bd8a",
   "metadata": {
    "collapsed": false,
    "ExecuteTime": {
     "end_time": "2024-06-07T21:00:21.817144400Z",
     "start_time": "2024-06-07T21:00:21.780894900Z"
    }
   },
   "outputs": [],
   "source": [
    "# hour_of_day.execute_analysis()"
   ]
  },
  {
   "cell_type": "code",
   "execution_count": 22,
   "id": "1935f461e5cadb36",
   "metadata": {
    "collapsed": false,
    "ExecuteTime": {
     "end_time": "2024-06-07T21:00:21.855384500Z",
     "start_time": "2024-06-07T21:00:21.798095500Z"
    }
   },
   "outputs": [],
   "source": [
    "# days_since_prior_order.execute_analysis()"
   ]
  },
  {
   "cell_type": "code",
   "execution_count": 23,
   "id": "61ab78ca758fe69b",
   "metadata": {
    "collapsed": false,
    "ExecuteTime": {
     "end_time": "2024-06-07T21:00:21.858053800Z",
     "start_time": "2024-06-07T21:00:21.803153800Z"
    }
   },
   "outputs": [],
   "source": [
    "# order_number.execute_analysis()"
   ]
  },
  {
   "cell_type": "code",
   "execution_count": 24,
   "id": "ef07aadff9a64100",
   "metadata": {
    "collapsed": false,
    "ExecuteTime": {
     "end_time": "2024-06-07T21:00:21.886213700Z",
     "start_time": "2024-06-07T21:00:21.808361400Z"
    }
   },
   "outputs": [],
   "source": [
    "# department.execute_analysis()"
   ]
  },
  {
   "cell_type": "code",
   "execution_count": 25,
   "id": "3f084df0e69a8f47",
   "metadata": {
    "collapsed": false,
    "ExecuteTime": {
     "end_time": "2024-06-07T21:00:21.889682800Z",
     "start_time": "2024-06-07T21:00:21.813606500Z"
    }
   },
   "outputs": [],
   "source": [
    "# aisle.execute_analysis()"
   ]
  },
  {
   "cell_type": "code",
   "execution_count": 26,
   "id": "9eb958b973ace283",
   "metadata": {
    "collapsed": false,
    "ExecuteTime": {
     "end_time": "2024-06-07T21:00:21.918165700Z",
     "start_time": "2024-06-07T21:00:21.818598Z"
    }
   },
   "outputs": [],
   "source": [
    "# product.execute_analysis()"
   ]
  },
  {
   "cell_type": "code",
   "execution_count": 27,
   "id": "20d37cf36392362c",
   "metadata": {
    "ExecuteTime": {
     "end_time": "2024-06-07T21:00:21.920664100Z",
     "start_time": "2024-06-07T21:00:21.834209900Z"
    }
   },
   "outputs": [],
   "source": [
    "# number_order_user.execute_analysis()"
   ]
  },
  {
   "cell_type": "markdown",
   "id": "63ca3a2c4358810d",
   "metadata": {
    "collapsed": false
   },
   "source": [
    "### Data Preparation"
   ]
  },
  {
   "cell_type": "code",
   "execution_count": 50,
   "id": "b9e09d0cfa2575f4",
   "metadata": {
    "collapsed": false,
    "ExecuteTime": {
     "end_time": "2024-06-07T21:00:22.193392800Z",
     "start_time": "2024-06-07T21:00:21.956015600Z"
    }
   },
   "outputs": [],
   "source": [
    "from feature_engineering.static_features import DowHighTipProbability, HodHighTipProbability, OrderNumberSquared, \\\n",
    "    ContainsAlcohol\n",
    "\n",
    "data_manager.register_feature(DowHighTipProbability())\n",
    "data_manager.register_feature(HodHighTipProbability())\n",
    "data_manager.register_feature(OrderNumberSquared())\n",
    "data_manager.register_feature(ContainsAlcohol())"
   ]
  },
  {
   "cell_type": "code",
   "execution_count": 51,
   "id": "7abbbc99cec0f748",
   "metadata": {
    "collapsed": false,
    "ExecuteTime": {
     "end_time": "2024-06-07T21:00:34.239606500Z",
     "start_time": "2024-06-07T21:00:21.963787100Z"
    }
   },
   "outputs": [],
   "source": [
    "data_manager.compute_features()"
   ]
  },
  {
   "cell_type": "markdown",
   "id": "9038d3d52fbf8ad1",
   "metadata": {
    "collapsed": false
   },
   "source": [
    "### Model Training & Evaluation"
   ]
  },
  {
   "cell_type": "code",
   "execution_count": 52,
   "id": "ad73673f8150801a",
   "metadata": {
    "collapsed": false,
    "ExecuteTime": {
     "end_time": "2024-06-07T21:00:34.271393100Z",
     "start_time": "2024-06-07T21:00:34.239606500Z"
    }
   },
   "outputs": [],
   "source": [
    "# from data_management import UserTSCVSplitter, LastOrderUserTSCVSplitter"
   ]
  },
  {
   "cell_type": "code",
   "outputs": [
    {
     "ename": "TypeError",
     "evalue": "LastOrderUserTSCVSplitter.__init__() missing 1 required positional argument: 'orders_by_user'",
     "output_type": "error",
     "traceback": [
      "\u001B[1;31m---------------------------------------------------------------------------\u001B[0m",
      "\u001B[1;31mTypeError\u001B[0m                                 Traceback (most recent call last)",
      "Cell \u001B[1;32mIn[53], line 1\u001B[0m\n\u001B[1;32m----> 1\u001B[0m last_order_user_tscv \u001B[38;5;241m=\u001B[39m \u001B[43mLastOrderUserTSCVSplitter\u001B[49m\u001B[43m(\u001B[49m\u001B[43mn_splits\u001B[49m\u001B[38;5;241;43m=\u001B[39;49m\u001B[38;5;241;43m5\u001B[39;49m\u001B[43m)\u001B[49m\n",
      "\u001B[1;31mTypeError\u001B[0m: LastOrderUserTSCVSplitter.__init__() missing 1 required positional argument: 'orders_by_user'"
     ]
    }
   ],
   "source": [
    "# last_order_user_tscv = LastOrderUserTSCVSplitter(n_splits=5)"
   ],
   "metadata": {
    "collapsed": false,
    "ExecuteTime": {
     "end_time": "2024-06-07T21:00:35.871210300Z",
     "start_time": "2024-06-07T21:00:34.258324300Z"
    }
   },
   "id": "9536ad3b2ec2e510",
   "execution_count": 53
  },
  {
   "cell_type": "code",
   "outputs": [],
   "source": [
    "# user_tscv_splitter = UserTSCVSplitter(n_splits=5, test_size=0.2)"
   ],
   "metadata": {
    "collapsed": false,
    "ExecuteTime": {
     "end_time": "2024-06-07T21:00:35.871210300Z",
     "start_time": "2024-06-07T21:00:35.871210300Z"
    }
   },
   "id": "ba2e5f8268a652d9"
  },
  {
   "cell_type": "code",
   "outputs": [],
   "source": [
    "# import numpy as np\n",
    "# from sklearn.datasets import load_iris\n",
    "# from sklearn.ensemble import RandomForestClassifier\n",
    "# from sklearn.preprocessing import StandardScaler\n",
    "# from sklearn.model_selection import GridSearchCV, Pipeline\n",
    "# from sklearn.base import BaseEstimator, TransformerMixin\n",
    "# \n",
    "# \n",
    "# # Example custom transformer that could modify data based on some condition per fold\n",
    "# class CustomTransformer(BaseEstimator, TransformerMixin):\n",
    "#     def fit(self, X, y=None):\n",
    "#         # Implement fitting logic if necessary\n",
    "#         return self\n",
    "# \n",
    "#     def transform(self, X):\n",
    "#         # Modify X based on some condition or computation\n",
    "#         return X  # Return modified X\n",
    "# \n",
    "# \n",
    "# class CustomSplit:\n",
    "#     def __init__(self, n_splits=3):\n",
    "#         self.n_splits = n_splits\n",
    "# \n",
    "#     def split(self, X, y=None, groups=None):\n",
    "#         n_samples = len(X)\n",
    "#         fold_sizes = np.full(self.n_splits, n_samples // self.n_splits, dtype=int)\n",
    "#         fold_sizes[:n_samples % self.n_splits] += 1\n",
    "#         current = 0\n",
    "#         for fold_size in fold_sizes:\n",
    "#             start, stop = current, current + fold_size\n",
    "#             test_indices = np.arange(start, stop)\n",
    "#             train_indices = np.setdiff1d(np.arange(n_samples), test_indices)\n",
    "#             yield train_indices, test_indices\n",
    "# \n",
    "#     def get_n_splits(self, X=None, y=None, groups=None):\n",
    "#         return self.n_splits\n",
    "# \n",
    "# \n",
    "# # Load data\n",
    "# data = load_iris()\n",
    "# X, y = data.data, data.target\n",
    "# \n",
    "# # Create a pipeline with a custom transformer and a classifier\n",
    "# pipeline = Pipeline([\n",
    "#     ('custom_transform', CustomTransformer()),\n",
    "#     ('scaler', StandardScaler()),  # Example of another preprocessing step\n",
    "#     ('classifier', RandomForestClassifier())\n",
    "# ])\n",
    "# \n",
    "# # Define parameter grid (note: include pipeline step names)\n",
    "# param_grid = {\n",
    "#     'classifier__n_estimators': [100, 200],\n",
    "#     'classifier__max_features': ['auto', 'sqrt']\n",
    "# }\n",
    "# \n",
    "# # Setup GridSearchCV with custom cross-validator\n",
    "# cv = CustomSplit(n_splits=5)\n",
    "# grid_search = GridSearchCV(pipeline, param_grid, cv=cv, scoring='accuracy')\n",
    "# \n",
    "# # Perform grid search\n",
    "# grid_search.fit(X, y)\n",
    "# print(\"Best parameters:\", grid_search.best_params_)\n",
    "# print(\"Best cross-validation score: {:.3f}\".format(grid_search.best_score_))\n"
   ],
   "metadata": {
    "collapsed": false,
    "ExecuteTime": {
     "end_time": "2024-06-07T21:00:35.897152Z",
     "start_time": "2024-06-07T21:00:35.872919800Z"
    }
   },
   "id": "6f9275104fa2d9b5"
  }
 ],
 "metadata": {
  "kernelspec": {
   "display_name": "Python 3 (ipykernel)",
   "language": "python",
   "name": "python3"
  },
  "language_info": {
   "codemirror_mode": {
    "name": "ipython",
    "version": 3
   },
   "file_extension": ".py",
   "mimetype": "text/x-python",
   "name": "python",
   "nbconvert_exporter": "python",
   "pygments_lexer": "ipython3",
   "version": "3.11.8"
  }
 },
 "nbformat": 4,
 "nbformat_minor": 5
}
