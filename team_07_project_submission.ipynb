{
 "cells": [
  {
   "cell_type": "markdown",
   "id": "7aea19f30bc2952",
   "metadata": {
    "collapsed": false
   },
   "source": [
    "# Data Science Project SoSe 2024\n",
    "## Team 07\n",
    "- Maximilian Hoffmann\n",
    "- Kilian Kempf\n",
    "- Daniel Schneider\n",
    "- Tom Schuck\n",
    "\n",
    "## Project Submission"
   ]
  },
  {
   "cell_type": "markdown",
   "id": "b1817857eb895437",
   "metadata": {
    "collapsed": false
   },
   "source": [
    "### Data Initialization"
   ]
  },
  {
   "cell_type": "code",
   "id": "2ac69658072618d1",
   "metadata": {
    "collapsed": false,
    "ExecuteTime": {
     "end_time": "2024-06-11T12:10:58.070891Z",
     "start_time": "2024-06-11T12:10:28.050461Z"
    }
   },
   "source": [
    "import os\n",
    "\n",
    "import pandas as pd\n",
    "\n",
    "from data_management import DataManager\n",
    "\n",
    "DATA_DIR = os.path.join(os.getcwd(), 'data/Instacart')\n",
    "\n",
    "op_prior = pd.read_csv(os.path.join(DATA_DIR, 'order_products__prior.csv.zip'))\n",
    "op_train = pd.read_csv(os.path.join(DATA_DIR, 'order_products__train.csv.zip'))\n",
    "\n",
    "tip_train = pd.read_csv(os.path.join(DATA_DIR, 'tip_trainingsdaten1_.csv'))[['order_id', 'tip']]\n",
    "tip_test = pd.read_csv(os.path.join(DATA_DIR, 'tip_testdaten1_template.csv'))\n",
    "\n",
    "orders = pd.read_csv(os.path.join(DATA_DIR, 'orders.csv.zip'))\n",
    "aisles = pd.read_csv(os.path.join(DATA_DIR, 'aisles.csv.zip'))\n",
    "departments = pd.read_csv(os.path.join(DATA_DIR, 'departments.csv.zip'))\n",
    "products = pd.read_csv(os.path.join(DATA_DIR, 'products.csv.zip'))\n",
    "\n",
    "data_manager = DataManager(op_prior, op_train, tip_train, tip_test, orders, products, aisles, departments)\n",
    "order_amount = len(data_manager.get_orders_tip())"
   ],
   "outputs": [],
   "execution_count": 1
  },
  {
   "cell_type": "markdown",
   "id": "d11d62b342b9ebc8",
   "metadata": {
    "collapsed": false
   },
   "source": [
    "### Feature Engineering"
   ]
  },
  {
   "cell_type": "code",
   "outputs": [],
   "source": [
    "from feature_engineering.static_features import TipHistory, ReorderedRatio, OrderSize, PrevTippedProductsRatio, \\\n",
    "    CustomerLifetime, PrevOrderTipped, OrderFrequency, SimOrdersTipRatio, AvgSizePrevOrders, MeanOrderedRate, \\\n",
    "    LastTipSequence, RelDaysSinceTip, DaysSinceTip, OrderNumberSquared, HodHighTipProbability, DowHighTipProbability, \\\n",
    "    ContainsAlcohol\n",
    "\n",
    "from feature_engineering.dynamic_features import ProductTipRate, DepartmentTipRate, AisleTipRate, DynamicFeatureTest1, \\\n",
    "    DynamicFeatureTest2, AssocRulesAisles, AssocRulesDepartments\n",
    "\n",
    "# Kilian\n",
    "tip_history = TipHistory()\n",
    "reordered_rate = ReorderedRatio()\n",
    "order_size = OrderSize()\n",
    "prev_tipped_products_ratio = PrevTippedProductsRatio()\n",
    "customer_lifetime = CustomerLifetime()\n",
    "prev_order_tipped = PrevOrderTipped()\n",
    "\n",
    "# Daniel\n",
    "order_frequency = OrderFrequency()\n",
    "mean_ordered_rate = MeanOrderedRate()\n",
    "rel_days_since_tip = RelDaysSinceTip()\n",
    "days_since_tip = DaysSinceTip()\n",
    "\n",
    "# Max\n",
    "sim_orders_tip_ratio = SimOrdersTipRatio()\n",
    "product_tip_rate = ProductTipRate()\n",
    "department_tip_rate = DepartmentTipRate()\n",
    "aisle_tip_rate = AisleTipRate()\n",
    "last_tip_sequence = LastTipSequence()\n",
    "\n",
    "# Tom\n",
    "avg_size_prev_orders = AvgSizePrevOrders()\n",
    "\n",
    "# Features analysis\n",
    "order_number_squared = OrderNumberSquared()\n",
    "hod_high_tip_probability = HodHighTipProbability()\n",
    "dow_high_tip_probability = DowHighTipProbability()\n",
    "contains_alcohol = ContainsAlcohol()\n",
    "\n",
    "assoc_rules_departments = AssocRulesDepartments()\n",
    "assoc_rules_aisles = AssocRulesAisles()\n",
    "\n",
    "# Test\n",
    "dynamic_feature_test_1 = DynamicFeatureTest1()\n",
    "dynamic_feature_test_2 = DynamicFeatureTest2()"
   ],
   "metadata": {
    "collapsed": false
   },
   "id": "17146b7392a9f170"
  },
  {
   "cell_type": "code",
   "outputs": [],
   "source": [
    "# Static Features\n",
    "data_manager.register_feature(tip_history)\n",
    "data_manager.register_feature(reordered_rate)\n",
    "data_manager.register_feature(order_size)\n",
    "data_manager.register_feature(customer_lifetime)\n",
    "data_manager.register_feature(prev_order_tipped)\n",
    "data_manager.register_feature(prev_tipped_products_ratio)\n",
    "\n",
    "data_manager.register_feature(order_frequency)\n",
    "data_manager.register_feature(sim_orders_tip_ratio)\n",
    "data_manager.register_feature(avg_size_prev_orders)\n",
    "data_manager.register_feature(mean_ordered_rate)\n",
    "data_manager.register_feature(last_tip_sequence)\n",
    "data_manager.register_feature(rel_days_since_tip)\n",
    "data_manager.register_feature(days_since_tip)\n",
    "\n",
    "data_manager.register_feature(order_number_squared)\n",
    "data_manager.register_feature(hod_high_tip_probability)\n",
    "data_manager.register_feature(dow_high_tip_probability)\n",
    "data_manager.register_feature(contains_alcohol)\n",
    "\n",
    "# Dynamic Features\n",
    "data_manager.register_feature(dynamic_feature_test_1)\n",
    "data_manager.register_feature(dynamic_feature_test_2)\n",
    "data_manager.register_feature(product_tip_rate)\n",
    "data_manager.register_feature(department_tip_rate)\n",
    "data_manager.register_feature(aisle_tip_rate)\n",
    "\n",
    "data_manager.register_feature(assoc_rules_departments)\n",
    "data_manager.register_feature(assoc_rules_aisles)"
   ],
   "metadata": {
    "collapsed": false
   },
   "id": "b081568c70f50d37"
  },
  {
   "cell_type": "code",
   "outputs": [],
   "source": [
    "data_manager.compute_features()"
   ],
   "metadata": {
    "collapsed": false
   },
   "id": "edd5fa56155665d8"
  },
  {
   "cell_type": "code",
   "outputs": [],
   "source": [
    "data_manager.get_orders_tip().head(100)"
   ],
   "metadata": {
    "collapsed": false
   },
   "id": "713f52be4f46812b"
  },
  {
   "cell_type": "code",
   "outputs": [],
   "source": [
    "data_manager.export_features('data/prepared_data/computed_features.csv.zip', only_static=False)"
   ],
   "metadata": {
    "collapsed": false
   },
   "id": "4cb24eaddbbf3e23"
  },
  {
   "cell_type": "code",
   "outputs": [],
   "source": [
    "data_manager.import_features('data/prepared_data/computed_features.csv.zip', only_static=False)"
   ],
   "metadata": {
    "collapsed": false
   },
   "id": "f801c18938a6483d"
  },
  {
   "cell_type": "code",
   "outputs": [],
   "source": [
    "# data_manager.get_orders_tip().head(100)"
   ],
   "metadata": {
    "collapsed": false
   },
   "id": "abf9dbc1e8a9df3e"
  },
  {
   "cell_type": "code",
   "outputs": [],
   "source": [
    "# test = data_manager.get_orders_tip()"
   ],
   "metadata": {
    "collapsed": false
   },
   "id": "4755549fddba80dd"
  },
  {
   "cell_type": "code",
   "outputs": [],
   "source": [
    "# print(f\"Number of orders: {len(data_manager.get_orders_tip())}\")\n",
    "# print(f\"Number of orders did not change: {order_amount == len(data_manager.get_orders_tip())}\\n\")\n",
    "# print(f\"Number of NaN or null values in each column:\\n{data_manager.get_orders_tip().isnull().sum()}\")"
   ],
   "metadata": {
    "collapsed": false
   },
   "id": "2cbc3e033b6867f9"
  },
  {
   "cell_type": "code",
   "outputs": [],
   "source": [
    "# order_ids = data_manager.get_orders_tip(complete=True).groupby('user_id')['order_id'].head(5)\n",
    "# order_amount = len(order_ids)"
   ],
   "metadata": {
    "collapsed": false
   },
   "id": "60d0c1c2504cca88"
  },
  {
   "cell_type": "code",
   "outputs": [],
   "source": [
    "# data_manager.set_subset(order_ids)"
   ],
   "metadata": {
    "collapsed": false
   },
   "id": "ea75a49725dbfdef"
  },
  {
   "cell_type": "code",
   "outputs": [],
   "source": [
    "# data_manager.get_orders_tip().head(25)"
   ],
   "metadata": {
    "collapsed": false
   },
   "id": "ae96799844c48c55"
  },
  {
   "cell_type": "code",
   "outputs": [],
   "source": [
    "# print(f\"Number of orders: {len(data_manager.get_orders_tip())}\")\n",
    "# print(f\"Number of orders did not change: {order_amount == len(data_manager.get_orders_tip())}\\n\")\n",
    "# print(f\"Number of NaN or null values in each column:\\n{data_manager.get_orders_tip().isnull().sum()}\")"
   ],
   "metadata": {
    "collapsed": false
   },
   "id": "b169956333c51c66"
  },
  {
   "cell_type": "code",
   "outputs": [],
   "source": [
    "# order_ids = data_manager.get_orders_tip(complete=True).groupby('user_id')['order_id'].head(4)\n",
    "# order_amount = len(order_ids)\n",
    "# \n",
    "# data_manager.set_subset(order_ids)\n",
    "# data_manager.get_orders_tip().head(25)"
   ],
   "metadata": {
    "collapsed": false
   },
   "id": "6913eb1c1ef566e5"
  },
  {
   "cell_type": "code",
   "outputs": [],
   "source": [
    "# print(f\"Number of orders: {len(data_manager.get_orders_tip())}\")\n",
    "# print(f\"Number of orders did not change: {order_amount == len(data_manager.get_orders_tip())}\\n\")\n",
    "# print(f\"Number of NaN or null values in each column:\\n{data_manager.get_orders_tip().isnull().sum()}\")"
   ],
   "metadata": {
    "collapsed": false
   },
   "id": "d0e728bc955477d5"
  },
  {
   "cell_type": "markdown",
   "source": [
    "### Analysis\n",
    "- Only orders from the training set (orders with tip information) are considered"
   ],
   "metadata": {
    "collapsed": false
   },
   "id": "890a24fdac60f10f"
  },
  {
   "cell_type": "code",
   "outputs": [],
   "source": [
    "# from analysis import DayOfWeek, HourOfDay, DaysSincePriorOrder, OrderNumber, Department, Aisle, Product, GeneralAnalysis"
   ],
   "metadata": {
    "collapsed": false
   },
   "id": "b3473e1eda499005"
  },
  {
   "cell_type": "code",
   "outputs": [],
   "source": [
    "# day_of_week = DayOfWeek(data_manager)\n",
    "# hour_of_day = HourOfDay(data_manager)\n",
    "# days_since_prior_order = DaysSincePriorOrder(data_manager)\n",
    "# order_number = OrderNumber(data_manager)\n",
    "# department = Department(data_manager)\n",
    "# aisle = Aisle(data_manager)\n",
    "# product = Product(data_manager)\n",
    "# number_order_user = NumberOrderUser(data_manager)\n",
    "# general_analysis = GeneralAnalysis(data_manager)"
   ],
   "metadata": {
    "collapsed": false
   },
   "id": "7daaf39fa303d999"
  },
  {
   "cell_type": "code",
   "outputs": [],
   "source": [
    "# day_of_week.execute_analysis()"
   ],
   "metadata": {
    "collapsed": false
   },
   "id": "8d6acfe9affa74ac"
  },
  {
   "cell_type": "code",
   "outputs": [],
   "source": [
    "# hour_of_day.execute_analysis()"
   ],
   "metadata": {
    "collapsed": false
   },
   "id": "e67096e50e036f03"
  },
  {
   "cell_type": "code",
   "outputs": [],
   "source": [
    "# days_since_prior_order.execute_analysis()"
   ],
   "metadata": {
    "collapsed": false
   },
   "id": "6b45182a7355d13a"
  },
  {
   "cell_type": "code",
   "outputs": [],
   "source": [
    "# order_number.execute_analysis()"
   ],
   "metadata": {
    "collapsed": false
   },
   "id": "77b59d5cd0325271"
  },
  {
   "cell_type": "code",
   "outputs": [],
   "source": [
    "# department.execute_analysis()"
   ],
   "metadata": {
    "collapsed": false
   },
   "id": "12f092487e57cd43"
  },
  {
   "cell_type": "code",
   "outputs": [],
   "source": [
    "# aisle.execute_analysis()"
   ],
   "metadata": {
    "collapsed": false
   },
   "id": "f4ab7f536a6dff50"
  },
  {
   "cell_type": "code",
   "outputs": [],
   "source": [
    "# product.execute_analysis()"
   ],
   "metadata": {
    "collapsed": false
   },
   "id": "a7c3a3c4de6b4947"
  },
  {
   "cell_type": "code",
   "outputs": [],
   "source": [
    "# number_order_user.execute_analysis()"
   ],
   "metadata": {
    "collapsed": false
   },
   "id": "7a6e209c6252f53c"
  },
  {
   "cell_type": "markdown",
   "source": [
    "### Data Preparation"
   ],
   "metadata": {
    "collapsed": false
   },
   "id": "bc83375ff21286d6"
  },
  {
   "cell_type": "code",
   "outputs": [],
   "source": [
    "# from feature_engineering.static_features import DowHighTipProbability, HodHighTipProbability, OrderNumberSquared, \\\n",
    "#     ContainsAlcohol\n",
    "#\n",
    "# data_manager.register_feature(DowHighTipProbability())\n",
    "# data_manager.register_feature(HodHighTipProbability())\n",
    "# data_manager.register_feature(OrderNumberSquared())\n",
    "# data_manager.register_feature(ContainsAlcohol())"
   ],
   "metadata": {
    "collapsed": false,
    "ExecuteTime": {
     "end_time": "2024-06-10T13:51:11.297123Z",
     "start_time": "2024-06-10T13:51:11.295642Z"
    }
   },
   "id": "11e6bf0945ffd97c",
   "execution_count": 27
  },
  {
   "cell_type": "code",
   "outputs": [],
   "source": [
    "# data_manager.compute_features()"
   ],
   "metadata": {
    "collapsed": false,
    "ExecuteTime": {
     "end_time": "2024-06-10T13:51:11.299434Z",
     "start_time": "2024-06-10T13:51:11.297753Z"
    }
   },
   "id": "e10cbb0dea2b4bd2",
   "execution_count": 28
  },
  {
   "cell_type": "markdown",
   "source": [
    "### Model Training & Evaluation\n",
    "\n",
    "Order is important:\n",
    "- Remove first order of each user and assign the dataset for parameter tuning\n",
    "- Initialize cross-validation splitter\n",
    "- Export splits\n",
    "- Tune the parameters of the model with the dataset from 1."
   ],
   "metadata": {
    "collapsed": false
   },
   "id": "5ff7316768777ae9"
  },
  {
   "cell_type": "code",
   "outputs": [],
   "source": [
    "from data_management.cross_validation import LastOrderUserTSCVSplitter"
   ],
   "metadata": {
    "collapsed": false,
    "ExecuteTime": {
     "end_time": "2024-06-10T13:51:11.326988Z",
     "start_time": "2024-06-10T13:51:11.300057Z"
    }
   },
   "id": "1b07129f5f10075b",
   "execution_count": 29
  },
  {
   "cell_type": "code",
   "outputs": [
    {
     "data": {
      "text/plain": "(3346083, 12)"
     },
     "execution_count": 30,
     "metadata": {},
     "output_type": "execute_result"
    }
   ],
   "source": [
    "orders_tip = data_manager.get_orders_tip()\n",
    "orders_tip.shape"
   ],
   "metadata": {
    "collapsed": false,
    "ExecuteTime": {
     "end_time": "2024-06-10T13:51:11.330726Z",
     "start_time": "2024-06-10T13:51:11.327983Z"
    }
   },
   "id": "76a31c7a45354367",
   "execution_count": 30
  },
  {
   "cell_type": "code",
   "outputs": [],
   "source": [
    "# order_ids = orders_tip[orders_tip['order_number'] > 1]['order_id']\n",
    "# order_ids = orders_tip['order_id']\n",
    "# data_manager.set_subset(order_ids)\n",
    "data_manager.remove_first_orders()"
   ],
   "metadata": {
    "collapsed": false,
    "ExecuteTime": {
     "end_time": "2024-06-10T13:51:28.562240Z",
     "start_time": "2024-06-10T13:51:11.331642Z"
    }
   },
   "id": "3abe772f19ff578e",
   "execution_count": 31
  },
  {
   "cell_type": "code",
   "outputs": [
    {
     "data": {
      "text/plain": "(3008665, 12)"
     },
     "execution_count": 32,
     "metadata": {},
     "output_type": "execute_result"
    }
   ],
   "source": [
    "orders_tip_train = data_manager.get_orders_tip_train()\n",
    "orders_tip_train.shape"
   ],
   "metadata": {
    "collapsed": false,
    "ExecuteTime": {
     "end_time": "2024-06-10T13:51:29.043811Z",
     "start_time": "2024-06-10T13:51:28.564418Z"
    }
   },
   "id": "6e64a3e055952da4",
   "execution_count": 32
  },
  {
   "cell_type": "code",
   "outputs": [],
   "source": [
    "# cv = KFold(n_splits=5, shuffle=True, random_state=42)"
   ],
   "metadata": {
    "collapsed": false,
    "ExecuteTime": {
     "end_time": "2024-06-10T13:51:29.046283Z",
     "start_time": "2024-06-10T13:51:29.044582Z"
    }
   },
   "id": "f9ee9c473fa4ae22",
   "execution_count": 33
  },
  {
   "cell_type": "code",
   "outputs": [],
   "source": [
    "last_order_user_tscv_splitter = LastOrderUserTSCVSplitter(data_manager, n_splits=5)"
   ],
   "metadata": {
    "collapsed": false,
    "ExecuteTime": {
     "end_time": "2024-06-10T13:51:29.814129Z",
     "start_time": "2024-06-10T13:51:29.046934Z"
    }
   },
   "id": "62c2c8a95be01e0a",
   "execution_count": 34
  },
  {
   "cell_type": "code",
   "outputs": [],
   "source": [
    "splits = last_order_user_tscv_splitter.split(orders_tip_train)"
   ],
   "metadata": {
    "collapsed": false,
    "ExecuteTime": {
     "end_time": "2024-06-10T13:51:29.816538Z",
     "start_time": "2024-06-10T13:51:29.814974Z"
    }
   },
   "id": "198912d5a1185bdd",
   "execution_count": 35
  },
  {
   "cell_type": "code",
   "outputs": [],
   "source": [
    "folds = {}\n",
    "prev_test = 0\n",
    "for i, (train_index, test_index) in enumerate(splits):\n",
    "    print(f'Fold {i + 1}')\n",
    "    print(f'Train: {len(train_index)}')\n",
    "    print(f'Test: {len(test_index)}')\n",
    "    print(f'Orders: {len(orders_tip_train)}')\n",
    "    print(f'Sum equal: {(len(train_index) + len(test_index) + prev_test) == len(orders_tip_train)}')\n",
    "    print(f'Ratio: {len(test_index) / (len(train_index) + len(test_index))}')\n",
    "\n",
    "    train_orders = orders_tip_train.loc[train_index]\n",
    "    test_orders = orders_tip_train.loc[test_index]\n",
    "    current_fold = {\n",
    "        'train': train_orders,\n",
    "        'test': test_orders\n",
    "    }\n",
    "    folds[f'fold_{i}'] = current_fold\n",
    "    prev_test += len(test_index)"
   ],
   "metadata": {
    "collapsed": false,
    "ExecuteTime": {
     "end_time": "2024-06-10T13:51:29.819081Z",
     "start_time": "2024-06-10T13:51:29.817399Z"
    }
   },
   "id": "52a702707377b018",
   "execution_count": 36
  },
  {
   "cell_type": "code",
   "outputs": [
    {
     "name": "stdout",
     "output_type": "stream",
     "text": [
      "Export 1: Train size: 2802456, Test size: 206209\n",
      "Export 2: Train size: 2596247, Test size: 206209\n",
      "Export 3: Train size: 2414024, Test size: 182223\n",
      "Export 4: Train size: 2251391, Test size: 162633\n",
      "Export 5: Train size: 2104923, Test size: 146468\n"
     ]
    }
   ],
   "source": [
    "last_order_user_tscv_splitter.export_splits('data/prepared_data/')"
   ],
   "metadata": {
    "collapsed": false,
    "ExecuteTime": {
     "end_time": "2024-06-10T13:55:12.770502Z",
     "start_time": "2024-06-10T13:51:29.819890Z"
    }
   },
   "id": "4c6db90c4c28b854",
   "execution_count": 37
  },
  {
   "cell_type": "code",
   "outputs": [],
   "source": [
    "# user_tscv_splitter = UserTSCVSplitter(data_manager, n_splits=5, validation_set_ratio=0.2, seed=42)"
   ],
   "metadata": {
    "collapsed": false,
    "ExecuteTime": {
     "end_time": "2024-06-10T13:55:12.775626Z",
     "start_time": "2024-06-10T13:55:12.772442Z"
    }
   },
   "id": "2fe2d3fba743b7ed",
   "execution_count": 38
  },
  {
   "cell_type": "code",
   "outputs": [],
   "source": [
    "# splits = user_tscv_splitter.split(orders_tip_train)"
   ],
   "metadata": {
    "collapsed": false
   },
   "id": "cc9fb6503d82ee7d",
   "execution_count": 39
  },
  {
   "cell_type": "code",
   "outputs": [],
   "source": [
    "# folds = {}\n",
    "# prev_test = 0\n",
    "# for i, (train_index, test_index) in enumerate(splits):\n",
    "#     print(f'Fold {i + 1}')\n",
    "#     print(f'Train: {len(train_index)}')\n",
    "#     print(f'Test: {len(test_index)}')\n",
    "#     print(f'Orders: {len(orders_tip_train)}')\n",
    "#     print(f'Sum equal: {(len(train_index) + len(test_index) + prev_test) == len(orders_tip_train)}')\n",
    "#     print(f'Ratio: {len(test_index) / (len(train_index) + len(test_index))}')\n",
    "# \n",
    "#     train_orders = orders_tip_train.loc[train_index]\n",
    "#     test_orders = orders_tip_train.loc[test_index]\n",
    "#     current_fold = {\n",
    "#         'train': train_orders,\n",
    "#         'test': test_orders\n",
    "#     }\n",
    "#     folds[f'fold_{i}'] = current_fold\n",
    "#     prev_test += len(test_index)"
   ],
   "metadata": {
    "collapsed": false,
    "ExecuteTime": {
     "end_time": "2024-06-10T13:55:12.781746Z",
     "start_time": "2024-06-10T13:55:12.780155Z"
    }
   },
   "id": "245bc99427923b66",
   "execution_count": 40
  },
  {
   "cell_type": "code",
   "outputs": [],
   "source": [
    "# user_tscv_splitter.export_splits('data/prepared_data/')"
   ],
   "metadata": {
    "collapsed": false,
    "ExecuteTime": {
     "end_time": "2024-06-10T13:55:12.789691Z",
     "start_time": "2024-06-10T13:55:12.788038Z"
    }
   },
   "id": "8347f842806ffa12",
   "execution_count": 41
  },
  {
   "cell_type": "code",
   "outputs": [],
   "source": [
    "# features = ['order_number', 'order_dow', 'order_hour_of_day', 'days_since_prior_order', 'order_size', 'tip_history',\n",
    "#             'dynamic_feature_test_1', 'dynamic_feature_test_2']\n",
    "#\n",
    "# prepared_splits_dict = user_tscv_splitter.import_splits('data/prepared_data/', features)"
   ],
   "metadata": {
    "collapsed": false,
    "ExecuteTime": {
     "end_time": "2024-06-10T13:55:12.792120Z",
     "start_time": "2024-06-10T13:55:12.790450Z"
    }
   },
   "id": "b2d8489062a2b76f",
   "execution_count": 42
  },
  {
   "cell_type": "code",
   "outputs": [],
   "source": [
    "features = ['order_number', 'order_dow', 'order_hour_of_day', 'days_since_prior_order', 'order_size', 'tip_history',\n",
    "            'dynamic_feature_test_1', 'dynamic_feature_test_2']\n",
    "\n",
    "prepared_splits_dict = last_order_user_tscv_splitter.import_splits('data/prepared_data/', features)"
   ],
   "metadata": {
    "collapsed": false,
    "ExecuteTime": {
     "end_time": "2024-06-10T13:55:26.322876Z",
     "start_time": "2024-06-10T13:55:12.792722Z"
    }
   },
   "id": "57a5af1f4e9f4195",
   "execution_count": 43
  },
  {
   "cell_type": "code",
   "outputs": [],
   "source": [
    "from data_management import DatasetSelector\n",
    "from sklearn.pipeline import Pipeline\n",
    "from sklearn.tree import DecisionTreeClassifier\n",
    "from tempfile import mkdtemp\n",
    "from joblib import Memory\n",
    "\n",
    "# TODO: Add scaling & feature selection\n",
    "pipeline_steps = [('selector', DatasetSelector(prepared_splits_dict)),\n",
    "                  ('estimator', DecisionTreeClassifier())]\n",
    "\n",
    "cachedir = mkdtemp()\n",
    "memory = Memory(location=cachedir, verbose=0)\n",
    "\n",
    "pipeline = Pipeline(pipeline_steps, verbose=False, memory=memory)"
   ],
   "metadata": {
    "collapsed": false,
    "ExecuteTime": {
     "end_time": "2024-06-10T13:55:31.754780Z",
     "start_time": "2024-06-10T13:55:26.325034Z"
    }
   },
   "id": "7e018af4cbe01681",
   "execution_count": 44
  },
  {
   "cell_type": "code",
   "outputs": [],
   "source": [
    "from sklearn.model_selection import GridSearchCV\n",
    "\n",
    "param_grid = {\n",
    "    'estimator__criterion': ['entropy'],\n",
    "    'estimator__max_depth': [9, 10],\n",
    "    'estimator__min_samples_leaf': [256]\n",
    "}\n",
    "\n",
    "grid_search_clf = GridSearchCV(pipeline, param_grid, cv=last_order_user_tscv_splitter, scoring='accuracy', verbose=1,\n",
    "                               n_jobs=-1)"
   ],
   "metadata": {
    "collapsed": false,
    "ExecuteTime": {
     "end_time": "2024-06-10T13:55:31.758041Z",
     "start_time": "2024-06-10T13:55:31.755751Z"
    }
   },
   "id": "e14920bc06f85dfe",
   "execution_count": 45
  },
  {
   "cell_type": "code",
   "outputs": [],
   "source": [
    "X = orders_tip_train[features]\n",
    "y = orders_tip_train['tip'].astype(bool)"
   ],
   "metadata": {
    "collapsed": false,
    "ExecuteTime": {
     "end_time": "2024-06-10T13:55:31.965281Z",
     "start_time": "2024-06-10T13:55:31.758851Z"
    }
   },
   "id": "58958635b45d6924",
   "execution_count": 46
  },
  {
   "cell_type": "code",
   "outputs": [
    {
     "data": {
      "text/plain": "    order_number  order_dow  order_hour_of_day  days_since_prior_order  \\\n0              2          3                  7                    15.0   \n1              3          3                 12                    21.0   \n2              4          4                  7                    29.0   \n3              5          4                 15                    28.0   \n4              6          2                  7                    19.0   \n5              7          1                  9                    20.0   \n6              8          1                 14                    14.0   \n7              9          1                 16                     0.0   \n8             10          4                  8                    30.0   \n9              2          5                 10                    10.0   \n10             3          1                 10                     3.0   \n11             4          2                 10                     8.0   \n12             5          3                 11                     8.0   \n13             6          2                  9                    13.0   \n14             7          2                 12                    14.0   \n15             8          1                 15                    27.0   \n16             9          2                  9                     8.0   \n17            10          1                 11                     6.0   \n18            11          1                 10                    30.0   \n19            12          1                  9                    28.0   \n20            13          4                 11                    30.0   \n21            14          3                 10                    13.0   \n22             2          3                 19                     9.0   \n23             3          3                 16                    21.0   \n24             4          2                 18                    20.0   \n\n    order_size  tip_history  dynamic_feature_test_1  dynamic_feature_test_2  \n0            6     0.000000                0.100000                0.100000  \n1            5     0.000000                0.200000                0.200000  \n2            5     0.000000                0.300000                0.300000  \n3            8     0.000000                0.400000                0.400000  \n4            4     0.000000                0.500000                0.500000  \n5            5     0.000000                0.600000                0.600000  \n6            6     0.000000                0.700000                0.700000  \n7            6     0.000000                0.800000                0.800000  \n8            9     0.000000                0.900000                0.900000  \n9            6     0.000000                0.071429                0.071429  \n10           5     0.000000                0.142857                0.142857  \n11          13     0.333333                0.214286                0.214286  \n12          13     0.250000                0.285714                0.285714  \n13          21     0.400000                0.357143                0.357143  \n14          14     0.333333                0.428571                0.428571  \n15          16     0.428571                0.500000                0.500000  \n16          26     0.500000                0.571429                0.571429  \n17           9     0.555556                0.642857                0.642857  \n18          15     0.600000                0.714286                0.714286  \n19          19     0.636364                0.785714                0.785714  \n20           9     0.666667                0.857143                0.857143  \n21          16     0.615385                0.928571                0.928571  \n22           9     1.000000                0.090909                0.090909  \n23           6     1.000000                0.181818                0.181818  \n24           5     1.000000                0.272727                0.272727  ",
      "text/html": "<div>\n<style scoped>\n    .dataframe tbody tr th:only-of-type {\n        vertical-align: middle;\n    }\n\n    .dataframe tbody tr th {\n        vertical-align: top;\n    }\n\n    .dataframe thead th {\n        text-align: right;\n    }\n</style>\n<table border=\"1\" class=\"dataframe\">\n  <thead>\n    <tr style=\"text-align: right;\">\n      <th></th>\n      <th>order_number</th>\n      <th>order_dow</th>\n      <th>order_hour_of_day</th>\n      <th>days_since_prior_order</th>\n      <th>order_size</th>\n      <th>tip_history</th>\n      <th>dynamic_feature_test_1</th>\n      <th>dynamic_feature_test_2</th>\n    </tr>\n  </thead>\n  <tbody>\n    <tr>\n      <th>0</th>\n      <td>2</td>\n      <td>3</td>\n      <td>7</td>\n      <td>15.0</td>\n      <td>6</td>\n      <td>0.000000</td>\n      <td>0.100000</td>\n      <td>0.100000</td>\n    </tr>\n    <tr>\n      <th>1</th>\n      <td>3</td>\n      <td>3</td>\n      <td>12</td>\n      <td>21.0</td>\n      <td>5</td>\n      <td>0.000000</td>\n      <td>0.200000</td>\n      <td>0.200000</td>\n    </tr>\n    <tr>\n      <th>2</th>\n      <td>4</td>\n      <td>4</td>\n      <td>7</td>\n      <td>29.0</td>\n      <td>5</td>\n      <td>0.000000</td>\n      <td>0.300000</td>\n      <td>0.300000</td>\n    </tr>\n    <tr>\n      <th>3</th>\n      <td>5</td>\n      <td>4</td>\n      <td>15</td>\n      <td>28.0</td>\n      <td>8</td>\n      <td>0.000000</td>\n      <td>0.400000</td>\n      <td>0.400000</td>\n    </tr>\n    <tr>\n      <th>4</th>\n      <td>6</td>\n      <td>2</td>\n      <td>7</td>\n      <td>19.0</td>\n      <td>4</td>\n      <td>0.000000</td>\n      <td>0.500000</td>\n      <td>0.500000</td>\n    </tr>\n    <tr>\n      <th>5</th>\n      <td>7</td>\n      <td>1</td>\n      <td>9</td>\n      <td>20.0</td>\n      <td>5</td>\n      <td>0.000000</td>\n      <td>0.600000</td>\n      <td>0.600000</td>\n    </tr>\n    <tr>\n      <th>6</th>\n      <td>8</td>\n      <td>1</td>\n      <td>14</td>\n      <td>14.0</td>\n      <td>6</td>\n      <td>0.000000</td>\n      <td>0.700000</td>\n      <td>0.700000</td>\n    </tr>\n    <tr>\n      <th>7</th>\n      <td>9</td>\n      <td>1</td>\n      <td>16</td>\n      <td>0.0</td>\n      <td>6</td>\n      <td>0.000000</td>\n      <td>0.800000</td>\n      <td>0.800000</td>\n    </tr>\n    <tr>\n      <th>8</th>\n      <td>10</td>\n      <td>4</td>\n      <td>8</td>\n      <td>30.0</td>\n      <td>9</td>\n      <td>0.000000</td>\n      <td>0.900000</td>\n      <td>0.900000</td>\n    </tr>\n    <tr>\n      <th>9</th>\n      <td>2</td>\n      <td>5</td>\n      <td>10</td>\n      <td>10.0</td>\n      <td>6</td>\n      <td>0.000000</td>\n      <td>0.071429</td>\n      <td>0.071429</td>\n    </tr>\n    <tr>\n      <th>10</th>\n      <td>3</td>\n      <td>1</td>\n      <td>10</td>\n      <td>3.0</td>\n      <td>5</td>\n      <td>0.000000</td>\n      <td>0.142857</td>\n      <td>0.142857</td>\n    </tr>\n    <tr>\n      <th>11</th>\n      <td>4</td>\n      <td>2</td>\n      <td>10</td>\n      <td>8.0</td>\n      <td>13</td>\n      <td>0.333333</td>\n      <td>0.214286</td>\n      <td>0.214286</td>\n    </tr>\n    <tr>\n      <th>12</th>\n      <td>5</td>\n      <td>3</td>\n      <td>11</td>\n      <td>8.0</td>\n      <td>13</td>\n      <td>0.250000</td>\n      <td>0.285714</td>\n      <td>0.285714</td>\n    </tr>\n    <tr>\n      <th>13</th>\n      <td>6</td>\n      <td>2</td>\n      <td>9</td>\n      <td>13.0</td>\n      <td>21</td>\n      <td>0.400000</td>\n      <td>0.357143</td>\n      <td>0.357143</td>\n    </tr>\n    <tr>\n      <th>14</th>\n      <td>7</td>\n      <td>2</td>\n      <td>12</td>\n      <td>14.0</td>\n      <td>14</td>\n      <td>0.333333</td>\n      <td>0.428571</td>\n      <td>0.428571</td>\n    </tr>\n    <tr>\n      <th>15</th>\n      <td>8</td>\n      <td>1</td>\n      <td>15</td>\n      <td>27.0</td>\n      <td>16</td>\n      <td>0.428571</td>\n      <td>0.500000</td>\n      <td>0.500000</td>\n    </tr>\n    <tr>\n      <th>16</th>\n      <td>9</td>\n      <td>2</td>\n      <td>9</td>\n      <td>8.0</td>\n      <td>26</td>\n      <td>0.500000</td>\n      <td>0.571429</td>\n      <td>0.571429</td>\n    </tr>\n    <tr>\n      <th>17</th>\n      <td>10</td>\n      <td>1</td>\n      <td>11</td>\n      <td>6.0</td>\n      <td>9</td>\n      <td>0.555556</td>\n      <td>0.642857</td>\n      <td>0.642857</td>\n    </tr>\n    <tr>\n      <th>18</th>\n      <td>11</td>\n      <td>1</td>\n      <td>10</td>\n      <td>30.0</td>\n      <td>15</td>\n      <td>0.600000</td>\n      <td>0.714286</td>\n      <td>0.714286</td>\n    </tr>\n    <tr>\n      <th>19</th>\n      <td>12</td>\n      <td>1</td>\n      <td>9</td>\n      <td>28.0</td>\n      <td>19</td>\n      <td>0.636364</td>\n      <td>0.785714</td>\n      <td>0.785714</td>\n    </tr>\n    <tr>\n      <th>20</th>\n      <td>13</td>\n      <td>4</td>\n      <td>11</td>\n      <td>30.0</td>\n      <td>9</td>\n      <td>0.666667</td>\n      <td>0.857143</td>\n      <td>0.857143</td>\n    </tr>\n    <tr>\n      <th>21</th>\n      <td>14</td>\n      <td>3</td>\n      <td>10</td>\n      <td>13.0</td>\n      <td>16</td>\n      <td>0.615385</td>\n      <td>0.928571</td>\n      <td>0.928571</td>\n    </tr>\n    <tr>\n      <th>22</th>\n      <td>2</td>\n      <td>3</td>\n      <td>19</td>\n      <td>9.0</td>\n      <td>9</td>\n      <td>1.000000</td>\n      <td>0.090909</td>\n      <td>0.090909</td>\n    </tr>\n    <tr>\n      <th>23</th>\n      <td>3</td>\n      <td>3</td>\n      <td>16</td>\n      <td>21.0</td>\n      <td>6</td>\n      <td>1.000000</td>\n      <td>0.181818</td>\n      <td>0.181818</td>\n    </tr>\n    <tr>\n      <th>24</th>\n      <td>4</td>\n      <td>2</td>\n      <td>18</td>\n      <td>20.0</td>\n      <td>5</td>\n      <td>1.000000</td>\n      <td>0.272727</td>\n      <td>0.272727</td>\n    </tr>\n  </tbody>\n</table>\n</div>"
     },
     "execution_count": 47,
     "metadata": {},
     "output_type": "execute_result"
    }
   ],
   "source": [
    "X.head(25)"
   ],
   "metadata": {
    "collapsed": false,
    "ExecuteTime": {
     "end_time": "2024-06-10T13:55:31.980364Z",
     "start_time": "2024-06-10T13:55:31.966539Z"
    }
   },
   "id": "ac0903be63b47fb6",
   "execution_count": 47
  },
  {
   "cell_type": "code",
   "outputs": [],
   "source": [
    "print(f'X shape: {X.shape}')\n",
    "print(f'y shape: {y.shape}')"
   ],
   "metadata": {
    "collapsed": false
   },
   "id": "41585ee3f811c68f"
  },
  {
   "cell_type": "code",
   "outputs": [],
   "source": [
    "grid_search_clf.fit(X, y)"
   ],
   "metadata": {
    "collapsed": false
   },
   "id": "5c01e546b9703668"
  },
  {
   "cell_type": "code",
   "outputs": [],
   "source": [
    "cv_results = grid_search_clf.cv_results_\n",
    "result_list = [grid_search_clf.cv_results_[f'split{i}_test_score'][grid_search_clf.best_index_] for i in range(5)]\n",
    "\n",
    "for i, result in enumerate(result_list):\n",
    "    print(f'Accuracy (Fold {i + 1}): {result}')\n",
    "\n",
    "print(f'\\nMean Accuracy: {cv_results[\"mean_test_score\"][grid_search_clf.best_index_]}')"
   ],
   "metadata": {
    "collapsed": false,
    "is_executing": true
   },
   "id": "9c6c998cccfeb82b",
   "execution_count": null
  },
  {
   "cell_type": "code",
   "outputs": [],
   "source": [
    "grid_search_clf.best_score_"
   ],
   "metadata": {
    "collapsed": false,
    "is_executing": true
   },
   "id": "6e4dc773d726d820",
   "execution_count": null
  },
  {
   "cell_type": "code",
   "outputs": [],
   "source": [
    "grid_search_clf.best_params_"
   ],
   "metadata": {
    "collapsed": false,
    "is_executing": true
   },
   "id": "966cc4c04cdc677e",
   "execution_count": null
  },
  {
   "cell_type": "code",
   "outputs": [],
   "source": [
    "best_estimator = grid_search_clf.best_estimator_"
   ],
   "metadata": {
    "collapsed": false,
    "is_executing": true
   },
   "id": "864195b52e89024",
   "execution_count": null
  },
  {
   "cell_type": "markdown",
   "source": [
    "### Validation"
   ],
   "metadata": {
    "collapsed": false
   },
   "id": "870ae9bef1efb198"
  },
  {
   "cell_type": "code",
   "outputs": [],
   "source": [
    "# features = ['order_number', 'order_dow', 'order_hour_of_day', 'days_since_prior_order', 'order_size', 'tip_history',\n",
    "#             'dynamic_feature_test_1', 'dynamic_feature_test_2']\n",
    "#\n",
    "# prepared_splits_dict = last_order_user_tscv_splitter.import_splits('data/prepared_data/', features)"
   ],
   "metadata": {
    "collapsed": false
   },
   "id": "ffbb8b8e189eee90"
  },
  {
   "cell_type": "code",
   "outputs": [],
   "source": [
    "# all_orders = data_manager.get_orders_tip(complete=True)\n",
    "# all_orders.shape"
   ],
   "metadata": {
    "collapsed": false
   },
   "id": "7fb459d1efacc251"
  },
  {
   "cell_type": "code",
   "outputs": [],
   "source": [
    "# data_manager.set_subset(all_orders['order_id'])"
   ],
   "metadata": {
    "collapsed": false
   },
   "id": "130761ebc5042704"
  },
  {
   "cell_type": "code",
   "outputs": [],
   "source": [
    "# validation_test = data_manager.get_orders_tip_test()\n",
    "# validation_test.shape"
   ],
   "metadata": {
    "collapsed": false
   },
   "id": "3d561493b5779a41"
  },
  {
   "cell_type": "code",
   "outputs": [],
   "source": [
    "# validation_train = data_manager.get_orders_tip_train()\n",
    "# validation_train.shape"
   ],
   "metadata": {
    "collapsed": false
   },
   "id": "252a1df042e43c48"
  },
  {
   "cell_type": "code",
   "outputs": [],
   "source": [
    "# validation_train_without_first = validation_train[validation_train['order_number'] > 1]\n",
    "# validation_train_without_first.shape"
   ],
   "metadata": {
    "collapsed": false
   },
   "id": "e4d8351c5e87e370"
  },
  {
   "cell_type": "code",
   "outputs": [],
   "source": [
    "# prepared_splits_dict[-1147446606210854265].shape[0]"
   ],
   "metadata": {
    "collapsed": false
   },
   "id": "117e17f2afc048a8"
  },
  {
   "cell_type": "code",
   "outputs": [],
   "source": [
    "# all_orders_without_first = all_orders[all_orders['order_number'] > 1].reset_index(drop=True)\n",
    "# all_orders_without_first.shape"
   ],
   "metadata": {
    "collapsed": false
   },
   "id": "9c60aad6c08f1f53"
  },
  {
   "cell_type": "code",
   "outputs": [],
   "source": [
    "# validation_train_without_first[features].reset_index(drop=True)"
   ],
   "metadata": {
    "collapsed": false
   },
   "id": "c94116b013109d31"
  },
  {
   "cell_type": "code",
   "outputs": [],
   "source": [
    "# prepared_splits_dict[-1147446606210854265]"
   ],
   "metadata": {
    "collapsed": false
   },
   "id": "3ec81df56dbba40c"
  },
  {
   "cell_type": "code",
   "outputs": [],
   "source": [
    "# round(prepared_splits_dict[-1147446606210854265], 6).equals(round(validation_train_without_first[\n",
    "#                                                                       features].reset_index(drop=True), 6))"
   ],
   "metadata": {
    "collapsed": false
   },
   "id": "df36142b84d1c78f"
  },
  {
   "cell_type": "code",
   "outputs": [],
   "source": [
    "# validation_test[features]"
   ],
   "metadata": {
    "collapsed": false
   },
   "id": "4a1a17ef95d391b5"
  },
  {
   "cell_type": "code",
   "outputs": [],
   "source": [
    "# prepared_splits_dict[4027820417624348460]"
   ],
   "metadata": {
    "collapsed": false
   },
   "id": "8a558900588b3a25"
  },
  {
   "cell_type": "code",
   "outputs": [],
   "source": [
    "# round(prepared_splits_dict[4027820417624348460].reset_index(drop=True), 6).equals(round(\n",
    "#     validation_test[features].reset_index(drop=True), 6))"
   ],
   "metadata": {
    "collapsed": false
   },
   "id": "3d0b42618d4c720d"
  },
  {
   "cell_type": "markdown",
   "source": [
    "### Prediction\n",
    "\n",
    "IMPORTANT:\n",
    "- Before predicting, the indices must probably be reseted, for X and y\n",
    "- To save the results, we must join the predictions with the template based on the ORDER_ID, beause the indices don't align\n"
   ],
   "metadata": {
    "collapsed": false
   },
   "id": "53d2fcdbca15153"
  },
  {
   "cell_type": "code",
   "outputs": [],
   "source": [
    "# orders_tip_test = data_manager.get_orders_tip_test()\n",
    "# orders_tip_test['tip'] = best_estimator.predict(orders_tip_test[features])"
   ],
   "metadata": {
    "collapsed": false,
    "is_executing": true
   },
   "id": "7b82eab73b08cd2f",
   "execution_count": null
  },
  {
   "cell_type": "code",
   "outputs": [],
   "source": [
    "# orders_tip_test_csv = orders_tip_test[tip_test.columns].copy()\n",
    "# orders_tip_test_csv.rename(columns={tip_test.columns[0]: ''}, inplace=True)\n",
    "# orders_tip_test_csv"
   ],
   "metadata": {
    "collapsed": false,
    "is_executing": true
   },
   "id": "45c41fb0baa49b56",
   "execution_count": null
  },
  {
   "cell_type": "code",
   "outputs": [],
   "source": [
    "# orders_tip_test_csv.to_csv(os.path.join(DATA_DIR, 'tip_testdaten1.csv'), index=False)"
   ],
   "metadata": {
    "collapsed": false,
    "is_executing": true
   },
   "id": "db65af74bde4df1d",
   "execution_count": null
  }
 ],
 "metadata": {
  "kernelspec": {
   "display_name": "Python 3 (ipykernel)",
   "language": "python",
   "name": "python3"
  },
  "language_info": {
   "codemirror_mode": {
    "name": "ipython",
    "version": 3
   },
   "file_extension": ".py",
   "mimetype": "text/x-python",
   "name": "python",
   "nbconvert_exporter": "python",
   "pygments_lexer": "ipython3",
   "version": "3.11.8"
  }
 },
 "nbformat": 4,
 "nbformat_minor": 5
}
