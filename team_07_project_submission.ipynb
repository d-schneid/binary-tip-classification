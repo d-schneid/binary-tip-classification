{
 "cells": [
  {
   "cell_type": "markdown",
   "id": "7aea19f30bc2952",
   "metadata": {
    "collapsed": false
   },
   "source": [
    "# Data Science Project SoSe 2024\n",
    "## Team 07\n",
    "- Maximilian Hoffmann\n",
    "- Kilian Kempf\n",
    "- Daniel Schneider\n",
    "- Tom Schuck\n",
    "\n",
    "## Project Submission"
   ]
  },
  {
   "cell_type": "markdown",
   "id": "ca8cc580026f3fef",
   "metadata": {
    "collapsed": false
   },
   "source": [
    "### Libraries"
   ]
  },
  {
   "cell_type": "code",
   "id": "c51b42d19954d682",
   "metadata": {
    "collapsed": false
   },
   "source": [
    "import os\n",
    "\n",
    "import pandas as pd\n",
    "\n",
    "from data_management import DataManager"
   ],
   "outputs": [],
   "execution_count": null
  },
  {
   "cell_type": "markdown",
   "id": "b1817857eb895437",
   "metadata": {
    "collapsed": false
   },
   "source": [
    "### Data Initialization"
   ]
  },
  {
   "cell_type": "code",
   "id": "2ac69658072618d1",
   "metadata": {
    "collapsed": false
   },
   "source": [
    "DATA_DIR = os.path.join(os.getcwd(), 'data/Instacart')\n",
    "\n",
    "op_prior = pd.read_csv(os.path.join(DATA_DIR, 'order_products__prior.csv.zip'))\n",
    "op_train = pd.read_csv(os.path.join(DATA_DIR, 'order_products__train.csv.zip'))\n",
    "\n",
    "tip_train = pd.read_csv(os.path.join(DATA_DIR, 'tip_trainingsdaten1_.csv'))[['order_id', 'tip']]\n",
    "tip_test = pd.read_csv(os.path.join(DATA_DIR, 'tip_testdaten1_template.csv'))\n",
    "\n",
    "orders = pd.read_csv(os.path.join(DATA_DIR, 'orders.csv.zip'))\n",
    "aisles = pd.read_csv(os.path.join(DATA_DIR, 'aisles.csv.zip'))\n",
    "departments = pd.read_csv(os.path.join(DATA_DIR, 'departments.csv.zip'))\n",
    "products = pd.read_csv(os.path.join(DATA_DIR, 'products.csv.zip'))\n",
    "\n",
    "data_manager = DataManager(op_prior, op_train, tip_train, tip_test, orders, products, aisles, departments)\n",
    "order_amount = len(data_manager.get_orders_tip())"
   ],
   "outputs": [],
   "execution_count": null
  },
  {
   "cell_type": "markdown",
   "id": "d11d62b342b9ebc8",
   "metadata": {
    "collapsed": false
   },
   "source": [
    "### Feature Engineering"
   ]
  },
  {
   "cell_type": "code",
   "id": "6a897e084cc934ce",
   "metadata": {
    "collapsed": false
   },
   "source": [
    "from feature_engineering.static_features import TipHistory, ReorderedRatio, OrderSize, PrevTippedProductsRatio, \\\n",
    "    CustomerLifetime, PrevOrderTipped, OrderFrequency, SimOrdersTipRatio, AvgSizePrevOrders, MeanOrderedRate, \\\n",
    "    LastTipSequence, RelDaysSinceTip, DaysSinceTip\n",
    "\n",
    "from feature_engineering.dynamic_features import ProductTipRate, DepartmentTipRate, AisleTipRate, DynamicFeatureTest1, \\\n",
    "    DynamicFeatureTest2\n",
    "\n",
    "# Kilian\n",
    "tip_history = TipHistory()\n",
    "reordered_rate = ReorderedRatio()\n",
    "order_size = OrderSize()\n",
    "prev_tipped_products_ratio = PrevTippedProductsRatio()\n",
    "customer_lifetime = CustomerLifetime()\n",
    "prev_order_tipped = PrevOrderTipped()\n",
    "\n",
    "# Daniel\n",
    "order_frequency = OrderFrequency()\n",
    "mean_ordered_rate = MeanOrderedRate()\n",
    "rel_days_since_tip = RelDaysSinceTip()\n",
    "days_since_tip = DaysSinceTip()\n",
    "\n",
    "# Max\n",
    "sim_orders_tip_ratio = SimOrdersTipRatio()\n",
    "product_tip_rate = ProductTipRate()\n",
    "department_tip_rate = DepartmentTipRate()\n",
    "aisle_tip_rate = AisleTipRate()\n",
    "last_tip_sequence = LastTipSequence()  # TODO: Maybe remove weighting or add additional feature without weoghting\n",
    "\n",
    "# Tom\n",
    "avg_size_prev_orders = AvgSizePrevOrders()\n",
    "\n",
    "# Test\n",
    "dynamic_feature_test_1 = DynamicFeatureTest1()\n",
    "dynamic_feature_test_2 = DynamicFeatureTest2()"
   ],
   "outputs": [],
   "execution_count": null
  },
  {
   "cell_type": "code",
   "id": "7bdee9f31e0bac1b",
   "metadata": {
    "collapsed": false
   },
   "source": [
    "# Static Features\n",
    "# data_manager.register_feature(tip_history)\n",
    "# data_manager.register_feature(reordered_rate)\n",
    "# data_manager.register_feature(order_size)\n",
    "# data_manager.register_feature(customer_lifetime)\n",
    "# data_manager.register_feature(prev_order_tipped)\n",
    "# data_manager.register_feature(prev_tipped_products_ratio)\n",
    "\n",
    "# data_manager.register_feature(order_frequency)\n",
    "# data_manager.register_feature(sim_orders_tip_ratio)\n",
    "# data_manager.register_feature(avg_size_prev_orders)\n",
    "# data_manager.register_feature(mean_ordered_rate)\n",
    "# data_manager.register_feature(last_tip_sequence)\n",
    "# data_manager.register_feature(rel_days_since_tip)\n",
    "# data_manager.register_feature(days_since_tip)\n",
    "\n",
    "# # Dynamic Features\n",
    "# data_manager.register_feature(dynamic_feature_test_1)\n",
    "# data_manager.register_feature(dynamic_feature_test_2)\n",
    "# data_manager.register_feature(product_tip_rate)\n",
    "# data_manager.register_feature(department_tip_rate)\n",
    "# data_manager.register_feature(aisle_tip_rate)"
   ],
   "outputs": [],
   "execution_count": null
  },
  {
   "cell_type": "code",
   "id": "6b815abe51807fce",
   "metadata": {
    "collapsed": false
   },
   "source": [
    "data_manager.compute_features()"
   ],
   "outputs": [],
   "execution_count": null
  },
  {
   "cell_type": "code",
   "id": "3657b7049bf9e8c2",
   "metadata": {},
   "source": [
    "data_manager.get_orders_tip().head(100)"
   ],
   "outputs": [],
   "execution_count": null
  },
  {
   "cell_type": "code",
   "id": "d879a6a14f49589a",
   "metadata": {
    "collapsed": false
   },
   "source": [
    "# data_manager.export_features('data/prepared_data/computed_features.csv.zip', only_static=False)"
   ],
   "outputs": [],
   "execution_count": null
  },
  {
   "cell_type": "code",
   "id": "5e56cee1c81131b2",
   "metadata": {
    "collapsed": false
   },
   "source": "# data_manager.import_features('data/prepared_data/computed_features.csv.zip', only_static=False)",
   "outputs": [],
   "execution_count": null
  },
  {
   "cell_type": "code",
   "id": "8f2a4c2575deb79a",
   "metadata": {
    "collapsed": false
   },
   "source": "data_manager.get_orders_tip().head(100)",
   "outputs": [],
   "execution_count": null
  },
  {
   "cell_type": "code",
   "id": "c8f20e5050aee4ab",
   "metadata": {
    "collapsed": false
   },
   "source": [
    "# test = data_manager.get_orders_tip()"
   ],
   "outputs": [],
   "execution_count": null
  },
  {
   "cell_type": "code",
   "id": "70be2ca230e12d01",
   "metadata": {
    "collapsed": false
   },
   "source": [
    "# print(f\"Number of orders: {len(data_manager.get_orders_tip())}\")\n",
    "# print(f\"Number of orders did not change: {order_amount == len(data_manager.get_orders_tip())}\\n\")\n",
    "# print(f\"Number of NaN or null values in each column:\\n{data_manager.get_orders_tip().isnull().sum()}\")"
   ],
   "outputs": [],
   "execution_count": null
  },
  {
   "cell_type": "code",
   "id": "ed21e9e41111b301",
   "metadata": {
    "collapsed": false
   },
   "source": [
    "# order_ids = data_manager.get_orders_tip(complete=True).groupby('user_id')['order_id'].head(5)\n",
    "# order_amount = len(order_ids)"
   ],
   "outputs": [],
   "execution_count": null
  },
  {
   "cell_type": "code",
   "id": "a9c4a8244b861028",
   "metadata": {
    "collapsed": false
   },
   "source": [
    "# data_manager.set_subset(order_ids)"
   ],
   "outputs": [],
   "execution_count": null
  },
  {
   "cell_type": "code",
   "id": "82124a97baebc52",
   "metadata": {
    "collapsed": false
   },
   "source": [
    "# data_manager.get_orders_tip().head(25)"
   ],
   "outputs": [],
   "execution_count": null
  },
  {
   "cell_type": "code",
   "id": "e35d205a2cb3a9a7",
   "metadata": {
    "collapsed": false
   },
   "source": [
    "# print(f\"Number of orders: {len(data_manager.get_orders_tip())}\")\n",
    "# print(f\"Number of orders did not change: {order_amount == len(data_manager.get_orders_tip())}\\n\")\n",
    "# print(f\"Number of NaN or null values in each column:\\n{data_manager.get_orders_tip().isnull().sum()}\")"
   ],
   "outputs": [],
   "execution_count": null
  },
  {
   "cell_type": "code",
   "id": "f74c035a9f150c03",
   "metadata": {
    "collapsed": false
   },
   "source": [
    "# order_ids = data_manager.get_orders_tip(complete=True).groupby('user_id')['order_id'].head(4)\n",
    "# order_amount = len(order_ids)\n",
    "# \n",
    "# data_manager.set_subset(order_ids)\n",
    "# data_manager.get_orders_tip().head(25)"
   ],
   "outputs": [],
   "execution_count": null
  },
  {
   "cell_type": "code",
   "id": "9ec949cdfc48d38e",
   "metadata": {
    "collapsed": false
   },
   "source": [
    "# print(f\"Number of orders: {len(data_manager.get_orders_tip())}\")\n",
    "# print(f\"Number of orders did not change: {order_amount == len(data_manager.get_orders_tip())}\\n\")\n",
    "# print(f\"Number of NaN or null values in each column:\\n{data_manager.get_orders_tip().isnull().sum()}\")"
   ],
   "outputs": [],
   "execution_count": null
  },
  {
   "cell_type": "markdown",
   "id": "d571331aa19136d5",
   "metadata": {
    "collapsed": false
   },
   "source": [
    "### Analysis\n",
    "- Only orders from the training set (orders with tip information) are considered"
   ]
  },
  {
   "cell_type": "code",
   "id": "a09a31448a99e7e0",
   "metadata": {
    "collapsed": false
   },
   "source": "from analysis import DaysSincePriorOrder, DayOfWeek, HourOfDay, Department, OrderNumber, Aisle, Product, NumberOrderUser, GeneralAnalysis",
   "outputs": [],
   "execution_count": null
  },
  {
   "cell_type": "code",
   "id": "4be267945f618a88",
   "metadata": {
    "collapsed": false
   },
   "source": [
    "day_of_week = DayOfWeek(data_manager)\n",
    "hour_of_day = HourOfDay(data_manager)\n",
    "days_since_prior_order = DaysSincePriorOrder(data_manager)\n",
    "order_number = OrderNumber(data_manager)\n",
    "department = Department(data_manager)\n",
    "aisle = Aisle(data_manager)\n",
    "product = Product(data_manager)\n",
    "number_order_user = NumberOrderUser(data_manager)\n",
    "general_analysis = GeneralAnalysis(data_manager)\n",
    "\n",
    "# Frequency of items with tip probability > 0.9, 0.8, 0.7, 0.6, 0.5 ... 0.1 \n",
    "# Group into percentiles and average tip probability\n",
    "# Plot bar chart with tip probability and mean tip probability (limit to top 10?)\n",
    "\n",
    "# TODO:\n",
    "# - Decide on departments grouping\n",
    "# - Product/Department/Aisle Tip Rate"
   ],
   "outputs": [],
   "execution_count": null
  },
  {
   "cell_type": "code",
   "id": "de5ab313cde80cab",
   "metadata": {
    "collapsed": false
   },
   "source": "# day_of_week.execute_analysis()",
   "outputs": [],
   "execution_count": null
  },
  {
   "cell_type": "code",
   "id": "fc25465ac99bd8a",
   "metadata": {
    "collapsed": false
   },
   "source": "# hour_of_day.execute_analysis()",
   "outputs": [],
   "execution_count": null
  },
  {
   "cell_type": "code",
   "id": "1935f461e5cadb36",
   "metadata": {
    "collapsed": false
   },
   "source": "# days_since_prior_order.execute_analysis()",
   "outputs": [],
   "execution_count": null
  },
  {
   "cell_type": "code",
   "id": "61ab78ca758fe69b",
   "metadata": {
    "collapsed": false
   },
   "source": "# order_number.execute_analysis()",
   "outputs": [],
   "execution_count": null
  },
  {
   "cell_type": "code",
   "id": "ef07aadff9a64100",
   "metadata": {
    "collapsed": false
   },
   "source": "# department.execute_analysis()",
   "outputs": [],
   "execution_count": null
  },
  {
   "cell_type": "code",
   "id": "3f084df0e69a8f47",
   "metadata": {
    "collapsed": false
   },
   "source": "# aisle.execute_analysis()",
   "outputs": [],
   "execution_count": null
  },
  {
   "cell_type": "code",
   "id": "9eb958b973ace283",
   "metadata": {
    "collapsed": false
   },
   "source": "# product.execute_analysis()",
   "outputs": [],
   "execution_count": null
  },
  {
   "cell_type": "code",
   "id": "20d37cf36392362c",
   "metadata": {},
   "source": "# number_order_user.execute_analysis()",
   "outputs": [],
   "execution_count": null
  },
  {
   "metadata": {},
   "cell_type": "code",
   "source": "# general_analysis.execute_analysis()",
   "id": "262e0a94c3fc0bb7",
   "outputs": [],
   "execution_count": null
  },
  {
   "cell_type": "markdown",
   "id": "63ca3a2c4358810d",
   "metadata": {
    "collapsed": false
   },
   "source": [
    "### Data Preparation"
   ]
  },
  {
   "cell_type": "code",
   "id": "b9e09d0cfa2575f4",
   "metadata": {
    "collapsed": false
   },
   "source": [
    "from feature_engineering.static_features import DowHighTipProbability, HodHighTipProbability, OrderNumberSquared, \\\n",
    "    ContainsAlcohol\n",
    "\n",
    "data_manager.register_feature(DowHighTipProbability())\n",
    "data_manager.register_feature(HodHighTipProbability())\n",
    "data_manager.register_feature(OrderNumberSquared())\n",
    "data_manager.register_feature(ContainsAlcohol())"
   ],
   "outputs": [],
   "execution_count": null
  },
  {
   "cell_type": "code",
   "id": "7abbbc99cec0f748",
   "metadata": {
    "collapsed": false
   },
   "source": [
    "data_manager.compute_features()"
   ],
   "outputs": [],
   "execution_count": null
  },
  {
   "cell_type": "markdown",
   "id": "9038d3d52fbf8ad1",
   "metadata": {
    "collapsed": false
   },
   "source": [
    "### Model Training & Evaluation"
   ]
  },
  {
   "cell_type": "code",
   "id": "ad73673f8150801a",
   "metadata": {
    "collapsed": false
   },
   "source": [
    "from data_management import LastOrderUserTSCVSplitter"
   ],
   "outputs": [],
   "execution_count": null
  },
  {
   "cell_type": "code",
   "source": [
    "orders_tip = data_manager.get_orders_tip()\n",
    "orders_tip.shape"
   ],
   "metadata": {
    "collapsed": false
   },
   "id": "296f0a70ecd5fdaf",
   "outputs": [],
   "execution_count": null
  },
  {
   "cell_type": "code",
   "source": [
    "orders_ids = orders_tip[orders_tip['order_number'] > 1]['order_id']"
   ],
   "metadata": {
    "collapsed": false
   },
   "id": "58fe40ad3b454c2f",
   "outputs": [],
   "execution_count": null
  },
  {
   "cell_type": "code",
   "source": [
    "data_manager.set_subset(orders_ids)"
   ],
   "metadata": {
    "collapsed": false
   },
   "id": "90bd484553a40aae",
   "outputs": [],
   "execution_count": null
  },
  {
   "cell_type": "code",
   "source": [
    "data_manager.get_orders_tip().shape"
   ],
   "metadata": {
    "collapsed": false
   },
   "id": "a4973c8badaabf60",
   "outputs": [],
   "execution_count": null
  },
  {
   "cell_type": "code",
   "source": [
    "# cv = KFold(n_splits=5, shuffle=True, random_state=42)"
   ],
   "metadata": {
    "collapsed": false
   },
   "id": "347835c33413ab0",
   "outputs": [],
   "execution_count": null
  },
  {
   "cell_type": "code",
   "source": [
    "last_order_user_tscv_splitter = LastOrderUserTSCVSplitter(data_manager, n_splits=5)"
   ],
   "metadata": {
    "collapsed": false
   },
   "id": "9536ad3b2ec2e510",
   "outputs": [],
   "execution_count": null
  },
  {
   "cell_type": "code",
   "source": [
    "# user_tscv_splitter = UserTSCVSplitter(n_splits=5, test_size=0.2, data_manager)"
   ],
   "metadata": {
    "collapsed": false
   },
   "id": "ba2e5f8268a652d9",
   "outputs": [],
   "execution_count": null
  },
  {
   "cell_type": "code",
   "source": [
    "splits = last_order_user_tscv_splitter.split(data_manager.get_orders_tip())"
   ],
   "metadata": {
    "collapsed": false
   },
   "id": "e5442b2c715d1963",
   "outputs": [],
   "execution_count": null
  },
  {
   "cell_type": "code",
   "source": [
    "folds = {}\n",
    "for i, (train_index, test_index) in enumerate(splits):\n",
    "    orders_tip_current = data_manager.get_orders_tip()\n",
    "    print(f'Fold {i + 1}')\n",
    "    print(f'Train: {len(train_index)}')\n",
    "    print(f'Test: {len(test_index)}')\n",
    "    print(f'Orders: {len(orders_tip_current)}')\n",
    "\n",
    "    train_orders = orders_tip_current.loc[train_index]\n",
    "    test_orders = orders_tip_current.loc[test_index]\n",
    "    current_fold = {\n",
    "        'train': train_orders,\n",
    "        'test': test_orders\n",
    "    }\n",
    "    folds[f'fold_{i}'] = current_fold"
   ],
   "metadata": {
    "collapsed": false
   },
   "id": "c4c42ee3b5b60b2c",
   "outputs": [],
   "execution_count": null
  },
  {
   "cell_type": "code",
   "source": [
    "# import numpy as np\n",
    "# from sklearn.datasets import load_iris\n",
    "# from sklearn.ensemble import RandomForestClassifier\n",
    "# from sklearn.preprocessing import StandardScaler\n",
    "# from sklearn.model_selection import GridSearchCV, Pipeline\n",
    "# from sklearn.base import BaseEstimator, TransformerMixin\n",
    "# \n",
    "# \n",
    "# # Example custom transformer that could modify data based on some condition per fold\n",
    "# class CustomTransformer(BaseEstimator, TransformerMixin):\n",
    "#     def fit(self, X, y=None):\n",
    "#         # Implement fitting logic if necessary\n",
    "#         return self\n",
    "# \n",
    "#     def transform(self, X):\n",
    "#         # Modify X based on some condition or computation\n",
    "#         return X  # Return modified X\n",
    "# \n",
    "# \n",
    "# class CustomSplit:\n",
    "#     def __init__(self, n_splits=3):\n",
    "#         self.n_splits = n_splits\n",
    "# \n",
    "#     def split(self, X, y=None, groups=None):\n",
    "#         n_samples = len(X)\n",
    "#         fold_sizes = np.full(self.n_splits, n_samples // self.n_splits, dtype=int)\n",
    "#         fold_sizes[:n_samples % self.n_splits] += 1\n",
    "#         current = 0\n",
    "#         for fold_size in fold_sizes:\n",
    "#             start, stop = current, current + fold_size\n",
    "#             test_indices = np.arange(start, stop)\n",
    "#             train_indices = np.setdiff1d(np.arange(n_samples), test_indices)\n",
    "#             yield train_indices, test_indices\n",
    "# \n",
    "#     def get_n_splits(self, X=None, y=None, groups=None):\n",
    "#         return self.n_splits\n",
    "# \n",
    "# \n",
    "# # Load data\n",
    "# data = load_iris()\n",
    "# X, y = data.data, data.target\n",
    "# \n",
    "# # Create a pipeline with a custom transformer and a classifier\n",
    "# pipeline = Pipeline([\n",
    "#     ('custom_transform', CustomTransformer()),\n",
    "#     ('scaler', StandardScaler()),  # Example of another preprocessing step\n",
    "#     ('classifier', RandomForestClassifier())\n",
    "# ])\n",
    "# \n",
    "# # Define parameter grid (note: include pipeline step names)\n",
    "# param_grid = {\n",
    "#     'classifier__n_estimators': [100, 200],\n",
    "#     'classifier__max_features': ['auto', 'sqrt']\n",
    "# }\n",
    "# \n",
    "# # Setup GridSearchCV with custom cross-validator\n",
    "# cv = CustomSplit(n_splits=5)\n",
    "# grid_search = GridSearchCV(pipeline, param_grid, cv=cv, scoring='accuracy')\n",
    "# \n",
    "# # Perform grid search\n",
    "# grid_search.fit(X, y)\n",
    "# print(\"Best parameters:\", grid_search.best_params_)\n",
    "# print(\"Best cross-validation score: {:.3f}\".format(grid_search.best_score_))\n"
   ],
   "metadata": {
    "collapsed": false
   },
   "id": "6f9275104fa2d9b5",
   "outputs": [],
   "execution_count": null
  }
 ],
 "metadata": {
  "kernelspec": {
   "display_name": "Python 3 (ipykernel)",
   "language": "python",
   "name": "python3"
  },
  "language_info": {
   "codemirror_mode": {
    "name": "ipython",
    "version": 3
   },
   "file_extension": ".py",
   "mimetype": "text/x-python",
   "name": "python",
   "nbconvert_exporter": "python",
   "pygments_lexer": "ipython3",
   "version": "3.11.8"
  }
 },
 "nbformat": 4,
 "nbformat_minor": 5
}
