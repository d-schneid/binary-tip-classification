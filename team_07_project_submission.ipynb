{
 "cells": [
  {
   "cell_type": "markdown",
   "id": "7aea19f30bc2952",
   "metadata": {
    "collapsed": false
   },
   "source": [
    "# Data Science Project SoSe 2024\n",
    "## Team 07\n",
    "- Maximilian Hoffmann\n",
    "- Kilian Kempf\n",
    "- Daniel Schneider\n",
    "- Tom Schuck\n",
    "\n",
    "## Project Submission"
   ]
  },
  {
   "cell_type": "markdown",
   "id": "ca8cc580026f3fef",
   "metadata": {
    "collapsed": false
   },
   "source": [
    "### Libraries"
   ]
  },
  {
   "cell_type": "code",
   "outputs": [],
   "source": [
    "import os\n",
    "\n",
    "import pandas as pd\n",
    "\n",
    "from feature_engineering import DataStore\n",
    "from feature_engineering.features import TipHistory, ReorderedRatio, DynamicFeatureTest1, DynamicFeatureTest2, \\\n",
    "    LastTipSequence, \\\n",
    "    OrderSize, ModeDepartment, PrevTippedProductsRatio, CustomerLifetime, PrevOrderTipped, ProductTipRate, \\\n",
    "    SimOrdersTipRatio"
   ],
   "metadata": {
    "collapsed": false,
    "ExecuteTime": {
     "end_time": "2024-05-27T12:08:20.970183Z",
     "start_time": "2024-05-27T12:08:18.689514Z"
    }
   },
   "id": "5399994cdb897a19",
   "execution_count": 1
  },
  {
   "cell_type": "markdown",
   "source": [
    "### Data Preparation"
   ],
   "metadata": {
    "collapsed": false
   },
   "id": "e005baf037784d82"
  },
  {
   "cell_type": "code",
   "outputs": [],
   "source": [
    "DATA_DIR = os.path.join(os.getcwd(), 'data/Instacart')\n",
    "\n",
    "op_prior = pd.read_csv(os.path.join(DATA_DIR, 'order_products__prior.csv.zip'))\n",
    "op_train = pd.read_csv(os.path.join(DATA_DIR, 'order_products__train.csv.zip'))\n",
    "\n",
    "tip_train = pd.read_csv(os.path.join(DATA_DIR, 'tip_trainingsdaten1_.csv'))[['order_id', 'tip']]\n",
    "tip_test = pd.read_csv(os.path.join(DATA_DIR, 'tip_testdaten1_template.csv'))\n",
    "\n",
    "orders = pd.read_csv(os.path.join(DATA_DIR, 'orders.csv.zip'))\n",
    "aisles = pd.read_csv(os.path.join(DATA_DIR, 'aisles.csv.zip'))\n",
    "departments = pd.read_csv(os.path.join(DATA_DIR, 'departments.csv.zip'))\n",
    "products = pd.read_csv(os.path.join(DATA_DIR, 'products.csv.zip'))\n",
    "\n",
    "data_store = DataStore(op_prior, op_train, tip_train, tip_test, orders, products, aisles, departments)\n",
    "order_amount = len(data_store.get_orders_tip())"
   ],
   "metadata": {
    "collapsed": false,
    "ExecuteTime": {
     "end_time": "2024-05-27T12:09:07.898310Z",
     "start_time": "2024-05-27T12:08:20.972961Z"
    }
   },
   "id": "798fe3fb4dfde84f",
   "execution_count": 2
  },
  {
   "cell_type": "markdown",
   "source": [
    "### Feature Engineering"
   ],
   "metadata": {
    "collapsed": false
   },
   "id": "22f7b3b298dcb099"
  },
  {
   "cell_type": "code",
   "outputs": [],
   "source": [
    "features = ['order_number', 'order_dow', 'order_hour_of_day', 'days_since_prior_order', 'tip_history',\n",
    "            'reordered_ratio', 'order_size', 'mode_dept', 'prev_tipped_products_ratio']\n",
    "\n",
    "tip_history = TipHistory(data_store)\n",
    "reordered_rate = ReorderedRatio(data_store)\n",
    "order_size = OrderSize(data_store)\n",
    "mode_dept = ModeDepartment(data_store)\n",
    "prev_tipped_products_ratio = PrevTippedProductsRatio(data_store)\n",
    "customer_lifetime = CustomerLifetime(data_store)\n",
    "prev_order_tipped = PrevOrderTipped(data_store)\n",
    "\n",
    "# Static Features\n",
    "tip_history.compute_feature()\n",
    "reordered_rate.compute_feature()\n",
    "order_size.compute_feature()\n",
    "customer_lifetime.compute_feature()\n",
    "prev_order_tipped.compute_feature()\n",
    "# mode_dept.compute_feature()\n",
    "# prev_tipped_products_ratio.compute_feature()\n",
    "\n"
   ],
   "metadata": {
    "collapsed": false,
    "ExecuteTime": {
     "end_time": "2024-05-27T12:14:46.154254Z",
     "start_time": "2024-05-27T12:09:07.900785Z"
    }
   },
   "id": "473bbf1a8175da60",
   "execution_count": 3
  },
  {
   "cell_type": "code",
   "outputs": [
    {
     "data": {
      "text/plain": "    order_id  user_id eval_set  order_number  order_dow  order_hour_of_day  \\\n0    2539329        1    prior             1          2                  8   \n1    2398795        1    prior             2          3                  7   \n2     473747        1    prior             3          3                 12   \n3    2254736        1    prior             4          4                  7   \n4     431534        1    prior             5          4                 15   \n..       ...      ...      ...           ...        ...                ...   \n95   1916106       12    prior             3          5                  8   \n96   1057378       12    prior             4          3                  9   \n97    221248       12    prior             5          1                  9   \n98   2618231       13    prior             1          6                 12   \n99   2560699       13    prior             2          0                 11   \n\n    days_since_prior_order  tip  sim_orders_tip_ratio  \n0                       -1  0.0              0.000000  \n1                       15  0.0             -0.375000  \n2                       21  0.0             -0.625000  \n3                       29  0.0             -1.470238  \n4                       28  0.0             -1.470707  \n..                     ...  ...                   ...  \n95                      14  0.0             -0.115385  \n96                      26  0.0             -0.169264  \n97                      30  0.0             -0.259559  \n98                      -1  0.0              0.000000  \n99                       8  1.0             -0.285714  \n\n[100 rows x 9 columns]",
      "text/html": "<div>\n<style scoped>\n    .dataframe tbody tr th:only-of-type {\n        vertical-align: middle;\n    }\n\n    .dataframe tbody tr th {\n        vertical-align: top;\n    }\n\n    .dataframe thead th {\n        text-align: right;\n    }\n</style>\n<table border=\"1\" class=\"dataframe\">\n  <thead>\n    <tr style=\"text-align: right;\">\n      <th></th>\n      <th>order_id</th>\n      <th>user_id</th>\n      <th>eval_set</th>\n      <th>order_number</th>\n      <th>order_dow</th>\n      <th>order_hour_of_day</th>\n      <th>days_since_prior_order</th>\n      <th>tip</th>\n      <th>sim_orders_tip_ratio</th>\n    </tr>\n  </thead>\n  <tbody>\n    <tr>\n      <th>0</th>\n      <td>2539329</td>\n      <td>1</td>\n      <td>prior</td>\n      <td>1</td>\n      <td>2</td>\n      <td>8</td>\n      <td>-1</td>\n      <td>0.0</td>\n      <td>0.000000</td>\n    </tr>\n    <tr>\n      <th>1</th>\n      <td>2398795</td>\n      <td>1</td>\n      <td>prior</td>\n      <td>2</td>\n      <td>3</td>\n      <td>7</td>\n      <td>15</td>\n      <td>0.0</td>\n      <td>-0.375000</td>\n    </tr>\n    <tr>\n      <th>2</th>\n      <td>473747</td>\n      <td>1</td>\n      <td>prior</td>\n      <td>3</td>\n      <td>3</td>\n      <td>12</td>\n      <td>21</td>\n      <td>0.0</td>\n      <td>-0.625000</td>\n    </tr>\n    <tr>\n      <th>3</th>\n      <td>2254736</td>\n      <td>1</td>\n      <td>prior</td>\n      <td>4</td>\n      <td>4</td>\n      <td>7</td>\n      <td>29</td>\n      <td>0.0</td>\n      <td>-1.470238</td>\n    </tr>\n    <tr>\n      <th>4</th>\n      <td>431534</td>\n      <td>1</td>\n      <td>prior</td>\n      <td>5</td>\n      <td>4</td>\n      <td>15</td>\n      <td>28</td>\n      <td>0.0</td>\n      <td>-1.470707</td>\n    </tr>\n    <tr>\n      <th>...</th>\n      <td>...</td>\n      <td>...</td>\n      <td>...</td>\n      <td>...</td>\n      <td>...</td>\n      <td>...</td>\n      <td>...</td>\n      <td>...</td>\n      <td>...</td>\n    </tr>\n    <tr>\n      <th>95</th>\n      <td>1916106</td>\n      <td>12</td>\n      <td>prior</td>\n      <td>3</td>\n      <td>5</td>\n      <td>8</td>\n      <td>14</td>\n      <td>0.0</td>\n      <td>-0.115385</td>\n    </tr>\n    <tr>\n      <th>96</th>\n      <td>1057378</td>\n      <td>12</td>\n      <td>prior</td>\n      <td>4</td>\n      <td>3</td>\n      <td>9</td>\n      <td>26</td>\n      <td>0.0</td>\n      <td>-0.169264</td>\n    </tr>\n    <tr>\n      <th>97</th>\n      <td>221248</td>\n      <td>12</td>\n      <td>prior</td>\n      <td>5</td>\n      <td>1</td>\n      <td>9</td>\n      <td>30</td>\n      <td>0.0</td>\n      <td>-0.259559</td>\n    </tr>\n    <tr>\n      <th>98</th>\n      <td>2618231</td>\n      <td>13</td>\n      <td>prior</td>\n      <td>1</td>\n      <td>6</td>\n      <td>12</td>\n      <td>-1</td>\n      <td>0.0</td>\n      <td>0.000000</td>\n    </tr>\n    <tr>\n      <th>99</th>\n      <td>2560699</td>\n      <td>13</td>\n      <td>prior</td>\n      <td>2</td>\n      <td>0</td>\n      <td>11</td>\n      <td>8</td>\n      <td>1.0</td>\n      <td>-0.285714</td>\n    </tr>\n  </tbody>\n</table>\n<p>100 rows × 9 columns</p>\n</div>"
     },
     "execution_count": 4,
     "metadata": {},
     "output_type": "execute_result"
    }
   ],
   "source": [
    "data_store.get_orders_tip().head(100)"
   ],
   "metadata": {
    "collapsed": false,
    "ExecuteTime": {
     "end_time": "2024-05-27T12:14:46.184895Z",
     "start_time": "2024-05-27T12:14:46.156035Z"
    }
   },
   "id": "907f017c5bcc3ff5",
   "execution_count": 4
  },
  {
   "cell_type": "code",
   "outputs": [],
   "source": [
    "data_store.get_orders_tip_subset().head(25)"
   ],
   "metadata": {
    "collapsed": false
   },
   "id": "366fe5b46fbad39e",
   "execution_count": null
  },
  {
   "cell_type": "code",
   "outputs": [],
   "source": [
    "order_ids = data_store.get_orders_tip().groupby('user_id')['order_id'].head(5)\n",
    "data_store.set_data_subset(order_ids)\n",
    "\n",
    "# Dynamic Features\n",
    "\n",
    "\n"
   ],
   "metadata": {
    "collapsed": false
   },
   "id": "ed21e9e41111b301",
   "execution_count": null
  },
  {
   "cell_type": "code",
   "execution_count": null,
   "id": "82124a97baebc52",
   "metadata": {
    "collapsed": false
   },
   "outputs": [],
   "source": [
    "data_store.get_orders_tip_subset().head(25)"
   ]
  },
  {
   "cell_type": "markdown",
   "id": "e1c3b09b0f49eba0",
   "metadata": {
    "collapsed": false
   },
   "source": [
    "### Temporary Validation"
   ]
  },
  {
   "cell_type": "code",
   "execution_count": null,
   "id": "e35d205a2cb3a9a7",
   "metadata": {
    "collapsed": false
   },
   "outputs": [],
   "source": [
    "print(f\"Number of orders: {len(data_store.get_orders_tip())}\")\n",
    "print(f\"Number of subset orders: {len(data_store.get_orders_tip_subset())}\\n\")\n",
    "print(f\"Number of orders did not change: {order_amount == len(data_store.get_orders_tip())}\")\n",
    "print(f\"Number of subset orders did not change: {len(order_ids) == len(data_store.get_orders_tip_subset())}\\n\")\n",
    "print(f\"Number of NaN or null values in each column:\\n{data_store.get_orders_tip().isnull().sum()}\")"
   ]
  },
  {
   "cell_type": "markdown",
   "id": "a4253331b4719e93",
   "metadata": {
    "collapsed": false
   },
   "source": [
    "### Temporary Manual Validation"
   ]
  },
  {
   "cell_type": "code",
   "execution_count": null,
   "id": "f9d8254f35290d3e",
   "metadata": {
    "collapsed": false
   },
   "outputs": [],
   "source": [
    "orders_joined = data_store.get_orders_joined()\n",
    "order_size = orders_joined.groupby('order_id')['order_number'].size().reset_index().rename(\n",
    "    columns={'order_number': 'order_size'})\n",
    "order_size.head(25)"
   ]
  },
  {
   "cell_type": "code",
   "execution_count": null,
   "id": "93e174706599d44d",
   "metadata": {
    "collapsed": false
   },
   "outputs": [],
   "source": [
    "print(f\"Order size example: {order_size[order_size['order_id'] == 2168274]['order_size'].values[0]}\")\n",
    "orders_joined[orders_joined['order_id'] == 2168274]"
   ]
  },
  {
   "cell_type": "code",
   "outputs": [],
   "source": [
    "orders_joined = data_store.get_orders_joined()\n",
    "test = orders_joined.iloc[:1000]\n",
    "orders_tip = data_store.get_orders_tip().copy()\n",
    "\n",
    "\n",
    "# def cumulative_union_1(user_orders):\n",
    "#     cumulative_products = set()\n",
    "#     for idx, order in user_orders.iterrows():\n",
    "#         prev_tipped_products = cumulative_products.intersection(order['products'])\n",
    "#         user_orders.at[idx, 'prev_tipped_products_ratio'] = len(prev_tipped_products) / len(order['products'])\n",
    "#         if order['tip'] == 1.0:\n",
    "#             cumulative_products.update(order['products'])\n",
    "#     return user_orders\n",
    "# \n",
    "# \n",
    "# grouped = (test.groupby(['user_id', 'order_number', 'order_id']).agg(\n",
    "#     products=('product_id', lambda x: set(x)), tip=('tip', 'first'))).reset_index()\n",
    "# \n",
    "# grouped = grouped.groupby('user_id').apply(cumulative_union_1, include_groups=False).reset_index(\n",
    "#     drop=False).drop(columns='level_1')\n",
    "# \n",
    "# final = pd.merge(orders_tip.drop('prev_tipped_products_ratio', axis=1),\n",
    "#                  grouped[['user_id', 'order_number', 'prev_tipped_products_ratio']],\n",
    "#                  on=['user_id', 'order_number'],\n",
    "#                  how='left')\n",
    "# # grouped_1.head(25)\n",
    "# final.head(25)"
   ],
   "metadata": {
    "collapsed": false
   },
   "id": "bb72304692feec72",
   "execution_count": null
  },
  {
   "cell_type": "code",
   "outputs": [],
   "source": [
    "# final.head(87).equals(orders_tip.head(87))"
   ],
   "metadata": {
    "collapsed": false
   },
   "id": "e67739bcd5a83912",
   "execution_count": null
  },
  {
   "cell_type": "markdown",
   "id": "3c58f94a8edcfe8b",
   "metadata": {
    "collapsed": false
   },
   "source": [
    "### Temporary Tests"
   ]
  },
  {
   "cell_type": "code",
   "execution_count": null,
   "id": "d56fa75dbbd29991",
   "metadata": {
    "collapsed": false
   },
   "outputs": [],
   "source": [
    "dynamic_feature_test_1 = DynamicFeatureTest1(data_store)\n",
    "dynamic_feature_test_2 = DynamicFeatureTest2(data_store)\n",
    "dynamic_feature_test_1.compute_feature()\n",
    "dynamic_feature_test_2.compute_feature()\n",
    "\n",
    "data_store.get_orders_tip_subset().head(25)"
   ]
  },
  {
   "cell_type": "code",
   "execution_count": null,
   "id": "3014c3197aa708f0",
   "metadata": {
    "collapsed": false
   },
   "outputs": [],
   "source": [
    "order_ids = data_store.get_orders_tip().groupby('user_id')['order_id'].head(2)\n",
    "data_store.set_data_subset(order_ids)\n",
    "\n",
    "dynamic_feature_test_1.compute_feature()\n",
    "data_store.get_orders_tip_subset().head(25)"
   ]
  },
  {
   "cell_type": "code",
   "outputs": [],
   "source": [],
   "metadata": {
    "collapsed": false
   },
   "id": "61e2da66bca115f1",
   "execution_count": null
  },
  {
   "cell_type": "markdown",
   "id": "d571331aa19136d5",
   "metadata": {
    "collapsed": false
   },
   "source": [
    "### Analysis"
   ]
  },
  {
   "cell_type": "markdown",
   "id": "9038d3d52fbf8ad1",
   "metadata": {
    "collapsed": false
   },
   "source": [
    "### Model Training & Evaluation"
   ]
  },
  {
   "cell_type": "code",
   "execution_count": null,
   "id": "a9f00ea58f4da04e",
   "metadata": {
    "collapsed": false
   },
   "outputs": [],
   "source": []
  }
 ],
 "metadata": {
  "kernelspec": {
   "name": "python3",
   "language": "python",
   "display_name": "Python 3 (ipykernel)"
  },
  "language_info": {
   "codemirror_mode": {
    "name": "ipython",
    "version": 3
   },
   "file_extension": ".py",
   "mimetype": "text/x-python",
   "name": "python",
   "nbconvert_exporter": "python",
   "pygments_lexer": "ipython3",
   "version": "3.11.8"
  }
 },
 "nbformat": 4,
 "nbformat_minor": 5
}
