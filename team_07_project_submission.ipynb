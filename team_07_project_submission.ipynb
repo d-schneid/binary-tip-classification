{
 "cells": [
  {
   "cell_type": "markdown",
   "source": [
    "# Data Science Project SoSe 2024\n",
    "## Team 07\n",
    "- Maximilian Hoffmann\n",
    "- Kilian Kempf\n",
    "- Daniel Schneider\n",
    "- Tom Schuck\n",
    "\n",
    "## Project Submission"
   ],
   "metadata": {
    "collapsed": false
   },
   "id": "7aea19f30bc2952"
  },
  {
   "cell_type": "markdown",
   "source": [
    "### Libraries "
   ],
   "metadata": {
    "collapsed": false
   },
   "id": "ca8cc580026f3fef"
  },
  {
   "cell_type": "markdown",
   "source": [
    "### Data Preparation"
   ],
   "metadata": {
    "collapsed": false
   },
   "id": "6537369153176304"
  },
  {
   "cell_type": "markdown",
   "source": [
    "### Analysis"
   ],
   "metadata": {
    "collapsed": false
   },
   "id": "d571331aa19136d5"
  },
  {
   "cell_type": "markdown",
   "source": [
    "### Feature Engineering"
   ],
   "metadata": {
    "collapsed": false
   },
   "id": "a161bdb63ede46ec"
  },
  {
   "cell_type": "markdown",
   "source": [
    "### Model Training & Evaluation"
   ],
   "metadata": {
    "collapsed": false
   },
   "id": "9038d3d52fbf8ad1"
  },
  {
   "cell_type": "code",
   "outputs": [],
   "source": [],
   "metadata": {
    "collapsed": false
   },
   "id": "a9f00ea58f4da04e"
  }
 ],
 "metadata": {
  "kernelspec": {
   "display_name": "Python 3",
   "language": "python",
   "name": "python3"
  },
  "language_info": {
   "codemirror_mode": {
    "name": "ipython",
    "version": 2
   },
   "file_extension": ".py",
   "mimetype": "text/x-python",
   "name": "python",
   "nbconvert_exporter": "python",
   "pygments_lexer": "ipython2",
   "version": "2.7.6"
  }
 },
 "nbformat": 4,
 "nbformat_minor": 5
}
