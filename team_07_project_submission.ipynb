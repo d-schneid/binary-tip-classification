{
 "cells": [
  {
   "cell_type": "markdown",
   "id": "7aea19f30bc2952",
   "metadata": {
    "collapsed": false
   },
   "source": [
    "# Data Science Project SoSe 2024\n",
    "## Team 07\n",
    "- Maximilian Hoffmann\n",
    "- Kilian Kempf\n",
    "- Daniel Schneider\n",
    "- Tom Schuck\n",
    "\n",
    "## Project Submission"
   ]
  },
  {
   "cell_type": "markdown",
   "id": "ca8cc580026f3fef",
   "metadata": {
    "collapsed": false
   },
   "source": [
    "### Libraries"
   ]
  },
  {
   "cell_type": "code",
   "source": [
    "import os\n",
    "\n",
    "import pandas as pd\n",
    "\n",
    "from feature_engineering import DataManager\n",
    "from feature_engineering.features import TipHistory, ReorderedRatio, DynamicFeatureTest1, DynamicFeatureTest2, \\\n",
    "    OrderSize, ModeDepartment, PrevTippedProductsRatio, CustomerLifetime, PrevOrderTipped, OrderFrequency, \\\n",
    "    SimOrdersTipRatio, ProductTipRate, DepartmentTipRate, AisleTipRate, OrderExcessLikability, AvgSizePrevOrders, \\\n",
    "    MeanOrderedRate, LastTipSequence, RelDaysSinceTip, DaysSinceTip"
   ],
   "metadata": {
    "collapsed": false,
    "ExecuteTime": {
     "end_time": "2024-06-03T21:39:48.477613700Z",
     "start_time": "2024-06-03T21:39:47.772107700Z"
    }
   },
   "id": "c51b42d19954d682",
   "outputs": [],
   "execution_count": 1
  },
  {
   "cell_type": "markdown",
   "source": [
    "### Data Initialization"
   ],
   "metadata": {
    "collapsed": false
   },
   "id": "b1817857eb895437"
  },
  {
   "cell_type": "code",
   "source": [
    "DATA_DIR = os.path.join(os.getcwd(), 'data/Instacart')\n",
    "\n",
    "op_prior = pd.read_csv(os.path.join(DATA_DIR, 'order_products__prior.csv.zip'))\n",
    "op_train = pd.read_csv(os.path.join(DATA_DIR, 'order_products__train.csv.zip'))\n",
    "\n",
    "tip_train = pd.read_csv(os.path.join(DATA_DIR, 'tip_trainingsdaten1_.csv'))[['order_id', 'tip']]\n",
    "tip_test = pd.read_csv(os.path.join(DATA_DIR, 'tip_testdaten1_template.csv'))\n",
    "\n",
    "orders = pd.read_csv(os.path.join(DATA_DIR, 'orders.csv.zip'))\n",
    "aisles = pd.read_csv(os.path.join(DATA_DIR, 'aisles.csv.zip'))\n",
    "departments = pd.read_csv(os.path.join(DATA_DIR, 'departments.csv.zip'))\n",
    "products = pd.read_csv(os.path.join(DATA_DIR, 'products.csv.zip'))\n",
    "\n",
    "data_manager = DataManager(op_prior, op_train, tip_train, tip_test, orders, products, aisles, departments)\n",
    "order_amount = len(data_manager.get_orders_tip())"
   ],
   "metadata": {
    "collapsed": false,
    "ExecuteTime": {
     "end_time": "2024-06-03T21:40:16.420196600Z",
     "start_time": "2024-06-03T21:39:48.437307400Z"
    }
   },
   "id": "2ac69658072618d1",
   "outputs": [],
   "execution_count": 2
  },
  {
   "cell_type": "markdown",
   "source": [
    "### Feature Engineering"
   ],
   "metadata": {
    "collapsed": false
   },
   "id": "d11d62b342b9ebc8"
  },
  {
   "cell_type": "code",
   "source": [
    "#features = ['order_number', 'order_dow', 'order_hour_of_day', 'days_since_prior_order', 'tip_history',\n",
    "#          'reordered_ratio', 'order_size', 'mode_dept', 'prev_tipped_products_ratio', 'avg_size_prev_orders']\n",
    "\n",
    "# Kilian\n",
    "tip_history = TipHistory()\n",
    "reordered_rate = ReorderedRatio()\n",
    "order_size = OrderSize()\n",
    "prev_tipped_products_ratio = PrevTippedProductsRatio()\n",
    "customer_lifetime = CustomerLifetime()\n",
    "prev_order_tipped = PrevOrderTipped()\n",
    "\n",
    "# Daniel\n",
    "mode_dept = ModeDepartment()  # TODO: Probably remove (maybe exchange with other order content related feature)\n",
    "order_frequency = OrderFrequency()\n",
    "mean_ordered_rate = MeanOrderedRate()  # TODO: First order NaN\n",
    "rel_days_since_tip = RelDaysSinceTip()  # TODO: NaN handling\n",
    "days_since_tip = DaysSinceTip()  # TODO: NaN handling\n",
    "\n",
    "# Max\n",
    "sim_orders_tip_ratio = SimOrdersTipRatio()\n",
    "product_tip_rate = ProductTipRate()\n",
    "department_tip_rate = DepartmentTipRate()\n",
    "aisle_tip_rate = AisleTipRate()\n",
    "last_tip_sequence = LastTipSequence()  # TODO: Maybe remove weighting or add additional feature without weoghting\n",
    "\n",
    "# Tom\n",
    "order_excess_likability = OrderExcessLikability()  # TODO\n",
    "avg_size_prev_orders = AvgSizePrevOrders()  # TODO: Prozentuale Abweichung (positiv wenn größer, negativ wenn kleiner) \n",
    "\n",
    "# Test\n",
    "dynamic_feature_test_1 = DynamicFeatureTest1()\n",
    "dynamic_feature_test_2 = DynamicFeatureTest2()"
   ],
   "metadata": {
    "collapsed": false,
    "ExecuteTime": {
     "end_time": "2024-06-03T21:40:16.438110100Z",
     "start_time": "2024-06-03T21:40:16.421194400Z"
    }
   },
   "id": "6a897e084cc934ce",
   "outputs": [],
   "execution_count": 3
  },
  {
   "cell_type": "code",
   "source": [
    "# Static Features\n",
    "# data_manager.register_feature(tip_history)\n",
    "# data_manager.register_feature(reordered_rate)\n",
    "# data_manager.register_feature(order_size)\n",
    "# data_manager.register_feature(customer_lifetime)\n",
    "# data_manager.register_feature(prev_order_tipped)\n",
    "# data_manager.register_feature(prev_tipped_products_ratio)\n",
    "\n",
    "# data_manager.register_feature(mode_dept)\n",
    "# data_manager.register_feature(order_frequency)\n",
    "# data_manager.register_feature(sim_orders_tip_ratio)\n",
    "# data_manager.register_feature(order_excess_likability)\n",
    "# data_manager.register_feature(avg_size_prev_orders)\n",
    "# data_manager.register_feature(mean_ordered_rate)\n",
    "# data_manager.register_feature(last_tip_sequence)\n",
    "# data_manager.register_feature(rel_days_since_tip)\n",
    "# data_manager.register_feature(days_since_tip)\n",
    "\n",
    "# # Dynamic Features\n",
    "# data_manager.register_feature(dynamic_feature_test_1)\n",
    "# data_manager.register_feature(dynamic_feature_test_2)\n",
    "# data_manager.register_feature(product_tip_rate)\n",
    "# data_manager.register_feature(department_tip_rate)\n",
    "# data_manager.register_feature(aisle_tip_rate)"
   ],
   "metadata": {
    "collapsed": false,
    "ExecuteTime": {
     "end_time": "2024-06-03T21:40:16.439124400Z",
     "start_time": "2024-06-03T21:40:16.425550300Z"
    }
   },
   "id": "7bdee9f31e0bac1b",
   "outputs": [],
   "execution_count": 4
  },
  {
   "cell_type": "code",
   "source": [
    "# data_manager.compute_features()"
   ],
   "metadata": {
    "collapsed": false,
    "ExecuteTime": {
     "end_time": "2024-06-03T21:40:16.440228600Z",
     "start_time": "2024-06-03T21:40:16.430367100Z"
    }
   },
   "id": "6b815abe51807fce",
   "outputs": [],
   "execution_count": 5
  },
  {
   "cell_type": "code",
   "source": [
    "# data_manager.get_orders_tip().head(100)"
   ],
   "metadata": {
    "collapsed": false,
    "ExecuteTime": {
     "end_time": "2024-06-03T21:40:16.440228600Z",
     "start_time": "2024-06-03T21:40:16.434949800Z"
    }
   },
   "id": "d3ea4e9eac0b043c",
   "outputs": [],
   "execution_count": 6
  },
  {
   "cell_type": "code",
   "outputs": [],
   "source": [
    "# data_manager.export_features('data/prepared_data/computed_features.csv.zip', only_static=False)"
   ],
   "metadata": {
    "collapsed": false,
    "ExecuteTime": {
     "end_time": "2024-06-03T21:40:16.443679800Z",
     "start_time": "2024-06-03T21:40:16.438110100Z"
    }
   },
   "id": "d879a6a14f49589a",
   "execution_count": 7
  },
  {
   "cell_type": "code",
   "outputs": [],
   "source": [
    "# data_manager.import_features('data/prepared_data/computed_features.csv.zip', only_static=False)"
   ],
   "metadata": {
    "collapsed": false,
    "ExecuteTime": {
     "end_time": "2024-06-03T21:40:16.462805900Z",
     "start_time": "2024-06-03T21:40:16.442237100Z"
    }
   },
   "id": "5e56cee1c81131b2",
   "execution_count": 8
  },
  {
   "cell_type": "code",
   "outputs": [],
   "source": [
    "# data_manager.get_orders_tip().head(100)"
   ],
   "metadata": {
    "collapsed": false,
    "ExecuteTime": {
     "end_time": "2024-06-03T21:40:16.463799800Z",
     "start_time": "2024-06-03T21:40:16.444685Z"
    }
   },
   "id": "8f2a4c2575deb79a",
   "execution_count": 9
  },
  {
   "cell_type": "code",
   "outputs": [],
   "source": [
    "# test = data_manager.get_orders_tip()"
   ],
   "metadata": {
    "collapsed": false,
    "ExecuteTime": {
     "end_time": "2024-06-03T21:40:16.464797300Z",
     "start_time": "2024-06-03T21:40:16.450062200Z"
    }
   },
   "id": "c8f20e5050aee4ab",
   "execution_count": 10
  },
  {
   "cell_type": "code",
   "outputs": [],
   "source": [
    "# print(f\"Number of orders: {len(data_manager.get_orders_tip())}\")\n",
    "# print(f\"Number of orders did not change: {order_amount == len(data_manager.get_orders_tip())}\\n\")\n",
    "# print(f\"Number of NaN or null values in each column:\\n{data_manager.get_orders_tip().isnull().sum()}\")"
   ],
   "metadata": {
    "collapsed": false,
    "ExecuteTime": {
     "end_time": "2024-06-03T21:40:16.481904700Z",
     "start_time": "2024-06-03T21:40:16.453253500Z"
    }
   },
   "id": "70be2ca230e12d01",
   "execution_count": 11
  },
  {
   "cell_type": "code",
   "outputs": [],
   "source": [
    "# order_ids = data_manager.get_orders_tip(complete=True).groupby('user_id')['order_id'].head(5)\n",
    "# order_amount = len(order_ids)"
   ],
   "metadata": {
    "collapsed": false,
    "ExecuteTime": {
     "end_time": "2024-06-03T21:40:16.482407800Z",
     "start_time": "2024-06-03T21:40:16.458546900Z"
    }
   },
   "id": "ed21e9e41111b301",
   "execution_count": 12
  },
  {
   "cell_type": "code",
   "outputs": [],
   "source": [
    "# data_manager.set_subset(order_ids)"
   ],
   "metadata": {
    "collapsed": false,
    "ExecuteTime": {
     "end_time": "2024-06-03T21:40:16.516674Z",
     "start_time": "2024-06-03T21:40:16.462805900Z"
    }
   },
   "id": "a9c4a8244b861028",
   "execution_count": 13
  },
  {
   "cell_type": "code",
   "execution_count": 14,
   "id": "82124a97baebc52",
   "metadata": {
    "collapsed": false,
    "ExecuteTime": {
     "end_time": "2024-06-03T21:40:16.517870600Z",
     "start_time": "2024-06-03T21:40:16.468012800Z"
    }
   },
   "outputs": [],
   "source": [
    "# data_manager.get_orders_tip().head(25)"
   ]
  },
  {
   "cell_type": "code",
   "execution_count": 15,
   "id": "e35d205a2cb3a9a7",
   "metadata": {
    "collapsed": false,
    "ExecuteTime": {
     "end_time": "2024-06-03T21:40:16.518881800Z",
     "start_time": "2024-06-03T21:40:16.472934100Z"
    }
   },
   "outputs": [],
   "source": [
    "# print(f\"Number of orders: {len(data_manager.get_orders_tip())}\")\n",
    "# print(f\"Number of orders did not change: {order_amount == len(data_manager.get_orders_tip())}\\n\")\n",
    "# print(f\"Number of NaN or null values in each column:\\n{data_manager.get_orders_tip().isnull().sum()}\")"
   ]
  },
  {
   "cell_type": "code",
   "outputs": [],
   "source": [
    "# order_ids = data_manager.get_orders_tip(complete=True).groupby('user_id')['order_id'].head(4)\n",
    "# order_amount = len(order_ids)\n",
    "# \n",
    "# data_manager.set_subset(order_ids)\n",
    "# data_manager.get_orders_tip().head(25)"
   ],
   "metadata": {
    "collapsed": false,
    "ExecuteTime": {
     "end_time": "2024-06-03T21:40:16.519880700Z",
     "start_time": "2024-06-03T21:40:16.476235700Z"
    }
   },
   "id": "f74c035a9f150c03",
   "execution_count": 16
  },
  {
   "cell_type": "code",
   "outputs": [],
   "source": [
    "# print(f\"Number of orders: {len(data_manager.get_orders_tip())}\")\n",
    "# print(f\"Number of orders did not change: {order_amount == len(data_manager.get_orders_tip())}\\n\")\n",
    "# print(f\"Number of NaN or null values in each column:\\n{data_manager.get_orders_tip().isnull().sum()}\")"
   ],
   "metadata": {
    "collapsed": false,
    "ExecuteTime": {
     "end_time": "2024-06-03T21:40:16.520880700Z",
     "start_time": "2024-06-03T21:40:16.479592700Z"
    }
   },
   "id": "9ec949cdfc48d38e",
   "execution_count": 17
  },
  {
   "cell_type": "markdown",
   "id": "d571331aa19136d5",
   "metadata": {
    "collapsed": false
   },
   "source": [
    "### Analysis\n",
    "- Only orders from the training set (orders with tip information) are considered"
   ]
  },
  {
   "cell_type": "code",
   "outputs": [],
   "source": [
    "from analysis import DaysSincePriorOrder, DayOfWeek, HourOfDay, Department, OrderNumber, Aisle, Product"
   ],
   "metadata": {
    "collapsed": false,
    "ExecuteTime": {
     "end_time": "2024-06-03T21:40:17.709599400Z",
     "start_time": "2024-06-03T21:40:16.484569600Z"
    }
   },
   "id": "a09a31448a99e7e0",
   "execution_count": 18
  },
  {
   "cell_type": "code",
   "outputs": [],
   "source": [
    "day_of_week = DayOfWeek(data_manager)\n",
    "hour_of_day = HourOfDay(data_manager)\n",
    "days_since_prior_order = DaysSincePriorOrder(data_manager)\n",
    "order_number = OrderNumber(data_manager)\n",
    "department = Department(data_manager)\n",
    "aisle = Aisle(data_manager)\n",
    "product = Product(data_manager)\n",
    "\n",
    "# Frequency of items with tip probability > 0.9, 0.8, 0.7, 0.6, 0.5 ... 0.1 \n",
    "# Group into percentiles and average tip probability\n",
    "# Plot bar chart with tip probability and mean tip probability (limit to top 10?)\n",
    "\n",
    "# TODO:\n",
    "# - Decide on departments grouping\n",
    "# - Product/Department/Aisle Tip Rate"
   ],
   "metadata": {
    "collapsed": false,
    "ExecuteTime": {
     "end_time": "2024-06-03T21:40:38.459571600Z",
     "start_time": "2024-06-03T21:40:17.711600500Z"
    }
   },
   "id": "4be267945f618a88",
   "execution_count": 19
  },
  {
   "cell_type": "code",
   "outputs": [],
   "source": [
    "# day_of_week.execute_analysis()"
   ],
   "metadata": {
    "collapsed": false,
    "ExecuteTime": {
     "end_time": "2024-06-03T21:40:38.477946200Z",
     "start_time": "2024-06-03T21:40:38.460573300Z"
    }
   },
   "id": "de5ab313cde80cab",
   "execution_count": 20
  },
  {
   "cell_type": "code",
   "outputs": [],
   "source": [
    "# hour_of_day.execute_analysis()"
   ],
   "metadata": {
    "collapsed": false,
    "ExecuteTime": {
     "end_time": "2024-06-03T21:40:38.509084500Z",
     "start_time": "2024-06-03T21:40:38.464499400Z"
    }
   },
   "id": "fc25465ac99bd8a",
   "execution_count": 21
  },
  {
   "cell_type": "code",
   "outputs": [],
   "source": [
    "# days_since_prior_order.execute_analysis()"
   ],
   "metadata": {
    "collapsed": false,
    "ExecuteTime": {
     "end_time": "2024-06-03T21:40:38.510895200Z",
     "start_time": "2024-06-03T21:40:38.482300200Z"
    }
   },
   "id": "1935f461e5cadb36",
   "execution_count": 22
  },
  {
   "cell_type": "code",
   "outputs": [],
   "source": [
    "# order_number.execute_analysis()"
   ],
   "metadata": {
    "collapsed": false,
    "ExecuteTime": {
     "end_time": "2024-06-03T21:40:38.511399500Z",
     "start_time": "2024-06-03T21:40:38.491552Z"
    }
   },
   "id": "61ab78ca758fe69b",
   "execution_count": 23
  },
  {
   "cell_type": "code",
   "outputs": [],
   "source": [
    "# department.execute_analysis()"
   ],
   "metadata": {
    "collapsed": false,
    "ExecuteTime": {
     "end_time": "2024-06-03T21:40:38.512404600Z",
     "start_time": "2024-06-03T21:40:38.494955700Z"
    }
   },
   "id": "ef07aadff9a64100",
   "execution_count": 24
  },
  {
   "cell_type": "code",
   "outputs": [],
   "source": [
    "# aisle.execute_analysis()"
   ],
   "metadata": {
    "collapsed": false,
    "ExecuteTime": {
     "end_time": "2024-06-03T21:40:38.513403800Z",
     "start_time": "2024-06-03T21:40:38.499790700Z"
    }
   },
   "id": "3f084df0e69a8f47",
   "execution_count": 25
  },
  {
   "cell_type": "code",
   "outputs": [],
   "source": [
    "# product.execute_analysis()"
   ],
   "metadata": {
    "collapsed": false,
    "ExecuteTime": {
     "end_time": "2024-06-03T21:40:38.513403800Z",
     "start_time": "2024-06-03T21:40:38.504353600Z"
    }
   },
   "id": "9eb958b973ace283",
   "execution_count": 26
  },
  {
   "cell_type": "code",
   "outputs": [],
   "source": [
    "a = days_since_prior_order"
   ],
   "metadata": {
    "collapsed": false,
    "ExecuteTime": {
     "end_time": "2024-06-03T21:40:38.537475300Z",
     "start_time": "2024-06-03T21:40:38.510083900Z"
    }
   },
   "id": "b4446f4749fddac",
   "execution_count": 27
  },
  {
   "cell_type": "code",
   "outputs": [
    {
     "data": {
      "text/plain": "tip         0.0  1.0\nproduct_id          \n34923       0.0  1.0\n4333        0.0  1.0\n15986       0.0  1.0\n6559        0.0  1.0\n48065       0.0  1.0\n...         ...  ...\n1901        1.0  0.0\n17937       1.0  0.0\n28206       1.0  0.0\n17933       1.0  0.0\n34484       1.0  0.0\n\n[49678 rows x 2 columns]",
      "text/html": "<div>\n<style scoped>\n    .dataframe tbody tr th:only-of-type {\n        vertical-align: middle;\n    }\n\n    .dataframe tbody tr th {\n        vertical-align: top;\n    }\n\n    .dataframe thead th {\n        text-align: right;\n    }\n</style>\n<table border=\"1\" class=\"dataframe\">\n  <thead>\n    <tr style=\"text-align: right;\">\n      <th>tip</th>\n      <th>0.0</th>\n      <th>1.0</th>\n    </tr>\n    <tr>\n      <th>product_id</th>\n      <th></th>\n      <th></th>\n    </tr>\n  </thead>\n  <tbody>\n    <tr>\n      <th>34923</th>\n      <td>0.0</td>\n      <td>1.0</td>\n    </tr>\n    <tr>\n      <th>4333</th>\n      <td>0.0</td>\n      <td>1.0</td>\n    </tr>\n    <tr>\n      <th>15986</th>\n      <td>0.0</td>\n      <td>1.0</td>\n    </tr>\n    <tr>\n      <th>6559</th>\n      <td>0.0</td>\n      <td>1.0</td>\n    </tr>\n    <tr>\n      <th>48065</th>\n      <td>0.0</td>\n      <td>1.0</td>\n    </tr>\n    <tr>\n      <th>...</th>\n      <td>...</td>\n      <td>...</td>\n    </tr>\n    <tr>\n      <th>1901</th>\n      <td>1.0</td>\n      <td>0.0</td>\n    </tr>\n    <tr>\n      <th>17937</th>\n      <td>1.0</td>\n      <td>0.0</td>\n    </tr>\n    <tr>\n      <th>28206</th>\n      <td>1.0</td>\n      <td>0.0</td>\n    </tr>\n    <tr>\n      <th>17933</th>\n      <td>1.0</td>\n      <td>0.0</td>\n    </tr>\n    <tr>\n      <th>34484</th>\n      <td>1.0</td>\n      <td>0.0</td>\n    </tr>\n  </tbody>\n</table>\n<p>49678 rows × 2 columns</p>\n</div>"
     },
     "execution_count": 28,
     "metadata": {},
     "output_type": "execute_result"
    }
   ],
   "source": [
    "product_department_tip = a.orders_joined[['product_id', 'department_id', 'tip']]\n",
    "product_mapping = a.products.set_index('product_id')['product_name']\n",
    "\n",
    "# alcohol_department_id = a.departments[a.departments['department'] == 'alcohol']['department_id'].values[0]\n",
    "# alcohol_product_ids = product_department_tip[product_department_tip['department_id'] == alcohol_department_id][\n",
    "#     'product_id'].unique()\n",
    "# a.alcohol_products = product_mapping.loc[alcohol_product_ids].values\n",
    "\n",
    "cross_tab_product_normalized = (pd.crosstab(index=product_department_tip['product_id'],\n",
    "                                            columns=product_department_tip['tip'],\n",
    "                                            margins=True,\n",
    "                                            normalize='index')\n",
    "                                # .rename(index=product_mapping)\n",
    "                                .sort_values(by=1, ascending=False))\n",
    "cross_tab_product_normalized"
   ],
   "metadata": {
    "collapsed": false,
    "ExecuteTime": {
     "end_time": "2024-06-03T21:40:54.612745400Z",
     "start_time": "2024-06-03T21:40:38.518405300Z"
    }
   },
   "id": "372c56b0be913ac2",
   "execution_count": 28
  },
  {
   "cell_type": "markdown",
   "source": [
    "### Data Preparation"
   ],
   "metadata": {
    "collapsed": false
   },
   "id": "63ca3a2c4358810d"
  },
  {
   "cell_type": "code",
   "outputs": [],
   "source": [
    "from feature_engineering.features import DowHighTipProbability, HodHighTipProbability, OrderNumberSquared, \\\n",
    "    ContainsAlcohol\n",
    "\n",
    "data_manager.register_feature(DowHighTipProbability())\n",
    "data_manager.register_feature(HodHighTipProbability())\n",
    "data_manager.register_feature(OrderNumberSquared())\n",
    "data_manager.register_feature(ContainsAlcohol())"
   ],
   "metadata": {
    "collapsed": false,
    "ExecuteTime": {
     "end_time": "2024-06-03T21:40:54.634129600Z",
     "start_time": "2024-06-03T21:40:54.613777900Z"
    }
   },
   "id": "b9e09d0cfa2575f4",
   "execution_count": 29
  },
  {
   "cell_type": "code",
   "outputs": [],
   "source": [
    "data_manager.compute_features()"
   ],
   "metadata": {
    "collapsed": false,
    "ExecuteTime": {
     "end_time": "2024-06-03T21:40:58.526464900Z",
     "start_time": "2024-06-03T21:40:54.616946100Z"
    }
   },
   "id": "7abbbc99cec0f748",
   "execution_count": 30
  },
  {
   "cell_type": "code",
   "outputs": [],
   "source": [
    "# orders_with_alcohol = data_manager.get_orders_tip()[data_manager.get_orders_tip()['contains_alcohol'] == 1][\n",
    "#     ['order_id', 'contains_alcohol']]\n",
    "# test = pd.merge(orders_with_alcohol, data_manager.get_orders_joined(),\n",
    "#                 on='order_id')[['order_id', 'contains_alcohol', 'department_id', 'product_id']]"
   ],
   "metadata": {
    "collapsed": false,
    "ExecuteTime": {
     "end_time": "2024-06-03T22:10:54.336090400Z",
     "start_time": "2024-06-03T22:10:50.504994700Z"
    }
   },
   "id": "d91324ee07a27b82",
   "execution_count": 38
  },
  {
   "cell_type": "code",
   "outputs": [
    {
     "data": {
      "text/plain": "87794"
     },
     "execution_count": 44,
     "metadata": {},
     "output_type": "execute_result"
    }
   ],
   "source": [
    "# len(orders_with_alcohol)"
   ],
   "metadata": {
    "collapsed": false,
    "ExecuteTime": {
     "end_time": "2024-06-03T22:13:24.357324Z",
     "start_time": "2024-06-03T22:13:24.014269Z"
    }
   },
   "id": "cfbbf458b3a3b688",
   "execution_count": 44
  },
  {
   "cell_type": "code",
   "outputs": [
    {
     "data": {
      "text/plain": "87794"
     },
     "execution_count": 45,
     "metadata": {},
     "output_type": "execute_result"
    }
   ],
   "source": [
    "# len(data_manager.get_orders_joined()[data_manager.get_orders_joined()['department_id'] == 5]['order_id'].unique())"
   ],
   "metadata": {
    "collapsed": false,
    "ExecuteTime": {
     "end_time": "2024-06-03T22:13:24.972845200Z",
     "start_time": "2024-06-03T22:13:24.863164300Z"
    }
   },
   "id": "c229199099e4bd0b",
   "execution_count": 45
  },
  {
   "cell_type": "markdown",
   "id": "9038d3d52fbf8ad1",
   "metadata": {
    "collapsed": false
   },
   "source": [
    "### Model Training & Evaluation"
   ]
  },
  {
   "cell_type": "code",
   "outputs": [],
   "source": [],
   "metadata": {
    "collapsed": false,
    "ExecuteTime": {
     "end_time": "2024-06-03T21:40:58.544749900Z",
     "start_time": "2024-06-03T21:40:58.537522200Z"
    }
   },
   "id": "ad73673f8150801a",
   "execution_count": 31
  },
  {
   "cell_type": "code",
   "outputs": [],
   "source": [],
   "metadata": {
    "collapsed": false,
    "ExecuteTime": {
     "end_time": "2024-06-03T21:40:58.545884500Z",
     "start_time": "2024-06-03T21:40:58.540140Z"
    }
   },
   "id": "558ca0ba3d24e77c",
   "execution_count": 31
  }
 ],
 "metadata": {
  "kernelspec": {
   "name": "python3",
   "language": "python",
   "display_name": "Python 3 (ipykernel)"
  },
  "language_info": {
   "codemirror_mode": {
    "name": "ipython",
    "version": 3
   },
   "file_extension": ".py",
   "mimetype": "text/x-python",
   "name": "python",
   "nbconvert_exporter": "python",
   "pygments_lexer": "ipython3",
   "version": "3.11.8"
  }
 },
 "nbformat": 4,
 "nbformat_minor": 5
}
