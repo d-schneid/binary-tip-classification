{
 "cells": [
  {
   "cell_type": "markdown",
   "id": "7aea19f30bc2952",
   "metadata": {
    "collapsed": false
   },
   "source": [
    "# Data Science Project SoSe 2024\n",
    "## Team 07\n",
    "- Maximilian Hoffmann\n",
    "- Kilian Kempf\n",
    "- Daniel Schneider\n",
    "- Tom Schuck\n",
    "\n",
    "## Project Submission"
   ]
  },
  {
   "cell_type": "markdown",
   "id": "b1817857eb895437",
   "metadata": {
    "collapsed": false
   },
   "source": [
    "### Data Initialization"
   ]
  },
  {
   "cell_type": "code",
   "id": "2ac69658072618d1",
   "metadata": {
    "collapsed": false,
    "ExecuteTime": {
     "end_time": "2024-06-23T07:02:04.141698700Z",
     "start_time": "2024-06-23T07:01:33.620542600Z"
    }
   },
   "source": [
    "import os\n",
    "\n",
    "import pandas as pd\n",
    "\n",
    "from data_management import DataManager\n",
    "\n",
    "DATA_DIR = os.path.join(os.getcwd(), 'data/Instacart')\n",
    "\n",
    "op_prior = pd.read_csv(os.path.join(DATA_DIR, 'order_products__prior.csv.zip'))\n",
    "op_train = pd.read_csv(os.path.join(DATA_DIR, 'order_products__train.csv.zip'))\n",
    "\n",
    "tip_train = pd.read_csv(os.path.join(DATA_DIR, 'tip_trainingsdaten1_.csv'))[['order_id', 'tip']]\n",
    "tip_test = pd.read_csv(os.path.join(DATA_DIR, 'tip_testdaten1_template.csv'))\n",
    "\n",
    "orders = pd.read_csv(os.path.join(DATA_DIR, 'orders.csv.zip'))\n",
    "aisles = pd.read_csv(os.path.join(DATA_DIR, 'aisles.csv.zip'))\n",
    "departments = pd.read_csv(os.path.join(DATA_DIR, 'departments.csv.zip'))\n",
    "products = pd.read_csv(os.path.join(DATA_DIR, 'products.csv.zip'))\n",
    "\n",
    "data_manager = DataManager(op_prior, op_train, tip_train, tip_test, orders, products, aisles, departments)\n",
    "order_amount = len(data_manager.get_orders_tip())"
   ],
   "outputs": [],
   "execution_count": 1
  },
  {
   "cell_type": "markdown",
   "id": "d11d62b342b9ebc8",
   "metadata": {
    "collapsed": false
   },
   "source": [
    "### Feature Engineering"
   ]
  },
  {
   "cell_type": "code",
   "source": [
    "from feature_engineering.static_features import TipHistory, ReorderedRatio, OrderSize, PrevTippedProductsRatio, \\\n",
    "    CustomerLifetime, PrevOrderTipped, OrderFrequency, SimOrdersTipRatio, AvgSizePrevOrders, MeanOrderedRate, \\\n",
    "    LastTipSequence, RelDaysSinceTip, DaysSinceTip, OrderNumberSquared, HodHighTipProbability, DowHighTipProbability, \\\n",
    "    ContainsAlcohol\n",
    "\n",
    "from feature_engineering.dynamic_features import ProductTipRate, DepartmentTipRate, AisleTipRate, DynamicFeatureTest1, \\\n",
    "    DynamicFeatureTest2, AssocRulesAisles, AssocRulesDepartments\n",
    "\n",
    "# Kilian\n",
    "tip_history = TipHistory()\n",
    "reordered_rate = ReorderedRatio()\n",
    "order_size = OrderSize()\n",
    "prev_tipped_products_ratio = PrevTippedProductsRatio()\n",
    "customer_lifetime = CustomerLifetime()\n",
    "prev_order_tipped = PrevOrderTipped()\n",
    "\n",
    "# Daniel\n",
    "order_frequency = OrderFrequency()\n",
    "mean_ordered_rate = MeanOrderedRate()\n",
    "rel_days_since_tip = RelDaysSinceTip()\n",
    "days_since_tip = DaysSinceTip()\n",
    "\n",
    "# Max\n",
    "sim_orders_tip_ratio = SimOrdersTipRatio()\n",
    "product_tip_rate = ProductTipRate()\n",
    "department_tip_rate = DepartmentTipRate()\n",
    "aisle_tip_rate = AisleTipRate()\n",
    "last_tip_sequence = LastTipSequence()\n",
    "\n",
    "# Tom\n",
    "avg_size_prev_orders = AvgSizePrevOrders()\n",
    "\n",
    "# Features analysis\n",
    "order_number_squared = OrderNumberSquared()\n",
    "hod_high_tip_probability = HodHighTipProbability()\n",
    "dow_high_tip_probability = DowHighTipProbability()\n",
    "contains_alcohol = ContainsAlcohol()\n",
    "\n",
    "assoc_rules_departments = AssocRulesDepartments()\n",
    "assoc_rules_aisles = AssocRulesAisles()\n",
    "\n",
    "# Test\n",
    "dynamic_feature_test_1 = DynamicFeatureTest1()\n",
    "dynamic_feature_test_2 = DynamicFeatureTest2()"
   ],
   "metadata": {
    "collapsed": false,
    "ExecuteTime": {
     "end_time": "2024-06-23T07:02:04.590370900Z",
     "start_time": "2024-06-23T07:02:04.144885400Z"
    }
   },
   "id": "17146b7392a9f170",
   "outputs": [],
   "execution_count": 2
  },
  {
   "cell_type": "code",
   "source": [
    "# Static Features\n",
    "data_manager.register_feature(tip_history)\n",
    "data_manager.register_feature(reordered_rate)\n",
    "data_manager.register_feature(order_size)\n",
    "data_manager.register_feature(customer_lifetime)\n",
    "data_manager.register_feature(prev_order_tipped)\n",
    "data_manager.register_feature(prev_tipped_products_ratio)\n",
    "\n",
    "data_manager.register_feature(order_frequency)\n",
    "data_manager.register_feature(sim_orders_tip_ratio)\n",
    "data_manager.register_feature(avg_size_prev_orders)\n",
    "data_manager.register_feature(mean_ordered_rate)\n",
    "data_manager.register_feature(last_tip_sequence)\n",
    "data_manager.register_feature(rel_days_since_tip)\n",
    "data_manager.register_feature(days_since_tip)\n",
    "\n",
    "data_manager.register_feature(order_number_squared)\n",
    "data_manager.register_feature(hod_high_tip_probability)\n",
    "data_manager.register_feature(dow_high_tip_probability)\n",
    "data_manager.register_feature(contains_alcohol)\n",
    "\n",
    "# Dynamic Features\n",
    "data_manager.register_feature(dynamic_feature_test_1)\n",
    "data_manager.register_feature(dynamic_feature_test_2)\n",
    "data_manager.register_feature(product_tip_rate)\n",
    "data_manager.register_feature(department_tip_rate)\n",
    "data_manager.register_feature(aisle_tip_rate)\n",
    "\n",
    "# data_manager.register_feature(assoc_rules_departments)\n",
    "# data_manager.register_feature(assoc_rules_aisles)"
   ],
   "metadata": {
    "collapsed": false,
    "ExecuteTime": {
     "end_time": "2024-06-23T07:02:04.597231900Z",
     "start_time": "2024-06-23T07:02:04.593454Z"
    }
   },
   "id": "76997d6c04a0b765",
   "outputs": [],
   "execution_count": 3
  },
  {
   "cell_type": "code",
   "source": [
    "# data_manager.compute_features()"
   ],
   "metadata": {
    "collapsed": false,
    "ExecuteTime": {
     "end_time": "2024-06-23T07:02:04.614491100Z",
     "start_time": "2024-06-23T07:02:04.598232200Z"
    }
   },
   "id": "d99354cac4576a54",
   "outputs": [],
   "execution_count": 4
  },
  {
   "cell_type": "code",
   "source": [
    "data_manager.get_orders_tip().head(100)"
   ],
   "metadata": {
    "collapsed": false,
    "ExecuteTime": {
     "end_time": "2024-06-23T07:02:04.632129700Z",
     "start_time": "2024-06-23T07:02:04.602783900Z"
    }
   },
   "id": "70b61dc7a00510",
   "outputs": [
    {
     "data": {
      "text/plain": "    order_id  user_id eval_set  order_number  order_dow  order_hour_of_day  \\\n0    2539329        1    prior             1          2                  8   \n1    2398795        1    prior             2          3                  7   \n2     473747        1    prior             3          3                 12   \n3    2254736        1    prior             4          4                  7   \n4     431534        1    prior             5          4                 15   \n..       ...      ...      ...           ...        ...                ...   \n95   1916106       12    prior             3          5                  8   \n96   1057378       12    prior             4          3                  9   \n97    221248       12    prior             5          1                  9   \n98   2618231       13    prior             1          6                 12   \n99   2560699       13    prior             2          0                 11   \n\n    days_since_prior_order  tip  \n0                      NaN  0.0  \n1                     15.0  0.0  \n2                     21.0  0.0  \n3                     29.0  0.0  \n4                     28.0  0.0  \n..                     ...  ...  \n95                    14.0  0.0  \n96                    26.0  0.0  \n97                    30.0  0.0  \n98                     NaN  0.0  \n99                     8.0  1.0  \n\n[100 rows x 8 columns]",
      "text/html": "<div>\n<style scoped>\n    .dataframe tbody tr th:only-of-type {\n        vertical-align: middle;\n    }\n\n    .dataframe tbody tr th {\n        vertical-align: top;\n    }\n\n    .dataframe thead th {\n        text-align: right;\n    }\n</style>\n<table border=\"1\" class=\"dataframe\">\n  <thead>\n    <tr style=\"text-align: right;\">\n      <th></th>\n      <th>order_id</th>\n      <th>user_id</th>\n      <th>eval_set</th>\n      <th>order_number</th>\n      <th>order_dow</th>\n      <th>order_hour_of_day</th>\n      <th>days_since_prior_order</th>\n      <th>tip</th>\n    </tr>\n  </thead>\n  <tbody>\n    <tr>\n      <th>0</th>\n      <td>2539329</td>\n      <td>1</td>\n      <td>prior</td>\n      <td>1</td>\n      <td>2</td>\n      <td>8</td>\n      <td>NaN</td>\n      <td>0.0</td>\n    </tr>\n    <tr>\n      <th>1</th>\n      <td>2398795</td>\n      <td>1</td>\n      <td>prior</td>\n      <td>2</td>\n      <td>3</td>\n      <td>7</td>\n      <td>15.0</td>\n      <td>0.0</td>\n    </tr>\n    <tr>\n      <th>2</th>\n      <td>473747</td>\n      <td>1</td>\n      <td>prior</td>\n      <td>3</td>\n      <td>3</td>\n      <td>12</td>\n      <td>21.0</td>\n      <td>0.0</td>\n    </tr>\n    <tr>\n      <th>3</th>\n      <td>2254736</td>\n      <td>1</td>\n      <td>prior</td>\n      <td>4</td>\n      <td>4</td>\n      <td>7</td>\n      <td>29.0</td>\n      <td>0.0</td>\n    </tr>\n    <tr>\n      <th>4</th>\n      <td>431534</td>\n      <td>1</td>\n      <td>prior</td>\n      <td>5</td>\n      <td>4</td>\n      <td>15</td>\n      <td>28.0</td>\n      <td>0.0</td>\n    </tr>\n    <tr>\n      <th>...</th>\n      <td>...</td>\n      <td>...</td>\n      <td>...</td>\n      <td>...</td>\n      <td>...</td>\n      <td>...</td>\n      <td>...</td>\n      <td>...</td>\n    </tr>\n    <tr>\n      <th>95</th>\n      <td>1916106</td>\n      <td>12</td>\n      <td>prior</td>\n      <td>3</td>\n      <td>5</td>\n      <td>8</td>\n      <td>14.0</td>\n      <td>0.0</td>\n    </tr>\n    <tr>\n      <th>96</th>\n      <td>1057378</td>\n      <td>12</td>\n      <td>prior</td>\n      <td>4</td>\n      <td>3</td>\n      <td>9</td>\n      <td>26.0</td>\n      <td>0.0</td>\n    </tr>\n    <tr>\n      <th>97</th>\n      <td>221248</td>\n      <td>12</td>\n      <td>prior</td>\n      <td>5</td>\n      <td>1</td>\n      <td>9</td>\n      <td>30.0</td>\n      <td>0.0</td>\n    </tr>\n    <tr>\n      <th>98</th>\n      <td>2618231</td>\n      <td>13</td>\n      <td>prior</td>\n      <td>1</td>\n      <td>6</td>\n      <td>12</td>\n      <td>NaN</td>\n      <td>0.0</td>\n    </tr>\n    <tr>\n      <th>99</th>\n      <td>2560699</td>\n      <td>13</td>\n      <td>prior</td>\n      <td>2</td>\n      <td>0</td>\n      <td>11</td>\n      <td>8.0</td>\n      <td>1.0</td>\n    </tr>\n  </tbody>\n</table>\n<p>100 rows × 8 columns</p>\n</div>"
     },
     "execution_count": 5,
     "metadata": {},
     "output_type": "execute_result"
    }
   ],
   "execution_count": 5
  },
  {
   "cell_type": "code",
   "source": [
    "# data_manager.export_features('data/prepared_data/computed_features.csv.zip', only_static=False)"
   ],
   "metadata": {
    "collapsed": false,
    "ExecuteTime": {
     "end_time": "2024-06-23T07:02:04.665133600Z",
     "start_time": "2024-06-23T07:02:04.624188500Z"
    }
   },
   "id": "d14016190394af30",
   "outputs": [],
   "execution_count": 6
  },
  {
   "cell_type": "code",
   "source": [
    "data_manager.import_features('data/prepared_data/computed_features.csv.zip', only_static=False)"
   ],
   "metadata": {
    "collapsed": false,
    "ExecuteTime": {
     "end_time": "2024-06-23T07:02:16.119233900Z",
     "start_time": "2024-06-23T07:02:04.627983700Z"
    }
   },
   "id": "4a899901088540d5",
   "outputs": [],
   "execution_count": 7
  },
  {
   "cell_type": "code",
   "source": [
    "data_manager.calculate_feature_correlations(only_static=False)"
   ],
   "metadata": {
    "collapsed": false,
    "ExecuteTime": {
     "end_time": "2024-06-23T07:02:20.176842100Z",
     "start_time": "2024-06-23T07:02:16.119233900Z"
    }
   },
   "id": "3ec12ec0c7a45cba",
   "outputs": [
    {
     "name": "stdout",
     "output_type": "stream",
     "text": [
      "                       Feature  Correlation\n",
      "0                  tip_history     0.559060\n",
      "1            prev_order_tipped     0.490379\n",
      "2         sim_orders_tip_ratio     0.411784\n",
      "3   prev_tipped_products_ratio     0.396700\n",
      "4            last_tip_sequence     0.331300\n",
      "5               days_since_tip    -0.297107\n",
      "6             product_tip_rate     0.279374\n",
      "7               aisle_tip_rate     0.245334\n",
      "8                dept_tip_rate     0.230541\n",
      "9              order_frequency    -0.192789\n",
      "10      days_since_prior_order    -0.146384\n",
      "11    dow_high_tip_probability     0.140463\n",
      "12            contains_alcohol     0.121162\n",
      "13          rel_days_since_tip    -0.120450\n",
      "14             reordered_ratio     0.116099\n",
      "15                order_number     0.098888\n",
      "16    hod_high_tip_probability     0.088258\n",
      "17           customer_lifetime     0.077927\n",
      "18           mean_ordered_rate     0.058233\n",
      "19        order_number_squared     0.057033\n",
      "20        avg_size_prev_orders    -0.013932\n",
      "21      dynamic_feature_test_1    -0.009088\n",
      "22      dynamic_feature_test_2    -0.009088\n",
      "23                  order_size     0.005591\n"
     ]
    }
   ],
   "execution_count": 8
  },
  {
   "cell_type": "code",
   "source": [
    "# data_manager.analyse_each_feature(only_static=False)"
   ],
   "metadata": {
    "collapsed": false,
    "ExecuteTime": {
     "end_time": "2024-06-23T07:02:20.184684100Z",
     "start_time": "2024-06-23T07:02:20.176094900Z"
    }
   },
   "id": "6b055bffe6cd4caf",
   "outputs": [],
   "execution_count": 9
  },
  {
   "cell_type": "code",
   "source": [
    "data_manager.get_orders_tip().shape"
   ],
   "metadata": {
    "collapsed": false,
    "ExecuteTime": {
     "end_time": "2024-06-23T07:02:20.223817500Z",
     "start_time": "2024-06-23T07:02:20.182507700Z"
    }
   },
   "id": "6812da6601328ed",
   "outputs": [
    {
     "data": {
      "text/plain": "(3346083, 30)"
     },
     "execution_count": 10,
     "metadata": {},
     "output_type": "execute_result"
    }
   ],
   "execution_count": 10
  },
  {
   "cell_type": "code",
   "source": [
    "data_manager.get_orders_tip().head(100)"
   ],
   "metadata": {
    "collapsed": false,
    "ExecuteTime": {
     "end_time": "2024-06-23T07:02:20.227683400Z",
     "start_time": "2024-06-23T07:02:20.200476900Z"
    }
   },
   "id": "1d6de926c7c6574d",
   "outputs": [
    {
     "data": {
      "text/plain": "    order_id  user_id eval_set  order_number  order_dow  order_hour_of_day  \\\n0    2539329        1    prior             1          2                  8   \n1    2398795        1    prior             2          3                  7   \n2     473747        1    prior             3          3                 12   \n3    2254736        1    prior             4          4                  7   \n4     431534        1    prior             5          4                 15   \n..       ...      ...      ...           ...        ...                ...   \n95   1916106       12    prior             3          5                  8   \n96   1057378       12    prior             4          3                  9   \n97    221248       12    prior             5          1                  9   \n98   2618231       13    prior             1          6                 12   \n99   2560699       13    prior             2          0                 11   \n\n    days_since_prior_order  tip  tip_history  last_tip_sequence  ...  \\\n0                      NaN  0.0          NaN                0.0  ...   \n1                     15.0  0.0          0.0                0.0  ...   \n2                     21.0  0.0          0.0                0.0  ...   \n3                     29.0  0.0          0.0                0.0  ...   \n4                     28.0  0.0          0.0                0.0  ...   \n..                     ...  ...          ...                ...  ...   \n95                    14.0  0.0          0.0                0.0  ...   \n96                    26.0  0.0          0.0                0.0  ...   \n97                    30.0  0.0          0.0                0.0  ...   \n98                     NaN  0.0          NaN                0.0  ...   \n99                     8.0  1.0          0.0                0.0  ...   \n\n    rel_days_since_tip  days_since_tip  hod_high_tip_probability  \\\n0                  NaN             NaN                         0   \n1                  NaN             NaN                         0   \n2                  NaN             NaN                         0   \n3                  NaN             NaN                         0   \n4                  NaN             NaN                         0   \n..                 ...             ...                       ...   \n95                 NaN             NaN                         0   \n96                 NaN             NaN                         0   \n97                 NaN             NaN                         0   \n98                 NaN             NaN                         0   \n99                 NaN             NaN                         0   \n\n    mean_ordered_rate  prev_tipped_products_ratio  aisle_tip_rate  \\\n0                 NaN                         NaN       -0.154412   \n1            0.500000                         0.0       -0.128714   \n2            0.500000                         0.0       -0.162890   \n3            0.666667                         0.0       -0.152853   \n4            0.437500                         0.0       -0.072083   \n..                ...                         ...             ...   \n95           0.125000                         0.0       -0.187044   \n96           0.083333                         0.0       -0.102275   \n97           0.102273                         0.0       -0.125295   \n98                NaN                         NaN       -0.062865   \n99           0.500000                         0.0       -0.090005   \n\n    dynamic_feature_test_1  product_tip_rate  dept_tip_rate  \\\n0                 0.090909         -0.214783      -0.136680   \n1                 0.181818         -0.126002      -0.128948   \n2                 0.272727         -0.134117      -0.153835   \n3                 0.363636         -0.185615      -0.136680   \n4                 0.454545         -0.063549      -0.091502   \n..                     ...               ...            ...   \n95                0.600000         -0.161177      -0.169895   \n96                0.800000         -0.092866      -0.115211   \n97                1.000000         -0.090662      -0.114649   \n98                0.076923         -0.096765      -0.067655   \n99                0.153846         -0.105608      -0.111548   \n\n    dynamic_feature_test_2  \n0                 0.090909  \n1                 0.181818  \n2                 0.272727  \n3                 0.363636  \n4                 0.454545  \n..                     ...  \n95                0.600000  \n96                0.800000  \n97                1.000000  \n98                0.076923  \n99                0.153846  \n\n[100 rows x 30 columns]",
      "text/html": "<div>\n<style scoped>\n    .dataframe tbody tr th:only-of-type {\n        vertical-align: middle;\n    }\n\n    .dataframe tbody tr th {\n        vertical-align: top;\n    }\n\n    .dataframe thead th {\n        text-align: right;\n    }\n</style>\n<table border=\"1\" class=\"dataframe\">\n  <thead>\n    <tr style=\"text-align: right;\">\n      <th></th>\n      <th>order_id</th>\n      <th>user_id</th>\n      <th>eval_set</th>\n      <th>order_number</th>\n      <th>order_dow</th>\n      <th>order_hour_of_day</th>\n      <th>days_since_prior_order</th>\n      <th>tip</th>\n      <th>tip_history</th>\n      <th>last_tip_sequence</th>\n      <th>...</th>\n      <th>rel_days_since_tip</th>\n      <th>days_since_tip</th>\n      <th>hod_high_tip_probability</th>\n      <th>mean_ordered_rate</th>\n      <th>prev_tipped_products_ratio</th>\n      <th>aisle_tip_rate</th>\n      <th>dynamic_feature_test_1</th>\n      <th>product_tip_rate</th>\n      <th>dept_tip_rate</th>\n      <th>dynamic_feature_test_2</th>\n    </tr>\n  </thead>\n  <tbody>\n    <tr>\n      <th>0</th>\n      <td>2539329</td>\n      <td>1</td>\n      <td>prior</td>\n      <td>1</td>\n      <td>2</td>\n      <td>8</td>\n      <td>NaN</td>\n      <td>0.0</td>\n      <td>NaN</td>\n      <td>0.0</td>\n      <td>...</td>\n      <td>NaN</td>\n      <td>NaN</td>\n      <td>0</td>\n      <td>NaN</td>\n      <td>NaN</td>\n      <td>-0.154412</td>\n      <td>0.090909</td>\n      <td>-0.214783</td>\n      <td>-0.136680</td>\n      <td>0.090909</td>\n    </tr>\n    <tr>\n      <th>1</th>\n      <td>2398795</td>\n      <td>1</td>\n      <td>prior</td>\n      <td>2</td>\n      <td>3</td>\n      <td>7</td>\n      <td>15.0</td>\n      <td>0.0</td>\n      <td>0.0</td>\n      <td>0.0</td>\n      <td>...</td>\n      <td>NaN</td>\n      <td>NaN</td>\n      <td>0</td>\n      <td>0.500000</td>\n      <td>0.0</td>\n      <td>-0.128714</td>\n      <td>0.181818</td>\n      <td>-0.126002</td>\n      <td>-0.128948</td>\n      <td>0.181818</td>\n    </tr>\n    <tr>\n      <th>2</th>\n      <td>473747</td>\n      <td>1</td>\n      <td>prior</td>\n      <td>3</td>\n      <td>3</td>\n      <td>12</td>\n      <td>21.0</td>\n      <td>0.0</td>\n      <td>0.0</td>\n      <td>0.0</td>\n      <td>...</td>\n      <td>NaN</td>\n      <td>NaN</td>\n      <td>0</td>\n      <td>0.500000</td>\n      <td>0.0</td>\n      <td>-0.162890</td>\n      <td>0.272727</td>\n      <td>-0.134117</td>\n      <td>-0.153835</td>\n      <td>0.272727</td>\n    </tr>\n    <tr>\n      <th>3</th>\n      <td>2254736</td>\n      <td>1</td>\n      <td>prior</td>\n      <td>4</td>\n      <td>4</td>\n      <td>7</td>\n      <td>29.0</td>\n      <td>0.0</td>\n      <td>0.0</td>\n      <td>0.0</td>\n      <td>...</td>\n      <td>NaN</td>\n      <td>NaN</td>\n      <td>0</td>\n      <td>0.666667</td>\n      <td>0.0</td>\n      <td>-0.152853</td>\n      <td>0.363636</td>\n      <td>-0.185615</td>\n      <td>-0.136680</td>\n      <td>0.363636</td>\n    </tr>\n    <tr>\n      <th>4</th>\n      <td>431534</td>\n      <td>1</td>\n      <td>prior</td>\n      <td>5</td>\n      <td>4</td>\n      <td>15</td>\n      <td>28.0</td>\n      <td>0.0</td>\n      <td>0.0</td>\n      <td>0.0</td>\n      <td>...</td>\n      <td>NaN</td>\n      <td>NaN</td>\n      <td>0</td>\n      <td>0.437500</td>\n      <td>0.0</td>\n      <td>-0.072083</td>\n      <td>0.454545</td>\n      <td>-0.063549</td>\n      <td>-0.091502</td>\n      <td>0.454545</td>\n    </tr>\n    <tr>\n      <th>...</th>\n      <td>...</td>\n      <td>...</td>\n      <td>...</td>\n      <td>...</td>\n      <td>...</td>\n      <td>...</td>\n      <td>...</td>\n      <td>...</td>\n      <td>...</td>\n      <td>...</td>\n      <td>...</td>\n      <td>...</td>\n      <td>...</td>\n      <td>...</td>\n      <td>...</td>\n      <td>...</td>\n      <td>...</td>\n      <td>...</td>\n      <td>...</td>\n      <td>...</td>\n      <td>...</td>\n    </tr>\n    <tr>\n      <th>95</th>\n      <td>1916106</td>\n      <td>12</td>\n      <td>prior</td>\n      <td>3</td>\n      <td>5</td>\n      <td>8</td>\n      <td>14.0</td>\n      <td>0.0</td>\n      <td>0.0</td>\n      <td>0.0</td>\n      <td>...</td>\n      <td>NaN</td>\n      <td>NaN</td>\n      <td>0</td>\n      <td>0.125000</td>\n      <td>0.0</td>\n      <td>-0.187044</td>\n      <td>0.600000</td>\n      <td>-0.161177</td>\n      <td>-0.169895</td>\n      <td>0.600000</td>\n    </tr>\n    <tr>\n      <th>96</th>\n      <td>1057378</td>\n      <td>12</td>\n      <td>prior</td>\n      <td>4</td>\n      <td>3</td>\n      <td>9</td>\n      <td>26.0</td>\n      <td>0.0</td>\n      <td>0.0</td>\n      <td>0.0</td>\n      <td>...</td>\n      <td>NaN</td>\n      <td>NaN</td>\n      <td>0</td>\n      <td>0.083333</td>\n      <td>0.0</td>\n      <td>-0.102275</td>\n      <td>0.800000</td>\n      <td>-0.092866</td>\n      <td>-0.115211</td>\n      <td>0.800000</td>\n    </tr>\n    <tr>\n      <th>97</th>\n      <td>221248</td>\n      <td>12</td>\n      <td>prior</td>\n      <td>5</td>\n      <td>1</td>\n      <td>9</td>\n      <td>30.0</td>\n      <td>0.0</td>\n      <td>0.0</td>\n      <td>0.0</td>\n      <td>...</td>\n      <td>NaN</td>\n      <td>NaN</td>\n      <td>0</td>\n      <td>0.102273</td>\n      <td>0.0</td>\n      <td>-0.125295</td>\n      <td>1.000000</td>\n      <td>-0.090662</td>\n      <td>-0.114649</td>\n      <td>1.000000</td>\n    </tr>\n    <tr>\n      <th>98</th>\n      <td>2618231</td>\n      <td>13</td>\n      <td>prior</td>\n      <td>1</td>\n      <td>6</td>\n      <td>12</td>\n      <td>NaN</td>\n      <td>0.0</td>\n      <td>NaN</td>\n      <td>0.0</td>\n      <td>...</td>\n      <td>NaN</td>\n      <td>NaN</td>\n      <td>0</td>\n      <td>NaN</td>\n      <td>NaN</td>\n      <td>-0.062865</td>\n      <td>0.076923</td>\n      <td>-0.096765</td>\n      <td>-0.067655</td>\n      <td>0.076923</td>\n    </tr>\n    <tr>\n      <th>99</th>\n      <td>2560699</td>\n      <td>13</td>\n      <td>prior</td>\n      <td>2</td>\n      <td>0</td>\n      <td>11</td>\n      <td>8.0</td>\n      <td>1.0</td>\n      <td>0.0</td>\n      <td>0.0</td>\n      <td>...</td>\n      <td>NaN</td>\n      <td>NaN</td>\n      <td>0</td>\n      <td>0.500000</td>\n      <td>0.0</td>\n      <td>-0.090005</td>\n      <td>0.153846</td>\n      <td>-0.105608</td>\n      <td>-0.111548</td>\n      <td>0.153846</td>\n    </tr>\n  </tbody>\n</table>\n<p>100 rows × 30 columns</p>\n</div>"
     },
     "execution_count": 11,
     "metadata": {},
     "output_type": "execute_result"
    }
   ],
   "execution_count": 11
  },
  {
   "cell_type": "code",
   "source": [
    "# test = data_manager.get_orders_tip()"
   ],
   "metadata": {
    "collapsed": false,
    "ExecuteTime": {
     "end_time": "2024-06-23T07:02:20.244646200Z",
     "start_time": "2024-06-23T07:02:20.215584100Z"
    }
   },
   "id": "4755549fddba80dd",
   "outputs": [],
   "execution_count": 12
  },
  {
   "cell_type": "code",
   "source": [
    "# print(f\"Number of orders: {len(data_manager.get_orders_tip())}\")\n",
    "# print(f\"Number of orders did not change: {order_amount == len(data_manager.get_orders_tip())}\\n\")\n",
    "# print(f\"Number of NaN or null values in each column:\\n{data_manager.get_orders_tip().isnull().sum()}\")"
   ],
   "metadata": {
    "collapsed": false,
    "ExecuteTime": {
     "end_time": "2024-06-23T07:02:20.247636700Z",
     "start_time": "2024-06-23T07:02:20.217826400Z"
    }
   },
   "id": "2cbc3e033b6867f9",
   "outputs": [],
   "execution_count": 13
  },
  {
   "cell_type": "code",
   "source": [
    "# order_ids = data_manager.get_orders_tip(complete=True).groupby('user_id')['order_id'].head(5)\n",
    "# order_amount = len(order_ids)"
   ],
   "metadata": {
    "collapsed": false,
    "ExecuteTime": {
     "end_time": "2024-06-23T07:02:20.270229900Z",
     "start_time": "2024-06-23T07:02:20.223817500Z"
    }
   },
   "id": "60d0c1c2504cca88",
   "outputs": [],
   "execution_count": 14
  },
  {
   "cell_type": "code",
   "source": [
    "# data_manager.set_subset(order_ids)"
   ],
   "metadata": {
    "collapsed": false,
    "ExecuteTime": {
     "end_time": "2024-06-23T07:02:20.286879Z",
     "start_time": "2024-06-23T07:02:20.226372900Z"
    }
   },
   "id": "ea75a49725dbfdef",
   "outputs": [],
   "execution_count": 15
  },
  {
   "cell_type": "code",
   "source": [
    "# data_manager.get_orders_tip().head(25)"
   ],
   "metadata": {
    "collapsed": false,
    "ExecuteTime": {
     "end_time": "2024-06-23T07:02:20.315223300Z",
     "start_time": "2024-06-23T07:02:20.229753400Z"
    }
   },
   "id": "ae96799844c48c55",
   "outputs": [],
   "execution_count": 16
  },
  {
   "cell_type": "code",
   "source": [
    "# print(f\"Number of orders: {len(data_manager.get_orders_tip())}\")\n",
    "# print(f\"Number of orders did not change: {order_amount == len(data_manager.get_orders_tip())}\\n\")\n",
    "# print(f\"Number of NaN or null values in each column:\\n{data_manager.get_orders_tip().isnull().sum()}\")"
   ],
   "metadata": {
    "collapsed": false,
    "ExecuteTime": {
     "end_time": "2024-06-23T07:02:20.323324800Z",
     "start_time": "2024-06-23T07:02:20.232171600Z"
    }
   },
   "id": "b169956333c51c66",
   "outputs": [],
   "execution_count": 17
  },
  {
   "cell_type": "code",
   "source": [
    "# order_ids = data_manager.get_orders_tip(complete=True).groupby('user_id')['order_id'].head(4)\n",
    "# order_amount = len(order_ids)\n",
    "# \n",
    "# data_manager.set_subset(order_ids)\n",
    "# data_manager.get_orders_tip().head(25)"
   ],
   "metadata": {
    "collapsed": false,
    "ExecuteTime": {
     "end_time": "2024-06-23T07:02:20.325203900Z",
     "start_time": "2024-06-23T07:02:20.235709Z"
    }
   },
   "id": "6913eb1c1ef566e5",
   "outputs": [],
   "execution_count": 18
  },
  {
   "cell_type": "code",
   "source": [
    "# print(f\"Number of orders: {len(data_manager.get_orders_tip())}\")\n",
    "# print(f\"Number of orders did not change: {order_amount == len(data_manager.get_orders_tip())}\\n\")\n",
    "# print(f\"Number of NaN or null values in each column:\\n{data_manager.get_orders_tip().isnull().sum()}\")"
   ],
   "metadata": {
    "collapsed": false,
    "ExecuteTime": {
     "end_time": "2024-06-23T07:02:20.337774100Z",
     "start_time": "2024-06-23T07:02:20.237535100Z"
    }
   },
   "id": "d0e728bc955477d5",
   "outputs": [],
   "execution_count": 19
  },
  {
   "cell_type": "markdown",
   "source": [
    "### Analysis\n",
    "- Only orders from the training set (orders with tip information) are considered"
   ],
   "metadata": {
    "collapsed": false
   },
   "id": "890a24fdac60f10f"
  },
  {
   "cell_type": "code",
   "source": [
    "# from analysis import DayOfWeek, HourOfDay, DaysSincePriorOrder, OrderNumber, Department, Aisle, Product, GeneralAnalysis"
   ],
   "metadata": {
    "collapsed": false,
    "ExecuteTime": {
     "end_time": "2024-06-23T07:02:20.339854700Z",
     "start_time": "2024-06-23T07:02:20.240638600Z"
    }
   },
   "id": "b3473e1eda499005",
   "outputs": [],
   "execution_count": 20
  },
  {
   "cell_type": "code",
   "source": [
    "# day_of_week = DayOfWeek(data_manager)\n",
    "# hour_of_day = HourOfDay(data_manager)\n",
    "# days_since_prior_order = DaysSincePriorOrder(data_manager)\n",
    "# order_number = OrderNumber(data_manager)\n",
    "# department = Department(data_manager)\n",
    "# aisle = Aisle(data_manager)\n",
    "# product = Product(data_manager)\n",
    "# number_order_user = NumberOrderUser(data_manager)\n",
    "# general_analysis = GeneralAnalysis(data_manager)"
   ],
   "metadata": {
    "collapsed": false,
    "ExecuteTime": {
     "end_time": "2024-06-23T07:02:20.396323900Z",
     "start_time": "2024-06-23T07:02:20.244646200Z"
    }
   },
   "id": "7daaf39fa303d999",
   "outputs": [],
   "execution_count": 21
  },
  {
   "cell_type": "code",
   "source": [
    "# day_of_week.execute_analysis()"
   ],
   "metadata": {
    "collapsed": false,
    "ExecuteTime": {
     "end_time": "2024-06-23T07:02:20.419702300Z",
     "start_time": "2024-06-23T07:02:20.248638400Z"
    }
   },
   "id": "8d6acfe9affa74ac",
   "outputs": [],
   "execution_count": 22
  },
  {
   "cell_type": "code",
   "source": [
    "# hour_of_day.execute_analysis()"
   ],
   "metadata": {
    "collapsed": false,
    "ExecuteTime": {
     "end_time": "2024-06-23T07:02:20.422836400Z",
     "start_time": "2024-06-23T07:02:20.250490Z"
    }
   },
   "id": "e67096e50e036f03",
   "outputs": [],
   "execution_count": 23
  },
  {
   "cell_type": "code",
   "source": [
    "# days_since_prior_order.execute_analysis()"
   ],
   "metadata": {
    "collapsed": false,
    "ExecuteTime": {
     "end_time": "2024-06-23T07:02:20.436659900Z",
     "start_time": "2024-06-23T07:02:20.254942300Z"
    }
   },
   "id": "6b45182a7355d13a",
   "outputs": [],
   "execution_count": 24
  },
  {
   "cell_type": "code",
   "source": [
    "# order_number.execute_analysis()"
   ],
   "metadata": {
    "collapsed": false,
    "ExecuteTime": {
     "end_time": "2024-06-23T07:02:20.439806500Z",
     "start_time": "2024-06-23T07:02:20.257156300Z"
    }
   },
   "id": "77b59d5cd0325271",
   "outputs": [],
   "execution_count": 25
  },
  {
   "cell_type": "code",
   "source": [
    "# department.execute_analysis()"
   ],
   "metadata": {
    "collapsed": false,
    "ExecuteTime": {
     "end_time": "2024-06-23T07:02:20.441893700Z",
     "start_time": "2024-06-23T07:02:20.261325700Z"
    }
   },
   "id": "12f092487e57cd43",
   "outputs": [],
   "execution_count": 26
  },
  {
   "cell_type": "code",
   "source": [
    "# aisle.execute_analysis()"
   ],
   "metadata": {
    "collapsed": false,
    "ExecuteTime": {
     "end_time": "2024-06-23T07:02:20.453527400Z",
     "start_time": "2024-06-23T07:02:20.264479900Z"
    }
   },
   "id": "f4ab7f536a6dff50",
   "outputs": [],
   "execution_count": 27
  },
  {
   "cell_type": "code",
   "source": [
    "# product.execute_analysis()"
   ],
   "metadata": {
    "collapsed": false,
    "ExecuteTime": {
     "end_time": "2024-06-23T07:02:20.460978500Z",
     "start_time": "2024-06-23T07:02:20.266889700Z"
    }
   },
   "id": "a7c3a3c4de6b4947",
   "outputs": [],
   "execution_count": 28
  },
  {
   "cell_type": "code",
   "source": [
    "# number_order_user.execute_analysis()"
   ],
   "metadata": {
    "collapsed": false,
    "ExecuteTime": {
     "end_time": "2024-06-23T07:02:20.463154500Z",
     "start_time": "2024-06-23T07:02:20.271283900Z"
    }
   },
   "id": "7a6e209c6252f53c",
   "outputs": [],
   "execution_count": 29
  },
  {
   "cell_type": "markdown",
   "source": [
    "### Data Preparation"
   ],
   "metadata": {
    "collapsed": false
   },
   "id": "bc83375ff21286d6"
  },
  {
   "cell_type": "code",
   "source": [
    "from feature_engineering.static_features import DowHighTipProbability, HodHighTipProbability, OrderNumberSquared, \\\n",
    "    ContainsAlcohol\n",
    "\n",
    "data_manager.register_feature(DowHighTipProbability())\n",
    "data_manager.register_feature(HodHighTipProbability())\n",
    "data_manager.register_feature(OrderNumberSquared())\n",
    "data_manager.register_feature(ContainsAlcohol())"
   ],
   "metadata": {
    "collapsed": false,
    "ExecuteTime": {
     "end_time": "2024-06-23T07:02:20.465816900Z",
     "start_time": "2024-06-23T07:02:20.273190400Z"
    }
   },
   "id": "11e6bf0945ffd97c",
   "outputs": [],
   "execution_count": 30
  },
  {
   "cell_type": "code",
   "source": [
    "# data_manager.compute_features()"
   ],
   "metadata": {
    "collapsed": false,
    "ExecuteTime": {
     "end_time": "2024-06-23T07:02:20.479466600Z",
     "start_time": "2024-06-23T07:02:20.277921300Z"
    }
   },
   "id": "e10cbb0dea2b4bd2",
   "outputs": [],
   "execution_count": 31
  },
  {
   "cell_type": "markdown",
   "source": [
    "### Model Training & Evaluation\n",
    "\n",
    "Order is important:\n",
    "- Remove first order of each user and assign the dataset for parameter tuning\n",
    "- Initialize cross-validation splitter\n",
    "- Export splits\n",
    "- Tune the parameters of the model with the dataset from 1."
   ],
   "metadata": {
    "collapsed": false
   },
   "id": "5ff7316768777ae9"
  },
  {
   "cell_type": "code",
   "source": [
    "from data_management.cross_validation import LastOrderUserTSCVSplitter"
   ],
   "metadata": {
    "collapsed": false,
    "ExecuteTime": {
     "end_time": "2024-06-23T07:02:20.500562Z",
     "start_time": "2024-06-23T07:02:20.279431Z"
    }
   },
   "id": "1b07129f5f10075b",
   "outputs": [],
   "execution_count": 32
  },
  {
   "cell_type": "code",
   "source": [
    "orders_tip = data_manager.get_orders_tip()\n",
    "orders_tip.shape"
   ],
   "metadata": {
    "collapsed": false,
    "ExecuteTime": {
     "end_time": "2024-06-23T07:02:20.559325700Z",
     "start_time": "2024-06-23T07:02:20.323324800Z"
    }
   },
   "id": "76a31c7a45354367",
   "outputs": [
    {
     "data": {
      "text/plain": "(3346083, 30)"
     },
     "execution_count": 33,
     "metadata": {},
     "output_type": "execute_result"
    }
   ],
   "execution_count": 33
  },
  {
   "cell_type": "code",
   "source": [
    "orders_tip_train = data_manager.get_orders_tip_train()\n",
    "orders_tip_train.shape"
   ],
   "metadata": {
    "collapsed": false,
    "ExecuteTime": {
     "end_time": "2024-06-23T07:02:21.048016400Z",
     "start_time": "2024-06-23T07:02:20.327251600Z"
    }
   },
   "id": "470f3820626b7f56",
   "outputs": [
    {
     "data": {
      "text/plain": "(3214874, 30)"
     },
     "execution_count": 34,
     "metadata": {},
     "output_type": "execute_result"
    }
   ],
   "execution_count": 34
  },
  {
   "cell_type": "code",
   "source": [
    "orders_tip_test = data_manager.get_orders_tip_test()\n",
    "orders_tip_test.shape"
   ],
   "metadata": {
    "collapsed": false,
    "ExecuteTime": {
     "end_time": "2024-06-23T07:02:21.995701400Z",
     "start_time": "2024-06-23T07:02:20.993200600Z"
    }
   },
   "id": "36195b8935b489a1",
   "outputs": [
    {
     "data": {
      "text/plain": "(131209, 30)"
     },
     "execution_count": 35,
     "metadata": {},
     "output_type": "execute_result"
    }
   ],
   "execution_count": 35
  },
  {
   "cell_type": "code",
   "source": [
    "data_manager.remove_first_orders()"
   ],
   "metadata": {
    "collapsed": false,
    "ExecuteTime": {
     "end_time": "2024-06-23T07:02:25.339325Z",
     "start_time": "2024-06-23T07:02:21.135049800Z"
    }
   },
   "id": "1cc8f3885a1fdfb9",
   "outputs": [],
   "execution_count": 36
  },
  {
   "cell_type": "code",
   "source": [
    "orders_tip_train = data_manager.get_orders_tip_train().copy()\n",
    "orders_tip_train.shape"
   ],
   "metadata": {
    "collapsed": false,
    "ExecuteTime": {
     "end_time": "2024-06-23T07:02:26.043184600Z",
     "start_time": "2024-06-23T07:02:25.340343400Z"
    }
   },
   "id": "6e64a3e055952da4",
   "outputs": [
    {
     "data": {
      "text/plain": "(3008665, 30)"
     },
     "execution_count": 37,
     "metadata": {},
     "output_type": "execute_result"
    }
   ],
   "execution_count": 37
  },
  {
   "cell_type": "code",
   "source": [
    "last_order_user_tscv_splitter = LastOrderUserTSCVSplitter(data_manager, n_splits=5)"
   ],
   "metadata": {
    "collapsed": false,
    "ExecuteTime": {
     "end_time": "2024-06-23T07:02:27.094989500Z",
     "start_time": "2024-06-23T07:02:26.042164100Z"
    }
   },
   "id": "62c2c8a95be01e0a",
   "outputs": [],
   "execution_count": 38
  },
  {
   "cell_type": "code",
   "outputs": [],
   "source": [
    "# last_order_user_tscv_splitter.export_splits('data/prepared_data/')"
   ],
   "metadata": {
    "collapsed": false,
    "ExecuteTime": {
     "end_time": "2024-06-23T07:02:27.102976600Z",
     "start_time": "2024-06-23T07:02:27.097162500Z"
    }
   },
   "id": "7ab6e01ca3f95bca",
   "execution_count": 39
  },
  {
   "cell_type": "code",
   "outputs": [],
   "source": [
    "# user_tscv_splitter = UserTSCVSplitter(data_manager, n_splits=5, validation_set_ratio=0.2, seed=42)"
   ],
   "metadata": {
    "collapsed": false,
    "ExecuteTime": {
     "end_time": "2024-06-23T07:02:27.115918100Z",
     "start_time": "2024-06-23T07:02:27.100292600Z"
    }
   },
   "id": "1535544c80ce8ac8",
   "execution_count": 40
  },
  {
   "cell_type": "code",
   "outputs": [],
   "source": [
    "# user_tscv_splitter.export_splits('data/prepared_data/')"
   ],
   "metadata": {
    "collapsed": false,
    "ExecuteTime": {
     "end_time": "2024-06-23T07:02:27.119018800Z",
     "start_time": "2024-06-23T07:02:27.106989900Z"
    }
   },
   "id": "b712cbee42ba505e",
   "execution_count": 41
  },
  {
   "cell_type": "code",
   "outputs": [],
   "source": [
    "# features = ['order_number', 'order_dow', 'order_hour_of_day', 'days_since_prior_order', 'order_size', 'tip_history',\n",
    "#             'dynamic_feature_test_1', 'dynamic_feature_test_2']\n",
    "#\n",
    "# prepared_splits_dict = user_tscv_splitter.import_splits('data/prepared_data/', features)"
   ],
   "metadata": {
    "collapsed": false,
    "ExecuteTime": {
     "end_time": "2024-06-23T07:02:27.121087700Z",
     "start_time": "2024-06-23T07:02:27.108547200Z"
    }
   },
   "id": "63014430a585549e",
   "execution_count": 42
  },
  {
   "cell_type": "code",
   "outputs": [],
   "source": [
    "from data_management import DatasetSelector\n",
    "from sklearn.pipeline import Pipeline\n",
    "from sklearn.tree import DecisionTreeClassifier\n",
    "from sklearn.neural_network import MLPClassifier\n",
    "from sklearn.preprocessing import StandardScaler\n",
    "from xgboost import XGBClassifier\n",
    "from sklearn.model_selection import GridSearchCV\n",
    "from sklearn.linear_model import LogisticRegression\n",
    "from data_management import get_best_cv_scores, estimate_accuracy, eval_logreg\n",
    "from sklearn.naive_bayes import GaussianNB"
   ],
   "metadata": {
    "collapsed": false,
    "ExecuteTime": {
     "end_time": "2024-06-23T07:02:27.529327400Z",
     "start_time": "2024-06-23T07:02:27.111695100Z"
    }
   },
   "id": "5d07ba8927137a75",
   "execution_count": 43
  },
  {
   "cell_type": "code",
   "outputs": [],
   "source": [
    "features_core = ['order_number', 'days_since_prior_order', 'tip_history', 'customer_lifetime', 'reordered_ratio',\n",
    "                 'order_frequency', 'last_tip_sequence', 'contains_alcohol', 'prev_order_tipped',\n",
    "                 'prev_tipped_products_ratio', 'sim_orders_tip_ratio', 'aisle_tip_rate', 'dept_tip_rate',\n",
    "                 'product_tip_rate', 'order_number_squared']\n",
    "\n",
    "features_ordinal = ['order_dow', 'order_hour_of_day']\n",
    "features_ordinal_replacement = ['dow_high_tip_probability', 'hod_high_tip_probability']\n",
    "features_with_na = ['rel_days_since_tip', 'days_since_tip']"
   ],
   "metadata": {
    "collapsed": false,
    "ExecuteTime": {
     "end_time": "2024-06-23T07:02:27.535326900Z",
     "start_time": "2024-06-23T07:02:27.531740500Z"
    }
   },
   "id": "b2cbd34c6356a39a",
   "execution_count": 44
  },
  {
   "cell_type": "code",
   "outputs": [],
   "source": [
    "features_numeric = features_core + features_ordinal_replacement\n",
    "\n",
    "prepared_splits_numeric = last_order_user_tscv_splitter.import_splits('data/prepared_data/', features_numeric)"
   ],
   "metadata": {
    "collapsed": false,
    "ExecuteTime": {
     "end_time": "2024-06-22T22:26:40.872209400Z",
     "start_time": "2024-06-22T22:25:49.359114100Z"
    }
   },
   "id": "1825ae8eb7387e53",
   "execution_count": 105
  },
  {
   "cell_type": "code",
   "outputs": [],
   "source": [
    "X_num = orders_tip_train[features_numeric]\n",
    "y_num = orders_tip_train['tip'].astype(bool)"
   ],
   "metadata": {
    "collapsed": false,
    "ExecuteTime": {
     "end_time": "2024-06-22T19:47:39.786623800Z",
     "start_time": "2024-06-22T19:47:39.635935500Z"
    }
   },
   "id": "bd05d04e859f388a",
   "execution_count": 57
  },
  {
   "cell_type": "markdown",
   "source": [
    "### Multi-Layer Perceptron"
   ],
   "metadata": {
    "collapsed": false
   },
   "id": "5292572323de8317"
  },
  {
   "cell_type": "code",
   "outputs": [
    {
     "name": "stdout",
     "output_type": "stream",
     "text": [
      "Fitting 5 folds for each of 1 candidates, totalling 5 fits\n"
     ]
    },
    {
     "data": {
      "text/plain": "GridSearchCV(cv=LastOrderUserTSCVSplitter(data_manager=<data_management.data_manager.DataManager object at 0x000002E9DCA1CED0>,\n                                          n_splits=5),\n             estimator=Pipeline(steps=[('selector',\n                                        DatasetSelector(prepared_splits_dict={-8070716829487604255:          order_number  days_since_prior_order  tip_history  reordered_ratio  \\\n0                   2                    15.0     0.000000            0.500   \n1                   3                    21.0     0.000000            0.600   \n2                   4                    29.0     0.000000            1.00...\n3008656                    25                         0   \n3008657                    36                         1   \n3008658                    49                         0   \n3008659                    64                         0   \n\n         hod_high_tip_probability  \n0                               0  \n1                               0  \n2                               0  \n3                               0  \n9                               0  \n...                           ...  \n3008655                         0  \n3008656                         0  \n3008657                         0  \n3008658                         0  \n3008659                         0  \n\n[2104923 rows x 16 columns]})),\n                                       ('scaler', StandardScaler()),\n                                       ('mlp', MLPClassifier())]),\n             n_jobs=5,\n             param_grid={'mlp__activation': ['relu'], 'mlp__alpha': [0.01],\n                         'mlp__hidden_layer_sizes': [(15,)]},\n             return_train_score=True, scoring='accuracy', verbose=1)",
      "text/html": "<style>#sk-container-id-2 {\n  /* Definition of color scheme common for light and dark mode */\n  --sklearn-color-text: black;\n  --sklearn-color-line: gray;\n  /* Definition of color scheme for unfitted estimators */\n  --sklearn-color-unfitted-level-0: #fff5e6;\n  --sklearn-color-unfitted-level-1: #f6e4d2;\n  --sklearn-color-unfitted-level-2: #ffe0b3;\n  --sklearn-color-unfitted-level-3: chocolate;\n  /* Definition of color scheme for fitted estimators */\n  --sklearn-color-fitted-level-0: #f0f8ff;\n  --sklearn-color-fitted-level-1: #d4ebff;\n  --sklearn-color-fitted-level-2: #b3dbfd;\n  --sklearn-color-fitted-level-3: cornflowerblue;\n\n  /* Specific color for light theme */\n  --sklearn-color-text-on-default-background: var(--sg-text-color, var(--theme-code-foreground, var(--jp-content-font-color1, black)));\n  --sklearn-color-background: var(--sg-background-color, var(--theme-background, var(--jp-layout-color0, white)));\n  --sklearn-color-border-box: var(--sg-text-color, var(--theme-code-foreground, var(--jp-content-font-color1, black)));\n  --sklearn-color-icon: #696969;\n\n  @media (prefers-color-scheme: dark) {\n    /* Redefinition of color scheme for dark theme */\n    --sklearn-color-text-on-default-background: var(--sg-text-color, var(--theme-code-foreground, var(--jp-content-font-color1, white)));\n    --sklearn-color-background: var(--sg-background-color, var(--theme-background, var(--jp-layout-color0, #111)));\n    --sklearn-color-border-box: var(--sg-text-color, var(--theme-code-foreground, var(--jp-content-font-color1, white)));\n    --sklearn-color-icon: #878787;\n  }\n}\n\n#sk-container-id-2 {\n  color: var(--sklearn-color-text);\n}\n\n#sk-container-id-2 pre {\n  padding: 0;\n}\n\n#sk-container-id-2 input.sk-hidden--visually {\n  border: 0;\n  clip: rect(1px 1px 1px 1px);\n  clip: rect(1px, 1px, 1px, 1px);\n  height: 1px;\n  margin: -1px;\n  overflow: hidden;\n  padding: 0;\n  position: absolute;\n  width: 1px;\n}\n\n#sk-container-id-2 div.sk-dashed-wrapped {\n  border: 1px dashed var(--sklearn-color-line);\n  margin: 0 0.4em 0.5em 0.4em;\n  box-sizing: border-box;\n  padding-bottom: 0.4em;\n  background-color: var(--sklearn-color-background);\n}\n\n#sk-container-id-2 div.sk-container {\n  /* jupyter's `normalize.less` sets `[hidden] { display: none; }`\n     but bootstrap.min.css set `[hidden] { display: none !important; }`\n     so we also need the `!important` here to be able to override the\n     default hidden behavior on the sphinx rendered scikit-learn.org.\n     See: https://github.com/scikit-learn/scikit-learn/issues/21755 */\n  display: inline-block !important;\n  position: relative;\n}\n\n#sk-container-id-2 div.sk-text-repr-fallback {\n  display: none;\n}\n\ndiv.sk-parallel-item,\ndiv.sk-serial,\ndiv.sk-item {\n  /* draw centered vertical line to link estimators */\n  background-image: linear-gradient(var(--sklearn-color-text-on-default-background), var(--sklearn-color-text-on-default-background));\n  background-size: 2px 100%;\n  background-repeat: no-repeat;\n  background-position: center center;\n}\n\n/* Parallel-specific style estimator block */\n\n#sk-container-id-2 div.sk-parallel-item::after {\n  content: \"\";\n  width: 100%;\n  border-bottom: 2px solid var(--sklearn-color-text-on-default-background);\n  flex-grow: 1;\n}\n\n#sk-container-id-2 div.sk-parallel {\n  display: flex;\n  align-items: stretch;\n  justify-content: center;\n  background-color: var(--sklearn-color-background);\n  position: relative;\n}\n\n#sk-container-id-2 div.sk-parallel-item {\n  display: flex;\n  flex-direction: column;\n}\n\n#sk-container-id-2 div.sk-parallel-item:first-child::after {\n  align-self: flex-end;\n  width: 50%;\n}\n\n#sk-container-id-2 div.sk-parallel-item:last-child::after {\n  align-self: flex-start;\n  width: 50%;\n}\n\n#sk-container-id-2 div.sk-parallel-item:only-child::after {\n  width: 0;\n}\n\n/* Serial-specific style estimator block */\n\n#sk-container-id-2 div.sk-serial {\n  display: flex;\n  flex-direction: column;\n  align-items: center;\n  background-color: var(--sklearn-color-background);\n  padding-right: 1em;\n  padding-left: 1em;\n}\n\n\n/* Toggleable style: style used for estimator/Pipeline/ColumnTransformer box that is\nclickable and can be expanded/collapsed.\n- Pipeline and ColumnTransformer use this feature and define the default style\n- Estimators will overwrite some part of the style using the `sk-estimator` class\n*/\n\n/* Pipeline and ColumnTransformer style (default) */\n\n#sk-container-id-2 div.sk-toggleable {\n  /* Default theme specific background. It is overwritten whether we have a\n  specific estimator or a Pipeline/ColumnTransformer */\n  background-color: var(--sklearn-color-background);\n}\n\n/* Toggleable label */\n#sk-container-id-2 label.sk-toggleable__label {\n  cursor: pointer;\n  display: block;\n  width: 100%;\n  margin-bottom: 0;\n  padding: 0.5em;\n  box-sizing: border-box;\n  text-align: center;\n}\n\n#sk-container-id-2 label.sk-toggleable__label-arrow:before {\n  /* Arrow on the left of the label */\n  content: \"▸\";\n  float: left;\n  margin-right: 0.25em;\n  color: var(--sklearn-color-icon);\n}\n\n#sk-container-id-2 label.sk-toggleable__label-arrow:hover:before {\n  color: var(--sklearn-color-text);\n}\n\n/* Toggleable content - dropdown */\n\n#sk-container-id-2 div.sk-toggleable__content {\n  max-height: 0;\n  max-width: 0;\n  overflow: hidden;\n  text-align: left;\n  /* unfitted */\n  background-color: var(--sklearn-color-unfitted-level-0);\n}\n\n#sk-container-id-2 div.sk-toggleable__content.fitted {\n  /* fitted */\n  background-color: var(--sklearn-color-fitted-level-0);\n}\n\n#sk-container-id-2 div.sk-toggleable__content pre {\n  margin: 0.2em;\n  border-radius: 0.25em;\n  color: var(--sklearn-color-text);\n  /* unfitted */\n  background-color: var(--sklearn-color-unfitted-level-0);\n}\n\n#sk-container-id-2 div.sk-toggleable__content.fitted pre {\n  /* unfitted */\n  background-color: var(--sklearn-color-fitted-level-0);\n}\n\n#sk-container-id-2 input.sk-toggleable__control:checked~div.sk-toggleable__content {\n  /* Expand drop-down */\n  max-height: 200px;\n  max-width: 100%;\n  overflow: auto;\n}\n\n#sk-container-id-2 input.sk-toggleable__control:checked~label.sk-toggleable__label-arrow:before {\n  content: \"▾\";\n}\n\n/* Pipeline/ColumnTransformer-specific style */\n\n#sk-container-id-2 div.sk-label input.sk-toggleable__control:checked~label.sk-toggleable__label {\n  color: var(--sklearn-color-text);\n  background-color: var(--sklearn-color-unfitted-level-2);\n}\n\n#sk-container-id-2 div.sk-label.fitted input.sk-toggleable__control:checked~label.sk-toggleable__label {\n  background-color: var(--sklearn-color-fitted-level-2);\n}\n\n/* Estimator-specific style */\n\n/* Colorize estimator box */\n#sk-container-id-2 div.sk-estimator input.sk-toggleable__control:checked~label.sk-toggleable__label {\n  /* unfitted */\n  background-color: var(--sklearn-color-unfitted-level-2);\n}\n\n#sk-container-id-2 div.sk-estimator.fitted input.sk-toggleable__control:checked~label.sk-toggleable__label {\n  /* fitted */\n  background-color: var(--sklearn-color-fitted-level-2);\n}\n\n#sk-container-id-2 div.sk-label label.sk-toggleable__label,\n#sk-container-id-2 div.sk-label label {\n  /* The background is the default theme color */\n  color: var(--sklearn-color-text-on-default-background);\n}\n\n/* On hover, darken the color of the background */\n#sk-container-id-2 div.sk-label:hover label.sk-toggleable__label {\n  color: var(--sklearn-color-text);\n  background-color: var(--sklearn-color-unfitted-level-2);\n}\n\n/* Label box, darken color on hover, fitted */\n#sk-container-id-2 div.sk-label.fitted:hover label.sk-toggleable__label.fitted {\n  color: var(--sklearn-color-text);\n  background-color: var(--sklearn-color-fitted-level-2);\n}\n\n/* Estimator label */\n\n#sk-container-id-2 div.sk-label label {\n  font-family: monospace;\n  font-weight: bold;\n  display: inline-block;\n  line-height: 1.2em;\n}\n\n#sk-container-id-2 div.sk-label-container {\n  text-align: center;\n}\n\n/* Estimator-specific */\n#sk-container-id-2 div.sk-estimator {\n  font-family: monospace;\n  border: 1px dotted var(--sklearn-color-border-box);\n  border-radius: 0.25em;\n  box-sizing: border-box;\n  margin-bottom: 0.5em;\n  /* unfitted */\n  background-color: var(--sklearn-color-unfitted-level-0);\n}\n\n#sk-container-id-2 div.sk-estimator.fitted {\n  /* fitted */\n  background-color: var(--sklearn-color-fitted-level-0);\n}\n\n/* on hover */\n#sk-container-id-2 div.sk-estimator:hover {\n  /* unfitted */\n  background-color: var(--sklearn-color-unfitted-level-2);\n}\n\n#sk-container-id-2 div.sk-estimator.fitted:hover {\n  /* fitted */\n  background-color: var(--sklearn-color-fitted-level-2);\n}\n\n/* Specification for estimator info (e.g. \"i\" and \"?\") */\n\n/* Common style for \"i\" and \"?\" */\n\n.sk-estimator-doc-link,\na:link.sk-estimator-doc-link,\na:visited.sk-estimator-doc-link {\n  float: right;\n  font-size: smaller;\n  line-height: 1em;\n  font-family: monospace;\n  background-color: var(--sklearn-color-background);\n  border-radius: 1em;\n  height: 1em;\n  width: 1em;\n  text-decoration: none !important;\n  margin-left: 1ex;\n  /* unfitted */\n  border: var(--sklearn-color-unfitted-level-1) 1pt solid;\n  color: var(--sklearn-color-unfitted-level-1);\n}\n\n.sk-estimator-doc-link.fitted,\na:link.sk-estimator-doc-link.fitted,\na:visited.sk-estimator-doc-link.fitted {\n  /* fitted */\n  border: var(--sklearn-color-fitted-level-1) 1pt solid;\n  color: var(--sklearn-color-fitted-level-1);\n}\n\n/* On hover */\ndiv.sk-estimator:hover .sk-estimator-doc-link:hover,\n.sk-estimator-doc-link:hover,\ndiv.sk-label-container:hover .sk-estimator-doc-link:hover,\n.sk-estimator-doc-link:hover {\n  /* unfitted */\n  background-color: var(--sklearn-color-unfitted-level-3);\n  color: var(--sklearn-color-background);\n  text-decoration: none;\n}\n\ndiv.sk-estimator.fitted:hover .sk-estimator-doc-link.fitted:hover,\n.sk-estimator-doc-link.fitted:hover,\ndiv.sk-label-container:hover .sk-estimator-doc-link.fitted:hover,\n.sk-estimator-doc-link.fitted:hover {\n  /* fitted */\n  background-color: var(--sklearn-color-fitted-level-3);\n  color: var(--sklearn-color-background);\n  text-decoration: none;\n}\n\n/* Span, style for the box shown on hovering the info icon */\n.sk-estimator-doc-link span {\n  display: none;\n  z-index: 9999;\n  position: relative;\n  font-weight: normal;\n  right: .2ex;\n  padding: .5ex;\n  margin: .5ex;\n  width: min-content;\n  min-width: 20ex;\n  max-width: 50ex;\n  color: var(--sklearn-color-text);\n  box-shadow: 2pt 2pt 4pt #999;\n  /* unfitted */\n  background: var(--sklearn-color-unfitted-level-0);\n  border: .5pt solid var(--sklearn-color-unfitted-level-3);\n}\n\n.sk-estimator-doc-link.fitted span {\n  /* fitted */\n  background: var(--sklearn-color-fitted-level-0);\n  border: var(--sklearn-color-fitted-level-3);\n}\n\n.sk-estimator-doc-link:hover span {\n  display: block;\n}\n\n/* \"?\"-specific style due to the `<a>` HTML tag */\n\n#sk-container-id-2 a.estimator_doc_link {\n  float: right;\n  font-size: 1rem;\n  line-height: 1em;\n  font-family: monospace;\n  background-color: var(--sklearn-color-background);\n  border-radius: 1rem;\n  height: 1rem;\n  width: 1rem;\n  text-decoration: none;\n  /* unfitted */\n  color: var(--sklearn-color-unfitted-level-1);\n  border: var(--sklearn-color-unfitted-level-1) 1pt solid;\n}\n\n#sk-container-id-2 a.estimator_doc_link.fitted {\n  /* fitted */\n  border: var(--sklearn-color-fitted-level-1) 1pt solid;\n  color: var(--sklearn-color-fitted-level-1);\n}\n\n/* On hover */\n#sk-container-id-2 a.estimator_doc_link:hover {\n  /* unfitted */\n  background-color: var(--sklearn-color-unfitted-level-3);\n  color: var(--sklearn-color-background);\n  text-decoration: none;\n}\n\n#sk-container-id-2 a.estimator_doc_link.fitted:hover {\n  /* fitted */\n  background-color: var(--sklearn-color-fitted-level-3);\n}\n</style><div id=\"sk-container-id-2\" class=\"sk-top-container\"><div class=\"sk-text-repr-fallback\"><pre>GridSearchCV(cv=LastOrderUserTSCVSplitter(data_manager=&lt;data_management.data_manager.DataManager object at 0x000002E9DCA1CED0&gt;,\n                                          n_splits=5),\n             estimator=Pipeline(steps=[(&#x27;selector&#x27;,\n                                        DatasetSelector(prepared_splits_dict={-8070716829487604255:          order_number  days_since_prior_order  tip_history  reordered_ratio  \\\n0                   2                    15.0     0.000000            0.500   \n1                   3                    21.0     0.000000            0.600   \n2                   4                    29.0     0.000000            1.00...\n3008656                    25                         0   \n3008657                    36                         1   \n3008658                    49                         0   \n3008659                    64                         0   \n\n         hod_high_tip_probability  \n0                               0  \n1                               0  \n2                               0  \n3                               0  \n9                               0  \n...                           ...  \n3008655                         0  \n3008656                         0  \n3008657                         0  \n3008658                         0  \n3008659                         0  \n\n[2104923 rows x 16 columns]})),\n                                       (&#x27;scaler&#x27;, StandardScaler()),\n                                       (&#x27;mlp&#x27;, MLPClassifier())]),\n             n_jobs=5,\n             param_grid={&#x27;mlp__activation&#x27;: [&#x27;relu&#x27;], &#x27;mlp__alpha&#x27;: [0.01],\n                         &#x27;mlp__hidden_layer_sizes&#x27;: [(15,)]},\n             return_train_score=True, scoring=&#x27;accuracy&#x27;, verbose=1)</pre><b>In a Jupyter environment, please rerun this cell to show the HTML representation or trust the notebook. <br />On GitHub, the HTML representation is unable to render, please try loading this page with nbviewer.org.</b></div><div class=\"sk-container\" hidden><div class=\"sk-item sk-dashed-wrapped\"><div class=\"sk-label-container\"><div class=\"sk-label fitted sk-toggleable\"><input class=\"sk-toggleable__control sk-hidden--visually\" id=\"sk-estimator-id-6\" type=\"checkbox\" ><label for=\"sk-estimator-id-6\" class=\"sk-toggleable__label fitted sk-toggleable__label-arrow fitted\">&nbsp;&nbsp;GridSearchCV<a class=\"sk-estimator-doc-link fitted\" rel=\"noreferrer\" target=\"_blank\" href=\"https://scikit-learn.org/1.4/modules/generated/sklearn.model_selection.GridSearchCV.html\">?<span>Documentation for GridSearchCV</span></a><span class=\"sk-estimator-doc-link fitted\">i<span>Fitted</span></span></label><div class=\"sk-toggleable__content fitted\"><pre>GridSearchCV(cv=LastOrderUserTSCVSplitter(data_manager=&lt;data_management.data_manager.DataManager object at 0x000002E9DCA1CED0&gt;,\n                                          n_splits=5),\n             estimator=Pipeline(steps=[(&#x27;selector&#x27;,\n                                        DatasetSelector(prepared_splits_dict={-8070716829487604255:          order_number  days_since_prior_order  tip_history  reordered_ratio  \\\n0                   2                    15.0     0.000000            0.500   \n1                   3                    21.0     0.000000            0.600   \n2                   4                    29.0     0.000000            1.00...\n3008656                    25                         0   \n3008657                    36                         1   \n3008658                    49                         0   \n3008659                    64                         0   \n\n         hod_high_tip_probability  \n0                               0  \n1                               0  \n2                               0  \n3                               0  \n9                               0  \n...                           ...  \n3008655                         0  \n3008656                         0  \n3008657                         0  \n3008658                         0  \n3008659                         0  \n\n[2104923 rows x 16 columns]})),\n                                       (&#x27;scaler&#x27;, StandardScaler()),\n                                       (&#x27;mlp&#x27;, MLPClassifier())]),\n             n_jobs=5,\n             param_grid={&#x27;mlp__activation&#x27;: [&#x27;relu&#x27;], &#x27;mlp__alpha&#x27;: [0.01],\n                         &#x27;mlp__hidden_layer_sizes&#x27;: [(15,)]},\n             return_train_score=True, scoring=&#x27;accuracy&#x27;, verbose=1)</pre></div> </div></div><div class=\"sk-parallel\"><div class=\"sk-parallel-item\"><div class=\"sk-item\"><div class=\"sk-label-container\"><div class=\"sk-label fitted sk-toggleable\"><input class=\"sk-toggleable__control sk-hidden--visually\" id=\"sk-estimator-id-7\" type=\"checkbox\" ><label for=\"sk-estimator-id-7\" class=\"sk-toggleable__label fitted sk-toggleable__label-arrow fitted\">estimator: Pipeline</label><div class=\"sk-toggleable__content fitted\"><pre>Pipeline(steps=[(&#x27;selector&#x27;,\n                 DatasetSelector(prepared_splits_dict={-8070716829487604255:          order_number  days_since_prior_order  tip_history  reordered_ratio  \\\n0                   2                    15.0     0.000000            0.500   \n1                   3                    21.0     0.000000            0.600   \n2                   4                    29.0     0.000000            1.000   \n3                   5                    28.0     0.000000            0.625   \n4                   6                    19.0     0.000000            1.000   \n...               ...                     ...          ...              ...   \n3008656             5                     3.0     0.250000            1.000   \n3008657             6                     3.0     0.200000            0.500   \n3008658             7                     9.0     0.333333            0.300   \n3008659             8                    22.0     0.285714...\n3008657       -0.038390      -0.037902         -0.016150   \n3008658       -0.089270      -0.083484         -0.109022   \n3008659       -0.056231      -0.064715         -0.072343   \n\n         order_number_squared  dow_high_tip_probability  \\\n0                           4                         0   \n1                           9                         0   \n2                          16                         0   \n3                          25                         0   \n9                           4                         0   \n...                       ...                       ...   \n3008655                    16                         1   \n3008656                    25                         0   \n3008657                    36                         1   \n3008658                    49                         0   \n3008659                    64                         0   \n\n         hod_high_tip_probability  \n0                               0  \n1                               0  \n2                               0  \n3                               0  \n9                               0  \n...                           ...  \n3008655                         0  \n3008656                         0  \n3008657                         0  \n3008658                         0  \n3008659                         0  \n\n[2104923 rows x 16 columns]})),\n                (&#x27;scaler&#x27;, StandardScaler()), (&#x27;mlp&#x27;, MLPClassifier())])</pre></div> </div></div><div class=\"sk-serial\"><div class=\"sk-item\"><div class=\"sk-serial\"><div class=\"sk-item\"><div class=\"sk-estimator fitted sk-toggleable\"><input class=\"sk-toggleable__control sk-hidden--visually\" id=\"sk-estimator-id-8\" type=\"checkbox\" ><label for=\"sk-estimator-id-8\" class=\"sk-toggleable__label fitted sk-toggleable__label-arrow fitted\">DatasetSelector</label><div class=\"sk-toggleable__content fitted\"><pre>DatasetSelector(prepared_splits_dict={-8070716829487604255:          order_number  days_since_prior_order  tip_history  reordered_ratio  \\\n0                   2                    15.0     0.000000            0.500   \n1                   3                    21.0     0.000000            0.600   \n2                   4                    29.0     0.000000            1.000   \n3                   5                    28.0     0.000000            0.625   \n4                   6                    19.0     0.000000            1.000   \n...               ...                     ...          ...              ...   \n3008656             5                     3.0     0.250000            1.000   \n3008657             6                     3.0     0.200000            0.500   \n3008658             7                     9.0     0.333333            0.300   \n3008659             8                    22.0     0.285714            0.500   \n3008660             9                    22.0     0.250000            1.0...\n3008656       -0.034931      -0.033737          0.028516   \n3008657       -0.038390      -0.037902         -0.016150   \n3008658       -0.089270      -0.083484         -0.109022   \n3008659       -0.056231      -0.064715         -0.072343   \n\n         order_number_squared  dow_high_tip_probability  \\\n0                           4                         0   \n1                           9                         0   \n2                          16                         0   \n3                          25                         0   \n9                           4                         0   \n...                       ...                       ...   \n3008655                    16                         1   \n3008656                    25                         0   \n3008657                    36                         1   \n3008658                    49                         0   \n3008659                    64                         0   \n\n         hod_high_tip_probability  \n0                               0  \n1                               0  \n2                               0  \n3                               0  \n9                               0  \n...                           ...  \n3008655                         0  \n3008656                         0  \n3008657                         0  \n3008658                         0  \n3008659                         0  \n\n[2104923 rows x 16 columns]})</pre></div> </div></div><div class=\"sk-item\"><div class=\"sk-estimator fitted sk-toggleable\"><input class=\"sk-toggleable__control sk-hidden--visually\" id=\"sk-estimator-id-9\" type=\"checkbox\" ><label for=\"sk-estimator-id-9\" class=\"sk-toggleable__label fitted sk-toggleable__label-arrow fitted\">&nbsp;StandardScaler<a class=\"sk-estimator-doc-link fitted\" rel=\"noreferrer\" target=\"_blank\" href=\"https://scikit-learn.org/1.4/modules/generated/sklearn.preprocessing.StandardScaler.html\">?<span>Documentation for StandardScaler</span></a></label><div class=\"sk-toggleable__content fitted\"><pre>StandardScaler()</pre></div> </div></div><div class=\"sk-item\"><div class=\"sk-estimator fitted sk-toggleable\"><input class=\"sk-toggleable__control sk-hidden--visually\" id=\"sk-estimator-id-10\" type=\"checkbox\" ><label for=\"sk-estimator-id-10\" class=\"sk-toggleable__label fitted sk-toggleable__label-arrow fitted\">&nbsp;MLPClassifier<a class=\"sk-estimator-doc-link fitted\" rel=\"noreferrer\" target=\"_blank\" href=\"https://scikit-learn.org/1.4/modules/generated/sklearn.neural_network.MLPClassifier.html\">?<span>Documentation for MLPClassifier</span></a></label><div class=\"sk-toggleable__content fitted\"><pre>MLPClassifier()</pre></div> </div></div></div></div></div></div></div></div></div></div></div>"
     },
     "execution_count": 58,
     "metadata": {},
     "output_type": "execute_result"
    }
   ],
   "source": [
    "pipeline_steps = [('selector', DatasetSelector(prepared_splits_numeric)),\n",
    "                  ('scaler', StandardScaler()),\n",
    "                  ('mlp', MLPClassifier())]\n",
    "\n",
    "pipeline = Pipeline(pipeline_steps, verbose=False)\n",
    "\n",
    "# param_grid = {\n",
    "#     'mlp__hidden_layer_sizes': [(10,), (50,), (100,), (5, 5), (10, 10), (25, 25)],\n",
    "#     'mlp__activation': ['relu'],\n",
    "#     'mlp__alpha': [0.001, 0.01, 0.1],\n",
    "#     'mlp__max_iter': [100, 500, 750]\n",
    "# } -> Top: 0.814843, Mean: 0.803884\n",
    "param_grid = {\n",
    "    'mlp__hidden_layer_sizes': [(15,)],\n",
    "    'mlp__activation': ['relu'],\n",
    "    'mlp__alpha': [0.01],\n",
    "}\n",
    "\n",
    "# param_grid = {'mlp__activation': 'relu',\n",
    "#  'mlp__alpha': 0.01,\n",
    "#  'mlp__hidden_layer_sizes': (25, 25),\n",
    "#  'mlp__max_iter': 750}\n",
    "# -> Top: 0.815891, Mean: 0.804765\n",
    "grid_search_clf = GridSearchCV(pipeline, param_grid, cv=last_order_user_tscv_splitter, scoring='accuracy', verbose=1,\n",
    "                               n_jobs=5, return_train_score=True)\n",
    "grid_search_clf.fit(X_num, y_num)"
   ],
   "metadata": {
    "collapsed": false,
    "ExecuteTime": {
     "end_time": "2024-06-22T19:50:29.672069400Z",
     "start_time": "2024-06-22T19:47:39.789625Z"
    }
   },
   "id": "31e7f7342feb3571",
   "execution_count": 58
  },
  {
   "cell_type": "code",
   "outputs": [
    {
     "data": {
      "text/plain": "        Test Accuracy  Train Accuracy\nFold 1       0.814441        0.778584\nFold 2       0.810765        0.776415\nFold 3       0.803856        0.774308\nFold 4       0.798233        0.772744\nFold 5       0.792023        0.771244\nMean         0.803863        0.774659",
      "text/html": "<div>\n<style scoped>\n    .dataframe tbody tr th:only-of-type {\n        vertical-align: middle;\n    }\n\n    .dataframe tbody tr th {\n        vertical-align: top;\n    }\n\n    .dataframe thead th {\n        text-align: right;\n    }\n</style>\n<table border=\"1\" class=\"dataframe\">\n  <thead>\n    <tr style=\"text-align: right;\">\n      <th></th>\n      <th>Test Accuracy</th>\n      <th>Train Accuracy</th>\n    </tr>\n  </thead>\n  <tbody>\n    <tr>\n      <th>Fold 1</th>\n      <td>0.814441</td>\n      <td>0.778584</td>\n    </tr>\n    <tr>\n      <th>Fold 2</th>\n      <td>0.810765</td>\n      <td>0.776415</td>\n    </tr>\n    <tr>\n      <th>Fold 3</th>\n      <td>0.803856</td>\n      <td>0.774308</td>\n    </tr>\n    <tr>\n      <th>Fold 4</th>\n      <td>0.798233</td>\n      <td>0.772744</td>\n    </tr>\n    <tr>\n      <th>Fold 5</th>\n      <td>0.792023</td>\n      <td>0.771244</td>\n    </tr>\n    <tr>\n      <th>Mean</th>\n      <td>0.803863</td>\n      <td>0.774659</td>\n    </tr>\n  </tbody>\n</table>\n</div>"
     },
     "execution_count": 59,
     "metadata": {},
     "output_type": "execute_result"
    }
   ],
   "source": [
    "scores = get_best_cv_scores(grid_search_clf)\n",
    "scores"
   ],
   "metadata": {
    "collapsed": false,
    "ExecuteTime": {
     "end_time": "2024-06-22T19:50:29.675415700Z",
     "start_time": "2024-06-22T19:50:29.670068300Z"
    }
   },
   "id": "7f5bda4622707204",
   "execution_count": 59
  },
  {
   "cell_type": "code",
   "outputs": [
    {
     "data": {
      "text/plain": "{'mlp__activation': 'relu',\n 'mlp__alpha': 0.01,\n 'mlp__hidden_layer_sizes': (15,)}"
     },
     "execution_count": 71,
     "metadata": {},
     "output_type": "execute_result"
    }
   ],
   "source": [
    "grid_search_clf.best_params_"
   ],
   "metadata": {
    "collapsed": false,
    "ExecuteTime": {
     "end_time": "2024-06-22T16:49:21.793648400Z",
     "start_time": "2024-06-22T16:49:21.645784Z"
    }
   },
   "id": "9e1b3b176145705b",
   "execution_count": 71
  },
  {
   "cell_type": "markdown",
   "source": [
    "### Logistic Regression"
   ],
   "metadata": {
    "collapsed": false
   },
   "id": "6375a3f70bdb91e7"
  },
  {
   "cell_type": "code",
   "outputs": [],
   "source": [
    "pipeline_steps = [('selector', DatasetSelector(prepared_splits_numeric)),\n",
    "                  ('scaler', StandardScaler()),\n",
    "                  ('logreg', LogisticRegression())]\n",
    "\n",
    "pipeline = Pipeline(pipeline_steps, verbose=False)\n",
    "\n",
    "# param_grid = {\n",
    "#     'logreg__C': [0.001, 0.01, 0.1, 1, 10, 100],\n",
    "#     'logreg__solver': ['liblinear', 'lbfgs', 'newton-cg', 'sag', 'saga'],\n",
    "# }\n",
    "param_grid = {\n",
    "    'logreg__max_iter': [1000],\n",
    "    'logreg__C': [0.001],\n",
    "    'logreg__solver': ['sag'],\n",
    "}\n",
    "# {'logreg__C': 0.001, 'logreg__solver': 'sag'} - \n",
    "# Mean: 0.802477\n",
    "# Top: 0.813330\n",
    "\n",
    "\n",
    "grid_search_clf = GridSearchCV(pipeline, param_grid, cv=last_order_user_tscv_splitter, scoring='accuracy', verbose=1,\n",
    "                               n_jobs=5, return_train_score=True)\n",
    "grid_search_clf.fit(X_num, y_num)"
   ],
   "metadata": {
    "collapsed": false,
    "ExecuteTime": {
     "start_time": "2024-06-23T09:46:13.595212400Z"
    }
   },
   "id": "603d47a61579809c",
   "execution_count": null
  },
  {
   "cell_type": "code",
   "outputs": [
    {
     "name": "stdout",
     "output_type": "stream",
     "text": [
      "Coefficients: [[-0.31155412 -0.02368891  0.80238014  0.13186797 -0.14164389 -0.25503389\n",
      "   0.6271268   0.07953402  0.32125894  0.29804917 -0.04322853 -0.01672614\n",
      "   0.24351759  0.27488682  0.1054206   0.41418298  0.27832532]]\n"
     ]
    },
    {
     "data": {
      "text/plain": "<Figure size 1000x600 with 1 Axes>",
      "image/png": "[encoded data removed]"
     },
     "metadata": {},
     "output_type": "display_data"
    }
   ],
   "source": [
    "eval_logreg(grid_search_clf, features_numeric)"
   ],
   "metadata": {
    "collapsed": false,
    "ExecuteTime": {
     "end_time": "2024-06-22T16:45:50.400076100Z",
     "start_time": "2024-06-22T16:45:50.225205700Z"
    }
   },
   "id": "ad448029f29cb55a",
   "execution_count": 64
  },
  {
   "cell_type": "code",
   "outputs": [
    {
     "data": {
      "text/plain": "        Test Accuracy  Train Accuracy\nFold 1       0.813350        0.776854\nFold 2       0.808830        0.774417\nFold 3       0.801913        0.772394\nFold 4       0.797224        0.770626\nFold 5       0.791067        0.769223\nMean         0.802477        0.772703",
      "text/html": "<div>\n<style scoped>\n    .dataframe tbody tr th:only-of-type {\n        vertical-align: middle;\n    }\n\n    .dataframe tbody tr th {\n        vertical-align: top;\n    }\n\n    .dataframe thead th {\n        text-align: right;\n    }\n</style>\n<table border=\"1\" class=\"dataframe\">\n  <thead>\n    <tr style=\"text-align: right;\">\n      <th></th>\n      <th>Test Accuracy</th>\n      <th>Train Accuracy</th>\n    </tr>\n  </thead>\n  <tbody>\n    <tr>\n      <th>Fold 1</th>\n      <td>0.813350</td>\n      <td>0.776854</td>\n    </tr>\n    <tr>\n      <th>Fold 2</th>\n      <td>0.808830</td>\n      <td>0.774417</td>\n    </tr>\n    <tr>\n      <th>Fold 3</th>\n      <td>0.801913</td>\n      <td>0.772394</td>\n    </tr>\n    <tr>\n      <th>Fold 4</th>\n      <td>0.797224</td>\n      <td>0.770626</td>\n    </tr>\n    <tr>\n      <th>Fold 5</th>\n      <td>0.791067</td>\n      <td>0.769223</td>\n    </tr>\n    <tr>\n      <th>Mean</th>\n      <td>0.802477</td>\n      <td>0.772703</td>\n    </tr>\n  </tbody>\n</table>\n</div>"
     },
     "execution_count": 65,
     "metadata": {},
     "output_type": "execute_result"
    }
   ],
   "source": [
    "scores = get_best_cv_scores(grid_search_clf)\n",
    "scores"
   ],
   "metadata": {
    "collapsed": false,
    "ExecuteTime": {
     "end_time": "2024-06-22T16:45:50.429990200Z",
     "start_time": "2024-06-22T16:45:50.379228Z"
    }
   },
   "id": "74a57187df77858d",
   "execution_count": 65
  },
  {
   "cell_type": "code",
   "outputs": [
    {
     "data": {
      "text/plain": "{'logreg__C': 0.001, 'logreg__max_iter': 1000, 'logreg__solver': 'sag'}"
     },
     "execution_count": 67,
     "metadata": {},
     "output_type": "execute_result"
    }
   ],
   "source": [
    "grid_search_clf.best_params_"
   ],
   "metadata": {
    "collapsed": false,
    "ExecuteTime": {
     "end_time": "2024-06-22T16:45:50.650543300Z",
     "start_time": "2024-06-22T16:45:50.524452100Z"
    }
   },
   "id": "1ed73d4fc87e8e66",
   "execution_count": 67
  },
  {
   "cell_type": "markdown",
   "source": [
    "### Gaussian Naive Bayes"
   ],
   "metadata": {
    "collapsed": false
   },
   "id": "9ffd8568a852db50"
  },
  {
   "cell_type": "code",
   "outputs": [],
   "source": [
    "pipeline_steps = [('selector', DatasetSelector(prepared_splits_numeric)),\n",
    "                  ('scaler', StandardScaler()),\n",
    "                  ('nb', GaussianNB())]\n",
    "\n",
    "pipeline = Pipeline(pipeline_steps, verbose=False)\n",
    "# param_grid = {\n",
    "#     'nb__var_smoothing': [1e-9, 1e-10, 1e-11]\n",
    "# }\n",
    "param_grid = {\n",
    "    'nb__var_smoothing': [1e-9]  # Variation smoothing parameter\n",
    "}\n",
    "# {'nb__var_smoothing': 1e-09} - 0.7841381709885383\n",
    "\n",
    "grid_search_clf = GridSearchCV(pipeline, param_grid, cv=last_order_user_tscv_splitter, scoring='accuracy', verbose=1,\n",
    "                               n_jobs=5, return_train_score=True)\n",
    "grid_search_clf.fit(X_num, y_num)"
   ],
   "metadata": {
    "collapsed": false
   },
   "id": "fe1474a6d3012bef"
  },
  {
   "cell_type": "code",
   "outputs": [],
   "source": [
    "scores = get_best_cv_scores(grid_search_clf)\n",
    "scores"
   ],
   "metadata": {
    "collapsed": false
   },
   "id": "e1a8975f325d4e3"
  },
  {
   "cell_type": "code",
   "outputs": [],
   "source": [
    "accuracy = estimate_accuracy(grid_search_clf)\n",
    "accuracy"
   ],
   "metadata": {
    "collapsed": false
   },
   "id": "2b92bc74ca1ab26d"
  },
  {
   "cell_type": "markdown",
   "source": [
    "### Decision Tree"
   ],
   "metadata": {
    "collapsed": false
   },
   "id": "77aaff0527b4eb10"
  },
  {
   "cell_type": "code",
   "outputs": [],
   "source": [
    "features = features_core + features_ordinal + features_with_na\n",
    "prepared_splits = last_order_user_tscv_splitter.import_splits('data/prepared_data/', features)"
   ],
   "metadata": {
    "collapsed": false,
    "ExecuteTime": {
     "end_time": "2024-06-23T07:08:50.416967Z",
     "start_time": "2024-06-23T07:07:59.305636400Z"
    }
   },
   "id": "39ce960c1ff8c991",
   "execution_count": 45
  },
  {
   "cell_type": "code",
   "outputs": [],
   "source": [
    "X_disc = orders_tip_train[features]\n",
    "y_disc = orders_tip_train['tip'].astype(bool)"
   ],
   "metadata": {
    "collapsed": false,
    "ExecuteTime": {
     "end_time": "2024-06-23T07:08:50.572625200Z",
     "start_time": "2024-06-23T07:08:50.417959400Z"
    }
   },
   "id": "4d90b28a050e6343",
   "execution_count": 46
  },
  {
   "cell_type": "code",
   "outputs": [],
   "source": [
    "pipeline_steps = [('selector', DatasetSelector(prepared_splits)),\n",
    "                  ('decision_tree', DecisionTreeClassifier())]\n",
    "\n",
    "pipeline = Pipeline(pipeline_steps, verbose=False)\n",
    "\n",
    "# param_grid = {\n",
    "#     'decision_tree__criterion': ['entropy'],\n",
    "#     'decision_tree__max_depth': [2 ** i for i in range(5, 15)],\n",
    "#     'decision_tree__min_samples_leaf': [2 ** i for i in range(5, 20)]\n",
    "# }\n",
    "\n",
    "param_grid = {\n",
    "    'decision_tree__criterion': ['entropy'],\n",
    "    'decision_tree__max_depth': [10],\n",
    "    'decision_tree__min_samples_leaf': [500]\n",
    "}\n",
    "\n",
    "grid_search_clf = GridSearchCV(pipeline, param_grid, cv=last_order_user_tscv_splitter, scoring='accuracy', verbose=1,\n",
    "                               n_jobs=5, return_train_score=True)\n",
    "grid_search_clf.fit(X_disc, y_disc)"
   ],
   "metadata": {
    "collapsed": false,
    "ExecuteTime": {
     "start_time": "2024-06-22T14:49:23.594613500Z"
    }
   },
   "id": "6950cc6730e455b9"
  },
  {
   "cell_type": "code",
   "outputs": [],
   "source": [
    "scores = get_best_cv_scores(grid_search_clf)\n",
    "scores"
   ],
   "metadata": {
    "collapsed": false
   },
   "id": "6541093aff140168"
  },
  {
   "cell_type": "code",
   "outputs": [],
   "source": [
    "grid_search_clf.best_params_"
   ],
   "metadata": {
    "collapsed": false
   },
   "id": "887ca8bdaf925baa"
  },
  {
   "cell_type": "markdown",
   "source": [
    "### XGBoost"
   ],
   "metadata": {
    "collapsed": false
   },
   "id": "d4bd6cc03bffee07"
  },
  {
   "cell_type": "code",
   "outputs": [
    {
     "name": "stdout",
     "output_type": "stream",
     "text": [
      "Fitting 5 folds for each of 216 candidates, totalling 1080 fits\n"
     ]
    },
    {
     "name": "stderr",
     "output_type": "stream",
     "text": [
      "\n",
      "KeyboardInterrupt\n",
      "\n"
     ]
    }
   ],
   "source": [
    "pipeline_steps = [('selector', DatasetSelector(prepared_splits)),\n",
    "                  ('xgb', XGBClassifier(use_label_encoder=False))]\n",
    "\n",
    "pipeline = Pipeline(pipeline_steps, verbose=False)\n",
    "\n",
    "# param_grid = {'xgb__n_estimators': [2 ** i for i in range(2, 8)],\n",
    "#               'xgb__max_depth': [2 ** i for i in range(2, 8)],\n",
    "#               'xgb__learning_rate': [0.01, 0.1],\n",
    "#               'xgb__subsample': [0.4, 0.6, 0.8]}\n",
    "\n",
    "# param_grid = {\n",
    "#     'xgb__learning_rate': [0.1],\n",
    "#     'xgb__max_depth': [5],\n",
    "#     'xgb__n_estimators': [100],\n",
    "#     'xgb__subsample': [0.6]\n",
    "# }\n",
    "# - 0.805 \n",
    "\n",
    "grid_search_clf = GridSearchCV(pipeline, param_grid, cv=last_order_user_tscv_splitter, scoring='accuracy', verbose=1,\n",
    "                               n_jobs=1, return_train_score=True)\n",
    "grid_search_clf.fit(X_disc, y_disc)"
   ],
   "metadata": {
    "collapsed": false,
    "ExecuteTime": {
     "end_time": "2024-06-23T09:46:13.587150400Z",
     "start_time": "2024-06-23T08:26:57.474237500Z"
    }
   },
   "id": "8eda10d3ec15d19f",
   "execution_count": 51
  },
  {
   "cell_type": "code",
   "outputs": [],
   "source": [
    "scores = get_best_cv_scores(grid_search_clf)\n",
    "scores"
   ],
   "metadata": {
    "collapsed": false,
    "ExecuteTime": {
     "end_time": "2024-06-23T09:46:13.615255800Z",
     "start_time": "2024-06-23T09:46:13.588146700Z"
    }
   },
   "id": "34f731b37c1947f1",
   "execution_count": null
  },
  {
   "cell_type": "code",
   "outputs": [
    {
     "data": {
      "text/plain": "{'xgb__eval_metric': 'logloss',\n 'xgb__learning_rate': 0.1,\n 'xgb__max_depth': 8,\n 'xgb__n_estimators': 16,\n 'xgb__subsample': 0.4}"
     },
     "execution_count": 50,
     "metadata": {},
     "output_type": "execute_result"
    }
   ],
   "source": [
    "grid_search_clf.best_params_"
   ],
   "metadata": {
    "collapsed": false,
    "ExecuteTime": {
     "end_time": "2024-06-23T08:24:01.161785200Z",
     "start_time": "2024-06-23T08:24:01.157873500Z"
    }
   },
   "id": "9d02e8aca9c79122",
   "execution_count": 50
  },
  {
   "cell_type": "markdown",
   "source": [
    "### Prediction\n",
    "\n",
    "TODO: Select correct model & feature set"
   ],
   "metadata": {
    "collapsed": false
   },
   "id": "53d2fcdbca15153"
  },
  {
   "cell_type": "code",
   "outputs": [
    {
     "data": {
      "text/plain": "     order_id  user_id eval_set  order_number  order_dow  order_hour_of_day  \\\n9     1187899        1    train            11          4                  8   \n23    1492625        2    train            15          1                 11   \n42    2196797        5    train             5          0                 11   \n64     525192        7    train            21          2                 11   \n67     880375        8    train             4          1                 14   \n70    1094988        9    train             4          6                 10   \n75    1822501       10    train             6          0                 19   \n97    1827621       13    train            13          0                 21   \n110   2316178       14    train            14          2                 19   \n176   2180313       17    train            41          3                 10   \n182   2461523       18    train             7          6                  9   \n226   1854765       21    train            34          1                 12   \n244   3402036       23    train             5          1                 12   \n262    965160       24    train            19          0                 16   \n356   2614670       27    train            82          5                 14   \n397   3110252       29    train            19          4                 11   \n405     62370       30    train             9          2                 13   \n435    698604       34    train             6          4                 13   \n502   1524161       37    train            24          0                 13   \n514   3173750       38    train            13          0                  9   \n533   2032076       41    train             6          0                 20   \n549   2803975       42    train            17          0                 11   \n560   1864787       43    train            12          5                 11   \n563   2436259       44    train             4          0                 12   \n585   1947848       46    train            20          4                 20   \n\n     days_since_prior_order  tip  sim_orders_tip_ratio  prev_order_tipped  \\\n9                      14.0  NaN             -0.324519                0.0   \n23                     30.0  NaN              0.010831                0.0   \n42                      6.0  NaN             -0.005987                1.0   \n64                      6.0  NaN              0.067975                0.0   \n67                     10.0  NaN              0.003809                0.0   \n70                     30.0  NaN             -0.311376                0.0   \n75                     30.0  NaN              0.000000                1.0   \n97                      8.0  NaN              0.120536                1.0   \n110                    11.0  NaN              0.034419                0.0   \n176                    30.0  NaN             -0.062102                0.0   \n182                     7.0  NaN             -0.136111                0.0   \n226                    28.0  NaN              0.018974                0.0   \n244                    30.0  NaN             -0.079605                0.0   \n262                     0.0  NaN             -0.212963                0.0   \n356                     4.0  NaN             -0.013008                0.0   \n397                    13.0  NaN             -0.215297                0.0   \n405                    22.0  NaN             -0.062500                0.0   \n435                    30.0  NaN             -0.078030                0.0   \n502                    16.0  NaN             -0.047790                0.0   \n514                    30.0  NaN             -0.095927                0.0   \n533                    30.0  NaN             -0.075312                0.0   \n549                    14.0  NaN             -0.073976                0.0   \n560                    26.0  NaN             -0.102659                0.0   \n563                    30.0  NaN              0.000000                0.0   \n585                    11.0  NaN              0.116328                1.0   \n\n     ...  mean_ordered_rate  tip_history  dow_high_tip_probability  \\\n9    ...           0.372727     0.000000                         0   \n23   ...           0.080645     0.571429                         1   \n42   ...           0.166667     0.500000                         1   \n64   ...           0.288889     0.650000                         0   \n67   ...           0.129630     0.666667                         1   \n70   ...           0.484848     0.000000                         0   \n75   ...           0.000000     1.000000                         1   \n97   ...           0.550000     0.666667                         1   \n110  ...           0.230769     0.615385                         0   \n176  ...           0.170833     0.125000                         0   \n182  ...           0.196970     0.000000                         0   \n226  ...           0.050505     0.878788                         1   \n244  ...           0.166667     0.250000                         1   \n262  ...           0.388889     0.166667                         1   \n356  ...           0.090777     0.185185                         0   \n397  ...           0.382353     0.111111                         0   \n405  ...           0.125000     0.000000                         0   \n435  ...           0.200000     0.000000                         0   \n502  ...           0.076087     0.000000                         1   \n514  ...           0.162281     0.000000                         1   \n533  ...           0.133333     0.000000                         1   \n549  ...           0.196429     0.500000                         1   \n560  ...           0.148760     0.090909                         0   \n563  ...           0.000000     0.000000                         1   \n585  ...           0.359649     0.842105                         0   \n\n     order_size  customer_lifetime  dept_tip_rate  dynamic_feature_test_1  \\\n9            11                190      -0.101701                     1.0   \n23           31                228      -0.184929                     1.0   \n42            9                 46      -0.100788                     1.0   \n64            9                209      -0.167919                     1.0   \n67           18                 70      -0.081801                     1.0   \n70           22                 66      -0.078726                     1.0   \n75            4                109      -0.211426                     1.0   \n97            5                 92      -0.072313                     1.0   \n110          11                276      -0.127387                     1.0   \n176           6                320      -0.066188                     1.0   \n182          11                 35      -0.094560                     1.0   \n226           6                345      -0.201967                     1.0   \n244          12                 74      -0.116651                     1.0   \n262           1                264      -0.226219                     1.0   \n356          17                359      -0.041619                     1.0   \n397          17                209      -0.191534                     1.0   \n405           1                173      -0.226219                     1.0   \n435           5                110      -0.047128                     1.0   \n502          12                311      -0.099346                     1.0   \n514          19                261      -0.103802                     1.0   \n533          15                133      -0.106627                     1.0   \n549           7                222      -0.200416                     1.0   \n560          33                130      -0.130417                     1.0   \n563           6                 90      -0.135849                     1.0   \n585           6                330      -0.094117                     1.0   \n\n     product_tip_rate  aisle_tip_rate  dynamic_feature_test_2  \n9           -0.111774       -0.103117                     1.0  \n23          -0.163100       -0.183604                     1.0  \n42          -0.103363       -0.111892                     1.0  \n64          -0.153169       -0.146443                     1.0  \n67          -0.131972       -0.113158                     1.0  \n70          -0.035609       -0.063893                     1.0  \n75          -0.250338       -0.227974                     1.0  \n97           0.011010       -0.045897                     1.0  \n110         -0.166084       -0.132882                     1.0  \n176         -0.145274       -0.082261                     1.0  \n182         -0.094784       -0.076880                     1.0  \n226         -0.207306       -0.226853                     1.0  \n244         -0.254671       -0.117920                     1.0  \n262         -0.461538       -0.249742                     1.0  \n356          0.010542       -0.006390                     1.0  \n397         -0.396072       -0.206453                     1.0  \n405         -0.226010       -0.212121                     1.0  \n435          0.073458       -0.006678                     1.0  \n502         -0.082124       -0.096497                     1.0  \n514         -0.102646       -0.108817                     1.0  \n533         -0.090137       -0.113983                     1.0  \n549         -0.243000       -0.227072                     1.0  \n560         -0.216115       -0.143427                     1.0  \n563         -0.369867       -0.182278                     1.0  \n585         -0.133070       -0.109685                     1.0  \n\n[25 rows x 30 columns]",
      "text/html": "<div>\n<style scoped>\n    .dataframe tbody tr th:only-of-type {\n        vertical-align: middle;\n    }\n\n    .dataframe tbody tr th {\n        vertical-align: top;\n    }\n\n    .dataframe thead th {\n        text-align: right;\n    }\n</style>\n<table border=\"1\" class=\"dataframe\">\n  <thead>\n    <tr style=\"text-align: right;\">\n      <th></th>\n      <th>order_id</th>\n      <th>user_id</th>\n      <th>eval_set</th>\n      <th>order_number</th>\n      <th>order_dow</th>\n      <th>order_hour_of_day</th>\n      <th>days_since_prior_order</th>\n      <th>tip</th>\n      <th>sim_orders_tip_ratio</th>\n      <th>prev_order_tipped</th>\n      <th>...</th>\n      <th>mean_ordered_rate</th>\n      <th>tip_history</th>\n      <th>dow_high_tip_probability</th>\n      <th>order_size</th>\n      <th>customer_lifetime</th>\n      <th>dept_tip_rate</th>\n      <th>dynamic_feature_test_1</th>\n      <th>product_tip_rate</th>\n      <th>aisle_tip_rate</th>\n      <th>dynamic_feature_test_2</th>\n    </tr>\n  </thead>\n  <tbody>\n    <tr>\n      <th>9</th>\n      <td>1187899</td>\n      <td>1</td>\n      <td>train</td>\n      <td>11</td>\n      <td>4</td>\n      <td>8</td>\n      <td>14.0</td>\n      <td>NaN</td>\n      <td>-0.324519</td>\n      <td>0.0</td>\n      <td>...</td>\n      <td>0.372727</td>\n      <td>0.000000</td>\n      <td>0</td>\n      <td>11</td>\n      <td>190</td>\n      <td>-0.101701</td>\n      <td>1.0</td>\n      <td>-0.111774</td>\n      <td>-0.103117</td>\n      <td>1.0</td>\n    </tr>\n    <tr>\n      <th>23</th>\n      <td>1492625</td>\n      <td>2</td>\n      <td>train</td>\n      <td>15</td>\n      <td>1</td>\n      <td>11</td>\n      <td>30.0</td>\n      <td>NaN</td>\n      <td>0.010831</td>\n      <td>0.0</td>\n      <td>...</td>\n      <td>0.080645</td>\n      <td>0.571429</td>\n      <td>1</td>\n      <td>31</td>\n      <td>228</td>\n      <td>-0.184929</td>\n      <td>1.0</td>\n      <td>-0.163100</td>\n      <td>-0.183604</td>\n      <td>1.0</td>\n    </tr>\n    <tr>\n      <th>42</th>\n      <td>2196797</td>\n      <td>5</td>\n      <td>train</td>\n      <td>5</td>\n      <td>0</td>\n      <td>11</td>\n      <td>6.0</td>\n      <td>NaN</td>\n      <td>-0.005987</td>\n      <td>1.0</td>\n      <td>...</td>\n      <td>0.166667</td>\n      <td>0.500000</td>\n      <td>1</td>\n      <td>9</td>\n      <td>46</td>\n      <td>-0.100788</td>\n      <td>1.0</td>\n      <td>-0.103363</td>\n      <td>-0.111892</td>\n      <td>1.0</td>\n    </tr>\n    <tr>\n      <th>64</th>\n      <td>525192</td>\n      <td>7</td>\n      <td>train</td>\n      <td>21</td>\n      <td>2</td>\n      <td>11</td>\n      <td>6.0</td>\n      <td>NaN</td>\n      <td>0.067975</td>\n      <td>0.0</td>\n      <td>...</td>\n      <td>0.288889</td>\n      <td>0.650000</td>\n      <td>0</td>\n      <td>9</td>\n      <td>209</td>\n      <td>-0.167919</td>\n      <td>1.0</td>\n      <td>-0.153169</td>\n      <td>-0.146443</td>\n      <td>1.0</td>\n    </tr>\n    <tr>\n      <th>67</th>\n      <td>880375</td>\n      <td>8</td>\n      <td>train</td>\n      <td>4</td>\n      <td>1</td>\n      <td>14</td>\n      <td>10.0</td>\n      <td>NaN</td>\n      <td>0.003809</td>\n      <td>0.0</td>\n      <td>...</td>\n      <td>0.129630</td>\n      <td>0.666667</td>\n      <td>1</td>\n      <td>18</td>\n      <td>70</td>\n      <td>-0.081801</td>\n      <td>1.0</td>\n      <td>-0.131972</td>\n      <td>-0.113158</td>\n      <td>1.0</td>\n    </tr>\n    <tr>\n      <th>70</th>\n      <td>1094988</td>\n      <td>9</td>\n      <td>train</td>\n      <td>4</td>\n      <td>6</td>\n      <td>10</td>\n      <td>30.0</td>\n      <td>NaN</td>\n      <td>-0.311376</td>\n      <td>0.0</td>\n      <td>...</td>\n      <td>0.484848</td>\n      <td>0.000000</td>\n      <td>0</td>\n      <td>22</td>\n      <td>66</td>\n      <td>-0.078726</td>\n      <td>1.0</td>\n      <td>-0.035609</td>\n      <td>-0.063893</td>\n      <td>1.0</td>\n    </tr>\n    <tr>\n      <th>75</th>\n      <td>1822501</td>\n      <td>10</td>\n      <td>train</td>\n      <td>6</td>\n      <td>0</td>\n      <td>19</td>\n      <td>30.0</td>\n      <td>NaN</td>\n      <td>0.000000</td>\n      <td>1.0</td>\n      <td>...</td>\n      <td>0.000000</td>\n      <td>1.000000</td>\n      <td>1</td>\n      <td>4</td>\n      <td>109</td>\n      <td>-0.211426</td>\n      <td>1.0</td>\n      <td>-0.250338</td>\n      <td>-0.227974</td>\n      <td>1.0</td>\n    </tr>\n    <tr>\n      <th>97</th>\n      <td>1827621</td>\n      <td>13</td>\n      <td>train</td>\n      <td>13</td>\n      <td>0</td>\n      <td>21</td>\n      <td>8.0</td>\n      <td>NaN</td>\n      <td>0.120536</td>\n      <td>1.0</td>\n      <td>...</td>\n      <td>0.550000</td>\n      <td>0.666667</td>\n      <td>1</td>\n      <td>5</td>\n      <td>92</td>\n      <td>-0.072313</td>\n      <td>1.0</td>\n      <td>0.011010</td>\n      <td>-0.045897</td>\n      <td>1.0</td>\n    </tr>\n    <tr>\n      <th>110</th>\n      <td>2316178</td>\n      <td>14</td>\n      <td>train</td>\n      <td>14</td>\n      <td>2</td>\n      <td>19</td>\n      <td>11.0</td>\n      <td>NaN</td>\n      <td>0.034419</td>\n      <td>0.0</td>\n      <td>...</td>\n      <td>0.230769</td>\n      <td>0.615385</td>\n      <td>0</td>\n      <td>11</td>\n      <td>276</td>\n      <td>-0.127387</td>\n      <td>1.0</td>\n      <td>-0.166084</td>\n      <td>-0.132882</td>\n      <td>1.0</td>\n    </tr>\n    <tr>\n      <th>176</th>\n      <td>2180313</td>\n      <td>17</td>\n      <td>train</td>\n      <td>41</td>\n      <td>3</td>\n      <td>10</td>\n      <td>30.0</td>\n      <td>NaN</td>\n      <td>-0.062102</td>\n      <td>0.0</td>\n      <td>...</td>\n      <td>0.170833</td>\n      <td>0.125000</td>\n      <td>0</td>\n      <td>6</td>\n      <td>320</td>\n      <td>-0.066188</td>\n      <td>1.0</td>\n      <td>-0.145274</td>\n      <td>-0.082261</td>\n      <td>1.0</td>\n    </tr>\n    <tr>\n      <th>182</th>\n      <td>2461523</td>\n      <td>18</td>\n      <td>train</td>\n      <td>7</td>\n      <td>6</td>\n      <td>9</td>\n      <td>7.0</td>\n      <td>NaN</td>\n      <td>-0.136111</td>\n      <td>0.0</td>\n      <td>...</td>\n      <td>0.196970</td>\n      <td>0.000000</td>\n      <td>0</td>\n      <td>11</td>\n      <td>35</td>\n      <td>-0.094560</td>\n      <td>1.0</td>\n      <td>-0.094784</td>\n      <td>-0.076880</td>\n      <td>1.0</td>\n    </tr>\n    <tr>\n      <th>226</th>\n      <td>1854765</td>\n      <td>21</td>\n      <td>train</td>\n      <td>34</td>\n      <td>1</td>\n      <td>12</td>\n      <td>28.0</td>\n      <td>NaN</td>\n      <td>0.018974</td>\n      <td>0.0</td>\n      <td>...</td>\n      <td>0.050505</td>\n      <td>0.878788</td>\n      <td>1</td>\n      <td>6</td>\n      <td>345</td>\n      <td>-0.201967</td>\n      <td>1.0</td>\n      <td>-0.207306</td>\n      <td>-0.226853</td>\n      <td>1.0</td>\n    </tr>\n    <tr>\n      <th>244</th>\n      <td>3402036</td>\n      <td>23</td>\n      <td>train</td>\n      <td>5</td>\n      <td>1</td>\n      <td>12</td>\n      <td>30.0</td>\n      <td>NaN</td>\n      <td>-0.079605</td>\n      <td>0.0</td>\n      <td>...</td>\n      <td>0.166667</td>\n      <td>0.250000</td>\n      <td>1</td>\n      <td>12</td>\n      <td>74</td>\n      <td>-0.116651</td>\n      <td>1.0</td>\n      <td>-0.254671</td>\n      <td>-0.117920</td>\n      <td>1.0</td>\n    </tr>\n    <tr>\n      <th>262</th>\n      <td>965160</td>\n      <td>24</td>\n      <td>train</td>\n      <td>19</td>\n      <td>0</td>\n      <td>16</td>\n      <td>0.0</td>\n      <td>NaN</td>\n      <td>-0.212963</td>\n      <td>0.0</td>\n      <td>...</td>\n      <td>0.388889</td>\n      <td>0.166667</td>\n      <td>1</td>\n      <td>1</td>\n      <td>264</td>\n      <td>-0.226219</td>\n      <td>1.0</td>\n      <td>-0.461538</td>\n      <td>-0.249742</td>\n      <td>1.0</td>\n    </tr>\n    <tr>\n      <th>356</th>\n      <td>2614670</td>\n      <td>27</td>\n      <td>train</td>\n      <td>82</td>\n      <td>5</td>\n      <td>14</td>\n      <td>4.0</td>\n      <td>NaN</td>\n      <td>-0.013008</td>\n      <td>0.0</td>\n      <td>...</td>\n      <td>0.090777</td>\n      <td>0.185185</td>\n      <td>0</td>\n      <td>17</td>\n      <td>359</td>\n      <td>-0.041619</td>\n      <td>1.0</td>\n      <td>0.010542</td>\n      <td>-0.006390</td>\n      <td>1.0</td>\n    </tr>\n    <tr>\n      <th>397</th>\n      <td>3110252</td>\n      <td>29</td>\n      <td>train</td>\n      <td>19</td>\n      <td>4</td>\n      <td>11</td>\n      <td>13.0</td>\n      <td>NaN</td>\n      <td>-0.215297</td>\n      <td>0.0</td>\n      <td>...</td>\n      <td>0.382353</td>\n      <td>0.111111</td>\n      <td>0</td>\n      <td>17</td>\n      <td>209</td>\n      <td>-0.191534</td>\n      <td>1.0</td>\n      <td>-0.396072</td>\n      <td>-0.206453</td>\n      <td>1.0</td>\n    </tr>\n    <tr>\n      <th>405</th>\n      <td>62370</td>\n      <td>30</td>\n      <td>train</td>\n      <td>9</td>\n      <td>2</td>\n      <td>13</td>\n      <td>22.0</td>\n      <td>NaN</td>\n      <td>-0.062500</td>\n      <td>0.0</td>\n      <td>...</td>\n      <td>0.125000</td>\n      <td>0.000000</td>\n      <td>0</td>\n      <td>1</td>\n      <td>173</td>\n      <td>-0.226219</td>\n      <td>1.0</td>\n      <td>-0.226010</td>\n      <td>-0.212121</td>\n      <td>1.0</td>\n    </tr>\n    <tr>\n      <th>435</th>\n      <td>698604</td>\n      <td>34</td>\n      <td>train</td>\n      <td>6</td>\n      <td>4</td>\n      <td>13</td>\n      <td>30.0</td>\n      <td>NaN</td>\n      <td>-0.078030</td>\n      <td>0.0</td>\n      <td>...</td>\n      <td>0.200000</td>\n      <td>0.000000</td>\n      <td>0</td>\n      <td>5</td>\n      <td>110</td>\n      <td>-0.047128</td>\n      <td>1.0</td>\n      <td>0.073458</td>\n      <td>-0.006678</td>\n      <td>1.0</td>\n    </tr>\n    <tr>\n      <th>502</th>\n      <td>1524161</td>\n      <td>37</td>\n      <td>train</td>\n      <td>24</td>\n      <td>0</td>\n      <td>13</td>\n      <td>16.0</td>\n      <td>NaN</td>\n      <td>-0.047790</td>\n      <td>0.0</td>\n      <td>...</td>\n      <td>0.076087</td>\n      <td>0.000000</td>\n      <td>1</td>\n      <td>12</td>\n      <td>311</td>\n      <td>-0.099346</td>\n      <td>1.0</td>\n      <td>-0.082124</td>\n      <td>-0.096497</td>\n      <td>1.0</td>\n    </tr>\n    <tr>\n      <th>514</th>\n      <td>3173750</td>\n      <td>38</td>\n      <td>train</td>\n      <td>13</td>\n      <td>0</td>\n      <td>9</td>\n      <td>30.0</td>\n      <td>NaN</td>\n      <td>-0.095927</td>\n      <td>0.0</td>\n      <td>...</td>\n      <td>0.162281</td>\n      <td>0.000000</td>\n      <td>1</td>\n      <td>19</td>\n      <td>261</td>\n      <td>-0.103802</td>\n      <td>1.0</td>\n      <td>-0.102646</td>\n      <td>-0.108817</td>\n      <td>1.0</td>\n    </tr>\n    <tr>\n      <th>533</th>\n      <td>2032076</td>\n      <td>41</td>\n      <td>train</td>\n      <td>6</td>\n      <td>0</td>\n      <td>20</td>\n      <td>30.0</td>\n      <td>NaN</td>\n      <td>-0.075312</td>\n      <td>0.0</td>\n      <td>...</td>\n      <td>0.133333</td>\n      <td>0.000000</td>\n      <td>1</td>\n      <td>15</td>\n      <td>133</td>\n      <td>-0.106627</td>\n      <td>1.0</td>\n      <td>-0.090137</td>\n      <td>-0.113983</td>\n      <td>1.0</td>\n    </tr>\n    <tr>\n      <th>549</th>\n      <td>2803975</td>\n      <td>42</td>\n      <td>train</td>\n      <td>17</td>\n      <td>0</td>\n      <td>11</td>\n      <td>14.0</td>\n      <td>NaN</td>\n      <td>-0.073976</td>\n      <td>0.0</td>\n      <td>...</td>\n      <td>0.196429</td>\n      <td>0.500000</td>\n      <td>1</td>\n      <td>7</td>\n      <td>222</td>\n      <td>-0.200416</td>\n      <td>1.0</td>\n      <td>-0.243000</td>\n      <td>-0.227072</td>\n      <td>1.0</td>\n    </tr>\n    <tr>\n      <th>560</th>\n      <td>1864787</td>\n      <td>43</td>\n      <td>train</td>\n      <td>12</td>\n      <td>5</td>\n      <td>11</td>\n      <td>26.0</td>\n      <td>NaN</td>\n      <td>-0.102659</td>\n      <td>0.0</td>\n      <td>...</td>\n      <td>0.148760</td>\n      <td>0.090909</td>\n      <td>0</td>\n      <td>33</td>\n      <td>130</td>\n      <td>-0.130417</td>\n      <td>1.0</td>\n      <td>-0.216115</td>\n      <td>-0.143427</td>\n      <td>1.0</td>\n    </tr>\n    <tr>\n      <th>563</th>\n      <td>2436259</td>\n      <td>44</td>\n      <td>train</td>\n      <td>4</td>\n      <td>0</td>\n      <td>12</td>\n      <td>30.0</td>\n      <td>NaN</td>\n      <td>0.000000</td>\n      <td>0.0</td>\n      <td>...</td>\n      <td>0.000000</td>\n      <td>0.000000</td>\n      <td>1</td>\n      <td>6</td>\n      <td>90</td>\n      <td>-0.135849</td>\n      <td>1.0</td>\n      <td>-0.369867</td>\n      <td>-0.182278</td>\n      <td>1.0</td>\n    </tr>\n    <tr>\n      <th>585</th>\n      <td>1947848</td>\n      <td>46</td>\n      <td>train</td>\n      <td>20</td>\n      <td>4</td>\n      <td>20</td>\n      <td>11.0</td>\n      <td>NaN</td>\n      <td>0.116328</td>\n      <td>1.0</td>\n      <td>...</td>\n      <td>0.359649</td>\n      <td>0.842105</td>\n      <td>0</td>\n      <td>6</td>\n      <td>330</td>\n      <td>-0.094117</td>\n      <td>1.0</td>\n      <td>-0.133070</td>\n      <td>-0.109685</td>\n      <td>1.0</td>\n    </tr>\n  </tbody>\n</table>\n<p>25 rows × 30 columns</p>\n</div>"
     },
     "execution_count": 69,
     "metadata": {},
     "output_type": "execute_result"
    }
   ],
   "source": [
    "orders_tip_test = data_manager.get_orders_tip_test().copy()\n",
    "orders_tip_test.head(25)"
   ],
   "metadata": {
    "collapsed": false,
    "ExecuteTime": {
     "end_time": "2024-06-21T12:08:20.998647700Z",
     "start_time": "2024-06-21T12:08:15.056433900Z"
    }
   },
   "id": "84aa0b5abcefe88b",
   "execution_count": 69
  },
  {
   "cell_type": "code",
   "outputs": [],
   "source": [
    "best_estimator = grid_search_clf.best_estimator_\n",
    "X_test = orders_tip_test[features]\n",
    "y_pred = best_estimator.predict(X_test)"
   ],
   "metadata": {
    "collapsed": false,
    "ExecuteTime": {
     "end_time": "2024-06-21T12:17:41.516281600Z",
     "start_time": "2024-06-21T12:17:41.462925900Z"
    }
   },
   "id": "a69ed0c6bb2d329e",
   "execution_count": 79
  },
  {
   "cell_type": "code",
   "outputs": [
    {
     "data": {
      "text/plain": "tip\nFalse    88741\nTrue     42468\nName: count, dtype: int64"
     },
     "execution_count": 80,
     "metadata": {},
     "output_type": "execute_result"
    }
   ],
   "source": [
    "orders_tip_test['tip'] = y_pred\n",
    "orders_tip_test['tip'].value_counts()"
   ],
   "metadata": {
    "collapsed": false,
    "ExecuteTime": {
     "end_time": "2024-06-21T12:17:47.362278500Z",
     "start_time": "2024-06-21T12:17:47.355943400Z"
    }
   },
   "id": "fd36c4eeb568c04a",
   "execution_count": 80
  },
  {
   "cell_type": "code",
   "outputs": [
    {
     "data": {
      "text/plain": "                 order_id    tip\n0            10   1187899  False\n1            25   1492625  False\n2            49   2196797   True\n3            74    525192  False\n4            78    880375  False\n...         ...       ...    ...\n131204  3420838   2585586   True\n131205  3420862    943915   True\n131206  3420924   2371631  False\n131207  3420933   1716008  False\n131208  3421082    272231  False\n\n[131209 rows x 3 columns]",
      "text/html": "<div>\n<style scoped>\n    .dataframe tbody tr th:only-of-type {\n        vertical-align: middle;\n    }\n\n    .dataframe tbody tr th {\n        vertical-align: top;\n    }\n\n    .dataframe thead th {\n        text-align: right;\n    }\n</style>\n<table border=\"1\" class=\"dataframe\">\n  <thead>\n    <tr style=\"text-align: right;\">\n      <th></th>\n      <th></th>\n      <th>order_id</th>\n      <th>tip</th>\n    </tr>\n  </thead>\n  <tbody>\n    <tr>\n      <th>0</th>\n      <td>10</td>\n      <td>1187899</td>\n      <td>False</td>\n    </tr>\n    <tr>\n      <th>1</th>\n      <td>25</td>\n      <td>1492625</td>\n      <td>False</td>\n    </tr>\n    <tr>\n      <th>2</th>\n      <td>49</td>\n      <td>2196797</td>\n      <td>True</td>\n    </tr>\n    <tr>\n      <th>3</th>\n      <td>74</td>\n      <td>525192</td>\n      <td>False</td>\n    </tr>\n    <tr>\n      <th>4</th>\n      <td>78</td>\n      <td>880375</td>\n      <td>False</td>\n    </tr>\n    <tr>\n      <th>...</th>\n      <td>...</td>\n      <td>...</td>\n      <td>...</td>\n    </tr>\n    <tr>\n      <th>131204</th>\n      <td>3420838</td>\n      <td>2585586</td>\n      <td>True</td>\n    </tr>\n    <tr>\n      <th>131205</th>\n      <td>3420862</td>\n      <td>943915</td>\n      <td>True</td>\n    </tr>\n    <tr>\n      <th>131206</th>\n      <td>3420924</td>\n      <td>2371631</td>\n      <td>False</td>\n    </tr>\n    <tr>\n      <th>131207</th>\n      <td>3420933</td>\n      <td>1716008</td>\n      <td>False</td>\n    </tr>\n    <tr>\n      <th>131208</th>\n      <td>3421082</td>\n      <td>272231</td>\n      <td>False</td>\n    </tr>\n  </tbody>\n</table>\n<p>131209 rows × 3 columns</p>\n</div>"
     },
     "execution_count": 75,
     "metadata": {},
     "output_type": "execute_result"
    }
   ],
   "source": [
    "orders_tip_test_csv = pd.merge(tip_test.drop('tip', axis=1), orders_tip_test[['order_id', 'tip']], on='order_id',\n",
    "                               how='left')\n",
    "orders_tip_test_csv.rename(columns={tip_test.columns[0]: ''}, inplace=True)\n",
    "orders_tip_test_csv"
   ],
   "metadata": {
    "collapsed": false,
    "ExecuteTime": {
     "end_time": "2024-06-21T12:13:31.846707600Z",
     "start_time": "2024-06-21T12:13:31.806548400Z"
    }
   },
   "id": "45c41fb0baa49b56",
   "execution_count": 75
  },
  {
   "cell_type": "code",
   "outputs": [],
   "source": [
    "# # Checks\n",
    "# print(f\"Number of orders: {len(orders_tip_test_csv)}\")\n",
    "# print(f\"Number of NaN tip values: {orders_tip_test_csv['tip'].isnull().sum()}\")\n",
    "# print(f\"Order IDs of template and result are equal: {tip_test['order_id'].equals(orders_tip_test_csv['order_id'])}\")\n",
    "# print(\n",
    "#     f\"Order IDs of prediction input and result are equal: {orders_tip_test['order_id'].reset_index(drop=True).equals(orders_tip_test_csv['order_id'])}\")"
   ],
   "metadata": {
    "collapsed": false,
    "ExecuteTime": {
     "end_time": "2024-06-21T12:13:42.676461Z",
     "start_time": "2024-06-21T12:13:42.672475900Z"
    }
   },
   "id": "2ac824e2c95ef01f",
   "execution_count": 76
  },
  {
   "cell_type": "code",
   "outputs": [],
   "source": [
    "orders_tip_test_csv.to_csv(os.path.join(DATA_DIR, 'submission.csv'), index=False)"
   ],
   "metadata": {
    "collapsed": false,
    "ExecuteTime": {
     "end_time": "2024-06-21T12:13:48.268110900Z",
     "start_time": "2024-06-21T12:13:48.145694300Z"
    }
   },
   "id": "db65af74bde4df1d",
   "execution_count": 77
  },
  {
   "cell_type": "code",
   "outputs": [],
   "source": [],
   "metadata": {
    "collapsed": false
   },
   "id": "2bfa820e286f0b07",
   "execution_count": null
  }
 ],
 "metadata": {
  "kernelspec": {
   "display_name": "Python 3 (ipykernel)",
   "language": "python",
   "name": "python3"
  },
  "language_info": {
   "codemirror_mode": {
    "name": "ipython",
    "version": 3
   },
   "file_extension": ".py",
   "mimetype": "text/x-python",
   "name": "python",
   "nbconvert_exporter": "python",
   "pygments_lexer": "ipython3",
   "version": "3.11.8"
  }
 },
 "nbformat": 4,
 "nbformat_minor": 5
}
