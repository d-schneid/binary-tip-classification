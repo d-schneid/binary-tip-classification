{
 "cells": [
  {
   "cell_type": "markdown",
   "id": "7aea19f30bc2952",
   "metadata": {
    "collapsed": false
   },
   "source": [
    "# Data Science Project SoSe 2024\n",
    "## Team 07\n",
    "- Maximilian Hoffmann\n",
    "- Kilian Kempf\n",
    "- Daniel Schneider\n",
    "- Tom Schuck\n",
    "\n",
    "## Project Submission"
   ]
  },
  {
   "cell_type": "markdown",
   "id": "b1817857eb895437",
   "metadata": {
    "collapsed": false
   },
   "source": [
    "### Data Initialization"
   ]
  },
  {
   "cell_type": "code",
   "id": "2ac69658072618d1",
   "metadata": {
    "collapsed": false,
    "ExecuteTime": {
     "end_time": "2024-06-17T15:40:22.429795Z",
     "start_time": "2024-06-17T15:39:55.993180Z"
    }
   },
   "source": [
    "import os\n",
    "\n",
    "import pandas as pd\n",
    "\n",
    "from data_management import DataManager\n",
    "\n",
    "DATA_DIR = os.path.join(os.getcwd(), 'data/Instacart')\n",
    "\n",
    "op_prior = pd.read_csv(os.path.join(DATA_DIR, 'order_products__prior.csv.zip'))\n",
    "op_train = pd.read_csv(os.path.join(DATA_DIR, 'order_products__train.csv.zip'))\n",
    "\n",
    "tip_train = pd.read_csv(os.path.join(DATA_DIR, 'tip_trainingsdaten1_.csv'))[['order_id', 'tip']]\n",
    "tip_test = pd.read_csv(os.path.join(DATA_DIR, 'tip_testdaten1_template.csv'))\n",
    "\n",
    "orders = pd.read_csv(os.path.join(DATA_DIR, 'orders.csv.zip'))\n",
    "aisles = pd.read_csv(os.path.join(DATA_DIR, 'aisles.csv.zip'))\n",
    "departments = pd.read_csv(os.path.join(DATA_DIR, 'departments.csv.zip'))\n",
    "products = pd.read_csv(os.path.join(DATA_DIR, 'products.csv.zip'))\n",
    "\n",
    "data_manager = DataManager(op_prior, op_train, tip_train, tip_test, orders, products, aisles, departments)\n",
    "order_amount = len(data_manager.get_orders_tip())"
   ],
   "outputs": [],
   "execution_count": 1
  },
  {
   "cell_type": "markdown",
   "id": "d11d62b342b9ebc8",
   "metadata": {
    "collapsed": false
   },
   "source": [
    "### Feature Engineering"
   ]
  },
  {
   "cell_type": "code",
   "source": [
    "from feature_engineering.static_features import TipHistory, ReorderedRatio, OrderSize, PrevTippedProductsRatio, \\\n",
    "    CustomerLifetime, PrevOrderTipped, OrderFrequency, SimOrdersTipRatio, AvgSizePrevOrders, MeanOrderedRate, \\\n",
    "    LastTipSequence, RelDaysSinceTip, DaysSinceTip, OrderNumberSquared, HodHighTipProbability, DowHighTipProbability, \\\n",
    "    ContainsAlcohol\n",
    "\n",
    "from feature_engineering.dynamic_features import ProductTipRate, DepartmentTipRate, AisleTipRate, DynamicFeatureTest1, \\\n",
    "    DynamicFeatureTest2, AssocRulesAisles, AssocRulesDepartments\n",
    "\n",
    "# Kilian\n",
    "tip_history = TipHistory()\n",
    "reordered_rate = ReorderedRatio()\n",
    "order_size = OrderSize()\n",
    "prev_tipped_products_ratio = PrevTippedProductsRatio()\n",
    "customer_lifetime = CustomerLifetime()\n",
    "prev_order_tipped = PrevOrderTipped()\n",
    "\n",
    "# Daniel\n",
    "order_frequency = OrderFrequency()\n",
    "mean_ordered_rate = MeanOrderedRate()\n",
    "rel_days_since_tip = RelDaysSinceTip()\n",
    "days_since_tip = DaysSinceTip()\n",
    "\n",
    "# Max\n",
    "sim_orders_tip_ratio = SimOrdersTipRatio()\n",
    "product_tip_rate = ProductTipRate()\n",
    "department_tip_rate = DepartmentTipRate()\n",
    "aisle_tip_rate = AisleTipRate()\n",
    "last_tip_sequence = LastTipSequence()\n",
    "\n",
    "# Tom\n",
    "avg_size_prev_orders = AvgSizePrevOrders()\n",
    "\n",
    "# Features analysis\n",
    "order_number_squared = OrderNumberSquared()\n",
    "hod_high_tip_probability = HodHighTipProbability()\n",
    "dow_high_tip_probability = DowHighTipProbability()\n",
    "contains_alcohol = ContainsAlcohol()\n",
    "\n",
    "assoc_rules_departments = AssocRulesDepartments()\n",
    "assoc_rules_aisles = AssocRulesAisles()\n",
    "\n",
    "# Test\n",
    "dynamic_feature_test_1 = DynamicFeatureTest1()\n",
    "dynamic_feature_test_2 = DynamicFeatureTest2()"
   ],
   "metadata": {
    "collapsed": false,
    "ExecuteTime": {
     "end_time": "2024-06-17T15:40:22.683058Z",
     "start_time": "2024-06-17T15:40:22.431293Z"
    }
   },
   "id": "17146b7392a9f170",
   "outputs": [],
   "execution_count": 2
  },
  {
   "cell_type": "code",
   "source": [
    "# Static Features\n",
    "data_manager.register_feature(tip_history)\n",
    "data_manager.register_feature(reordered_rate)\n",
    "data_manager.register_feature(order_size)\n",
    "data_manager.register_feature(customer_lifetime)\n",
    "data_manager.register_feature(prev_order_tipped)\n",
    "data_manager.register_feature(prev_tipped_products_ratio)\n",
    " \n",
    "data_manager.register_feature(order_frequency)\n",
    "data_manager.register_feature(sim_orders_tip_ratio)\n",
    "data_manager.register_feature(avg_size_prev_orders)\n",
    "data_manager.register_feature(mean_ordered_rate)\n",
    "data_manager.register_feature(last_tip_sequence)\n",
    "data_manager.register_feature(rel_days_since_tip)\n",
    "data_manager.register_feature(days_since_tip)\n",
    " \n",
    "data_manager.register_feature(order_number_squared)\n",
    "data_manager.register_feature(hod_high_tip_probability)\n",
    "data_manager.register_feature(dow_high_tip_probability)\n",
    "data_manager.register_feature(contains_alcohol)\n",
    "\n",
    "# Dynamic Features\n",
    "data_manager.register_feature(dynamic_feature_test_1)\n",
    "data_manager.register_feature(dynamic_feature_test_2)\n",
    "data_manager.register_feature(product_tip_rate)\n",
    "data_manager.register_feature(department_tip_rate)\n",
    "data_manager.register_feature(aisle_tip_rate)\n",
    "\n",
    "# data_manager.register_feature(assoc_rules_departments)\n",
    "# data_manager.register_feature(assoc_rules_aisles)"
   ],
   "metadata": {
    "collapsed": false,
    "ExecuteTime": {
     "end_time": "2024-06-17T15:40:22.686712Z",
     "start_time": "2024-06-17T15:40:22.683762Z"
    }
   },
   "id": "b081568c70f50d37",
   "outputs": [],
   "execution_count": 3
  },
  {
   "cell_type": "code",
   "source": "data_manager.compute_features()",
   "metadata": {
    "collapsed": false
   },
   "id": "edd5fa56155665d8",
   "outputs": [],
   "execution_count": null
  },
  {
   "cell_type": "code",
   "source": [
    "data_manager.get_orders_tip().head(100)"
   ],
   "metadata": {
    "collapsed": false
   },
   "id": "713f52be4f46812b",
   "outputs": [],
   "execution_count": null
  },
  {
   "cell_type": "code",
   "source": "# data_manager.export_features('data/prepared_data/computed_features.csv.zip', only_static=False)",
   "metadata": {
    "collapsed": false
   },
   "id": "4cb24eaddbbf3e23",
   "outputs": [],
   "execution_count": null
  },
  {
   "cell_type": "code",
   "source": "data_manager.import_features('data/prepared_data/computed_features.csv.zip', only_static=False)",
   "metadata": {
    "collapsed": false,
    "ExecuteTime": {
     "end_time": "2024-06-17T15:40:32.052735Z",
     "start_time": "2024-06-17T15:40:22.687241Z"
    }
   },
   "id": "f801c18938a6483d",
   "outputs": [],
   "execution_count": 4
  },
  {
   "cell_type": "code",
   "source": [
    "data_manager.calculate_feature_correlations(only_static=False)"
   ],
   "metadata": {
    "collapsed": false
   },
   "id": "90dbbca8f33581a9",
   "outputs": [],
   "execution_count": null
  },
  {
   "cell_type": "code",
   "source": "data_manager.visualize_feature_analysis(only_static=False)",
   "metadata": {
    "collapsed": false,
    "is_executing": true
   },
   "id": "9af74addae656cd5",
   "outputs": [],
   "execution_count": null
  },
  {
   "cell_type": "code",
   "source": [
    "# data_manager.get_orders_tip().head(100)"
   ],
   "metadata": {
    "collapsed": false
   },
   "id": "abf9dbc1e8a9df3e",
   "outputs": [],
   "execution_count": null
  },
  {
   "cell_type": "code",
   "source": [
    "# test = data_manager.get_orders_tip()"
   ],
   "metadata": {
    "collapsed": false
   },
   "id": "4755549fddba80dd",
   "outputs": [],
   "execution_count": null
  },
  {
   "cell_type": "code",
   "source": [
    "# print(f\"Number of orders: {len(data_manager.get_orders_tip())}\")\n",
    "# print(f\"Number of orders did not change: {order_amount == len(data_manager.get_orders_tip())}\\n\")\n",
    "# print(f\"Number of NaN or null values in each column:\\n{data_manager.get_orders_tip().isnull().sum()}\")"
   ],
   "metadata": {
    "collapsed": false
   },
   "id": "2cbc3e033b6867f9",
   "outputs": [],
   "execution_count": null
  },
  {
   "cell_type": "code",
   "source": [
    "# order_ids = data_manager.get_orders_tip(complete=True).groupby('user_id')['order_id'].head(5)\n",
    "# order_amount = len(order_ids)"
   ],
   "metadata": {
    "collapsed": false
   },
   "id": "60d0c1c2504cca88",
   "outputs": [],
   "execution_count": null
  },
  {
   "cell_type": "code",
   "source": [
    "# data_manager.set_subset(order_ids)"
   ],
   "metadata": {
    "collapsed": false
   },
   "id": "ea75a49725dbfdef",
   "outputs": [],
   "execution_count": null
  },
  {
   "cell_type": "code",
   "source": [
    "# data_manager.get_orders_tip().head(25)"
   ],
   "metadata": {
    "collapsed": false
   },
   "id": "ae96799844c48c55",
   "outputs": [],
   "execution_count": null
  },
  {
   "cell_type": "code",
   "source": [
    "# print(f\"Number of orders: {len(data_manager.get_orders_tip())}\")\n",
    "# print(f\"Number of orders did not change: {order_amount == len(data_manager.get_orders_tip())}\\n\")\n",
    "# print(f\"Number of NaN or null values in each column:\\n{data_manager.get_orders_tip().isnull().sum()}\")"
   ],
   "metadata": {
    "collapsed": false
   },
   "id": "b169956333c51c66",
   "outputs": [],
   "execution_count": null
  },
  {
   "cell_type": "code",
   "source": [
    "# order_ids = data_manager.get_orders_tip(complete=True).groupby('user_id')['order_id'].head(4)\n",
    "# order_amount = len(order_ids)\n",
    "# \n",
    "# data_manager.set_subset(order_ids)\n",
    "# data_manager.get_orders_tip().head(25)"
   ],
   "metadata": {
    "collapsed": false
   },
   "id": "6913eb1c1ef566e5",
   "outputs": [],
   "execution_count": null
  },
  {
   "cell_type": "code",
   "source": [
    "# print(f\"Number of orders: {len(data_manager.get_orders_tip())}\")\n",
    "# print(f\"Number of orders did not change: {order_amount == len(data_manager.get_orders_tip())}\\n\")\n",
    "# print(f\"Number of NaN or null values in each column:\\n{data_manager.get_orders_tip().isnull().sum()}\")"
   ],
   "metadata": {
    "collapsed": false
   },
   "id": "d0e728bc955477d5",
   "outputs": [],
   "execution_count": null
  },
  {
   "cell_type": "markdown",
   "source": [
    "### Analysis\n",
    "- Only orders from the training set (orders with tip information) are considered"
   ],
   "metadata": {
    "collapsed": false
   },
   "id": "890a24fdac60f10f"
  },
  {
   "cell_type": "code",
   "source": [
    "# from analysis import DayOfWeek, HourOfDay, DaysSincePriorOrder, OrderNumber, Department, Aisle, Product, GeneralAnalysis"
   ],
   "metadata": {
    "collapsed": false
   },
   "id": "b3473e1eda499005",
   "outputs": [],
   "execution_count": null
  },
  {
   "cell_type": "code",
   "source": [
    "# day_of_week = DayOfWeek(data_manager)\n",
    "# hour_of_day = HourOfDay(data_manager)\n",
    "# days_since_prior_order = DaysSincePriorOrder(data_manager)\n",
    "# order_number = OrderNumber(data_manager)\n",
    "# department = Department(data_manager)\n",
    "# aisle = Aisle(data_manager)\n",
    "# product = Product(data_manager)\n",
    "# number_order_user = NumberOrderUser(data_manager)\n",
    "# general_analysis = GeneralAnalysis(data_manager)"
   ],
   "metadata": {
    "collapsed": false
   },
   "id": "7daaf39fa303d999",
   "outputs": [],
   "execution_count": null
  },
  {
   "cell_type": "code",
   "source": [
    "# day_of_week.execute_analysis()"
   ],
   "metadata": {
    "collapsed": false
   },
   "id": "8d6acfe9affa74ac",
   "outputs": [],
   "execution_count": null
  },
  {
   "cell_type": "code",
   "source": [
    "# hour_of_day.execute_analysis()"
   ],
   "metadata": {
    "collapsed": false
   },
   "id": "e67096e50e036f03",
   "outputs": [],
   "execution_count": null
  },
  {
   "cell_type": "code",
   "source": [
    "# days_since_prior_order.execute_analysis()"
   ],
   "metadata": {
    "collapsed": false
   },
   "id": "6b45182a7355d13a",
   "outputs": [],
   "execution_count": null
  },
  {
   "cell_type": "code",
   "source": [
    "# order_number.execute_analysis()"
   ],
   "metadata": {
    "collapsed": false
   },
   "id": "77b59d5cd0325271",
   "outputs": [],
   "execution_count": null
  },
  {
   "cell_type": "code",
   "source": [
    "# department.execute_analysis()"
   ],
   "metadata": {
    "collapsed": false
   },
   "id": "12f092487e57cd43",
   "outputs": [],
   "execution_count": null
  },
  {
   "cell_type": "code",
   "source": [
    "# aisle.execute_analysis()"
   ],
   "metadata": {
    "collapsed": false
   },
   "id": "f4ab7f536a6dff50",
   "outputs": [],
   "execution_count": null
  },
  {
   "cell_type": "code",
   "source": [
    "# product.execute_analysis()"
   ],
   "metadata": {
    "collapsed": false
   },
   "id": "a7c3a3c4de6b4947",
   "outputs": [],
   "execution_count": null
  },
  {
   "cell_type": "code",
   "source": [
    "# number_order_user.execute_analysis()"
   ],
   "metadata": {
    "collapsed": false
   },
   "id": "7a6e209c6252f53c",
   "outputs": [],
   "execution_count": null
  },
  {
   "cell_type": "markdown",
   "source": [
    "### Data Preparation"
   ],
   "metadata": {
    "collapsed": false
   },
   "id": "bc83375ff21286d6"
  },
  {
   "cell_type": "code",
   "source": [
    "from feature_engineering.static_features import DowHighTipProbability, HodHighTipProbability, OrderNumberSquared, \\\n",
    "    ContainsAlcohol\n",
    "\n",
    "data_manager.register_feature(DowHighTipProbability())\n",
    "data_manager.register_feature(HodHighTipProbability())\n",
    "data_manager.register_feature(OrderNumberSquared())\n",
    "data_manager.register_feature(ContainsAlcohol())"
   ],
   "metadata": {
    "collapsed": false
   },
   "id": "11e6bf0945ffd97c",
   "outputs": [],
   "execution_count": null
  },
  {
   "cell_type": "code",
   "source": "data_manager.compute_features()",
   "metadata": {
    "collapsed": false
   },
   "id": "e10cbb0dea2b4bd2",
   "outputs": [],
   "execution_count": null
  },
  {
   "cell_type": "markdown",
   "source": [
    "### Model Training & Evaluation\n",
    "\n",
    "Order is important:\n",
    "- Remove first order of each user and assign the dataset for parameter tuning\n",
    "- Initialize cross-validation splitter\n",
    "- Export splits\n",
    "- Tune the parameters of the model with the dataset from 1."
   ],
   "metadata": {
    "collapsed": false
   },
   "id": "5ff7316768777ae9"
  },
  {
   "cell_type": "code",
   "source": [
    "from data_management.cross_validation import LastOrderUserTSCVSplitter"
   ],
   "metadata": {
    "collapsed": false,
    "ExecuteTime": {
     "end_time": "2024-06-17T15:40:32.078111Z",
     "start_time": "2024-06-17T15:40:32.054583Z"
    }
   },
   "id": "1b07129f5f10075b",
   "outputs": [],
   "execution_count": 5
  },
  {
   "cell_type": "code",
   "source": [
    "orders_tip = data_manager.get_orders_tip()\n",
    "orders_tip.shape"
   ],
   "metadata": {
    "collapsed": false,
    "ExecuteTime": {
     "end_time": "2024-06-17T15:40:32.081841Z",
     "start_time": "2024-06-17T15:40:32.078766Z"
    }
   },
   "id": "76a31c7a45354367",
   "outputs": [
    {
     "data": {
      "text/plain": [
       "(3346083, 30)"
      ]
     },
     "execution_count": 6,
     "metadata": {},
     "output_type": "execute_result"
    }
   ],
   "execution_count": 6
  },
  {
   "cell_type": "code",
   "source": [
    "data_manager.remove_first_orders()"
   ],
   "metadata": {
    "collapsed": false,
    "ExecuteTime": {
     "end_time": "2024-06-17T15:40:36.599624Z",
     "start_time": "2024-06-17T15:40:32.082486Z"
    }
   },
   "id": "3abe772f19ff578e",
   "outputs": [],
   "execution_count": 7
  },
  {
   "cell_type": "code",
   "source": [
    "orders_tip_train = data_manager.get_orders_tip_train().copy()\n",
    "orders_tip_train.shape"
   ],
   "metadata": {
    "collapsed": false,
    "ExecuteTime": {
     "end_time": "2024-06-17T15:40:36.982629Z",
     "start_time": "2024-06-17T15:40:36.600586Z"
    }
   },
   "id": "6e64a3e055952da4",
   "outputs": [
    {
     "data": {
      "text/plain": [
       "(3008665, 30)"
      ]
     },
     "execution_count": 8,
     "metadata": {},
     "output_type": "execute_result"
    }
   ],
   "execution_count": 8
  },
  {
   "cell_type": "code",
   "source": "# cv = KFold(n_splits=5, shuffle=True, random_state=42)",
   "metadata": {
    "collapsed": false,
    "ExecuteTime": {
     "end_time": "2024-06-17T15:40:36.984671Z",
     "start_time": "2024-06-17T15:40:36.983187Z"
    }
   },
   "id": "f9ee9c473fa4ae22",
   "outputs": [],
   "execution_count": 9
  },
  {
   "cell_type": "code",
   "source": [
    "last_order_user_tscv_splitter = LastOrderUserTSCVSplitter(data_manager, n_splits=5)"
   ],
   "metadata": {
    "collapsed": false,
    "ExecuteTime": {
     "end_time": "2024-06-17T15:40:37.570151Z",
     "start_time": "2024-06-17T15:40:36.985139Z"
    }
   },
   "id": "62c2c8a95be01e0a",
   "outputs": [],
   "execution_count": 10
  },
  {
   "cell_type": "code",
   "source": "splits = last_order_user_tscv_splitter.split(orders_tip_train)",
   "metadata": {
    "collapsed": false,
    "ExecuteTime": {
     "end_time": "2024-06-17T15:40:37.572412Z",
     "start_time": "2024-06-17T15:40:37.570871Z"
    }
   },
   "id": "198912d5a1185bdd",
   "outputs": [],
   "execution_count": 11
  },
  {
   "cell_type": "code",
   "source": [
    "folds = {}\n",
    "prev_test = 0\n",
    "for i, (train_index, test_index) in enumerate(splits):\n",
    "    print(f'Fold {i + 1}')\n",
    "    print(f'Train: {len(train_index)}')\n",
    "    print(f'Test: {len(test_index)}')\n",
    "    print(f'Orders: {len(orders_tip_train)}')\n",
    "    print(f'Sum equal: {(len(train_index) + len(test_index) + prev_test) == len(orders_tip_train)}')\n",
    "    print(f'Ratio: {len(test_index) / (len(train_index) + len(test_index))}')\n",
    "\n",
    "    train_orders = orders_tip_train.loc[train_index]\n",
    "    test_orders = orders_tip_train.loc[test_index]\n",
    "    current_fold = {\n",
    "        'train': train_orders,\n",
    "        'test': test_orders\n",
    "    }\n",
    "    folds[f'fold_{i}'] = current_fold\n",
    "    prev_test += len(test_index)"
   ],
   "metadata": {
    "collapsed": false
   },
   "id": "52a702707377b018",
   "outputs": [],
   "execution_count": null
  },
  {
   "cell_type": "code",
   "source": [
    "last_order_user_tscv_splitter.export_splits('data/prepared_data/')"
   ],
   "metadata": {
    "collapsed": false
   },
   "id": "4c6db90c4c28b854",
   "outputs": [],
   "execution_count": null
  },
  {
   "cell_type": "code",
   "source": [
    "# user_tscv_splitter = UserTSCVSplitter(data_manager, n_splits=5, validation_set_ratio=0.2, seed=42)"
   ],
   "metadata": {
    "collapsed": false
   },
   "id": "2fe2d3fba743b7ed",
   "outputs": [],
   "execution_count": null
  },
  {
   "cell_type": "code",
   "source": [
    "# splits = user_tscv_splitter.split(orders_tip_train)"
   ],
   "metadata": {
    "collapsed": false
   },
   "id": "cc9fb6503d82ee7d",
   "outputs": [],
   "execution_count": null
  },
  {
   "cell_type": "code",
   "source": [
    "# folds = {}\n",
    "# prev_test = 0\n",
    "# for i, (train_index, test_index) in enumerate(splits):\n",
    "#     print(f'Fold {i + 1}')\n",
    "#     print(f'Train: {len(train_index)}')\n",
    "#     print(f'Test: {len(test_index)}')\n",
    "#     print(f'Orders: {len(orders_tip_train)}')\n",
    "#     print(f'Sum equal: {(len(train_index) + len(test_index) + prev_test) == len(orders_tip_train)}')\n",
    "#     print(f'Ratio: {len(test_index) / (len(train_index) + len(test_index))}')\n",
    "# \n",
    "#     train_orders = orders_tip_train.loc[train_index]\n",
    "#     test_orders = orders_tip_train.loc[test_index]\n",
    "#     current_fold = {\n",
    "#         'train': train_orders,\n",
    "#         'test': test_orders\n",
    "#     }\n",
    "#     folds[f'fold_{i}'] = current_fold\n",
    "#     prev_test += len(test_index)"
   ],
   "metadata": {
    "collapsed": false
   },
   "id": "245bc99427923b66",
   "outputs": [],
   "execution_count": null
  },
  {
   "cell_type": "code",
   "source": [
    "# user_tscv_splitter.export_splits('data/prepared_data/')"
   ],
   "metadata": {
    "collapsed": false
   },
   "id": "8347f842806ffa12",
   "outputs": [],
   "execution_count": null
  },
  {
   "cell_type": "code",
   "source": [
    "# features = ['order_number', 'order_dow', 'order_hour_of_day', 'days_since_prior_order', 'order_size', 'tip_history',\n",
    "#             'dynamic_feature_test_1', 'dynamic_feature_test_2']\n",
    "#\n",
    "# prepared_splits_dict = user_tscv_splitter.import_splits('data/prepared_data/', features)"
   ],
   "metadata": {
    "collapsed": false
   },
   "id": "b2d8489062a2b76f",
   "outputs": [],
   "execution_count": null
  },
  {
   "cell_type": "code",
   "source": [
    "# features = ['order_number', 'order_dow', 'order_hour_of_day', 'days_since_prior_order', 'order_size', 'tip_history', 'customer_lifetime', 'reordered_ratio', 'hod_high_tip_probability', 'order_frequency', 'last_tip_sequence', 'avg_size_prev_orders', 'contains_alcohol', 'prev_order_tipped', 'dow_high_tip_probability', 'prev_tipped_products_ratio', 'order_number_squared', 'mean_ordered_rate', 'sim_orders_tip_ratio', 'aisle_tip_rate', 'dept_tip_rate', 'product_tip_rate']\n",
    "\n",
    "features = ['order_number', 'order_dow', 'order_hour_of_day', 'days_since_prior_order', 'tip_history', 'customer_lifetime', 'reordered_ratio', 'hod_high_tip_probability', 'order_frequency', 'last_tip_sequence', 'contains_alcohol', 'prev_order_tipped', 'dow_high_tip_probability', 'prev_tipped_products_ratio', 'sim_orders_tip_ratio', 'aisle_tip_rate', 'dept_tip_rate', 'product_tip_rate']\n",
    "\n",
    "# features = ['order_number', 'order_dow', 'order_hour_of_day', 'days_since_prior_order', 'order_size', 'tip_history']\n",
    "\n",
    "prepared_splits_dict = last_order_user_tscv_splitter.import_splits('data/prepared_data/', features)"
   ],
   "metadata": {
    "collapsed": false,
    "ExecuteTime": {
     "end_time": "2024-06-17T15:41:22.517881Z",
     "start_time": "2024-06-17T15:40:37.572969Z"
    }
   },
   "id": "57a5af1f4e9f4195",
   "outputs": [],
   "execution_count": 12
  },
  {
   "cell_type": "code",
   "source": [
    "from data_management import DatasetSelector\n",
    "from sklearn.pipeline import Pipeline\n",
    "from sklearn.tree import DecisionTreeClassifier\n",
    "from tempfile import mkdtemp\n",
    "from joblib import Memory"
   ],
   "metadata": {
    "collapsed": false,
    "ExecuteTime": {
     "end_time": "2024-06-17T15:41:23.328991Z",
     "start_time": "2024-06-17T15:41:22.518570Z"
    }
   },
   "id": "7e018af4cbe01681",
   "outputs": [],
   "execution_count": 13
  },
  {
   "metadata": {},
   "cell_type": "code",
   "source": [
    "# TODO: Add scaling & feature selection\n",
    "pipeline_steps = [('selector', DatasetSelector(prepared_splits_dict)),\n",
    "                  ('estimator', DecisionTreeClassifier())]\n",
    "\n",
    "cachedir = mkdtemp()\n",
    "memory = Memory(location=cachedir, verbose=0)\n",
    "\n",
    "pipeline = Pipeline(pipeline_steps, verbose=False, memory=memory)"
   ],
   "id": "d12055bcc8f6fd7f",
   "outputs": [],
   "execution_count": null
  },
  {
   "cell_type": "code",
   "source": [
    "from sklearn.model_selection import GridSearchCV\n",
    "\n",
    "param_grid = {\n",
    "    'estimator__criterion': ['entropy'],\n",
    "    'estimator__max_depth': [9, 10],\n",
    "    'estimator__min_samples_leaf': [256]\n",
    "}\n",
    "\n",
    "grid_search_clf = GridSearchCV(pipeline, param_grid, cv=last_order_user_tscv_splitter, scoring='accuracy', verbose=1,\n",
    "                               n_jobs=-1)"
   ],
   "metadata": {
    "collapsed": false
   },
   "id": "e14920bc06f85dfe",
   "outputs": [],
   "execution_count": null
  },
  {
   "cell_type": "code",
   "source": [
    "X = orders_tip_train[features]\n",
    "y = orders_tip_train['tip'].astype(bool)"
   ],
   "metadata": {
    "collapsed": false
   },
   "id": "58958635b45d6924",
   "outputs": [],
   "execution_count": null
  },
  {
   "cell_type": "code",
   "source": "X.head(25)",
   "metadata": {
    "collapsed": false
   },
   "id": "ac0903be63b47fb6",
   "outputs": [],
   "execution_count": null
  },
  {
   "cell_type": "code",
   "source": [
    "print(f'X shape: {X.shape}')\n",
    "print(f'y shape: {y.shape}')"
   ],
   "metadata": {
    "collapsed": false
   },
   "id": "41585ee3f811c68f",
   "outputs": [],
   "execution_count": null
  },
  {
   "cell_type": "code",
   "source": [
    "grid_search_clf.fit(X, y)"
   ],
   "metadata": {
    "collapsed": false
   },
   "id": "5c01e546b9703668",
   "outputs": [],
   "execution_count": null
  },
  {
   "metadata": {},
   "cell_type": "code",
   "source": "",
   "id": "e1f865888c8d7935",
   "outputs": [],
   "execution_count": null
  },
  {
   "metadata": {
    "ExecuteTime": {
     "end_time": "2024-06-17T15:41:23.348074Z",
     "start_time": "2024-06-17T15:41:23.331799Z"
    }
   },
   "cell_type": "code",
   "source": [
    "from sklearn.neural_network import MLPClassifier\n",
    "from sklearn.preprocessing import StandardScaler"
   ],
   "id": "a111631a0610ccb5",
   "outputs": [],
   "execution_count": 14
  },
  {
   "metadata": {
    "ExecuteTime": {
     "end_time": "2024-06-17T15:41:23.350500Z",
     "start_time": "2024-06-17T15:41:23.348702Z"
    }
   },
   "cell_type": "code",
   "source": [
    "pipeline_steps = [('selector', DatasetSelector(prepared_splits_dict)),\n",
    "                  ('scaler', StandardScaler()),\n",
    "                  ('mlp', MLPClassifier(max_iter=100))]\n",
    "\n",
    "# cachedir = mkdtemp()\n",
    "# memory = Memory(location=cachedir, verbose=0)\n",
    "\n",
    "# pipeline = Pipeline(pipeline_steps, verbose=False, memory=memory)\n",
    "pipeline = Pipeline(pipeline_steps, verbose=False)"
   ],
   "id": "4fdc65904c6949c5",
   "outputs": [],
   "execution_count": 15
  },
  {
   "metadata": {
    "ExecuteTime": {
     "end_time": "2024-06-17T15:41:23.353099Z",
     "start_time": "2024-06-17T15:41:23.351083Z"
    }
   },
   "cell_type": "code",
   "source": [
    "from sklearn.model_selection import GridSearchCV\n",
    "\n",
    "# param_grid = {\n",
    "#     'mlp__hidden_layer_sizes': [(5,), (10,), (5, 5)],\n",
    "#     'mlp__activation': ['relu', 'tanh'],\n",
    "#     'mlp__alpha': [0.0001, 0.001, 0.01],\n",
    "# }\n",
    "\n",
    "param_grid = {\n",
    "    'mlp__hidden_layer_sizes': [(15,)],\n",
    "    'mlp__activation': ['relu'],\n",
    "    'mlp__alpha': [0.01],\n",
    "}\n",
    "\n",
    "grid_search_clf = GridSearchCV(pipeline, param_grid, cv=last_order_user_tscv_splitter, scoring='accuracy', verbose=1, n_jobs=2)"
   ],
   "id": "1ca1fba326baf274",
   "outputs": [],
   "execution_count": 16
  },
  {
   "metadata": {
    "ExecuteTime": {
     "end_time": "2024-06-17T15:41:23.434495Z",
     "start_time": "2024-06-17T15:41:23.353709Z"
    }
   },
   "cell_type": "code",
   "source": [
    "X = orders_tip_train[features]\n",
    "y = orders_tip_train['tip'].astype(bool)"
   ],
   "id": "60b2e360cb139de2",
   "outputs": [],
   "execution_count": 17
  },
  {
   "metadata": {
    "ExecuteTime": {
     "end_time": "2024-06-17T15:41:23.436976Z",
     "start_time": "2024-06-17T15:41:23.435165Z"
    }
   },
   "cell_type": "code",
   "source": [
    "print(f'X shape: {X.shape}')\n",
    "print(f'y shape: {y.shape}')"
   ],
   "id": "d5b4a33b6507a31a",
   "outputs": [
    {
     "name": "stdout",
     "output_type": "stream",
     "text": [
      "X shape: (3008665, 18)\n",
      "y shape: (3008665,)\n"
     ]
    }
   ],
   "execution_count": 18
  },
  {
   "metadata": {
    "ExecuteTime": {
     "end_time": "2024-06-17T15:43:41.106860Z",
     "start_time": "2024-06-17T15:41:23.437726Z"
    }
   },
   "cell_type": "code",
   "source": "grid_search_clf.fit(X, y)",
   "id": "bb0fb0e01cca89cf",
   "outputs": [
    {
     "name": "stdout",
     "output_type": "stream",
     "text": [
      "Fitting 5 folds for each of 1 candidates, totalling 5 fits\n",
      "Transformation: (3008665, 18) -> (3008665, 18)\n"
     ]
    },
    {
     "data": {
      "text/plain": [
       "GridSearchCV(cv=LastOrderUserTSCVSplitter(data_manager=<data_management.data_manager.DataManager object at 0x1772f84d0>,\n",
       "                                          n_splits=5),\n",
       "             estimator=Pipeline(steps=[('selector',\n",
       "                                        DatasetSelector(prepared_splits_dict={-8070716829487604255:          order_number  order_dow  order_hour_of_day  days_since_prior_order  \\\n",
       "0                   2          3                  7                    15.0   \n",
       "1                   3          3                 12                    21.0   \n",
       "2                   4          4                  7                    29.0   \n",
       "3                   5          4                 15                    28.0   \n",
       "4                   6          2                  7                    19.0   \n",
       "...               ...        ...                ...                     ...   \n",
       "300865...\n",
       "...                ...               ...  \n",
       "3008655      -0.064174         -0.057342  \n",
       "3008656      -0.033737          0.028516  \n",
       "3008657      -0.037902         -0.016150  \n",
       "3008658      -0.083484         -0.109022  \n",
       "3008659      -0.064715         -0.072343  \n",
       "\n",
       "[2104923 rows x 18 columns]})),\n",
       "                                       ('scaler', StandardScaler()),\n",
       "                                       ('mlp', MLPClassifier(max_iter=100))]),\n",
       "             n_jobs=2,\n",
       "             param_grid={'mlp__activation': ['relu'], 'mlp__alpha': [0.01],\n",
       "                         'mlp__hidden_layer_sizes': [(15,)]},\n",
       "             scoring='accuracy', verbose=1)"
      ],
      "text/html": [
       "<style>#sk-container-id-1 {\n",
       "  /* Definition of color scheme common for light and dark mode */\n",
       "  --sklearn-color-text: black;\n",
       "  --sklearn-color-line: gray;\n",
       "  /* Definition of color scheme for unfitted estimators */\n",
       "  --sklearn-color-unfitted-level-0: #fff5e6;\n",
       "  --sklearn-color-unfitted-level-1: #f6e4d2;\n",
       "  --sklearn-color-unfitted-level-2: #ffe0b3;\n",
       "  --sklearn-color-unfitted-level-3: chocolate;\n",
       "  /* Definition of color scheme for fitted estimators */\n",
       "  --sklearn-color-fitted-level-0: #f0f8ff;\n",
       "  --sklearn-color-fitted-level-1: #d4ebff;\n",
       "  --sklearn-color-fitted-level-2: #b3dbfd;\n",
       "  --sklearn-color-fitted-level-3: cornflowerblue;\n",
       "\n",
       "  /* Specific color for light theme */\n",
       "  --sklearn-color-text-on-default-background: var(--sg-text-color, var(--theme-code-foreground, var(--jp-content-font-color1, black)));\n",
       "  --sklearn-color-background: var(--sg-background-color, var(--theme-background, var(--jp-layout-color0, white)));\n",
       "  --sklearn-color-border-box: var(--sg-text-color, var(--theme-code-foreground, var(--jp-content-font-color1, black)));\n",
       "  --sklearn-color-icon: #696969;\n",
       "\n",
       "  @media (prefers-color-scheme: dark) {\n",
       "    /* Redefinition of color scheme for dark theme */\n",
       "    --sklearn-color-text-on-default-background: var(--sg-text-color, var(--theme-code-foreground, var(--jp-content-font-color1, white)));\n",
       "    --sklearn-color-background: var(--sg-background-color, var(--theme-background, var(--jp-layout-color0, #111)));\n",
       "    --sklearn-color-border-box: var(--sg-text-color, var(--theme-code-foreground, var(--jp-content-font-color1, white)));\n",
       "    --sklearn-color-icon: #878787;\n",
       "  }\n",
       "}\n",
       "\n",
       "#sk-container-id-1 {\n",
       "  color: var(--sklearn-color-text);\n",
       "}\n",
       "\n",
       "#sk-container-id-1 pre {\n",
       "  padding: 0;\n",
       "}\n",
       "\n",
       "#sk-container-id-1 input.sk-hidden--visually {\n",
       "  border: 0;\n",
       "  clip: rect(1px 1px 1px 1px);\n",
       "  clip: rect(1px, 1px, 1px, 1px);\n",
       "  height: 1px;\n",
       "  margin: -1px;\n",
       "  overflow: hidden;\n",
       "  padding: 0;\n",
       "  position: absolute;\n",
       "  width: 1px;\n",
       "}\n",
       "\n",
       "#sk-container-id-1 div.sk-dashed-wrapped {\n",
       "  border: 1px dashed var(--sklearn-color-line);\n",
       "  margin: 0 0.4em 0.5em 0.4em;\n",
       "  box-sizing: border-box;\n",
       "  padding-bottom: 0.4em;\n",
       "  background-color: var(--sklearn-color-background);\n",
       "}\n",
       "\n",
       "#sk-container-id-1 div.sk-container {\n",
       "  /* jupyter's `normalize.less` sets `[hidden] { display: none; }`\n",
       "     but bootstrap.min.css set `[hidden] { display: none !important; }`\n",
       "     so we also need the `!important` here to be able to override the\n",
       "     default hidden behavior on the sphinx rendered scikit-learn.org.\n",
       "     See: https://github.com/scikit-learn/scikit-learn/issues/21755 */\n",
       "  display: inline-block !important;\n",
       "  position: relative;\n",
       "}\n",
       "\n",
       "#sk-container-id-1 div.sk-text-repr-fallback {\n",
       "  display: none;\n",
       "}\n",
       "\n",
       "div.sk-parallel-item,\n",
       "div.sk-serial,\n",
       "div.sk-item {\n",
       "  /* draw centered vertical line to link estimators */\n",
       "  background-image: linear-gradient(var(--sklearn-color-text-on-default-background), var(--sklearn-color-text-on-default-background));\n",
       "  background-size: 2px 100%;\n",
       "  background-repeat: no-repeat;\n",
       "  background-position: center center;\n",
       "}\n",
       "\n",
       "/* Parallel-specific style estimator block */\n",
       "\n",
       "#sk-container-id-1 div.sk-parallel-item::after {\n",
       "  content: \"\";\n",
       "  width: 100%;\n",
       "  border-bottom: 2px solid var(--sklearn-color-text-on-default-background);\n",
       "  flex-grow: 1;\n",
       "}\n",
       "\n",
       "#sk-container-id-1 div.sk-parallel {\n",
       "  display: flex;\n",
       "  align-items: stretch;\n",
       "  justify-content: center;\n",
       "  background-color: var(--sklearn-color-background);\n",
       "  position: relative;\n",
       "}\n",
       "\n",
       "#sk-container-id-1 div.sk-parallel-item {\n",
       "  display: flex;\n",
       "  flex-direction: column;\n",
       "}\n",
       "\n",
       "#sk-container-id-1 div.sk-parallel-item:first-child::after {\n",
       "  align-self: flex-end;\n",
       "  width: 50%;\n",
       "}\n",
       "\n",
       "#sk-container-id-1 div.sk-parallel-item:last-child::after {\n",
       "  align-self: flex-start;\n",
       "  width: 50%;\n",
       "}\n",
       "\n",
       "#sk-container-id-1 div.sk-parallel-item:only-child::after {\n",
       "  width: 0;\n",
       "}\n",
       "\n",
       "/* Serial-specific style estimator block */\n",
       "\n",
       "#sk-container-id-1 div.sk-serial {\n",
       "  display: flex;\n",
       "  flex-direction: column;\n",
       "  align-items: center;\n",
       "  background-color: var(--sklearn-color-background);\n",
       "  padding-right: 1em;\n",
       "  padding-left: 1em;\n",
       "}\n",
       "\n",
       "\n",
       "/* Toggleable style: style used for estimator/Pipeline/ColumnTransformer box that is\n",
       "clickable and can be expanded/collapsed.\n",
       "- Pipeline and ColumnTransformer use this feature and define the default style\n",
       "- Estimators will overwrite some part of the style using the `sk-estimator` class\n",
       "*/\n",
       "\n",
       "/* Pipeline and ColumnTransformer style (default) */\n",
       "\n",
       "#sk-container-id-1 div.sk-toggleable {\n",
       "  /* Default theme specific background. It is overwritten whether we have a\n",
       "  specific estimator or a Pipeline/ColumnTransformer */\n",
       "  background-color: var(--sklearn-color-background);\n",
       "}\n",
       "\n",
       "/* Toggleable label */\n",
       "#sk-container-id-1 label.sk-toggleable__label {\n",
       "  cursor: pointer;\n",
       "  display: block;\n",
       "  width: 100%;\n",
       "  margin-bottom: 0;\n",
       "  padding: 0.5em;\n",
       "  box-sizing: border-box;\n",
       "  text-align: center;\n",
       "}\n",
       "\n",
       "#sk-container-id-1 label.sk-toggleable__label-arrow:before {\n",
       "  /* Arrow on the left of the label */\n",
       "  content: \"▸\";\n",
       "  float: left;\n",
       "  margin-right: 0.25em;\n",
       "  color: var(--sklearn-color-icon);\n",
       "}\n",
       "\n",
       "#sk-container-id-1 label.sk-toggleable__label-arrow:hover:before {\n",
       "  color: var(--sklearn-color-text);\n",
       "}\n",
       "\n",
       "/* Toggleable content - dropdown */\n",
       "\n",
       "#sk-container-id-1 div.sk-toggleable__content {\n",
       "  max-height: 0;\n",
       "  max-width: 0;\n",
       "  overflow: hidden;\n",
       "  text-align: left;\n",
       "  /* unfitted */\n",
       "  background-color: var(--sklearn-color-unfitted-level-0);\n",
       "}\n",
       "\n",
       "#sk-container-id-1 div.sk-toggleable__content.fitted {\n",
       "  /* fitted */\n",
       "  background-color: var(--sklearn-color-fitted-level-0);\n",
       "}\n",
       "\n",
       "#sk-container-id-1 div.sk-toggleable__content pre {\n",
       "  margin: 0.2em;\n",
       "  border-radius: 0.25em;\n",
       "  color: var(--sklearn-color-text);\n",
       "  /* unfitted */\n",
       "  background-color: var(--sklearn-color-unfitted-level-0);\n",
       "}\n",
       "\n",
       "#sk-container-id-1 div.sk-toggleable__content.fitted pre {\n",
       "  /* unfitted */\n",
       "  background-color: var(--sklearn-color-fitted-level-0);\n",
       "}\n",
       "\n",
       "#sk-container-id-1 input.sk-toggleable__control:checked~div.sk-toggleable__content {\n",
       "  /* Expand drop-down */\n",
       "  max-height: 200px;\n",
       "  max-width: 100%;\n",
       "  overflow: auto;\n",
       "}\n",
       "\n",
       "#sk-container-id-1 input.sk-toggleable__control:checked~label.sk-toggleable__label-arrow:before {\n",
       "  content: \"▾\";\n",
       "}\n",
       "\n",
       "/* Pipeline/ColumnTransformer-specific style */\n",
       "\n",
       "#sk-container-id-1 div.sk-label input.sk-toggleable__control:checked~label.sk-toggleable__label {\n",
       "  color: var(--sklearn-color-text);\n",
       "  background-color: var(--sklearn-color-unfitted-level-2);\n",
       "}\n",
       "\n",
       "#sk-container-id-1 div.sk-label.fitted input.sk-toggleable__control:checked~label.sk-toggleable__label {\n",
       "  background-color: var(--sklearn-color-fitted-level-2);\n",
       "}\n",
       "\n",
       "/* Estimator-specific style */\n",
       "\n",
       "/* Colorize estimator box */\n",
       "#sk-container-id-1 div.sk-estimator input.sk-toggleable__control:checked~label.sk-toggleable__label {\n",
       "  /* unfitted */\n",
       "  background-color: var(--sklearn-color-unfitted-level-2);\n",
       "}\n",
       "\n",
       "#sk-container-id-1 div.sk-estimator.fitted input.sk-toggleable__control:checked~label.sk-toggleable__label {\n",
       "  /* fitted */\n",
       "  background-color: var(--sklearn-color-fitted-level-2);\n",
       "}\n",
       "\n",
       "#sk-container-id-1 div.sk-label label.sk-toggleable__label,\n",
       "#sk-container-id-1 div.sk-label label {\n",
       "  /* The background is the default theme color */\n",
       "  color: var(--sklearn-color-text-on-default-background);\n",
       "}\n",
       "\n",
       "/* On hover, darken the color of the background */\n",
       "#sk-container-id-1 div.sk-label:hover label.sk-toggleable__label {\n",
       "  color: var(--sklearn-color-text);\n",
       "  background-color: var(--sklearn-color-unfitted-level-2);\n",
       "}\n",
       "\n",
       "/* Label box, darken color on hover, fitted */\n",
       "#sk-container-id-1 div.sk-label.fitted:hover label.sk-toggleable__label.fitted {\n",
       "  color: var(--sklearn-color-text);\n",
       "  background-color: var(--sklearn-color-fitted-level-2);\n",
       "}\n",
       "\n",
       "/* Estimator label */\n",
       "\n",
       "#sk-container-id-1 div.sk-label label {\n",
       "  font-family: monospace;\n",
       "  font-weight: bold;\n",
       "  display: inline-block;\n",
       "  line-height: 1.2em;\n",
       "}\n",
       "\n",
       "#sk-container-id-1 div.sk-label-container {\n",
       "  text-align: center;\n",
       "}\n",
       "\n",
       "/* Estimator-specific */\n",
       "#sk-container-id-1 div.sk-estimator {\n",
       "  font-family: monospace;\n",
       "  border: 1px dotted var(--sklearn-color-border-box);\n",
       "  border-radius: 0.25em;\n",
       "  box-sizing: border-box;\n",
       "  margin-bottom: 0.5em;\n",
       "  /* unfitted */\n",
       "  background-color: var(--sklearn-color-unfitted-level-0);\n",
       "}\n",
       "\n",
       "#sk-container-id-1 div.sk-estimator.fitted {\n",
       "  /* fitted */\n",
       "  background-color: var(--sklearn-color-fitted-level-0);\n",
       "}\n",
       "\n",
       "/* on hover */\n",
       "#sk-container-id-1 div.sk-estimator:hover {\n",
       "  /* unfitted */\n",
       "  background-color: var(--sklearn-color-unfitted-level-2);\n",
       "}\n",
       "\n",
       "#sk-container-id-1 div.sk-estimator.fitted:hover {\n",
       "  /* fitted */\n",
       "  background-color: var(--sklearn-color-fitted-level-2);\n",
       "}\n",
       "\n",
       "/* Specification for estimator info (e.g. \"i\" and \"?\") */\n",
       "\n",
       "/* Common style for \"i\" and \"?\" */\n",
       "\n",
       ".sk-estimator-doc-link,\n",
       "a:link.sk-estimator-doc-link,\n",
       "a:visited.sk-estimator-doc-link {\n",
       "  float: right;\n",
       "  font-size: smaller;\n",
       "  line-height: 1em;\n",
       "  font-family: monospace;\n",
       "  background-color: var(--sklearn-color-background);\n",
       "  border-radius: 1em;\n",
       "  height: 1em;\n",
       "  width: 1em;\n",
       "  text-decoration: none !important;\n",
       "  margin-left: 1ex;\n",
       "  /* unfitted */\n",
       "  border: var(--sklearn-color-unfitted-level-1) 1pt solid;\n",
       "  color: var(--sklearn-color-unfitted-level-1);\n",
       "}\n",
       "\n",
       ".sk-estimator-doc-link.fitted,\n",
       "a:link.sk-estimator-doc-link.fitted,\n",
       "a:visited.sk-estimator-doc-link.fitted {\n",
       "  /* fitted */\n",
       "  border: var(--sklearn-color-fitted-level-1) 1pt solid;\n",
       "  color: var(--sklearn-color-fitted-level-1);\n",
       "}\n",
       "\n",
       "/* On hover */\n",
       "div.sk-estimator:hover .sk-estimator-doc-link:hover,\n",
       ".sk-estimator-doc-link:hover,\n",
       "div.sk-label-container:hover .sk-estimator-doc-link:hover,\n",
       ".sk-estimator-doc-link:hover {\n",
       "  /* unfitted */\n",
       "  background-color: var(--sklearn-color-unfitted-level-3);\n",
       "  color: var(--sklearn-color-background);\n",
       "  text-decoration: none;\n",
       "}\n",
       "\n",
       "div.sk-estimator.fitted:hover .sk-estimator-doc-link.fitted:hover,\n",
       ".sk-estimator-doc-link.fitted:hover,\n",
       "div.sk-label-container:hover .sk-estimator-doc-link.fitted:hover,\n",
       ".sk-estimator-doc-link.fitted:hover {\n",
       "  /* fitted */\n",
       "  background-color: var(--sklearn-color-fitted-level-3);\n",
       "  color: var(--sklearn-color-background);\n",
       "  text-decoration: none;\n",
       "}\n",
       "\n",
       "/* Span, style for the box shown on hovering the info icon */\n",
       ".sk-estimator-doc-link span {\n",
       "  display: none;\n",
       "  z-index: 9999;\n",
       "  position: relative;\n",
       "  font-weight: normal;\n",
       "  right: .2ex;\n",
       "  padding: .5ex;\n",
       "  margin: .5ex;\n",
       "  width: min-content;\n",
       "  min-width: 20ex;\n",
       "  max-width: 50ex;\n",
       "  color: var(--sklearn-color-text);\n",
       "  box-shadow: 2pt 2pt 4pt #999;\n",
       "  /* unfitted */\n",
       "  background: var(--sklearn-color-unfitted-level-0);\n",
       "  border: .5pt solid var(--sklearn-color-unfitted-level-3);\n",
       "}\n",
       "\n",
       ".sk-estimator-doc-link.fitted span {\n",
       "  /* fitted */\n",
       "  background: var(--sklearn-color-fitted-level-0);\n",
       "  border: var(--sklearn-color-fitted-level-3);\n",
       "}\n",
       "\n",
       ".sk-estimator-doc-link:hover span {\n",
       "  display: block;\n",
       "}\n",
       "\n",
       "/* \"?\"-specific style due to the `<a>` HTML tag */\n",
       "\n",
       "#sk-container-id-1 a.estimator_doc_link {\n",
       "  float: right;\n",
       "  font-size: 1rem;\n",
       "  line-height: 1em;\n",
       "  font-family: monospace;\n",
       "  background-color: var(--sklearn-color-background);\n",
       "  border-radius: 1rem;\n",
       "  height: 1rem;\n",
       "  width: 1rem;\n",
       "  text-decoration: none;\n",
       "  /* unfitted */\n",
       "  color: var(--sklearn-color-unfitted-level-1);\n",
       "  border: var(--sklearn-color-unfitted-level-1) 1pt solid;\n",
       "}\n",
       "\n",
       "#sk-container-id-1 a.estimator_doc_link.fitted {\n",
       "  /* fitted */\n",
       "  border: var(--sklearn-color-fitted-level-1) 1pt solid;\n",
       "  color: var(--sklearn-color-fitted-level-1);\n",
       "}\n",
       "\n",
       "/* On hover */\n",
       "#sk-container-id-1 a.estimator_doc_link:hover {\n",
       "  /* unfitted */\n",
       "  background-color: var(--sklearn-color-unfitted-level-3);\n",
       "  color: var(--sklearn-color-background);\n",
       "  text-decoration: none;\n",
       "}\n",
       "\n",
       "#sk-container-id-1 a.estimator_doc_link.fitted:hover {\n",
       "  /* fitted */\n",
       "  background-color: var(--sklearn-color-fitted-level-3);\n",
       "}\n",
       "</style><div id=\"sk-container-id-1\" class=\"sk-top-container\"><div class=\"sk-text-repr-fallback\"><pre>GridSearchCV(cv=LastOrderUserTSCVSplitter(data_manager=&lt;data_management.data_manager.DataManager object at 0x1772f84d0&gt;,\n",
       "                                          n_splits=5),\n",
       "             estimator=Pipeline(steps=[(&#x27;selector&#x27;,\n",
       "                                        DatasetSelector(prepared_splits_dict={-8070716829487604255:          order_number  order_dow  order_hour_of_day  days_since_prior_order  \\\n",
       "0                   2          3                  7                    15.0   \n",
       "1                   3          3                 12                    21.0   \n",
       "2                   4          4                  7                    29.0   \n",
       "3                   5          4                 15                    28.0   \n",
       "4                   6          2                  7                    19.0   \n",
       "...               ...        ...                ...                     ...   \n",
       "300865...\n",
       "...                ...               ...  \n",
       "3008655      -0.064174         -0.057342  \n",
       "3008656      -0.033737          0.028516  \n",
       "3008657      -0.037902         -0.016150  \n",
       "3008658      -0.083484         -0.109022  \n",
       "3008659      -0.064715         -0.072343  \n",
       "\n",
       "[2104923 rows x 18 columns]})),\n",
       "                                       (&#x27;scaler&#x27;, StandardScaler()),\n",
       "                                       (&#x27;mlp&#x27;, MLPClassifier(max_iter=100))]),\n",
       "             n_jobs=2,\n",
       "             param_grid={&#x27;mlp__activation&#x27;: [&#x27;relu&#x27;], &#x27;mlp__alpha&#x27;: [0.01],\n",
       "                         &#x27;mlp__hidden_layer_sizes&#x27;: [(15,)]},\n",
       "             scoring=&#x27;accuracy&#x27;, verbose=1)</pre><b>In a Jupyter environment, please rerun this cell to show the HTML representation or trust the notebook. <br />On GitHub, the HTML representation is unable to render, please try loading this page with nbviewer.org.</b></div><div class=\"sk-container\" hidden><div class=\"sk-item sk-dashed-wrapped\"><div class=\"sk-label-container\"><div class=\"sk-label fitted sk-toggleable\"><input class=\"sk-toggleable__control sk-hidden--visually\" id=\"sk-estimator-id-1\" type=\"checkbox\" ><label for=\"sk-estimator-id-1\" class=\"sk-toggleable__label fitted sk-toggleable__label-arrow fitted\">&nbsp;&nbsp;GridSearchCV<a class=\"sk-estimator-doc-link fitted\" rel=\"noreferrer\" target=\"_blank\" href=\"https://scikit-learn.org/1.4/modules/generated/sklearn.model_selection.GridSearchCV.html\">?<span>Documentation for GridSearchCV</span></a><span class=\"sk-estimator-doc-link fitted\">i<span>Fitted</span></span></label><div class=\"sk-toggleable__content fitted\"><pre>GridSearchCV(cv=LastOrderUserTSCVSplitter(data_manager=&lt;data_management.data_manager.DataManager object at 0x1772f84d0&gt;,\n",
       "                                          n_splits=5),\n",
       "             estimator=Pipeline(steps=[(&#x27;selector&#x27;,\n",
       "                                        DatasetSelector(prepared_splits_dict={-8070716829487604255:          order_number  order_dow  order_hour_of_day  days_since_prior_order  \\\n",
       "0                   2          3                  7                    15.0   \n",
       "1                   3          3                 12                    21.0   \n",
       "2                   4          4                  7                    29.0   \n",
       "3                   5          4                 15                    28.0   \n",
       "4                   6          2                  7                    19.0   \n",
       "...               ...        ...                ...                     ...   \n",
       "300865...\n",
       "...                ...               ...  \n",
       "3008655      -0.064174         -0.057342  \n",
       "3008656      -0.033737          0.028516  \n",
       "3008657      -0.037902         -0.016150  \n",
       "3008658      -0.083484         -0.109022  \n",
       "3008659      -0.064715         -0.072343  \n",
       "\n",
       "[2104923 rows x 18 columns]})),\n",
       "                                       (&#x27;scaler&#x27;, StandardScaler()),\n",
       "                                       (&#x27;mlp&#x27;, MLPClassifier(max_iter=100))]),\n",
       "             n_jobs=2,\n",
       "             param_grid={&#x27;mlp__activation&#x27;: [&#x27;relu&#x27;], &#x27;mlp__alpha&#x27;: [0.01],\n",
       "                         &#x27;mlp__hidden_layer_sizes&#x27;: [(15,)]},\n",
       "             scoring=&#x27;accuracy&#x27;, verbose=1)</pre></div> </div></div><div class=\"sk-parallel\"><div class=\"sk-parallel-item\"><div class=\"sk-item\"><div class=\"sk-label-container\"><div class=\"sk-label fitted sk-toggleable\"><input class=\"sk-toggleable__control sk-hidden--visually\" id=\"sk-estimator-id-2\" type=\"checkbox\" ><label for=\"sk-estimator-id-2\" class=\"sk-toggleable__label fitted sk-toggleable__label-arrow fitted\">estimator: Pipeline</label><div class=\"sk-toggleable__content fitted\"><pre>Pipeline(steps=[(&#x27;selector&#x27;,\n",
       "                 DatasetSelector(prepared_splits_dict={-8070716829487604255:          order_number  order_dow  order_hour_of_day  days_since_prior_order  \\\n",
       "0                   2          3                  7                    15.0   \n",
       "1                   3          3                 12                    21.0   \n",
       "2                   4          4                  7                    29.0   \n",
       "3                   5          4                 15                    28.0   \n",
       "4                   6          2                  7                    19.0   \n",
       "...               ...        ...                ...                     ...   \n",
       "3008656             5          4                 15                     3.0   \n",
       "3008657             6          0                 16                     3.0   \n",
       "3008658             7          2                 13                     9.0   \n",
       "3008659             8          3                 17                    22.0   \n",
       "3008660             9          4                 15                    22.0   \n",
       "\n",
       "         tip_history  customer_lifetime  reordered_ratio  \\\n",
       "0           0.000000                 15            0.500   \n",
       "1           0.000000                 36            0....\n",
       "3008659                    0.166667             -0.075315       -0.056231   \n",
       "\n",
       "         dept_tip_rate  product_tip_rate  \n",
       "0            -0.068045         -0.048915  \n",
       "1            -0.093229         -0.066269  \n",
       "2            -0.074208         -0.113540  \n",
       "3            -0.032173          0.006456  \n",
       "9            -0.031424         -0.037953  \n",
       "...                ...               ...  \n",
       "3008655      -0.064174         -0.057342  \n",
       "3008656      -0.033737          0.028516  \n",
       "3008657      -0.037902         -0.016150  \n",
       "3008658      -0.083484         -0.109022  \n",
       "3008659      -0.064715         -0.072343  \n",
       "\n",
       "[2104923 rows x 18 columns]})),\n",
       "                (&#x27;scaler&#x27;, StandardScaler()),\n",
       "                (&#x27;mlp&#x27;, MLPClassifier(max_iter=100))])</pre></div> </div></div><div class=\"sk-serial\"><div class=\"sk-item\"><div class=\"sk-serial\"><div class=\"sk-item\"><div class=\"sk-estimator fitted sk-toggleable\"><input class=\"sk-toggleable__control sk-hidden--visually\" id=\"sk-estimator-id-3\" type=\"checkbox\" ><label for=\"sk-estimator-id-3\" class=\"sk-toggleable__label fitted sk-toggleable__label-arrow fitted\">DatasetSelector</label><div class=\"sk-toggleable__content fitted\"><pre>DatasetSelector(prepared_splits_dict={-8070716829487604255:          order_number  order_dow  order_hour_of_day  days_since_prior_order  \\\n",
       "0                   2          3                  7                    15.0   \n",
       "1                   3          3                 12                    21.0   \n",
       "2                   4          4                  7                    29.0   \n",
       "3                   5          4                 15                    28.0   \n",
       "4                   6          2                  7                    19.0   \n",
       "...               ...        ...                ...                     ...   \n",
       "3008656             5          4                 15                     3.0   \n",
       "3008657             6          0                 16                     3.0   \n",
       "3008658             7          2                 13                     9.0   \n",
       "3008659             8          3                 17                    22.0   \n",
       "3008660             9          4                 15                    22.0   \n",
       "\n",
       "         tip_history  customer_lifetime  reordered_ratio  \\\n",
       "0           0.000000                 15            0.500   \n",
       "1           0.000000                 36            0.600   \n",
       "2           0.000000                 65            1.000   \n",
       "3           0.000000...\n",
       "3008657                    0.500000              0.020000       -0.038390   \n",
       "3008658                    0.200000             -0.047728       -0.089270   \n",
       "3008659                    0.166667             -0.075315       -0.056231   \n",
       "\n",
       "         dept_tip_rate  product_tip_rate  \n",
       "0            -0.068045         -0.048915  \n",
       "1            -0.093229         -0.066269  \n",
       "2            -0.074208         -0.113540  \n",
       "3            -0.032173          0.006456  \n",
       "9            -0.031424         -0.037953  \n",
       "...                ...               ...  \n",
       "3008655      -0.064174         -0.057342  \n",
       "3008656      -0.033737          0.028516  \n",
       "3008657      -0.037902         -0.016150  \n",
       "3008658      -0.083484         -0.109022  \n",
       "3008659      -0.064715         -0.072343  \n",
       "\n",
       "[2104923 rows x 18 columns]})</pre></div> </div></div><div class=\"sk-item\"><div class=\"sk-estimator fitted sk-toggleable\"><input class=\"sk-toggleable__control sk-hidden--visually\" id=\"sk-estimator-id-4\" type=\"checkbox\" ><label for=\"sk-estimator-id-4\" class=\"sk-toggleable__label fitted sk-toggleable__label-arrow fitted\">&nbsp;StandardScaler<a class=\"sk-estimator-doc-link fitted\" rel=\"noreferrer\" target=\"_blank\" href=\"https://scikit-learn.org/1.4/modules/generated/sklearn.preprocessing.StandardScaler.html\">?<span>Documentation for StandardScaler</span></a></label><div class=\"sk-toggleable__content fitted\"><pre>StandardScaler()</pre></div> </div></div><div class=\"sk-item\"><div class=\"sk-estimator fitted sk-toggleable\"><input class=\"sk-toggleable__control sk-hidden--visually\" id=\"sk-estimator-id-5\" type=\"checkbox\" ><label for=\"sk-estimator-id-5\" class=\"sk-toggleable__label fitted sk-toggleable__label-arrow fitted\">&nbsp;MLPClassifier<a class=\"sk-estimator-doc-link fitted\" rel=\"noreferrer\" target=\"_blank\" href=\"https://scikit-learn.org/1.4/modules/generated/sklearn.neural_network.MLPClassifier.html\">?<span>Documentation for MLPClassifier</span></a></label><div class=\"sk-toggleable__content fitted\"><pre>MLPClassifier(max_iter=100)</pre></div> </div></div></div></div></div></div></div></div></div></div></div>"
      ]
     },
     "execution_count": 19,
     "metadata": {},
     "output_type": "execute_result"
    }
   ],
   "execution_count": 19
  },
  {
   "metadata": {},
   "cell_type": "code",
   "source": "",
   "id": "1b56f2e6e77ca8e6",
   "outputs": [],
   "execution_count": null
  },
  {
   "metadata": {},
   "cell_type": "code",
   "source": [
    "from xgboost import XGBClassifier\n",
    "from sklearn.model_selection import GridSearchCV"
   ],
   "id": "6179014d1f33886f",
   "outputs": [],
   "execution_count": null
  },
  {
   "metadata": {},
   "cell_type": "code",
   "source": [
    "pipeline_steps = [('selector', DatasetSelector(prepared_splits_dict)),\n",
    "                  ('scaler', StandardScaler()),\n",
    "                  ('xgb', XGBClassifier(use_label_encoder=False, eval_metric='logloss'))]\n",
    "\n",
    "pipeline = Pipeline(pipeline_steps, verbose=False)\n",
    "\n",
    "# param_grid = {\n",
    "#     'xgb__n_estimators': [30, 100],\n",
    "#     'xgb__max_depth': [5, 10],\n",
    "#     'xgb__learning_rate': [0.01, 0.1],\n",
    "#     'xgb__subsample': [0.4, 0.6, 0.8]\n",
    "# }\n",
    "\n",
    "param_grid = {\n",
    "    'xgb__learning_rate': [0.1],\n",
    "    'xgb__max_depth': [5],\n",
    "    'xgb__n_estimators': [100],\n",
    "    'xgb__subsample': [0.6]\n",
    "}"
   ],
   "id": "be417b657dcf80d9",
   "outputs": [],
   "execution_count": null
  },
  {
   "metadata": {},
   "cell_type": "code",
   "source": "grid_search_clf = GridSearchCV(pipeline, param_grid, cv=last_order_user_tscv_splitter, scoring='accuracy', verbose=1, n_jobs=2)",
   "id": "77d7888737c7431d",
   "outputs": [],
   "execution_count": null
  },
  {
   "metadata": {},
   "cell_type": "code",
   "source": [
    "X = orders_tip_train[features]\n",
    "y = orders_tip_train['tip'].astype(bool)\n",
    "\n",
    "print(f'X shape: {X.shape}')\n",
    "print(f'y shape: {y.shape}')"
   ],
   "id": "18599a26fb9c29bf",
   "outputs": [],
   "execution_count": null
  },
  {
   "metadata": {},
   "cell_type": "code",
   "source": "grid_search_clf.fit(X, y)",
   "id": "b53460ffa2f900d0",
   "outputs": [],
   "execution_count": null
  },
  {
   "metadata": {},
   "cell_type": "code",
   "source": "",
   "id": "ce7ce916cd078898",
   "outputs": [],
   "execution_count": null
  },
  {
   "metadata": {
    "ExecuteTime": {
     "end_time": "2024-06-17T15:14:18.570985Z",
     "start_time": "2024-06-17T15:14:18.569107Z"
    }
   },
   "cell_type": "code",
   "source": [
    "from sklearn.linear_model import LogisticRegression\n",
    "from sklearn.preprocessing import StandardScaler"
   ],
   "id": "1c11584d7519a873",
   "outputs": [],
   "execution_count": 37
  },
  {
   "metadata": {
    "ExecuteTime": {
     "end_time": "2024-06-17T15:14:21.068743Z",
     "start_time": "2024-06-17T15:14:21.066133Z"
    }
   },
   "cell_type": "code",
   "source": [
    "pipeline_steps = [('selector', DatasetSelector(prepared_splits_dict)),\n",
    "                  ('scaler', StandardScaler()),\n",
    "                  ('logreg', LogisticRegression(max_iter=1000))]\n",
    "\n",
    "# cachedir = mkdtemp()\n",
    "# memory = Memory(location=cachedir, verbose=0)\n",
    "\n",
    "# pipeline = Pipeline(pipeline_steps, verbose=False, memory=memory)\n",
    "pipeline = Pipeline(pipeline_steps, verbose=False)"
   ],
   "id": "ef0806660c7d2751",
   "outputs": [],
   "execution_count": 38
  },
  {
   "metadata": {
    "ExecuteTime": {
     "end_time": "2024-06-17T15:14:21.072856Z",
     "start_time": "2024-06-17T15:14:21.070710Z"
    }
   },
   "cell_type": "code",
   "source": [
    "from sklearn.model_selection import GridSearchCV\n",
    "# param_grid = {\n",
    "#     'logreg__C': [0.001, 0.01, 0.1, 1, 10, 100],\n",
    "#     'logreg__solver': ['liblinear', 'lbfgs', 'newton-cg', 'sag', 'saga'],\n",
    "# }\n",
    "param_grid = {\n",
    "    'logreg__C': [0.001],\n",
    "    'logreg__solver': ['sag'],\n",
    "}\n",
    "# {'logreg__C': 0.001, 'logreg__solver': 'sag'} - 0.8025\n",
    "\n",
    "grid_search_clf = GridSearchCV(pipeline, param_grid, cv=last_order_user_tscv_splitter, scoring='accuracy', verbose=1, n_jobs=2)"
   ],
   "id": "20df607034702b66",
   "outputs": [],
   "execution_count": 39
  },
  {
   "metadata": {
    "ExecuteTime": {
     "end_time": "2024-06-17T15:14:21.200280Z",
     "start_time": "2024-06-17T15:14:21.074765Z"
    }
   },
   "cell_type": "code",
   "source": [
    "X = orders_tip_train[features]\n",
    "y = orders_tip_train['tip'].astype(bool)"
   ],
   "id": "25ac73db10c577b7",
   "outputs": [],
   "execution_count": 40
  },
  {
   "metadata": {
    "ExecuteTime": {
     "end_time": "2024-06-17T15:14:21.202782Z",
     "start_time": "2024-06-17T15:14:21.201042Z"
    }
   },
   "cell_type": "code",
   "source": [
    "print(f'X shape: {X.shape}')\n",
    "print(f'y shape: {y.shape}')"
   ],
   "id": "b80e9555c7a3dbc1",
   "outputs": [
    {
     "name": "stdout",
     "output_type": "stream",
     "text": [
      "X shape: (3008665, 18)\n",
      "y shape: (3008665,)\n"
     ]
    }
   ],
   "execution_count": 41
  },
  {
   "metadata": {
    "ExecuteTime": {
     "end_time": "2024-06-17T15:15:37.020426Z",
     "start_time": "2024-06-17T15:14:23.655790Z"
    }
   },
   "cell_type": "code",
   "source": "grid_search_clf.fit(X, y)",
   "id": "f55f10b39ea9eefe",
   "outputs": [
    {
     "name": "stdout",
     "output_type": "stream",
     "text": [
      "Fitting 5 folds for each of 1 candidates, totalling 5 fits\n",
      "Transformation: (3008665, 18) -> (3008665, 18)\n"
     ]
    },
    {
     "data": {
      "text/plain": [
       "GridSearchCV(cv=LastOrderUserTSCVSplitter(data_manager=<data_management.data_manager.DataManager object at 0x13ff75590>,\n",
       "                                          n_splits=5),\n",
       "             estimator=Pipeline(steps=[('selector',\n",
       "                                        DatasetSelector(prepared_splits_dict={-8070716829487604255:          order_number  order_dow  order_hour_of_day  days_since_prior_order  \\\n",
       "0                   2          3                  7                    15.0   \n",
       "1                   3          3                 12                    21.0   \n",
       "2                   4          4                  7                    29.0   \n",
       "3                   5          4                 15                    28.0   \n",
       "4                   6          2                  7                    19.0   \n",
       "...               ...        ...                ...                     ...   \n",
       "300865...\n",
       "3            -0.032173          0.006456  \n",
       "9            -0.031424         -0.037953  \n",
       "...                ...               ...  \n",
       "3008655      -0.064174         -0.057342  \n",
       "3008656      -0.033737          0.028516  \n",
       "3008657      -0.037902         -0.016150  \n",
       "3008658      -0.083484         -0.109022  \n",
       "3008659      -0.064715         -0.072343  \n",
       "\n",
       "[2104923 rows x 18 columns]})),\n",
       "                                       ('scaler', MinMaxScaler()),\n",
       "                                       ('logreg',\n",
       "                                        LogisticRegression(max_iter=1000))]),\n",
       "             n_jobs=2,\n",
       "             param_grid={'logreg__C': [0.001], 'logreg__solver': ['sag']},\n",
       "             scoring='accuracy', verbose=1)"
      ],
      "text/html": [
       "<style>#sk-container-id-2 {\n",
       "  /* Definition of color scheme common for light and dark mode */\n",
       "  --sklearn-color-text: black;\n",
       "  --sklearn-color-line: gray;\n",
       "  /* Definition of color scheme for unfitted estimators */\n",
       "  --sklearn-color-unfitted-level-0: #fff5e6;\n",
       "  --sklearn-color-unfitted-level-1: #f6e4d2;\n",
       "  --sklearn-color-unfitted-level-2: #ffe0b3;\n",
       "  --sklearn-color-unfitted-level-3: chocolate;\n",
       "  /* Definition of color scheme for fitted estimators */\n",
       "  --sklearn-color-fitted-level-0: #f0f8ff;\n",
       "  --sklearn-color-fitted-level-1: #d4ebff;\n",
       "  --sklearn-color-fitted-level-2: #b3dbfd;\n",
       "  --sklearn-color-fitted-level-3: cornflowerblue;\n",
       "\n",
       "  /* Specific color for light theme */\n",
       "  --sklearn-color-text-on-default-background: var(--sg-text-color, var(--theme-code-foreground, var(--jp-content-font-color1, black)));\n",
       "  --sklearn-color-background: var(--sg-background-color, var(--theme-background, var(--jp-layout-color0, white)));\n",
       "  --sklearn-color-border-box: var(--sg-text-color, var(--theme-code-foreground, var(--jp-content-font-color1, black)));\n",
       "  --sklearn-color-icon: #696969;\n",
       "\n",
       "  @media (prefers-color-scheme: dark) {\n",
       "    /* Redefinition of color scheme for dark theme */\n",
       "    --sklearn-color-text-on-default-background: var(--sg-text-color, var(--theme-code-foreground, var(--jp-content-font-color1, white)));\n",
       "    --sklearn-color-background: var(--sg-background-color, var(--theme-background, var(--jp-layout-color0, #111)));\n",
       "    --sklearn-color-border-box: var(--sg-text-color, var(--theme-code-foreground, var(--jp-content-font-color1, white)));\n",
       "    --sklearn-color-icon: #878787;\n",
       "  }\n",
       "}\n",
       "\n",
       "#sk-container-id-2 {\n",
       "  color: var(--sklearn-color-text);\n",
       "}\n",
       "\n",
       "#sk-container-id-2 pre {\n",
       "  padding: 0;\n",
       "}\n",
       "\n",
       "#sk-container-id-2 input.sk-hidden--visually {\n",
       "  border: 0;\n",
       "  clip: rect(1px 1px 1px 1px);\n",
       "  clip: rect(1px, 1px, 1px, 1px);\n",
       "  height: 1px;\n",
       "  margin: -1px;\n",
       "  overflow: hidden;\n",
       "  padding: 0;\n",
       "  position: absolute;\n",
       "  width: 1px;\n",
       "}\n",
       "\n",
       "#sk-container-id-2 div.sk-dashed-wrapped {\n",
       "  border: 1px dashed var(--sklearn-color-line);\n",
       "  margin: 0 0.4em 0.5em 0.4em;\n",
       "  box-sizing: border-box;\n",
       "  padding-bottom: 0.4em;\n",
       "  background-color: var(--sklearn-color-background);\n",
       "}\n",
       "\n",
       "#sk-container-id-2 div.sk-container {\n",
       "  /* jupyter's `normalize.less` sets `[hidden] { display: none; }`\n",
       "     but bootstrap.min.css set `[hidden] { display: none !important; }`\n",
       "     so we also need the `!important` here to be able to override the\n",
       "     default hidden behavior on the sphinx rendered scikit-learn.org.\n",
       "     See: https://github.com/scikit-learn/scikit-learn/issues/21755 */\n",
       "  display: inline-block !important;\n",
       "  position: relative;\n",
       "}\n",
       "\n",
       "#sk-container-id-2 div.sk-text-repr-fallback {\n",
       "  display: none;\n",
       "}\n",
       "\n",
       "div.sk-parallel-item,\n",
       "div.sk-serial,\n",
       "div.sk-item {\n",
       "  /* draw centered vertical line to link estimators */\n",
       "  background-image: linear-gradient(var(--sklearn-color-text-on-default-background), var(--sklearn-color-text-on-default-background));\n",
       "  background-size: 2px 100%;\n",
       "  background-repeat: no-repeat;\n",
       "  background-position: center center;\n",
       "}\n",
       "\n",
       "/* Parallel-specific style estimator block */\n",
       "\n",
       "#sk-container-id-2 div.sk-parallel-item::after {\n",
       "  content: \"\";\n",
       "  width: 100%;\n",
       "  border-bottom: 2px solid var(--sklearn-color-text-on-default-background);\n",
       "  flex-grow: 1;\n",
       "}\n",
       "\n",
       "#sk-container-id-2 div.sk-parallel {\n",
       "  display: flex;\n",
       "  align-items: stretch;\n",
       "  justify-content: center;\n",
       "  background-color: var(--sklearn-color-background);\n",
       "  position: relative;\n",
       "}\n",
       "\n",
       "#sk-container-id-2 div.sk-parallel-item {\n",
       "  display: flex;\n",
       "  flex-direction: column;\n",
       "}\n",
       "\n",
       "#sk-container-id-2 div.sk-parallel-item:first-child::after {\n",
       "  align-self: flex-end;\n",
       "  width: 50%;\n",
       "}\n",
       "\n",
       "#sk-container-id-2 div.sk-parallel-item:last-child::after {\n",
       "  align-self: flex-start;\n",
       "  width: 50%;\n",
       "}\n",
       "\n",
       "#sk-container-id-2 div.sk-parallel-item:only-child::after {\n",
       "  width: 0;\n",
       "}\n",
       "\n",
       "/* Serial-specific style estimator block */\n",
       "\n",
       "#sk-container-id-2 div.sk-serial {\n",
       "  display: flex;\n",
       "  flex-direction: column;\n",
       "  align-items: center;\n",
       "  background-color: var(--sklearn-color-background);\n",
       "  padding-right: 1em;\n",
       "  padding-left: 1em;\n",
       "}\n",
       "\n",
       "\n",
       "/* Toggleable style: style used for estimator/Pipeline/ColumnTransformer box that is\n",
       "clickable and can be expanded/collapsed.\n",
       "- Pipeline and ColumnTransformer use this feature and define the default style\n",
       "- Estimators will overwrite some part of the style using the `sk-estimator` class\n",
       "*/\n",
       "\n",
       "/* Pipeline and ColumnTransformer style (default) */\n",
       "\n",
       "#sk-container-id-2 div.sk-toggleable {\n",
       "  /* Default theme specific background. It is overwritten whether we have a\n",
       "  specific estimator or a Pipeline/ColumnTransformer */\n",
       "  background-color: var(--sklearn-color-background);\n",
       "}\n",
       "\n",
       "/* Toggleable label */\n",
       "#sk-container-id-2 label.sk-toggleable__label {\n",
       "  cursor: pointer;\n",
       "  display: block;\n",
       "  width: 100%;\n",
       "  margin-bottom: 0;\n",
       "  padding: 0.5em;\n",
       "  box-sizing: border-box;\n",
       "  text-align: center;\n",
       "}\n",
       "\n",
       "#sk-container-id-2 label.sk-toggleable__label-arrow:before {\n",
       "  /* Arrow on the left of the label */\n",
       "  content: \"▸\";\n",
       "  float: left;\n",
       "  margin-right: 0.25em;\n",
       "  color: var(--sklearn-color-icon);\n",
       "}\n",
       "\n",
       "#sk-container-id-2 label.sk-toggleable__label-arrow:hover:before {\n",
       "  color: var(--sklearn-color-text);\n",
       "}\n",
       "\n",
       "/* Toggleable content - dropdown */\n",
       "\n",
       "#sk-container-id-2 div.sk-toggleable__content {\n",
       "  max-height: 0;\n",
       "  max-width: 0;\n",
       "  overflow: hidden;\n",
       "  text-align: left;\n",
       "  /* unfitted */\n",
       "  background-color: var(--sklearn-color-unfitted-level-0);\n",
       "}\n",
       "\n",
       "#sk-container-id-2 div.sk-toggleable__content.fitted {\n",
       "  /* fitted */\n",
       "  background-color: var(--sklearn-color-fitted-level-0);\n",
       "}\n",
       "\n",
       "#sk-container-id-2 div.sk-toggleable__content pre {\n",
       "  margin: 0.2em;\n",
       "  border-radius: 0.25em;\n",
       "  color: var(--sklearn-color-text);\n",
       "  /* unfitted */\n",
       "  background-color: var(--sklearn-color-unfitted-level-0);\n",
       "}\n",
       "\n",
       "#sk-container-id-2 div.sk-toggleable__content.fitted pre {\n",
       "  /* unfitted */\n",
       "  background-color: var(--sklearn-color-fitted-level-0);\n",
       "}\n",
       "\n",
       "#sk-container-id-2 input.sk-toggleable__control:checked~div.sk-toggleable__content {\n",
       "  /* Expand drop-down */\n",
       "  max-height: 200px;\n",
       "  max-width: 100%;\n",
       "  overflow: auto;\n",
       "}\n",
       "\n",
       "#sk-container-id-2 input.sk-toggleable__control:checked~label.sk-toggleable__label-arrow:before {\n",
       "  content: \"▾\";\n",
       "}\n",
       "\n",
       "/* Pipeline/ColumnTransformer-specific style */\n",
       "\n",
       "#sk-container-id-2 div.sk-label input.sk-toggleable__control:checked~label.sk-toggleable__label {\n",
       "  color: var(--sklearn-color-text);\n",
       "  background-color: var(--sklearn-color-unfitted-level-2);\n",
       "}\n",
       "\n",
       "#sk-container-id-2 div.sk-label.fitted input.sk-toggleable__control:checked~label.sk-toggleable__label {\n",
       "  background-color: var(--sklearn-color-fitted-level-2);\n",
       "}\n",
       "\n",
       "/* Estimator-specific style */\n",
       "\n",
       "/* Colorize estimator box */\n",
       "#sk-container-id-2 div.sk-estimator input.sk-toggleable__control:checked~label.sk-toggleable__label {\n",
       "  /* unfitted */\n",
       "  background-color: var(--sklearn-color-unfitted-level-2);\n",
       "}\n",
       "\n",
       "#sk-container-id-2 div.sk-estimator.fitted input.sk-toggleable__control:checked~label.sk-toggleable__label {\n",
       "  /* fitted */\n",
       "  background-color: var(--sklearn-color-fitted-level-2);\n",
       "}\n",
       "\n",
       "#sk-container-id-2 div.sk-label label.sk-toggleable__label,\n",
       "#sk-container-id-2 div.sk-label label {\n",
       "  /* The background is the default theme color */\n",
       "  color: var(--sklearn-color-text-on-default-background);\n",
       "}\n",
       "\n",
       "/* On hover, darken the color of the background */\n",
       "#sk-container-id-2 div.sk-label:hover label.sk-toggleable__label {\n",
       "  color: var(--sklearn-color-text);\n",
       "  background-color: var(--sklearn-color-unfitted-level-2);\n",
       "}\n",
       "\n",
       "/* Label box, darken color on hover, fitted */\n",
       "#sk-container-id-2 div.sk-label.fitted:hover label.sk-toggleable__label.fitted {\n",
       "  color: var(--sklearn-color-text);\n",
       "  background-color: var(--sklearn-color-fitted-level-2);\n",
       "}\n",
       "\n",
       "/* Estimator label */\n",
       "\n",
       "#sk-container-id-2 div.sk-label label {\n",
       "  font-family: monospace;\n",
       "  font-weight: bold;\n",
       "  display: inline-block;\n",
       "  line-height: 1.2em;\n",
       "}\n",
       "\n",
       "#sk-container-id-2 div.sk-label-container {\n",
       "  text-align: center;\n",
       "}\n",
       "\n",
       "/* Estimator-specific */\n",
       "#sk-container-id-2 div.sk-estimator {\n",
       "  font-family: monospace;\n",
       "  border: 1px dotted var(--sklearn-color-border-box);\n",
       "  border-radius: 0.25em;\n",
       "  box-sizing: border-box;\n",
       "  margin-bottom: 0.5em;\n",
       "  /* unfitted */\n",
       "  background-color: var(--sklearn-color-unfitted-level-0);\n",
       "}\n",
       "\n",
       "#sk-container-id-2 div.sk-estimator.fitted {\n",
       "  /* fitted */\n",
       "  background-color: var(--sklearn-color-fitted-level-0);\n",
       "}\n",
       "\n",
       "/* on hover */\n",
       "#sk-container-id-2 div.sk-estimator:hover {\n",
       "  /* unfitted */\n",
       "  background-color: var(--sklearn-color-unfitted-level-2);\n",
       "}\n",
       "\n",
       "#sk-container-id-2 div.sk-estimator.fitted:hover {\n",
       "  /* fitted */\n",
       "  background-color: var(--sklearn-color-fitted-level-2);\n",
       "}\n",
       "\n",
       "/* Specification for estimator info (e.g. \"i\" and \"?\") */\n",
       "\n",
       "/* Common style for \"i\" and \"?\" */\n",
       "\n",
       ".sk-estimator-doc-link,\n",
       "a:link.sk-estimator-doc-link,\n",
       "a:visited.sk-estimator-doc-link {\n",
       "  float: right;\n",
       "  font-size: smaller;\n",
       "  line-height: 1em;\n",
       "  font-family: monospace;\n",
       "  background-color: var(--sklearn-color-background);\n",
       "  border-radius: 1em;\n",
       "  height: 1em;\n",
       "  width: 1em;\n",
       "  text-decoration: none !important;\n",
       "  margin-left: 1ex;\n",
       "  /* unfitted */\n",
       "  border: var(--sklearn-color-unfitted-level-1) 1pt solid;\n",
       "  color: var(--sklearn-color-unfitted-level-1);\n",
       "}\n",
       "\n",
       ".sk-estimator-doc-link.fitted,\n",
       "a:link.sk-estimator-doc-link.fitted,\n",
       "a:visited.sk-estimator-doc-link.fitted {\n",
       "  /* fitted */\n",
       "  border: var(--sklearn-color-fitted-level-1) 1pt solid;\n",
       "  color: var(--sklearn-color-fitted-level-1);\n",
       "}\n",
       "\n",
       "/* On hover */\n",
       "div.sk-estimator:hover .sk-estimator-doc-link:hover,\n",
       ".sk-estimator-doc-link:hover,\n",
       "div.sk-label-container:hover .sk-estimator-doc-link:hover,\n",
       ".sk-estimator-doc-link:hover {\n",
       "  /* unfitted */\n",
       "  background-color: var(--sklearn-color-unfitted-level-3);\n",
       "  color: var(--sklearn-color-background);\n",
       "  text-decoration: none;\n",
       "}\n",
       "\n",
       "div.sk-estimator.fitted:hover .sk-estimator-doc-link.fitted:hover,\n",
       ".sk-estimator-doc-link.fitted:hover,\n",
       "div.sk-label-container:hover .sk-estimator-doc-link.fitted:hover,\n",
       ".sk-estimator-doc-link.fitted:hover {\n",
       "  /* fitted */\n",
       "  background-color: var(--sklearn-color-fitted-level-3);\n",
       "  color: var(--sklearn-color-background);\n",
       "  text-decoration: none;\n",
       "}\n",
       "\n",
       "/* Span, style for the box shown on hovering the info icon */\n",
       ".sk-estimator-doc-link span {\n",
       "  display: none;\n",
       "  z-index: 9999;\n",
       "  position: relative;\n",
       "  font-weight: normal;\n",
       "  right: .2ex;\n",
       "  padding: .5ex;\n",
       "  margin: .5ex;\n",
       "  width: min-content;\n",
       "  min-width: 20ex;\n",
       "  max-width: 50ex;\n",
       "  color: var(--sklearn-color-text);\n",
       "  box-shadow: 2pt 2pt 4pt #999;\n",
       "  /* unfitted */\n",
       "  background: var(--sklearn-color-unfitted-level-0);\n",
       "  border: .5pt solid var(--sklearn-color-unfitted-level-3);\n",
       "}\n",
       "\n",
       ".sk-estimator-doc-link.fitted span {\n",
       "  /* fitted */\n",
       "  background: var(--sklearn-color-fitted-level-0);\n",
       "  border: var(--sklearn-color-fitted-level-3);\n",
       "}\n",
       "\n",
       ".sk-estimator-doc-link:hover span {\n",
       "  display: block;\n",
       "}\n",
       "\n",
       "/* \"?\"-specific style due to the `<a>` HTML tag */\n",
       "\n",
       "#sk-container-id-2 a.estimator_doc_link {\n",
       "  float: right;\n",
       "  font-size: 1rem;\n",
       "  line-height: 1em;\n",
       "  font-family: monospace;\n",
       "  background-color: var(--sklearn-color-background);\n",
       "  border-radius: 1rem;\n",
       "  height: 1rem;\n",
       "  width: 1rem;\n",
       "  text-decoration: none;\n",
       "  /* unfitted */\n",
       "  color: var(--sklearn-color-unfitted-level-1);\n",
       "  border: var(--sklearn-color-unfitted-level-1) 1pt solid;\n",
       "}\n",
       "\n",
       "#sk-container-id-2 a.estimator_doc_link.fitted {\n",
       "  /* fitted */\n",
       "  border: var(--sklearn-color-fitted-level-1) 1pt solid;\n",
       "  color: var(--sklearn-color-fitted-level-1);\n",
       "}\n",
       "\n",
       "/* On hover */\n",
       "#sk-container-id-2 a.estimator_doc_link:hover {\n",
       "  /* unfitted */\n",
       "  background-color: var(--sklearn-color-unfitted-level-3);\n",
       "  color: var(--sklearn-color-background);\n",
       "  text-decoration: none;\n",
       "}\n",
       "\n",
       "#sk-container-id-2 a.estimator_doc_link.fitted:hover {\n",
       "  /* fitted */\n",
       "  background-color: var(--sklearn-color-fitted-level-3);\n",
       "}\n",
       "</style><div id=\"sk-container-id-2\" class=\"sk-top-container\"><div class=\"sk-text-repr-fallback\"><pre>GridSearchCV(cv=LastOrderUserTSCVSplitter(data_manager=&lt;data_management.data_manager.DataManager object at 0x13ff75590&gt;,\n",
       "                                          n_splits=5),\n",
       "             estimator=Pipeline(steps=[(&#x27;selector&#x27;,\n",
       "                                        DatasetSelector(prepared_splits_dict={-8070716829487604255:          order_number  order_dow  order_hour_of_day  days_since_prior_order  \\\n",
       "0                   2          3                  7                    15.0   \n",
       "1                   3          3                 12                    21.0   \n",
       "2                   4          4                  7                    29.0   \n",
       "3                   5          4                 15                    28.0   \n",
       "4                   6          2                  7                    19.0   \n",
       "...               ...        ...                ...                     ...   \n",
       "300865...\n",
       "3            -0.032173          0.006456  \n",
       "9            -0.031424         -0.037953  \n",
       "...                ...               ...  \n",
       "3008655      -0.064174         -0.057342  \n",
       "3008656      -0.033737          0.028516  \n",
       "3008657      -0.037902         -0.016150  \n",
       "3008658      -0.083484         -0.109022  \n",
       "3008659      -0.064715         -0.072343  \n",
       "\n",
       "[2104923 rows x 18 columns]})),\n",
       "                                       (&#x27;scaler&#x27;, MinMaxScaler()),\n",
       "                                       (&#x27;logreg&#x27;,\n",
       "                                        LogisticRegression(max_iter=1000))]),\n",
       "             n_jobs=2,\n",
       "             param_grid={&#x27;logreg__C&#x27;: [0.001], &#x27;logreg__solver&#x27;: [&#x27;sag&#x27;]},\n",
       "             scoring=&#x27;accuracy&#x27;, verbose=1)</pre><b>In a Jupyter environment, please rerun this cell to show the HTML representation or trust the notebook. <br />On GitHub, the HTML representation is unable to render, please try loading this page with nbviewer.org.</b></div><div class=\"sk-container\" hidden><div class=\"sk-item sk-dashed-wrapped\"><div class=\"sk-label-container\"><div class=\"sk-label fitted sk-toggleable\"><input class=\"sk-toggleable__control sk-hidden--visually\" id=\"sk-estimator-id-6\" type=\"checkbox\" ><label for=\"sk-estimator-id-6\" class=\"sk-toggleable__label fitted sk-toggleable__label-arrow fitted\">&nbsp;&nbsp;GridSearchCV<a class=\"sk-estimator-doc-link fitted\" rel=\"noreferrer\" target=\"_blank\" href=\"https://scikit-learn.org/1.4/modules/generated/sklearn.model_selection.GridSearchCV.html\">?<span>Documentation for GridSearchCV</span></a><span class=\"sk-estimator-doc-link fitted\">i<span>Fitted</span></span></label><div class=\"sk-toggleable__content fitted\"><pre>GridSearchCV(cv=LastOrderUserTSCVSplitter(data_manager=&lt;data_management.data_manager.DataManager object at 0x13ff75590&gt;,\n",
       "                                          n_splits=5),\n",
       "             estimator=Pipeline(steps=[(&#x27;selector&#x27;,\n",
       "                                        DatasetSelector(prepared_splits_dict={-8070716829487604255:          order_number  order_dow  order_hour_of_day  days_since_prior_order  \\\n",
       "0                   2          3                  7                    15.0   \n",
       "1                   3          3                 12                    21.0   \n",
       "2                   4          4                  7                    29.0   \n",
       "3                   5          4                 15                    28.0   \n",
       "4                   6          2                  7                    19.0   \n",
       "...               ...        ...                ...                     ...   \n",
       "300865...\n",
       "3            -0.032173          0.006456  \n",
       "9            -0.031424         -0.037953  \n",
       "...                ...               ...  \n",
       "3008655      -0.064174         -0.057342  \n",
       "3008656      -0.033737          0.028516  \n",
       "3008657      -0.037902         -0.016150  \n",
       "3008658      -0.083484         -0.109022  \n",
       "3008659      -0.064715         -0.072343  \n",
       "\n",
       "[2104923 rows x 18 columns]})),\n",
       "                                       (&#x27;scaler&#x27;, MinMaxScaler()),\n",
       "                                       (&#x27;logreg&#x27;,\n",
       "                                        LogisticRegression(max_iter=1000))]),\n",
       "             n_jobs=2,\n",
       "             param_grid={&#x27;logreg__C&#x27;: [0.001], &#x27;logreg__solver&#x27;: [&#x27;sag&#x27;]},\n",
       "             scoring=&#x27;accuracy&#x27;, verbose=1)</pre></div> </div></div><div class=\"sk-parallel\"><div class=\"sk-parallel-item\"><div class=\"sk-item\"><div class=\"sk-label-container\"><div class=\"sk-label fitted sk-toggleable\"><input class=\"sk-toggleable__control sk-hidden--visually\" id=\"sk-estimator-id-7\" type=\"checkbox\" ><label for=\"sk-estimator-id-7\" class=\"sk-toggleable__label fitted sk-toggleable__label-arrow fitted\">estimator: Pipeline</label><div class=\"sk-toggleable__content fitted\"><pre>Pipeline(steps=[(&#x27;selector&#x27;,\n",
       "                 DatasetSelector(prepared_splits_dict={-8070716829487604255:          order_number  order_dow  order_hour_of_day  days_since_prior_order  \\\n",
       "0                   2          3                  7                    15.0   \n",
       "1                   3          3                 12                    21.0   \n",
       "2                   4          4                  7                    29.0   \n",
       "3                   5          4                 15                    28.0   \n",
       "4                   6          2                  7                    19.0   \n",
       "...               ...        ...                ...                     ...   \n",
       "3008656             5          4                 15                     3.0   \n",
       "3008657             6          0                 16                     3.0   \n",
       "3008658             7          2                 13                     9.0   \n",
       "3008659             8          3                 17                    22.0   \n",
       "3008660             9          4                 15                    22.0   \n",
       "\n",
       "         tip_history  customer_lifetime  reordered_ratio  \\\n",
       "0           0.000000                 15            0.500   \n",
       "1           0.000000                 36            0....\n",
       "         dept_tip_rate  product_tip_rate  \n",
       "0            -0.068045         -0.048915  \n",
       "1            -0.093229         -0.066269  \n",
       "2            -0.074208         -0.113540  \n",
       "3            -0.032173          0.006456  \n",
       "9            -0.031424         -0.037953  \n",
       "...                ...               ...  \n",
       "3008655      -0.064174         -0.057342  \n",
       "3008656      -0.033737          0.028516  \n",
       "3008657      -0.037902         -0.016150  \n",
       "3008658      -0.083484         -0.109022  \n",
       "3008659      -0.064715         -0.072343  \n",
       "\n",
       "[2104923 rows x 18 columns]})),\n",
       "                (&#x27;scaler&#x27;, MinMaxScaler()),\n",
       "                (&#x27;logreg&#x27;, LogisticRegression(max_iter=1000))])</pre></div> </div></div><div class=\"sk-serial\"><div class=\"sk-item\"><div class=\"sk-serial\"><div class=\"sk-item\"><div class=\"sk-estimator fitted sk-toggleable\"><input class=\"sk-toggleable__control sk-hidden--visually\" id=\"sk-estimator-id-8\" type=\"checkbox\" ><label for=\"sk-estimator-id-8\" class=\"sk-toggleable__label fitted sk-toggleable__label-arrow fitted\">DatasetSelector</label><div class=\"sk-toggleable__content fitted\"><pre>DatasetSelector(prepared_splits_dict={-8070716829487604255:          order_number  order_dow  order_hour_of_day  days_since_prior_order  \\\n",
       "0                   2          3                  7                    15.0   \n",
       "1                   3          3                 12                    21.0   \n",
       "2                   4          4                  7                    29.0   \n",
       "3                   5          4                 15                    28.0   \n",
       "4                   6          2                  7                    19.0   \n",
       "...               ...        ...                ...                     ...   \n",
       "3008656             5          4                 15                     3.0   \n",
       "3008657             6          0                 16                     3.0   \n",
       "3008658             7          2                 13                     9.0   \n",
       "3008659             8          3                 17                    22.0   \n",
       "3008660             9          4                 15                    22.0   \n",
       "\n",
       "         tip_history  customer_lifetime  reordered_ratio  \\\n",
       "0           0.000000                 15            0.500   \n",
       "1           0.000000                 36            0.600   \n",
       "2           0.000000                 65            1.000   \n",
       "3           0.000000...\n",
       "3008657                    0.500000              0.020000       -0.038390   \n",
       "3008658                    0.200000             -0.047728       -0.089270   \n",
       "3008659                    0.166667             -0.075315       -0.056231   \n",
       "\n",
       "         dept_tip_rate  product_tip_rate  \n",
       "0            -0.068045         -0.048915  \n",
       "1            -0.093229         -0.066269  \n",
       "2            -0.074208         -0.113540  \n",
       "3            -0.032173          0.006456  \n",
       "9            -0.031424         -0.037953  \n",
       "...                ...               ...  \n",
       "3008655      -0.064174         -0.057342  \n",
       "3008656      -0.033737          0.028516  \n",
       "3008657      -0.037902         -0.016150  \n",
       "3008658      -0.083484         -0.109022  \n",
       "3008659      -0.064715         -0.072343  \n",
       "\n",
       "[2104923 rows x 18 columns]})</pre></div> </div></div><div class=\"sk-item\"><div class=\"sk-estimator fitted sk-toggleable\"><input class=\"sk-toggleable__control sk-hidden--visually\" id=\"sk-estimator-id-9\" type=\"checkbox\" ><label for=\"sk-estimator-id-9\" class=\"sk-toggleable__label fitted sk-toggleable__label-arrow fitted\">&nbsp;MinMaxScaler<a class=\"sk-estimator-doc-link fitted\" rel=\"noreferrer\" target=\"_blank\" href=\"https://scikit-learn.org/1.4/modules/generated/sklearn.preprocessing.MinMaxScaler.html\">?<span>Documentation for MinMaxScaler</span></a></label><div class=\"sk-toggleable__content fitted\"><pre>MinMaxScaler()</pre></div> </div></div><div class=\"sk-item\"><div class=\"sk-estimator fitted sk-toggleable\"><input class=\"sk-toggleable__control sk-hidden--visually\" id=\"sk-estimator-id-10\" type=\"checkbox\" ><label for=\"sk-estimator-id-10\" class=\"sk-toggleable__label fitted sk-toggleable__label-arrow fitted\">&nbsp;LogisticRegression<a class=\"sk-estimator-doc-link fitted\" rel=\"noreferrer\" target=\"_blank\" href=\"https://scikit-learn.org/1.4/modules/generated/sklearn.linear_model.LogisticRegression.html\">?<span>Documentation for LogisticRegression</span></a></label><div class=\"sk-toggleable__content fitted\"><pre>LogisticRegression(max_iter=1000)</pre></div> </div></div></div></div></div></div></div></div></div></div></div>"
      ]
     },
     "execution_count": 42,
     "metadata": {},
     "output_type": "execute_result"
    }
   ],
   "execution_count": 42
  },
  {
   "metadata": {
    "ExecuteTime": {
     "end_time": "2024-06-17T15:15:37.023401Z",
     "start_time": "2024-06-17T15:15:37.021648Z"
    }
   },
   "cell_type": "code",
   "source": "",
   "id": "a7825442229ed645",
   "outputs": [],
   "execution_count": 42
  },
  {
   "metadata": {
    "ExecuteTime": {
     "end_time": "2024-06-17T15:49:17.945788Z",
     "start_time": "2024-06-17T15:49:17.943382Z"
    }
   },
   "cell_type": "code",
   "source": [
    "from sklearn.naive_bayes import GaussianNB\n",
    "# Assuming 'DatasetSelector' and 'last_order_user_tscv_splitter' are defined somewhere in your code\n",
    "\n",
    "# Define the pipeline steps\n",
    "pipeline_steps = [('selector', DatasetSelector(prepared_splits_dict)),\n",
    "                  ('scaler', StandardScaler()),\n",
    "                  ('nb', GaussianNB())]\n",
    "\n",
    "# Create the pipeline\n",
    "pipeline = Pipeline(pipeline_steps, verbose=False)"
   ],
   "id": "79718330dc531e1c",
   "outputs": [],
   "execution_count": 33
  },
  {
   "metadata": {
    "ExecuteTime": {
     "end_time": "2024-06-17T15:52:10.803994Z",
     "start_time": "2024-06-17T15:52:10.801807Z"
    }
   },
   "cell_type": "code",
   "source": [
    "# Define the parameter grid for GaussianNB (Naive Bayes does not have many hyperparameters to tune)\n",
    "param_grid = {\n",
    "    'nb__var_smoothing': [1e-9, 1e-10, 1e-11]  # Variation smoothing parameter\n",
    "}\n",
    "# {'nb__var_smoothing': 1e-09} - 0.7841381709885383\n",
    "\n",
    "# Set up GridSearchCV\n",
    "grid_search_clf = GridSearchCV(pipeline, param_grid, cv=last_order_user_tscv_splitter, scoring='accuracy', verbose=1, n_jobs=2)"
   ],
   "id": "2f1b5c40095afc9a",
   "outputs": [],
   "execution_count": 41
  },
  {
   "metadata": {
    "ExecuteTime": {
     "end_time": "2024-06-17T15:52:13.518854Z",
     "start_time": "2024-06-17T15:52:13.391067Z"
    }
   },
   "cell_type": "code",
   "source": [
    "# Assuming 'orders_tip_train' and 'features' are defined somewhere in your code\n",
    "X = orders_tip_train[features]\n",
    "y = orders_tip_train['tip'].astype(bool)\n",
    "\n",
    "# Display the shapes of X and y\n",
    "print(f'X shape: {X.shape}')\n",
    "print(f'y shape: {y.shape}')"
   ],
   "id": "138795a8e22087ef",
   "outputs": [
    {
     "name": "stdout",
     "output_type": "stream",
     "text": [
      "X shape: (3008665, 18)\n",
      "y shape: (3008665,)\n"
     ]
    }
   ],
   "execution_count": 42
  },
  {
   "metadata": {
    "ExecuteTime": {
     "end_time": "2024-06-17T15:52:55.835293Z",
     "start_time": "2024-06-17T15:52:13.519397Z"
    }
   },
   "cell_type": "code",
   "source": [
    "# Perform the grid search\n",
    "grid_search_clf.fit(X, y)"
   ],
   "id": "945122336f848ce4",
   "outputs": [
    {
     "name": "stdout",
     "output_type": "stream",
     "text": [
      "Fitting 5 folds for each of 3 candidates, totalling 15 fits\n",
      "Transformation: (2251391, 18) -> (2251391, 18)\n",
      "Transformation: (162633, 18) -> (162633, 18)\n",
      "Transformation: (2596247, 18) -> (2596247, 18)\n",
      "Transformation: (206209, 18) -> (206209, 18)\n",
      "Transformation: (2414024, 18) -> (2414024, 18)\n",
      "Transformation: (182223, 18) -> (182223, 18)\n",
      "Transformation: (2104923, 18) -> (2104923, 18)\n",
      "Transformation: (146468, 18) -> (146468, 18)\n",
      "Transformation: (2596247, 18) -> (2596247, 18)\n",
      "Transformation: (206209, 18) -> (206209, 18)\n",
      "Transformation: (2251391, 18) -> (2251391, 18)\n",
      "Transformation: (162633, 18) -> (162633, 18)\n",
      "Transformation: (2802456, 18) -> (2802456, 18)\n",
      "Transformation: (206209, 18) -> (206209, 18)\n",
      "Transformation: (2414024, 18) -> (2414024, 18)\n",
      "Transformation: (182223, 18) -> (182223, 18)\n",
      "Transformation: (2104923, 18) -> (2104923, 18)\n",
      "Transformation: (146468, 18) -> (146468, 18)\n",
      "Transformation: (3008665, 18) -> (3008665, 18)\n"
     ]
    },
    {
     "data": {
      "text/plain": [
       "GridSearchCV(cv=LastOrderUserTSCVSplitter(data_manager=<data_management.data_manager.DataManager object at 0x1772f84d0>,\n",
       "                                          n_splits=5),\n",
       "             estimator=Pipeline(steps=[('selector',\n",
       "                                        DatasetSelector(prepared_splits_dict={-8070716829487604255:          order_number  order_dow  order_hour_of_day  days_since_prior_order  \\\n",
       "0                   2          3                  7                    15.0   \n",
       "1                   3          3                 12                    21.0   \n",
       "2                   4          4                  7                    29.0   \n",
       "3                   5          4                 15                    28.0   \n",
       "4                   6          2                  7                    19.0   \n",
       "...               ...        ...                ...                     ...   \n",
       "300865...\n",
       "2            -0.074208         -0.113540  \n",
       "3            -0.032173          0.006456  \n",
       "9            -0.031424         -0.037953  \n",
       "...                ...               ...  \n",
       "3008655      -0.064174         -0.057342  \n",
       "3008656      -0.033737          0.028516  \n",
       "3008657      -0.037902         -0.016150  \n",
       "3008658      -0.083484         -0.109022  \n",
       "3008659      -0.064715         -0.072343  \n",
       "\n",
       "[2104923 rows x 18 columns]})),\n",
       "                                       ('scaler', StandardScaler()),\n",
       "                                       ('nb', GaussianNB())]),\n",
       "             n_jobs=2, param_grid={'nb__var_smoothing': [1e-09, 1e-10, 1e-11]},\n",
       "             scoring='accuracy', verbose=1)"
      ],
      "text/html": [
       "<style>#sk-container-id-4 {\n",
       "  /* Definition of color scheme common for light and dark mode */\n",
       "  --sklearn-color-text: black;\n",
       "  --sklearn-color-line: gray;\n",
       "  /* Definition of color scheme for unfitted estimators */\n",
       "  --sklearn-color-unfitted-level-0: #fff5e6;\n",
       "  --sklearn-color-unfitted-level-1: #f6e4d2;\n",
       "  --sklearn-color-unfitted-level-2: #ffe0b3;\n",
       "  --sklearn-color-unfitted-level-3: chocolate;\n",
       "  /* Definition of color scheme for fitted estimators */\n",
       "  --sklearn-color-fitted-level-0: #f0f8ff;\n",
       "  --sklearn-color-fitted-level-1: #d4ebff;\n",
       "  --sklearn-color-fitted-level-2: #b3dbfd;\n",
       "  --sklearn-color-fitted-level-3: cornflowerblue;\n",
       "\n",
       "  /* Specific color for light theme */\n",
       "  --sklearn-color-text-on-default-background: var(--sg-text-color, var(--theme-code-foreground, var(--jp-content-font-color1, black)));\n",
       "  --sklearn-color-background: var(--sg-background-color, var(--theme-background, var(--jp-layout-color0, white)));\n",
       "  --sklearn-color-border-box: var(--sg-text-color, var(--theme-code-foreground, var(--jp-content-font-color1, black)));\n",
       "  --sklearn-color-icon: #696969;\n",
       "\n",
       "  @media (prefers-color-scheme: dark) {\n",
       "    /* Redefinition of color scheme for dark theme */\n",
       "    --sklearn-color-text-on-default-background: var(--sg-text-color, var(--theme-code-foreground, var(--jp-content-font-color1, white)));\n",
       "    --sklearn-color-background: var(--sg-background-color, var(--theme-background, var(--jp-layout-color0, #111)));\n",
       "    --sklearn-color-border-box: var(--sg-text-color, var(--theme-code-foreground, var(--jp-content-font-color1, white)));\n",
       "    --sklearn-color-icon: #878787;\n",
       "  }\n",
       "}\n",
       "\n",
       "#sk-container-id-4 {\n",
       "  color: var(--sklearn-color-text);\n",
       "}\n",
       "\n",
       "#sk-container-id-4 pre {\n",
       "  padding: 0;\n",
       "}\n",
       "\n",
       "#sk-container-id-4 input.sk-hidden--visually {\n",
       "  border: 0;\n",
       "  clip: rect(1px 1px 1px 1px);\n",
       "  clip: rect(1px, 1px, 1px, 1px);\n",
       "  height: 1px;\n",
       "  margin: -1px;\n",
       "  overflow: hidden;\n",
       "  padding: 0;\n",
       "  position: absolute;\n",
       "  width: 1px;\n",
       "}\n",
       "\n",
       "#sk-container-id-4 div.sk-dashed-wrapped {\n",
       "  border: 1px dashed var(--sklearn-color-line);\n",
       "  margin: 0 0.4em 0.5em 0.4em;\n",
       "  box-sizing: border-box;\n",
       "  padding-bottom: 0.4em;\n",
       "  background-color: var(--sklearn-color-background);\n",
       "}\n",
       "\n",
       "#sk-container-id-4 div.sk-container {\n",
       "  /* jupyter's `normalize.less` sets `[hidden] { display: none; }`\n",
       "     but bootstrap.min.css set `[hidden] { display: none !important; }`\n",
       "     so we also need the `!important` here to be able to override the\n",
       "     default hidden behavior on the sphinx rendered scikit-learn.org.\n",
       "     See: https://github.com/scikit-learn/scikit-learn/issues/21755 */\n",
       "  display: inline-block !important;\n",
       "  position: relative;\n",
       "}\n",
       "\n",
       "#sk-container-id-4 div.sk-text-repr-fallback {\n",
       "  display: none;\n",
       "}\n",
       "\n",
       "div.sk-parallel-item,\n",
       "div.sk-serial,\n",
       "div.sk-item {\n",
       "  /* draw centered vertical line to link estimators */\n",
       "  background-image: linear-gradient(var(--sklearn-color-text-on-default-background), var(--sklearn-color-text-on-default-background));\n",
       "  background-size: 2px 100%;\n",
       "  background-repeat: no-repeat;\n",
       "  background-position: center center;\n",
       "}\n",
       "\n",
       "/* Parallel-specific style estimator block */\n",
       "\n",
       "#sk-container-id-4 div.sk-parallel-item::after {\n",
       "  content: \"\";\n",
       "  width: 100%;\n",
       "  border-bottom: 2px solid var(--sklearn-color-text-on-default-background);\n",
       "  flex-grow: 1;\n",
       "}\n",
       "\n",
       "#sk-container-id-4 div.sk-parallel {\n",
       "  display: flex;\n",
       "  align-items: stretch;\n",
       "  justify-content: center;\n",
       "  background-color: var(--sklearn-color-background);\n",
       "  position: relative;\n",
       "}\n",
       "\n",
       "#sk-container-id-4 div.sk-parallel-item {\n",
       "  display: flex;\n",
       "  flex-direction: column;\n",
       "}\n",
       "\n",
       "#sk-container-id-4 div.sk-parallel-item:first-child::after {\n",
       "  align-self: flex-end;\n",
       "  width: 50%;\n",
       "}\n",
       "\n",
       "#sk-container-id-4 div.sk-parallel-item:last-child::after {\n",
       "  align-self: flex-start;\n",
       "  width: 50%;\n",
       "}\n",
       "\n",
       "#sk-container-id-4 div.sk-parallel-item:only-child::after {\n",
       "  width: 0;\n",
       "}\n",
       "\n",
       "/* Serial-specific style estimator block */\n",
       "\n",
       "#sk-container-id-4 div.sk-serial {\n",
       "  display: flex;\n",
       "  flex-direction: column;\n",
       "  align-items: center;\n",
       "  background-color: var(--sklearn-color-background);\n",
       "  padding-right: 1em;\n",
       "  padding-left: 1em;\n",
       "}\n",
       "\n",
       "\n",
       "/* Toggleable style: style used for estimator/Pipeline/ColumnTransformer box that is\n",
       "clickable and can be expanded/collapsed.\n",
       "- Pipeline and ColumnTransformer use this feature and define the default style\n",
       "- Estimators will overwrite some part of the style using the `sk-estimator` class\n",
       "*/\n",
       "\n",
       "/* Pipeline and ColumnTransformer style (default) */\n",
       "\n",
       "#sk-container-id-4 div.sk-toggleable {\n",
       "  /* Default theme specific background. It is overwritten whether we have a\n",
       "  specific estimator or a Pipeline/ColumnTransformer */\n",
       "  background-color: var(--sklearn-color-background);\n",
       "}\n",
       "\n",
       "/* Toggleable label */\n",
       "#sk-container-id-4 label.sk-toggleable__label {\n",
       "  cursor: pointer;\n",
       "  display: block;\n",
       "  width: 100%;\n",
       "  margin-bottom: 0;\n",
       "  padding: 0.5em;\n",
       "  box-sizing: border-box;\n",
       "  text-align: center;\n",
       "}\n",
       "\n",
       "#sk-container-id-4 label.sk-toggleable__label-arrow:before {\n",
       "  /* Arrow on the left of the label */\n",
       "  content: \"▸\";\n",
       "  float: left;\n",
       "  margin-right: 0.25em;\n",
       "  color: var(--sklearn-color-icon);\n",
       "}\n",
       "\n",
       "#sk-container-id-4 label.sk-toggleable__label-arrow:hover:before {\n",
       "  color: var(--sklearn-color-text);\n",
       "}\n",
       "\n",
       "/* Toggleable content - dropdown */\n",
       "\n",
       "#sk-container-id-4 div.sk-toggleable__content {\n",
       "  max-height: 0;\n",
       "  max-width: 0;\n",
       "  overflow: hidden;\n",
       "  text-align: left;\n",
       "  /* unfitted */\n",
       "  background-color: var(--sklearn-color-unfitted-level-0);\n",
       "}\n",
       "\n",
       "#sk-container-id-4 div.sk-toggleable__content.fitted {\n",
       "  /* fitted */\n",
       "  background-color: var(--sklearn-color-fitted-level-0);\n",
       "}\n",
       "\n",
       "#sk-container-id-4 div.sk-toggleable__content pre {\n",
       "  margin: 0.2em;\n",
       "  border-radius: 0.25em;\n",
       "  color: var(--sklearn-color-text);\n",
       "  /* unfitted */\n",
       "  background-color: var(--sklearn-color-unfitted-level-0);\n",
       "}\n",
       "\n",
       "#sk-container-id-4 div.sk-toggleable__content.fitted pre {\n",
       "  /* unfitted */\n",
       "  background-color: var(--sklearn-color-fitted-level-0);\n",
       "}\n",
       "\n",
       "#sk-container-id-4 input.sk-toggleable__control:checked~div.sk-toggleable__content {\n",
       "  /* Expand drop-down */\n",
       "  max-height: 200px;\n",
       "  max-width: 100%;\n",
       "  overflow: auto;\n",
       "}\n",
       "\n",
       "#sk-container-id-4 input.sk-toggleable__control:checked~label.sk-toggleable__label-arrow:before {\n",
       "  content: \"▾\";\n",
       "}\n",
       "\n",
       "/* Pipeline/ColumnTransformer-specific style */\n",
       "\n",
       "#sk-container-id-4 div.sk-label input.sk-toggleable__control:checked~label.sk-toggleable__label {\n",
       "  color: var(--sklearn-color-text);\n",
       "  background-color: var(--sklearn-color-unfitted-level-2);\n",
       "}\n",
       "\n",
       "#sk-container-id-4 div.sk-label.fitted input.sk-toggleable__control:checked~label.sk-toggleable__label {\n",
       "  background-color: var(--sklearn-color-fitted-level-2);\n",
       "}\n",
       "\n",
       "/* Estimator-specific style */\n",
       "\n",
       "/* Colorize estimator box */\n",
       "#sk-container-id-4 div.sk-estimator input.sk-toggleable__control:checked~label.sk-toggleable__label {\n",
       "  /* unfitted */\n",
       "  background-color: var(--sklearn-color-unfitted-level-2);\n",
       "}\n",
       "\n",
       "#sk-container-id-4 div.sk-estimator.fitted input.sk-toggleable__control:checked~label.sk-toggleable__label {\n",
       "  /* fitted */\n",
       "  background-color: var(--sklearn-color-fitted-level-2);\n",
       "}\n",
       "\n",
       "#sk-container-id-4 div.sk-label label.sk-toggleable__label,\n",
       "#sk-container-id-4 div.sk-label label {\n",
       "  /* The background is the default theme color */\n",
       "  color: var(--sklearn-color-text-on-default-background);\n",
       "}\n",
       "\n",
       "/* On hover, darken the color of the background */\n",
       "#sk-container-id-4 div.sk-label:hover label.sk-toggleable__label {\n",
       "  color: var(--sklearn-color-text);\n",
       "  background-color: var(--sklearn-color-unfitted-level-2);\n",
       "}\n",
       "\n",
       "/* Label box, darken color on hover, fitted */\n",
       "#sk-container-id-4 div.sk-label.fitted:hover label.sk-toggleable__label.fitted {\n",
       "  color: var(--sklearn-color-text);\n",
       "  background-color: var(--sklearn-color-fitted-level-2);\n",
       "}\n",
       "\n",
       "/* Estimator label */\n",
       "\n",
       "#sk-container-id-4 div.sk-label label {\n",
       "  font-family: monospace;\n",
       "  font-weight: bold;\n",
       "  display: inline-block;\n",
       "  line-height: 1.2em;\n",
       "}\n",
       "\n",
       "#sk-container-id-4 div.sk-label-container {\n",
       "  text-align: center;\n",
       "}\n",
       "\n",
       "/* Estimator-specific */\n",
       "#sk-container-id-4 div.sk-estimator {\n",
       "  font-family: monospace;\n",
       "  border: 1px dotted var(--sklearn-color-border-box);\n",
       "  border-radius: 0.25em;\n",
       "  box-sizing: border-box;\n",
       "  margin-bottom: 0.5em;\n",
       "  /* unfitted */\n",
       "  background-color: var(--sklearn-color-unfitted-level-0);\n",
       "}\n",
       "\n",
       "#sk-container-id-4 div.sk-estimator.fitted {\n",
       "  /* fitted */\n",
       "  background-color: var(--sklearn-color-fitted-level-0);\n",
       "}\n",
       "\n",
       "/* on hover */\n",
       "#sk-container-id-4 div.sk-estimator:hover {\n",
       "  /* unfitted */\n",
       "  background-color: var(--sklearn-color-unfitted-level-2);\n",
       "}\n",
       "\n",
       "#sk-container-id-4 div.sk-estimator.fitted:hover {\n",
       "  /* fitted */\n",
       "  background-color: var(--sklearn-color-fitted-level-2);\n",
       "}\n",
       "\n",
       "/* Specification for estimator info (e.g. \"i\" and \"?\") */\n",
       "\n",
       "/* Common style for \"i\" and \"?\" */\n",
       "\n",
       ".sk-estimator-doc-link,\n",
       "a:link.sk-estimator-doc-link,\n",
       "a:visited.sk-estimator-doc-link {\n",
       "  float: right;\n",
       "  font-size: smaller;\n",
       "  line-height: 1em;\n",
       "  font-family: monospace;\n",
       "  background-color: var(--sklearn-color-background);\n",
       "  border-radius: 1em;\n",
       "  height: 1em;\n",
       "  width: 1em;\n",
       "  text-decoration: none !important;\n",
       "  margin-left: 1ex;\n",
       "  /* unfitted */\n",
       "  border: var(--sklearn-color-unfitted-level-1) 1pt solid;\n",
       "  color: var(--sklearn-color-unfitted-level-1);\n",
       "}\n",
       "\n",
       ".sk-estimator-doc-link.fitted,\n",
       "a:link.sk-estimator-doc-link.fitted,\n",
       "a:visited.sk-estimator-doc-link.fitted {\n",
       "  /* fitted */\n",
       "  border: var(--sklearn-color-fitted-level-1) 1pt solid;\n",
       "  color: var(--sklearn-color-fitted-level-1);\n",
       "}\n",
       "\n",
       "/* On hover */\n",
       "div.sk-estimator:hover .sk-estimator-doc-link:hover,\n",
       ".sk-estimator-doc-link:hover,\n",
       "div.sk-label-container:hover .sk-estimator-doc-link:hover,\n",
       ".sk-estimator-doc-link:hover {\n",
       "  /* unfitted */\n",
       "  background-color: var(--sklearn-color-unfitted-level-3);\n",
       "  color: var(--sklearn-color-background);\n",
       "  text-decoration: none;\n",
       "}\n",
       "\n",
       "div.sk-estimator.fitted:hover .sk-estimator-doc-link.fitted:hover,\n",
       ".sk-estimator-doc-link.fitted:hover,\n",
       "div.sk-label-container:hover .sk-estimator-doc-link.fitted:hover,\n",
       ".sk-estimator-doc-link.fitted:hover {\n",
       "  /* fitted */\n",
       "  background-color: var(--sklearn-color-fitted-level-3);\n",
       "  color: var(--sklearn-color-background);\n",
       "  text-decoration: none;\n",
       "}\n",
       "\n",
       "/* Span, style for the box shown on hovering the info icon */\n",
       ".sk-estimator-doc-link span {\n",
       "  display: none;\n",
       "  z-index: 9999;\n",
       "  position: relative;\n",
       "  font-weight: normal;\n",
       "  right: .2ex;\n",
       "  padding: .5ex;\n",
       "  margin: .5ex;\n",
       "  width: min-content;\n",
       "  min-width: 20ex;\n",
       "  max-width: 50ex;\n",
       "  color: var(--sklearn-color-text);\n",
       "  box-shadow: 2pt 2pt 4pt #999;\n",
       "  /* unfitted */\n",
       "  background: var(--sklearn-color-unfitted-level-0);\n",
       "  border: .5pt solid var(--sklearn-color-unfitted-level-3);\n",
       "}\n",
       "\n",
       ".sk-estimator-doc-link.fitted span {\n",
       "  /* fitted */\n",
       "  background: var(--sklearn-color-fitted-level-0);\n",
       "  border: var(--sklearn-color-fitted-level-3);\n",
       "}\n",
       "\n",
       ".sk-estimator-doc-link:hover span {\n",
       "  display: block;\n",
       "}\n",
       "\n",
       "/* \"?\"-specific style due to the `<a>` HTML tag */\n",
       "\n",
       "#sk-container-id-4 a.estimator_doc_link {\n",
       "  float: right;\n",
       "  font-size: 1rem;\n",
       "  line-height: 1em;\n",
       "  font-family: monospace;\n",
       "  background-color: var(--sklearn-color-background);\n",
       "  border-radius: 1rem;\n",
       "  height: 1rem;\n",
       "  width: 1rem;\n",
       "  text-decoration: none;\n",
       "  /* unfitted */\n",
       "  color: var(--sklearn-color-unfitted-level-1);\n",
       "  border: var(--sklearn-color-unfitted-level-1) 1pt solid;\n",
       "}\n",
       "\n",
       "#sk-container-id-4 a.estimator_doc_link.fitted {\n",
       "  /* fitted */\n",
       "  border: var(--sklearn-color-fitted-level-1) 1pt solid;\n",
       "  color: var(--sklearn-color-fitted-level-1);\n",
       "}\n",
       "\n",
       "/* On hover */\n",
       "#sk-container-id-4 a.estimator_doc_link:hover {\n",
       "  /* unfitted */\n",
       "  background-color: var(--sklearn-color-unfitted-level-3);\n",
       "  color: var(--sklearn-color-background);\n",
       "  text-decoration: none;\n",
       "}\n",
       "\n",
       "#sk-container-id-4 a.estimator_doc_link.fitted:hover {\n",
       "  /* fitted */\n",
       "  background-color: var(--sklearn-color-fitted-level-3);\n",
       "}\n",
       "</style><div id=\"sk-container-id-4\" class=\"sk-top-container\"><div class=\"sk-text-repr-fallback\"><pre>GridSearchCV(cv=LastOrderUserTSCVSplitter(data_manager=&lt;data_management.data_manager.DataManager object at 0x1772f84d0&gt;,\n",
       "                                          n_splits=5),\n",
       "             estimator=Pipeline(steps=[(&#x27;selector&#x27;,\n",
       "                                        DatasetSelector(prepared_splits_dict={-8070716829487604255:          order_number  order_dow  order_hour_of_day  days_since_prior_order  \\\n",
       "0                   2          3                  7                    15.0   \n",
       "1                   3          3                 12                    21.0   \n",
       "2                   4          4                  7                    29.0   \n",
       "3                   5          4                 15                    28.0   \n",
       "4                   6          2                  7                    19.0   \n",
       "...               ...        ...                ...                     ...   \n",
       "300865...\n",
       "2            -0.074208         -0.113540  \n",
       "3            -0.032173          0.006456  \n",
       "9            -0.031424         -0.037953  \n",
       "...                ...               ...  \n",
       "3008655      -0.064174         -0.057342  \n",
       "3008656      -0.033737          0.028516  \n",
       "3008657      -0.037902         -0.016150  \n",
       "3008658      -0.083484         -0.109022  \n",
       "3008659      -0.064715         -0.072343  \n",
       "\n",
       "[2104923 rows x 18 columns]})),\n",
       "                                       (&#x27;scaler&#x27;, StandardScaler()),\n",
       "                                       (&#x27;nb&#x27;, GaussianNB())]),\n",
       "             n_jobs=2, param_grid={&#x27;nb__var_smoothing&#x27;: [1e-09, 1e-10, 1e-11]},\n",
       "             scoring=&#x27;accuracy&#x27;, verbose=1)</pre><b>In a Jupyter environment, please rerun this cell to show the HTML representation or trust the notebook. <br />On GitHub, the HTML representation is unable to render, please try loading this page with nbviewer.org.</b></div><div class=\"sk-container\" hidden><div class=\"sk-item sk-dashed-wrapped\"><div class=\"sk-label-container\"><div class=\"sk-label fitted sk-toggleable\"><input class=\"sk-toggleable__control sk-hidden--visually\" id=\"sk-estimator-id-16\" type=\"checkbox\" ><label for=\"sk-estimator-id-16\" class=\"sk-toggleable__label fitted sk-toggleable__label-arrow fitted\">&nbsp;&nbsp;GridSearchCV<a class=\"sk-estimator-doc-link fitted\" rel=\"noreferrer\" target=\"_blank\" href=\"https://scikit-learn.org/1.4/modules/generated/sklearn.model_selection.GridSearchCV.html\">?<span>Documentation for GridSearchCV</span></a><span class=\"sk-estimator-doc-link fitted\">i<span>Fitted</span></span></label><div class=\"sk-toggleable__content fitted\"><pre>GridSearchCV(cv=LastOrderUserTSCVSplitter(data_manager=&lt;data_management.data_manager.DataManager object at 0x1772f84d0&gt;,\n",
       "                                          n_splits=5),\n",
       "             estimator=Pipeline(steps=[(&#x27;selector&#x27;,\n",
       "                                        DatasetSelector(prepared_splits_dict={-8070716829487604255:          order_number  order_dow  order_hour_of_day  days_since_prior_order  \\\n",
       "0                   2          3                  7                    15.0   \n",
       "1                   3          3                 12                    21.0   \n",
       "2                   4          4                  7                    29.0   \n",
       "3                   5          4                 15                    28.0   \n",
       "4                   6          2                  7                    19.0   \n",
       "...               ...        ...                ...                     ...   \n",
       "300865...\n",
       "2            -0.074208         -0.113540  \n",
       "3            -0.032173          0.006456  \n",
       "9            -0.031424         -0.037953  \n",
       "...                ...               ...  \n",
       "3008655      -0.064174         -0.057342  \n",
       "3008656      -0.033737          0.028516  \n",
       "3008657      -0.037902         -0.016150  \n",
       "3008658      -0.083484         -0.109022  \n",
       "3008659      -0.064715         -0.072343  \n",
       "\n",
       "[2104923 rows x 18 columns]})),\n",
       "                                       (&#x27;scaler&#x27;, StandardScaler()),\n",
       "                                       (&#x27;nb&#x27;, GaussianNB())]),\n",
       "             n_jobs=2, param_grid={&#x27;nb__var_smoothing&#x27;: [1e-09, 1e-10, 1e-11]},\n",
       "             scoring=&#x27;accuracy&#x27;, verbose=1)</pre></div> </div></div><div class=\"sk-parallel\"><div class=\"sk-parallel-item\"><div class=\"sk-item\"><div class=\"sk-label-container\"><div class=\"sk-label fitted sk-toggleable\"><input class=\"sk-toggleable__control sk-hidden--visually\" id=\"sk-estimator-id-17\" type=\"checkbox\" ><label for=\"sk-estimator-id-17\" class=\"sk-toggleable__label fitted sk-toggleable__label-arrow fitted\">estimator: Pipeline</label><div class=\"sk-toggleable__content fitted\"><pre>Pipeline(steps=[(&#x27;selector&#x27;,\n",
       "                 DatasetSelector(prepared_splits_dict={-8070716829487604255:          order_number  order_dow  order_hour_of_day  days_since_prior_order  \\\n",
       "0                   2          3                  7                    15.0   \n",
       "1                   3          3                 12                    21.0   \n",
       "2                   4          4                  7                    29.0   \n",
       "3                   5          4                 15                    28.0   \n",
       "4                   6          2                  7                    19.0   \n",
       "...               ...        ...                ...                     ...   \n",
       "3008656             5          4                 15                     3.0   \n",
       "3008657             6          0                 16                     3.0   \n",
       "3008658             7          2                 13                     9.0   \n",
       "3008659             8          3                 17                    22.0   \n",
       "3008660             9          4                 15                    22.0   \n",
       "\n",
       "         tip_history  customer_lifetime  reordered_ratio  \\\n",
       "0           0.000000                 15            0.500   \n",
       "1           0.000000                 36            0....\n",
       "3008659                    0.166667             -0.075315       -0.056231   \n",
       "\n",
       "         dept_tip_rate  product_tip_rate  \n",
       "0            -0.068045         -0.048915  \n",
       "1            -0.093229         -0.066269  \n",
       "2            -0.074208         -0.113540  \n",
       "3            -0.032173          0.006456  \n",
       "9            -0.031424         -0.037953  \n",
       "...                ...               ...  \n",
       "3008655      -0.064174         -0.057342  \n",
       "3008656      -0.033737          0.028516  \n",
       "3008657      -0.037902         -0.016150  \n",
       "3008658      -0.083484         -0.109022  \n",
       "3008659      -0.064715         -0.072343  \n",
       "\n",
       "[2104923 rows x 18 columns]})),\n",
       "                (&#x27;scaler&#x27;, StandardScaler()), (&#x27;nb&#x27;, GaussianNB())])</pre></div> </div></div><div class=\"sk-serial\"><div class=\"sk-item\"><div class=\"sk-serial\"><div class=\"sk-item\"><div class=\"sk-estimator fitted sk-toggleable\"><input class=\"sk-toggleable__control sk-hidden--visually\" id=\"sk-estimator-id-18\" type=\"checkbox\" ><label for=\"sk-estimator-id-18\" class=\"sk-toggleable__label fitted sk-toggleable__label-arrow fitted\">DatasetSelector</label><div class=\"sk-toggleable__content fitted\"><pre>DatasetSelector(prepared_splits_dict={-8070716829487604255:          order_number  order_dow  order_hour_of_day  days_since_prior_order  \\\n",
       "0                   2          3                  7                    15.0   \n",
       "1                   3          3                 12                    21.0   \n",
       "2                   4          4                  7                    29.0   \n",
       "3                   5          4                 15                    28.0   \n",
       "4                   6          2                  7                    19.0   \n",
       "...               ...        ...                ...                     ...   \n",
       "3008656             5          4                 15                     3.0   \n",
       "3008657             6          0                 16                     3.0   \n",
       "3008658             7          2                 13                     9.0   \n",
       "3008659             8          3                 17                    22.0   \n",
       "3008660             9          4                 15                    22.0   \n",
       "\n",
       "         tip_history  customer_lifetime  reordered_ratio  \\\n",
       "0           0.000000                 15            0.500   \n",
       "1           0.000000                 36            0.600   \n",
       "2           0.000000                 65            1.000   \n",
       "3           0.000000...\n",
       "3008657                    0.500000              0.020000       -0.038390   \n",
       "3008658                    0.200000             -0.047728       -0.089270   \n",
       "3008659                    0.166667             -0.075315       -0.056231   \n",
       "\n",
       "         dept_tip_rate  product_tip_rate  \n",
       "0            -0.068045         -0.048915  \n",
       "1            -0.093229         -0.066269  \n",
       "2            -0.074208         -0.113540  \n",
       "3            -0.032173          0.006456  \n",
       "9            -0.031424         -0.037953  \n",
       "...                ...               ...  \n",
       "3008655      -0.064174         -0.057342  \n",
       "3008656      -0.033737          0.028516  \n",
       "3008657      -0.037902         -0.016150  \n",
       "3008658      -0.083484         -0.109022  \n",
       "3008659      -0.064715         -0.072343  \n",
       "\n",
       "[2104923 rows x 18 columns]})</pre></div> </div></div><div class=\"sk-item\"><div class=\"sk-estimator fitted sk-toggleable\"><input class=\"sk-toggleable__control sk-hidden--visually\" id=\"sk-estimator-id-19\" type=\"checkbox\" ><label for=\"sk-estimator-id-19\" class=\"sk-toggleable__label fitted sk-toggleable__label-arrow fitted\">&nbsp;StandardScaler<a class=\"sk-estimator-doc-link fitted\" rel=\"noreferrer\" target=\"_blank\" href=\"https://scikit-learn.org/1.4/modules/generated/sklearn.preprocessing.StandardScaler.html\">?<span>Documentation for StandardScaler</span></a></label><div class=\"sk-toggleable__content fitted\"><pre>StandardScaler()</pre></div> </div></div><div class=\"sk-item\"><div class=\"sk-estimator fitted sk-toggleable\"><input class=\"sk-toggleable__control sk-hidden--visually\" id=\"sk-estimator-id-20\" type=\"checkbox\" ><label for=\"sk-estimator-id-20\" class=\"sk-toggleable__label fitted sk-toggleable__label-arrow fitted\">&nbsp;GaussianNB<a class=\"sk-estimator-doc-link fitted\" rel=\"noreferrer\" target=\"_blank\" href=\"https://scikit-learn.org/1.4/modules/generated/sklearn.naive_bayes.GaussianNB.html\">?<span>Documentation for GaussianNB</span></a></label><div class=\"sk-toggleable__content fitted\"><pre>GaussianNB()</pre></div> </div></div></div></div></div></div></div></div></div></div></div>"
      ]
     },
     "execution_count": 43,
     "metadata": {},
     "output_type": "execute_result"
    }
   ],
   "execution_count": 43
  },
  {
   "metadata": {
    "ExecuteTime": {
     "end_time": "2024-06-17T15:52:55.838628Z",
     "start_time": "2024-06-17T15:52:55.837028Z"
    }
   },
   "cell_type": "code",
   "source": "",
   "id": "a8a6da5822214b57",
   "outputs": [],
   "execution_count": 43
  },
  {
   "cell_type": "code",
   "source": [
    "cv_results = grid_search_clf.cv_results_\n",
    "result_list = [grid_search_clf.cv_results_[f'split{i}_test_score'][grid_search_clf.best_index_] for i in range(5)]\n",
    "\n",
    "for i, result in enumerate(result_list):\n",
    "    print(f'Accuracy (Fold {i + 1}): {result}')\n",
    "\n",
    "print(f'\\nMean Accuracy: {cv_results[\"mean_test_score\"][grid_search_clf.best_index_]}')"
   ],
   "metadata": {
    "collapsed": false,
    "ExecuteTime": {
     "end_time": "2024-06-17T15:52:55.841454Z",
     "start_time": "2024-06-17T15:52:55.839164Z"
    }
   },
   "id": "9c6c998cccfeb82b",
   "outputs": [
    {
     "name": "stdout",
     "output_type": "stream",
     "text": [
      "Accuracy (Fold 1): 0.794654937466357\n",
      "Accuracy (Fold 2): 0.7907220344407858\n",
      "Accuracy (Fold 3): 0.7851917705229307\n",
      "Accuracy (Fold 4): 0.7780831688525699\n",
      "Accuracy (Fold 5): 0.7720389436600487\n",
      "\n",
      "Mean Accuracy: 0.7841381709885383\n"
     ]
    }
   ],
   "execution_count": 44
  },
  {
   "cell_type": "code",
   "source": [
    "grid_search_clf.best_score_"
   ],
   "metadata": {
    "collapsed": false,
    "ExecuteTime": {
     "end_time": "2024-06-17T15:52:55.844233Z",
     "start_time": "2024-06-17T15:52:55.841993Z"
    }
   },
   "id": "6e4dc773d726d820",
   "outputs": [
    {
     "data": {
      "text/plain": [
       "0.7841381709885383"
      ]
     },
     "execution_count": 45,
     "metadata": {},
     "output_type": "execute_result"
    }
   ],
   "execution_count": 45
  },
  {
   "cell_type": "code",
   "source": [
    "grid_search_clf.best_params_"
   ],
   "metadata": {
    "collapsed": false,
    "ExecuteTime": {
     "end_time": "2024-06-17T15:52:55.846355Z",
     "start_time": "2024-06-17T15:52:55.844724Z"
    }
   },
   "id": "966cc4c04cdc677e",
   "outputs": [
    {
     "data": {
      "text/plain": [
       "{'nb__var_smoothing': 1e-09}"
      ]
     },
     "execution_count": 46,
     "metadata": {},
     "output_type": "execute_result"
    }
   ],
   "execution_count": 46
  },
  {
   "cell_type": "code",
   "source": [
    "best_estimator = grid_search_clf.best_estimator_"
   ],
   "metadata": {
    "collapsed": false,
    "ExecuteTime": {
     "end_time": "2024-06-17T15:43:55.820133Z",
     "start_time": "2024-06-17T15:43:55.818768Z"
    }
   },
   "id": "864195b52e89024",
   "outputs": [],
   "execution_count": 23
  },
  {
   "metadata": {
    "ExecuteTime": {
     "end_time": "2024-06-17T15:15:37.035938Z",
     "start_time": "2024-06-17T15:15:37.034047Z"
    }
   },
   "cell_type": "code",
   "source": [
    "# Relevant for linear regression\n",
    "logreg_model = best_estimator.named_steps['logreg']\n",
    "coefficients = logreg_model.coef_\n",
    "intercept = logreg_model.intercept_\n",
    "\n",
    "print(\"Best parameters:\", grid_search_clf.best_params_)\n",
    "print(\"Coefficients:\", coefficients)\n",
    "print(\"Intercept:\", intercept)\n",
    "\n",
    "pltcoef = coefficients[0]\n",
    "\n",
    "import matplotlib.pyplot as plt\n",
    "plt.figure(figsize=(10, 6))\n",
    "plt.bar(features, pltcoef)\n",
    "plt.xlabel('Features')\n",
    "plt.ylabel('Coefficient Value')\n",
    "plt.title('Coefficients of Linear Model')\n",
    "plt.xticks(rotation=45)\n",
    "plt.grid(True)\n",
    "plt.tight_layout()\n",
    "plt.show()"
   ],
   "id": "9e666836d60a5d67",
   "outputs": [
    {
     "name": "stdout",
     "output_type": "stream",
     "text": [
      "Best parameters: {'logreg__C': 0.001, 'logreg__solver': 'sag'}\n",
      "Coefficients: [[-0.68114537 -0.00465985 -0.05736427 -0.12053306  2.38529508  0.32146342\n",
      "  -0.33154621  0.79110887 -0.9226077   2.7156059   0.59494381  0.8051806\n",
      "   0.85252069  0.73677522  0.01476508  1.7547354   1.84671362  1.97335151]]\n",
      "Intercept: [-3.63042402]\n"
     ]
    }
   ],
   "execution_count": 47
  },
  {
   "cell_type": "code",
   "source": [
    "# features = ['order_number', 'order_dow', 'order_hour_of_day', 'days_since_prior_order', 'order_size', 'tip_history',\n",
    "#             'dynamic_feature_test_1', 'dynamic_feature_test_2']\n",
    "#\n",
    "# prepared_splits_dict = last_order_user_tscv_splitter.import_splits('data/prepared_data/', features)"
   ],
   "metadata": {
    "collapsed": false
   },
   "id": "ffbb8b8e189eee90",
   "outputs": [],
   "execution_count": null
  },
  {
   "cell_type": "code",
   "source": [
    "# all_orders = data_manager.get_orders_tip(complete=True)\n",
    "# all_orders.shape"
   ],
   "metadata": {
    "collapsed": false
   },
   "id": "7fb459d1efacc251",
   "outputs": [],
   "execution_count": null
  },
  {
   "cell_type": "code",
   "source": [
    "# data_manager.set_subset(all_orders['order_id'])"
   ],
   "metadata": {
    "collapsed": false
   },
   "id": "130761ebc5042704",
   "outputs": [],
   "execution_count": null
  },
  {
   "cell_type": "code",
   "source": [
    "# validation_test = data_manager.get_orders_tip_test()\n",
    "# validation_test.shape"
   ],
   "metadata": {
    "collapsed": false
   },
   "id": "3d561493b5779a41",
   "outputs": [],
   "execution_count": null
  },
  {
   "cell_type": "code",
   "source": [
    "# validation_train = data_manager.get_orders_tip_train()\n",
    "# validation_train.shape"
   ],
   "metadata": {
    "collapsed": false
   },
   "id": "252a1df042e43c48",
   "outputs": [],
   "execution_count": null
  },
  {
   "cell_type": "code",
   "source": [
    "# validation_train_without_first = validation_train[validation_train['order_number'] > 1]\n",
    "# validation_train_without_first.shape"
   ],
   "metadata": {
    "collapsed": false
   },
   "id": "e4d8351c5e87e370",
   "outputs": [],
   "execution_count": null
  },
  {
   "cell_type": "code",
   "source": [
    "# prepared_splits_dict[-1147446606210854265].shape[0]"
   ],
   "metadata": {
    "collapsed": false
   },
   "id": "117e17f2afc048a8",
   "outputs": [],
   "execution_count": null
  },
  {
   "cell_type": "code",
   "source": [
    "# all_orders_without_first = all_orders[all_orders['order_number'] > 1].reset_index(drop=True)\n",
    "# all_orders_without_first.shape"
   ],
   "metadata": {
    "collapsed": false
   },
   "id": "9c60aad6c08f1f53",
   "outputs": [],
   "execution_count": null
  },
  {
   "cell_type": "code",
   "source": [
    "# validation_train_without_first[features].reset_index(drop=True)"
   ],
   "metadata": {
    "collapsed": false
   },
   "id": "c94116b013109d31",
   "outputs": [],
   "execution_count": null
  },
  {
   "cell_type": "code",
   "source": [
    "# prepared_splits_dict[-1147446606210854265]"
   ],
   "metadata": {
    "collapsed": false
   },
   "id": "3ec81df56dbba40c",
   "outputs": [],
   "execution_count": null
  },
  {
   "cell_type": "code",
   "source": [
    "# round(prepared_splits_dict[-1147446606210854265], 6).equals(round(validation_train_without_first[\n",
    "#                                                                       features].reset_index(drop=True), 6))"
   ],
   "metadata": {
    "collapsed": false
   },
   "id": "df36142b84d1c78f",
   "outputs": [],
   "execution_count": null
  },
  {
   "cell_type": "code",
   "source": [
    "# validation_test[features]"
   ],
   "metadata": {
    "collapsed": false
   },
   "id": "4a1a17ef95d391b5",
   "outputs": [],
   "execution_count": null
  },
  {
   "cell_type": "code",
   "source": [
    "# prepared_splits_dict[4027820417624348460]"
   ],
   "metadata": {
    "collapsed": false
   },
   "id": "8a558900588b3a25",
   "outputs": [],
   "execution_count": null
  },
  {
   "cell_type": "code",
   "source": [
    "# round(prepared_splits_dict[4027820417624348460].reset_index(drop=True), 6).equals(round(\n",
    "#     validation_test[features].reset_index(drop=True), 6))"
   ],
   "metadata": {
    "collapsed": false
   },
   "id": "3d0b42618d4c720d",
   "outputs": [],
   "execution_count": null
  },
  {
   "cell_type": "markdown",
   "source": [
    "### Prediction\n",
    "\n",
    "IMPORTANT:\n",
    "- Before predicting, the indices must probably be reseted, for X and y\n",
    "- To save the results, we must join the predictions with the template based on the ORDER_ID, beause the indices don't align\n"
   ],
   "metadata": {
    "collapsed": false
   },
   "id": "53d2fcdbca15153"
  },
  {
   "cell_type": "code",
   "source": [
    "# orders_tip_test = data_manager.get_orders_tip_test()\n",
    "# orders_tip_test['tip'] = best_estimator.predict(orders_tip_test[features])"
   ],
   "metadata": {
    "collapsed": false
   },
   "id": "7b82eab73b08cd2f",
   "outputs": [],
   "execution_count": null
  },
  {
   "cell_type": "code",
   "source": [
    "# orders_tip_test_csv = orders_tip_test[tip_test.columns].copy()\n",
    "# orders_tip_test_csv.rename(columns={tip_test.columns[0]: ''}, inplace=True)\n",
    "# orders_tip_test_csv"
   ],
   "metadata": {
    "collapsed": false
   },
   "id": "45c41fb0baa49b56",
   "outputs": [],
   "execution_count": null
  },
  {
   "cell_type": "code",
   "source": [
    "# orders_tip_test_csv.to_csv(os.path.join(DATA_DIR, 'tip_testdaten1.csv'), index=False)"
   ],
   "metadata": {
    "collapsed": false
   },
   "id": "db65af74bde4df1d",
   "outputs": [],
   "execution_count": null
  }
 ],
 "metadata": {
  "kernelspec": {
   "display_name": "Python 3 (ipykernel)",
   "language": "python",
   "name": "python3"
  },
  "language_info": {
   "codemirror_mode": {
    "name": "ipython",
    "version": 3
   },
   "file_extension": ".py",
   "mimetype": "text/x-python",
   "name": "python",
   "nbconvert_exporter": "python",
   "pygments_lexer": "ipython3",
   "version": "3.11.8"
  }
 },
 "nbformat": 4,
 "nbformat_minor": 5
}
