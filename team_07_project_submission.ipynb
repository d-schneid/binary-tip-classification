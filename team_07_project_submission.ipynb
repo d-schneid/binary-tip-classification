{
 "cells": [
  {
   "cell_type": "markdown",
   "id": "7aea19f30bc2952",
   "metadata": {
    "collapsed": false
   },
   "source": [
    "# Data Science Project SoSe 2024\n",
    "## Team 07\n",
    "- Maximilian Hoffmann\n",
    "- Kilian Kempf\n",
    "- Daniel Schneider\n",
    "- Tom Schuck\n",
    "\n",
    "## Project Submission"
   ]
  },
  {
   "cell_type": "markdown",
   "id": "b1817857eb895437",
   "metadata": {
    "collapsed": false
   },
   "source": [
    "### Data Initialization"
   ]
  },
  {
   "cell_type": "code",
   "execution_count": 1,
   "id": "2ac69658072618d1",
   "metadata": {
    "collapsed": false,
    "ExecuteTime": {
     "end_time": "2024-06-08T16:29:15.572878700Z",
     "start_time": "2024-06-08T16:28:45.555425400Z"
    }
   },
   "outputs": [],
   "source": [
    "import os\n",
    "\n",
    "import pandas as pd\n",
    "\n",
    "from data_management import DataManager\n",
    "\n",
    "DATA_DIR = os.path.join(os.getcwd(), 'data/Instacart')\n",
    "\n",
    "op_prior = pd.read_csv(os.path.join(DATA_DIR, 'order_products__prior.csv.zip'))\n",
    "op_train = pd.read_csv(os.path.join(DATA_DIR, 'order_products__train.csv.zip'))\n",
    "\n",
    "tip_train = pd.read_csv(os.path.join(DATA_DIR, 'tip_trainingsdaten1_.csv'))[['order_id', 'tip']]\n",
    "tip_test = pd.read_csv(os.path.join(DATA_DIR, 'tip_testdaten1_template.csv'))\n",
    "\n",
    "orders = pd.read_csv(os.path.join(DATA_DIR, 'orders.csv.zip'))\n",
    "aisles = pd.read_csv(os.path.join(DATA_DIR, 'aisles.csv.zip'))\n",
    "departments = pd.read_csv(os.path.join(DATA_DIR, 'departments.csv.zip'))\n",
    "products = pd.read_csv(os.path.join(DATA_DIR, 'products.csv.zip'))\n",
    "\n",
    "data_manager = DataManager(op_prior, op_train, tip_train, tip_test, orders, products, aisles, departments)\n",
    "order_amount = len(data_manager.get_orders_tip())"
   ]
  },
  {
   "cell_type": "markdown",
   "id": "d11d62b342b9ebc8",
   "metadata": {
    "collapsed": false
   },
   "source": [
    "### Feature Engineering"
   ]
  },
  {
   "cell_type": "code",
   "execution_count": 2,
   "id": "6a897e084cc934ce",
   "metadata": {
    "collapsed": false,
    "ExecuteTime": {
     "end_time": "2024-06-08T16:29:15.623889900Z",
     "start_time": "2024-06-08T16:29:15.574891800Z"
    }
   },
   "outputs": [],
   "source": [
    "from feature_engineering.static_features import TipHistory, ReorderedRatio, OrderSize, PrevTippedProductsRatio, \\\n",
    "    CustomerLifetime, PrevOrderTipped, OrderFrequency, SimOrdersTipRatio, AvgSizePrevOrders, MeanOrderedRate, \\\n",
    "    LastTipSequence, RelDaysSinceTip, DaysSinceTip\n",
    "\n",
    "from feature_engineering.dynamic_features import ProductTipRate, DepartmentTipRate, AisleTipRate, DynamicFeatureTest1, \\\n",
    "    DynamicFeatureTest2\n",
    "\n",
    "# Kilian\n",
    "tip_history = TipHistory()\n",
    "reordered_rate = ReorderedRatio()\n",
    "order_size = OrderSize()\n",
    "prev_tipped_products_ratio = PrevTippedProductsRatio()\n",
    "customer_lifetime = CustomerLifetime()\n",
    "prev_order_tipped = PrevOrderTipped()\n",
    "\n",
    "# Daniel\n",
    "order_frequency = OrderFrequency()\n",
    "mean_ordered_rate = MeanOrderedRate()\n",
    "rel_days_since_tip = RelDaysSinceTip()\n",
    "days_since_tip = DaysSinceTip()\n",
    "\n",
    "# Max\n",
    "sim_orders_tip_ratio = SimOrdersTipRatio()\n",
    "product_tip_rate = ProductTipRate()\n",
    "department_tip_rate = DepartmentTipRate()\n",
    "aisle_tip_rate = AisleTipRate()\n",
    "last_tip_sequence = LastTipSequence()  # TODO: Maybe remove weighting or add additional feature without weoghting\n",
    "\n",
    "# Tom\n",
    "avg_size_prev_orders = AvgSizePrevOrders()\n",
    "\n",
    "# Test\n",
    "dynamic_feature_test_1 = DynamicFeatureTest1()\n",
    "dynamic_feature_test_2 = DynamicFeatureTest2()"
   ]
  },
  {
   "cell_type": "code",
   "execution_count": 3,
   "id": "7bdee9f31e0bac1b",
   "metadata": {
    "collapsed": false,
    "ExecuteTime": {
     "end_time": "2024-06-08T16:29:15.623889900Z",
     "start_time": "2024-06-08T16:29:15.617415900Z"
    }
   },
   "outputs": [],
   "source": [
    "# Static Features\n",
    "data_manager.register_feature(tip_history)\n",
    "# data_manager.register_feature(reordered_rate)\n",
    "data_manager.register_feature(order_size)\n",
    "# data_manager.register_feature(customer_lifetime)\n",
    "# data_manager.register_feature(prev_order_tipped)\n",
    "# data_manager.register_feature(prev_tipped_products_ratio)\n",
    "\n",
    "# data_manager.register_feature(order_frequency)\n",
    "# data_manager.register_feature(sim_orders_tip_ratio)\n",
    "# data_manager.register_feature(order_excess_likability)\n",
    "# data_manager.register_feature(avg_size_prev_orders)\n",
    "# data_manager.register_feature(mean_ordered_rate)\n",
    "# data_manager.register_feature(last_tip_sequence)\n",
    "# data_manager.register_feature(rel_days_since_tip)\n",
    "# data_manager.register_feature(days_since_tip)\n",
    "\n",
    "# # Dynamic Features\n",
    "# data_manager.register_feature(dynamic_feature_test_1)\n",
    "# data_manager.register_feature(dynamic_feature_test_2)\n",
    "# data_manager.register_feature(product_tip_rate)\n",
    "# data_manager.register_feature(department_tip_rate)\n",
    "# data_manager.register_feature(aisle_tip_rate)"
   ]
  },
  {
   "cell_type": "code",
   "execution_count": 4,
   "id": "6b815abe51807fce",
   "metadata": {
    "collapsed": false,
    "ExecuteTime": {
     "end_time": "2024-06-08T16:29:19.039606100Z",
     "start_time": "2024-06-08T16:29:15.621610900Z"
    }
   },
   "outputs": [],
   "source": [
    "data_manager.compute_features()"
   ]
  },
  {
   "cell_type": "code",
   "execution_count": 5,
   "id": "3657b7049bf9e8c2",
   "metadata": {
    "ExecuteTime": {
     "end_time": "2024-06-08T16:29:19.067059600Z",
     "start_time": "2024-06-08T16:29:19.040610900Z"
    }
   },
   "outputs": [
    {
     "data": {
      "text/plain": "    order_id  user_id eval_set  order_number  order_dow  order_hour_of_day  \\\n0    2539329        1    prior             1          2                  8   \n1    2398795        1    prior             2          3                  7   \n2     473747        1    prior             3          3                 12   \n3    2254736        1    prior             4          4                  7   \n4     431534        1    prior             5          4                 15   \n..       ...      ...      ...           ...        ...                ...   \n95   1916106       12    prior             3          5                  8   \n96   1057378       12    prior             4          3                  9   \n97    221248       12    prior             5          1                  9   \n98   2618231       13    prior             1          6                 12   \n99   2560699       13    prior             2          0                 11   \n\n    days_since_prior_order  tip  order_size  tip_history  \n0                      NaN  0.0           5          NaN  \n1                     15.0  0.0           6          0.0  \n2                     21.0  0.0           5          0.0  \n3                     29.0  0.0           5          0.0  \n4                     28.0  0.0           8          0.0  \n..                     ...  ...         ...          ...  \n95                    14.0  0.0          12          0.0  \n96                    26.0  0.0          20          0.0  \n97                    30.0  0.0          22          0.0  \n98                     NaN  0.0           5          NaN  \n99                     8.0  1.0           4          0.0  \n\n[100 rows x 10 columns]",
      "text/html": "<div>\n<style scoped>\n    .dataframe tbody tr th:only-of-type {\n        vertical-align: middle;\n    }\n\n    .dataframe tbody tr th {\n        vertical-align: top;\n    }\n\n    .dataframe thead th {\n        text-align: right;\n    }\n</style>\n<table border=\"1\" class=\"dataframe\">\n  <thead>\n    <tr style=\"text-align: right;\">\n      <th></th>\n      <th>order_id</th>\n      <th>user_id</th>\n      <th>eval_set</th>\n      <th>order_number</th>\n      <th>order_dow</th>\n      <th>order_hour_of_day</th>\n      <th>days_since_prior_order</th>\n      <th>tip</th>\n      <th>order_size</th>\n      <th>tip_history</th>\n    </tr>\n  </thead>\n  <tbody>\n    <tr>\n      <th>0</th>\n      <td>2539329</td>\n      <td>1</td>\n      <td>prior</td>\n      <td>1</td>\n      <td>2</td>\n      <td>8</td>\n      <td>NaN</td>\n      <td>0.0</td>\n      <td>5</td>\n      <td>NaN</td>\n    </tr>\n    <tr>\n      <th>1</th>\n      <td>2398795</td>\n      <td>1</td>\n      <td>prior</td>\n      <td>2</td>\n      <td>3</td>\n      <td>7</td>\n      <td>15.0</td>\n      <td>0.0</td>\n      <td>6</td>\n      <td>0.0</td>\n    </tr>\n    <tr>\n      <th>2</th>\n      <td>473747</td>\n      <td>1</td>\n      <td>prior</td>\n      <td>3</td>\n      <td>3</td>\n      <td>12</td>\n      <td>21.0</td>\n      <td>0.0</td>\n      <td>5</td>\n      <td>0.0</td>\n    </tr>\n    <tr>\n      <th>3</th>\n      <td>2254736</td>\n      <td>1</td>\n      <td>prior</td>\n      <td>4</td>\n      <td>4</td>\n      <td>7</td>\n      <td>29.0</td>\n      <td>0.0</td>\n      <td>5</td>\n      <td>0.0</td>\n    </tr>\n    <tr>\n      <th>4</th>\n      <td>431534</td>\n      <td>1</td>\n      <td>prior</td>\n      <td>5</td>\n      <td>4</td>\n      <td>15</td>\n      <td>28.0</td>\n      <td>0.0</td>\n      <td>8</td>\n      <td>0.0</td>\n    </tr>\n    <tr>\n      <th>...</th>\n      <td>...</td>\n      <td>...</td>\n      <td>...</td>\n      <td>...</td>\n      <td>...</td>\n      <td>...</td>\n      <td>...</td>\n      <td>...</td>\n      <td>...</td>\n      <td>...</td>\n    </tr>\n    <tr>\n      <th>95</th>\n      <td>1916106</td>\n      <td>12</td>\n      <td>prior</td>\n      <td>3</td>\n      <td>5</td>\n      <td>8</td>\n      <td>14.0</td>\n      <td>0.0</td>\n      <td>12</td>\n      <td>0.0</td>\n    </tr>\n    <tr>\n      <th>96</th>\n      <td>1057378</td>\n      <td>12</td>\n      <td>prior</td>\n      <td>4</td>\n      <td>3</td>\n      <td>9</td>\n      <td>26.0</td>\n      <td>0.0</td>\n      <td>20</td>\n      <td>0.0</td>\n    </tr>\n    <tr>\n      <th>97</th>\n      <td>221248</td>\n      <td>12</td>\n      <td>prior</td>\n      <td>5</td>\n      <td>1</td>\n      <td>9</td>\n      <td>30.0</td>\n      <td>0.0</td>\n      <td>22</td>\n      <td>0.0</td>\n    </tr>\n    <tr>\n      <th>98</th>\n      <td>2618231</td>\n      <td>13</td>\n      <td>prior</td>\n      <td>1</td>\n      <td>6</td>\n      <td>12</td>\n      <td>NaN</td>\n      <td>0.0</td>\n      <td>5</td>\n      <td>NaN</td>\n    </tr>\n    <tr>\n      <th>99</th>\n      <td>2560699</td>\n      <td>13</td>\n      <td>prior</td>\n      <td>2</td>\n      <td>0</td>\n      <td>11</td>\n      <td>8.0</td>\n      <td>1.0</td>\n      <td>4</td>\n      <td>0.0</td>\n    </tr>\n  </tbody>\n</table>\n<p>100 rows × 10 columns</p>\n</div>"
     },
     "execution_count": 5,
     "metadata": {},
     "output_type": "execute_result"
    }
   ],
   "source": [
    "data_manager.get_orders_tip().head(100)"
   ]
  },
  {
   "cell_type": "code",
   "execution_count": 6,
   "id": "d879a6a14f49589a",
   "metadata": {
    "collapsed": false,
    "ExecuteTime": {
     "end_time": "2024-06-08T16:29:19.069193600Z",
     "start_time": "2024-06-08T16:29:19.064775700Z"
    }
   },
   "outputs": [],
   "source": [
    "# data_manager.export_features('data/prepared_data/computed_features.csv.zip', only_static=False)"
   ]
  },
  {
   "cell_type": "code",
   "execution_count": 7,
   "id": "5e56cee1c81131b2",
   "metadata": {
    "collapsed": false,
    "ExecuteTime": {
     "end_time": "2024-06-08T16:29:19.094165600Z",
     "start_time": "2024-06-08T16:29:19.067059600Z"
    }
   },
   "outputs": [],
   "source": [
    "# data_manager.import_features('data/prepared_data/computed_features.csv.zip', only_static=False)"
   ]
  },
  {
   "cell_type": "code",
   "execution_count": 8,
   "id": "8f2a4c2575deb79a",
   "metadata": {
    "collapsed": false,
    "ExecuteTime": {
     "end_time": "2024-06-08T16:29:19.094670Z",
     "start_time": "2024-06-08T16:29:19.071705500Z"
    }
   },
   "outputs": [],
   "source": [
    "# data_manager.get_orders_tip().head(100)"
   ]
  },
  {
   "cell_type": "code",
   "execution_count": 9,
   "id": "c8f20e5050aee4ab",
   "metadata": {
    "collapsed": false,
    "ExecuteTime": {
     "end_time": "2024-06-08T16:29:19.095676Z",
     "start_time": "2024-06-08T16:29:19.074940900Z"
    }
   },
   "outputs": [],
   "source": [
    "# test = data_manager.get_orders_tip()"
   ]
  },
  {
   "cell_type": "code",
   "execution_count": 10,
   "id": "70be2ca230e12d01",
   "metadata": {
    "collapsed": false,
    "ExecuteTime": {
     "end_time": "2024-06-08T16:29:19.117032700Z",
     "start_time": "2024-06-08T16:29:19.078626600Z"
    }
   },
   "outputs": [],
   "source": [
    "# print(f\"Number of orders: {len(data_manager.get_orders_tip())}\")\n",
    "# print(f\"Number of orders did not change: {order_amount == len(data_manager.get_orders_tip())}\\n\")\n",
    "# print(f\"Number of NaN or null values in each column:\\n{data_manager.get_orders_tip().isnull().sum()}\")"
   ]
  },
  {
   "cell_type": "code",
   "execution_count": 11,
   "id": "ed21e9e41111b301",
   "metadata": {
    "collapsed": false,
    "ExecuteTime": {
     "end_time": "2024-06-08T16:29:19.119027800Z",
     "start_time": "2024-06-08T16:29:19.081154500Z"
    }
   },
   "outputs": [],
   "source": [
    "# order_ids = data_manager.get_orders_tip(complete=True).groupby('user_id')['order_id'].head(5)\n",
    "# order_amount = len(order_ids)"
   ]
  },
  {
   "cell_type": "code",
   "execution_count": 12,
   "id": "a9c4a8244b861028",
   "metadata": {
    "collapsed": false,
    "ExecuteTime": {
     "end_time": "2024-06-08T16:29:19.120021500Z",
     "start_time": "2024-06-08T16:29:19.084231300Z"
    }
   },
   "outputs": [],
   "source": [
    "# data_manager.set_subset(order_ids)"
   ]
  },
  {
   "cell_type": "code",
   "execution_count": 13,
   "id": "82124a97baebc52",
   "metadata": {
    "collapsed": false,
    "ExecuteTime": {
     "end_time": "2024-06-08T16:29:19.120021500Z",
     "start_time": "2024-06-08T16:29:19.087982100Z"
    }
   },
   "outputs": [],
   "source": [
    "# data_manager.get_orders_tip().head(25)"
   ]
  },
  {
   "cell_type": "code",
   "execution_count": 14,
   "id": "e35d205a2cb3a9a7",
   "metadata": {
    "collapsed": false,
    "ExecuteTime": {
     "end_time": "2024-06-08T16:29:19.163611300Z",
     "start_time": "2024-06-08T16:29:19.094008600Z"
    }
   },
   "outputs": [],
   "source": [
    "# print(f\"Number of orders: {len(data_manager.get_orders_tip())}\")\n",
    "# print(f\"Number of orders did not change: {order_amount == len(data_manager.get_orders_tip())}\\n\")\n",
    "# print(f\"Number of NaN or null values in each column:\\n{data_manager.get_orders_tip().isnull().sum()}\")"
   ]
  },
  {
   "cell_type": "code",
   "execution_count": 15,
   "id": "f74c035a9f150c03",
   "metadata": {
    "collapsed": false,
    "ExecuteTime": {
     "end_time": "2024-06-08T16:29:19.164771400Z",
     "start_time": "2024-06-08T16:29:19.095676Z"
    }
   },
   "outputs": [],
   "source": [
    "# order_ids = data_manager.get_orders_tip(complete=True).groupby('user_id')['order_id'].head(4)\n",
    "# order_amount = len(order_ids)\n",
    "# \n",
    "# data_manager.set_subset(order_ids)\n",
    "# data_manager.get_orders_tip().head(25)"
   ]
  },
  {
   "cell_type": "code",
   "execution_count": 16,
   "id": "9ec949cdfc48d38e",
   "metadata": {
    "collapsed": false,
    "ExecuteTime": {
     "end_time": "2024-06-08T16:29:19.181784400Z",
     "start_time": "2024-06-08T16:29:19.099368200Z"
    }
   },
   "outputs": [],
   "source": [
    "# print(f\"Number of orders: {len(data_manager.get_orders_tip())}\")\n",
    "# print(f\"Number of orders did not change: {order_amount == len(data_manager.get_orders_tip())}\\n\")\n",
    "# print(f\"Number of NaN or null values in each column:\\n{data_manager.get_orders_tip().isnull().sum()}\")"
   ]
  },
  {
   "cell_type": "markdown",
   "id": "d571331aa19136d5",
   "metadata": {
    "collapsed": false
   },
   "source": [
    "### Analysis\n",
    "- Only orders from the training set (orders with tip information) are considered"
   ]
  },
  {
   "cell_type": "code",
   "execution_count": 17,
   "id": "a09a31448a99e7e0",
   "metadata": {
    "collapsed": false,
    "ExecuteTime": {
     "end_time": "2024-06-08T16:29:19.889819600Z",
     "start_time": "2024-06-08T16:29:19.103511Z"
    }
   },
   "outputs": [],
   "source": [
    "from analysis import DayOfWeek, HourOfDay, DaysSincePriorOrder, OrderNumber, Department, Aisle, Product"
   ]
  },
  {
   "cell_type": "code",
   "execution_count": 18,
   "id": "4be267945f618a88",
   "metadata": {
    "collapsed": false,
    "ExecuteTime": {
     "end_time": "2024-06-08T16:30:00.453796600Z",
     "start_time": "2024-06-08T16:29:19.890819700Z"
    }
   },
   "outputs": [],
   "source": [
    "day_of_week = DayOfWeek(data_manager)\n",
    "hour_of_day = HourOfDay(data_manager)\n",
    "days_since_prior_order = DaysSincePriorOrder(data_manager)\n",
    "order_number = OrderNumber(data_manager)\n",
    "department = Department(data_manager)\n",
    "aisle = Aisle(data_manager)\n",
    "product = Product(data_manager)\n",
    "# number_order_user = NumberOrderUser(data_manager)"
   ]
  },
  {
   "cell_type": "code",
   "execution_count": 19,
   "id": "de5ab313cde80cab",
   "metadata": {
    "collapsed": false,
    "ExecuteTime": {
     "end_time": "2024-06-08T16:30:00.498486Z",
     "start_time": "2024-06-08T16:30:00.482220900Z"
    }
   },
   "outputs": [],
   "source": [
    "# day_of_week.execute_analysis()"
   ]
  },
  {
   "cell_type": "code",
   "execution_count": 20,
   "id": "fc25465ac99bd8a",
   "metadata": {
    "collapsed": false,
    "ExecuteTime": {
     "end_time": "2024-06-08T16:30:00.580979100Z",
     "start_time": "2024-06-08T16:30:00.489233100Z"
    }
   },
   "outputs": [],
   "source": [
    "# hour_of_day.execute_analysis()"
   ]
  },
  {
   "cell_type": "code",
   "execution_count": 21,
   "id": "1935f461e5cadb36",
   "metadata": {
    "collapsed": false,
    "ExecuteTime": {
     "end_time": "2024-06-08T16:30:00.581976Z",
     "start_time": "2024-06-08T16:30:00.503993600Z"
    }
   },
   "outputs": [],
   "source": [
    "# days_since_prior_order.execute_analysis()"
   ]
  },
  {
   "cell_type": "code",
   "execution_count": 22,
   "id": "61ab78ca758fe69b",
   "metadata": {
    "collapsed": false,
    "ExecuteTime": {
     "end_time": "2024-06-08T16:30:00.582976700Z",
     "start_time": "2024-06-08T16:30:00.509133Z"
    }
   },
   "outputs": [],
   "source": [
    "# order_number.execute_analysis()"
   ]
  },
  {
   "cell_type": "code",
   "execution_count": 23,
   "id": "ef07aadff9a64100",
   "metadata": {
    "collapsed": false,
    "ExecuteTime": {
     "end_time": "2024-06-08T16:30:00.583975300Z",
     "start_time": "2024-06-08T16:30:00.513816400Z"
    }
   },
   "outputs": [],
   "source": [
    "# department.execute_analysis()"
   ]
  },
  {
   "cell_type": "code",
   "execution_count": 24,
   "id": "3f084df0e69a8f47",
   "metadata": {
    "collapsed": false,
    "ExecuteTime": {
     "end_time": "2024-06-08T16:30:00.596590600Z",
     "start_time": "2024-06-08T16:30:00.520377100Z"
    }
   },
   "outputs": [],
   "source": [
    "# aisle.execute_analysis()"
   ]
  },
  {
   "cell_type": "code",
   "execution_count": 25,
   "id": "9eb958b973ace283",
   "metadata": {
    "collapsed": false,
    "ExecuteTime": {
     "end_time": "2024-06-08T16:30:00.626184100Z",
     "start_time": "2024-06-08T16:30:00.523853300Z"
    }
   },
   "outputs": [],
   "source": [
    "# product.execute_analysis()"
   ]
  },
  {
   "cell_type": "code",
   "execution_count": 26,
   "id": "20d37cf36392362c",
   "metadata": {
    "ExecuteTime": {
     "end_time": "2024-06-08T16:30:00.627870500Z",
     "start_time": "2024-06-08T16:30:00.530114500Z"
    }
   },
   "outputs": [],
   "source": [
    "# number_order_user.execute_analysis()"
   ]
  },
  {
   "cell_type": "markdown",
   "id": "63ca3a2c4358810d",
   "metadata": {
    "collapsed": false
   },
   "source": [
    "### Data Preparation"
   ]
  },
  {
   "cell_type": "code",
   "execution_count": 27,
   "id": "b9e09d0cfa2575f4",
   "metadata": {
    "collapsed": false,
    "ExecuteTime": {
     "end_time": "2024-06-08T16:30:00.646211600Z",
     "start_time": "2024-06-08T16:30:00.539250700Z"
    }
   },
   "outputs": [],
   "source": [
    "from feature_engineering.static_features import DowHighTipProbability, HodHighTipProbability, OrderNumberSquared, \\\n",
    "    ContainsAlcohol\n",
    "\n",
    "data_manager.register_feature(DowHighTipProbability())\n",
    "data_manager.register_feature(HodHighTipProbability())\n",
    "data_manager.register_feature(OrderNumberSquared())\n",
    "data_manager.register_feature(ContainsAlcohol())"
   ]
  },
  {
   "cell_type": "code",
   "execution_count": 28,
   "id": "7abbbc99cec0f748",
   "metadata": {
    "collapsed": false,
    "ExecuteTime": {
     "end_time": "2024-06-08T16:30:08.163953800Z",
     "start_time": "2024-06-08T16:30:00.592966600Z"
    }
   },
   "outputs": [],
   "source": [
    "data_manager.compute_features()"
   ]
  },
  {
   "cell_type": "markdown",
   "id": "9038d3d52fbf8ad1",
   "metadata": {
    "collapsed": false
   },
   "source": [
    "### Model Training & Evaluation"
   ]
  },
  {
   "cell_type": "code",
   "execution_count": 29,
   "id": "ad73673f8150801a",
   "metadata": {
    "collapsed": false,
    "ExecuteTime": {
     "end_time": "2024-06-08T16:30:08.182089200Z",
     "start_time": "2024-06-08T16:30:08.169026100Z"
    }
   },
   "outputs": [],
   "source": [
    "from data_management import LastOrderUserTSCVSplitter"
   ]
  },
  {
   "cell_type": "code",
   "outputs": [
    {
     "data": {
      "text/plain": "(3346083, 14)"
     },
     "execution_count": 30,
     "metadata": {},
     "output_type": "execute_result"
    }
   ],
   "source": [
    "orders_tip = data_manager.get_orders_tip()\n",
    "orders_tip.shape"
   ],
   "metadata": {
    "collapsed": false,
    "ExecuteTime": {
     "end_time": "2024-06-08T16:30:08.216600900Z",
     "start_time": "2024-06-08T16:30:08.175531100Z"
    }
   },
   "id": "296f0a70ecd5fdaf",
   "execution_count": 30
  },
  {
   "cell_type": "code",
   "outputs": [],
   "source": [
    "orders_ids = orders_tip[orders_tip['order_number'] > 1]['order_id']\n",
    "data_manager.set_subset(orders_ids)"
   ],
   "metadata": {
    "collapsed": false,
    "ExecuteTime": {
     "end_time": "2024-06-08T16:30:46.600446900Z",
     "start_time": "2024-06-08T16:30:08.232129900Z"
    }
   },
   "id": "58fe40ad3b454c2f",
   "execution_count": 31
  },
  {
   "cell_type": "code",
   "outputs": [
    {
     "data": {
      "text/plain": "(3008665, 14)"
     },
     "execution_count": 32,
     "metadata": {},
     "output_type": "execute_result"
    }
   ],
   "source": [
    "orders_tip_train = data_manager.get_orders_tip_train()\n",
    "orders_tip_train.shape"
   ],
   "metadata": {
    "collapsed": false,
    "ExecuteTime": {
     "end_time": "2024-06-08T16:30:46.979446300Z",
     "start_time": "2024-06-08T16:30:46.608974900Z"
    }
   },
   "id": "a4973c8badaabf60",
   "execution_count": 32
  },
  {
   "cell_type": "code",
   "outputs": [],
   "source": [
    "# cv = KFold(n_splits=5, shuffle=True, random_state=42)"
   ],
   "metadata": {
    "collapsed": false,
    "ExecuteTime": {
     "end_time": "2024-06-08T16:30:46.980452200Z",
     "start_time": "2024-06-08T16:30:46.972854600Z"
    }
   },
   "id": "347835c33413ab0",
   "execution_count": 33
  },
  {
   "cell_type": "code",
   "outputs": [],
   "source": [
    "last_order_user_tscv_splitter = LastOrderUserTSCVSplitter(data_manager, n_splits=5)"
   ],
   "metadata": {
    "collapsed": false,
    "ExecuteTime": {
     "end_time": "2024-06-08T16:30:47.876755300Z",
     "start_time": "2024-06-08T16:30:46.975367400Z"
    }
   },
   "id": "9536ad3b2ec2e510",
   "execution_count": 34
  },
  {
   "cell_type": "code",
   "outputs": [],
   "source": [
    "splits = last_order_user_tscv_splitter.split(orders_tip_train)"
   ],
   "metadata": {
    "collapsed": false,
    "ExecuteTime": {
     "end_time": "2024-06-08T16:30:47.928167800Z",
     "start_time": "2024-06-08T16:30:47.917741800Z"
    }
   },
   "id": "e5442b2c715d1963",
   "execution_count": 35
  },
  {
   "cell_type": "code",
   "outputs": [
    {
     "name": "stdout",
     "output_type": "stream",
     "text": [
      "Iteration 1: Train size: 2802456, Test size: 206209\n",
      "Fold 1\n",
      "Train: 2802456\n",
      "Test: 206209\n",
      "Orders: 3008665\n",
      "Sum equal: True\n",
      "Ratio: 0.06853837166982699\n",
      "Iteration 2: Train size: 2596247, Test size: 206209\n",
      "Fold 2\n",
      "Train: 2596247\n",
      "Test: 206209\n",
      "Orders: 3008665\n",
      "Sum equal: True\n",
      "Ratio: 0.07358152991518868\n",
      "Iteration 3: Train size: 2414024, Test size: 182223\n",
      "Fold 3\n",
      "Train: 2414024\n",
      "Test: 182223\n",
      "Orders: 3008665\n",
      "Sum equal: True\n",
      "Ratio: 0.07018708158353192\n",
      "Iteration 4: Train size: 2251391, Test size: 162633\n",
      "Fold 4\n",
      "Train: 2251391\n",
      "Test: 162633\n",
      "Orders: 3008665\n",
      "Sum equal: True\n",
      "Ratio: 0.06737008414166554\n",
      "Iteration 5: Train size: 2104923, Test size: 146468\n",
      "Fold 5\n",
      "Train: 2104923\n",
      "Test: 146468\n",
      "Orders: 3008665\n",
      "Sum equal: True\n",
      "Ratio: 0.06505666941015577\n"
     ]
    }
   ],
   "source": [
    "folds = {}\n",
    "prev_test = 0\n",
    "for i, (train_index, test_index) in enumerate(splits):\n",
    "    print(f'Fold {i + 1}')\n",
    "    print(f'Train: {len(train_index)}')\n",
    "    print(f'Test: {len(test_index)}')\n",
    "    print(f'Orders: {len(orders_tip_train)}')\n",
    "    print(f'Sum equal: {(len(train_index) + len(test_index) + prev_test) == len(orders_tip_train)}')\n",
    "    print(f'Ratio: {len(test_index) / (len(train_index) + len(test_index))}')\n",
    "\n",
    "    train_orders = orders_tip_train.iloc[train_index]\n",
    "    test_orders = orders_tip_train.iloc[test_index]\n",
    "    current_fold = {\n",
    "        'train': train_orders,\n",
    "        'test': test_orders\n",
    "    }\n",
    "    folds[f'fold_{i}'] = current_fold\n",
    "    prev_test += len(test_index)"
   ],
   "metadata": {
    "collapsed": false,
    "ExecuteTime": {
     "end_time": "2024-06-08T16:30:49.585065Z",
     "start_time": "2024-06-08T16:30:48.067042400Z"
    }
   },
   "id": "c4c42ee3b5b60b2c",
   "execution_count": 36
  },
  {
   "cell_type": "code",
   "outputs": [],
   "source": [
    "# user_tscv_splitter = UserTSCVSplitter(data_manager, n_splits=5, validation_set_ratio=0.2)"
   ],
   "metadata": {
    "collapsed": false,
    "ExecuteTime": {
     "end_time": "2024-06-08T16:30:49.602649500Z",
     "start_time": "2024-06-08T16:30:49.590575900Z"
    }
   },
   "id": "f138d9493decebd3",
   "execution_count": 37
  },
  {
   "cell_type": "code",
   "outputs": [],
   "source": [
    "# splits = user_tscv_splitter.split(orders_tip_train)"
   ],
   "metadata": {
    "collapsed": false,
    "ExecuteTime": {
     "end_time": "2024-06-08T16:30:49.621620600Z",
     "start_time": "2024-06-08T16:30:49.604651100Z"
    }
   },
   "id": "b1218ab4a72a6b7f",
   "execution_count": 38
  },
  {
   "cell_type": "code",
   "outputs": [],
   "source": [
    "# folds = {}\n",
    "# prev_test = 0\n",
    "# for i, (train_index, test_index) in enumerate(splits):\n",
    "#     orders_tip_current = data_manager.get_orders_tip()\n",
    "#     print(f'Fold {i + 1}')\n",
    "#     print(f'Train: {len(train_index)}')\n",
    "#     print(f'Test: {len(test_index)}')\n",
    "#     print(f'Orders: {len(orders_tip_current)}')\n",
    "#     print(f'Sum equal: {(len(train_index) + len(test_index) + prev_test) == len(orders_tip_current)}')\n",
    "#     print(f'Ratio: {len(test_index) / (len(train_index) + len(test_index))}')\n",
    "# \n",
    "#     train_orders = orders_tip_current.loc[train_index]\n",
    "#     test_orders = orders_tip_current.loc[test_index]\n",
    "#     current_fold = {\n",
    "#         'train': train_orders,\n",
    "#         'test': test_orders\n",
    "#     }\n",
    "#     folds[f'fold_{i}'] = current_fold\n",
    "#     prev_test += len(test_index)"
   ],
   "metadata": {
    "collapsed": false,
    "ExecuteTime": {
     "end_time": "2024-06-08T16:30:49.634643400Z",
     "start_time": "2024-06-08T16:30:49.619678900Z"
    }
   },
   "id": "5b6366adcee6c34c",
   "execution_count": 39
  },
  {
   "cell_type": "code",
   "outputs": [],
   "source": [
    "from sklearn.tree import DecisionTreeClassifier\n",
    "from sklearn.model_selection import GridSearchCV\n",
    "\n",
    "param_grid = {\n",
    "    'criterion': ['entropy'],\n",
    "    'max_depth': [9],\n",
    "    'min_samples_leaf': [256]\n",
    "}\n",
    "\n",
    "grid_search_clf = GridSearchCV(DecisionTreeClassifier(), param_grid, n_jobs=-1, cv=last_order_user_tscv_splitter,\n",
    "                               scoring='accuracy')"
   ],
   "metadata": {
    "collapsed": false,
    "ExecuteTime": {
     "end_time": "2024-06-08T16:33:36.653832600Z",
     "start_time": "2024-06-08T16:33:36.311546600Z"
    }
   },
   "id": "7564ecdcd5da9ee",
   "execution_count": 48
  },
  {
   "cell_type": "code",
   "outputs": [],
   "source": [
    "features = data_manager.get_registered_features() + ['order_number', 'order_dow', 'order_hour_of_day',\n",
    "                                                     'days_since_prior_order']\n",
    "\n",
    "X = orders_tip_train[features]\n",
    "y = orders_tip_train['tip'].astype(bool)"
   ],
   "metadata": {
    "collapsed": false,
    "ExecuteTime": {
     "end_time": "2024-06-08T16:33:37.336617Z",
     "start_time": "2024-06-08T16:33:37.214083600Z"
    }
   },
   "id": "8e99f1847f1881ce",
   "execution_count": 49
  },
  {
   "cell_type": "code",
   "outputs": [
    {
     "data": {
      "text/plain": "    contains_alcohol  hod_high_tip_probability  order_size  \\\n0                  0                         0           6   \n1                  0                         0           5   \n2                  0                         0           5   \n3                  0                         0           8   \n4                  0                         0           4   \n5                  0                         0           5   \n6                  0                         0           6   \n7                  0                         0           6   \n8                  0                         0           9   \n9                  0                         0           6   \n10                 0                         0           5   \n11                 0                         0          13   \n12                 0                         0          13   \n13                 0                         0          21   \n14                 0                         0          14   \n15                 0                         0          16   \n16                 0                         0          26   \n17                 0                         0           9   \n18                 0                         0          15   \n19                 0                         0          19   \n20                 0                         0           9   \n21                 0                         0          16   \n22                 0                         1           9   \n23                 0                         0           6   \n24                 0                         0           5   \n\n    order_number_squared  dow_high_tip_probability  tip_history  order_number  \\\n0                      4                         0     0.000000             2   \n1                      9                         0     0.000000             3   \n2                     16                         0     0.000000             4   \n3                     25                         0     0.000000             5   \n4                     36                         0     0.000000             6   \n5                     49                         1     0.000000             7   \n6                     64                         1     0.000000             8   \n7                     81                         1     0.000000             9   \n8                    100                         0     0.000000            10   \n9                      4                         0     0.000000             2   \n10                     9                         1     0.000000             3   \n11                    16                         0     0.333333             4   \n12                    25                         0     0.250000             5   \n13                    36                         0     0.400000             6   \n14                    49                         0     0.333333             7   \n15                    64                         1     0.428571             8   \n16                    81                         0     0.500000             9   \n17                   100                         1     0.555556            10   \n18                   121                         1     0.600000            11   \n19                   144                         1     0.636364            12   \n20                   169                         0     0.666667            13   \n21                   196                         0     0.615385            14   \n22                     4                         0     1.000000             2   \n23                     9                         0     1.000000             3   \n24                    16                         0     1.000000             4   \n\n    order_dow  order_hour_of_day  days_since_prior_order  \n0           3                  7                    15.0  \n1           3                 12                    21.0  \n2           4                  7                    29.0  \n3           4                 15                    28.0  \n4           2                  7                    19.0  \n5           1                  9                    20.0  \n6           1                 14                    14.0  \n7           1                 16                     0.0  \n8           4                  8                    30.0  \n9           5                 10                    10.0  \n10          1                 10                     3.0  \n11          2                 10                     8.0  \n12          3                 11                     8.0  \n13          2                  9                    13.0  \n14          2                 12                    14.0  \n15          1                 15                    27.0  \n16          2                  9                     8.0  \n17          1                 11                     6.0  \n18          1                 10                    30.0  \n19          1                  9                    28.0  \n20          4                 11                    30.0  \n21          3                 10                    13.0  \n22          3                 19                     9.0  \n23          3                 16                    21.0  \n24          2                 18                    20.0  ",
      "text/html": "<div>\n<style scoped>\n    .dataframe tbody tr th:only-of-type {\n        vertical-align: middle;\n    }\n\n    .dataframe tbody tr th {\n        vertical-align: top;\n    }\n\n    .dataframe thead th {\n        text-align: right;\n    }\n</style>\n<table border=\"1\" class=\"dataframe\">\n  <thead>\n    <tr style=\"text-align: right;\">\n      <th></th>\n      <th>contains_alcohol</th>\n      <th>hod_high_tip_probability</th>\n      <th>order_size</th>\n      <th>order_number_squared</th>\n      <th>dow_high_tip_probability</th>\n      <th>tip_history</th>\n      <th>order_number</th>\n      <th>order_dow</th>\n      <th>order_hour_of_day</th>\n      <th>days_since_prior_order</th>\n    </tr>\n  </thead>\n  <tbody>\n    <tr>\n      <th>0</th>\n      <td>0</td>\n      <td>0</td>\n      <td>6</td>\n      <td>4</td>\n      <td>0</td>\n      <td>0.000000</td>\n      <td>2</td>\n      <td>3</td>\n      <td>7</td>\n      <td>15.0</td>\n    </tr>\n    <tr>\n      <th>1</th>\n      <td>0</td>\n      <td>0</td>\n      <td>5</td>\n      <td>9</td>\n      <td>0</td>\n      <td>0.000000</td>\n      <td>3</td>\n      <td>3</td>\n      <td>12</td>\n      <td>21.0</td>\n    </tr>\n    <tr>\n      <th>2</th>\n      <td>0</td>\n      <td>0</td>\n      <td>5</td>\n      <td>16</td>\n      <td>0</td>\n      <td>0.000000</td>\n      <td>4</td>\n      <td>4</td>\n      <td>7</td>\n      <td>29.0</td>\n    </tr>\n    <tr>\n      <th>3</th>\n      <td>0</td>\n      <td>0</td>\n      <td>8</td>\n      <td>25</td>\n      <td>0</td>\n      <td>0.000000</td>\n      <td>5</td>\n      <td>4</td>\n      <td>15</td>\n      <td>28.0</td>\n    </tr>\n    <tr>\n      <th>4</th>\n      <td>0</td>\n      <td>0</td>\n      <td>4</td>\n      <td>36</td>\n      <td>0</td>\n      <td>0.000000</td>\n      <td>6</td>\n      <td>2</td>\n      <td>7</td>\n      <td>19.0</td>\n    </tr>\n    <tr>\n      <th>5</th>\n      <td>0</td>\n      <td>0</td>\n      <td>5</td>\n      <td>49</td>\n      <td>1</td>\n      <td>0.000000</td>\n      <td>7</td>\n      <td>1</td>\n      <td>9</td>\n      <td>20.0</td>\n    </tr>\n    <tr>\n      <th>6</th>\n      <td>0</td>\n      <td>0</td>\n      <td>6</td>\n      <td>64</td>\n      <td>1</td>\n      <td>0.000000</td>\n      <td>8</td>\n      <td>1</td>\n      <td>14</td>\n      <td>14.0</td>\n    </tr>\n    <tr>\n      <th>7</th>\n      <td>0</td>\n      <td>0</td>\n      <td>6</td>\n      <td>81</td>\n      <td>1</td>\n      <td>0.000000</td>\n      <td>9</td>\n      <td>1</td>\n      <td>16</td>\n      <td>0.0</td>\n    </tr>\n    <tr>\n      <th>8</th>\n      <td>0</td>\n      <td>0</td>\n      <td>9</td>\n      <td>100</td>\n      <td>0</td>\n      <td>0.000000</td>\n      <td>10</td>\n      <td>4</td>\n      <td>8</td>\n      <td>30.0</td>\n    </tr>\n    <tr>\n      <th>9</th>\n      <td>0</td>\n      <td>0</td>\n      <td>6</td>\n      <td>4</td>\n      <td>0</td>\n      <td>0.000000</td>\n      <td>2</td>\n      <td>5</td>\n      <td>10</td>\n      <td>10.0</td>\n    </tr>\n    <tr>\n      <th>10</th>\n      <td>0</td>\n      <td>0</td>\n      <td>5</td>\n      <td>9</td>\n      <td>1</td>\n      <td>0.000000</td>\n      <td>3</td>\n      <td>1</td>\n      <td>10</td>\n      <td>3.0</td>\n    </tr>\n    <tr>\n      <th>11</th>\n      <td>0</td>\n      <td>0</td>\n      <td>13</td>\n      <td>16</td>\n      <td>0</td>\n      <td>0.333333</td>\n      <td>4</td>\n      <td>2</td>\n      <td>10</td>\n      <td>8.0</td>\n    </tr>\n    <tr>\n      <th>12</th>\n      <td>0</td>\n      <td>0</td>\n      <td>13</td>\n      <td>25</td>\n      <td>0</td>\n      <td>0.250000</td>\n      <td>5</td>\n      <td>3</td>\n      <td>11</td>\n      <td>8.0</td>\n    </tr>\n    <tr>\n      <th>13</th>\n      <td>0</td>\n      <td>0</td>\n      <td>21</td>\n      <td>36</td>\n      <td>0</td>\n      <td>0.400000</td>\n      <td>6</td>\n      <td>2</td>\n      <td>9</td>\n      <td>13.0</td>\n    </tr>\n    <tr>\n      <th>14</th>\n      <td>0</td>\n      <td>0</td>\n      <td>14</td>\n      <td>49</td>\n      <td>0</td>\n      <td>0.333333</td>\n      <td>7</td>\n      <td>2</td>\n      <td>12</td>\n      <td>14.0</td>\n    </tr>\n    <tr>\n      <th>15</th>\n      <td>0</td>\n      <td>0</td>\n      <td>16</td>\n      <td>64</td>\n      <td>1</td>\n      <td>0.428571</td>\n      <td>8</td>\n      <td>1</td>\n      <td>15</td>\n      <td>27.0</td>\n    </tr>\n    <tr>\n      <th>16</th>\n      <td>0</td>\n      <td>0</td>\n      <td>26</td>\n      <td>81</td>\n      <td>0</td>\n      <td>0.500000</td>\n      <td>9</td>\n      <td>2</td>\n      <td>9</td>\n      <td>8.0</td>\n    </tr>\n    <tr>\n      <th>17</th>\n      <td>0</td>\n      <td>0</td>\n      <td>9</td>\n      <td>100</td>\n      <td>1</td>\n      <td>0.555556</td>\n      <td>10</td>\n      <td>1</td>\n      <td>11</td>\n      <td>6.0</td>\n    </tr>\n    <tr>\n      <th>18</th>\n      <td>0</td>\n      <td>0</td>\n      <td>15</td>\n      <td>121</td>\n      <td>1</td>\n      <td>0.600000</td>\n      <td>11</td>\n      <td>1</td>\n      <td>10</td>\n      <td>30.0</td>\n    </tr>\n    <tr>\n      <th>19</th>\n      <td>0</td>\n      <td>0</td>\n      <td>19</td>\n      <td>144</td>\n      <td>1</td>\n      <td>0.636364</td>\n      <td>12</td>\n      <td>1</td>\n      <td>9</td>\n      <td>28.0</td>\n    </tr>\n    <tr>\n      <th>20</th>\n      <td>0</td>\n      <td>0</td>\n      <td>9</td>\n      <td>169</td>\n      <td>0</td>\n      <td>0.666667</td>\n      <td>13</td>\n      <td>4</td>\n      <td>11</td>\n      <td>30.0</td>\n    </tr>\n    <tr>\n      <th>21</th>\n      <td>0</td>\n      <td>0</td>\n      <td>16</td>\n      <td>196</td>\n      <td>0</td>\n      <td>0.615385</td>\n      <td>14</td>\n      <td>3</td>\n      <td>10</td>\n      <td>13.0</td>\n    </tr>\n    <tr>\n      <th>22</th>\n      <td>0</td>\n      <td>1</td>\n      <td>9</td>\n      <td>4</td>\n      <td>0</td>\n      <td>1.000000</td>\n      <td>2</td>\n      <td>3</td>\n      <td>19</td>\n      <td>9.0</td>\n    </tr>\n    <tr>\n      <th>23</th>\n      <td>0</td>\n      <td>0</td>\n      <td>6</td>\n      <td>9</td>\n      <td>0</td>\n      <td>1.000000</td>\n      <td>3</td>\n      <td>3</td>\n      <td>16</td>\n      <td>21.0</td>\n    </tr>\n    <tr>\n      <th>24</th>\n      <td>0</td>\n      <td>0</td>\n      <td>5</td>\n      <td>16</td>\n      <td>0</td>\n      <td>1.000000</td>\n      <td>4</td>\n      <td>2</td>\n      <td>18</td>\n      <td>20.0</td>\n    </tr>\n  </tbody>\n</table>\n</div>"
     },
     "execution_count": 50,
     "metadata": {},
     "output_type": "execute_result"
    }
   ],
   "source": [
    "X.head(25)"
   ],
   "metadata": {
    "collapsed": false,
    "ExecuteTime": {
     "end_time": "2024-06-08T16:33:38.512792200Z",
     "start_time": "2024-06-08T16:33:38.501707600Z"
    }
   },
   "id": "7d31e0060aa6a3b7",
   "execution_count": 50
  },
  {
   "cell_type": "code",
   "outputs": [
    {
     "name": "stdout",
     "output_type": "stream",
     "text": [
      "Iteration 1: Train size: 2802456, Test size: 206209\n",
      "Iteration 2: Train size: 2596247, Test size: 206209\n",
      "Iteration 3: Train size: 2414024, Test size: 182223\n",
      "Iteration 4: Train size: 2251391, Test size: 162633\n",
      "Iteration 5: Train size: 2104923, Test size: 146468\n"
     ]
    },
    {
     "data": {
      "text/plain": "GridSearchCV(cv=LastOrderUserTSCVSplitter(data_manager=<data_management.data_manager.DataManager object at 0x0000019EDBBD2BD0>,\n                                          n_splits=5),\n             estimator=DecisionTreeClassifier(), n_jobs=-1,\n             param_grid={'criterion': ['entropy'], 'max_depth': [9],\n                         'min_samples_leaf': [256]},\n             scoring='accuracy')",
      "text/html": "<style>#sk-container-id-3 {\n  /* Definition of color scheme common for light and dark mode */\n  --sklearn-color-text: black;\n  --sklearn-color-line: gray;\n  /* Definition of color scheme for unfitted estimators */\n  --sklearn-color-unfitted-level-0: #fff5e6;\n  --sklearn-color-unfitted-level-1: #f6e4d2;\n  --sklearn-color-unfitted-level-2: #ffe0b3;\n  --sklearn-color-unfitted-level-3: chocolate;\n  /* Definition of color scheme for fitted estimators */\n  --sklearn-color-fitted-level-0: #f0f8ff;\n  --sklearn-color-fitted-level-1: #d4ebff;\n  --sklearn-color-fitted-level-2: #b3dbfd;\n  --sklearn-color-fitted-level-3: cornflowerblue;\n\n  /* Specific color for light theme */\n  --sklearn-color-text-on-default-background: var(--sg-text-color, var(--theme-code-foreground, var(--jp-content-font-color1, black)));\n  --sklearn-color-background: var(--sg-background-color, var(--theme-background, var(--jp-layout-color0, white)));\n  --sklearn-color-border-box: var(--sg-text-color, var(--theme-code-foreground, var(--jp-content-font-color1, black)));\n  --sklearn-color-icon: #696969;\n\n  @media (prefers-color-scheme: dark) {\n    /* Redefinition of color scheme for dark theme */\n    --sklearn-color-text-on-default-background: var(--sg-text-color, var(--theme-code-foreground, var(--jp-content-font-color1, white)));\n    --sklearn-color-background: var(--sg-background-color, var(--theme-background, var(--jp-layout-color0, #111)));\n    --sklearn-color-border-box: var(--sg-text-color, var(--theme-code-foreground, var(--jp-content-font-color1, white)));\n    --sklearn-color-icon: #878787;\n  }\n}\n\n#sk-container-id-3 {\n  color: var(--sklearn-color-text);\n}\n\n#sk-container-id-3 pre {\n  padding: 0;\n}\n\n#sk-container-id-3 input.sk-hidden--visually {\n  border: 0;\n  clip: rect(1px 1px 1px 1px);\n  clip: rect(1px, 1px, 1px, 1px);\n  height: 1px;\n  margin: -1px;\n  overflow: hidden;\n  padding: 0;\n  position: absolute;\n  width: 1px;\n}\n\n#sk-container-id-3 div.sk-dashed-wrapped {\n  border: 1px dashed var(--sklearn-color-line);\n  margin: 0 0.4em 0.5em 0.4em;\n  box-sizing: border-box;\n  padding-bottom: 0.4em;\n  background-color: var(--sklearn-color-background);\n}\n\n#sk-container-id-3 div.sk-container {\n  /* jupyter's `normalize.less` sets `[hidden] { display: none; }`\n     but bootstrap.min.css set `[hidden] { display: none !important; }`\n     so we also need the `!important` here to be able to override the\n     default hidden behavior on the sphinx rendered scikit-learn.org.\n     See: https://github.com/scikit-learn/scikit-learn/issues/21755 */\n  display: inline-block !important;\n  position: relative;\n}\n\n#sk-container-id-3 div.sk-text-repr-fallback {\n  display: none;\n}\n\ndiv.sk-parallel-item,\ndiv.sk-serial,\ndiv.sk-item {\n  /* draw centered vertical line to link estimators */\n  background-image: linear-gradient(var(--sklearn-color-text-on-default-background), var(--sklearn-color-text-on-default-background));\n  background-size: 2px 100%;\n  background-repeat: no-repeat;\n  background-position: center center;\n}\n\n/* Parallel-specific style estimator block */\n\n#sk-container-id-3 div.sk-parallel-item::after {\n  content: \"\";\n  width: 100%;\n  border-bottom: 2px solid var(--sklearn-color-text-on-default-background);\n  flex-grow: 1;\n}\n\n#sk-container-id-3 div.sk-parallel {\n  display: flex;\n  align-items: stretch;\n  justify-content: center;\n  background-color: var(--sklearn-color-background);\n  position: relative;\n}\n\n#sk-container-id-3 div.sk-parallel-item {\n  display: flex;\n  flex-direction: column;\n}\n\n#sk-container-id-3 div.sk-parallel-item:first-child::after {\n  align-self: flex-end;\n  width: 50%;\n}\n\n#sk-container-id-3 div.sk-parallel-item:last-child::after {\n  align-self: flex-start;\n  width: 50%;\n}\n\n#sk-container-id-3 div.sk-parallel-item:only-child::after {\n  width: 0;\n}\n\n/* Serial-specific style estimator block */\n\n#sk-container-id-3 div.sk-serial {\n  display: flex;\n  flex-direction: column;\n  align-items: center;\n  background-color: var(--sklearn-color-background);\n  padding-right: 1em;\n  padding-left: 1em;\n}\n\n\n/* Toggleable style: style used for estimator/Pipeline/ColumnTransformer box that is\nclickable and can be expanded/collapsed.\n- Pipeline and ColumnTransformer use this feature and define the default style\n- Estimators will overwrite some part of the style using the `sk-estimator` class\n*/\n\n/* Pipeline and ColumnTransformer style (default) */\n\n#sk-container-id-3 div.sk-toggleable {\n  /* Default theme specific background. It is overwritten whether we have a\n  specific estimator or a Pipeline/ColumnTransformer */\n  background-color: var(--sklearn-color-background);\n}\n\n/* Toggleable label */\n#sk-container-id-3 label.sk-toggleable__label {\n  cursor: pointer;\n  display: block;\n  width: 100%;\n  margin-bottom: 0;\n  padding: 0.5em;\n  box-sizing: border-box;\n  text-align: center;\n}\n\n#sk-container-id-3 label.sk-toggleable__label-arrow:before {\n  /* Arrow on the left of the label */\n  content: \"▸\";\n  float: left;\n  margin-right: 0.25em;\n  color: var(--sklearn-color-icon);\n}\n\n#sk-container-id-3 label.sk-toggleable__label-arrow:hover:before {\n  color: var(--sklearn-color-text);\n}\n\n/* Toggleable content - dropdown */\n\n#sk-container-id-3 div.sk-toggleable__content {\n  max-height: 0;\n  max-width: 0;\n  overflow: hidden;\n  text-align: left;\n  /* unfitted */\n  background-color: var(--sklearn-color-unfitted-level-0);\n}\n\n#sk-container-id-3 div.sk-toggleable__content.fitted {\n  /* fitted */\n  background-color: var(--sklearn-color-fitted-level-0);\n}\n\n#sk-container-id-3 div.sk-toggleable__content pre {\n  margin: 0.2em;\n  border-radius: 0.25em;\n  color: var(--sklearn-color-text);\n  /* unfitted */\n  background-color: var(--sklearn-color-unfitted-level-0);\n}\n\n#sk-container-id-3 div.sk-toggleable__content.fitted pre {\n  /* unfitted */\n  background-color: var(--sklearn-color-fitted-level-0);\n}\n\n#sk-container-id-3 input.sk-toggleable__control:checked~div.sk-toggleable__content {\n  /* Expand drop-down */\n  max-height: 200px;\n  max-width: 100%;\n  overflow: auto;\n}\n\n#sk-container-id-3 input.sk-toggleable__control:checked~label.sk-toggleable__label-arrow:before {\n  content: \"▾\";\n}\n\n/* Pipeline/ColumnTransformer-specific style */\n\n#sk-container-id-3 div.sk-label input.sk-toggleable__control:checked~label.sk-toggleable__label {\n  color: var(--sklearn-color-text);\n  background-color: var(--sklearn-color-unfitted-level-2);\n}\n\n#sk-container-id-3 div.sk-label.fitted input.sk-toggleable__control:checked~label.sk-toggleable__label {\n  background-color: var(--sklearn-color-fitted-level-2);\n}\n\n/* Estimator-specific style */\n\n/* Colorize estimator box */\n#sk-container-id-3 div.sk-estimator input.sk-toggleable__control:checked~label.sk-toggleable__label {\n  /* unfitted */\n  background-color: var(--sklearn-color-unfitted-level-2);\n}\n\n#sk-container-id-3 div.sk-estimator.fitted input.sk-toggleable__control:checked~label.sk-toggleable__label {\n  /* fitted */\n  background-color: var(--sklearn-color-fitted-level-2);\n}\n\n#sk-container-id-3 div.sk-label label.sk-toggleable__label,\n#sk-container-id-3 div.sk-label label {\n  /* The background is the default theme color */\n  color: var(--sklearn-color-text-on-default-background);\n}\n\n/* On hover, darken the color of the background */\n#sk-container-id-3 div.sk-label:hover label.sk-toggleable__label {\n  color: var(--sklearn-color-text);\n  background-color: var(--sklearn-color-unfitted-level-2);\n}\n\n/* Label box, darken color on hover, fitted */\n#sk-container-id-3 div.sk-label.fitted:hover label.sk-toggleable__label.fitted {\n  color: var(--sklearn-color-text);\n  background-color: var(--sklearn-color-fitted-level-2);\n}\n\n/* Estimator label */\n\n#sk-container-id-3 div.sk-label label {\n  font-family: monospace;\n  font-weight: bold;\n  display: inline-block;\n  line-height: 1.2em;\n}\n\n#sk-container-id-3 div.sk-label-container {\n  text-align: center;\n}\n\n/* Estimator-specific */\n#sk-container-id-3 div.sk-estimator {\n  font-family: monospace;\n  border: 1px dotted var(--sklearn-color-border-box);\n  border-radius: 0.25em;\n  box-sizing: border-box;\n  margin-bottom: 0.5em;\n  /* unfitted */\n  background-color: var(--sklearn-color-unfitted-level-0);\n}\n\n#sk-container-id-3 div.sk-estimator.fitted {\n  /* fitted */\n  background-color: var(--sklearn-color-fitted-level-0);\n}\n\n/* on hover */\n#sk-container-id-3 div.sk-estimator:hover {\n  /* unfitted */\n  background-color: var(--sklearn-color-unfitted-level-2);\n}\n\n#sk-container-id-3 div.sk-estimator.fitted:hover {\n  /* fitted */\n  background-color: var(--sklearn-color-fitted-level-2);\n}\n\n/* Specification for estimator info (e.g. \"i\" and \"?\") */\n\n/* Common style for \"i\" and \"?\" */\n\n.sk-estimator-doc-link,\na:link.sk-estimator-doc-link,\na:visited.sk-estimator-doc-link {\n  float: right;\n  font-size: smaller;\n  line-height: 1em;\n  font-family: monospace;\n  background-color: var(--sklearn-color-background);\n  border-radius: 1em;\n  height: 1em;\n  width: 1em;\n  text-decoration: none !important;\n  margin-left: 1ex;\n  /* unfitted */\n  border: var(--sklearn-color-unfitted-level-1) 1pt solid;\n  color: var(--sklearn-color-unfitted-level-1);\n}\n\n.sk-estimator-doc-link.fitted,\na:link.sk-estimator-doc-link.fitted,\na:visited.sk-estimator-doc-link.fitted {\n  /* fitted */\n  border: var(--sklearn-color-fitted-level-1) 1pt solid;\n  color: var(--sklearn-color-fitted-level-1);\n}\n\n/* On hover */\ndiv.sk-estimator:hover .sk-estimator-doc-link:hover,\n.sk-estimator-doc-link:hover,\ndiv.sk-label-container:hover .sk-estimator-doc-link:hover,\n.sk-estimator-doc-link:hover {\n  /* unfitted */\n  background-color: var(--sklearn-color-unfitted-level-3);\n  color: var(--sklearn-color-background);\n  text-decoration: none;\n}\n\ndiv.sk-estimator.fitted:hover .sk-estimator-doc-link.fitted:hover,\n.sk-estimator-doc-link.fitted:hover,\ndiv.sk-label-container:hover .sk-estimator-doc-link.fitted:hover,\n.sk-estimator-doc-link.fitted:hover {\n  /* fitted */\n  background-color: var(--sklearn-color-fitted-level-3);\n  color: var(--sklearn-color-background);\n  text-decoration: none;\n}\n\n/* Span, style for the box shown on hovering the info icon */\n.sk-estimator-doc-link span {\n  display: none;\n  z-index: 9999;\n  position: relative;\n  font-weight: normal;\n  right: .2ex;\n  padding: .5ex;\n  margin: .5ex;\n  width: min-content;\n  min-width: 20ex;\n  max-width: 50ex;\n  color: var(--sklearn-color-text);\n  box-shadow: 2pt 2pt 4pt #999;\n  /* unfitted */\n  background: var(--sklearn-color-unfitted-level-0);\n  border: .5pt solid var(--sklearn-color-unfitted-level-3);\n}\n\n.sk-estimator-doc-link.fitted span {\n  /* fitted */\n  background: var(--sklearn-color-fitted-level-0);\n  border: var(--sklearn-color-fitted-level-3);\n}\n\n.sk-estimator-doc-link:hover span {\n  display: block;\n}\n\n/* \"?\"-specific style due to the `<a>` HTML tag */\n\n#sk-container-id-3 a.estimator_doc_link {\n  float: right;\n  font-size: 1rem;\n  line-height: 1em;\n  font-family: monospace;\n  background-color: var(--sklearn-color-background);\n  border-radius: 1rem;\n  height: 1rem;\n  width: 1rem;\n  text-decoration: none;\n  /* unfitted */\n  color: var(--sklearn-color-unfitted-level-1);\n  border: var(--sklearn-color-unfitted-level-1) 1pt solid;\n}\n\n#sk-container-id-3 a.estimator_doc_link.fitted {\n  /* fitted */\n  border: var(--sklearn-color-fitted-level-1) 1pt solid;\n  color: var(--sklearn-color-fitted-level-1);\n}\n\n/* On hover */\n#sk-container-id-3 a.estimator_doc_link:hover {\n  /* unfitted */\n  background-color: var(--sklearn-color-unfitted-level-3);\n  color: var(--sklearn-color-background);\n  text-decoration: none;\n}\n\n#sk-container-id-3 a.estimator_doc_link.fitted:hover {\n  /* fitted */\n  background-color: var(--sklearn-color-fitted-level-3);\n}\n</style><div id=\"sk-container-id-3\" class=\"sk-top-container\"><div class=\"sk-text-repr-fallback\"><pre>GridSearchCV(cv=LastOrderUserTSCVSplitter(data_manager=&lt;data_management.data_manager.DataManager object at 0x0000019EDBBD2BD0&gt;,\n                                          n_splits=5),\n             estimator=DecisionTreeClassifier(), n_jobs=-1,\n             param_grid={&#x27;criterion&#x27;: [&#x27;entropy&#x27;], &#x27;max_depth&#x27;: [9],\n                         &#x27;min_samples_leaf&#x27;: [256]},\n             scoring=&#x27;accuracy&#x27;)</pre><b>In a Jupyter environment, please rerun this cell to show the HTML representation or trust the notebook. <br />On GitHub, the HTML representation is unable to render, please try loading this page with nbviewer.org.</b></div><div class=\"sk-container\" hidden><div class=\"sk-item sk-dashed-wrapped\"><div class=\"sk-label-container\"><div class=\"sk-label fitted sk-toggleable\"><input class=\"sk-toggleable__control sk-hidden--visually\" id=\"sk-estimator-id-5\" type=\"checkbox\" ><label for=\"sk-estimator-id-5\" class=\"sk-toggleable__label fitted sk-toggleable__label-arrow fitted\">&nbsp;&nbsp;GridSearchCV<a class=\"sk-estimator-doc-link fitted\" rel=\"noreferrer\" target=\"_blank\" href=\"https://scikit-learn.org/1.4/modules/generated/sklearn.model_selection.GridSearchCV.html\">?<span>Documentation for GridSearchCV</span></a><span class=\"sk-estimator-doc-link fitted\">i<span>Fitted</span></span></label><div class=\"sk-toggleable__content fitted\"><pre>GridSearchCV(cv=LastOrderUserTSCVSplitter(data_manager=&lt;data_management.data_manager.DataManager object at 0x0000019EDBBD2BD0&gt;,\n                                          n_splits=5),\n             estimator=DecisionTreeClassifier(), n_jobs=-1,\n             param_grid={&#x27;criterion&#x27;: [&#x27;entropy&#x27;], &#x27;max_depth&#x27;: [9],\n                         &#x27;min_samples_leaf&#x27;: [256]},\n             scoring=&#x27;accuracy&#x27;)</pre></div> </div></div><div class=\"sk-parallel\"><div class=\"sk-parallel-item\"><div class=\"sk-item\"><div class=\"sk-label-container\"><div class=\"sk-label fitted sk-toggleable\"><input class=\"sk-toggleable__control sk-hidden--visually\" id=\"sk-estimator-id-6\" type=\"checkbox\" ><label for=\"sk-estimator-id-6\" class=\"sk-toggleable__label fitted sk-toggleable__label-arrow fitted\">estimator: DecisionTreeClassifier</label><div class=\"sk-toggleable__content fitted\"><pre>DecisionTreeClassifier()</pre></div> </div></div><div class=\"sk-serial\"><div class=\"sk-item\"><div class=\"sk-estimator fitted sk-toggleable\"><input class=\"sk-toggleable__control sk-hidden--visually\" id=\"sk-estimator-id-7\" type=\"checkbox\" ><label for=\"sk-estimator-id-7\" class=\"sk-toggleable__label fitted sk-toggleable__label-arrow fitted\">&nbsp;DecisionTreeClassifier<a class=\"sk-estimator-doc-link fitted\" rel=\"noreferrer\" target=\"_blank\" href=\"https://scikit-learn.org/1.4/modules/generated/sklearn.tree.DecisionTreeClassifier.html\">?<span>Documentation for DecisionTreeClassifier</span></a></label><div class=\"sk-toggleable__content fitted\"><pre>DecisionTreeClassifier()</pre></div> </div></div></div></div></div></div></div></div></div>"
     },
     "execution_count": 51,
     "metadata": {},
     "output_type": "execute_result"
    }
   ],
   "source": [
    "grid_search_clf.fit(X, y)"
   ],
   "metadata": {
    "collapsed": false,
    "ExecuteTime": {
     "end_time": "2024-06-08T16:33:56.350178600Z",
     "start_time": "2024-06-08T16:33:39.088120800Z"
    }
   },
   "id": "8f1c4729ad56c2b4",
   "execution_count": 51
  },
  {
   "cell_type": "code",
   "outputs": [
    {
     "data": {
      "text/plain": "{'mean_fit_time': array([9.62144513]),\n 'std_fit_time': array([0.91506883]),\n 'mean_score_time': array([0.03104668]),\n 'std_score_time': array([0.00257137]),\n 'param_criterion': masked_array(data=['entropy'],\n              mask=[False],\n        fill_value='?',\n             dtype=object),\n 'param_max_depth': masked_array(data=[9],\n              mask=[False],\n        fill_value='?',\n             dtype=object),\n 'param_min_samples_leaf': masked_array(data=[256],\n              mask=[False],\n        fill_value='?',\n             dtype=object),\n 'params': [{'criterion': 'entropy', 'max_depth': 9, 'min_samples_leaf': 256}],\n 'split0_test_score': array([0.80144902]),\n 'split1_test_score': array([0.79661896]),\n 'split2_test_score': array([0.78959297]),\n 'split3_test_score': array([0.78268863]),\n 'split4_test_score': array([0.77742579]),\n 'mean_test_score': array([0.78955507]),\n 'std_test_score': array([0.00878218]),\n 'rank_test_score': array([1])}"
     },
     "execution_count": 57,
     "metadata": {},
     "output_type": "execute_result"
    }
   ],
   "source": [
    "grid_search_clf.cv_results_"
   ],
   "metadata": {
    "collapsed": false,
    "ExecuteTime": {
     "end_time": "2024-06-08T16:37:07.561483600Z",
     "start_time": "2024-06-08T16:37:07.247784600Z"
    }
   },
   "id": "3e49c16b9419857",
   "execution_count": 57
  },
  {
   "cell_type": "code",
   "outputs": [],
   "source": [
    "# import numpy as np\n",
    "# from sklearn.datasets import load_iris\n",
    "# from sklearn.ensemble import RandomForestClassifier\n",
    "# from sklearn.preprocessing import StandardScaler\n",
    "# from sklearn.model_selection import GridSearchCV, Pipeline\n",
    "# from sklearn.base import BaseEstimator, TransformerMixin\n",
    "# \n",
    "# \n",
    "# # Example custom transformer that could modify data based on some condition per fold\n",
    "# class CustomTransformer(BaseEstimator, TransformerMixin):\n",
    "#     def fit(self, X, y=None):\n",
    "#         # Implement fitting logic if necessary\n",
    "#         return self\n",
    "# \n",
    "#     def transform(self, X):\n",
    "#         # Modify X based on some condition or computation\n",
    "#         return X  # Return modified X\n",
    "# \n",
    "# \n",
    "# class CustomSplit:\n",
    "#     def __init__(self, n_splits=3):\n",
    "#         self.n_splits = n_splits\n",
    "# \n",
    "#     def split(self, X, y=None, groups=None):\n",
    "#         n_samples = len(X)\n",
    "#         fold_sizes = np.full(self.n_splits, n_samples // self.n_splits, dtype=int)\n",
    "#         fold_sizes[:n_samples % self.n_splits] += 1\n",
    "#         current = 0\n",
    "#         for fold_size in fold_sizes:\n",
    "#             start, stop = current, current + fold_size\n",
    "#             test_indices = np.arange(start, stop)\n",
    "#             train_indices = np.setdiff1d(np.arange(n_samples), test_indices)\n",
    "#             yield train_indices, test_indices\n",
    "# \n",
    "#     def get_n_splits(self, X=None, y=None, groups=None):\n",
    "#         return self.n_splits\n",
    "# \n",
    "# \n",
    "# # Load data\n",
    "# data = load_iris()\n",
    "# X, y = data.data, data.target\n",
    "# \n",
    "# # Create a pipeline with a custom transformer and a classifier\n",
    "# pipeline = Pipeline([\n",
    "#     ('custom_transform', CustomTransformer()),\n",
    "#     ('scaler', StandardScaler()),  # Example of another preprocessing step\n",
    "#     ('classifier', RandomForestClassifier())\n",
    "# ])\n",
    "# \n",
    "# # Define parameter grid (note: include pipeline step names)\n",
    "# param_grid = {\n",
    "#     'classifier__n_estimators': [100, 200],\n",
    "#     'classifier__max_features': ['auto', 'sqrt']\n",
    "# }\n",
    "# \n",
    "# # Setup GridSearchCV with custom cross-validator\n",
    "# cv = CustomSplit(n_splits=5)\n",
    "# grid_search = GridSearchCV(pipeline, param_grid, cv=cv, scoring='accuracy')\n",
    "# \n",
    "# # Perform grid search\n",
    "# grid_search.fit(X, y)\n",
    "# print(\"Best parameters:\", grid_search.best_params_)\n",
    "# print(\"Best cross-validation score: {:.3f}\".format(grid_search.best_score_))\n"
   ],
   "metadata": {
    "collapsed": false,
    "ExecuteTime": {
     "end_time": "2024-06-08T16:31:20.824589800Z",
     "start_time": "2024-06-08T16:31:20.817707600Z"
    }
   },
   "id": "6f9275104fa2d9b5",
   "execution_count": 44
  },
  {
   "cell_type": "code",
   "outputs": [],
   "source": [],
   "metadata": {
    "collapsed": false,
    "ExecuteTime": {
     "end_time": "2024-06-08T16:31:20.825601200Z",
     "start_time": "2024-06-08T16:31:20.821065700Z"
    }
   },
   "id": "3c5b40597953d9a",
   "execution_count": 44
  }
 ],
 "metadata": {
  "kernelspec": {
   "display_name": "Python 3 (ipykernel)",
   "language": "python",
   "name": "python3"
  },
  "language_info": {
   "codemirror_mode": {
    "name": "ipython",
    "version": 3
   },
   "file_extension": ".py",
   "mimetype": "text/x-python",
   "name": "python",
   "nbconvert_exporter": "python",
   "pygments_lexer": "ipython3",
   "version": "3.11.8"
  }
 },
 "nbformat": 4,
 "nbformat_minor": 5
}
