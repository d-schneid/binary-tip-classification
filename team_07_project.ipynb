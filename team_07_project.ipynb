{
 "cells": [
  {
   "cell_type": "markdown",
   "source": [
    "# Data Science Project SoSe 2024\n",
    "## Team 07\n",
    "- Maximilian Hoffmann\n",
    "- Kilian Kempf\n",
    "- Daniel Schneider\n",
    "- Tom Schuck\n",
    "\n",
    "## Project Submission"
   ],
   "metadata": {
    "collapsed": false
   },
   "id": "bc3b3d1df930f4fc"
  },
  {
   "cell_type": "markdown",
   "source": [
    "## Notebook content\n",
    "\n",
    "- Data Initialization\n",
    "- General Analysis\n",
    "- Feature Engineering\n",
    "- Feature Analysis\n",
    "- Model Training\n",
    "- Model Evaluation\n",
    "- Accuracy Prediction"
   ],
   "metadata": {
    "collapsed": false
   },
   "id": "5897f6035bf1f06"
  },
  {
   "cell_type": "code",
   "outputs": [],
   "source": [
    "import os\n",
    "\n",
    "import pandas as pd\n",
    "\n",
    "from data_management import DataManager"
   ],
   "metadata": {
    "collapsed": false
   },
   "id": "55107c99d2befa4c"
  },
  {
   "cell_type": "markdown",
   "source": [
    "## Data Initialization\n",
    "To ensure that all tasks like the analysis and the feature engineering are conducted on the same, consistent dataset, a custom data manager class has been created. The data manager provides methods, that are needed and can be re-used in multiple tasks (e.g. retrieval of orders with tip information for the training dataset). Since the data management functionality is encapsulated in the data manager, the room for errors caused by redundant implementations is reduced and the code is more maintainable, because methods can be adjusted in a single location."
   ],
   "metadata": {
    "collapsed": false
   },
   "id": "9ed8a9f075a89c74"
  },
  {
   "cell_type": "code",
   "outputs": [],
   "source": [
    "DATA_DIR = os.path.join(os.getcwd(), 'data/Instacart')\n",
    "\n",
    "op_prior = pd.read_csv(os.path.join(DATA_DIR, 'order_products__prior.csv.zip'))\n",
    "op_train = pd.read_csv(os.path.join(DATA_DIR, 'order_products__train.csv.zip'))\n",
    "\n",
    "tip_train = pd.read_csv(os.path.join(DATA_DIR, 'tip_trainingsdaten1_.csv'))[['order_id', 'tip']]\n",
    "tip_test = pd.read_csv(os.path.join(DATA_DIR, 'tip_testdaten1_template.csv'))\n",
    "\n",
    "orders = pd.read_csv(os.path.join(DATA_DIR, 'orders.csv.zip'))\n",
    "aisles = pd.read_csv(os.path.join(DATA_DIR, 'aisles.csv.zip'))\n",
    "departments = pd.read_csv(os.path.join(DATA_DIR, 'departments.csv.zip'))\n",
    "products = pd.read_csv(os.path.join(DATA_DIR, 'products.csv.zip'))\n",
    "\n",
    "data_manager = DataManager(op_prior, op_train, tip_train, tip_test, orders, products, aisles, departments)\n",
    "order_amount = len(data_manager.get_orders_tip())"
   ],
   "metadata": {
    "collapsed": false
   },
   "id": "f3c60b428dda39c1"
  },
  {
   "cell_type": "markdown",
   "source": [
    "## Data Analysis\n",
    "Several analysis were done to find any tip patterns in the data. The purpose of this analysis is to find specific features that are relevant for the prediction of tip. To find out which attributes have a significant influence on the tip, several analysis tasks were executed."
   ],
   "metadata": {
    "collapsed": false
   },
   "id": "40021b5b67564c0b"
  },
  {
   "cell_type": "code",
   "outputs": [],
   "source": [
    "from analysis import ReorderedAnalysis, ProductCardOrder, GeneralFacts, DayOfWeek, HourOfDay, Department, Aisle, \\\n",
    "    Product, OrderNumber"
   ],
   "metadata": {
    "collapsed": false
   },
   "id": "e0eb94d5d1e18571"
  },
  {
   "cell_type": "markdown",
   "source": [
    "TODO: Describe here your analysis task. What is the analysis about, any assumptions before? What did we expect?\n",
    "TODO: Describe the results also here in this Markdown\n",
    "\n",
    "\n",
    "\n",
    "##### **Analysis Task Name**\n",
    "**Analysis:** \n",
    "\n",
    "**Result Interpretation:**"
   ],
   "metadata": {
    "collapsed": false
   },
   "id": "f5b48f00399834b8"
  },
  {
   "cell_type": "code",
   "outputs": [],
   "source": [
    "# TODO: Initialize your analysis instance\n",
    "# TODO: Produce your output"
   ],
   "metadata": {
    "collapsed": false
   },
   "id": "1af7399be7b9c4fe"
  },
  {
   "cell_type": "markdown",
   "source": [
    "##### **General Analysis**\n",
    "**Analysis:** The general analysis task was created to get an overview of the data set and to find out general facts about the dataset and its data. Typical functions like the mean, median, standard deviation, min and max values were calculated for the different entities. The purpose of this analysis task was to get a first impression of the data set and to find out if there are any irregularities or outliers in the data. The datatypes of the different attributes were checked, and the number of missing values was calculated.\n",
    "\n",
    "**Result Interpretations:** \n",
    "- The dataset mostly contains numerical attributes with a few categorical attributes.\n",
    "- The dataset is rather large with 32 million rows and 16 columns.\n",
    "- The dataset contains some missing values in the columns \"days_since_prior_order\" and some in \"tip\". The missing \"tip\" values are limited to the test data.\n"
   ],
   "metadata": {
    "collapsed": false
   },
   "id": "2212ccbf9eeeaf94"
  },
  {
   "cell_type": "code",
   "outputs": [],
   "source": [
    "general_analysis = GeneralAnalysis(data_manager)\n",
    "general_analysis.execute_analysis()"
   ],
   "metadata": {
    "collapsed": false
   },
   "id": "bfdd21dcb9e2ff12"
  },
  {
   "cell_type": "markdown",
   "source": [
    "##### **General Facts**\n",
    "**Analysis:** For data understanding and getting familiar with the data set and the overall relations between the main entities, some general facts about the dataset were collected. Therefore several facts has been calculated containing the different entities and there relations.\n",
    "\n",
    "**Result Interpretations:** The results are important to clarify weather the calculations fit with the overall facts of the dataset and do not contain any calculation errors or changed the dataset."
   ],
   "metadata": {
    "collapsed": false
   },
   "id": "451eac0d88f58d3c"
  },
  {
   "cell_type": "code",
   "outputs": [],
   "source": [
    "general_facts = GeneralFacts(data_manager)\n",
    "general_facts.execute_analysis()"
   ],
   "metadata": {
    "collapsed": false
   },
   "id": "58b2465194c7abcb"
  },
  {
   "cell_type": "markdown",
   "source": [
    "##### **Day of the Week Analysis**\n",
    "**Analysis:** The analysis was conducted to find out whether the day of the week has an impact on the tip probability. To find out if there is a connection between the day of the week and the tipping behaviour, 2 plots were created.\n",
    "- Left plot: The left plot shows the absolute number of orders that were tipped and not tipped depending on the day of the week on which the order was placed as a bar chart with overlapping bars. This was done to get an overview of how the orders are distributed over the days of the week, to put the tip probability into perspective.\n",
    "- Right plot: The plot on the right shows the probability that an order was tipped depending on the day of the week on which the order was placed. The tip probability was calculated by dividing the number of tipped orders by the total number of orders for each day of the week.\n",
    "\n",
    "**Result Interpretation:**\n",
    "The right plot shows that the tip probability is significantly higher on day 0 and 1 (probably Saturday and Sunday) than on the other days of the week. While the tip probability is relatively constant on the other days of the week at or below 40%, the tip probability on day 0 and 1 is above 50%.\n",
    "\n",
    "&rarr; **Impact of order_dow**: The feature **dow_high_tip_probability**, which one-hot encodes whether the order was placed on the days on saturday/sunday or not, was created to capture this relationship. This was necessary, because the order_dow is an ordinal-scaled variable, which cannot be used directly in most models (e.g. logistic regression).\n"
   ],
   "metadata": {
    "collapsed": false
   },
   "id": "cd612d0f86a8a453"
  },
  {
   "cell_type": "code",
   "outputs": [],
   "source": [
    "day_of_week = DayOfWeek(data_manager)\n",
    "day_of_week.execute_analysis()"
   ],
   "metadata": {
    "collapsed": false
   },
   "id": "d66f5f1a0dc9140c"
  },
  {
   "cell_type": "markdown",
   "source": [
    "##### **Hour of the Day Analysis**\n",
    "**Analysis:** The analysis was conducted to find out whether the hour of the day, in which the order has been placed, has an impact on the probability that the order is tipped. To find out if there is a connection, the same plots were created as in the day of the week analysis, only this time with the hour of the day.\n",
    "\n",
    "**Result Interpretation:**\n",
    "The right plot shows that the tip probability is significantly higher in the early morning and in the evening than during the day. The period in the early morning, where the tip probability is higher, includes the hours 0-4 (from 12 until 5 a.m.). At hour 5 a significant drop in the tip probability can be observed. The tip probability remains relatively constant during the day with a slight increase in the morning hours. Since the change in the tip probability is not as drastic as in the early morning and doesn't reach the same level as in the early morning or the evening, this increase is not considered significant. At hour 19, the tip probability increases abruptly and remains at a high level until hour 23 (7 p.m. until 12 a.m.). Therefore the hours 0-4 and 19-23 are considered as the hours with a high tip probability.\n",
    "\n",
    "In the left plot, it can be observed that the number of placed orders is distributed very unevenly over the hours of the day. In the hours with a high tip probability, the number of orders is significantly lower than during the day. This is particularly noticeable in the early morning hours, where the number of orders is very low. Therefore, the significant increase in the tip probability in the early morning hours is not as relevant as the increase in the evening, where the number of orders is higher. Despite this fact, no differentiation was made between the early morning and the evening, for simplicity reasons and since the tip probability is very similar in both periods, which cover a continuous time span (7 p.m. until 5 a.m.) when combined.\n",
    "\n",
    "&rarr; **Impact of order_dow**: The feature **hod_high_tip_probability**, which one-hot encodes whether the order was placed in the hours with a high tip probability (0-4 and 19-23) or not, was created to capture this relationship. This is necessary because the order_hour_of_day is also an ordinal-scaled variable."
   ],
   "metadata": {
    "collapsed": false
   },
   "id": "dd115f022470e39d"
  },
  {
   "cell_type": "code",
   "outputs": [],
   "source": [
    "hour_of_day = HourOfDay(data_manager)\n",
    "hour_of_day.execute_analysis()"
   ],
   "metadata": {
    "collapsed": false
   },
   "id": "db588e424c49e368"
  },
  {
   "cell_type": "markdown",
   "source": [
    "##### **Order Number Analysis**\n",
    "**Analysis:** The analysis of the order number was conducted to find out whether the attribute has an impact on the tip probability. Again, the same plots were created as in the day of the week analysis, only this time with the order number. To better visualize the relationship, a line graph was chosen to show the tip probability in dependence of the order number, instead of a bar plot.\n",
    "\n",
    "**Result Interpretation:**\n",
    "The right plot shows that the probability that an order is tipped increases with a rising order number up until around the 40th order. After that, the tip probability decreases again. In the graph one can clearly see that the curve is not linear, but rather resembles the shape of a quadratic function.\n",
    "\n",
    "The left plot shows a decreasing number of orders with a rising order number. This was expected due to the fact, that the order number is a user-specific attribute and there are more users with a shorter order history than with a longer order history. Therefore, an order with a larger order number is less likely to appear. This also reduces the significance of the tip probability in the right plot for higher order numbers, because the number of orders is very low. However, this is not encoded explicitly in the feature, but will be left to the model to learn an appropriate weight.\n",
    "\n",
    "&rarr; **Impact of order_number**: The feature **order_number_squared** was created, which contains the squared order number. This feature was created to allow linear models to capture the quadratic relationship between the order number and the tip probability, when combined with the original order number feature.\n"
   ],
   "metadata": {
    "collapsed": false
   },
   "id": "3f0b01324ad78102"
  },
  {
   "cell_type": "code",
   "outputs": [],
   "source": [
    "order_number = OrderNumber(data_manager)\n",
    "order_number.execute_analysis()"
   ],
   "metadata": {
    "collapsed": false
   },
   "id": "8b72c40b4d502c03"
  },
  {
   "cell_type": "markdown",
   "source": [
    "##### **Department Analysis**\n",
    "**Analysis:** The analysis of the department was conducted to find out whether orders containing products from a specific department have a higher tip probability than others. The same 2 plots were used to visualize, on one hand, the absolute number of tipped and not tipped orders containing products from a specific department and on the other hand the tip probability of orders containing products from a specific department.\n",
    "\n",
    "**Result Interpretation:** The right plot shows that the tip probability of orders containing products from the alcohol department is significantly higher than the tip probability of orders containing products from other departments. Even though the tip probability of orders containing products from the other departments is not constant, the differences between the departments are not as significant as the difference between the alcohol department and the other departments.\n",
    "\n",
    "The left plot shows that the number of orders containing products from the alcohol department is rather low compared to the other departments. But since the difference in the tip probability is so striking, it was decided to create a feature which encodes this relationship anyway.\n",
    "\n",
    "&rarr; **Impact of department**: The feature **contains_alcohol** was created, which one-hot encodes whether the order contains at least 1 product from the alcohol department or not. This feature was created to capture the significant difference in the tip probability of orders containing products from the alcohol department compared to orders containing products from other departments, without one-hot-encoding all departments. This would have resulted in 21 additional features (1 for every department), which would have lead to a very sparse feature matrix and would have made the model more complex. Additionally, the feature **dept_tip_rate**, which is described in the feature analysis section, was created to capture the relationship between the tip probability and the departments in a more generic and dense way."
   ],
   "metadata": {
    "collapsed": false
   },
   "id": "4b10e4090cbc013a"
  },
  {
   "cell_type": "code",
   "outputs": [],
   "source": [
    "departments = Department(data_manager)\n",
    "departments.execute_analysis()"
   ],
   "metadata": {
    "collapsed": false
   },
   "id": "5bd67ac34b7ad907"
  },
  {
   "cell_type": "markdown",
   "source": [
    "##### **Aisle Analysis**\n",
    "**Analysis:** The analysis of the aisle was conducted to find out whether orders containing products from a specific aisle have a higher tip probability than others. For this analysis, a single plot was created, which shows the tip probability of orders containing products from a specific aisle. In addition to that, aisles belonging to the alcohol department were highlighted.\n",
    "\n",
    "**Result Interpretation:** The plot reveals that orders including items from the alcohol aisles have a notably higher likelihood of receiving tips compared to orders that contain items from other aisles. While the tip probability for non-alcohol aisles varies, none exhibit a distinctly higher likelihood of tipping, unlike the alcohol aisles. Generally, there is a mild fluctuation in tip probability across these other aisles, with some slightly higher and others lower, but these variations are not as pronounced as those observed for the alcohol aisles.\n",
    "\n",
    "&rarr; **Impact of aisle**: The analysis did not reveal any significant relationship between a specific aisle, other than the alcohol aisles, which are already encoded in the **contains_alcohol** feature. Therefore, no feature was created to capture the relationship between the tip probability and a specific aisle. One-hot-encoding all 134 aisles would also not be an option. Instead, **aisles_tip_rate** was created, which is described further in the feature analysis section and encodes the fluctuation of the tip probability across all aisles in a more generic and dense way."
   ],
   "metadata": {
    "collapsed": false
   },
   "id": "10d0e9b8f8c56340"
  },
  {
   "cell_type": "code",
   "outputs": [],
   "source": [
    "aisles = Aisle(data_manager)\n",
    "aisles.execute_analysis()"
   ],
   "metadata": {
    "collapsed": false
   },
   "id": "560ca0a77694878"
  },
  {
   "cell_type": "markdown",
   "source": [
    "##### **Product Analysis**\n",
    "**Analysis:** The analysis of the product was conducted to find out whether specific products have a higher tip probability than others. For this analysis, multiple plots and tables were created to visualize the tip probability of the products:\n",
    "\n",
    "- First plot: The first plot visualizes the distribution of products depending on the probability, that orders containing these products are tipped. The products are grouped into 100 bins, which means that every bin contains products with a tip probability between 0 and 0.01, 0.01 and 0.02, and so on. The plot shows the number of products in each bin.\n",
    "- Second plot: The second plot visualizes the same distribution, but this time the products were weighted by how often they were ordered. This was done to judge the significance of the tip probability of the products. The plot shows the number of orders containing products in each bin.\n",
    "\n",
    "- Third plot: The third plot displays the same distribution of products as the first plot, but in a more fine grained way. Only products with a tip probability between 80% and 100% are shown, grouped into 20 bins.\n",
    "- Fourth plot: The fourth plot visualizes the same distribution as the third plot, but the products were weighted by how often they were ordered.\n",
    "- Table 1: The table shows products with a 100% tip probability, that don't belong to the alcohol department, sorted by the number of orders containing these products.\n",
    "\n",
    "- Fifth plot: The fifth plot is equivalent to the third plot, but only products with a tip probability between 0% and 20% are shown, grouped into 20 bins.\n",
    "- Sixth plot: The sixth plot is equivalent to the fifth plot, but the products were weighted by how often they were ordered.\n",
    "- Table 2: The table shows products with a 0% tip probability, sorted by the number of orders containing these products.\n",
    "- Last plot: The last plot shows the distribution of products with a tip probability of 0% depending on the number of orders containing these products.\n",
    "\n",
    "In all plots, products from the alcohol department are highlighted.\n",
    "\n",
    "**Result Interpretation:**\n",
    "When looking at the first and the second plot, one can see, that the tip probability varies between different products. The distribution of the tip probability of the products is not uniform, but rather resembles a normal distribution, except there are noticeable peaks at 0% and 100%. Once the products are weighted by how often they were ordered, the peaks at 0% and 100% disappear and the distribution becomes more uniform. This leads to the conclusion that these products are not ordered very often and therefore the tip probability is not very significant. Only a small elevation can be observed starting at around 80% tip probability, which indicates that there are some products with a high tip probability, that are ordered more often than others.\n",
    "\n",
    "In the third and forth plot, this is examined in more detail. The unweighted plot on the left shows that there are many products, which do not belong to the alcohol department and have a tip probability between 80% and 100%. There is also a large peak of products, that are tipped every time they are ordered. However, when looking at the weighted plot on the right, this peak shrinks drastically. It also becomes clear that the alcohol products are extremely dominant in this area and that the other products are not ordered very often, when looking at the weighted plot. This leads to the conclusion that the tip probability of the alcohol products is rather significant, while the tip probability of the other products is not. The table 1 confirms this, as it shows that the products, which do not belong to the alcohol department and have a 100% tip probability, appear in 7 orders at most. When considering that in the dataset as a whole, products are ordered an average of 653 times, with a median order frequency of 60 times, it becomes clear that the non-alcohol products with a 100% tip probability are not very significant. Therefore, a feature using a curated list of products that are tipped every time (or above 80%) would not be very useful, since most of these products are alcohol products or are not ordered very often.\n",
    "\n",
    "A similar observation can be made for the products with a tip probability between 0% and 20%. The unweighted plot on the left shows that there are many products with a low tip probability with a significant peak at 0%. But when looking at the weighted plot on the right, it becomes clear that these products are also not ordered very often, as the peak at 0% shrinks drastically. Table 2 shows, that the products with a 0% tip probability are ordered 22 times at most, which is more significant than the products with a 100% tip probability, but still low. The last plot gives a more detailed view of the distribution of the products with a 0% tip probability. It shows that the products with a 0% tip probability are ordered very rarely, with the majority of them being ordered only 3 times. Not many of these products are ordered more than 10 times. Therefore, a feature using a curated list of products that are never tipped would also not be very useful.\n",
    "\n",
    "&rarr; **Impact of product**: The analysis showed that products that are always/never tipped are not very significant, since they are not ordered very often. Therefore, no feature was created to capture the relationship between the tip probability and a curated list of products that are always/never tipped. To allow the model to utilize the information that some products are more likely to be tipped than others, which is clearly visible in the first/second plot, the generic feature **product_tip_rate** was created, which is described further in the feature analysis section."
   ],
   "metadata": {
    "collapsed": false
   },
   "id": "18df511a29649d51"
  },
  {
   "cell_type": "code",
   "outputs": [],
   "source": [
    "products = Product(data_manager)\n",
    "products.execute_analysis()"
   ],
   "metadata": {
    "collapsed": false
   },
   "id": "4b423f6ae91f8ca3"
  },
  {
   "cell_type": "markdown",
   "source": [
    "##### **Add to card order analysis per Product**\n",
    "**Analysis:** To find out whether the add to card order of a specific product has an impact on the tip probability of that product, an analysis task has been created which calculates the tip probability of the products in dependence of the add_to_cart_order. To compare the \"add to card order\" of a product, the rational scaled variable (add_to_card_order) has to be normalized. With that normalization every \"add to cart order\" is transformed to an additional normalized_add_to_card attribute order within the interval [0,1]. After the calculation of the normalized attribute, the variable has been subdivided in 10 bins. Within these bins the mean tip probability of every product is calculated and visualized within the box plot below.\n",
    "\n",
    "**Result Interpretations:** The boxplot below shows the distribution of the product specific tip probabilities in dependence of the normalized \"add to card order\". It displays the median, potential outliers and the area between the 25th and the 75th quartile which represents 50% of the data. Considering the area between the 25th and 75th quartile, it can be recognized that there is no overall impact of the normalized add_to_card oder on the product specific tip probability. Focussing the outliers, it can be seen that there are some differences between the different bins. However, because the range between the 25th and 75th percentile is so constant, it can be assumed that these outliers are not necessarily related to \"add to card or\" but are due to other influences.\\\n",
    "&rarr; **No overall impact of add_to_card_order on the tip probability of the products** &rarr; no feature crafted and no further analysis on the attribute \"add_to_card_order\""
   ],
   "metadata": {
    "collapsed": false
   },
   "id": "4f1af7757c15979f"
  },
  {
   "cell_type": "code",
   "outputs": [],
   "source": [
    "product_card_order = ProductCardOrder(data_manager)\n",
    "#product_card_order.execute_analysis()"
   ],
   "metadata": {
    "collapsed": false
   },
   "id": "6b51f036feea5b76"
  },
  {
   "cell_type": "markdown",
   "source": [
    "##### **Reordered tip probability analysis per Product**\n",
    "**Analysis:** To find out weather the amount of reorders has an influence on the tip probability of a product, an analysis has been done which compares the product specific tip probability in dependence of the product reordered probability. Because of the fact that the \"reordered\" attribute is a user specific flag, the calculated product reordered rate describes the probability that a product is reordered. With a high reordered rate we can assume that the product has been bought quite often across all users. The heatmap below shows the product tip probability in comparison to the reordered rate. The purpose of this analysis task was to identify weather the reordered rate has an overall influence of the tip probability. The assumption here was that the tip probability of the products generally increases with a rising reordered rate.\n",
    "\n",
    "**Result Interpretations:** The heatmap overall shows that there is no general connection between the reordered rate and the product specific tip probability. As the reordered rate increases, the product tip probability of the products remains relatively constant and does not change depending on the reordered rate.\\\n",
    "&rarr; **No overall impact of reordered rate on the tip probability of the products** &rarr; no feature crafted"
   ],
   "metadata": {
    "collapsed": false
   },
   "id": "6e3f4c53d2e55386"
  },
  {
   "cell_type": "code",
   "outputs": [],
   "source": [
    "reordered_tip_rate = ReorderedAnalysis(data_manager)\n",
    "reordered_tip_rate.execute_analysis()"
   ],
   "metadata": {
    "collapsed": false
   },
   "id": "383e2b2fab56f0b7"
  },
  {
   "cell_type": "markdown",
   "source": [
    "##### **Number of Orders per User**\n",
    "**Analysis:** To find out weather the number of orders per user has an influence on the tip probability, an analysis has been done which compares the tip probability in dependence on the number of orders per user. The purpose of this analysis task was to identify weather the number of orders per user has an overall influence on the tip probability. \n",
    "For the analysis, the number of orders per user has been calculated and the tip probability has been calculated for every user. The tip probability has been calculated by dividing the number of tipped orders by the number of orders of the user. The tip probability has been calculated for every user and the mean tip probability has been calculated for every number of orders per user. The results are visualized in the line plot below.\n",
    "\n",
    "**Result Interpretations:** The line plot below shows that the tip probability of the users increases constantly with the number of orders per user until it reaches a ceiling at around 50 orders per user. Afther that the tip propability starts a slight downward trend which is rather unstable. To note is that the most data points are located in the range of 0 to 50 orders per user.\n",
    "This analysis shows that the number of orders per user has a significant impact on the tip probability and should be considered as a feature."
   ],
   "metadata": {
    "collapsed": false
   },
   "id": "b294ddca641cb11b"
  },
  {
   "cell_type": "code",
   "outputs": [],
   "source": [
    "num_order_user = NumberOrderUser(data_manager)\n",
    "num_order_user.execute_analysis()"
   ],
   "metadata": {
    "collapsed": false
   },
   "id": "26d6e35d62905b1e"
  },
  {
   "cell_type": "markdown",
   "source": [
    "## Feature Engineering\n",
    "With the results of the general analysis task and our specific assumptions of any relation between tip and various data combinations, a few features were build that we think will make a potential impact. The explanation of each feature and corresponding impact analysis will be covered in the next chapter (Feature analysis). To execute the impact analysis of the features, it is necessary to compute them all before.\n",
    "\n",
    "For the computation of the features, it is distinguished between two types of features:\n",
    "- **Static features:** Features that are calculated user specific and consider just the last orders of the specific user. These features can be computed once and do not need to be recalculated for a newly created fold in a time series cross validation.\n",
    "- **Dynamic features:** Features that are calculated user comprehensive like the product tip rate of all orders. For these features we use to data of the whole dataset or fold in cross validation. Therefore the dynamic features need to be recalculated for every new fold in the cross validation."
   ],
   "metadata": {
    "collapsed": false
   },
   "id": "a736b817244885d9"
  },
  {
   "cell_type": "code",
   "outputs": [],
   "source": [
    "from feature_engineering.static_features import ContainsAlcohol, DowHighTipProbability, TipHistory, OrderSize, \\\n",
    "    OrderNumberSquared, PrevOrderTipped, MeanOrderedRate, CustomerLifetime, ReorderedRatio, OrderFrequency, \\\n",
    "    HodHighTipProbability, PrevTippedProductsRatio, RelDaysSinceTip, DaysSinceTip, LastTipSequence, AvgSizePrevOrders, \\\n",
    "    SimOrdersTipRatio\n",
    "from feature_engineering.dynamic_features import ProductTipRate, DepartmentTipRate, AisleTipRate, AssocRulesAisles, \\\n",
    "    AssocRulesDepartments"
   ],
   "metadata": {
    "collapsed": false
   },
   "id": "ef45d83fcd17f783"
  },
  {
   "cell_type": "code",
   "outputs": [],
   "source": [
    "# Static Features\n",
    "tip_history = TipHistory()\n",
    "reordered_rate = ReorderedRatio()\n",
    "order_size = OrderSize()\n",
    "prev_tipped_products_ratio = PrevTippedProductsRatio()\n",
    "customer_lifetime = CustomerLifetime()\n",
    "prev_order_tipped = PrevOrderTipped()\n",
    "order_frequency = OrderFrequency()\n",
    "mean_ordered_rate = MeanOrderedRate()\n",
    "rel_days_since_tip = RelDaysSinceTip()\n",
    "days_since_tip = DaysSinceTip()\n",
    "sim_orders_tip_ratio = SimOrdersTipRatio()\n",
    "product_tip_rate = ProductTipRate()\n",
    "order_number_squared = OrderNumberSquared()\n",
    "hod_high_tip_probability = HodHighTipProbability()\n",
    "dow_high_tip_probability = DowHighTipProbability()\n",
    "contains_alcohol = ContainsAlcohol()\n",
    "avg_size_prev_orders = AvgSizePrevOrders()\n",
    "\n",
    "# Dynamic Features\n",
    "department_tip_rate = DepartmentTipRate()\n",
    "aisle_tip_rate = AisleTipRate()\n",
    "last_tip_sequence = LastTipSequence()\n",
    "assoc_rules_departments = AssocRulesDepartments()\n",
    "assoc_rules_aisles = AssocRulesAisles()"
   ],
   "metadata": {
    "collapsed": false,
    "ExecuteTime": {
     "end_time": "2024-06-22T14:44:57.672977900Z",
     "start_time": "2024-06-22T14:44:57.583489200Z"
    }
   },
   "id": "bd5a9b3d5c231c35",
   "execution_count": 15
  },
  {
   "cell_type": "code",
   "outputs": [],
   "source": [
    "# Static Features\n",
    "data_manager.register_feature(tip_history)\n",
    "data_manager.register_feature(reordered_rate)\n",
    "data_manager.register_feature(order_size)\n",
    "data_manager.register_feature(customer_lifetime)\n",
    "data_manager.register_feature(prev_order_tipped)\n",
    "data_manager.register_feature(prev_tipped_products_ratio)\n",
    "data_manager.register_feature(order_frequency)\n",
    "data_manager.register_feature(sim_orders_tip_ratio)\n",
    "data_manager.register_feature(mean_ordered_rate)\n",
    "data_manager.register_feature(last_tip_sequence)\n",
    "data_manager.register_feature(rel_days_since_tip)\n",
    "data_manager.register_feature(days_since_tip)\n",
    "data_manager.register_feature(order_number_squared)\n",
    "data_manager.register_feature(hod_high_tip_probability)\n",
    "data_manager.register_feature(dow_high_tip_probability)\n",
    "data_manager.register_feature(contains_alcohol)\n",
    "data_manager.register_feature(avg_size_prev_orders)\n",
    "\n",
    "# Dynamic Features\n",
    "data_manager.register_feature(product_tip_rate)\n",
    "data_manager.register_feature(department_tip_rate)\n",
    "data_manager.register_feature(aisle_tip_rate)\n",
    "data_manager.register_feature(assoc_rules_aisles)\n",
    "data_manager.register_feature(assoc_rules_departments)"
   ],
   "metadata": {
    "collapsed": false,
    "ExecuteTime": {
     "end_time": "2024-06-22T14:44:57.673988800Z",
     "start_time": "2024-06-22T14:44:57.586891800Z"
    }
   },
   "id": "8ec2815e7e03047f",
   "execution_count": 16
  },
  {
   "cell_type": "markdown",
   "source": [
    "Because of the computing time of each feature, the calculation has been done once before and is imported to the local file system. If it is required to compute the features once again, the next two lines of code need to be executed."
   ],
   "metadata": {
    "collapsed": false
   },
   "id": "658dcca210045d49"
  },
  {
   "cell_type": "code",
   "outputs": [],
   "source": [
    "# In case a recomputing of the features is necessary. Remove the comments for the next two lines of code.\n",
    "# data_manager.compute_features()\n",
    "# data_manager.export_features('data/prepared_data/computed_features.csv.zip', only_static=False)\n",
    "\n",
    "data_manager.import_features('data/prepared_data/computed_features.csv.zip', only_static=False)"
   ],
   "metadata": {
    "collapsed": false,
    "ExecuteTime": {
     "end_time": "2024-06-22T14:45:08.494580900Z",
     "start_time": "2024-06-22T14:44:57.590562Z"
    }
   },
   "id": "4bdb004824c8d431",
   "execution_count": 17
  },
  {
   "cell_type": "markdown",
   "source": [
    "## Feature analysis\n",
    "To decide weather a feature will take place in the feature set of the machine learning model, it is necessary to analyze which features have a significant impact on tip. All features that has been computed are described and analyzed in the following section.\n"
   ],
   "metadata": {
    "collapsed": false
   },
   "id": "cbf6ada8530594e2"
  },
  {
   "cell_type": "code",
   "outputs": [],
   "source": [
    "# Dataset for analysis\n",
    "orders_tip_features = data_manager.get_orders_tip_train()"
   ],
   "metadata": {
    "collapsed": false
   },
   "id": "21a02d9104ea7ebf"
  },
  {
   "cell_type": "markdown",
   "source": [
    "##### **Feature_Name**\n",
    "**Description:** Describe how the feature is calculated and what does it mean.\n",
    "\n",
    "**Analysis:** Which impact does the feature have on tip. Does it have any correlations to other features\n",
    "&rarr; **Is the feature part of the model feature set? and why (one sentence)**"
   ],
   "metadata": {
    "collapsed": false
   },
   "id": "c33ae71b3bdc71af"
  },
  {
   "cell_type": "code",
   "outputs": [],
   "source": [
    "# TODO: Execute the feature_name.analyze_feature() method"
   ],
   "metadata": {
    "collapsed": false,
    "ExecuteTime": {
     "end_time": "2024-06-22T14:45:08.497124700Z",
     "start_time": "2024-06-22T14:45:08.494580900Z"
    }
   },
   "id": "80b83f80a03d7143",
   "execution_count": 18
  },
  {
   "cell_type": "markdown",
   "source": [
    "##### **Average size of the previous orders(avg_size_prev_orders)**\n",
    "**Description:** The feature represents the average size of the previous orders of the user.\n",
    "For this, the size of the previous orders of the user is calculated and the mean of the sizes is taken.\n",
    "\n",
    "**Analysis:** The feature has a correlation which is near zero. Furthermore, after the analysis of the feature, it can be seen that the feature has no significant impact on the tip.\n",
    "The consequence of the low correlation and analysis is that the feature is not part of the model feature set."
   ],
   "metadata": {
    "collapsed": false
   },
   "id": "d0476277a867be8"
  },
  {
   "cell_type": "code",
   "outputs": [],
   "source": [
    "avg_size_prev_orders.analyze_feature(orders_tip_features)"
   ],
   "metadata": {
    "collapsed": false
   },
   "id": "7028595021decff"
  },
  {
   "cell_type": "markdown",
   "source": [
    "##### **Last Tip Sequence**\n",
    "**Description:** The feature represents the sum of the length of the last tip sequence. In case the last order has not been tipped, the feature value is always zero. In case the last order has been tipped, all directly consecutive tipped orders are added to the sequence. A \"last_tip_sequence\" of five means that the last five orders had all been tipped by the user.\n",
    "\n",
    "**Analysis:** Which impact does the feature have on tip. Does it have any correlations to other features\n",
    "&rarr; **Is the feature part of the model feature set? and why (one sentence)**"
   ],
   "metadata": {
    "collapsed": false
   },
   "id": "63a82361a452a993"
  },
  {
   "cell_type": "code",
   "outputs": [],
   "source": [
    "last_tip_sequence.analyze_feature(orders_tip_features)"
   ],
   "metadata": {
    "collapsed": false
   },
   "id": "ce73e09c098b7407"
  },
  {
   "cell_type": "markdown",
   "source": [
    "### Comparison of features\n",
    "\n",
    "The comparison of the features is based on correlations and regression coefficients. The correlations and the "
   ],
   "metadata": {
    "collapsed": false
   },
   "id": "9407c087fd7fbdfb"
  },
  {
   "cell_type": "markdown",
   "source": [
    "## Model Training\n",
    "\n",
    "Describe Pipeline Architecture. Time serious cross validation \n"
   ],
   "metadata": {
    "collapsed": false
   },
   "id": "7aad9378c671069c"
  },
  {
   "cell_type": "markdown",
   "source": [
    "## Accuracy Prediction"
   ],
   "metadata": {
    "collapsed": false
   },
   "id": "d3e49680828e3d5d"
  }
 ],
 "metadata": {
  "kernelspec": {
   "display_name": "Python 3",
   "language": "python",
   "name": "python3"
  },
  "language_info": {
   "codemirror_mode": {
    "name": "ipython",
    "version": 2
   },
   "file_extension": ".py",
   "mimetype": "text/x-python",
   "name": "python",
   "nbconvert_exporter": "python",
   "pygments_lexer": "ipython2",
   "version": "2.7.6"
  }
 },
 "nbformat": 4,
 "nbformat_minor": 5
}
