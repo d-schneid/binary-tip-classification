{
 "cells": [
  {
   "cell_type": "markdown",
   "source": [
    "# Data Science Project SoSe 2024\n",
    "## Team 07\n",
    "- Maximilian Hoffmann\n",
    "- Kilian Kempf\n",
    "- Daniel Schneider\n",
    "- Tom Schuck\n",
    "\n",
    "## Project Submission"
   ],
   "metadata": {
    "collapsed": false
   },
   "id": "bc3b3d1df930f4fc"
  },
  {
   "cell_type": "markdown",
   "source": [
    "## Notebook content\n",
    "\n",
    "- Data Initialization\n",
    "- General Analysis\n",
    "- Feature Engineering\n",
    "- Feature Analysis\n",
    "- Model Training\n",
    "- Model Evaluation\n",
    "- Accuracy Prediction"
   ],
   "metadata": {
    "collapsed": false
   },
   "id": "5897f6035bf1f06"
  },
  {
   "cell_type": "code",
   "outputs": [],
   "source": [
    "import os\n",
    "import pandas as pd\n",
    "from data_management import DataManager"
   ],
   "metadata": {
    "collapsed": false,
    "ExecuteTime": {
     "end_time": "2024-06-22T09:07:28.867063Z",
     "start_time": "2024-06-22T09:07:27.179488Z"
    }
   },
   "id": "77e9fb791b92a380",
   "execution_count": 1
  },
  {
   "cell_type": "markdown",
   "source": [
    "## Data Initialization"
   ],
   "metadata": {
    "collapsed": false
   },
   "id": "f01004a8a9bd4f41"
  },
  {
   "cell_type": "code",
   "outputs": [],
   "source": [
    "DATA_DIR = os.path.join(os.getcwd(), 'data/Instacart')\n",
    "\n",
    "op_prior = pd.read_csv(os.path.join(DATA_DIR, 'order_products__prior.csv.zip'))\n",
    "op_train = pd.read_csv(os.path.join(DATA_DIR, 'order_products__train.csv.zip'))\n",
    "\n",
    "tip_train = pd.read_csv(os.path.join(DATA_DIR, 'tip_trainingsdaten1_.csv'))[['order_id', 'tip']]\n",
    "tip_test = pd.read_csv(os.path.join(DATA_DIR, 'tip_testdaten1_template.csv'))\n",
    "\n",
    "orders = pd.read_csv(os.path.join(DATA_DIR, 'orders.csv.zip'))\n",
    "aisles = pd.read_csv(os.path.join(DATA_DIR, 'aisles.csv.zip'))\n",
    "departments = pd.read_csv(os.path.join(DATA_DIR, 'departments.csv.zip'))\n",
    "products = pd.read_csv(os.path.join(DATA_DIR, 'products.csv.zip'))\n",
    "\n",
    "data_manager = DataManager(op_prior, op_train, tip_train, tip_test, orders, products, aisles, departments)\n",
    "order_amount = len(data_manager.get_orders_tip())"
   ],
   "metadata": {
    "collapsed": false,
    "ExecuteTime": {
     "end_time": "2024-06-22T09:08:11.470785Z",
     "start_time": "2024-06-22T09:07:28.868639Z"
    }
   },
   "id": "6d087439f344afb8",
   "execution_count": 2
  },
  {
   "cell_type": "markdown",
   "source": [
    "## Data Analysis\n",
    "Several Analysis were done to find any tip patterns in the data. The purpose of this analysis is to find specific features that are relevant for the prediction of tip. To find out which attributes have a significant influence on the tip, several analysis task were executed."
   ],
   "metadata": {
    "collapsed": false
   },
   "id": "3ebfcf4c1ccd36b6"
  },
  {
   "cell_type": "code",
   "outputs": [],
   "source": [
    "from analysis import Analysis, HourOfDay, DayOfWeek, Department, ReorderedAnalysis, DaysSincePriorOrder, AssocRules, TipSequence, OrderNumber, Aisle, Product, NumberOrderUser, ProductCardOrder, GeneralAnalysis, GeneralFacts"
   ],
   "metadata": {
    "collapsed": false,
    "ExecuteTime": {
     "end_time": "2024-06-22T09:08:11.498381Z",
     "start_time": "2024-06-22T09:08:11.473115Z"
    }
   },
   "id": "6813fae2e9135478",
   "execution_count": 3
  },
  {
   "cell_type": "markdown",
   "source": [
    "TODO: Describe here your analysis task. What is the analysis about, any assumptions before? What did we expect?\n",
    "TODO: Describe the results also here in this Markdown\n",
    "\n",
    "\n",
    "\n",
    "##### **Analysis Task Name**\n",
    "**Analysis:** \n",
    "\n",
    "**Result Interpretation:**"
   ],
   "metadata": {
    "collapsed": false
   },
   "id": "e3f5bbaef8af6b1f"
  },
  {
   "cell_type": "code",
   "outputs": [],
   "source": [
    "# TODO: Initialize your analysis instance\n",
    "# TODO: Produce your output"
   ],
   "metadata": {
    "collapsed": false,
    "ExecuteTime": {
     "end_time": "2024-06-22T09:19:40.860379Z",
     "start_time": "2024-06-22T09:19:40.851821Z"
    }
   },
   "id": "6731b94840f05f55",
   "execution_count": 13
  },
  {
   "cell_type": "markdown",
   "source": [
    "##### **General Facts**\n",
    "**Analysis:** For data understanding and getting familiar with the data set and the overall relations between the main entities, some general facts about the dataset were collected. Therefore several facts has been calculated containing the different entities and there relations.\n",
    "\n",
    "**Result Interpretations:** The results are important to clarify weather the calculations fit with the overall facts of the dataset and do not contain any calculation errors or changed the dataset."
   ],
   "metadata": {
    "collapsed": false
   },
   "id": "27b016974dcbb00"
  },
  {
   "cell_type": "code",
   "outputs": [
    {
     "name": "stdout",
     "output_type": "stream",
     "text": [
      "General facts about the dataset\n",
      "Order specific analysis:\n",
      "Total amount of orders        : 3214874\n",
      "Total amount of users         : 206209\n",
      "Average orders / user         : 15.590367054784224\n",
      "Average tipped orders / user  : 9.669346519049208\n",
      "Overall order tip probability : 0.4408440268576622\n",
      "----------\n",
      "\n",
      "Product specific analysis:\n",
      "Total amount of products       : 49677\n",
      "Average products / order       : 10.088883421247614\n",
      "Average order amount / product : 652.90756285605\n",
      "----------\n",
      "\n",
      "Department specific analysis:\n",
      "Total amount of departments       : 21\n",
      "Average departments / order       : 4.736172552952309\n",
      "Average products / department     : 2365.5714285714284\n",
      "Average order amount / department : 1544499.4761904762\n",
      "----------\n",
      "\n",
      "Aisle specific analysis:\n",
      "Total amount of aisles       : 134\n",
      "Average aisles / order       : 7.25952339034127\n",
      "Average products / aisle     : 370.7238805970149\n",
      "Average order amount / aisle : 242048.42537313432\n"
     ]
    }
   ],
   "source": [
    "general_facts = GeneralFacts(data_manager)\n",
    "general_facts.execute_analysis()"
   ],
   "metadata": {
    "collapsed": false,
    "ExecuteTime": {
     "end_time": "2024-06-22T09:08:30.902936Z",
     "start_time": "2024-06-22T09:08:11.502579Z"
    }
   },
   "id": "8a667c51f004dae0",
   "execution_count": 5
  },
  {
   "cell_type": "markdown",
   "source": [
    "##### **Add to card order analysis per Product**\n",
    "**Analysis:** To find out weather the add to card order of a specific product has an impact on the tip probability of that product, an analysis task has been created which calculates the tip probability of the products in dependence of the add_to_cart_order. To compare the \"add to card order\" of a product, the rational scaled variable (add_to_card_order) has to be normalized. With that normalization every \"add to cart order\" is transformed to an additional normalized_add_to_card attribute order within the interval [0,1]. After the calculation of the normalized attribute, the variable has been subdivided in 10 bins. Within these bins the mean tip probability of every product is calculated and visualized within the box plot below.\n",
    "\n",
    "**Result Interpretations:** The boxplot below shows the distribution of the product specific tip probabilities in dependence of the normalized \"add to card order\". It displays the median, potential outliers and the area between the 25th and the 75th quartile which represents 50% of the data. Considering the area between the 25th and 75th quartile, it can be recognized that there is no overall impact of the normalized add_to_card oder on the product specific tip probability. Focussing the outliers, it can be seen that there are some differences between the different bins. However, because the range between the 25th and 75th percentile is so constant, it can be assumed that these outliers are not necessarily related to \"add to card or\" but are due to other influences.\\\n",
    "&rarr; **No overall impact of add_to_card_order on the tip probability of the products** &rarr; no feature crafted and no further analysis on the attribute \"add_to_card_order\""
   ],
   "metadata": {
    "collapsed": false
   },
   "id": "1ae94ce2f8e6c645"
  },
  {
   "cell_type": "code",
   "outputs": [],
   "source": [
    "product_card_order = ProductCardOrder(data_manager)\n",
    "#product_card_order.execute_analysis()"
   ],
   "metadata": {
    "collapsed": false,
    "ExecuteTime": {
     "end_time": "2024-06-22T09:08:37.164813Z",
     "start_time": "2024-06-22T09:08:30.904296Z"
    }
   },
   "id": "bba38df3f7acf8dd",
   "execution_count": 6
  },
  {
   "cell_type": "markdown",
   "source": [
    "##### **Reordered tip probability analysis per Product**\n",
    "**Analysis:** To find out weather the amount of reorders has an influence on the tip probability of a product, an analysis has been done which compares the product specific tip probability in dependence of the product reordered probability. Because of the fact that the \"reordered\" attribute is a user specific flag, the calculated product reordered rate describes the probability that a product is reordered. With a high reordered rate we can assume that the product has been bought quite often across all users. The heatmap below shows the product tip probability in comparison to the reordered rate. The purpose of this analysis task was to identify weather the reordered rate has an overall influence of the tip probability. The assumption here was that the tip probability of the products generally increases with a rising reordered rate.\n",
    "\n",
    "**Result Interpretations:** The heatmap overall shows that there is no general connection between the reordered rate and the product specific tip probability. As the reordered rate increases, the product tip probability of the products remains relatively constant and does not change depending on the reordered rate.\\\n",
    "&rarr; **No overall impact of reordered rate on the tip probability of the products** &rarr; no feature crafted"
   ],
   "metadata": {
    "collapsed": false
   },
   "id": "273b9862ede5e57c"
  },
  {
   "cell_type": "code",
   "outputs": [
    {
     "data": {
      "text/plain": "<Figure size 1200x800 with 1 Axes>",
      "image/png": "[encoded data removed]"
     },
     "metadata": {},
     "output_type": "display_data"
    }
   ],
   "source": [
    "reordered_tip_rate = ReorderedAnalysis(data_manager)\n",
    "reordered_tip_rate.execute_analysis()"
   ],
   "metadata": {
    "collapsed": false,
    "ExecuteTime": {
     "end_time": "2024-06-22T09:09:01.293186Z",
     "start_time": "2024-06-22T09:08:37.166778Z"
    }
   },
   "id": "ec287e8213ca5fed",
   "execution_count": 7
  },
  {
   "cell_type": "markdown",
   "source": [
    "## Feature Engineering\n",
    "With the results of the general analysis task and our specific assumptions of any relation between tip and various data combinations, a few features were build that we think will make a potential impact. The explanation of each feature and corresponding impact analysis will be covered in the next chapter (Feature analysis). To execute the impact analysis of the features, it is necessary to compute them all before.\n",
    "\n",
    "For the computation of the features, it is distinguished between two types of features:\n",
    "- **Static features:** Features that are calculated user specific and consider just the last orders of the specific user. These features can be computed once and do not need to be recalculated for a newly created fold in a time series cross validation.\n",
    "- **Dynamic features:** Features that are calculated user comprehensive like the product tip rate of all orders. For these features we use to data of the whole dataset or fold in cross validation. Therefore the dynamic features need to be recalculated for every new fold in the cross validation."
   ],
   "metadata": {
    "collapsed": false
   },
   "id": "47d8a3675a70e937"
  },
  {
   "cell_type": "code",
   "outputs": [],
   "source": [
    "from feature_engineering.static_features import ContainsAlcohol, DowHighTipProbability, TipHistory, OrderSize, OrderNumberSquared, PrevOrderTipped, MeanOrderedRate, CustomerLifetime, ReorderedRatio, OrderFrequency, HodHighTipProbability, PrevTippedProductsRatio, RelDaysSinceTip, DaysSinceTip, LastTipSequence, AvgSizePrevOrders, SimOrdersTipRatio\n",
    "from feature_engineering.dynamic_features import ProductTipRate, DepartmentTipRate, AisleTipRate, AssocRulesAisles, AssocRulesDepartments"
   ],
   "metadata": {
    "collapsed": false,
    "ExecuteTime": {
     "end_time": "2024-06-22T09:09:01.393642Z",
     "start_time": "2024-06-22T09:09:01.294960Z"
    }
   },
   "id": "7056704cec8ff503",
   "execution_count": 8
  },
  {
   "cell_type": "code",
   "outputs": [],
   "source": [
    "# Static Features\n",
    "tip_history = TipHistory()\n",
    "reordered_rate = ReorderedRatio()\n",
    "order_size = OrderSize()\n",
    "prev_tipped_products_ratio = PrevTippedProductsRatio()\n",
    "customer_lifetime = CustomerLifetime()\n",
    "prev_order_tipped = PrevOrderTipped()\n",
    "order_frequency = OrderFrequency()\n",
    "mean_ordered_rate = MeanOrderedRate()\n",
    "rel_days_since_tip = RelDaysSinceTip()\n",
    "days_since_tip = DaysSinceTip()\n",
    "sim_orders_tip_ratio = SimOrdersTipRatio()\n",
    "product_tip_rate = ProductTipRate()\n",
    "order_number_squared = OrderNumberSquared()\n",
    "hod_high_tip_probability = HodHighTipProbability()\n",
    "dow_high_tip_probability = DowHighTipProbability()\n",
    "contains_alcohol = ContainsAlcohol()\n",
    "avg_size_prev_orders = AvgSizePrevOrders()\n",
    "\n",
    "# Dynamic Features\n",
    "department_tip_rate = DepartmentTipRate()\n",
    "aisle_tip_rate = AisleTipRate()\n",
    "last_tip_sequence = LastTipSequence()\n",
    "assoc_rules_departments = AssocRulesDepartments()\n",
    "assoc_rules_aisles = AssocRulesAisles()"
   ],
   "metadata": {
    "collapsed": false,
    "ExecuteTime": {
     "end_time": "2024-06-22T09:09:01.397693Z",
     "start_time": "2024-06-22T09:09:01.394727Z"
    }
   },
   "id": "b29965cb265a58ae",
   "execution_count": 9
  },
  {
   "cell_type": "code",
   "outputs": [],
   "source": [
    "# Static Features\n",
    "data_manager.register_feature(tip_history)\n",
    "data_manager.register_feature(reordered_rate)\n",
    "data_manager.register_feature(order_size)\n",
    "data_manager.register_feature(customer_lifetime)\n",
    "data_manager.register_feature(prev_order_tipped)\n",
    "data_manager.register_feature(prev_tipped_products_ratio)\n",
    "data_manager.register_feature(order_frequency)\n",
    "data_manager.register_feature(sim_orders_tip_ratio)\n",
    "data_manager.register_feature(mean_ordered_rate)\n",
    "data_manager.register_feature(last_tip_sequence)\n",
    "data_manager.register_feature(rel_days_since_tip)\n",
    "data_manager.register_feature(days_since_tip)\n",
    "data_manager.register_feature(order_number_squared)\n",
    "data_manager.register_feature(hod_high_tip_probability)\n",
    "data_manager.register_feature(dow_high_tip_probability)\n",
    "data_manager.register_feature(contains_alcohol)\n",
    "data_manager.register_feature(avg_size_prev_orders)\n",
    "\n",
    "# Dynamic Features\n",
    "data_manager.register_feature(product_tip_rate)\n",
    "data_manager.register_feature(department_tip_rate)\n",
    "data_manager.register_feature(aisle_tip_rate)\n",
    "data_manager.register_feature(assoc_rules_aisles)\n",
    "data_manager.register_feature(assoc_rules_departments)"
   ],
   "metadata": {
    "collapsed": false,
    "ExecuteTime": {
     "end_time": "2024-06-22T09:09:01.402098Z",
     "start_time": "2024-06-22T09:09:01.399419Z"
    }
   },
   "id": "42544b51576c064b",
   "execution_count": 10
  },
  {
   "cell_type": "markdown",
   "source": [
    "Because of the computing time of each feature, the calculation has been done once before and is imported to the local file system. If it is required to compute the features once again, the next two lines of code need to be executed."
   ],
   "metadata": {
    "collapsed": false
   },
   "id": "ad453ee110063bb5"
  },
  {
   "cell_type": "code",
   "outputs": [],
   "source": [
    "# In case a recomputing of the features is necessary. Remove the comments for the next two lines of code.\n",
    "# data_manager.compute_features()\n",
    "# data_manager.export_features('data/prepared_data/computed_features.csv.zip', only_static=False)\n",
    "\n",
    "data_manager.import_features('data/prepared_data/computed_features.csv.zip', only_static=False)"
   ],
   "metadata": {
    "collapsed": false,
    "ExecuteTime": {
     "end_time": "2024-06-22T09:09:12.981448Z",
     "start_time": "2024-06-22T09:09:01.402812Z"
    }
   },
   "id": "f402bb29c508c0de",
   "execution_count": 11
  },
  {
   "cell_type": "markdown",
   "source": [
    "## Feature analysis\n",
    "To decide weather a feature will take place in the feature set of the machine learning model, it is necessary to analyze which features have a significant impact on tip. All features that has been computed are described and analyzed in the following section.\n"
   ],
   "metadata": {
    "collapsed": false
   },
   "id": "2c84ddb7a08c2b9d"
  },
  {
   "cell_type": "code",
   "outputs": [],
   "source": [
    "# Dataset for analysis\n",
    "orders_tip_features = data_manager.get_orders_tip_train()"
   ],
   "metadata": {
    "collapsed": false,
    "ExecuteTime": {
     "end_time": "2024-06-22T10:10:26.296770Z",
     "start_time": "2024-06-22T10:10:23.793393Z"
    }
   },
   "id": "2e8b4ac91746f3dd",
   "execution_count": 14
  },
  {
   "cell_type": "markdown",
   "source": [
    "##### **Feature_Name**\n",
    "**Description:** Describe how the feature is calculated and what does it mean.\n",
    "\n",
    "**Analysis:** Which impact does the feature have on tip. Does it have any correlations to other features\n",
    "&rarr; **Is the feature part of the model feature set? and why (one sentence)**"
   ],
   "metadata": {
    "collapsed": false
   },
   "id": "85541d7701b944e0"
  },
  {
   "cell_type": "code",
   "outputs": [],
   "source": [
    "# TODO: Execute the feature_name.analyze_feature() method"
   ],
   "metadata": {
    "collapsed": false,
    "ExecuteTime": {
     "end_time": "2024-06-22T10:10:26.302389Z",
     "start_time": "2024-06-22T10:10:26.299464Z"
    }
   },
   "id": "8000f2baf1ea5158",
   "execution_count": 15
  },
  {
   "cell_type": "markdown",
   "source": [
    "##### **Last Tip Sequence**\n",
    "**Description:** The feature represents the sum of the length of the last tip sequence. In case the last order has not been tipped, the feature value is always zero. In case the last order has been tipped, all directly consecutive tipped orders are added to the sequence. A \"last_tip_sequence\" of five means that the last five orders had all been tipped by the user.\n",
    "\n",
    "**Analysis:** Which impact does the feature have on tip. Does it have any correlations to other features\n",
    "&rarr; **Is the feature part of the model feature set? and why (one sentence)**"
   ],
   "metadata": {
    "collapsed": false
   },
   "id": "ad2bbb5b9d48a7e4"
  },
  {
   "cell_type": "code",
   "outputs": [],
   "source": [
    "last_tip_sequence.analyze_feature(orders_tip_features)"
   ],
   "metadata": {
    "collapsed": false
   },
   "id": "c6eca7cbeb486b1d"
  },
  {
   "cell_type": "markdown",
   "source": [
    "### Comparison of features\n",
    "\n",
    "The comparison of the features is based on correlations and regression coefficients. The correlations and the "
   ],
   "metadata": {
    "collapsed": false
   },
   "id": "9407c087fd7fbdfb"
  },
  {
   "cell_type": "markdown",
   "source": [
    "## Model Training\n",
    "\n",
    "Describe Pipeline Architecture. Time serious cross validation \n"
   ],
   "metadata": {
    "collapsed": false
   },
   "id": "7aad9378c671069c"
  },
  {
   "cell_type": "markdown",
   "source": [
    "## Accuracy Prediction"
   ],
   "metadata": {
    "collapsed": false
   },
   "id": "d3e49680828e3d5d"
  }
 ],
 "metadata": {
  "kernelspec": {
   "display_name": "Python 3",
   "language": "python",
   "name": "python3"
  },
  "language_info": {
   "codemirror_mode": {
    "name": "ipython",
    "version": 2
   },
   "file_extension": ".py",
   "mimetype": "text/x-python",
   "name": "python",
   "nbconvert_exporter": "python",
   "pygments_lexer": "ipython2",
   "version": "2.7.6"
  }
 },
 "nbformat": 4,
 "nbformat_minor": 5
}
