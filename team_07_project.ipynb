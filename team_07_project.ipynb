{
 "cells": [
  {
   "cell_type": "markdown",
   "source": [
    "# Data Science Project SoSe 2024\n",
    "## Team 07\n",
    "- Maximilian Hoffmann\n",
    "- Kilian Kempf\n",
    "- Daniel Schneider\n",
    "- Tom Schuck\n",
    "\n",
    "## Project Submission"
   ],
   "metadata": {
    "collapsed": false
   },
   "id": "bc3b3d1df930f4fc"
  },
  {
   "cell_type": "markdown",
   "source": [
    "## Notebook content\n",
    "\n",
    "- Data Initialization\n",
    "- General Analysis\n",
    "- Feature Engineering\n",
    "- Feature Analysis\n",
    "- Model Training\n",
    "- Model Evaluation\n",
    "- Accuracy Prediction"
   ],
   "metadata": {
    "collapsed": false
   },
   "id": "5897f6035bf1f06"
  },
  {
   "cell_type": "code",
   "outputs": [],
   "source": [
    "import os\n",
    "import pandas as pd\n",
    "from data_management import DataManager"
   ],
   "metadata": {
    "collapsed": false
   },
   "id": "77e9fb791b92a380"
  },
  {
   "cell_type": "markdown",
   "source": [
    "## Data Initialization"
   ],
   "metadata": {
    "collapsed": false
   },
   "id": "f01004a8a9bd4f41"
  },
  {
   "cell_type": "code",
   "outputs": [],
   "source": [
    "DATA_DIR = os.path.join(os.getcwd(), 'data/Instacart')\n",
    "\n",
    "op_prior = pd.read_csv(os.path.join(DATA_DIR, 'order_products__prior.csv.zip'))\n",
    "op_train = pd.read_csv(os.path.join(DATA_DIR, 'order_products__train.csv.zip'))\n",
    "\n",
    "tip_train = pd.read_csv(os.path.join(DATA_DIR, 'tip_trainingsdaten1_.csv'))[['order_id', 'tip']]\n",
    "tip_test = pd.read_csv(os.path.join(DATA_DIR, 'tip_testdaten1_template.csv'))\n",
    "\n",
    "orders = pd.read_csv(os.path.join(DATA_DIR, 'orders.csv.zip'))\n",
    "aisles = pd.read_csv(os.path.join(DATA_DIR, 'aisles.csv.zip'))\n",
    "departments = pd.read_csv(os.path.join(DATA_DIR, 'departments.csv.zip'))\n",
    "products = pd.read_csv(os.path.join(DATA_DIR, 'products.csv.zip'))\n",
    "\n",
    "data_manager = DataManager(op_prior, op_train, tip_train, tip_test, orders, products, aisles, departments)\n",
    "order_amount = len(data_manager.get_orders_tip())"
   ],
   "metadata": {
    "collapsed": false
   },
   "id": "6d087439f344afb8"
  },
  {
   "cell_type": "markdown",
   "source": [
    "## Data Analysis\n",
    "Several Analysis were done to find any tip patterns in the data. The purpose of this analysis is to find specific features that are relevant for the prediction of tip. To find out which attributes have a significant influence on the tip, several analysis task were executed."
   ],
   "metadata": {
    "collapsed": false
   },
   "id": "3ebfcf4c1ccd36b6"
  },
  {
   "cell_type": "code",
   "outputs": [],
   "source": [
    "from analysis import Analysis, HourOfDay, DayOfWeek, Department, ReorderedAnalysis, DaysSincePriorOrder, AssocRules, TipSequence, OrderNumber, Aisle, Product, NumberOrderUser, ProductCardOrder, GeneralAnalysis, GeneralFacts"
   ],
   "metadata": {
    "collapsed": false
   },
   "id": "6813fae2e9135478"
  },
  {
   "cell_type": "markdown",
   "source": [
    "TODO: Describe here your analysis task. What is the analysis about, any assumptions before? What did we expect?\n",
    "TODO: Describe the results also here in this Markdown\n",
    "\n",
    "\n",
    "\n",
    "##### Analysis Task Name\n",
    "**Analysis:** \n",
    "\n",
    "**Result Interpretation:**"
   ],
   "metadata": {
    "collapsed": false
   },
   "id": "e3f5bbaef8af6b1f"
  },
  {
   "cell_type": "code",
   "outputs": [],
   "source": [
    "# TODO: Initialize your analysis instance\n",
    "# TODO: Produce your output"
   ],
   "metadata": {
    "collapsed": false,
    "ExecuteTime": {
     "end_time": "2024-06-21T12:50:42.195794Z",
     "start_time": "2024-06-21T12:50:42.192890Z"
    }
   },
   "id": "6731b94840f05f55",
   "execution_count": 1
  },
  {
   "cell_type": "markdown",
   "source": [
    "##### General Facts\n",
    "**Analysis:** For data understanding and getting familiar with the data set and the overall relations between the main entities, some general facts about the dataset were collected. Therefore several facts has been calculated containing the different entities and there relations.\n",
    "\n",
    "**Result Interpretations:** The results are important to clarify weather the calculations fit with the overall facts of the dataset and do not contain any calculation errors or changed the dataset."
   ],
   "metadata": {
    "collapsed": false
   },
   "id": "27b016974dcbb00"
  },
  {
   "cell_type": "code",
   "outputs": [],
   "source": [
    "general_facts = GeneralFacts(data_manager)\n",
    "general_facts.execute_analysis()"
   ],
   "metadata": {
    "collapsed": false
   },
   "id": "8a667c51f004dae0"
  },
  {
   "cell_type": "markdown",
   "source": [
    "##### Add to card order analysis per Product\n",
    "**Analysis:** To find out weather the add to card order of a specific product has an impact on the tip probability of that product, an analysis task has been created which calculates the tip probability of the products in dependence of the add_to_cart_order.\n",
    "\n",
    "**Result Interpretations:** In the boxplot below, we see ...... \n",
    "&rarr; **No overall impact of add_to_card_order on the tip probability of the products** &rarr; no feature crafted"
   ],
   "metadata": {
    "collapsed": false
   },
   "id": "1ae94ce2f8e6c645"
  },
  {
   "cell_type": "markdown",
   "source": [
    "## Feature Engineering\n",
    "With the results of the general analysis task and our specific assumptions of any relation between tip and various data combinations, a few features were build that we think will make a potential impact. The explanation of each feature and corresponding impact analysis will be covered in the next chapter (Feature analysis). To execute the impact analysis of the features, it is necessary to compute them all before.\n",
    "\n",
    "For the computation of the features, it is distinguished between two types of features:\n",
    "- **Static features:** Features that are calculated user specific and consider just the last orders of the specific user. These features can be computed once and do not need to be recalculated for a newly created fold in a time series cross validation.\n",
    "- **Dynamic features:** Features that are calculated user comprehensive like the product tip rate of all orders. For these features we use to data of the whole dataset or fold in cross validation. Therefore the dynamic features need to be recalculated for every new fold in the cross validation."
   ],
   "metadata": {
    "collapsed": false
   },
   "id": "47d8a3675a70e937"
  },
  {
   "cell_type": "code",
   "outputs": [],
   "source": [
    "from feature_engineering.static_features import ContainsAlcohol, DowHighTipProbability, TipHistory, OrderSize, OrderNumberSquared, PrevOrderTipped, MeanOrderedRate, CustomerLifetime, ReorderedRatio, OrderFrequency, HodHighTipProbability, PrevTippedProductsRatio, RelDaysSinceTip, DaysSinceTip, LastTipSequence, AvgSizePrevOrders, SimOrdersTipRatio\n",
    "from feature_engineering.dynamic_features import ProductTipRate, DepartmentTipRate, AisleTipRate, AssocRulesAisles, AssocRulesDepartments"
   ],
   "metadata": {
    "collapsed": false
   },
   "id": "7056704cec8ff503"
  },
  {
   "cell_type": "code",
   "outputs": [],
   "source": [
    "# Static Features\n",
    "tip_history = TipHistory()\n",
    "reordered_rate = ReorderedRatio()\n",
    "order_size = OrderSize()\n",
    "prev_tipped_products_ratio = PrevTippedProductsRatio()\n",
    "customer_lifetime = CustomerLifetime()\n",
    "prev_order_tipped = PrevOrderTipped()\n",
    "order_frequency = OrderFrequency()\n",
    "mean_ordered_rate = MeanOrderedRate()\n",
    "rel_days_since_tip = RelDaysSinceTip()\n",
    "days_since_tip = DaysSinceTip()\n",
    "sim_orders_tip_ratio = SimOrdersTipRatio()\n",
    "product_tip_rate = ProductTipRate()\n",
    "order_number_squared = OrderNumberSquared()\n",
    "hod_high_tip_probability = HodHighTipProbability()\n",
    "dow_high_tip_probability = DowHighTipProbability()\n",
    "contains_alcohol = ContainsAlcohol()\n",
    "avg_size_prev_orders = AvgSizePrevOrders()\n",
    "\n",
    "# Dynamic Features\n",
    "department_tip_rate = DepartmentTipRate()\n",
    "aisle_tip_rate = AisleTipRate()\n",
    "last_tip_sequence = LastTipSequence()\n",
    "assoc_rules_departments = AssocRulesDepartments()\n",
    "assoc_rules_aisles = AssocRulesAisles()"
   ],
   "metadata": {
    "collapsed": false
   },
   "id": "b29965cb265a58ae"
  },
  {
   "cell_type": "code",
   "outputs": [],
   "source": [
    "# Static Features\n",
    "data_manager.register_feature(tip_history)\n",
    "data_manager.register_feature(reordered_rate)\n",
    "data_manager.register_feature(order_size)\n",
    "data_manager.register_feature(customer_lifetime)\n",
    "data_manager.register_feature(prev_order_tipped)\n",
    "data_manager.register_feature(prev_tipped_products_ratio)\n",
    "data_manager.register_feature(order_frequency)\n",
    "data_manager.register_feature(sim_orders_tip_ratio)\n",
    "data_manager.register_feature(mean_ordered_rate)\n",
    "data_manager.register_feature(last_tip_sequence)\n",
    "data_manager.register_feature(rel_days_since_tip)\n",
    "data_manager.register_feature(days_since_tip)\n",
    "data_manager.register_feature(order_number_squared)\n",
    "data_manager.register_feature(hod_high_tip_probability)\n",
    "data_manager.register_feature(dow_high_tip_probability)\n",
    "data_manager.register_feature(contains_alcohol)\n",
    "data_manager.register_feature(avg_size_prev_orders)\n",
    "\n",
    "# Dynamic Features\n",
    "data_manager.register_feature(product_tip_rate)\n",
    "data_manager.register_feature(department_tip_rate)\n",
    "data_manager.register_feature(aisle_tip_rate)\n",
    "data_manager.register_feature(assoc_rules_aisles)\n",
    "data_manager.register_feature(assoc_rules_departments)"
   ],
   "metadata": {
    "collapsed": false
   },
   "id": "42544b51576c064b"
  },
  {
   "cell_type": "markdown",
   "source": [
    "Because of the computing time of each feature, the calculation has been done once before and is imported to the local file system. If it is required to compute the features once again, the next two lines of code need to be executed."
   ],
   "metadata": {
    "collapsed": false
   },
   "id": "ad453ee110063bb5"
  },
  {
   "cell_type": "code",
   "outputs": [],
   "source": [
    "# In case a recomputing of the features is necessary. Remove the comments for the next two lines of code.\n",
    "# data_manager.compute_features()\n",
    "# data_manager.export_features('data/prepared_data/computed_features.csv.zip', only_static=False)\n",
    "\n",
    "data_manager.import_features('data/prepared_data/computed_features.csv.zip', only_static=False)"
   ],
   "metadata": {
    "collapsed": false
   },
   "id": "f402bb29c508c0de"
  },
  {
   "cell_type": "markdown",
   "source": [
    "## Feature analysis\n",
    "To decide weather a feature will take place in the feature set of the machine learning model, it is necessary to analyze which features have a significant impact on tip. All features that has been computed are described and analyzed in the following section.\n"
   ],
   "metadata": {
    "collapsed": false
   },
   "id": "2c84ddb7a08c2b9d"
  },
  {
   "cell_type": "markdown",
   "source": [
    "##### Feature_Name\n",
    "**Description:** Describe how the feature is calculated and what does it mean.\n",
    "\n",
    "**Analysis:** Which impact does the feature have on tip. Does it have any cocorrelations to other features\n",
    "&rarr; **Is the feature part of the model feature set? and why (one sentence)**"
   ],
   "metadata": {
    "collapsed": false
   },
   "id": "85541d7701b944e0"
  },
  {
   "cell_type": "code",
   "outputs": [],
   "source": [
    "# TODO: Execute the feature_name.analyze_feature() method"
   ],
   "metadata": {
    "collapsed": false
   },
   "id": "8000f2baf1ea5158"
  },
  {
   "cell_type": "markdown",
   "source": [
    "### Comparison of features\n",
    "\n",
    "Compare correlations\n",
    "Compare coefficients"
   ],
   "metadata": {
    "collapsed": false
   },
   "id": "9407c087fd7fbdfb"
  },
  {
   "cell_type": "markdown",
   "source": [
    "## Model Training\n",
    "\n",
    "Describe Pipeline Architecture. Time seroius cross validation \n"
   ],
   "metadata": {
    "collapsed": false
   },
   "id": "7aad9378c671069c"
  },
  {
   "cell_type": "markdown",
   "source": [
    "## Accuracy Prediction"
   ],
   "metadata": {
    "collapsed": false
   },
   "id": "d3e49680828e3d5d"
  }
 ],
 "metadata": {
  "kernelspec": {
   "display_name": "Python 3",
   "language": "python",
   "name": "python3"
  },
  "language_info": {
   "codemirror_mode": {
    "name": "ipython",
    "version": 2
   },
   "file_extension": ".py",
   "mimetype": "text/x-python",
   "name": "python",
   "nbconvert_exporter": "python",
   "pygments_lexer": "ipython2",
   "version": "2.7.6"
  }
 },
 "nbformat": 4,
 "nbformat_minor": 5
}
