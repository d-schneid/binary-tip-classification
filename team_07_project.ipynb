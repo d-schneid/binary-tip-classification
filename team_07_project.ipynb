{
 "cells": [
  {
   "cell_type": "markdown",
   "source": [
    "# Data Science Project SoSe 2024\n",
    "## Team 07\n",
    "- Maximilian Hoffmann\n",
    "- Kilian Kempf\n",
    "- Daniel Schneider\n",
    "- Tom Schuck\n",
    "\n",
    "## Project Submission"
   ],
   "metadata": {
    "collapsed": false
   },
   "id": "bc3b3d1df930f4fc"
  },
  {
   "cell_type": "markdown",
   "source": [
    "## Notebook content\n",
    "\n",
    "- Data Initialization\n",
    "- General Analysis\n",
    "- Feature Engineering\n",
    "- Model Training\n",
    "- Model Evaluation\n",
    "- Accuracy Prediction"
   ],
   "metadata": {
    "collapsed": false
   },
   "id": "5897f6035bf1f06"
  },
  {
   "cell_type": "code",
   "outputs": [],
   "source": [
    "import os\n",
    "import pandas as pd\n",
    "from data_management import DataManager"
   ],
   "metadata": {
    "collapsed": false
   },
   "id": "77e9fb791b92a380"
  },
  {
   "cell_type": "markdown",
   "source": [
    "### Data Initialization"
   ],
   "metadata": {
    "collapsed": false
   },
   "id": "f01004a8a9bd4f41"
  },
  {
   "cell_type": "code",
   "outputs": [],
   "source": [
    "DATA_DIR = os.path.join(os.getcwd(), 'data/Instacart')\n",
    "\n",
    "op_prior = pd.read_csv(os.path.join(DATA_DIR, 'order_products__prior.csv.zip'))\n",
    "op_train = pd.read_csv(os.path.join(DATA_DIR, 'order_products__train.csv.zip'))\n",
    "\n",
    "tip_train = pd.read_csv(os.path.join(DATA_DIR, 'tip_trainingsdaten1_.csv'))[['order_id', 'tip']]\n",
    "tip_test = pd.read_csv(os.path.join(DATA_DIR, 'tip_testdaten1_template.csv'))\n",
    "\n",
    "orders = pd.read_csv(os.path.join(DATA_DIR, 'orders.csv.zip'))\n",
    "aisles = pd.read_csv(os.path.join(DATA_DIR, 'aisles.csv.zip'))\n",
    "departments = pd.read_csv(os.path.join(DATA_DIR, 'departments.csv.zip'))\n",
    "products = pd.read_csv(os.path.join(DATA_DIR, 'products.csv.zip'))\n",
    "\n",
    "data_manager = DataManager(op_prior, op_train, tip_train, tip_test, orders, products, aisles, departments)\n",
    "order_amount = len(data_manager.get_orders_tip())"
   ],
   "metadata": {
    "collapsed": false
   },
   "id": "6d087439f344afb8"
  },
  {
   "cell_type": "markdown",
   "source": [
    "### Data Analysis\n",
    "Several Analysis were done to find any tip patterns in the data. The purpose of this analysis is to find specific features that are relevant for the prediction of tip. To find out which attributes have a significant influence on the tip, several analysis task were executed."
   ],
   "metadata": {
    "collapsed": false
   },
   "id": "3ebfcf4c1ccd36b6"
  },
  {
   "cell_type": "code",
   "outputs": [],
   "source": [
    "from analysis import Analysis, HourOfDay, DayOfWeek, Department, ReorderedAnalysis, DaysSincePriorOrder, AssocRules, TipSequence, OrderNumber, Aisle, Product, NumberOrderUser, ProductCardOrder, GeneralAnalysis, GeneralFacts"
   ],
   "metadata": {
    "collapsed": false
   },
   "id": "6813fae2e9135478"
  },
  {
   "cell_type": "markdown",
   "source": [
    "TODO: Describe here your analysis task. What is the analysis about, any assumptions before? What did we expect?\n",
    "TODO: Describe the results also here in this Markdown\n",
    "\n",
    "\n",
    "\n",
    "#### Analysis Task Name\n",
    "**Analysis:**\n",
    "\n",
    "**Result Interpretation:**"
   ],
   "metadata": {
    "collapsed": false
   },
   "id": "e3f5bbaef8af6b1f"
  },
  {
   "cell_type": "code",
   "outputs": [],
   "source": [
    "# TODO: Initialize your analysis instance\n",
    "# TODO: Produce your output"
   ],
   "metadata": {
    "collapsed": false,
    "ExecuteTime": {
     "end_time": "2024-06-21T12:50:42.195794Z",
     "start_time": "2024-06-21T12:50:42.192890Z"
    }
   },
   "id": "6731b94840f05f55",
   "execution_count": 1
  },
  {
   "cell_type": "markdown",
   "source": [
    "#### General Facts\n",
    "**Analysis:** For data understanding and getting familiar with the data set and the overall relations between the main entities, some general facts about the dataset were collected. Therefore several facts has been calculated containing the different entities and there relations.\n",
    "\n",
    "**Result Interpretations:** The results are important to clarify weather the calculations fit with the overall facts of the dataset and do not contain any calculation errors or changed the dataset."
   ],
   "metadata": {
    "collapsed": false
   },
   "id": "27b016974dcbb00"
  },
  {
   "cell_type": "code",
   "outputs": [],
   "source": [
    "general_facts = GeneralFacts(data_manager)\n",
    "general_facts.execute_analysis()"
   ],
   "metadata": {
    "collapsed": false
   },
   "id": "8a667c51f004dae0"
  },
  {
   "cell_type": "markdown",
   "source": [
    "#### Add to card order analysis per Product\n",
    "**Analysis:** To find out weather the add to card order of a specific product has an impact on the tip probability of that product, an analysis task has been created which calculates the tip probability of the products in dependence of the add_to_cart_order.\n",
    "\n",
    "**Result Interpretations:** In the boxplot below."
   ],
   "metadata": {
    "collapsed": false
   },
   "id": "1ae94ce2f8e6c645"
  },
  {
   "cell_type": "markdown",
   "source": [
    "### Feature Engineering\n",
    "With the results of the general analysis task and our specific assumptions of any correlation between tip and various data combinations, We built a few features that we think will make a potential impact"
   ],
   "metadata": {
    "collapsed": false
   },
   "id": "47d8a3675a70e937"
  }
 ],
 "metadata": {
  "kernelspec": {
   "display_name": "Python 3",
   "language": "python",
   "name": "python3"
  },
  "language_info": {
   "codemirror_mode": {
    "name": "ipython",
    "version": 2
   },
   "file_extension": ".py",
   "mimetype": "text/x-python",
   "name": "python",
   "nbconvert_exporter": "python",
   "pygments_lexer": "ipython2",
   "version": "2.7.6"
  }
 },
 "nbformat": 4,
 "nbformat_minor": 5
}
